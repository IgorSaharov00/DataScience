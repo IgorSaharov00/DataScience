{
 "cells": [
  {
   "cell_type": "markdown",
   "metadata": {
    "toc": true
   },
   "source": [
    "<h1>Содержание<span class=\"tocSkip\"></span></h1>\n",
    "<div class=\"toc\"><ul class=\"toc-item\"><li><span><a href=\"#Библиотеки\" data-toc-modified-id=\"Библиотеки-1\"><span class=\"toc-item-num\">1&nbsp;&nbsp;</span>Библиотеки</a></span></li><li><span><a href=\"#Загрузка-данных\" data-toc-modified-id=\"Загрузка-данных-2\"><span class=\"toc-item-num\">2&nbsp;&nbsp;</span>Загрузка данных</a></span><ul class=\"toc-item\"><li><span><a href=\"#Вывод\" data-toc-modified-id=\"Вывод-2.1\"><span class=\"toc-item-num\">2.1&nbsp;&nbsp;</span>Вывод</a></span></li></ul></li><li><span><a href=\"#Поиск-метода-преобразования-данных\" data-toc-modified-id=\"Поиск-метода-преобразования-данных-3\"><span class=\"toc-item-num\">3&nbsp;&nbsp;</span>Поиск метода преобразования данных</a></span></li><li><span><a href=\"#Алгоритм-преобразования\" data-toc-modified-id=\"Алгоритм-преобразования-4\"><span class=\"toc-item-num\">4&nbsp;&nbsp;</span>Алгоритм преобразования</a></span></li><li><span><a href=\"#Проверка-алгоритма\" data-toc-modified-id=\"Проверка-алгоритма-5\"><span class=\"toc-item-num\">5&nbsp;&nbsp;</span>Проверка алгоритма</a></span><ul class=\"toc-item\"><li><span><a href=\"#Вывод\" data-toc-modified-id=\"Вывод-5.1\"><span class=\"toc-item-num\">5.1&nbsp;&nbsp;</span>Вывод</a></span></li></ul></li><li><span><a href=\"#Общий-вывод\" data-toc-modified-id=\"Общий-вывод-6\"><span class=\"toc-item-num\">6&nbsp;&nbsp;</span>Общий вывод</a></span></li></ul></div>"
   ]
  },
  {
   "cell_type": "markdown",
   "metadata": {},
   "source": [
    "# Защита персональных данных клиентов"
   ]
  },
  {
   "cell_type": "markdown",
   "metadata": {},
   "source": [
    "Нужно защитить данные клиентов страховой компании «Хоть потоп». Необходимо разработать такой метод преобразования данных, чтобы по ним было сложно восстановить персональную информацию и обосновать корректность его работы.\n",
    "\n",
    "Нужно защитить данные, чтобы при преобразовании качество моделей машинного обучения не ухудшилось. Подбирать наилучшую модель не требуется."
   ]
  },
  {
   "cell_type": "markdown",
   "metadata": {},
   "source": [
    "## Библиотеки"
   ]
  },
  {
   "cell_type": "code",
   "execution_count": 1,
   "metadata": {},
   "outputs": [],
   "source": [
    "# импорты из стандартной библиотеки\n",
    "import os\n",
    "import warnings\n",
    "\n",
    "# импорты сторонних библиотек\n",
    "import numpy as np\n",
    "import pandas as pd\n",
    "\n",
    "# импорты модулей текущего проекта\n",
    "from sklearn.model_selection import train_test_split\n",
    "from sklearn.linear_model import LinearRegression\n",
    "from sklearn.metrics import r2_score\n",
    "\n",
    "# настройки\n",
    "warnings.filterwarnings(\"ignore\")\n",
    "\n",
    "# константы заглавными буквами\n",
    "RANDOM_STATE = 0\n",
    "PATH = PATH = 'C:/Users/igors/OneDrive/Рабочий стол/Портфолио/9. Защита персональных данных клиентов/insurance.csv'"
   ]
  },
  {
   "cell_type": "markdown",
   "metadata": {},
   "source": [
    "## Загрузка данных"
   ]
  },
  {
   "cell_type": "markdown",
   "metadata": {},
   "source": [
    "Загрузим и просмотрим данные"
   ]
  },
  {
   "cell_type": "code",
   "execution_count": 2,
   "metadata": {},
   "outputs": [],
   "source": [
    "if os.path.exists(PATH):\n",
    "    data = pd.read_csv(PATH)\n",
    "else:\n",
    "    print('Ошибка в считывании данных')"
   ]
  },
  {
   "cell_type": "code",
   "execution_count": 3,
   "metadata": {
    "scrolled": true
   },
   "outputs": [
    {
     "data": {
      "text/html": [
       "<div>\n",
       "<style scoped>\n",
       "    .dataframe tbody tr th:only-of-type {\n",
       "        vertical-align: middle;\n",
       "    }\n",
       "\n",
       "    .dataframe tbody tr th {\n",
       "        vertical-align: top;\n",
       "    }\n",
       "\n",
       "    .dataframe thead th {\n",
       "        text-align: right;\n",
       "    }\n",
       "</style>\n",
       "<table border=\"1\" class=\"dataframe\">\n",
       "  <thead>\n",
       "    <tr style=\"text-align: right;\">\n",
       "      <th></th>\n",
       "      <th>Пол</th>\n",
       "      <th>Возраст</th>\n",
       "      <th>Зарплата</th>\n",
       "      <th>Члены семьи</th>\n",
       "      <th>Страховые выплаты</th>\n",
       "    </tr>\n",
       "  </thead>\n",
       "  <tbody>\n",
       "    <tr>\n",
       "      <th>0</th>\n",
       "      <td>1</td>\n",
       "      <td>41.0</td>\n",
       "      <td>49600.0</td>\n",
       "      <td>1</td>\n",
       "      <td>0</td>\n",
       "    </tr>\n",
       "    <tr>\n",
       "      <th>1</th>\n",
       "      <td>0</td>\n",
       "      <td>46.0</td>\n",
       "      <td>38000.0</td>\n",
       "      <td>1</td>\n",
       "      <td>1</td>\n",
       "    </tr>\n",
       "    <tr>\n",
       "      <th>2</th>\n",
       "      <td>0</td>\n",
       "      <td>29.0</td>\n",
       "      <td>21000.0</td>\n",
       "      <td>0</td>\n",
       "      <td>0</td>\n",
       "    </tr>\n",
       "    <tr>\n",
       "      <th>3</th>\n",
       "      <td>0</td>\n",
       "      <td>21.0</td>\n",
       "      <td>41700.0</td>\n",
       "      <td>2</td>\n",
       "      <td>0</td>\n",
       "    </tr>\n",
       "    <tr>\n",
       "      <th>4</th>\n",
       "      <td>1</td>\n",
       "      <td>28.0</td>\n",
       "      <td>26100.0</td>\n",
       "      <td>0</td>\n",
       "      <td>0</td>\n",
       "    </tr>\n",
       "  </tbody>\n",
       "</table>\n",
       "</div>"
      ],
      "text/plain": [
       "   Пол  Возраст  Зарплата  Члены семьи  Страховые выплаты\n",
       "0    1     41.0   49600.0            1                  0\n",
       "1    0     46.0   38000.0            1                  1\n",
       "2    0     29.0   21000.0            0                  0\n",
       "3    0     21.0   41700.0            2                  0\n",
       "4    1     28.0   26100.0            0                  0"
      ]
     },
     "execution_count": 3,
     "metadata": {},
     "output_type": "execute_result"
    }
   ],
   "source": [
    "data.head()"
   ]
  },
  {
   "cell_type": "code",
   "execution_count": 4,
   "metadata": {
    "scrolled": false
   },
   "outputs": [
    {
     "name": "stdout",
     "output_type": "stream",
     "text": [
      "<class 'pandas.core.frame.DataFrame'>\n",
      "RangeIndex: 5000 entries, 0 to 4999\n",
      "Data columns (total 5 columns):\n",
      " #   Column             Non-Null Count  Dtype  \n",
      "---  ------             --------------  -----  \n",
      " 0   Пол                5000 non-null   int64  \n",
      " 1   Возраст            5000 non-null   float64\n",
      " 2   Зарплата           5000 non-null   float64\n",
      " 3   Члены семьи        5000 non-null   int64  \n",
      " 4   Страховые выплаты  5000 non-null   int64  \n",
      "dtypes: float64(2), int64(3)\n",
      "memory usage: 195.4 KB\n"
     ]
    }
   ],
   "source": [
    "data.info()"
   ]
  },
  {
   "cell_type": "markdown",
   "metadata": {},
   "source": [
    "Очевидно, что в данных нет пропусков"
   ]
  },
  {
   "cell_type": "code",
   "execution_count": 5,
   "metadata": {
    "scrolled": true
   },
   "outputs": [
    {
     "data": {
      "text/html": [
       "<div>\n",
       "<style scoped>\n",
       "    .dataframe tbody tr th:only-of-type {\n",
       "        vertical-align: middle;\n",
       "    }\n",
       "\n",
       "    .dataframe tbody tr th {\n",
       "        vertical-align: top;\n",
       "    }\n",
       "\n",
       "    .dataframe thead th {\n",
       "        text-align: right;\n",
       "    }\n",
       "</style>\n",
       "<table border=\"1\" class=\"dataframe\">\n",
       "  <thead>\n",
       "    <tr style=\"text-align: right;\">\n",
       "      <th></th>\n",
       "      <th>Возраст</th>\n",
       "      <th>Зарплата</th>\n",
       "      <th>Члены семьи</th>\n",
       "      <th>Страховые выплаты</th>\n",
       "    </tr>\n",
       "  </thead>\n",
       "  <tbody>\n",
       "    <tr>\n",
       "      <th>count</th>\n",
       "      <td>5000.000000</td>\n",
       "      <td>5000.000000</td>\n",
       "      <td>5000.000000</td>\n",
       "      <td>5000.000000</td>\n",
       "    </tr>\n",
       "    <tr>\n",
       "      <th>mean</th>\n",
       "      <td>30.952800</td>\n",
       "      <td>39916.360000</td>\n",
       "      <td>1.194200</td>\n",
       "      <td>0.148000</td>\n",
       "    </tr>\n",
       "    <tr>\n",
       "      <th>std</th>\n",
       "      <td>8.440807</td>\n",
       "      <td>9900.083569</td>\n",
       "      <td>1.091387</td>\n",
       "      <td>0.463183</td>\n",
       "    </tr>\n",
       "    <tr>\n",
       "      <th>min</th>\n",
       "      <td>18.000000</td>\n",
       "      <td>5300.000000</td>\n",
       "      <td>0.000000</td>\n",
       "      <td>0.000000</td>\n",
       "    </tr>\n",
       "    <tr>\n",
       "      <th>25%</th>\n",
       "      <td>24.000000</td>\n",
       "      <td>33300.000000</td>\n",
       "      <td>0.000000</td>\n",
       "      <td>0.000000</td>\n",
       "    </tr>\n",
       "    <tr>\n",
       "      <th>50%</th>\n",
       "      <td>30.000000</td>\n",
       "      <td>40200.000000</td>\n",
       "      <td>1.000000</td>\n",
       "      <td>0.000000</td>\n",
       "    </tr>\n",
       "    <tr>\n",
       "      <th>75%</th>\n",
       "      <td>37.000000</td>\n",
       "      <td>46600.000000</td>\n",
       "      <td>2.000000</td>\n",
       "      <td>0.000000</td>\n",
       "    </tr>\n",
       "    <tr>\n",
       "      <th>max</th>\n",
       "      <td>65.000000</td>\n",
       "      <td>79000.000000</td>\n",
       "      <td>6.000000</td>\n",
       "      <td>5.000000</td>\n",
       "    </tr>\n",
       "  </tbody>\n",
       "</table>\n",
       "</div>"
      ],
      "text/plain": [
       "           Возраст      Зарплата  Члены семьи  Страховые выплаты\n",
       "count  5000.000000   5000.000000  5000.000000        5000.000000\n",
       "mean     30.952800  39916.360000     1.194200           0.148000\n",
       "std       8.440807   9900.083569     1.091387           0.463183\n",
       "min      18.000000   5300.000000     0.000000           0.000000\n",
       "25%      24.000000  33300.000000     0.000000           0.000000\n",
       "50%      30.000000  40200.000000     1.000000           0.000000\n",
       "75%      37.000000  46600.000000     2.000000           0.000000\n",
       "max      65.000000  79000.000000     6.000000           5.000000"
      ]
     },
     "execution_count": 5,
     "metadata": {},
     "output_type": "execute_result"
    }
   ],
   "source": [
    "data.drop(['Пол'], axis=1).describe()"
   ]
  },
  {
   "cell_type": "code",
   "execution_count": 6,
   "metadata": {},
   "outputs": [
    {
     "data": {
      "text/plain": [
       "array([[<AxesSubplot:title={'center':'Возраст'}>,\n",
       "        <AxesSubplot:title={'center':'Зарплата'}>],\n",
       "       [<AxesSubplot:title={'center':'Члены семьи'}>,\n",
       "        <AxesSubplot:title={'center':'Страховые выплаты'}>]], dtype=object)"
      ]
     },
     "execution_count": 6,
     "metadata": {},
     "output_type": "execute_result"
    },
    {
     "data": {
      "image/png": "[encoded data removed]",
      "text/plain": [
       "<Figure size 432x288 with 4 Axes>"
      ]
     },
     "metadata": {
      "needs_background": "light"
     },
     "output_type": "display_data"
    }
   ],
   "source": [
    "data.drop(['Пол'], axis=1).hist()"
   ]
  },
  {
   "cell_type": "markdown",
   "metadata": {},
   "source": [
    "По статистическому описанию видно, что количество детей больше двух являетсяя редким, как ненулевое количество страховых выплат. Распределние возраста похоже на распределение Пуассона, распределение зарплат - на нормальное."
   ]
  },
  {
   "cell_type": "code",
   "execution_count": 7,
   "metadata": {
    "scrolled": false
   },
   "outputs": [
    {
     "data": {
      "text/html": [
       "<div>\n",
       "<style scoped>\n",
       "    .dataframe tbody tr th:only-of-type {\n",
       "        vertical-align: middle;\n",
       "    }\n",
       "\n",
       "    .dataframe tbody tr th {\n",
       "        vertical-align: top;\n",
       "    }\n",
       "\n",
       "    .dataframe thead th {\n",
       "        text-align: right;\n",
       "    }\n",
       "</style>\n",
       "<table border=\"1\" class=\"dataframe\">\n",
       "  <thead>\n",
       "    <tr style=\"text-align: right;\">\n",
       "      <th></th>\n",
       "      <th>Пол</th>\n",
       "      <th>Возраст</th>\n",
       "      <th>Зарплата</th>\n",
       "      <th>Члены семьи</th>\n",
       "      <th>Страховые выплаты</th>\n",
       "    </tr>\n",
       "  </thead>\n",
       "  <tbody>\n",
       "    <tr>\n",
       "      <th>Пол</th>\n",
       "      <td>1.000000</td>\n",
       "      <td>0.002074</td>\n",
       "      <td>0.014910</td>\n",
       "      <td>-0.008991</td>\n",
       "      <td>0.010140</td>\n",
       "    </tr>\n",
       "    <tr>\n",
       "      <th>Возраст</th>\n",
       "      <td>0.002074</td>\n",
       "      <td>1.000000</td>\n",
       "      <td>-0.019093</td>\n",
       "      <td>-0.006692</td>\n",
       "      <td>0.651030</td>\n",
       "    </tr>\n",
       "    <tr>\n",
       "      <th>Зарплата</th>\n",
       "      <td>0.014910</td>\n",
       "      <td>-0.019093</td>\n",
       "      <td>1.000000</td>\n",
       "      <td>-0.030296</td>\n",
       "      <td>-0.014963</td>\n",
       "    </tr>\n",
       "    <tr>\n",
       "      <th>Члены семьи</th>\n",
       "      <td>-0.008991</td>\n",
       "      <td>-0.006692</td>\n",
       "      <td>-0.030296</td>\n",
       "      <td>1.000000</td>\n",
       "      <td>-0.036290</td>\n",
       "    </tr>\n",
       "    <tr>\n",
       "      <th>Страховые выплаты</th>\n",
       "      <td>0.010140</td>\n",
       "      <td>0.651030</td>\n",
       "      <td>-0.014963</td>\n",
       "      <td>-0.036290</td>\n",
       "      <td>1.000000</td>\n",
       "    </tr>\n",
       "  </tbody>\n",
       "</table>\n",
       "</div>"
      ],
      "text/plain": [
       "                        Пол   Возраст  Зарплата  Члены семьи  \\\n",
       "Пол                1.000000  0.002074  0.014910    -0.008991   \n",
       "Возраст            0.002074  1.000000 -0.019093    -0.006692   \n",
       "Зарплата           0.014910 -0.019093  1.000000    -0.030296   \n",
       "Члены семьи       -0.008991 -0.006692 -0.030296     1.000000   \n",
       "Страховые выплаты  0.010140  0.651030 -0.014963    -0.036290   \n",
       "\n",
       "                   Страховые выплаты  \n",
       "Пол                         0.010140  \n",
       "Возраст                     0.651030  \n",
       "Зарплата                   -0.014963  \n",
       "Члены семьи                -0.036290  \n",
       "Страховые выплаты           1.000000  "
      ]
     },
     "execution_count": 7,
     "metadata": {},
     "output_type": "execute_result"
    }
   ],
   "source": [
    "data.corr()"
   ]
  },
  {
   "cell_type": "markdown",
   "metadata": {},
   "source": [
    "Есть слабая зависимоть между количеством страховых выплат и возрастом клиента, но её не достаточно, чтобы говорить о мультиколлинеарности."
   ]
  },
  {
   "cell_type": "code",
   "execution_count": 8,
   "metadata": {},
   "outputs": [
    {
     "data": {
      "text/plain": [
       "153"
      ]
     },
     "execution_count": 8,
     "metadata": {},
     "output_type": "execute_result"
    }
   ],
   "source": [
    "data.duplicated().sum()"
   ]
  },
  {
   "cell_type": "markdown",
   "metadata": {},
   "source": [
    "Хотя в датафрейме есть дубликаты, их не стоит удалять, так как у разных клиентов могут быть одинаковые данные."
   ]
  },
  {
   "cell_type": "markdown",
   "metadata": {},
   "source": [
    "### Вывод"
   ]
  },
  {
   "cell_type": "markdown",
   "metadata": {},
   "source": [
    "В ходе изучения данных было выявлено, что\n",
    " - что в данных нет пропусков;\n",
    " - что количество детей болше двух и ненулевое количество страховых выплат - это редкость;\n",
    " - зарплата имеет нормальное распределение, возраст - распределение Пуассона."
   ]
  },
  {
   "cell_type": "markdown",
   "metadata": {},
   "source": [
    "## Поиск метода преобразования данных"
   ]
  },
  {
   "cell_type": "markdown",
   "metadata": {},
   "source": [
    "Принцип линейной регрессии.\n",
    "\n",
    "- $X$ — матрица признаков (нулевой столбец состоит из единиц)\n",
    "\n",
    "- $y$ — вектор целевого признака\n",
    "\n",
    "- $P$ — матрица, на которую умножаются признаки\n",
    "\n",
    "- $w$ — вектор весов линейной регрессии (нулевой элемент равен сдвигу)\n",
    "\n",
    "Предсказания:\n",
    "\n",
    "$$\n",
    "a = Xw\n",
    "$$\n",
    "\n",
    "Задача обучения:\n",
    "\n",
    "$$\n",
    "w = \\arg\\min_w MSE(Xw, y)\n",
    "$$\n",
    "\n",
    "Формула обучения:\n",
    "\n",
    "$$\n",
    "w = (X^T X)^{-1} X^T y\n",
    "$$"
   ]
  },
  {
   "cell_type": "markdown",
   "metadata": {},
   "source": [
    " **При умножении признаков на обратимую матрицу качество линейной регрессии не изменится.**"
   ]
  },
  {
   "cell_type": "markdown",
   "metadata": {},
   "source": [
    "**Обоснование**. Пусть $X$ — матрица признаков $m \\times n$, $I$ — обратимая матрица $n \\times n$, $a, w$ - предсказания и веса исходной линейной регресси соответственно. Обозначим $a^I$ предсказания линейной регрессии после умножения $X$ на $I$: \n",
    "$$\n",
    "a^I = XIw^I,\n",
    "$$\n",
    "где $w^I$ — новый вектор весов линейной регрессии. Тогда согласно формуле обучения\n",
    "$$\n",
    "w^I = \\left( \\left( XI \\right)^T \\left( XI \\right) \\right)^{-1} \\left( XI \\right)^T y =  \\left( I^T \\left( X^T X \\right) I \\right)^{-1} I^T X^T y = I^{-1} \\left( X^T X \\right)^{-1} (I^T)^{-1} I^T X^T y = I^{-1} \\left( X^T X \\right)^{-1} X^T y = I^{-1} w,\n",
    "$$\n",
    "откуда\n",
    "\n",
    "$$\n",
    "a^I = X I w^I = X I I^{-1} w = X w = a.\n",
    "$$\n",
    "\n",
    "Таким образом, предсказания линейной регресси не изменятся, следовательно, не изменится и её качество."
   ]
  },
  {
   "cell_type": "markdown",
   "metadata": {},
   "source": [
    "## Алгоритм преобразования"
   ]
  },
  {
   "cell_type": "markdown",
   "metadata": {},
   "source": [
    "**Алгоритм**\n",
    "\n",
    "Входные данные: $X_t$ — матрица признаков для обучения, $X_v$ — матрица признаков для проверки качества линейной регрессии, $y_t$ — вектор целевого признака для обучения, $y_v$ — вектор целевого признака для проверки качества.\n",
    "\n",
    "Выходные данные: $X_t^I$ — преобразованная признаковая матрица для обучения, $X_v^I$ — преобразованная признаковая матрица для проверки качества линейной регрессии, $I^{-1}$ — декодирующая матрица, $score$ — значение метрики $R^2$ линейной регрессии на исходных данных, $score^I$ — значение метрики $R^2$ линейной регрессии на преобразованных данных, $result$ — результат сравнения метрик $R^2$ полученных моделей. \n",
    "\n",
    "1. Определить $n$ - количество столбцов матрицы $X$.\n",
    "2. Сгенерировать случайнум образом квадратную матрицу $I$ размера $n \\times n$; диапазон значений матрицы - $[0, 99] \\in \\mathbb{N}_0$.\n",
    "3. Проверить $I$ на обратимость: \n",
    "    - определить $det I$;\n",
    "    - если $det I = 0$, вернуться к п. 2.\n",
    "4. Рассчитать $I^{-1}$\n",
    "5. Рассчитать $X_t^I = X_tI$.\n",
    "5. Рассчитать $X_v^I = X_vI$.\n",
    "6. Обучить модель линейной регрессии $model$ на $X_t$ и $y_t$.\n",
    "7. Получить $predict$ — предсказание модели $model1$ для $X_v$.\n",
    "8. Рассчитать $score$ — значение метрики $R^2$ для $model$.\n",
    "9. Обучить модель линейной регрессии $model^I$ на $X_t^I$ и $y_t$.\n",
    "10. Получить $predict^I$ — предсказание модели $model^I$ для $X_v$.\n",
    "11. Рассчитать $score^I$ — значение метрики $R^2$ для $model^I$.\n",
    "12. Вывести $score$ и $score^I$.\n",
    "12. Сравнить $score$ и $score^I$:\n",
    "    - если $score = score^I$, вывести $result =$ 'Качество линейной регресси не изменилось', перейти к п. 15;\n",
    "    - если $score \\neq score^I$, вывести $result =$ 'Качество линейной регресси изменилось', завершить алгоритм.\n",
    "13. Вывести $I^{-1}$"
   ]
  },
  {
   "cell_type": "markdown",
   "metadata": {},
   "source": [
    "**Обоснование** сохранения качества линейной регрессии аналогично обоснованию из раздела 3."
   ]
  },
  {
   "cell_type": "markdown",
   "metadata": {},
   "source": [
    "**Примечание.** Возврат матрицы $I^{-1}$ производится для возможности последующего восстановления данных с помощью умножения матрицы преобразованных данных $X^I$ на $I^{-1}$."
   ]
  },
  {
   "cell_type": "markdown",
   "metadata": {},
   "source": [
    "**Замечание.** Не зная матрицы $I$ или $I^{-1}$, нельзя однозначно восстановить признаковую матрицу $X$ по матрице $X^I$."
   ]
  },
  {
   "cell_type": "markdown",
   "metadata": {},
   "source": [
    "## Проверка алгоритма"
   ]
  },
  {
   "cell_type": "markdown",
   "metadata": {},
   "source": [
    "Напишем функции, реализующие алгоритм из раздела 4."
   ]
  },
  {
   "cell_type": "code",
   "execution_count": 9,
   "metadata": {},
   "outputs": [],
   "source": [
    "def transform(X, I=None):\n",
    "    n = X.shape[1]\n",
    "    if I is None:\n",
    "        I = np.random.randint(0, 99, (n, n))\n",
    "        while np.linalg.det(I) == 0:\n",
    "            I = np.random.randint(0, 99, (n, n))\n",
    "    XI = X.values @ I\n",
    "    return XI, np.linalg.inv(I)"
   ]
  },
  {
   "cell_type": "code",
   "execution_count": 10,
   "metadata": {},
   "outputs": [],
   "source": [
    "def experiment(features_train, features_valid, target_train, target_valid):\n",
    "    features_train_encoded, I = transform(features_train)\n",
    "    features_valid_encoded, _ = transform(features_valid, np.linalg.inv(I))\n",
    "    \n",
    "    model_before = LinearRegression().fit(features_train, target_train)\n",
    "    predict_before = model_before.predict(features_valid)\n",
    "    score_before = r2_score(target_valid, predict_before)\n",
    "\n",
    "    model_after = LinearRegression().fit(features_train_encoded, target_train)\n",
    "    predict_after = model_after.predict(features_valid_encoded)\n",
    "    score_after = r2_score(target_valid, predict_after)\n",
    "    \n",
    "    print(f'Качество модели до преобразования признаков: {score_before:%}')\n",
    "    print(f'Качество модели после преобразования признаков: {score_after:%}')\n",
    "    \n",
    "    #Из-за особенностей хранения float без округления получается, что значния не равны\n",
    "    if round(score_before, 8) == round(score_after, 8):   \n",
    "        print('Качество линейной регресси на исходных и преобразованных данных совападет.')\n",
    "        print('Декодирующая матрица:')\n",
    "        print(I)\n",
    "    else:\n",
    "        print('Качество линейной регресси на исходных и преобразованных данных не совападет.')"
   ]
  },
  {
   "cell_type": "markdown",
   "metadata": {},
   "source": [
    "Разделим данные на признаки, целевой признак, а затем сформируем обучающие и валидационные выборки."
   ]
  },
  {
   "cell_type": "code",
   "execution_count": 11,
   "metadata": {},
   "outputs": [],
   "source": [
    "features = data.drop(['Страховые выплаты'], axis=1)\n",
    "target = data['Страховые выплаты']\n",
    "features_train, features_valid, target_train, target_valid = train_test_split(features, \n",
    "                                                                              target, \n",
    "                                                                              test_size=0.25, \n",
    "                                                                              random_state=RANDOM_STATE)"
   ]
  },
  {
   "cell_type": "markdown",
   "metadata": {},
   "source": [
    "Проверим качество линейной регресси на исходных признаках и на преобразованных. Сохраним декодирующую матрицу,"
   ]
  },
  {
   "cell_type": "code",
   "execution_count": 12,
   "metadata": {},
   "outputs": [
    {
     "name": "stdout",
     "output_type": "stream",
     "text": [
      "Качество модели до преобразования признаков: 38.787396%\n",
      "Качество модели после преобразования признаков: 38.787396%\n",
      "Качество линейной регресси на исходных и преобразованных данных совападет.\n",
      "Декодирующая матрица:\n",
      "[[-0.01880826  0.01011979  0.00081961  0.02199453]\n",
      " [-0.00880593  0.01425541  0.02208396 -0.03948604]\n",
      " [ 0.01063889  0.00546768 -0.00965068  0.00084778]\n",
      " [ 0.01040325 -0.01590604 -0.00297287  0.02157916]]\n"
     ]
    }
   ],
   "source": [
    "experiment(features_train, features_valid, target_train, target_valid)"
   ]
  },
  {
   "cell_type": "markdown",
   "metadata": {},
   "source": [
    "### Вывод"
   ]
  },
  {
   "cell_type": "markdown",
   "metadata": {},
   "source": [
    "Эксперимент подтвердил теорию: качество линейной регрессии, обученной на исходных данных, равняется с качеству линейной регресси, обученной на преобразованных данных."
   ]
  },
  {
   "cell_type": "markdown",
   "metadata": {},
   "source": [
    "## Общий вывод"
   ]
  },
  {
   "cell_type": "markdown",
   "metadata": {},
   "source": [
    "В ходе работы\n",
    " - были загружены, изучены и предобработаны данные;\n",
    " - был разработан метод шифрования данных, устойчивым к атакам;\n",
    " - было теоретически обосновано, что качество линейной регресси, обученной на исходных данных, сохраняется для преобразованных;\n",
    " - был написан алогритм шифорвания и проведения эксперимента;\n",
    " - были написаны функции, реализующая алгоритм;\n",
    " - теоретические результаты о сохранении качества линейной регресси были подтверждены практически."
   ]
  },
  {
   "cell_type": "code",
   "execution_count": null,
   "metadata": {},
   "outputs": [],
   "source": []
  }
 ],
 "metadata": {
  "ExecuteTimeLog": [
   {
    "duration": 1253,
    "start_time": "2023-02-08T01:24:39.207Z"
   },
   {
    "duration": 150,
    "start_time": "2023-02-08T01:24:47.479Z"
   },
   {
    "duration": 17,
    "start_time": "2023-02-08T01:24:52.481Z"
   },
   {
    "duration": 113,
    "start_time": "2023-02-08T01:24:55.433Z"
   },
   {
    "duration": 20,
    "start_time": "2023-02-08T01:24:56.892Z"
   },
   {
    "duration": 6,
    "start_time": "2023-02-08T01:25:31.341Z"
   },
   {
    "duration": 14,
    "start_time": "2023-02-08T01:59:31.469Z"
   },
   {
    "duration": 4,
    "start_time": "2023-02-08T01:59:34.401Z"
   },
   {
    "duration": 38,
    "start_time": "2023-02-08T01:59:35.253Z"
   },
   {
    "duration": 12,
    "start_time": "2023-02-08T01:59:36.048Z"
   },
   {
    "duration": 5,
    "start_time": "2023-02-08T03:53:04.013Z"
   },
   {
    "duration": 107,
    "start_time": "2023-02-08T03:54:34.159Z"
   },
   {
    "duration": 4,
    "start_time": "2023-02-08T03:54:39.578Z"
   },
   {
    "duration": 5,
    "start_time": "2023-02-08T04:01:24.862Z"
   },
   {
    "duration": 13,
    "start_time": "2023-02-08T04:04:55.911Z"
   },
   {
    "duration": 6,
    "start_time": "2023-02-08T04:05:03.516Z"
   },
   {
    "duration": 14,
    "start_time": "2023-02-08T04:05:07.440Z"
   },
   {
    "duration": 7,
    "start_time": "2023-02-08T04:05:14.236Z"
   },
   {
    "duration": 26,
    "start_time": "2023-02-08T04:10:05.981Z"
   },
   {
    "duration": 22,
    "start_time": "2023-02-08T04:10:15.974Z"
   },
   {
    "duration": 27,
    "start_time": "2023-02-08T04:12:02.769Z"
   },
   {
    "duration": 22,
    "start_time": "2023-02-08T04:14:47.318Z"
   },
   {
    "duration": 25,
    "start_time": "2023-02-08T04:24:46.006Z"
   },
   {
    "duration": 19,
    "start_time": "2023-02-08T04:28:00.015Z"
   },
   {
    "duration": 16,
    "start_time": "2023-02-08T04:28:24.785Z"
   },
   {
    "duration": 30,
    "start_time": "2023-02-08T04:28:30.379Z"
   },
   {
    "duration": 29,
    "start_time": "2023-02-08T04:28:54.766Z"
   },
   {
    "duration": 1601,
    "start_time": "2023-02-08T04:29:29.420Z"
   },
   {
    "duration": 21,
    "start_time": "2023-02-08T04:29:45.114Z"
   },
   {
    "duration": 23,
    "start_time": "2023-02-08T04:29:57.108Z"
   },
   {
    "duration": 48,
    "start_time": "2023-02-08T04:32:38.647Z"
   },
   {
    "duration": 22,
    "start_time": "2023-02-08T04:32:49.113Z"
   },
   {
    "duration": 14,
    "start_time": "2023-02-08T04:33:12.607Z"
   },
   {
    "duration": 90,
    "start_time": "2023-02-08T04:33:18.047Z"
   },
   {
    "duration": 25,
    "start_time": "2023-02-08T04:33:20.986Z"
   },
   {
    "duration": 20,
    "start_time": "2023-02-08T04:33:41.926Z"
   },
   {
    "duration": 22,
    "start_time": "2023-02-08T04:34:10.788Z"
   },
   {
    "duration": 21,
    "start_time": "2023-02-08T04:35:01.250Z"
   },
   {
    "duration": 39,
    "start_time": "2023-02-08T04:35:09.843Z"
   },
   {
    "duration": 5,
    "start_time": "2023-02-08T04:35:25.527Z"
   },
   {
    "duration": 5,
    "start_time": "2023-02-08T04:35:36.015Z"
   },
   {
    "duration": 19,
    "start_time": "2023-02-08T04:36:09.371Z"
   },
   {
    "duration": 3,
    "start_time": "2023-02-08T04:36:19.307Z"
   },
   {
    "duration": 31,
    "start_time": "2023-02-08T04:36:44.532Z"
   },
   {
    "duration": 25,
    "start_time": "2023-02-08T04:37:15.882Z"
   },
   {
    "duration": 19,
    "start_time": "2023-02-08T04:37:43.389Z"
   },
   {
    "duration": 14,
    "start_time": "2023-02-08T04:38:10.424Z"
   },
   {
    "duration": 17,
    "start_time": "2023-02-08T04:38:18.508Z"
   },
   {
    "duration": 1200,
    "start_time": "2023-02-08T04:40:00.182Z"
   },
   {
    "duration": 28,
    "start_time": "2023-02-08T04:40:01.384Z"
   },
   {
    "duration": 14,
    "start_time": "2023-02-08T04:40:01.414Z"
   },
   {
    "duration": 42,
    "start_time": "2023-02-08T04:40:01.429Z"
   },
   {
    "duration": 37,
    "start_time": "2023-02-08T04:40:01.474Z"
   },
   {
    "duration": 47,
    "start_time": "2023-02-08T04:40:01.513Z"
   },
   {
    "duration": 9,
    "start_time": "2023-02-09T13:55:45.495Z"
   },
   {
    "duration": 51,
    "start_time": "2023-02-09T13:55:45.984Z"
   },
   {
    "duration": 7,
    "start_time": "2023-02-09T13:57:39.174Z"
   },
   {
    "duration": 1192,
    "start_time": "2023-02-09T13:57:41.338Z"
   },
   {
    "duration": 89,
    "start_time": "2023-02-09T13:57:42.533Z"
   },
   {
    "duration": 18,
    "start_time": "2023-02-09T13:57:42.857Z"
   },
   {
    "duration": 13,
    "start_time": "2023-02-09T13:57:44.973Z"
   },
   {
    "duration": 5,
    "start_time": "2023-02-09T14:04:27.795Z"
   },
   {
    "duration": 8,
    "start_time": "2023-02-09T14:05:07.164Z"
   },
   {
    "duration": 4,
    "start_time": "2023-02-09T14:23:33.970Z"
   },
   {
    "duration": 30,
    "start_time": "2023-02-09T14:23:33.976Z"
   },
   {
    "duration": 9,
    "start_time": "2023-02-09T14:23:34.008Z"
   },
   {
    "duration": 22,
    "start_time": "2023-02-09T14:23:34.019Z"
   },
   {
    "duration": 9,
    "start_time": "2023-02-09T14:23:34.043Z"
   },
   {
    "duration": 10,
    "start_time": "2023-02-09T14:23:34.054Z"
   },
   {
    "duration": 23,
    "start_time": "2023-02-09T14:23:34.065Z"
   },
   {
    "duration": 1376,
    "start_time": "2023-02-10T03:59:50.903Z"
   },
   {
    "duration": 29,
    "start_time": "2023-02-10T03:59:52.282Z"
   },
   {
    "duration": 17,
    "start_time": "2023-02-10T03:59:52.313Z"
   },
   {
    "duration": 12,
    "start_time": "2023-02-10T03:59:52.332Z"
   },
   {
    "duration": 8,
    "start_time": "2023-02-10T03:59:52.345Z"
   },
   {
    "duration": 11,
    "start_time": "2023-02-10T03:59:52.355Z"
   },
   {
    "duration": 19,
    "start_time": "2023-02-10T03:59:52.368Z"
   },
   {
    "duration": 1168,
    "start_time": "2023-02-10T11:14:12.677Z"
   },
   {
    "duration": 109,
    "start_time": "2023-02-10T11:14:14.395Z"
   },
   {
    "duration": 17,
    "start_time": "2023-02-10T11:14:14.680Z"
   },
   {
    "duration": 14,
    "start_time": "2023-02-10T11:14:15.619Z"
   },
   {
    "duration": 30,
    "start_time": "2023-02-10T11:14:27.364Z"
   },
   {
    "duration": 11,
    "start_time": "2023-02-10T11:14:50.898Z"
   },
   {
    "duration": 8,
    "start_time": "2023-02-10T11:16:53.367Z"
   },
   {
    "duration": 6,
    "start_time": "2023-02-10T11:16:58.557Z"
   },
   {
    "duration": 101,
    "start_time": "2023-02-10T11:20:27.426Z"
   },
   {
    "duration": 20,
    "start_time": "2023-02-10T11:20:45.198Z"
   },
   {
    "duration": 15,
    "start_time": "2023-02-10T11:28:33.012Z"
   },
   {
    "duration": 6,
    "start_time": "2023-02-10T11:28:39.052Z"
   },
   {
    "duration": 4,
    "start_time": "2023-02-10T11:28:48.952Z"
   },
   {
    "duration": 7,
    "start_time": "2023-02-10T11:28:57.148Z"
   },
   {
    "duration": 11,
    "start_time": "2023-02-10T11:37:47.768Z"
   },
   {
    "duration": 806,
    "start_time": "2023-02-10T11:37:59.188Z"
   },
   {
    "duration": 3,
    "start_time": "2023-02-10T11:53:41.502Z"
   },
   {
    "duration": 6,
    "start_time": "2023-02-10T11:53:43.648Z"
   },
   {
    "duration": 173,
    "start_time": "2023-02-10T11:53:45.177Z"
   },
   {
    "duration": 14,
    "start_time": "2023-02-10T11:53:52.965Z"
   },
   {
    "duration": 9,
    "start_time": "2023-02-10T11:54:56.359Z"
   },
   {
    "duration": 13,
    "start_time": "2023-02-10T11:54:59.145Z"
   },
   {
    "duration": 4,
    "start_time": "2023-02-10T11:55:00.294Z"
   },
   {
    "duration": 102,
    "start_time": "2023-02-10T12:28:51.188Z"
   },
   {
    "duration": 3,
    "start_time": "2023-02-10T12:28:57.912Z"
   },
   {
    "duration": 3,
    "start_time": "2023-02-10T12:33:42.991Z"
   },
   {
    "duration": 77,
    "start_time": "2023-02-10T12:33:43.335Z"
   },
   {
    "duration": 5,
    "start_time": "2023-02-10T12:33:51.577Z"
   },
   {
    "duration": 20,
    "start_time": "2023-02-10T12:34:14.956Z"
   },
   {
    "duration": 4,
    "start_time": "2023-02-10T12:35:29.838Z"
   },
   {
    "duration": 4,
    "start_time": "2023-02-10T12:35:30.528Z"
   },
   {
    "duration": 6,
    "start_time": "2023-02-10T12:35:32.469Z"
   },
   {
    "duration": 18,
    "start_time": "2023-02-10T12:35:34.014Z"
   },
   {
    "duration": 4,
    "start_time": "2023-02-10T12:35:48.360Z"
   },
   {
    "duration": 5,
    "start_time": "2023-02-10T12:35:48.620Z"
   },
   {
    "duration": 6,
    "start_time": "2023-02-10T12:35:49.788Z"
   },
   {
    "duration": 18,
    "start_time": "2023-02-10T12:35:51.049Z"
   },
   {
    "duration": 3,
    "start_time": "2023-02-10T12:36:24.417Z"
   },
   {
    "duration": 5,
    "start_time": "2023-02-10T12:36:24.865Z"
   },
   {
    "duration": 6,
    "start_time": "2023-02-10T12:36:26.208Z"
   },
   {
    "duration": 18,
    "start_time": "2023-02-10T12:36:27.206Z"
   },
   {
    "duration": 3,
    "start_time": "2023-02-10T12:38:58.991Z"
   },
   {
    "duration": 4,
    "start_time": "2023-02-10T12:38:59.260Z"
   },
   {
    "duration": 6,
    "start_time": "2023-02-10T12:39:01.772Z"
   },
   {
    "duration": 10,
    "start_time": "2023-02-10T12:39:02.911Z"
   },
   {
    "duration": 5,
    "start_time": "2023-02-10T12:41:13.039Z"
   },
   {
    "duration": 6,
    "start_time": "2023-02-10T12:41:14.606Z"
   },
   {
    "duration": 13,
    "start_time": "2023-02-10T12:41:16.218Z"
   },
   {
    "duration": 4,
    "start_time": "2023-02-10T12:42:09.102Z"
   },
   {
    "duration": 5,
    "start_time": "2023-02-10T12:42:41.845Z"
   },
   {
    "duration": 6,
    "start_time": "2023-02-10T12:42:43.309Z"
   },
   {
    "duration": 13,
    "start_time": "2023-02-10T12:42:44.476Z"
   },
   {
    "duration": 1039,
    "start_time": "2023-02-10T12:43:30.440Z"
   },
   {
    "duration": 26,
    "start_time": "2023-02-10T12:43:31.481Z"
   },
   {
    "duration": 16,
    "start_time": "2023-02-10T12:43:31.509Z"
   },
   {
    "duration": 32,
    "start_time": "2023-02-10T12:43:31.527Z"
   },
   {
    "duration": 48,
    "start_time": "2023-02-10T12:43:31.561Z"
   },
   {
    "duration": 573,
    "start_time": "2023-02-10T12:43:31.610Z"
   },
   {
    "duration": 11,
    "start_time": "2023-02-10T12:43:32.185Z"
   },
   {
    "duration": 12,
    "start_time": "2023-02-10T12:43:32.197Z"
   },
   {
    "duration": 8,
    "start_time": "2023-02-10T12:43:32.210Z"
   },
   {
    "duration": 3,
    "start_time": "2023-02-10T12:43:32.220Z"
   },
   {
    "duration": 5,
    "start_time": "2023-02-10T12:43:32.236Z"
   },
   {
    "duration": 12,
    "start_time": "2023-02-10T12:43:32.242Z"
   },
   {
    "duration": 261,
    "start_time": "2023-02-10T12:43:32.256Z"
   },
   {
    "duration": 1069,
    "start_time": "2023-02-10T12:44:13.229Z"
   },
   {
    "duration": 25,
    "start_time": "2023-02-10T12:44:14.300Z"
   },
   {
    "duration": 16,
    "start_time": "2023-02-10T12:44:14.326Z"
   },
   {
    "duration": 11,
    "start_time": "2023-02-10T12:44:14.344Z"
   },
   {
    "duration": 20,
    "start_time": "2023-02-10T12:44:14.356Z"
   },
   {
    "duration": 571,
    "start_time": "2023-02-10T12:44:14.377Z"
   },
   {
    "duration": 10,
    "start_time": "2023-02-10T12:44:14.950Z"
   },
   {
    "duration": 5,
    "start_time": "2023-02-10T12:44:14.962Z"
   },
   {
    "duration": 8,
    "start_time": "2023-02-10T12:44:14.969Z"
   },
   {
    "duration": 4,
    "start_time": "2023-02-10T12:44:14.979Z"
   },
   {
    "duration": 6,
    "start_time": "2023-02-10T12:44:14.984Z"
   },
   {
    "duration": 21,
    "start_time": "2023-02-10T12:44:14.991Z"
   },
   {
    "duration": 34,
    "start_time": "2023-02-10T12:44:15.014Z"
   },
   {
    "duration": 65,
    "start_time": "2023-03-18T07:48:07.600Z"
   }
  ],
  "kernelspec": {
   "display_name": "Python 3 (ipykernel)",
   "language": "python",
   "name": "python3"
  },
  "language_info": {
   "codemirror_mode": {
    "name": "ipython",
    "version": 3
   },
   "file_extension": ".py",
   "mimetype": "text/x-python",
   "name": "python",
   "nbconvert_exporter": "python",
   "pygments_lexer": "ipython3",
   "version": "3.9.12"
  },
  "toc": {
   "base_numbering": 1,
   "nav_menu": {},
   "number_sections": true,
   "sideBar": true,
   "skip_h1_title": true,
   "title_cell": "Содержание",
   "title_sidebar": "Contents",
   "toc_cell": true,
   "toc_position": {
    "height": "580px",
    "left": "34px",
    "top": "253px",
    "width": "303.075px"
   },
   "toc_section_display": true,
   "toc_window_display": true
  }
 },
 "nbformat": 4,
 "nbformat_minor": 2
}
