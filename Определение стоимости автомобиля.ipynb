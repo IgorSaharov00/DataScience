{
 "cells": [
  {
   "cell_type": "markdown",
   "metadata": {},
   "source": [
    "# Определение стоимости автомобилей"
   ]
  },
  {
   "cell_type": "markdown",
   "metadata": {},
   "source": [
    "Сервис по продаже автомобилей с пробегом «Не бит, не крашен» разрабатывает приложение для привлечения новых клиентов. В нём можно быстро узнать рыночную стоимость своего автомобиля. В нашем распоряжении исторические данные: технические характеристики, комплектации и цены автомобилей. Нужно построить модель для определения стоимости. Для оценки модели необходимо использовать RMSE. Модель должна показать значение RMSE < 2500.\n",
    "\n",
    "Заказчику важны:\n",
    "\n",
    "- качество предсказания;\n",
    "- скорость предсказания;\n",
    "- время обучения."
   ]
  },
  {
   "cell_type": "markdown",
   "metadata": {},
   "source": [
    "## Библиотеки и настройки"
   ]
  },
  {
   "cell_type": "code",
   "execution_count": 1,
   "metadata": {},
   "outputs": [],
   "source": [
    "# импорты из стандартной библиотеки\n",
    "import os\n",
    "import warnings\n",
    "\n",
    "# импорты сторонних библиотек\n",
    "import numpy as np\n",
    "import pandas as pd\n",
    " \n",
    "\n",
    "# импорты модулей текущего проекта\n",
    "from sklearn.model_selection import (\n",
    "    train_test_split,\n",
    "    RandomizedSearchCV,\n",
    "    cross_val_score\n",
    ")\n",
    "\n",
    "from sklearn.linear_model import LinearRegression\n",
    "from sklearn.ensemble import RandomForestRegressor\n",
    "from lightgbm  import LGBMRegressor\n",
    "\n",
    "from sklearn.pipeline import make_pipeline\n",
    "from sklearn.compose import make_column_transformer\n",
    "from sklearn.preprocessing import (\n",
    "    StandardScaler,\n",
    "    OneHotEncoder,\n",
    "    OrdinalEncoder\n",
    ")\n",
    "from sklearn.metrics import (\n",
    "    mean_squared_error, \n",
    "    r2_score,\n",
    "    make_scorer\n",
    ")\n",
    "\n",
    "from sklearn.dummy import DummyRegressor\n",
    "\n",
    "from datetime import datetime\n",
    "import time\n",
    "\n",
    "# настройки\n",
    "warnings.filterwarnings(\"ignore\")\n",
    "\n",
    "# константы \n",
    "RANDOM_STATE = 0"
   ]
  },
  {
   "cell_type": "markdown",
   "metadata": {},
   "source": [
    "## Подготовка данных"
   ]
  },
  {
   "cell_type": "markdown",
   "metadata": {},
   "source": [
    "### Загрузка данных и первичный осмотр"
   ]
  },
  {
   "cell_type": "code",
   "execution_count": 2,
   "metadata": {},
   "outputs": [],
   "source": [
    "path = '/datasets/autos.csv'\n",
    "\n",
    "if os.path.exists(path):\n",
    "    data = pd.read_csv(path)\n",
    "else:\n",
    "    print('Ошибка в считывании данных')"
   ]
  },
  {
   "cell_type": "code",
   "execution_count": 3,
   "metadata": {
    "scrolled": true
   },
   "outputs": [
    {
     "data": {
      "text/html": [
       "<div>\n",
       "<style scoped>\n",
       "    .dataframe tbody tr th:only-of-type {\n",
       "        vertical-align: middle;\n",
       "    }\n",
       "\n",
       "    .dataframe tbody tr th {\n",
       "        vertical-align: top;\n",
       "    }\n",
       "\n",
       "    .dataframe thead th {\n",
       "        text-align: right;\n",
       "    }\n",
       "</style>\n",
       "<table border=\"1\" class=\"dataframe\">\n",
       "  <thead>\n",
       "    <tr style=\"text-align: right;\">\n",
       "      <th></th>\n",
       "      <th>DateCrawled</th>\n",
       "      <th>Price</th>\n",
       "      <th>VehicleType</th>\n",
       "      <th>RegistrationYear</th>\n",
       "      <th>Gearbox</th>\n",
       "      <th>Power</th>\n",
       "      <th>Model</th>\n",
       "      <th>Kilometer</th>\n",
       "      <th>RegistrationMonth</th>\n",
       "      <th>FuelType</th>\n",
       "      <th>Brand</th>\n",
       "      <th>Repaired</th>\n",
       "      <th>DateCreated</th>\n",
       "      <th>NumberOfPictures</th>\n",
       "      <th>PostalCode</th>\n",
       "      <th>LastSeen</th>\n",
       "    </tr>\n",
       "  </thead>\n",
       "  <tbody>\n",
       "    <tr>\n",
       "      <th>0</th>\n",
       "      <td>2016-03-24 11:52:17</td>\n",
       "      <td>480</td>\n",
       "      <td>NaN</td>\n",
       "      <td>1993</td>\n",
       "      <td>manual</td>\n",
       "      <td>0</td>\n",
       "      <td>golf</td>\n",
       "      <td>150000</td>\n",
       "      <td>0</td>\n",
       "      <td>petrol</td>\n",
       "      <td>volkswagen</td>\n",
       "      <td>NaN</td>\n",
       "      <td>2016-03-24 00:00:00</td>\n",
       "      <td>0</td>\n",
       "      <td>70435</td>\n",
       "      <td>2016-04-07 03:16:57</td>\n",
       "    </tr>\n",
       "    <tr>\n",
       "      <th>1</th>\n",
       "      <td>2016-03-24 10:58:45</td>\n",
       "      <td>18300</td>\n",
       "      <td>coupe</td>\n",
       "      <td>2011</td>\n",
       "      <td>manual</td>\n",
       "      <td>190</td>\n",
       "      <td>NaN</td>\n",
       "      <td>125000</td>\n",
       "      <td>5</td>\n",
       "      <td>gasoline</td>\n",
       "      <td>audi</td>\n",
       "      <td>yes</td>\n",
       "      <td>2016-03-24 00:00:00</td>\n",
       "      <td>0</td>\n",
       "      <td>66954</td>\n",
       "      <td>2016-04-07 01:46:50</td>\n",
       "    </tr>\n",
       "    <tr>\n",
       "      <th>2</th>\n",
       "      <td>2016-03-14 12:52:21</td>\n",
       "      <td>9800</td>\n",
       "      <td>suv</td>\n",
       "      <td>2004</td>\n",
       "      <td>auto</td>\n",
       "      <td>163</td>\n",
       "      <td>grand</td>\n",
       "      <td>125000</td>\n",
       "      <td>8</td>\n",
       "      <td>gasoline</td>\n",
       "      <td>jeep</td>\n",
       "      <td>NaN</td>\n",
       "      <td>2016-03-14 00:00:00</td>\n",
       "      <td>0</td>\n",
       "      <td>90480</td>\n",
       "      <td>2016-04-05 12:47:46</td>\n",
       "    </tr>\n",
       "    <tr>\n",
       "      <th>3</th>\n",
       "      <td>2016-03-17 16:54:04</td>\n",
       "      <td>1500</td>\n",
       "      <td>small</td>\n",
       "      <td>2001</td>\n",
       "      <td>manual</td>\n",
       "      <td>75</td>\n",
       "      <td>golf</td>\n",
       "      <td>150000</td>\n",
       "      <td>6</td>\n",
       "      <td>petrol</td>\n",
       "      <td>volkswagen</td>\n",
       "      <td>no</td>\n",
       "      <td>2016-03-17 00:00:00</td>\n",
       "      <td>0</td>\n",
       "      <td>91074</td>\n",
       "      <td>2016-03-17 17:40:17</td>\n",
       "    </tr>\n",
       "    <tr>\n",
       "      <th>4</th>\n",
       "      <td>2016-03-31 17:25:20</td>\n",
       "      <td>3600</td>\n",
       "      <td>small</td>\n",
       "      <td>2008</td>\n",
       "      <td>manual</td>\n",
       "      <td>69</td>\n",
       "      <td>fabia</td>\n",
       "      <td>90000</td>\n",
       "      <td>7</td>\n",
       "      <td>gasoline</td>\n",
       "      <td>skoda</td>\n",
       "      <td>no</td>\n",
       "      <td>2016-03-31 00:00:00</td>\n",
       "      <td>0</td>\n",
       "      <td>60437</td>\n",
       "      <td>2016-04-06 10:17:21</td>\n",
       "    </tr>\n",
       "  </tbody>\n",
       "</table>\n",
       "</div>"
      ],
      "text/plain": [
       "           DateCrawled  Price VehicleType  RegistrationYear Gearbox  Power  \\\n",
       "0  2016-03-24 11:52:17    480         NaN              1993  manual      0   \n",
       "1  2016-03-24 10:58:45  18300       coupe              2011  manual    190   \n",
       "2  2016-03-14 12:52:21   9800         suv              2004    auto    163   \n",
       "3  2016-03-17 16:54:04   1500       small              2001  manual     75   \n",
       "4  2016-03-31 17:25:20   3600       small              2008  manual     69   \n",
       "\n",
       "   Model  Kilometer  RegistrationMonth  FuelType       Brand Repaired  \\\n",
       "0   golf     150000                  0    petrol  volkswagen      NaN   \n",
       "1    NaN     125000                  5  gasoline        audi      yes   \n",
       "2  grand     125000                  8  gasoline        jeep      NaN   \n",
       "3   golf     150000                  6    petrol  volkswagen       no   \n",
       "4  fabia      90000                  7  gasoline       skoda       no   \n",
       "\n",
       "           DateCreated  NumberOfPictures  PostalCode             LastSeen  \n",
       "0  2016-03-24 00:00:00                 0       70435  2016-04-07 03:16:57  \n",
       "1  2016-03-24 00:00:00                 0       66954  2016-04-07 01:46:50  \n",
       "2  2016-03-14 00:00:00                 0       90480  2016-04-05 12:47:46  \n",
       "3  2016-03-17 00:00:00                 0       91074  2016-03-17 17:40:17  \n",
       "4  2016-03-31 00:00:00                 0       60437  2016-04-06 10:17:21  "
      ]
     },
     "execution_count": 3,
     "metadata": {},
     "output_type": "execute_result"
    }
   ],
   "source": [
    "data.head()"
   ]
  },
  {
   "cell_type": "markdown",
   "metadata": {},
   "source": [
    "**Описание данных:**\n",
    "\n",
    "Признаки:\n",
    "\n",
    " - DateCrawled — дата скачивания анкеты из базы\n",
    " - VehicleType — тип автомобильного кузова\n",
    " - RegistrationYear — год регистрации автомобиля\n",
    " - Gearbox — тип коробки передач\n",
    " - Power — мощность (л. с.)\n",
    " - Model — модель автомобиля\n",
    " - Kilometer — пробег (км)\n",
    " - RegistrationMonth — месяц регистрации автомобиля\n",
    " - FuelType — тип топлива\n",
    " - Brand — марка автомобиля\n",
    " - Repaired — была машина в ремонте или нет\n",
    " - DateCreated — дата создания анкеты\n",
    " - NumberOfPictures — количество фотографий автомобиля\n",
    " - PostalCode — почтовый индекс владельца анкеты (пользователя)\n",
    " - LastSeen — дата последней активности пользователя\n",
    " \n",
    "Целевой признак\n",
    " - Price — цена (евро)"
   ]
  },
  {
   "cell_type": "markdown",
   "metadata": {},
   "source": [
    "### Удаление неинформативных признаков"
   ]
  },
  {
   "cell_type": "markdown",
   "metadata": {},
   "source": [
    "Очевидно, что признаки `DateCrawled`, `RegistrationMonth`, `RegistrationMonth`, `DateCreated`, `PostalCode`, `LastSeen`,`NumberOfPictures` неинформативны: чать из них является информацией об анкете/пользователе, а часть не влияет на цену автомобиля - удалим их."
   ]
  },
  {
   "cell_type": "code",
   "execution_count": 4,
   "metadata": {
    "scrolled": true
   },
   "outputs": [
    {
     "data": {
      "text/html": [
       "<div>\n",
       "<style scoped>\n",
       "    .dataframe tbody tr th:only-of-type {\n",
       "        vertical-align: middle;\n",
       "    }\n",
       "\n",
       "    .dataframe tbody tr th {\n",
       "        vertical-align: top;\n",
       "    }\n",
       "\n",
       "    .dataframe thead th {\n",
       "        text-align: right;\n",
       "    }\n",
       "</style>\n",
       "<table border=\"1\" class=\"dataframe\">\n",
       "  <thead>\n",
       "    <tr style=\"text-align: right;\">\n",
       "      <th></th>\n",
       "      <th>Price</th>\n",
       "      <th>VehicleType</th>\n",
       "      <th>RegistrationYear</th>\n",
       "      <th>Gearbox</th>\n",
       "      <th>Power</th>\n",
       "      <th>Model</th>\n",
       "      <th>Kilometer</th>\n",
       "      <th>FuelType</th>\n",
       "      <th>Brand</th>\n",
       "      <th>Repaired</th>\n",
       "    </tr>\n",
       "  </thead>\n",
       "  <tbody>\n",
       "    <tr>\n",
       "      <th>0</th>\n",
       "      <td>480</td>\n",
       "      <td>NaN</td>\n",
       "      <td>1993</td>\n",
       "      <td>manual</td>\n",
       "      <td>0</td>\n",
       "      <td>golf</td>\n",
       "      <td>150000</td>\n",
       "      <td>petrol</td>\n",
       "      <td>volkswagen</td>\n",
       "      <td>NaN</td>\n",
       "    </tr>\n",
       "    <tr>\n",
       "      <th>1</th>\n",
       "      <td>18300</td>\n",
       "      <td>coupe</td>\n",
       "      <td>2011</td>\n",
       "      <td>manual</td>\n",
       "      <td>190</td>\n",
       "      <td>NaN</td>\n",
       "      <td>125000</td>\n",
       "      <td>gasoline</td>\n",
       "      <td>audi</td>\n",
       "      <td>yes</td>\n",
       "    </tr>\n",
       "    <tr>\n",
       "      <th>2</th>\n",
       "      <td>9800</td>\n",
       "      <td>suv</td>\n",
       "      <td>2004</td>\n",
       "      <td>auto</td>\n",
       "      <td>163</td>\n",
       "      <td>grand</td>\n",
       "      <td>125000</td>\n",
       "      <td>gasoline</td>\n",
       "      <td>jeep</td>\n",
       "      <td>NaN</td>\n",
       "    </tr>\n",
       "    <tr>\n",
       "      <th>3</th>\n",
       "      <td>1500</td>\n",
       "      <td>small</td>\n",
       "      <td>2001</td>\n",
       "      <td>manual</td>\n",
       "      <td>75</td>\n",
       "      <td>golf</td>\n",
       "      <td>150000</td>\n",
       "      <td>petrol</td>\n",
       "      <td>volkswagen</td>\n",
       "      <td>no</td>\n",
       "    </tr>\n",
       "    <tr>\n",
       "      <th>4</th>\n",
       "      <td>3600</td>\n",
       "      <td>small</td>\n",
       "      <td>2008</td>\n",
       "      <td>manual</td>\n",
       "      <td>69</td>\n",
       "      <td>fabia</td>\n",
       "      <td>90000</td>\n",
       "      <td>gasoline</td>\n",
       "      <td>skoda</td>\n",
       "      <td>no</td>\n",
       "    </tr>\n",
       "  </tbody>\n",
       "</table>\n",
       "</div>"
      ],
      "text/plain": [
       "   Price VehicleType  RegistrationYear Gearbox  Power  Model  Kilometer  \\\n",
       "0    480         NaN              1993  manual      0   golf     150000   \n",
       "1  18300       coupe              2011  manual    190    NaN     125000   \n",
       "2   9800         suv              2004    auto    163  grand     125000   \n",
       "3   1500       small              2001  manual     75   golf     150000   \n",
       "4   3600       small              2008  manual     69  fabia      90000   \n",
       "\n",
       "   FuelType       Brand Repaired  \n",
       "0    petrol  volkswagen      NaN  \n",
       "1  gasoline        audi      yes  \n",
       "2  gasoline        jeep      NaN  \n",
       "3    petrol  volkswagen       no  \n",
       "4  gasoline       skoda       no  "
      ]
     },
     "execution_count": 4,
     "metadata": {},
     "output_type": "execute_result"
    }
   ],
   "source": [
    "clean_data = data.drop(['DateCrawled', 'RegistrationMonth', 'DateCreated', 'PostalCode', 'LastSeen', 'NumberOfPictures'], axis=1)\n",
    "clean_data.head()"
   ]
  },
  {
   "cell_type": "markdown",
   "metadata": {},
   "source": [
    "### Приведение названий колонок к snake_case"
   ]
  },
  {
   "cell_type": "code",
   "execution_count": 5,
   "metadata": {},
   "outputs": [
    {
     "data": {
      "text/plain": [
       "Index(['Price', 'VehicleType', 'RegistrationYear', 'Gearbox', 'Power', 'Model',\n",
       "       'Kilometer', 'FuelType', 'Brand', 'Repaired'],\n",
       "      dtype='object')"
      ]
     },
     "execution_count": 5,
     "metadata": {},
     "output_type": "execute_result"
    }
   ],
   "source": [
    "clean_data.columns"
   ]
  },
  {
   "cell_type": "code",
   "execution_count": 6,
   "metadata": {},
   "outputs": [],
   "source": [
    "clean_data = clean_data.rename(columns={'Price':'price', 'VehicleType':'vehicle_type', 'RegistrationYear':'registration_year', \n",
    "                           'Gearbox':'gearbox', 'Power':'power', 'Model':'model', 'Kilometer':'kilometer', \n",
    "                           'FuelType':'fuel_type', 'Brand':'brand', 'Repaired':'repaired'})"
   ]
  },
  {
   "cell_type": "markdown",
   "metadata": {},
   "source": [
    "### Анализ данных и работа с выбросами"
   ]
  },
  {
   "cell_type": "code",
   "execution_count": 7,
   "metadata": {
    "scrolled": true
   },
   "outputs": [
    {
     "name": "stdout",
     "output_type": "stream",
     "text": [
      "<class 'pandas.core.frame.DataFrame'>\n",
      "RangeIndex: 354369 entries, 0 to 354368\n",
      "Data columns (total 10 columns):\n",
      " #   Column             Non-Null Count   Dtype \n",
      "---  ------             --------------   ----- \n",
      " 0   price              354369 non-null  int64 \n",
      " 1   vehicle_type       316879 non-null  object\n",
      " 2   registration_year  354369 non-null  int64 \n",
      " 3   gearbox            334536 non-null  object\n",
      " 4   power              354369 non-null  int64 \n",
      " 5   model              334664 non-null  object\n",
      " 6   kilometer          354369 non-null  int64 \n",
      " 7   fuel_type          321474 non-null  object\n",
      " 8   brand              354369 non-null  object\n",
      " 9   repaired           283215 non-null  object\n",
      "dtypes: int64(4), object(6)\n",
      "memory usage: 27.0+ MB\n"
     ]
    }
   ],
   "source": [
    "clean_data.info()"
   ]
  },
  {
   "cell_type": "markdown",
   "metadata": {},
   "source": [
    "В выборке более 354 тысяч объектов. Признаки либо целочисленнные, либо категориальные. В некоторых колонках есть пропуски."
   ]
  },
  {
   "cell_type": "markdown",
   "metadata": {},
   "source": [
    "Разделим признаки на количественные и категориальные для дальнейшего удобства."
   ]
  },
  {
   "cell_type": "code",
   "execution_count": 8,
   "metadata": {},
   "outputs": [],
   "source": [
    "categorical = ['vehicle_type', 'gearbox', 'model', 'fuel_type', 'brand', 'repaired']\n",
    "numerical = list(set(clean_data.columns) - set(categorical))"
   ]
  },
  {
   "cell_type": "code",
   "execution_count": 9,
   "metadata": {},
   "outputs": [
    {
     "name": "stdout",
     "output_type": "stream",
     "text": [
      "<class 'pandas.core.frame.DataFrame'>\n",
      "RangeIndex: 354369 entries, 0 to 354368\n",
      "Data columns (total 10 columns):\n",
      " #   Column             Non-Null Count   Dtype \n",
      "---  ------             --------------   ----- \n",
      " 0   price              354369 non-null  int64 \n",
      " 1   vehicle_type       316879 non-null  object\n",
      " 2   registration_year  354369 non-null  int64 \n",
      " 3   gearbox            334536 non-null  object\n",
      " 4   power              354369 non-null  int64 \n",
      " 5   model              334664 non-null  object\n",
      " 6   kilometer          354369 non-null  int64 \n",
      " 7   fuel_type          321474 non-null  object\n",
      " 8   brand              354369 non-null  object\n",
      " 9   repaired           283215 non-null  object\n",
      "dtypes: int64(4), object(6)\n",
      "memory usage: 27.0+ MB\n"
     ]
    }
   ],
   "source": [
    "clean_data.info()"
   ]
  },
  {
   "cell_type": "markdown",
   "metadata": {},
   "source": [
    "Оценим количественные признаки статистически."
   ]
  },
  {
   "cell_type": "code",
   "execution_count": 10,
   "metadata": {
    "scrolled": true
   },
   "outputs": [
    {
     "data": {
      "text/html": [
       "<div>\n",
       "<style scoped>\n",
       "    .dataframe tbody tr th:only-of-type {\n",
       "        vertical-align: middle;\n",
       "    }\n",
       "\n",
       "    .dataframe tbody tr th {\n",
       "        vertical-align: top;\n",
       "    }\n",
       "\n",
       "    .dataframe thead th {\n",
       "        text-align: right;\n",
       "    }\n",
       "</style>\n",
       "<table border=\"1\" class=\"dataframe\">\n",
       "  <thead>\n",
       "    <tr style=\"text-align: right;\">\n",
       "      <th></th>\n",
       "      <th>price</th>\n",
       "      <th>registration_year</th>\n",
       "      <th>power</th>\n",
       "      <th>kilometer</th>\n",
       "    </tr>\n",
       "  </thead>\n",
       "  <tbody>\n",
       "    <tr>\n",
       "      <th>count</th>\n",
       "      <td>354369.000000</td>\n",
       "      <td>354369.000000</td>\n",
       "      <td>354369.000000</td>\n",
       "      <td>354369.000000</td>\n",
       "    </tr>\n",
       "    <tr>\n",
       "      <th>mean</th>\n",
       "      <td>4416.656776</td>\n",
       "      <td>2004.234448</td>\n",
       "      <td>110.094337</td>\n",
       "      <td>128211.172535</td>\n",
       "    </tr>\n",
       "    <tr>\n",
       "      <th>std</th>\n",
       "      <td>4514.158514</td>\n",
       "      <td>90.227958</td>\n",
       "      <td>189.850405</td>\n",
       "      <td>37905.341530</td>\n",
       "    </tr>\n",
       "    <tr>\n",
       "      <th>min</th>\n",
       "      <td>0.000000</td>\n",
       "      <td>1000.000000</td>\n",
       "      <td>0.000000</td>\n",
       "      <td>5000.000000</td>\n",
       "    </tr>\n",
       "    <tr>\n",
       "      <th>25%</th>\n",
       "      <td>1050.000000</td>\n",
       "      <td>1999.000000</td>\n",
       "      <td>69.000000</td>\n",
       "      <td>125000.000000</td>\n",
       "    </tr>\n",
       "    <tr>\n",
       "      <th>50%</th>\n",
       "      <td>2700.000000</td>\n",
       "      <td>2003.000000</td>\n",
       "      <td>105.000000</td>\n",
       "      <td>150000.000000</td>\n",
       "    </tr>\n",
       "    <tr>\n",
       "      <th>75%</th>\n",
       "      <td>6400.000000</td>\n",
       "      <td>2008.000000</td>\n",
       "      <td>143.000000</td>\n",
       "      <td>150000.000000</td>\n",
       "    </tr>\n",
       "    <tr>\n",
       "      <th>max</th>\n",
       "      <td>20000.000000</td>\n",
       "      <td>9999.000000</td>\n",
       "      <td>20000.000000</td>\n",
       "      <td>150000.000000</td>\n",
       "    </tr>\n",
       "  </tbody>\n",
       "</table>\n",
       "</div>"
      ],
      "text/plain": [
       "               price  registration_year          power      kilometer\n",
       "count  354369.000000      354369.000000  354369.000000  354369.000000\n",
       "mean     4416.656776        2004.234448     110.094337  128211.172535\n",
       "std      4514.158514          90.227958     189.850405   37905.341530\n",
       "min         0.000000        1000.000000       0.000000    5000.000000\n",
       "25%      1050.000000        1999.000000      69.000000  125000.000000\n",
       "50%      2700.000000        2003.000000     105.000000  150000.000000\n",
       "75%      6400.000000        2008.000000     143.000000  150000.000000\n",
       "max     20000.000000        9999.000000   20000.000000  150000.000000"
      ]
     },
     "execution_count": 10,
     "metadata": {},
     "output_type": "execute_result"
    }
   ],
   "source": [
    "clean_data.describe()"
   ]
  },
  {
   "cell_type": "markdown",
   "metadata": {},
   "source": [
    "Похоже, что в признаках `price`, `registration_year`, `power` есть выбросы. Рассмотрим их подробнее."
   ]
  },
  {
   "cell_type": "code",
   "execution_count": 11,
   "metadata": {},
   "outputs": [
    {
     "data": {
      "text/plain": [
       "array([[<AxesSubplot:title={'center':'price'}>,\n",
       "        <AxesSubplot:title={'center':'registration_year'}>],\n",
       "       [<AxesSubplot:title={'center':'power'}>,\n",
       "        <AxesSubplot:title={'center':'kilometer'}>]], dtype=object)"
      ]
     },
     "execution_count": 11,
     "metadata": {},
     "output_type": "execute_result"
    },
    {
     "data": {
      "image/png": "[encoded data removed]",
      "text/plain": [
       "<Figure size 1008x504 with 4 Axes>"
      ]
     },
     "metadata": {
      "needs_background": "light"
     },
     "output_type": "display_data"
    }
   ],
   "source": [
    "clean_data.hist(figsize=(14, 7))"
   ]
  },
  {
   "cell_type": "markdown",
   "metadata": {},
   "source": [
    "Распределение признака `price` показывает, что в нём могут быть занчения, близкие к нулю. Рассмотрим этот признак подробнее. "
   ]
  },
  {
   "cell_type": "code",
   "execution_count": 12,
   "metadata": {
    "scrolled": true
   },
   "outputs": [
    {
     "data": {
      "text/plain": [
       "<AxesSubplot:>"
      ]
     },
     "execution_count": 12,
     "metadata": {},
     "output_type": "execute_result"
    },
    {
     "data": {
      "image/png": "[encoded data removed]",
      "text/plain": [
       "<Figure size 432x288 with 1 Axes>"
      ]
     },
     "metadata": {
      "needs_background": "light"
     },
     "output_type": "display_data"
    }
   ],
   "source": [
    "clean_data['price'].hist(range=(0, 100))"
   ]
  },
  {
   "cell_type": "code",
   "execution_count": 13,
   "metadata": {},
   "outputs": [
    {
     "data": {
      "text/plain": [
       "10772"
      ]
     },
     "execution_count": 13,
     "metadata": {},
     "output_type": "execute_result"
    }
   ],
   "source": [
    "clean_data.loc[clean_data['price']<1, 'price'].count()"
   ]
  },
  {
   "cell_type": "code",
   "execution_count": 14,
   "metadata": {},
   "outputs": [
    {
     "data": {
      "text/plain": [
       "12423"
      ]
     },
     "execution_count": 14,
     "metadata": {},
     "output_type": "execute_result"
    }
   ],
   "source": [
    "clean_data.loc[clean_data['price']<50, 'price'].count()"
   ]
  },
  {
   "cell_type": "code",
   "execution_count": 15,
   "metadata": {
    "scrolled": true
   },
   "outputs": [
    {
     "data": {
      "text/plain": [
       "13314"
      ]
     },
     "execution_count": 15,
     "metadata": {},
     "output_type": "execute_result"
    }
   ],
   "source": [
    "clean_data.loc[clean_data['price']<100, 'price'].count()"
   ]
  },
  {
   "cell_type": "markdown",
   "metadata": {},
   "source": [
    "Действительно у некоторых объектов есть аномально низкие цены - ниже 100. Их количество составляет около 4% выборки - ими можно принебречь."
   ]
  },
  {
   "cell_type": "code",
   "execution_count": 16,
   "metadata": {},
   "outputs": [],
   "source": [
    "clean_data_v2 = clean_data.loc[clean_data['price'] > 100].copy()"
   ]
  },
  {
   "cell_type": "markdown",
   "metadata": {},
   "source": [
    "Рассмотрим подробнее признак `registration_year`. Заметим, что максимальный год регистрации не может быть больше года максимальной даты скачивания анкеты."
   ]
  },
  {
   "cell_type": "code",
   "execution_count": 17,
   "metadata": {
    "scrolled": true
   },
   "outputs": [
    {
     "data": {
      "text/plain": [
       "<AxesSubplot:>"
      ]
     },
     "execution_count": 17,
     "metadata": {},
     "output_type": "execute_result"
    },
    {
     "data": {
      "image/png": "[encoded data removed]",
      "text/plain": [
       "<Figure size 432x288 with 1 Axes>"
      ]
     },
     "metadata": {
      "needs_background": "light"
     },
     "output_type": "display_data"
    }
   ],
   "source": [
    "clean_data_v2['registration_year'].hist(range=(1950, 2023))"
   ]
  },
  {
   "cell_type": "code",
   "execution_count": 18,
   "metadata": {},
   "outputs": [
    {
     "data": {
      "text/plain": [
       "14784"
      ]
     },
     "execution_count": 18,
     "metadata": {},
     "output_type": "execute_result"
    }
   ],
   "source": [
    "clean_data_v2.loc[(clean_data['registration_year'] < 1970) | \\\n",
    "               (clean_data['registration_year'] > pd.to_datetime(data['DateCrawled'].max()).year),\\\n",
    "               'registration_year'].count()"
   ]
  },
  {
   "cell_type": "markdown",
   "metadata": {},
   "source": [
    "Удалим объекты с годом регистрации меньше 1970 и больше года максимальной даты скачивания анкеты."
   ]
  },
  {
   "cell_type": "code",
   "execution_count": 19,
   "metadata": {
    "scrolled": true
   },
   "outputs": [
    {
     "data": {
      "text/plain": [
       "325240"
      ]
     },
     "execution_count": 19,
     "metadata": {},
     "output_type": "execute_result"
    }
   ],
   "source": [
    "clean_data_v3 = clean_data_v2.loc[\n",
    "    ~(\n",
    "        (clean_data['registration_year'] < 1970) | \\\n",
    "        (clean_data['registration_year'] > pd.to_datetime(data['DateCrawled'].max()).year)\n",
    "    )\n",
    "].copy()\n",
    "clean_data_v3.shape[0]"
   ]
  },
  {
   "cell_type": "markdown",
   "metadata": {},
   "source": [
    "Рассмотрим подробнее признак `power`."
   ]
  },
  {
   "cell_type": "code",
   "execution_count": 20,
   "metadata": {},
   "outputs": [
    {
     "data": {
      "text/plain": [
       "<AxesSubplot:>"
      ]
     },
     "execution_count": 20,
     "metadata": {},
     "output_type": "execute_result"
    },
    {
     "data": {
      "image/png": "[encoded data removed]",
      "text/plain": [
       "<Figure size 432x288 with 1 Axes>"
      ]
     },
     "metadata": {
      "needs_background": "light"
     },
     "output_type": "display_data"
    }
   ],
   "source": [
    "clean_data_v3['power'].hist(range=(0, 500))"
   ]
  },
  {
   "cell_type": "code",
   "execution_count": 21,
   "metadata": {},
   "outputs": [
    {
     "data": {
      "text/plain": [
       "641"
      ]
     },
     "execution_count": 21,
     "metadata": {},
     "output_type": "execute_result"
    }
   ],
   "source": [
    "clean_data_v3.loc[clean_data['power'] > 400, 'power'].count()"
   ]
  },
  {
   "cell_type": "code",
   "execution_count": 22,
   "metadata": {},
   "outputs": [
    {
     "data": {
      "text/plain": [
       "135817"
      ]
     },
     "execution_count": 22,
     "metadata": {},
     "output_type": "execute_result"
    }
   ],
   "source": [
    "clean_data_v3.loc[clean_data['power'] < 100, 'power'].count()"
   ]
  },
  {
   "cell_type": "markdown",
   "metadata": {},
   "source": [
    "Удалим объекты c мощьностью выше 500. Подозрение вызывают машины с мощьностью ниже 100, но они составляют больше 30% выборки, поэтому считать их выбросами нельзя. Возможно, продаются машины с проблемными двигателями."
   ]
  },
  {
   "cell_type": "code",
   "execution_count": 23,
   "metadata": {},
   "outputs": [],
   "source": [
    "clean_data_v4 = clean_data_v3.loc[clean_data_v3['power'] <= 500].copy()"
   ]
  },
  {
   "cell_type": "code",
   "execution_count": 24,
   "metadata": {},
   "outputs": [
    {
     "data": {
      "text/plain": [
       "324859"
      ]
     },
     "execution_count": 24,
     "metadata": {},
     "output_type": "execute_result"
    }
   ],
   "source": [
    "clean_data_v4.shape[0]"
   ]
  },
  {
   "cell_type": "markdown",
   "metadata": {},
   "source": [
    "Рассмотрим корреляцию между количесвтенными признаками."
   ]
  },
  {
   "cell_type": "code",
   "execution_count": 25,
   "metadata": {
    "scrolled": true
   },
   "outputs": [
    {
     "data": {
      "text/html": [
       "<div>\n",
       "<style scoped>\n",
       "    .dataframe tbody tr th:only-of-type {\n",
       "        vertical-align: middle;\n",
       "    }\n",
       "\n",
       "    .dataframe tbody tr th {\n",
       "        vertical-align: top;\n",
       "    }\n",
       "\n",
       "    .dataframe thead th {\n",
       "        text-align: right;\n",
       "    }\n",
       "</style>\n",
       "<table border=\"1\" class=\"dataframe\">\n",
       "  <thead>\n",
       "    <tr style=\"text-align: right;\">\n",
       "      <th></th>\n",
       "      <th>price</th>\n",
       "      <th>registration_year</th>\n",
       "      <th>power</th>\n",
       "      <th>kilometer</th>\n",
       "    </tr>\n",
       "  </thead>\n",
       "  <tbody>\n",
       "    <tr>\n",
       "      <th>price</th>\n",
       "      <td>1.000000</td>\n",
       "      <td>0.492674</td>\n",
       "      <td>0.492859</td>\n",
       "      <td>-0.365240</td>\n",
       "    </tr>\n",
       "    <tr>\n",
       "      <th>registration_year</th>\n",
       "      <td>0.492674</td>\n",
       "      <td>1.000000</td>\n",
       "      <td>0.147249</td>\n",
       "      <td>-0.278975</td>\n",
       "    </tr>\n",
       "    <tr>\n",
       "      <th>power</th>\n",
       "      <td>0.492859</td>\n",
       "      <td>0.147249</td>\n",
       "      <td>1.000000</td>\n",
       "      <td>0.074792</td>\n",
       "    </tr>\n",
       "    <tr>\n",
       "      <th>kilometer</th>\n",
       "      <td>-0.365240</td>\n",
       "      <td>-0.278975</td>\n",
       "      <td>0.074792</td>\n",
       "      <td>1.000000</td>\n",
       "    </tr>\n",
       "  </tbody>\n",
       "</table>\n",
       "</div>"
      ],
      "text/plain": [
       "                      price  registration_year     power  kilometer\n",
       "price              1.000000           0.492674  0.492859  -0.365240\n",
       "registration_year  0.492674           1.000000  0.147249  -0.278975\n",
       "power              0.492859           0.147249  1.000000   0.074792\n",
       "kilometer         -0.365240          -0.278975  0.074792   1.000000"
      ]
     },
     "execution_count": 25,
     "metadata": {},
     "output_type": "execute_result"
    }
   ],
   "source": [
    "clean_data_v4.corr()"
   ]
  },
  {
   "cell_type": "markdown",
   "metadata": {},
   "source": [
    "Между признаками нет сильной корреляции."
   ]
  },
  {
   "cell_type": "markdown",
   "metadata": {},
   "source": [
    "### Работа с пропусками и дубликатами"
   ]
  },
  {
   "cell_type": "code",
   "execution_count": 26,
   "metadata": {
    "scrolled": true
   },
   "outputs": [
    {
     "data": {
      "text/plain": [
       "42020"
      ]
     },
     "execution_count": 26,
     "metadata": {},
     "output_type": "execute_result"
    }
   ],
   "source": [
    "clean_data_v4.duplicated().sum()"
   ]
  },
  {
   "cell_type": "markdown",
   "metadata": {},
   "source": [
    "В получившейся выборке очень много дубликатов. Скорее всего, она образовались из-за удаления не информативных для задачи столбцов. Проверим это."
   ]
  },
  {
   "cell_type": "code",
   "execution_count": 27,
   "metadata": {
    "scrolled": true
   },
   "outputs": [
    {
     "data": {
      "text/plain": [
       "4"
      ]
     },
     "execution_count": 27,
     "metadata": {},
     "output_type": "execute_result"
    }
   ],
   "source": [
    "data.duplicated().sum()"
   ]
  },
  {
   "cell_type": "markdown",
   "metadata": {},
   "source": [
    "Удалим из подготовленной выборки полные дубликаты из начальной."
   ]
  },
  {
   "cell_type": "code",
   "execution_count": 28,
   "metadata": {},
   "outputs": [],
   "source": [
    "clean_data_v5 = clean_data_v4.loc[~data.duplicated()].copy()"
   ]
  },
  {
   "cell_type": "markdown",
   "metadata": {},
   "source": [
    "Посчитаем количество пропусков в разных столбцах."
   ]
  },
  {
   "cell_type": "code",
   "execution_count": 29,
   "metadata": {},
   "outputs": [
    {
     "data": {
      "text/plain": [
       "price                    0\n",
       "vehicle_type         18436\n",
       "registration_year        0\n",
       "gearbox              14146\n",
       "power                    0\n",
       "model                14648\n",
       "kilometer                0\n",
       "fuel_type            22520\n",
       "brand                    0\n",
       "repaired             57496\n",
       "dtype: int64"
      ]
     },
     "execution_count": 29,
     "metadata": {},
     "output_type": "execute_result"
    }
   ],
   "source": [
    "clean_data_v5.isna().sum()"
   ]
  },
  {
   "cell_type": "markdown",
   "metadata": {},
   "source": [
    "Все признаки с пропусками являются категориальными. Явной зависимости между данными признаками и другими нет. Строк с пропусками достаточно много, поэтому удалить их нельзя. Следует вынести их в отдельную категорию. Заполним проgуски строкой \"NA\" (нет данных)."
   ]
  },
  {
   "cell_type": "code",
   "execution_count": 30,
   "metadata": {
    "scrolled": false
   },
   "outputs": [
    {
     "data": {
      "text/plain": [
       "price                0\n",
       "vehicle_type         0\n",
       "registration_year    0\n",
       "gearbox              0\n",
       "power                0\n",
       "model                0\n",
       "kilometer            0\n",
       "fuel_type            0\n",
       "brand                0\n",
       "repaired             0\n",
       "dtype: int64"
      ]
     },
     "execution_count": 30,
     "metadata": {},
     "output_type": "execute_result"
    }
   ],
   "source": [
    "clean_data_v6 = clean_data_v5.fillna('NA').copy()\n",
    "clean_data_v6.isna().sum()"
   ]
  },
  {
   "cell_type": "markdown",
   "metadata": {},
   "source": [
    "Тип категориальных признаков изменим с `object` на `catgory` для дальнейшего удобства работы (c LGBMRegressor)."
   ]
  },
  {
   "cell_type": "code",
   "execution_count": 31,
   "metadata": {},
   "outputs": [
    {
     "data": {
      "text/html": [
       "<div>\n",
       "<style scoped>\n",
       "    .dataframe tbody tr th:only-of-type {\n",
       "        vertical-align: middle;\n",
       "    }\n",
       "\n",
       "    .dataframe tbody tr th {\n",
       "        vertical-align: top;\n",
       "    }\n",
       "\n",
       "    .dataframe thead th {\n",
       "        text-align: right;\n",
       "    }\n",
       "</style>\n",
       "<table border=\"1\" class=\"dataframe\">\n",
       "  <thead>\n",
       "    <tr style=\"text-align: right;\">\n",
       "      <th></th>\n",
       "      <th>price</th>\n",
       "      <th>vehicle_type</th>\n",
       "      <th>registration_year</th>\n",
       "      <th>gearbox</th>\n",
       "      <th>power</th>\n",
       "      <th>model</th>\n",
       "      <th>kilometer</th>\n",
       "      <th>fuel_type</th>\n",
       "      <th>brand</th>\n",
       "      <th>repaired</th>\n",
       "    </tr>\n",
       "  </thead>\n",
       "  <tbody>\n",
       "    <tr>\n",
       "      <th>0</th>\n",
       "      <td>480</td>\n",
       "      <td>NA</td>\n",
       "      <td>1993</td>\n",
       "      <td>manual</td>\n",
       "      <td>0</td>\n",
       "      <td>golf</td>\n",
       "      <td>150000</td>\n",
       "      <td>petrol</td>\n",
       "      <td>volkswagen</td>\n",
       "      <td>NA</td>\n",
       "    </tr>\n",
       "    <tr>\n",
       "      <th>1</th>\n",
       "      <td>18300</td>\n",
       "      <td>coupe</td>\n",
       "      <td>2011</td>\n",
       "      <td>manual</td>\n",
       "      <td>190</td>\n",
       "      <td>NA</td>\n",
       "      <td>125000</td>\n",
       "      <td>gasoline</td>\n",
       "      <td>audi</td>\n",
       "      <td>yes</td>\n",
       "    </tr>\n",
       "    <tr>\n",
       "      <th>2</th>\n",
       "      <td>9800</td>\n",
       "      <td>suv</td>\n",
       "      <td>2004</td>\n",
       "      <td>auto</td>\n",
       "      <td>163</td>\n",
       "      <td>grand</td>\n",
       "      <td>125000</td>\n",
       "      <td>gasoline</td>\n",
       "      <td>jeep</td>\n",
       "      <td>NA</td>\n",
       "    </tr>\n",
       "    <tr>\n",
       "      <th>3</th>\n",
       "      <td>1500</td>\n",
       "      <td>small</td>\n",
       "      <td>2001</td>\n",
       "      <td>manual</td>\n",
       "      <td>75</td>\n",
       "      <td>golf</td>\n",
       "      <td>150000</td>\n",
       "      <td>petrol</td>\n",
       "      <td>volkswagen</td>\n",
       "      <td>no</td>\n",
       "    </tr>\n",
       "    <tr>\n",
       "      <th>4</th>\n",
       "      <td>3600</td>\n",
       "      <td>small</td>\n",
       "      <td>2008</td>\n",
       "      <td>manual</td>\n",
       "      <td>69</td>\n",
       "      <td>fabia</td>\n",
       "      <td>90000</td>\n",
       "      <td>gasoline</td>\n",
       "      <td>skoda</td>\n",
       "      <td>no</td>\n",
       "    </tr>\n",
       "  </tbody>\n",
       "</table>\n",
       "</div>"
      ],
      "text/plain": [
       "   price vehicle_type  registration_year gearbox  power  model  kilometer  \\\n",
       "0    480           NA               1993  manual      0   golf     150000   \n",
       "1  18300        coupe               2011  manual    190     NA     125000   \n",
       "2   9800          suv               2004    auto    163  grand     125000   \n",
       "3   1500        small               2001  manual     75   golf     150000   \n",
       "4   3600        small               2008  manual     69  fabia      90000   \n",
       "\n",
       "  fuel_type       brand repaired  \n",
       "0    petrol  volkswagen       NA  \n",
       "1  gasoline        audi      yes  \n",
       "2  gasoline        jeep       NA  \n",
       "3    petrol  volkswagen       no  \n",
       "4  gasoline       skoda       no  "
      ]
     },
     "execution_count": 31,
     "metadata": {},
     "output_type": "execute_result"
    }
   ],
   "source": [
    "final_data = clean_data_v6.copy()\n",
    "final_data.head()"
   ]
  },
  {
   "cell_type": "markdown",
   "metadata": {},
   "source": [
    "<div class=\"alert alert-block alert-success\">\n",
    "<b>✔️ Успех:</b>\n",
    "\n",
    "Пропуски успешно заполнены 👍 Модели теперь не будут капризничать)\n",
    "</div>"
   ]
  },
  {
   "cell_type": "markdown",
   "metadata": {},
   "source": [
    "### Вывод"
   ]
  },
  {
   "cell_type": "markdown",
   "metadata": {},
   "source": [
    "В ходе предобработки\n",
    " - данные были загружены и просмотрены;\n",
    " - из данных были удалены неинформативные признаки;\n",
    " - данные были проанализированы, на основе чего были удалены выбросы;\n",
    " - были заполнены пропуски в данных."
   ]
  },
  {
   "cell_type": "markdown",
   "metadata": {},
   "source": [
    "## Обучение и анализ моделей"
   ]
  },
  {
   "cell_type": "markdown",
   "metadata": {},
   "source": [
    "Разделим исходную выборку на признаки и целевой признак, а также на обучающую, валидационную и тестовую выборки."
   ]
  },
  {
   "cell_type": "code",
   "execution_count": 32,
   "metadata": {},
   "outputs": [],
   "source": [
    "features = final_data.drop(['price'], axis=1)\n",
    "target = final_data['price'].loc[features.index]\n",
    "\n",
    "features_train, features_test, target_train, target_test = train_test_split(features, \n",
    "                                                                            target, \n",
    "                                                                            test_size=0.25, \n",
    "                                                                            random_state=RANDOM_STATE)"
   ]
  },
  {
   "cell_type": "code",
   "execution_count": 33,
   "metadata": {
    "scrolled": true
   },
   "outputs": [],
   "source": [
    "numerical.remove('price')"
   ]
  },
  {
   "cell_type": "markdown",
   "metadata": {},
   "source": [
    "Для обучения выберем следующие модели: LGBMRegressor, RandomForestRegressor, LinearRegresson. \n",
    "С помощью пайплайна подготовим данные так, чтобы они подходили для трёх выбранных моделей, а также подберём оптимальные гиперпараметры и оценим качество моделей с помощью кросс-валидации. "
   ]
  },
  {
   "cell_type": "markdown",
   "metadata": {},
   "source": [
    "Напишем обработчики колонок для каждой модели. Модель LGBMRegressor умеет работать с категориальными признаками, поэтому нужно только масштабировать количественные признаки. Для RandomForestRegressor дополнительно используем порядковое кодирование категориальных признаков. Для LinearRegresson преобразуем категориальные признаки с помощью OHE."
   ]
  },
  {
   "cell_type": "code",
   "execution_count": 34,
   "metadata": {},
   "outputs": [],
   "source": [
    "col_transformer_lgbmr = make_column_transformer(\n",
    "    (\n",
    "        StandardScaler(), \n",
    "        numerical\n",
    "    )\n",
    ")\n",
    "\n",
    "col_transformer_tree = make_column_transformer(\n",
    "    (\n",
    "        OrdinalEncoder(handle_unknown='ignore'), \n",
    "        categorical\n",
    "    ),\n",
    "    (\n",
    "        StandardScaler(), \n",
    "        numerical\n",
    "    )\n",
    ")\n",
    "\n",
    "col_transformer_linear = make_column_transformer(\n",
    "    (\n",
    "        OneHotEncoder(handle_unknown='ignore'), \n",
    "        categorical\n",
    "    ),\n",
    "    (\n",
    "        StandardScaler(), \n",
    "        numerical\n",
    "    )\n",
    ")"
   ]
  },
  {
   "cell_type": "markdown",
   "metadata": {},
   "source": [
    "### Подбор оптимальных гиперпараметров"
   ]
  },
  {
   "cell_type": "code",
   "execution_count": 35,
   "metadata": {
    "scrolled": false
   },
   "outputs": [
    {
     "name": "stdout",
     "output_type": "stream",
     "text": [
      "\n",
      "LGBMRegressor(random_state=0) :\n",
      "\t\tлучшее значение RMSE: -2078\n",
      "\t\tлучшие параметры: {'lgbmregressor__n_estimators': 160, 'lgbmregressor__max_depth': 8}\n",
      "\n",
      "RandomForestRegressor(random_state=0) :\n",
      "\t\tлучшее значение RMSE: -2049\n",
      "\t\tлучшие параметры: {'randomforestregressor__n_estimators': 160, 'randomforestregressor__max_depth': 8}\n",
      "\n",
      "LinearRegression() :\n",
      "\t\tлучшее значение RMSE: -2606\n",
      "\t\tлучшие параметры: {}\n"
     ]
    }
   ],
   "source": [
    "models = [\n",
    "    LGBMRegressor(random_state=RANDOM_STATE),\n",
    "    RandomForestRegressor(random_state=RANDOM_STATE),\n",
    "    LinearRegression()\n",
    "]\n",
    "optimal_models = []\n",
    "params = [\n",
    "    {\n",
    "        'lgbmregressor__max_depth': range(1, 10),\n",
    "        'lgbmregressor__n_estimators': range(10, 210, 50)\n",
    "    },\n",
    "    {\n",
    "        'randomforestregressor__max_depth': range(1, 10),\n",
    "        'randomforestregressor__n_estimators': range(10, 210, 50)    \n",
    "    },\n",
    "    {\n",
    "   \n",
    "    }    \n",
    "]\n",
    "transformers = [\n",
    "    col_transformer_lgbmr,\n",
    "    col_transformer_tree,\n",
    "    col_transformer_linear  \n",
    "]\n",
    "for i in range(len(models)):\n",
    "    \n",
    "    pipeline = make_pipeline(\n",
    "                    transformers[i],\n",
    "                    models[i]\n",
    "                )\n",
    "    \n",
    "    model = RandomizedSearchCV(\n",
    "                pipeline, \n",
    "                param_distributions=params[i],\n",
    "                scoring='neg_root_mean_squared_error', \n",
    "                cv=5,\n",
    "                random_state=RANDOM_STATE,\n",
    "                n_jobs=-1\n",
    "                )\n",
    "    \n",
    "    optimal_models.append(model.fit(features_train, target_train))\n",
    "    model_opt_best_score = optimal_models[i].best_score_\n",
    "    model_opt_best_params = optimal_models[i].best_params_\n",
    "\n",
    "\n",
    "\n",
    "    print()\n",
    "    print(models[i],':')\n",
    "    print(f'\\t\\tлучшее значение RMSE: {model_opt_best_score: .0f}')\n",
    "    print(f'\\t\\tлучшие параметры: {model_opt_best_params}')"
   ]
  },
  {
   "cell_type": "code",
   "execution_count": 36,
   "metadata": {},
   "outputs": [
    {
     "data": {
      "text/plain": [
       "{'mean_fit_time': array([397.44904571,  13.55337782,  13.94269514, 194.73265309,\n",
       "        180.57413054,  48.66711626,  17.43534703,  10.47326479,\n",
       "         27.81579709,  22.78081422]),\n",
       " 'std_fit_time': array([53.23814766,  1.32960075,  4.70005024, 25.68615498, 15.93577504,\n",
       "        27.01208673,  3.51470729,  3.65761845,  5.71953977, 13.57510195]),\n",
       " 'mean_score_time': array([0.48691635, 0.08359566, 0.09166331, 0.37496133, 0.36495695,\n",
       "        0.44053025, 0.30095048, 0.18161001, 0.3835331 , 0.2741159 ]),\n",
       " 'std_score_time': array([0.02693962, 0.02489344, 0.00617183, 0.03050193, 0.03114181,\n",
       "        0.04264293, 0.00500941, 0.03600187, 0.03244819, 0.03591693]),\n",
       " 'param_lgbmregressor__n_estimators': masked_array(data=[160, 10, 10, 110, 110, 160, 110, 110, 160, 60],\n",
       "              mask=[False, False, False, False, False, False, False, False,\n",
       "                    False, False],\n",
       "        fill_value='?',\n",
       "             dtype=object),\n",
       " 'param_lgbmregressor__max_depth': masked_array(data=[8, 6, 5, 8, 6, 4, 3, 1, 3, 8],\n",
       "              mask=[False, False, False, False, False, False, False, False,\n",
       "                    False, False],\n",
       "        fill_value='?',\n",
       "             dtype=object),\n",
       " 'params': [{'lgbmregressor__n_estimators': 160,\n",
       "   'lgbmregressor__max_depth': 8},\n",
       "  {'lgbmregressor__n_estimators': 10, 'lgbmregressor__max_depth': 6},\n",
       "  {'lgbmregressor__n_estimators': 10, 'lgbmregressor__max_depth': 5},\n",
       "  {'lgbmregressor__n_estimators': 110, 'lgbmregressor__max_depth': 8},\n",
       "  {'lgbmregressor__n_estimators': 110, 'lgbmregressor__max_depth': 6},\n",
       "  {'lgbmregressor__n_estimators': 160, 'lgbmregressor__max_depth': 4},\n",
       "  {'lgbmregressor__n_estimators': 110, 'lgbmregressor__max_depth': 3},\n",
       "  {'lgbmregressor__n_estimators': 110, 'lgbmregressor__max_depth': 1},\n",
       "  {'lgbmregressor__n_estimators': 160, 'lgbmregressor__max_depth': 3},\n",
       "  {'lgbmregressor__n_estimators': 60, 'lgbmregressor__max_depth': 8}],\n",
       " 'split0_test_score': array([-2058.73677274, -2643.9748608 , -2664.62041094, -2071.30714662,\n",
       "        -2077.34051457, -2099.02188171, -2159.44996583, -2481.96332715,\n",
       "        -2140.48867458, -2097.9088384 ]),\n",
       " 'split1_test_score': array([-2083.51888878, -2656.39443037, -2677.41601266, -2098.77078395,\n",
       "        -2100.54345246, -2123.77399865, -2175.58836837, -2485.1494428 ,\n",
       "        -2157.2052552 , -2117.62064627]),\n",
       " 'split2_test_score': array([-2059.04634373, -2656.76531766, -2677.48236847, -2076.47033503,\n",
       "        -2077.69269787, -2102.80976207, -2164.85485777, -2495.82758514,\n",
       "        -2140.81862227, -2098.05408193]),\n",
       " 'split3_test_score': array([-2089.95445096, -2677.27910152, -2698.23710945, -2101.93856961,\n",
       "        -2104.00280468, -2123.71839294, -2183.88980518, -2508.44312762,\n",
       "        -2165.23114624, -2123.0358034 ]),\n",
       " 'split4_test_score': array([-2096.65218565, -2682.95612657, -2699.54280699, -2111.35158946,\n",
       "        -2115.5569665 , -2137.24559005, -2197.05089227, -2506.38713716,\n",
       "        -2177.38482732, -2134.60133313]),\n",
       " 'mean_test_score': array([-2077.58172837, -2663.47396738, -2683.4597417 , -2091.96768493,\n",
       "        -2095.02728721, -2117.31392508, -2176.16677788, -2495.55412397,\n",
       "        -2156.22570512, -2114.24414063]),\n",
       " 'std_test_score': array([15.81587377, 14.46013304, 13.4477628 , 15.417277  , 15.13780459,\n",
       "        14.31775557, 13.44274737, 10.73799347, 14.24639093, 14.36711182]),\n",
       " 'rank_test_score': array([ 1,  9, 10,  2,  3,  5,  7,  8,  6,  4], dtype=int32)}"
      ]
     },
     "execution_count": 36,
     "metadata": {},
     "output_type": "execute_result"
    }
   ],
   "source": [
    "optimal_models[0].cv_results_"
   ]
  },
  {
   "cell_type": "markdown",
   "metadata": {},
   "source": [
    "### Обучение и анализ моделей"
   ]
  },
  {
   "cell_type": "markdown",
   "metadata": {},
   "source": [
    "Обучим модели с оптимальными гиперпараметрами, измерим качество модели с помощью кросс-валидации, а также время обучения и время предсказания."
   ]
  },
  {
   "cell_type": "code",
   "execution_count": 55,
   "metadata": {
    "scrolled": true
   },
   "outputs": [
    {
     "name": "stdout",
     "output_type": "stream",
     "text": [
      "\n",
      "LGBMRegressor(max_depth=8, n_estimators=160, random_state=0) :\n",
      "\t\tСреднее RMSE при кросс-валидации:  2078\n",
      "\t\tВремя обучения:  4.70\n",
      "\t\tВремя предсказания:  2.32\n",
      "\n",
      "RandomForestRegressor(max_depth=8, n_estimators=160, random_state=0) :\n",
      "\t\tСреднее RMSE при кросс-валидации:  2049\n",
      "\t\tВремя обучения:  49.71\n",
      "\t\tВремя предсказания:  2.53\n",
      "\n",
      "LinearRegression() :\n",
      "\t\tСреднее RMSE при кросс-валидации:  2606\n",
      "\t\tВремя обучения:  37.85\n",
      "\t\tВремя предсказания:  0.54\n"
     ]
    }
   ],
   "source": [
    "models = [\n",
    "    LGBMRegressor(random_state=RANDOM_STATE, n_estimators=160, max_depth=8),\n",
    "    RandomForestRegressor(random_state=RANDOM_STATE, n_estimators=160, max_depth=8),\n",
    "    LinearRegression()\n",
    "]\n",
    "transformers = [\n",
    "    col_transformer_lgbmr,\n",
    "    col_transformer_tree,\n",
    "    col_transformer_linear  \n",
    "]\n",
    "optimal_models = []\n",
    "\n",
    "for i in range(len(models)):\n",
    "    \n",
    "    pipeline = make_pipeline(\n",
    "                    transformers[i],\n",
    "                    models[i]\n",
    "                )\n",
    "    \n",
    "    score = cross_val_score(pipeline, features_train, target_train, cv=5, scoring='neg_root_mean_squared_error').mean() * -1\n",
    "    fitting_start_time = time.time()\n",
    "    optimal_models.append(pipeline.fit(features_train, target_train))\n",
    "    fitting_end_time = time.time()\n",
    "    predict = pipeline.predict(features_train)\n",
    "    prediction_end_time = time.time()\n",
    "    \n",
    "\n",
    "\n",
    "\n",
    "    print()\n",
    "    print(models[i],':')\n",
    "    print(f'\\t\\tСреднее RMSE при кросс-валидации: {score: .0f}')\n",
    "    print(f'\\t\\tВремя обучения: {fitting_end_time - fitting_start_time: .2f}')\n",
    "    print(f'\\t\\tВремя предсказания: {prediction_end_time - fitting_end_time: .2f}')"
   ]
  },
  {
   "cell_type": "markdown",
   "metadata": {},
   "source": [
    "LinearRegression даёт слишком большое значение RMSE, поэтому использовать эту модель для решения поставленной задачи не стоит. LGBMRegressor показывает значение RMSE незначительно больше RandomForestRegressor. При этом время обучения первой модели в 10 раз меньше времени обучения второй, что является существенным преимуществом. Также время предсказания - меньше на 10%.\n",
    "    \n",
    "Всвязи с этим для решения поставленной задачи рекомендуется использовать модель **LGBMRegressor с гиперпараметрами `max_depth=8`, `n_estimators=160` и `random_state=0`**. "
   ]
  },
  {
   "cell_type": "markdown",
   "metadata": {},
   "source": [
    "### Вывод"
   ]
  },
  {
   "cell_type": "markdown",
   "metadata": {},
   "source": [
    "В ходе данного этапа\n",
    " - данные были подготовлены для обучения;\n",
    " - были выявлены оптимальные гиперпарметры для модели LGBMRegressor и RandomForestRegressor;\n",
    " - было проверено качество моделей LGBMRegressor, RandomForestRegressor и LinerRegression с помощью кросс-валидации;\n",
    " - были обучены модели с оптимальными гиперпараметрами;\n",
    " - было рассчитано качество моделей на тестовой выборке и измерено время обучения и предсказания в секундах:\n",
    "\n",
    "|N|модель|RMSE|время обучения|время предсказания|\n",
    "|:-|:-|:-|:-|:-|\n",
    "|1|LGBMRegressor|2078|4.68|2.22|\n",
    "|2|RandomForestRegressor|2049|47.27|2.54|\n",
    "|3|LinearRegression|2606|36.25|0.49|\n",
    "\n",
    " - на основании полученных данных была вынесена рекомендация использовать для решения задачи модель **LGBMRegressor с гиперпараметрами `n_estimators=160` и `max_depth=8`**."
   ]
  },
  {
   "cell_type": "markdown",
   "metadata": {},
   "source": [
    "## Тестирование рекомендованной модели"
   ]
  },
  {
   "cell_type": "markdown",
   "metadata": {},
   "source": [
    "### Оценка качества на тестовой выборке"
   ]
  },
  {
   "cell_type": "markdown",
   "metadata": {},
   "source": [
    "Узнаем качество LGBMRegressor на тестовой выборке и время предсказания."
   ]
  },
  {
   "cell_type": "code",
   "execution_count": 57,
   "metadata": {
    "scrolled": false
   },
   "outputs": [
    {
     "name": "stdout",
     "output_type": "stream",
     "text": [
      "Значение RMSE на тестовой выборке:  2069\n"
     ]
    }
   ],
   "source": [
    "final_model = make_pipeline(transformers[0], models[0])\n",
    "predict = final_model.predict(features_test)\n",
    "    \n",
    "score = mean_squared_error(predict, target_test, squared=False)\n",
    "    \n",
    "print(f'Значение RMSE на тестовой выборке: {score: .0f}')"
   ]
  },
  {
   "cell_type": "markdown",
   "metadata": {},
   "source": [
    "Значение RMSE меньше 2500, что удовлетворяет условиям задачи."
   ]
  },
  {
   "cell_type": "markdown",
   "metadata": {},
   "source": [
    "### Проверка на адекватность"
   ]
  },
  {
   "cell_type": "markdown",
   "metadata": {},
   "source": [
    "Для проверки на адекватность обучим dummy-модель."
   ]
  },
  {
   "cell_type": "code",
   "execution_count": 58,
   "metadata": {
    "scrolled": true
   },
   "outputs": [
    {
     "name": "stdout",
     "output_type": "stream",
     "text": [
      "Качество dummy-модели на тествой выборке: 4535\n"
     ]
    }
   ],
   "source": [
    "dummy = DummyRegressor()\n",
    "\n",
    "dummy_pipeline = make_pipeline(\n",
    "                 col_transformer_tree,\n",
    "                 dummy\n",
    "                 )\n",
    "dummy_pipeline.fit(features_train, target_train)\n",
    "predict = dummy_pipeline.predict(features_test)\n",
    "\n",
    "score = mean_squared_error(predict, target_test, squared=False)\n",
    "\n",
    "print(f'Качество dummy-модели на тествой выборке: {score:.0f}' )"
   ]
  },
  {
   "cell_type": "markdown",
   "metadata": {},
   "source": [
    "Dummy-модель значительно хуже рекомендуемой - значит, применение рекомендуемой модели адекватно."
   ]
  },
  {
   "cell_type": "markdown",
   "metadata": {},
   "source": [
    "### Вывод "
   ]
  },
  {
   "cell_type": "markdown",
   "metadata": {},
   "source": [
    "В ходе данного этапа\n",
    " - была проведена оценка рекомендуемой модели на тестовой выборке, RMSE оказалось меньше 2500, что удовлетворяет условиям задачи;\n",
    " - для провекри на адекватность была обучена dummy-модель, RMSE которой оказалось более 4500 - была подтверждена адекватность использования рекомендуемой модели."
   ]
  },
  {
   "cell_type": "markdown",
   "metadata": {},
   "source": [
    "## Общий вывод"
   ]
  },
  {
   "cell_type": "markdown",
   "metadata": {},
   "source": [
    "В ходе работы\n",
    "- была проведена предобработка данных:\n",
    "  - данные были загружены и просмотрены;\n",
    "  - из данных были удалены неинформативные признаки;\n",
    "  - данные были проанализированы, на основе чего были удалены выбросы;\n",
    "  - были заполнены пропуски в данных;\n",
    "- были обучены модели и проанализированы модели для решения задачи:\n",
    "   - данные были подготовлены для обучения;\n",
    "   - были выявлены оптимальные гиперпарметры для модели LGBMRegressor и RandomForestRegressor;\n",
    "   - было проверено качество моделей LGBMRegressor, RandomForestRegressor и LinerRegression с помощью кросс-валидации;\n",
    "   - были обучены модели с оптимальными гиперпараметрами;\n",
    "   - было рассчитано качество моделей на тестовой выборке и измерено время обучения и предсказания в секундах:\n",
    "\n",
    "|N|модель|RMSE|время обучения|время предсказания|\n",
    "|:-|:-|:-|:-|:-|\n",
    "|1|LGBMRegressor|2078|4.68|2.22|\n",
    "|2|RandomForestRegressor|2049|47.27|2.54|\n",
    "|3|LinearRegression|2606|36.25|0.49|\n",
    "\n",
    "- на основании полученных данных была вынесена рекомендация использовать для решения задачи модель **LGBMRegressor с гиперпараметрами `n_estimators=160` и `max_depth=8`**;\n",
    "- было проведено тестирование рекомендованной модели:\n",
    "    - была проведена оценка рекомендуемой модели на тестовой выборке, RMSE оказалось меньше 2500, что удовлетворяет условиям задачи;\n",
    "    - для провекри на адекватность была обучена dummy-модель, RMSE которой оказалось более 4500 - была подтверждена адекватность использования рекомендуемой модели. "
   ]
  }
 ],
 "metadata": {
  "ExecuteTimeLog": [
   {
    "duration": 1118,
    "start_time": "2023-03-18T07:16:59.571Z"
   },
   {
    "duration": 92,
    "start_time": "2023-03-18T07:17:02.740Z"
   },
   {
    "duration": 18,
    "start_time": "2023-03-18T07:17:13.894Z"
   },
   {
    "duration": 1355,
    "start_time": "2023-03-18T07:17:56.825Z"
   },
   {
    "duration": 15,
    "start_time": "2023-03-18T07:17:58.182Z"
   },
   {
    "duration": 32,
    "start_time": "2023-03-18T07:36:39.781Z"
   },
   {
    "duration": 39,
    "start_time": "2023-03-18T07:36:51.660Z"
   },
   {
    "duration": 147,
    "start_time": "2023-03-18T07:39:10.725Z"
   },
   {
    "duration": 92,
    "start_time": "2023-03-18T07:41:08.555Z"
   },
   {
    "duration": 103,
    "start_time": "2023-03-18T07:41:28.521Z"
   },
   {
    "duration": 81,
    "start_time": "2023-03-18T07:41:39.410Z"
   },
   {
    "duration": 889,
    "start_time": "2023-03-18T07:42:30.798Z"
   },
   {
    "duration": 115,
    "start_time": "2023-03-18T07:46:47.402Z"
   },
   {
    "duration": 54,
    "start_time": "2023-03-18T07:46:54.102Z"
   },
   {
    "duration": 501,
    "start_time": "2023-03-18T07:47:19.949Z"
   },
   {
    "duration": 423,
    "start_time": "2023-03-18T07:48:17.131Z"
   },
   {
    "duration": 612,
    "start_time": "2023-03-18T07:49:35.003Z"
   },
   {
    "duration": 879,
    "start_time": "2023-03-18T07:49:48.568Z"
   },
   {
    "duration": 6,
    "start_time": "2023-03-18T07:54:46.117Z"
   },
   {
    "duration": 60,
    "start_time": "2023-03-18T07:58:07.870Z"
   },
   {
    "duration": 189,
    "start_time": "2023-03-18T07:58:16.558Z"
   },
   {
    "duration": 36,
    "start_time": "2023-03-18T07:58:23.660Z"
   },
   {
    "duration": 125,
    "start_time": "2023-03-18T07:58:26.351Z"
   },
   {
    "duration": 179,
    "start_time": "2023-03-18T08:02:42.036Z"
   },
   {
    "duration": 38,
    "start_time": "2023-03-18T10:13:38.188Z"
   },
   {
    "duration": 6,
    "start_time": "2023-03-18T10:13:39.680Z"
   },
   {
    "duration": 17,
    "start_time": "2023-03-18T10:13:41.859Z"
   },
   {
    "duration": 144,
    "start_time": "2023-03-18T10:13:42.210Z"
   },
   {
    "duration": 62,
    "start_time": "2023-03-18T10:14:39.003Z"
   },
   {
    "duration": 174,
    "start_time": "2023-03-18T10:14:39.504Z"
   },
   {
    "duration": 89,
    "start_time": "2023-03-18T10:14:40.663Z"
   },
   {
    "duration": 919,
    "start_time": "2023-03-18T10:14:43.097Z"
   },
   {
    "duration": 246,
    "start_time": "2023-03-18T10:15:01.570Z"
   },
   {
    "duration": 217,
    "start_time": "2023-03-18T10:15:18.862Z"
   },
   {
    "duration": 280,
    "start_time": "2023-03-18T10:15:51.929Z"
   },
   {
    "duration": 270,
    "start_time": "2023-03-18T10:17:41.474Z"
   },
   {
    "duration": 188,
    "start_time": "2023-03-18T10:17:50.529Z"
   },
   {
    "duration": 23,
    "start_time": "2023-03-18T10:18:41.509Z"
   },
   {
    "duration": 13,
    "start_time": "2023-03-18T10:18:46.695Z"
   },
   {
    "duration": 15,
    "start_time": "2023-03-18T10:19:00.552Z"
   },
   {
    "duration": 18,
    "start_time": "2023-03-18T10:19:20.693Z"
   },
   {
    "duration": 11,
    "start_time": "2023-03-18T10:19:25.585Z"
   },
   {
    "duration": 17,
    "start_time": "2023-03-18T10:20:02.657Z"
   },
   {
    "duration": 18,
    "start_time": "2023-03-18T10:20:14.858Z"
   },
   {
    "duration": 18,
    "start_time": "2023-03-18T10:20:51.970Z"
   },
   {
    "duration": 15,
    "start_time": "2023-03-18T10:20:55.472Z"
   },
   {
    "duration": 9,
    "start_time": "2023-03-18T10:21:21.528Z"
   },
   {
    "duration": 15,
    "start_time": "2023-03-18T10:21:53.250Z"
   },
   {
    "duration": 810,
    "start_time": "2023-03-18T10:28:54.202Z"
   },
   {
    "duration": 877,
    "start_time": "2023-03-18T10:29:04.567Z"
   },
   {
    "duration": 10,
    "start_time": "2023-03-18T10:32:25.347Z"
   },
   {
    "duration": 58,
    "start_time": "2023-03-18T10:33:05.572Z"
   },
   {
    "duration": 14,
    "start_time": "2023-03-18T10:33:08.550Z"
   },
   {
    "duration": 17,
    "start_time": "2023-03-18T10:34:19.557Z"
   },
   {
    "duration": 11,
    "start_time": "2023-03-18T10:37:21.668Z"
   },
   {
    "duration": 8,
    "start_time": "2023-03-18T10:37:25.226Z"
   },
   {
    "duration": 22,
    "start_time": "2023-03-18T10:37:28.956Z"
   },
   {
    "duration": 14,
    "start_time": "2023-03-18T10:37:34.525Z"
   },
   {
    "duration": 17,
    "start_time": "2023-03-18T10:37:37.300Z"
   },
   {
    "duration": 111,
    "start_time": "2023-03-18T10:40:16.906Z"
   },
   {
    "duration": 57,
    "start_time": "2023-03-18T10:43:05.350Z"
   },
   {
    "duration": 15,
    "start_time": "2023-03-18T10:44:44.575Z"
   },
   {
    "duration": 33,
    "start_time": "2023-03-18T10:44:54.919Z"
   },
   {
    "duration": 61,
    "start_time": "2023-03-18T10:44:55.819Z"
   },
   {
    "duration": 283,
    "start_time": "2023-03-18T10:44:59.770Z"
   },
   {
    "duration": 584,
    "start_time": "2023-03-18T10:46:10.822Z"
   },
   {
    "duration": 558,
    "start_time": "2023-03-18T10:47:10.457Z"
   },
   {
    "duration": 659,
    "start_time": "2023-03-18T10:47:36.671Z"
   },
   {
    "duration": 173,
    "start_time": "2023-03-18T10:47:38.553Z"
   },
   {
    "duration": 9,
    "start_time": "2023-03-18T10:48:39.572Z"
   },
   {
    "duration": 5,
    "start_time": "2023-03-18T10:49:23.291Z"
   },
   {
    "duration": 1425,
    "start_time": "2023-03-18T10:49:23.298Z"
   },
   {
    "duration": 28,
    "start_time": "2023-03-18T10:49:24.725Z"
   },
   {
    "duration": 66,
    "start_time": "2023-03-18T10:49:24.755Z"
   },
   {
    "duration": 4,
    "start_time": "2023-03-18T10:49:24.823Z"
   },
   {
    "duration": 70,
    "start_time": "2023-03-18T10:49:24.829Z"
   },
   {
    "duration": 140,
    "start_time": "2023-03-18T10:49:24.901Z"
   },
   {
    "duration": 76,
    "start_time": "2023-03-18T10:49:25.048Z"
   },
   {
    "duration": 694,
    "start_time": "2023-03-18T10:49:25.126Z"
   },
   {
    "duration": 350,
    "start_time": "2023-03-18T10:49:25.823Z"
   },
   {
    "duration": 17,
    "start_time": "2023-03-18T10:49:26.175Z"
   },
   {
    "duration": 216,
    "start_time": "2023-03-18T10:49:26.197Z"
   },
   {
    "duration": 6,
    "start_time": "2023-03-18T10:49:26.415Z"
   },
   {
    "duration": 28,
    "start_time": "2023-03-18T10:49:26.423Z"
   },
   {
    "duration": 57,
    "start_time": "2023-03-18T10:49:26.462Z"
   },
   {
    "duration": 49,
    "start_time": "2023-03-18T10:49:26.521Z"
   },
   {
    "duration": 254,
    "start_time": "2023-03-18T10:49:26.572Z"
   },
   {
    "duration": 665,
    "start_time": "2023-03-18T10:49:26.828Z"
   },
   {
    "duration": 617,
    "start_time": "2023-03-18T10:49:27.498Z"
   },
   {
    "duration": 140,
    "start_time": "2023-03-18T10:49:30.520Z"
   },
   {
    "duration": 133,
    "start_time": "2023-03-18T10:52:39.278Z"
   },
   {
    "duration": 286,
    "start_time": "2023-03-18T10:52:48.602Z"
   },
   {
    "duration": 302,
    "start_time": "2023-03-18T10:52:54.199Z"
   },
   {
    "duration": 11,
    "start_time": "2023-03-18T10:53:49.959Z"
   },
   {
    "duration": 11,
    "start_time": "2023-03-18T10:54:00.305Z"
   },
   {
    "duration": 6,
    "start_time": "2023-03-18T10:59:10.557Z"
   },
   {
    "duration": 1257,
    "start_time": "2023-03-18T10:59:10.565Z"
   },
   {
    "duration": 20,
    "start_time": "2023-03-18T10:59:11.827Z"
   },
   {
    "duration": 122,
    "start_time": "2023-03-18T10:59:11.851Z"
   },
   {
    "duration": 61,
    "start_time": "2023-03-18T10:59:11.978Z"
   },
   {
    "duration": 121,
    "start_time": "2023-03-18T10:59:12.041Z"
   },
   {
    "duration": 377,
    "start_time": "2023-03-18T10:59:12.168Z"
   },
   {
    "duration": 174,
    "start_time": "2023-03-18T10:59:12.555Z"
   },
   {
    "duration": 884,
    "start_time": "2023-03-18T10:59:12.739Z"
   },
   {
    "duration": 242,
    "start_time": "2023-03-18T10:59:13.630Z"
   },
   {
    "duration": 12,
    "start_time": "2023-03-18T10:59:13.879Z"
   },
   {
    "duration": 254,
    "start_time": "2023-03-18T10:59:13.897Z"
   },
   {
    "duration": 15,
    "start_time": "2023-03-18T10:59:14.157Z"
   },
   {
    "duration": 34,
    "start_time": "2023-03-18T10:59:14.179Z"
   },
   {
    "duration": 60,
    "start_time": "2023-03-18T10:59:14.219Z"
   },
   {
    "duration": 33,
    "start_time": "2023-03-18T10:59:14.288Z"
   },
   {
    "duration": 108,
    "start_time": "2023-03-18T10:59:14.327Z"
   },
   {
    "duration": 0,
    "start_time": "2023-03-18T10:59:14.439Z"
   },
   {
    "duration": 0,
    "start_time": "2023-03-18T10:59:14.440Z"
   },
   {
    "duration": 0,
    "start_time": "2023-03-18T10:59:14.452Z"
   },
   {
    "duration": 0,
    "start_time": "2023-03-18T10:59:14.454Z"
   },
   {
    "duration": 0,
    "start_time": "2023-03-18T10:59:14.456Z"
   },
   {
    "duration": 0,
    "start_time": "2023-03-18T10:59:14.458Z"
   },
   {
    "duration": 14,
    "start_time": "2023-03-18T11:00:10.429Z"
   },
   {
    "duration": 84,
    "start_time": "2023-03-18T11:00:14.691Z"
   },
   {
    "duration": 261,
    "start_time": "2023-03-18T11:00:21.714Z"
   },
   {
    "duration": 0,
    "start_time": "2023-03-18T11:00:21.978Z"
   },
   {
    "duration": 0,
    "start_time": "2023-03-18T11:00:21.980Z"
   },
   {
    "duration": 0,
    "start_time": "2023-03-18T11:00:21.981Z"
   },
   {
    "duration": 0,
    "start_time": "2023-03-18T11:00:21.983Z"
   },
   {
    "duration": 0,
    "start_time": "2023-03-18T11:00:21.984Z"
   },
   {
    "duration": 0,
    "start_time": "2023-03-18T11:00:21.986Z"
   },
   {
    "duration": 29,
    "start_time": "2023-03-18T11:06:56.051Z"
   },
   {
    "duration": 3,
    "start_time": "2023-03-18T11:07:05.879Z"
   },
   {
    "duration": 10603,
    "start_time": "2023-03-18T11:07:53.458Z"
   },
   {
    "duration": 5,
    "start_time": "2023-03-18T11:11:33.091Z"
   },
   {
    "duration": 1016,
    "start_time": "2023-03-18T11:11:33.099Z"
   },
   {
    "duration": 15,
    "start_time": "2023-03-18T11:11:34.116Z"
   },
   {
    "duration": 72,
    "start_time": "2023-03-18T11:11:34.133Z"
   },
   {
    "duration": 4,
    "start_time": "2023-03-18T11:11:34.207Z"
   },
   {
    "duration": 49,
    "start_time": "2023-03-18T11:11:34.213Z"
   },
   {
    "duration": 122,
    "start_time": "2023-03-18T11:11:34.265Z"
   },
   {
    "duration": 3,
    "start_time": "2023-03-18T11:11:34.389Z"
   },
   {
    "duration": 84,
    "start_time": "2023-03-18T11:11:34.394Z"
   },
   {
    "duration": 647,
    "start_time": "2023-03-18T11:11:34.480Z"
   },
   {
    "duration": 194,
    "start_time": "2023-03-18T11:11:35.135Z"
   },
   {
    "duration": 9,
    "start_time": "2023-03-18T11:11:35.333Z"
   },
   {
    "duration": 208,
    "start_time": "2023-03-18T11:11:35.344Z"
   },
   {
    "duration": 10,
    "start_time": "2023-03-18T11:11:35.562Z"
   },
   {
    "duration": 22,
    "start_time": "2023-03-18T11:11:35.577Z"
   },
   {
    "duration": 21,
    "start_time": "2023-03-18T11:11:35.601Z"
   },
   {
    "duration": 4,
    "start_time": "2023-03-18T11:11:35.624Z"
   },
   {
    "duration": 9517,
    "start_time": "2023-03-18T11:11:35.633Z"
   },
   {
    "duration": 0,
    "start_time": "2023-03-18T11:11:45.151Z"
   },
   {
    "duration": 0,
    "start_time": "2023-03-18T11:11:45.152Z"
   },
   {
    "duration": 0,
    "start_time": "2023-03-18T11:11:45.153Z"
   },
   {
    "duration": 0,
    "start_time": "2023-03-18T11:11:45.154Z"
   },
   {
    "duration": 0,
    "start_time": "2023-03-18T11:11:45.155Z"
   },
   {
    "duration": 0,
    "start_time": "2023-03-18T11:11:45.156Z"
   },
   {
    "duration": 93,
    "start_time": "2023-03-18T11:13:05.553Z"
   },
   {
    "duration": 11,
    "start_time": "2023-03-18T11:13:07.290Z"
   },
   {
    "duration": 14,
    "start_time": "2023-03-18T11:18:12.104Z"
   },
   {
    "duration": 11313,
    "start_time": "2023-03-18T11:19:06.893Z"
   },
   {
    "duration": 9,
    "start_time": "2023-03-18T11:19:41.230Z"
   },
   {
    "duration": 1365,
    "start_time": "2023-03-18T11:19:41.242Z"
   },
   {
    "duration": 24,
    "start_time": "2023-03-18T11:19:42.616Z"
   },
   {
    "duration": 101,
    "start_time": "2023-03-18T11:19:42.642Z"
   },
   {
    "duration": 4,
    "start_time": "2023-03-18T11:19:42.752Z"
   },
   {
    "duration": 64,
    "start_time": "2023-03-18T11:19:42.761Z"
   },
   {
    "duration": 292,
    "start_time": "2023-03-18T11:19:42.827Z"
   },
   {
    "duration": 63,
    "start_time": "2023-03-18T11:19:43.121Z"
   },
   {
    "duration": 208,
    "start_time": "2023-03-18T11:19:43.192Z"
   },
   {
    "duration": 1061,
    "start_time": "2023-03-18T11:19:43.402Z"
   },
   {
    "duration": 204,
    "start_time": "2023-03-18T11:19:44.469Z"
   },
   {
    "duration": 9,
    "start_time": "2023-03-18T11:19:44.679Z"
   },
   {
    "duration": 212,
    "start_time": "2023-03-18T11:19:44.693Z"
   },
   {
    "duration": 9,
    "start_time": "2023-03-18T11:19:44.911Z"
   },
   {
    "duration": 41,
    "start_time": "2023-03-18T11:19:44.921Z"
   },
   {
    "duration": 149,
    "start_time": "2023-03-18T11:19:44.964Z"
   },
   {
    "duration": 10,
    "start_time": "2023-03-18T11:19:45.115Z"
   },
   {
    "duration": 101,
    "start_time": "2023-03-18T11:19:45.126Z"
   },
   {
    "duration": 229,
    "start_time": "2023-03-18T11:19:45.229Z"
   },
   {
    "duration": 611,
    "start_time": "2023-03-18T11:19:45.460Z"
   },
   {
    "duration": 651,
    "start_time": "2023-03-18T11:19:46.076Z"
   },
   {
    "duration": 156,
    "start_time": "2023-03-18T11:19:46.732Z"
   },
   {
    "duration": 348,
    "start_time": "2023-03-18T11:19:46.894Z"
   },
   {
    "duration": 55,
    "start_time": "2023-03-18T11:23:02.911Z"
   },
   {
    "duration": 37,
    "start_time": "2023-03-18T11:27:51.250Z"
   },
   {
    "duration": 40,
    "start_time": "2023-03-18T11:32:08.878Z"
   },
   {
    "duration": 123,
    "start_time": "2023-03-18T11:32:17.460Z"
   },
   {
    "duration": 187,
    "start_time": "2023-03-18T11:32:50.627Z"
   },
   {
    "duration": 142,
    "start_time": "2023-03-18T11:41:43.251Z"
   },
   {
    "duration": 18,
    "start_time": "2023-03-18T11:41:57.770Z"
   },
   {
    "duration": 23,
    "start_time": "2023-03-18T11:42:49.959Z"
   },
   {
    "duration": 15,
    "start_time": "2023-03-18T11:43:06.759Z"
   },
   {
    "duration": 1590,
    "start_time": "2023-03-18T11:43:06.776Z"
   },
   {
    "duration": 26,
    "start_time": "2023-03-18T11:43:08.368Z"
   },
   {
    "duration": 168,
    "start_time": "2023-03-18T11:43:08.397Z"
   },
   {
    "duration": 114,
    "start_time": "2023-03-18T11:43:08.575Z"
   },
   {
    "duration": 70,
    "start_time": "2023-03-18T11:43:08.705Z"
   },
   {
    "duration": 285,
    "start_time": "2023-03-18T11:43:08.778Z"
   },
   {
    "duration": 64,
    "start_time": "2023-03-18T11:43:09.065Z"
   },
   {
    "duration": 294,
    "start_time": "2023-03-18T11:43:09.132Z"
   },
   {
    "duration": 965,
    "start_time": "2023-03-18T11:43:09.428Z"
   },
   {
    "duration": 194,
    "start_time": "2023-03-18T11:43:10.398Z"
   },
   {
    "duration": 28,
    "start_time": "2023-03-18T11:43:10.597Z"
   },
   {
    "duration": 375,
    "start_time": "2023-03-18T11:43:10.630Z"
   },
   {
    "duration": 14,
    "start_time": "2023-03-18T11:43:11.013Z"
   },
   {
    "duration": 129,
    "start_time": "2023-03-18T11:43:11.030Z"
   },
   {
    "duration": 139,
    "start_time": "2023-03-18T11:43:11.161Z"
   },
   {
    "duration": 16,
    "start_time": "2023-03-18T11:43:11.306Z"
   },
   {
    "duration": 186,
    "start_time": "2023-03-18T11:43:11.326Z"
   },
   {
    "duration": 283,
    "start_time": "2023-03-18T11:43:11.527Z"
   },
   {
    "duration": 745,
    "start_time": "2023-03-18T11:43:11.816Z"
   },
   {
    "duration": 764,
    "start_time": "2023-03-18T11:43:12.563Z"
   },
   {
    "duration": 144,
    "start_time": "2023-03-18T11:43:13.329Z"
   },
   {
    "duration": 377,
    "start_time": "2023-03-18T11:43:13.480Z"
   },
   {
    "duration": 179,
    "start_time": "2023-03-18T11:43:13.866Z"
   },
   {
    "duration": 62,
    "start_time": "2023-03-18T11:43:14.055Z"
   },
   {
    "duration": 4,
    "start_time": "2023-03-18T11:43:45.514Z"
   },
   {
    "duration": 1178,
    "start_time": "2023-03-18T11:43:45.521Z"
   },
   {
    "duration": 29,
    "start_time": "2023-03-18T11:43:46.706Z"
   },
   {
    "duration": 110,
    "start_time": "2023-03-18T11:43:46.741Z"
   },
   {
    "duration": 65,
    "start_time": "2023-03-18T11:43:46.856Z"
   },
   {
    "duration": 98,
    "start_time": "2023-03-18T11:43:46.923Z"
   },
   {
    "duration": 297,
    "start_time": "2023-03-18T11:43:47.023Z"
   },
   {
    "duration": 28,
    "start_time": "2023-03-18T11:43:47.329Z"
   },
   {
    "duration": 156,
    "start_time": "2023-03-18T11:43:47.365Z"
   },
   {
    "duration": 755,
    "start_time": "2023-03-18T11:43:47.523Z"
   },
   {
    "duration": 193,
    "start_time": "2023-03-18T11:43:48.280Z"
   },
   {
    "duration": 13,
    "start_time": "2023-03-18T11:43:48.476Z"
   },
   {
    "duration": 193,
    "start_time": "2023-03-18T11:43:48.491Z"
   },
   {
    "duration": 9,
    "start_time": "2023-03-18T11:43:48.691Z"
   },
   {
    "duration": 12,
    "start_time": "2023-03-18T11:43:48.702Z"
   },
   {
    "duration": 135,
    "start_time": "2023-03-18T11:43:48.716Z"
   },
   {
    "duration": 18,
    "start_time": "2023-03-18T11:43:48.855Z"
   },
   {
    "duration": 63,
    "start_time": "2023-03-18T11:43:48.879Z"
   },
   {
    "duration": 226,
    "start_time": "2023-03-18T11:43:48.947Z"
   },
   {
    "duration": 599,
    "start_time": "2023-03-18T11:43:49.177Z"
   },
   {
    "duration": 626,
    "start_time": "2023-03-18T11:43:49.785Z"
   },
   {
    "duration": 107,
    "start_time": "2023-03-18T11:43:50.417Z"
   },
   {
    "duration": 242,
    "start_time": "2023-03-18T11:43:50.526Z"
   },
   {
    "duration": 164,
    "start_time": "2023-03-18T11:43:50.774Z"
   },
   {
    "duration": 19,
    "start_time": "2023-03-18T11:43:50.944Z"
   },
   {
    "duration": 5,
    "start_time": "2023-03-18T11:44:53.298Z"
   },
   {
    "duration": 6,
    "start_time": "2023-03-18T11:44:56.989Z"
   },
   {
    "duration": 1397,
    "start_time": "2023-03-18T11:44:57.003Z"
   },
   {
    "duration": 18,
    "start_time": "2023-03-18T11:44:58.402Z"
   },
   {
    "duration": 34,
    "start_time": "2023-03-18T11:44:58.430Z"
   },
   {
    "duration": 54,
    "start_time": "2023-03-18T11:44:58.467Z"
   },
   {
    "duration": 72,
    "start_time": "2023-03-18T11:44:58.523Z"
   },
   {
    "duration": 152,
    "start_time": "2023-03-18T11:44:58.598Z"
   },
   {
    "duration": 51,
    "start_time": "2023-03-18T11:44:58.752Z"
   },
   {
    "duration": 102,
    "start_time": "2023-03-18T11:44:58.806Z"
   },
   {
    "duration": 1004,
    "start_time": "2023-03-18T11:44:58.911Z"
   },
   {
    "duration": 211,
    "start_time": "2023-03-18T11:44:59.917Z"
   },
   {
    "duration": 31,
    "start_time": "2023-03-18T11:45:00.130Z"
   },
   {
    "duration": 217,
    "start_time": "2023-03-18T11:45:00.171Z"
   },
   {
    "duration": 7,
    "start_time": "2023-03-18T11:45:00.392Z"
   },
   {
    "duration": 110,
    "start_time": "2023-03-18T11:45:00.401Z"
   },
   {
    "duration": 130,
    "start_time": "2023-03-18T11:45:00.514Z"
   },
   {
    "duration": 92,
    "start_time": "2023-03-18T11:45:00.646Z"
   },
   {
    "duration": 155,
    "start_time": "2023-03-18T11:45:00.741Z"
   },
   {
    "duration": 305,
    "start_time": "2023-03-18T11:45:00.899Z"
   },
   {
    "duration": 746,
    "start_time": "2023-03-18T11:45:01.207Z"
   },
   {
    "duration": 823,
    "start_time": "2023-03-18T11:45:01.956Z"
   },
   {
    "duration": 119,
    "start_time": "2023-03-18T11:45:02.787Z"
   },
   {
    "duration": 258,
    "start_time": "2023-03-18T11:45:02.909Z"
   },
   {
    "duration": 171,
    "start_time": "2023-03-18T11:45:03.174Z"
   },
   {
    "duration": 21,
    "start_time": "2023-03-18T11:45:03.352Z"
   },
   {
    "duration": 1802,
    "start_time": "2023-03-18T11:45:19.857Z"
   },
   {
    "duration": 1661,
    "start_time": "2023-03-18T11:51:30.621Z"
   },
   {
    "duration": 837,
    "start_time": "2023-03-18T11:52:15.459Z"
   },
   {
    "duration": 117,
    "start_time": "2023-03-18T12:03:05.974Z"
   },
   {
    "duration": 31,
    "start_time": "2023-03-18T12:04:55.022Z"
   },
   {
    "duration": 853,
    "start_time": "2023-03-18T12:05:08.621Z"
   },
   {
    "duration": 5,
    "start_time": "2023-03-18T12:15:39.621Z"
   },
   {
    "duration": 13,
    "start_time": "2023-03-18T12:16:04.006Z"
   },
   {
    "duration": 64,
    "start_time": "2023-03-18T12:16:23.230Z"
   },
   {
    "duration": 40,
    "start_time": "2023-03-18T12:16:45.055Z"
   },
   {
    "duration": 5,
    "start_time": "2023-03-18T12:17:08.406Z"
   },
   {
    "duration": 1039,
    "start_time": "2023-03-18T12:17:08.413Z"
   },
   {
    "duration": 22,
    "start_time": "2023-03-18T12:17:09.455Z"
   },
   {
    "duration": 33,
    "start_time": "2023-03-18T12:17:09.479Z"
   },
   {
    "duration": 11,
    "start_time": "2023-03-18T12:17:09.515Z"
   },
   {
    "duration": 65,
    "start_time": "2023-03-18T12:17:09.528Z"
   },
   {
    "duration": 116,
    "start_time": "2023-03-18T12:17:09.594Z"
   },
   {
    "duration": 3,
    "start_time": "2023-03-18T12:17:09.712Z"
   },
   {
    "duration": 81,
    "start_time": "2023-03-18T12:17:09.716Z"
   },
   {
    "duration": 691,
    "start_time": "2023-03-18T12:17:09.798Z"
   },
   {
    "duration": 172,
    "start_time": "2023-03-18T12:17:10.491Z"
   },
   {
    "duration": 7,
    "start_time": "2023-03-18T12:17:10.667Z"
   },
   {
    "duration": 173,
    "start_time": "2023-03-18T12:17:10.676Z"
   },
   {
    "duration": 13,
    "start_time": "2023-03-18T12:17:10.852Z"
   },
   {
    "duration": 22,
    "start_time": "2023-03-18T12:17:10.867Z"
   },
   {
    "duration": 76,
    "start_time": "2023-03-18T12:17:10.891Z"
   },
   {
    "duration": 7,
    "start_time": "2023-03-18T12:17:10.972Z"
   },
   {
    "duration": 31,
    "start_time": "2023-03-18T12:17:10.981Z"
   },
   {
    "duration": 178,
    "start_time": "2023-03-18T12:17:11.013Z"
   },
   {
    "duration": 507,
    "start_time": "2023-03-18T12:17:11.193Z"
   },
   {
    "duration": 521,
    "start_time": "2023-03-18T12:17:11.701Z"
   },
   {
    "duration": 91,
    "start_time": "2023-03-18T12:17:12.224Z"
   },
   {
    "duration": 201,
    "start_time": "2023-03-18T12:17:12.316Z"
   },
   {
    "duration": 153,
    "start_time": "2023-03-18T12:17:12.519Z"
   },
   {
    "duration": 36,
    "start_time": "2023-03-18T12:17:12.686Z"
   },
   {
    "duration": 4,
    "start_time": "2023-03-18T12:17:37.875Z"
   },
   {
    "duration": 935,
    "start_time": "2023-03-18T12:17:37.882Z"
   },
   {
    "duration": 19,
    "start_time": "2023-03-18T12:17:38.819Z"
   },
   {
    "duration": 70,
    "start_time": "2023-03-18T12:17:38.843Z"
   },
   {
    "duration": 29,
    "start_time": "2023-03-18T12:17:38.915Z"
   },
   {
    "duration": 43,
    "start_time": "2023-03-18T12:17:38.954Z"
   },
   {
    "duration": 130,
    "start_time": "2023-03-18T12:17:39.000Z"
   },
   {
    "duration": 4,
    "start_time": "2023-03-18T12:17:39.140Z"
   },
   {
    "duration": 92,
    "start_time": "2023-03-18T12:17:39.145Z"
   },
   {
    "duration": 587,
    "start_time": "2023-03-18T12:17:39.241Z"
   },
   {
    "duration": 178,
    "start_time": "2023-03-18T12:17:39.830Z"
   },
   {
    "duration": 10,
    "start_time": "2023-03-18T12:17:40.010Z"
   },
   {
    "duration": 180,
    "start_time": "2023-03-18T12:17:40.022Z"
   },
   {
    "duration": 5,
    "start_time": "2023-03-18T12:17:40.205Z"
   },
   {
    "duration": 27,
    "start_time": "2023-03-18T12:17:40.212Z"
   },
   {
    "duration": 64,
    "start_time": "2023-03-18T12:17:40.241Z"
   },
   {
    "duration": 4,
    "start_time": "2023-03-18T12:17:40.307Z"
   },
   {
    "duration": 60,
    "start_time": "2023-03-18T12:17:40.312Z"
   },
   {
    "duration": 165,
    "start_time": "2023-03-18T12:17:40.374Z"
   },
   {
    "duration": 538,
    "start_time": "2023-03-18T12:17:40.540Z"
   },
   {
    "duration": 560,
    "start_time": "2023-03-18T12:17:41.086Z"
   },
   {
    "duration": 78,
    "start_time": "2023-03-18T12:17:41.648Z"
   },
   {
    "duration": 188,
    "start_time": "2023-03-18T12:17:41.738Z"
   },
   {
    "duration": 150,
    "start_time": "2023-03-18T12:17:41.928Z"
   },
   {
    "duration": 31,
    "start_time": "2023-03-18T12:17:42.087Z"
   },
   {
    "duration": 46,
    "start_time": "2023-03-18T12:22:12.475Z"
   },
   {
    "duration": 92,
    "start_time": "2023-03-18T12:24:05.609Z"
   },
   {
    "duration": 45,
    "start_time": "2023-03-18T12:24:07.358Z"
   },
   {
    "duration": 41,
    "start_time": "2023-03-18T12:26:16.788Z"
   },
   {
    "duration": 26,
    "start_time": "2023-03-18T12:27:00.158Z"
   },
   {
    "duration": 49,
    "start_time": "2023-03-18T12:31:51.502Z"
   },
   {
    "duration": 50,
    "start_time": "2023-03-18T12:35:30.109Z"
   },
   {
    "duration": 34,
    "start_time": "2023-03-18T12:37:55.294Z"
   },
   {
    "duration": 4,
    "start_time": "2023-03-18T12:38:15.699Z"
   },
   {
    "duration": 1169,
    "start_time": "2023-03-18T12:38:15.705Z"
   },
   {
    "duration": 19,
    "start_time": "2023-03-18T12:38:16.878Z"
   },
   {
    "duration": 43,
    "start_time": "2023-03-18T12:38:16.899Z"
   },
   {
    "duration": 7,
    "start_time": "2023-03-18T12:38:16.946Z"
   },
   {
    "duration": 55,
    "start_time": "2023-03-18T12:38:16.955Z"
   },
   {
    "duration": 197,
    "start_time": "2023-03-18T12:38:17.013Z"
   },
   {
    "duration": 14,
    "start_time": "2023-03-18T12:38:17.212Z"
   },
   {
    "duration": 122,
    "start_time": "2023-03-18T12:38:17.228Z"
   },
   {
    "duration": 659,
    "start_time": "2023-03-18T12:38:17.358Z"
   },
   {
    "duration": 196,
    "start_time": "2023-03-18T12:38:18.019Z"
   },
   {
    "duration": 6,
    "start_time": "2023-03-18T12:38:18.216Z"
   },
   {
    "duration": 200,
    "start_time": "2023-03-18T12:38:18.224Z"
   },
   {
    "duration": 6,
    "start_time": "2023-03-18T12:38:18.427Z"
   },
   {
    "duration": 58,
    "start_time": "2023-03-18T12:38:18.434Z"
   },
   {
    "duration": 74,
    "start_time": "2023-03-18T12:38:18.494Z"
   },
   {
    "duration": 9,
    "start_time": "2023-03-18T12:38:18.571Z"
   },
   {
    "duration": 35,
    "start_time": "2023-03-18T12:38:18.582Z"
   },
   {
    "duration": 178,
    "start_time": "2023-03-18T12:38:18.618Z"
   },
   {
    "duration": 562,
    "start_time": "2023-03-18T12:38:18.798Z"
   },
   {
    "duration": 527,
    "start_time": "2023-03-18T12:38:19.362Z"
   },
   {
    "duration": 87,
    "start_time": "2023-03-18T12:38:19.891Z"
   },
   {
    "duration": 228,
    "start_time": "2023-03-18T12:38:19.981Z"
   },
   {
    "duration": 92,
    "start_time": "2023-03-18T12:38:20.210Z"
   },
   {
    "duration": 47,
    "start_time": "2023-03-18T12:39:19.619Z"
   },
   {
    "duration": 41,
    "start_time": "2023-03-18T12:39:42.830Z"
   },
   {
    "duration": 13,
    "start_time": "2023-03-18T12:40:24.511Z"
   },
   {
    "duration": 7,
    "start_time": "2023-03-18T12:40:30.872Z"
   },
   {
    "duration": 52,
    "start_time": "2023-03-18T12:41:01.466Z"
   },
   {
    "duration": 60,
    "start_time": "2023-03-18T12:41:34.258Z"
   },
   {
    "duration": 15,
    "start_time": "2023-03-18T12:43:41.084Z"
   },
   {
    "duration": 17,
    "start_time": "2023-03-18T12:43:55.381Z"
   },
   {
    "duration": 72,
    "start_time": "2023-03-18T12:44:16.674Z"
   },
   {
    "duration": 52,
    "start_time": "2023-03-18T13:01:16.561Z"
   },
   {
    "duration": 26,
    "start_time": "2023-03-18T13:35:07.956Z"
   },
   {
    "duration": 21,
    "start_time": "2023-03-18T13:35:33.286Z"
   },
   {
    "duration": 14,
    "start_time": "2023-03-18T13:36:12.807Z"
   },
   {
    "duration": 3,
    "start_time": "2023-03-18T13:36:33.170Z"
   },
   {
    "duration": 4,
    "start_time": "2023-03-18T13:36:36.982Z"
   },
   {
    "duration": 13,
    "start_time": "2023-03-18T13:40:50.992Z"
   },
   {
    "duration": 64,
    "start_time": "2023-03-18T13:40:58.119Z"
   },
   {
    "duration": 8836,
    "start_time": "2023-03-18T13:41:31.270Z"
   },
   {
    "duration": 10,
    "start_time": "2023-03-18T13:42:21.927Z"
   },
   {
    "duration": 4,
    "start_time": "2023-03-18T13:42:29.014Z"
   },
   {
    "duration": 4,
    "start_time": "2023-03-18T13:47:16.014Z"
   },
   {
    "duration": 8115,
    "start_time": "2023-03-18T13:47:18.085Z"
   },
   {
    "duration": 17,
    "start_time": "2023-03-18T13:48:36.724Z"
   },
   {
    "duration": 3,
    "start_time": "2023-03-18T13:48:48.088Z"
   },
   {
    "duration": 724,
    "start_time": "2023-03-18T13:48:49.888Z"
   },
   {
    "duration": 10,
    "start_time": "2023-03-18T13:49:34.790Z"
   },
   {
    "duration": 4,
    "start_time": "2023-03-18T13:49:58.599Z"
   },
   {
    "duration": 1085,
    "start_time": "2023-03-18T13:49:58.605Z"
   },
   {
    "duration": 13,
    "start_time": "2023-03-18T13:49:59.692Z"
   },
   {
    "duration": 44,
    "start_time": "2023-03-18T13:49:59.707Z"
   },
   {
    "duration": 22,
    "start_time": "2023-03-18T13:49:59.755Z"
   },
   {
    "duration": 23,
    "start_time": "2023-03-18T13:49:59.779Z"
   },
   {
    "duration": 112,
    "start_time": "2023-03-18T13:49:59.804Z"
   },
   {
    "duration": 4,
    "start_time": "2023-03-18T13:49:59.918Z"
   },
   {
    "duration": 67,
    "start_time": "2023-03-18T13:49:59.924Z"
   },
   {
    "duration": 680,
    "start_time": "2023-03-18T13:49:59.993Z"
   },
   {
    "duration": 449,
    "start_time": "2023-03-18T13:50:00.676Z"
   },
   {
    "duration": 24,
    "start_time": "2023-03-18T13:50:01.130Z"
   },
   {
    "duration": 197,
    "start_time": "2023-03-18T13:50:01.156Z"
   },
   {
    "duration": 6,
    "start_time": "2023-03-18T13:50:01.357Z"
   },
   {
    "duration": 40,
    "start_time": "2023-03-18T13:50:01.370Z"
   },
   {
    "duration": 122,
    "start_time": "2023-03-18T13:50:01.412Z"
   },
   {
    "duration": 7,
    "start_time": "2023-03-18T13:50:01.539Z"
   },
   {
    "duration": 33,
    "start_time": "2023-03-18T13:50:01.548Z"
   },
   {
    "duration": 178,
    "start_time": "2023-03-18T13:50:01.583Z"
   },
   {
    "duration": 553,
    "start_time": "2023-03-18T13:50:01.765Z"
   },
   {
    "duration": 526,
    "start_time": "2023-03-18T13:50:02.322Z"
   },
   {
    "duration": 82,
    "start_time": "2023-03-18T13:50:02.856Z"
   },
   {
    "duration": 205,
    "start_time": "2023-03-18T13:50:02.942Z"
   },
   {
    "duration": 77,
    "start_time": "2023-03-18T13:50:03.149Z"
   },
   {
    "duration": 12,
    "start_time": "2023-03-18T13:50:03.231Z"
   },
   {
    "duration": 1135,
    "start_time": "2023-03-18T13:50:03.247Z"
   },
   {
    "duration": 14,
    "start_time": "2023-03-18T13:50:31.606Z"
   },
   {
    "duration": 4,
    "start_time": "2023-03-18T13:50:45.318Z"
   },
   {
    "duration": 7386895,
    "start_time": "2023-03-18T13:50:47.026Z"
   },
   {
    "duration": 19,
    "start_time": "2023-03-18T15:54:37.330Z"
   },
   {
    "duration": 8,
    "start_time": "2023-03-18T15:54:40.776Z"
   },
   {
    "duration": 2523,
    "start_time": "2023-03-18T15:55:14.002Z"
   },
   {
    "duration": 1252,
    "start_time": "2023-03-18T15:55:16.527Z"
   },
   {
    "duration": 28,
    "start_time": "2023-03-18T15:55:17.781Z"
   },
   {
    "duration": 57,
    "start_time": "2023-03-18T15:55:17.811Z"
   },
   {
    "duration": 29,
    "start_time": "2023-03-18T15:55:17.870Z"
   },
   {
    "duration": 67,
    "start_time": "2023-03-18T15:55:17.901Z"
   },
   {
    "duration": 156,
    "start_time": "2023-03-18T15:55:17.970Z"
   },
   {
    "duration": 12,
    "start_time": "2023-03-18T15:55:18.128Z"
   },
   {
    "duration": 195,
    "start_time": "2023-03-18T15:55:18.142Z"
   },
   {
    "duration": 881,
    "start_time": "2023-03-18T15:55:18.338Z"
   },
   {
    "duration": 256,
    "start_time": "2023-03-18T15:55:19.221Z"
   },
   {
    "duration": 13,
    "start_time": "2023-03-18T15:55:19.483Z"
   },
   {
    "duration": 168,
    "start_time": "2023-03-18T15:55:19.498Z"
   },
   {
    "duration": 22,
    "start_time": "2023-03-18T15:55:19.669Z"
   },
   {
    "duration": 15,
    "start_time": "2023-03-18T15:55:19.693Z"
   },
   {
    "duration": 89,
    "start_time": "2023-03-18T15:55:19.711Z"
   },
   {
    "duration": 5,
    "start_time": "2023-03-18T15:55:19.803Z"
   },
   {
    "duration": 165,
    "start_time": "2023-03-18T15:55:19.810Z"
   },
   {
    "duration": 0,
    "start_time": "2023-03-18T15:55:19.977Z"
   },
   {
    "duration": 0,
    "start_time": "2023-03-18T15:55:19.982Z"
   },
   {
    "duration": 0,
    "start_time": "2023-03-18T15:55:19.983Z"
   },
   {
    "duration": 0,
    "start_time": "2023-03-18T15:55:19.985Z"
   },
   {
    "duration": 0,
    "start_time": "2023-03-18T15:55:19.990Z"
   },
   {
    "duration": 0,
    "start_time": "2023-03-18T15:55:19.995Z"
   },
   {
    "duration": 0,
    "start_time": "2023-03-18T15:55:19.996Z"
   },
   {
    "duration": 0,
    "start_time": "2023-03-18T15:55:19.997Z"
   },
   {
    "duration": 0,
    "start_time": "2023-03-18T15:55:19.998Z"
   },
   {
    "duration": 1420,
    "start_time": "2023-03-18T15:56:30.899Z"
   },
   {
    "duration": 1104,
    "start_time": "2023-03-18T15:56:32.321Z"
   },
   {
    "duration": 66,
    "start_time": "2023-03-18T15:56:33.427Z"
   },
   {
    "duration": 100,
    "start_time": "2023-03-18T15:56:33.497Z"
   },
   {
    "duration": 9,
    "start_time": "2023-03-18T15:56:33.605Z"
   },
   {
    "duration": 48,
    "start_time": "2023-03-18T15:56:33.615Z"
   },
   {
    "duration": 142,
    "start_time": "2023-03-18T15:56:33.665Z"
   },
   {
    "duration": 3,
    "start_time": "2023-03-18T15:56:33.809Z"
   },
   {
    "duration": 157,
    "start_time": "2023-03-18T15:56:33.813Z"
   },
   {
    "duration": 930,
    "start_time": "2023-03-18T15:56:33.973Z"
   },
   {
    "duration": 236,
    "start_time": "2023-03-18T15:56:34.908Z"
   },
   {
    "duration": 16,
    "start_time": "2023-03-18T15:56:35.151Z"
   },
   {
    "duration": 248,
    "start_time": "2023-03-18T15:56:35.174Z"
   },
   {
    "duration": 18,
    "start_time": "2023-03-18T15:56:35.426Z"
   },
   {
    "duration": 70,
    "start_time": "2023-03-18T15:56:35.448Z"
   },
   {
    "duration": 83,
    "start_time": "2023-03-18T15:56:35.520Z"
   },
   {
    "duration": 9,
    "start_time": "2023-03-18T15:56:35.614Z"
   },
   {
    "duration": 121,
    "start_time": "2023-03-18T15:56:35.625Z"
   },
   {
    "duration": 302,
    "start_time": "2023-03-18T15:56:35.750Z"
   },
   {
    "duration": 707,
    "start_time": "2023-03-18T15:56:36.064Z"
   },
   {
    "duration": 663,
    "start_time": "2023-03-18T15:56:36.780Z"
   },
   {
    "duration": 167,
    "start_time": "2023-03-18T15:56:37.453Z"
   },
   {
    "duration": 0,
    "start_time": "2023-03-18T15:56:37.622Z"
   },
   {
    "duration": 0,
    "start_time": "2023-03-18T15:56:37.623Z"
   },
   {
    "duration": 0,
    "start_time": "2023-03-18T15:56:37.624Z"
   },
   {
    "duration": 0,
    "start_time": "2023-03-18T15:56:37.643Z"
   },
   {
    "duration": 0,
    "start_time": "2023-03-18T15:56:37.644Z"
   },
   {
    "duration": 1614,
    "start_time": "2023-03-18T15:56:54.049Z"
   },
   {
    "duration": 1288,
    "start_time": "2023-03-18T15:56:55.668Z"
   },
   {
    "duration": 46,
    "start_time": "2023-03-18T15:56:56.962Z"
   },
   {
    "duration": 118,
    "start_time": "2023-03-18T15:56:57.010Z"
   },
   {
    "duration": 10,
    "start_time": "2023-03-18T15:56:57.130Z"
   },
   {
    "duration": 135,
    "start_time": "2023-03-18T15:56:57.142Z"
   },
   {
    "duration": 246,
    "start_time": "2023-03-18T15:56:57.281Z"
   },
   {
    "duration": 10,
    "start_time": "2023-03-18T15:56:57.531Z"
   },
   {
    "duration": 188,
    "start_time": "2023-03-18T15:56:57.543Z"
   },
   {
    "duration": 1127,
    "start_time": "2023-03-18T15:56:57.737Z"
   },
   {
    "duration": 213,
    "start_time": "2023-03-18T15:56:58.870Z"
   },
   {
    "duration": 17,
    "start_time": "2023-03-18T15:56:59.091Z"
   },
   {
    "duration": 228,
    "start_time": "2023-03-18T15:56:59.110Z"
   },
   {
    "duration": 7,
    "start_time": "2023-03-18T15:56:59.339Z"
   },
   {
    "duration": 58,
    "start_time": "2023-03-18T15:56:59.348Z"
   },
   {
    "duration": 79,
    "start_time": "2023-03-18T15:56:59.409Z"
   },
   {
    "duration": 6,
    "start_time": "2023-03-18T15:56:59.490Z"
   },
   {
    "duration": 58,
    "start_time": "2023-03-18T15:56:59.497Z"
   },
   {
    "duration": 296,
    "start_time": "2023-03-18T15:56:59.557Z"
   },
   {
    "duration": 711,
    "start_time": "2023-03-18T15:56:59.858Z"
   },
   {
    "duration": 1023,
    "start_time": "2023-03-18T15:57:00.573Z"
   },
   {
    "duration": 182,
    "start_time": "2023-03-18T15:57:01.598Z"
   },
   {
    "duration": 509,
    "start_time": "2023-03-18T15:57:01.782Z"
   },
   {
    "duration": 203,
    "start_time": "2023-03-18T15:57:02.294Z"
   },
   {
    "duration": 6,
    "start_time": "2023-03-18T15:57:02.506Z"
   },
   {
    "duration": 91,
    "start_time": "2023-03-18T15:57:02.515Z"
   },
   {
    "duration": 1555,
    "start_time": "2023-03-18T16:22:07.121Z"
   },
   {
    "duration": 1006,
    "start_time": "2023-03-18T16:22:08.681Z"
   },
   {
    "duration": 20,
    "start_time": "2023-03-18T16:22:09.688Z"
   },
   {
    "duration": 57,
    "start_time": "2023-03-18T16:22:09.710Z"
   },
   {
    "duration": 16,
    "start_time": "2023-03-18T16:22:09.769Z"
   },
   {
    "duration": 38,
    "start_time": "2023-03-18T16:22:09.786Z"
   },
   {
    "duration": 125,
    "start_time": "2023-03-18T16:22:09.826Z"
   },
   {
    "duration": 27,
    "start_time": "2023-03-18T16:22:09.955Z"
   },
   {
    "duration": 128,
    "start_time": "2023-03-18T16:22:09.983Z"
   },
   {
    "duration": 776,
    "start_time": "2023-03-18T16:22:10.113Z"
   },
   {
    "duration": 181,
    "start_time": "2023-03-18T16:22:10.890Z"
   },
   {
    "duration": 15,
    "start_time": "2023-03-18T16:22:11.073Z"
   },
   {
    "duration": 175,
    "start_time": "2023-03-18T16:22:11.090Z"
   },
   {
    "duration": 7,
    "start_time": "2023-03-18T16:22:11.269Z"
   },
   {
    "duration": 14,
    "start_time": "2023-03-18T16:22:11.278Z"
   },
   {
    "duration": 78,
    "start_time": "2023-03-18T16:22:11.294Z"
   },
   {
    "duration": 4,
    "start_time": "2023-03-18T16:22:11.376Z"
   },
   {
    "duration": 38,
    "start_time": "2023-03-18T16:22:11.382Z"
   },
   {
    "duration": 250,
    "start_time": "2023-03-18T16:22:11.422Z"
   },
   {
    "duration": 653,
    "start_time": "2023-03-18T16:22:11.676Z"
   },
   {
    "duration": 597,
    "start_time": "2023-03-18T16:22:12.331Z"
   },
   {
    "duration": 117,
    "start_time": "2023-03-18T16:22:12.930Z"
   },
   {
    "duration": 314,
    "start_time": "2023-03-18T16:22:13.049Z"
   },
   {
    "duration": 157,
    "start_time": "2023-03-18T16:22:13.367Z"
   },
   {
    "duration": 3,
    "start_time": "2023-03-18T16:22:13.525Z"
   },
   {
    "duration": 53,
    "start_time": "2023-03-18T16:22:13.529Z"
   },
   {
    "duration": 2704934,
    "start_time": "2023-03-18T16:22:13.585Z"
   },
   {
    "duration": 2592480,
    "start_time": "2023-03-18T17:23:56.001Z"
   },
   {
    "duration": 17,
    "start_time": "2023-03-18T18:16:19.055Z"
   },
   {
    "duration": 4,
    "start_time": "2023-03-18T18:16:28.102Z"
   },
   {
    "duration": 70,
    "start_time": "2023-03-18T18:20:53.998Z"
   },
   {
    "duration": 10,
    "start_time": "2023-03-18T18:20:57.309Z"
   },
   {
    "duration": 3,
    "start_time": "2023-03-18T18:20:59.312Z"
   },
   {
    "duration": 5,
    "start_time": "2023-03-18T18:22:32.770Z"
   },
   {
    "duration": 5,
    "start_time": "2023-03-18T18:23:54.067Z"
   },
   {
    "duration": 1315,
    "start_time": "2023-03-18T18:26:10.108Z"
   },
   {
    "duration": 1167,
    "start_time": "2023-03-18T18:26:11.425Z"
   },
   {
    "duration": 28,
    "start_time": "2023-03-18T18:26:12.593Z"
   },
   {
    "duration": 70,
    "start_time": "2023-03-18T18:26:12.624Z"
   },
   {
    "duration": 6,
    "start_time": "2023-03-18T18:26:12.696Z"
   },
   {
    "duration": 40,
    "start_time": "2023-03-18T18:26:12.704Z"
   },
   {
    "duration": 133,
    "start_time": "2023-03-18T18:26:12.746Z"
   },
   {
    "duration": 13,
    "start_time": "2023-03-18T18:26:12.882Z"
   },
   {
    "duration": 179,
    "start_time": "2023-03-18T18:26:12.896Z"
   },
   {
    "duration": 821,
    "start_time": "2023-03-18T18:26:13.079Z"
   },
   {
    "duration": 202,
    "start_time": "2023-03-18T18:26:13.902Z"
   },
   {
    "duration": 9,
    "start_time": "2023-03-18T18:26:14.105Z"
   },
   {
    "duration": 194,
    "start_time": "2023-03-18T18:26:14.115Z"
   },
   {
    "duration": 7,
    "start_time": "2023-03-18T18:26:14.311Z"
   },
   {
    "duration": 75,
    "start_time": "2023-03-18T18:26:14.320Z"
   },
   {
    "duration": 85,
    "start_time": "2023-03-18T18:26:14.398Z"
   },
   {
    "duration": 5,
    "start_time": "2023-03-18T18:26:14.489Z"
   },
   {
    "duration": 58,
    "start_time": "2023-03-18T18:26:14.496Z"
   },
   {
    "duration": 261,
    "start_time": "2023-03-18T18:26:14.556Z"
   },
   {
    "duration": 719,
    "start_time": "2023-03-18T18:26:14.819Z"
   },
   {
    "duration": 798,
    "start_time": "2023-03-18T18:26:15.540Z"
   },
   {
    "duration": 143,
    "start_time": "2023-03-18T18:26:16.339Z"
   },
   {
    "duration": 357,
    "start_time": "2023-03-18T18:26:16.486Z"
   },
   {
    "duration": 129,
    "start_time": "2023-03-18T18:26:16.851Z"
   },
   {
    "duration": 14,
    "start_time": "2023-03-18T18:26:16.984Z"
   },
   {
    "duration": 14,
    "start_time": "2023-03-18T18:26:16.999Z"
   },
   {
    "duration": 68553,
    "start_time": "2023-03-18T18:26:37.707Z"
   },
   {
    "duration": 2455470,
    "start_time": "2023-03-18T18:27:53.164Z"
   },
   {
    "duration": 19,
    "start_time": "2023-03-18T19:13:55.876Z"
   },
   {
    "duration": 18,
    "start_time": "2023-03-18T19:14:00.835Z"
   },
   {
    "duration": 1721,
    "start_time": "2023-03-18T19:14:13.023Z"
   },
   {
    "duration": 1958,
    "start_time": "2023-03-18T19:14:14.747Z"
   },
   {
    "duration": 23,
    "start_time": "2023-03-18T19:14:16.707Z"
   },
   {
    "duration": 71,
    "start_time": "2023-03-18T19:14:16.741Z"
   },
   {
    "duration": 6,
    "start_time": "2023-03-18T19:14:16.815Z"
   },
   {
    "duration": 49,
    "start_time": "2023-03-18T19:14:16.823Z"
   },
   {
    "duration": 219,
    "start_time": "2023-03-18T19:14:16.878Z"
   },
   {
    "duration": 99,
    "start_time": "2023-03-18T19:14:17.099Z"
   },
   {
    "duration": 242,
    "start_time": "2023-03-18T19:14:17.201Z"
   },
   {
    "duration": 965,
    "start_time": "2023-03-18T19:14:17.445Z"
   },
   {
    "duration": 254,
    "start_time": "2023-03-18T19:14:18.413Z"
   },
   {
    "duration": 20,
    "start_time": "2023-03-18T19:14:18.674Z"
   },
   {
    "duration": 188,
    "start_time": "2023-03-18T19:14:18.699Z"
   },
   {
    "duration": 7,
    "start_time": "2023-03-18T19:14:18.891Z"
   },
   {
    "duration": 19,
    "start_time": "2023-03-18T19:14:18.900Z"
   },
   {
    "duration": 86,
    "start_time": "2023-03-18T19:14:18.922Z"
   },
   {
    "duration": 4,
    "start_time": "2023-03-18T19:14:19.011Z"
   },
   {
    "duration": 113,
    "start_time": "2023-03-18T19:14:19.017Z"
   },
   {
    "duration": 331,
    "start_time": "2023-03-18T19:14:19.139Z"
   },
   {
    "duration": 835,
    "start_time": "2023-03-18T19:14:19.473Z"
   },
   {
    "duration": 763,
    "start_time": "2023-03-18T19:14:20.311Z"
   },
   {
    "duration": 195,
    "start_time": "2023-03-18T19:14:21.086Z"
   },
   {
    "duration": 353,
    "start_time": "2023-03-18T19:14:21.296Z"
   },
   {
    "duration": 116,
    "start_time": "2023-03-18T19:14:21.654Z"
   },
   {
    "duration": 3,
    "start_time": "2023-03-18T19:14:21.771Z"
   },
   {
    "duration": 37,
    "start_time": "2023-03-18T19:14:21.776Z"
   },
   {
    "duration": 99,
    "start_time": "2023-03-19T05:41:26.013Z"
   },
   {
    "duration": 1598,
    "start_time": "2023-03-19T05:41:43.130Z"
   },
   {
    "duration": 5822,
    "start_time": "2023-03-19T05:41:44.730Z"
   },
   {
    "duration": 39,
    "start_time": "2023-03-19T05:41:50.554Z"
   },
   {
    "duration": 90,
    "start_time": "2023-03-19T05:41:50.603Z"
   },
   {
    "duration": 12,
    "start_time": "2023-03-19T05:41:50.700Z"
   },
   {
    "duration": 43,
    "start_time": "2023-03-19T05:41:50.719Z"
   },
   {
    "duration": 149,
    "start_time": "2023-03-19T05:41:50.769Z"
   },
   {
    "duration": 5,
    "start_time": "2023-03-19T05:41:50.925Z"
   },
   {
    "duration": 165,
    "start_time": "2023-03-19T05:41:50.936Z"
   },
   {
    "duration": 1481,
    "start_time": "2023-03-19T05:41:51.107Z"
   },
   {
    "duration": 254,
    "start_time": "2023-03-19T05:41:52.595Z"
   },
   {
    "duration": 21,
    "start_time": "2023-03-19T05:41:52.856Z"
   },
   {
    "duration": 349,
    "start_time": "2023-03-19T05:41:52.884Z"
   },
   {
    "duration": 17,
    "start_time": "2023-03-19T05:41:53.236Z"
   },
   {
    "duration": 20,
    "start_time": "2023-03-19T05:41:53.255Z"
   },
   {
    "duration": 128,
    "start_time": "2023-03-19T05:41:53.281Z"
   },
   {
    "duration": 6,
    "start_time": "2023-03-19T05:41:53.411Z"
   },
   {
    "duration": 86,
    "start_time": "2023-03-19T05:41:53.419Z"
   },
   {
    "duration": 314,
    "start_time": "2023-03-19T05:41:53.507Z"
   },
   {
    "duration": 613,
    "start_time": "2023-03-19T05:41:53.823Z"
   },
   {
    "duration": 686,
    "start_time": "2023-03-19T05:41:54.443Z"
   },
   {
    "duration": 122,
    "start_time": "2023-03-19T05:41:55.131Z"
   },
   {
    "duration": 297,
    "start_time": "2023-03-19T05:41:55.257Z"
   },
   {
    "duration": 113,
    "start_time": "2023-03-19T05:41:55.556Z"
   },
   {
    "duration": 5,
    "start_time": "2023-03-19T05:41:55.670Z"
   },
   {
    "duration": 12,
    "start_time": "2023-03-19T05:41:55.677Z"
   },
   {
    "duration": 6700923,
    "start_time": "2023-03-19T05:41:55.691Z"
   },
   {
    "duration": 48872,
    "start_time": "2023-03-19T08:06:41.181Z"
   },
   {
    "duration": 176,
    "start_time": "2023-03-19T08:08:58.177Z"
   },
   {
    "duration": 51,
    "start_time": "2023-03-19T08:09:39.131Z"
   },
   {
    "duration": 9,
    "start_time": "2023-03-19T08:16:24.479Z"
   },
   {
    "duration": 54819,
    "start_time": "2023-03-19T08:17:01.732Z"
   },
   {
    "duration": 5,
    "start_time": "2023-03-19T08:18:47.975Z"
   },
   {
    "duration": 100,
    "start_time": "2023-03-19T08:18:55.774Z"
   },
   {
    "duration": 13,
    "start_time": "2023-03-19T08:18:59.870Z"
   },
   {
    "duration": 49569,
    "start_time": "2023-03-19T08:19:30.221Z"
   },
   {
    "duration": 14,
    "start_time": "2023-03-19T08:20:55.713Z"
   },
   {
    "duration": 37,
    "start_time": "2023-03-19T08:28:22.758Z"
   },
   {
    "duration": 2902,
    "start_time": "2023-03-19T08:29:02.501Z"
   },
   {
    "duration": 52357,
    "start_time": "2023-03-19T08:29:21.999Z"
   },
   {
    "duration": 154,
    "start_time": "2023-03-19T08:48:12.623Z"
   },
   {
    "duration": 13,
    "start_time": "2023-03-19T08:48:47.121Z"
   },
   {
    "duration": 75,
    "start_time": "2023-03-19T08:48:56.892Z"
   },
   {
    "duration": 89,
    "start_time": "2023-03-19T09:18:20.185Z"
   },
   {
    "duration": 44,
    "start_time": "2023-03-19T09:18:45.707Z"
   },
   {
    "duration": 63,
    "start_time": "2023-03-19T09:18:59.537Z"
   },
   {
    "duration": 4,
    "start_time": "2023-03-19T09:19:16.207Z"
   },
   {
    "duration": 5,
    "start_time": "2023-03-19T09:19:23.804Z"
   },
   {
    "duration": 83,
    "start_time": "2023-03-19T09:20:05.907Z"
   },
   {
    "duration": 59,
    "start_time": "2023-03-19T09:20:29.737Z"
   },
   {
    "duration": 111,
    "start_time": "2023-03-19T09:22:13.537Z"
   },
   {
    "duration": 53316,
    "start_time": "2023-03-19T09:22:22.137Z"
   },
   {
    "duration": 50111,
    "start_time": "2023-03-19T09:24:22.740Z"
   },
   {
    "duration": 14,
    "start_time": "2023-03-19T09:30:27.005Z"
   },
   {
    "duration": 97,
    "start_time": "2023-03-19T09:30:33.609Z"
   },
   {
    "duration": 98,
    "start_time": "2023-03-19T09:31:03.465Z"
   },
   {
    "duration": 84,
    "start_time": "2023-03-19T09:31:23.013Z"
   },
   {
    "duration": 94,
    "start_time": "2023-03-19T09:31:37.733Z"
   },
   {
    "duration": 1614,
    "start_time": "2023-03-19T09:34:14.182Z"
   },
   {
    "duration": 1756,
    "start_time": "2023-03-19T09:34:58.715Z"
   },
   {
    "duration": 1763,
    "start_time": "2023-03-19T09:38:13.564Z"
   },
   {
    "duration": 2144,
    "start_time": "2023-03-19T09:38:43.562Z"
   },
   {
    "duration": 16,
    "start_time": "2023-03-19T09:39:14.637Z"
   },
   {
    "duration": 13,
    "start_time": "2023-03-19T09:40:20.691Z"
   },
   {
    "duration": 29,
    "start_time": "2023-03-19T09:40:52.065Z"
   },
   {
    "duration": 1675,
    "start_time": "2023-03-19T09:40:59.214Z"
   },
   {
    "duration": 26,
    "start_time": "2023-03-19T09:41:35.068Z"
   },
   {
    "duration": 18,
    "start_time": "2023-03-19T09:41:38.835Z"
   },
   {
    "duration": 4,
    "start_time": "2023-03-19T09:41:45.089Z"
   },
   {
    "duration": 1723,
    "start_time": "2023-03-19T09:42:05.770Z"
   },
   {
    "duration": 1674,
    "start_time": "2023-03-19T09:42:30.103Z"
   },
   {
    "duration": 42,
    "start_time": "2023-03-19T09:42:59.322Z"
   },
   {
    "duration": 1634,
    "start_time": "2023-03-19T09:43:11.774Z"
   },
   {
    "duration": 6,
    "start_time": "2023-03-19T09:46:29.799Z"
   },
   {
    "duration": 6,
    "start_time": "2023-03-19T09:46:54.502Z"
   },
   {
    "duration": 22,
    "start_time": "2023-03-19T09:48:26.007Z"
   },
   {
    "duration": 15,
    "start_time": "2023-03-19T09:48:29.698Z"
   },
   {
    "duration": 20,
    "start_time": "2023-03-19T09:48:44.290Z"
   },
   {
    "duration": 20,
    "start_time": "2023-03-19T09:48:59.788Z"
   },
   {
    "duration": 1698,
    "start_time": "2023-03-19T09:49:32.007Z"
   },
   {
    "duration": 1662,
    "start_time": "2023-03-19T09:49:44.433Z"
   },
   {
    "duration": 3,
    "start_time": "2023-03-19T09:50:32.316Z"
   },
   {
    "duration": 40573,
    "start_time": "2023-03-19T09:50:41.199Z"
   },
   {
    "duration": 564,
    "start_time": "2023-03-19T09:53:20.634Z"
   },
   {
    "duration": 456183,
    "start_time": "2023-03-19T09:53:35.982Z"
   },
   {
    "duration": 495554,
    "start_time": "2023-03-19T10:06:29.093Z"
   },
   {
    "duration": 1235,
    "start_time": "2023-03-19T10:16:54.772Z"
   },
   {
    "duration": 914,
    "start_time": "2023-03-19T10:16:56.010Z"
   },
   {
    "duration": 44,
    "start_time": "2023-03-19T10:16:56.926Z"
   },
   {
    "duration": 33,
    "start_time": "2023-03-19T10:16:56.972Z"
   },
   {
    "duration": 4,
    "start_time": "2023-03-19T10:16:57.008Z"
   },
   {
    "duration": 47,
    "start_time": "2023-03-19T10:16:57.014Z"
   },
   {
    "duration": 108,
    "start_time": "2023-03-19T10:16:57.062Z"
   },
   {
    "duration": 3,
    "start_time": "2023-03-19T10:16:57.172Z"
   },
   {
    "duration": 132,
    "start_time": "2023-03-19T10:16:57.178Z"
   },
   {
    "duration": 696,
    "start_time": "2023-03-19T10:16:57.311Z"
   },
   {
    "duration": 173,
    "start_time": "2023-03-19T10:16:58.008Z"
   },
   {
    "duration": 8,
    "start_time": "2023-03-19T10:16:58.182Z"
   },
   {
    "duration": 147,
    "start_time": "2023-03-19T10:16:58.191Z"
   },
   {
    "duration": 24,
    "start_time": "2023-03-19T10:16:58.347Z"
   },
   {
    "duration": 7,
    "start_time": "2023-03-19T10:16:58.377Z"
   },
   {
    "duration": 83,
    "start_time": "2023-03-19T10:16:58.386Z"
   },
   {
    "duration": 5,
    "start_time": "2023-03-19T10:16:58.474Z"
   },
   {
    "duration": 37,
    "start_time": "2023-03-19T10:16:58.480Z"
   },
   {
    "duration": 238,
    "start_time": "2023-03-19T10:16:58.519Z"
   },
   {
    "duration": 502,
    "start_time": "2023-03-19T10:16:58.758Z"
   },
   {
    "duration": 477,
    "start_time": "2023-03-19T10:16:59.261Z"
   },
   {
    "duration": 87,
    "start_time": "2023-03-19T10:16:59.747Z"
   },
   {
    "duration": 216,
    "start_time": "2023-03-19T10:16:59.836Z"
   },
   {
    "duration": 116,
    "start_time": "2023-03-19T10:17:00.057Z"
   },
   {
    "duration": 3,
    "start_time": "2023-03-19T10:17:00.175Z"
   },
   {
    "duration": 12,
    "start_time": "2023-03-19T10:17:00.180Z"
   },
   {
    "duration": 2647764,
    "start_time": "2023-03-19T10:17:00.193Z"
   },
   {
    "duration": 14,
    "start_time": "2023-03-19T14:55:22.841Z"
   },
   {
    "duration": 110,
    "start_time": "2023-03-19T14:55:44.662Z"
   },
   {
    "duration": 4,
    "start_time": "2023-03-19T14:55:48.691Z"
   },
   {
    "duration": 10,
    "start_time": "2023-03-19T14:56:01.811Z"
   },
   {
    "duration": 29,
    "start_time": "2023-03-19T14:57:48.585Z"
   },
   {
    "duration": 227821,
    "start_time": "2023-03-19T15:00:17.915Z"
   },
   {
    "duration": 22667,
    "start_time": "2023-03-19T15:04:10.043Z"
   },
   {
    "duration": 83,
    "start_time": "2023-03-19T15:04:42.243Z"
   },
   {
    "duration": 9,
    "start_time": "2023-03-19T15:04:43.643Z"
   },
   {
    "duration": 3,
    "start_time": "2023-03-19T15:05:56.078Z"
   },
   {
    "duration": 2,
    "start_time": "2023-03-19T15:06:01.953Z"
   },
   {
    "duration": 3,
    "start_time": "2023-03-19T15:06:06.303Z"
   },
   {
    "duration": 402671,
    "start_time": "2023-03-19T15:06:08.233Z"
   },
   {
    "duration": 3978940,
    "start_time": "2023-03-19T15:14:59.900Z"
   },
   {
    "duration": 16,
    "start_time": "2023-03-19T16:34:46.126Z"
   },
   {
    "duration": 3541,
    "start_time": "2023-03-19T16:35:10.099Z"
   },
   {
    "duration": 3456,
    "start_time": "2023-03-19T16:35:32.385Z"
   },
   {
    "duration": 9,
    "start_time": "2023-03-19T16:36:40.715Z"
   },
   {
    "duration": 3,
    "start_time": "2023-03-19T16:37:10.655Z"
   },
   {
    "duration": 289839,
    "start_time": "2023-03-19T16:42:17.723Z"
   },
   {
    "duration": 0,
    "start_time": "2023-03-19T16:47:07.564Z"
   },
   {
    "duration": 429,
    "start_time": "2023-03-19T16:47:11.397Z"
   },
   {
    "duration": 73,
    "start_time": "2023-03-19T16:48:28.401Z"
   },
   {
    "duration": 115691,
    "start_time": "2023-03-19T16:48:43.531Z"
   },
   {
    "duration": 99,
    "start_time": "2023-03-19T16:52:55.131Z"
   },
   {
    "duration": 8,
    "start_time": "2023-03-19T16:54:48.590Z"
   },
   {
    "duration": 490,
    "start_time": "2023-03-19T16:59:52.339Z"
   },
   {
    "duration": 11450,
    "start_time": "2023-03-19T17:00:07.196Z"
   },
   {
    "duration": 14869,
    "start_time": "2023-03-19T17:06:03.491Z"
   },
   {
    "duration": 26069,
    "start_time": "2023-03-19T17:06:39.800Z"
   },
   {
    "duration": 23089,
    "start_time": "2023-03-19T17:08:06.647Z"
   },
   {
    "duration": 24050,
    "start_time": "2023-03-19T17:09:03.036Z"
   },
   {
    "duration": 27721,
    "start_time": "2023-03-19T17:10:02.788Z"
   },
   {
    "duration": 26311,
    "start_time": "2023-03-19T17:10:37.306Z"
   },
   {
    "duration": 1674111,
    "start_time": "2023-03-19T17:11:11.916Z"
   },
   {
    "duration": 1248,
    "start_time": "2023-03-19T18:21:54.514Z"
   },
   {
    "duration": 2509,
    "start_time": "2023-03-19T18:22:22.855Z"
   },
   {
    "duration": 1278,
    "start_time": "2023-03-19T18:22:43.764Z"
   },
   {
    "duration": 1299,
    "start_time": "2023-03-19T18:22:52.744Z"
   },
   {
    "duration": 2703,
    "start_time": "2023-03-19T18:24:29.854Z"
   },
   {
    "duration": 2487,
    "start_time": "2023-03-19T18:25:12.243Z"
   },
   {
    "duration": 11,
    "start_time": "2023-03-19T18:34:09.341Z"
   },
   {
    "duration": 4,
    "start_time": "2023-03-19T18:34:37.764Z"
   },
   {
    "duration": 10,
    "start_time": "2023-03-19T18:34:44.940Z"
   },
   {
    "duration": 460,
    "start_time": "2023-03-19T18:34:55.339Z"
   },
   {
    "duration": 553,
    "start_time": "2023-03-19T18:35:14.909Z"
   },
   {
    "duration": 575,
    "start_time": "2023-03-19T18:35:24.240Z"
   },
   {
    "duration": 1143,
    "start_time": "2023-03-19T18:59:40.788Z"
   },
   {
    "duration": 754,
    "start_time": "2023-03-19T18:59:41.933Z"
   },
   {
    "duration": 23,
    "start_time": "2023-03-19T18:59:42.688Z"
   },
   {
    "duration": 38,
    "start_time": "2023-03-19T18:59:42.712Z"
   },
   {
    "duration": 8,
    "start_time": "2023-03-19T18:59:42.752Z"
   },
   {
    "duration": 29,
    "start_time": "2023-03-19T18:59:42.761Z"
   },
   {
    "duration": 86,
    "start_time": "2023-03-19T18:59:42.792Z"
   },
   {
    "duration": 2,
    "start_time": "2023-03-19T18:59:42.880Z"
   },
   {
    "duration": 115,
    "start_time": "2023-03-19T18:59:42.884Z"
   },
   {
    "duration": 635,
    "start_time": "2023-03-19T18:59:43.001Z"
   },
   {
    "duration": 137,
    "start_time": "2023-03-19T18:59:43.639Z"
   },
   {
    "duration": 6,
    "start_time": "2023-03-19T18:59:43.778Z"
   },
   {
    "duration": 131,
    "start_time": "2023-03-19T18:59:43.785Z"
   },
   {
    "duration": 4,
    "start_time": "2023-03-19T18:59:43.919Z"
   },
   {
    "duration": 18,
    "start_time": "2023-03-19T18:59:43.925Z"
   },
   {
    "duration": 56,
    "start_time": "2023-03-19T18:59:43.944Z"
   },
   {
    "duration": 3,
    "start_time": "2023-03-19T18:59:44.002Z"
   },
   {
    "duration": 46,
    "start_time": "2023-03-19T18:59:44.007Z"
   },
   {
    "duration": 172,
    "start_time": "2023-03-19T18:59:44.054Z"
   },
   {
    "duration": 451,
    "start_time": "2023-03-19T18:59:44.228Z"
   },
   {
    "duration": 422,
    "start_time": "2023-03-19T18:59:44.681Z"
   },
   {
    "duration": 73,
    "start_time": "2023-03-19T18:59:45.105Z"
   },
   {
    "duration": 190,
    "start_time": "2023-03-19T18:59:45.180Z"
   },
   {
    "duration": 121,
    "start_time": "2023-03-19T18:59:45.372Z"
   },
   {
    "duration": 4,
    "start_time": "2023-03-19T18:59:45.494Z"
   },
   {
    "duration": 4,
    "start_time": "2023-03-19T18:59:45.499Z"
   },
   {
    "duration": 1154,
    "start_time": "2023-03-19T19:04:33.648Z"
   },
   {
    "duration": 734,
    "start_time": "2023-03-19T19:04:34.804Z"
   },
   {
    "duration": 20,
    "start_time": "2023-03-19T19:04:35.540Z"
   },
   {
    "duration": 33,
    "start_time": "2023-03-19T19:04:35.562Z"
   },
   {
    "duration": 4,
    "start_time": "2023-03-19T19:04:35.597Z"
   },
   {
    "duration": 55,
    "start_time": "2023-03-19T19:04:35.602Z"
   },
   {
    "duration": 96,
    "start_time": "2023-03-19T19:04:35.658Z"
   },
   {
    "duration": 4,
    "start_time": "2023-03-19T19:04:35.755Z"
   },
   {
    "duration": 215,
    "start_time": "2023-03-19T19:04:35.760Z"
   },
   {
    "duration": 1383,
    "start_time": "2023-03-19T19:04:35.977Z"
   },
   {
    "duration": 385,
    "start_time": "2023-03-19T19:04:37.361Z"
   },
   {
    "duration": 7,
    "start_time": "2023-03-19T19:04:37.748Z"
   },
   {
    "duration": 159,
    "start_time": "2023-03-19T19:04:37.757Z"
   },
   {
    "duration": 6,
    "start_time": "2023-03-19T19:04:37.919Z"
   },
   {
    "duration": 20,
    "start_time": "2023-03-19T19:04:37.926Z"
   },
   {
    "duration": 55,
    "start_time": "2023-03-19T19:04:37.947Z"
   },
   {
    "duration": 4,
    "start_time": "2023-03-19T19:04:38.004Z"
   },
   {
    "duration": 57,
    "start_time": "2023-03-19T19:04:38.009Z"
   },
   {
    "duration": 163,
    "start_time": "2023-03-19T19:04:38.067Z"
   },
   {
    "duration": 442,
    "start_time": "2023-03-19T19:04:38.232Z"
   },
   {
    "duration": 394,
    "start_time": "2023-03-19T19:04:38.675Z"
   },
   {
    "duration": 77,
    "start_time": "2023-03-19T19:04:39.071Z"
   },
   {
    "duration": 186,
    "start_time": "2023-03-19T19:04:39.149Z"
   },
   {
    "duration": 118,
    "start_time": "2023-03-19T19:04:39.339Z"
   },
   {
    "duration": 3,
    "start_time": "2023-03-19T19:04:39.458Z"
   },
   {
    "duration": 4,
    "start_time": "2023-03-19T19:04:39.462Z"
   },
   {
    "duration": 4219582,
    "start_time": "2023-03-19T19:04:39.467Z"
   },
   {
    "duration": 1121782,
    "start_time": "2023-03-19T20:15:09.313Z"
   },
   {
    "duration": 2289,
    "start_time": "2023-03-19T20:41:38.658Z"
   },
   {
    "duration": 528,
    "start_time": "2023-03-19T20:44:19.217Z"
   },
   {
    "duration": 49,
    "start_time": "2023-03-21T11:30:41.495Z"
   },
   {
    "duration": 1195,
    "start_time": "2023-03-21T11:30:47.352Z"
   },
   {
    "duration": 3030,
    "start_time": "2023-03-21T11:30:48.549Z"
   },
   {
    "duration": 23,
    "start_time": "2023-03-21T11:30:51.581Z"
   },
   {
    "duration": 45,
    "start_time": "2023-03-21T11:30:51.608Z"
   },
   {
    "duration": 3,
    "start_time": "2023-03-21T11:30:51.655Z"
   },
   {
    "duration": 45,
    "start_time": "2023-03-21T11:30:51.660Z"
   },
   {
    "duration": 93,
    "start_time": "2023-03-21T11:30:51.707Z"
   },
   {
    "duration": 6,
    "start_time": "2023-03-21T11:30:51.804Z"
   },
   {
    "duration": 61,
    "start_time": "2023-03-21T11:30:51.812Z"
   },
   {
    "duration": 960,
    "start_time": "2023-03-21T11:30:51.875Z"
   },
   {
    "duration": 162,
    "start_time": "2023-03-21T11:30:52.837Z"
   },
   {
    "duration": 207,
    "start_time": "2023-03-21T11:31:02.835Z"
   },
   {
    "duration": 130,
    "start_time": "2023-03-21T11:31:17.428Z"
   },
   {
    "duration": 149,
    "start_time": "2023-03-21T11:31:31.323Z"
   },
   {
    "duration": 12,
    "start_time": "2023-03-21T11:31:54.639Z"
   },
   {
    "duration": 6,
    "start_time": "2023-03-21T11:32:03.224Z"
   },
   {
    "duration": 5,
    "start_time": "2023-03-21T11:32:13.306Z"
   },
   {
    "duration": 6,
    "start_time": "2023-03-21T11:32:17.351Z"
   },
   {
    "duration": 7,
    "start_time": "2023-03-21T11:32:35.231Z"
   },
   {
    "duration": 141,
    "start_time": "2023-03-21T11:32:44.758Z"
   },
   {
    "duration": 33,
    "start_time": "2023-03-21T11:33:37.532Z"
   },
   {
    "duration": 4,
    "start_time": "2023-03-21T11:36:02.803Z"
   },
   {
    "duration": 4,
    "start_time": "2023-03-21T11:37:52.945Z"
   },
   {
    "duration": 4,
    "start_time": "2023-03-21T11:39:18.413Z"
   },
   {
    "duration": 94,
    "start_time": "2023-03-21T11:46:38.816Z"
   },
   {
    "duration": 7,
    "start_time": "2023-03-21T12:08:57.499Z"
   },
   {
    "duration": 8,
    "start_time": "2023-03-21T12:09:24.431Z"
   },
   {
    "duration": 70,
    "start_time": "2023-03-21T12:18:53.105Z"
   },
   {
    "duration": 84,
    "start_time": "2023-03-21T12:21:12.259Z"
   },
   {
    "duration": 252,
    "start_time": "2023-03-21T12:21:16.487Z"
   },
   {
    "duration": 86,
    "start_time": "2023-03-21T12:21:25.280Z"
   },
   {
    "duration": 31,
    "start_time": "2023-03-21T12:21:56.649Z"
   },
   {
    "duration": 35,
    "start_time": "2023-03-21T12:22:18.430Z"
   },
   {
    "duration": 31,
    "start_time": "2023-03-21T12:22:36.951Z"
   },
   {
    "duration": 4,
    "start_time": "2023-03-21T12:22:48.117Z"
   },
   {
    "duration": 31,
    "start_time": "2023-03-21T12:23:16.538Z"
   },
   {
    "duration": 11,
    "start_time": "2023-03-21T12:26:50.509Z"
   },
   {
    "duration": 5,
    "start_time": "2023-03-21T12:30:57.199Z"
   },
   {
    "duration": 803,
    "start_time": "2023-03-21T12:30:57.206Z"
   },
   {
    "duration": 12,
    "start_time": "2023-03-21T12:30:58.010Z"
   },
   {
    "duration": 36,
    "start_time": "2023-03-21T12:30:58.024Z"
   },
   {
    "duration": 4,
    "start_time": "2023-03-21T12:30:58.063Z"
   },
   {
    "duration": 56,
    "start_time": "2023-03-21T12:30:58.068Z"
   },
   {
    "duration": 105,
    "start_time": "2023-03-21T12:30:58.126Z"
   },
   {
    "duration": 3,
    "start_time": "2023-03-21T12:30:58.233Z"
   },
   {
    "duration": 74,
    "start_time": "2023-03-21T12:30:58.238Z"
   },
   {
    "duration": 562,
    "start_time": "2023-03-21T12:30:58.314Z"
   },
   {
    "duration": 151,
    "start_time": "2023-03-21T12:30:58.878Z"
   },
   {
    "duration": 6,
    "start_time": "2023-03-21T12:30:59.031Z"
   },
   {
    "duration": 6,
    "start_time": "2023-03-21T12:30:59.038Z"
   },
   {
    "duration": 5,
    "start_time": "2023-03-21T12:30:59.047Z"
   },
   {
    "duration": 82,
    "start_time": "2023-03-21T12:30:59.053Z"
   },
   {
    "duration": 173,
    "start_time": "2023-03-21T12:30:59.137Z"
   },
   {
    "duration": 37,
    "start_time": "2023-03-21T12:30:59.312Z"
   },
   {
    "duration": 97,
    "start_time": "2023-03-21T12:30:59.351Z"
   },
   {
    "duration": 158,
    "start_time": "2023-03-21T12:30:59.450Z"
   },
   {
    "duration": 16,
    "start_time": "2023-03-21T12:30:59.612Z"
   },
   {
    "duration": 18,
    "start_time": "2023-03-21T12:30:59.630Z"
   },
   {
    "duration": 77,
    "start_time": "2023-03-21T12:30:59.650Z"
   },
   {
    "duration": 0,
    "start_time": "2023-03-21T12:30:59.729Z"
   },
   {
    "duration": 0,
    "start_time": "2023-03-21T12:30:59.731Z"
   },
   {
    "duration": 0,
    "start_time": "2023-03-21T12:30:59.732Z"
   },
   {
    "duration": 0,
    "start_time": "2023-03-21T12:30:59.734Z"
   },
   {
    "duration": 0,
    "start_time": "2023-03-21T12:30:59.735Z"
   },
   {
    "duration": 0,
    "start_time": "2023-03-21T12:30:59.737Z"
   },
   {
    "duration": 0,
    "start_time": "2023-03-21T12:30:59.739Z"
   },
   {
    "duration": 1,
    "start_time": "2023-03-21T12:30:59.740Z"
   },
   {
    "duration": 54,
    "start_time": "2023-03-21T12:31:23.731Z"
   },
   {
    "duration": 5,
    "start_time": "2023-03-21T12:31:27.577Z"
   },
   {
    "duration": 37,
    "start_time": "2023-03-21T12:31:30.478Z"
   },
   {
    "duration": 28,
    "start_time": "2023-03-21T12:32:15.911Z"
   },
   {
    "duration": 174,
    "start_time": "2023-03-21T12:32:23.839Z"
   },
   {
    "duration": 458,
    "start_time": "2023-03-21T12:32:25.333Z"
   },
   {
    "duration": 486,
    "start_time": "2023-03-21T12:32:27.057Z"
   },
   {
    "duration": 83,
    "start_time": "2023-03-21T12:32:30.432Z"
   },
   {
    "duration": 188,
    "start_time": "2023-03-21T12:32:38.010Z"
   },
   {
    "duration": 3,
    "start_time": "2023-03-21T12:32:39.237Z"
   },
   {
    "duration": 133,
    "start_time": "2023-03-21T12:32:55.648Z"
   },
   {
    "duration": 3,
    "start_time": "2023-03-21T12:32:58.824Z"
   },
   {
    "duration": 3,
    "start_time": "2023-03-21T12:33:02.016Z"
   },
   {
    "duration": 3,
    "start_time": "2023-03-21T12:37:53.455Z"
   },
   {
    "duration": 4,
    "start_time": "2023-03-21T13:05:51.193Z"
   },
   {
    "duration": 5,
    "start_time": "2023-03-21T13:05:56.902Z"
   },
   {
    "duration": 1188,
    "start_time": "2023-03-21T13:40:46.115Z"
   },
   {
    "duration": 823,
    "start_time": "2023-03-21T13:40:47.308Z"
   },
   {
    "duration": 22,
    "start_time": "2023-03-21T13:40:48.133Z"
   },
   {
    "duration": 60,
    "start_time": "2023-03-21T13:40:48.157Z"
   },
   {
    "duration": 9,
    "start_time": "2023-03-21T13:40:48.220Z"
   },
   {
    "duration": 49,
    "start_time": "2023-03-21T13:40:48.231Z"
   },
   {
    "duration": 103,
    "start_time": "2023-03-21T13:40:48.282Z"
   },
   {
    "duration": 10,
    "start_time": "2023-03-21T13:40:48.388Z"
   },
   {
    "duration": 160,
    "start_time": "2023-03-21T13:40:48.400Z"
   },
   {
    "duration": 843,
    "start_time": "2023-03-21T13:40:48.562Z"
   },
   {
    "duration": 145,
    "start_time": "2023-03-21T13:40:49.407Z"
   },
   {
    "duration": 8,
    "start_time": "2023-03-21T13:40:49.554Z"
   },
   {
    "duration": 30,
    "start_time": "2023-03-21T13:40:49.564Z"
   },
   {
    "duration": 10,
    "start_time": "2023-03-21T13:40:49.598Z"
   },
   {
    "duration": 90,
    "start_time": "2023-03-21T13:40:49.610Z"
   },
   {
    "duration": 229,
    "start_time": "2023-03-21T13:40:49.705Z"
   },
   {
    "duration": 60,
    "start_time": "2023-03-21T13:40:49.936Z"
   },
   {
    "duration": 117,
    "start_time": "2023-03-21T13:40:50.001Z"
   },
   {
    "duration": 227,
    "start_time": "2023-03-21T13:40:50.120Z"
   },
   {
    "duration": 13,
    "start_time": "2023-03-21T13:40:50.349Z"
   },
   {
    "duration": 39,
    "start_time": "2023-03-21T13:40:50.363Z"
   },
   {
    "duration": 57,
    "start_time": "2023-03-21T13:40:50.405Z"
   },
   {
    "duration": 4,
    "start_time": "2023-03-21T13:40:50.464Z"
   },
   {
    "duration": 49,
    "start_time": "2023-03-21T13:40:50.471Z"
   },
   {
    "duration": 177,
    "start_time": "2023-03-21T13:40:50.522Z"
   },
   {
    "duration": 496,
    "start_time": "2023-03-21T13:40:50.703Z"
   },
   {
    "duration": 489,
    "start_time": "2023-03-21T13:40:51.208Z"
   },
   {
    "duration": 76,
    "start_time": "2023-03-21T13:40:51.699Z"
   },
   {
    "duration": 261,
    "start_time": "2023-03-21T13:40:51.776Z"
   },
   {
    "duration": 3,
    "start_time": "2023-03-21T13:40:52.040Z"
   },
   {
    "duration": 195,
    "start_time": "2023-03-21T13:40:52.046Z"
   },
   {
    "duration": 3,
    "start_time": "2023-03-21T13:40:52.242Z"
   },
   {
    "duration": 74,
    "start_time": "2023-03-21T13:40:52.247Z"
   },
   {
    "duration": 3315,
    "start_time": "2023-03-21T13:40:52.323Z"
   },
   {
    "duration": 303,
    "start_time": "2023-03-21T13:46:29.639Z"
   },
   {
    "duration": 30,
    "start_time": "2023-03-21T13:46:42.888Z"
   },
   {
    "duration": 1220,
    "start_time": "2023-03-21T13:47:17.141Z"
   },
   {
    "duration": 946,
    "start_time": "2023-03-21T13:47:18.364Z"
   },
   {
    "duration": 25,
    "start_time": "2023-03-21T13:47:19.312Z"
   },
   {
    "duration": 58,
    "start_time": "2023-03-21T13:47:19.340Z"
   },
   {
    "duration": 15,
    "start_time": "2023-03-21T13:47:19.401Z"
   },
   {
    "duration": 38,
    "start_time": "2023-03-21T13:47:19.417Z"
   },
   {
    "duration": 100,
    "start_time": "2023-03-21T13:47:19.457Z"
   },
   {
    "duration": 3,
    "start_time": "2023-03-21T13:47:19.558Z"
   },
   {
    "duration": 306,
    "start_time": "2023-03-21T13:47:19.563Z"
   },
   {
    "duration": 43,
    "start_time": "2023-03-21T13:47:19.872Z"
   },
   {
    "duration": 61,
    "start_time": "2023-03-21T13:47:19.917Z"
   },
   {
    "duration": 752,
    "start_time": "2023-03-21T13:47:19.988Z"
   },
   {
    "duration": 161,
    "start_time": "2023-03-21T13:47:20.741Z"
   },
   {
    "duration": 8,
    "start_time": "2023-03-21T13:47:20.906Z"
   },
   {
    "duration": 9,
    "start_time": "2023-03-21T13:47:20.916Z"
   },
   {
    "duration": 29,
    "start_time": "2023-03-21T13:47:20.927Z"
   },
   {
    "duration": 23,
    "start_time": "2023-03-21T13:47:20.958Z"
   },
   {
    "duration": 150,
    "start_time": "2023-03-21T13:47:20.982Z"
   },
   {
    "duration": 36,
    "start_time": "2023-03-21T13:47:21.134Z"
   },
   {
    "duration": 82,
    "start_time": "2023-03-21T13:47:21.172Z"
   },
   {
    "duration": 225,
    "start_time": "2023-03-21T13:47:21.255Z"
   },
   {
    "duration": 22,
    "start_time": "2023-03-21T13:47:21.490Z"
   },
   {
    "duration": 29,
    "start_time": "2023-03-21T13:47:21.514Z"
   },
   {
    "duration": 25,
    "start_time": "2023-03-21T13:47:21.545Z"
   },
   {
    "duration": 4,
    "start_time": "2023-03-21T13:47:21.573Z"
   },
   {
    "duration": 40,
    "start_time": "2023-03-21T13:47:21.592Z"
   },
   {
    "duration": 83,
    "start_time": "2023-03-21T13:47:21.634Z"
   },
   {
    "duration": 492,
    "start_time": "2023-03-21T13:47:21.720Z"
   },
   {
    "duration": 527,
    "start_time": "2023-03-21T13:47:22.214Z"
   },
   {
    "duration": 12,
    "start_time": "2023-03-21T13:47:22.743Z"
   },
   {
    "duration": 158,
    "start_time": "2023-03-21T13:47:22.759Z"
   },
   {
    "duration": 0,
    "start_time": "2023-03-21T13:47:22.920Z"
   },
   {
    "duration": 0,
    "start_time": "2023-03-21T13:47:22.921Z"
   },
   {
    "duration": 0,
    "start_time": "2023-03-21T13:47:22.922Z"
   },
   {
    "duration": 0,
    "start_time": "2023-03-21T13:47:22.923Z"
   },
   {
    "duration": 0,
    "start_time": "2023-03-21T13:47:22.925Z"
   },
   {
    "duration": 1183,
    "start_time": "2023-03-21T13:58:06.005Z"
   },
   {
    "duration": 816,
    "start_time": "2023-03-21T13:58:07.195Z"
   },
   {
    "duration": 22,
    "start_time": "2023-03-21T13:58:08.013Z"
   },
   {
    "duration": 58,
    "start_time": "2023-03-21T13:58:08.036Z"
   },
   {
    "duration": 5,
    "start_time": "2023-03-21T13:58:08.104Z"
   },
   {
    "duration": 34,
    "start_time": "2023-03-21T13:58:08.111Z"
   },
   {
    "duration": 111,
    "start_time": "2023-03-21T13:58:08.147Z"
   },
   {
    "duration": 6,
    "start_time": "2023-03-21T13:58:08.259Z"
   },
   {
    "duration": 116,
    "start_time": "2023-03-21T13:58:08.267Z"
   },
   {
    "duration": 139,
    "start_time": "2023-03-21T13:58:08.385Z"
   },
   {
    "duration": 736,
    "start_time": "2023-03-21T13:58:08.527Z"
   },
   {
    "duration": 163,
    "start_time": "2023-03-21T13:58:09.266Z"
   },
   {
    "duration": 8,
    "start_time": "2023-03-21T13:58:09.431Z"
   },
   {
    "duration": 7,
    "start_time": "2023-03-21T13:58:09.443Z"
   },
   {
    "duration": 9,
    "start_time": "2023-03-21T13:58:09.452Z"
   },
   {
    "duration": 70,
    "start_time": "2023-03-21T13:58:09.489Z"
   },
   {
    "duration": 253,
    "start_time": "2023-03-21T13:58:09.561Z"
   },
   {
    "duration": 62,
    "start_time": "2023-03-21T13:58:09.816Z"
   },
   {
    "duration": 113,
    "start_time": "2023-03-21T13:58:09.894Z"
   },
   {
    "duration": 240,
    "start_time": "2023-03-21T13:58:10.008Z"
   },
   {
    "duration": 13,
    "start_time": "2023-03-21T13:58:10.250Z"
   },
   {
    "duration": 43,
    "start_time": "2023-03-21T13:58:10.265Z"
   },
   {
    "duration": 44,
    "start_time": "2023-03-21T13:58:10.310Z"
   },
   {
    "duration": 6,
    "start_time": "2023-03-21T13:58:10.356Z"
   },
   {
    "duration": 62,
    "start_time": "2023-03-21T13:58:10.364Z"
   },
   {
    "duration": 229,
    "start_time": "2023-03-21T13:58:10.427Z"
   },
   {
    "duration": 489,
    "start_time": "2023-03-21T13:58:10.658Z"
   },
   {
    "duration": 514,
    "start_time": "2023-03-21T13:58:11.150Z"
   },
   {
    "duration": 115,
    "start_time": "2023-03-21T13:58:11.666Z"
   },
   {
    "duration": 195,
    "start_time": "2023-03-21T13:58:11.791Z"
   },
   {
    "duration": 177,
    "start_time": "2023-03-21T13:58:11.988Z"
   },
   {
    "duration": 156,
    "start_time": "2023-03-21T13:58:12.167Z"
   },
   {
    "duration": 0,
    "start_time": "2023-03-21T13:58:12.325Z"
   },
   {
    "duration": 0,
    "start_time": "2023-03-21T13:58:12.330Z"
   },
   {
    "duration": 0,
    "start_time": "2023-03-21T13:58:12.332Z"
   },
   {
    "duration": 0,
    "start_time": "2023-03-21T13:58:12.334Z"
   },
   {
    "duration": 12,
    "start_time": "2023-03-21T13:58:54.931Z"
   },
   {
    "duration": 207,
    "start_time": "2023-03-21T13:59:49.761Z"
   },
   {
    "duration": 13,
    "start_time": "2023-03-21T13:59:51.676Z"
   },
   {
    "duration": 1180,
    "start_time": "2023-03-21T14:00:18.044Z"
   },
   {
    "duration": 852,
    "start_time": "2023-03-21T14:00:19.226Z"
   },
   {
    "duration": 32,
    "start_time": "2023-03-21T14:00:20.080Z"
   },
   {
    "duration": 35,
    "start_time": "2023-03-21T14:00:20.114Z"
   },
   {
    "duration": 10,
    "start_time": "2023-03-21T14:00:20.151Z"
   },
   {
    "duration": 59,
    "start_time": "2023-03-21T14:00:20.163Z"
   },
   {
    "duration": 260,
    "start_time": "2023-03-21T14:00:20.224Z"
   },
   {
    "duration": 4,
    "start_time": "2023-03-21T14:00:20.488Z"
   },
   {
    "duration": 117,
    "start_time": "2023-03-21T14:00:20.503Z"
   },
   {
    "duration": 149,
    "start_time": "2023-03-21T14:00:20.627Z"
   },
   {
    "duration": 732,
    "start_time": "2023-03-21T14:00:20.777Z"
   },
   {
    "duration": 152,
    "start_time": "2023-03-21T14:00:21.511Z"
   },
   {
    "duration": 9,
    "start_time": "2023-03-21T14:00:21.665Z"
   },
   {
    "duration": 23,
    "start_time": "2023-03-21T14:00:21.688Z"
   },
   {
    "duration": 21,
    "start_time": "2023-03-21T14:00:21.713Z"
   },
   {
    "duration": 89,
    "start_time": "2023-03-21T14:00:21.736Z"
   },
   {
    "duration": 152,
    "start_time": "2023-03-21T14:00:21.827Z"
   },
   {
    "duration": 45,
    "start_time": "2023-03-21T14:00:21.988Z"
   },
   {
    "duration": 106,
    "start_time": "2023-03-21T14:00:22.035Z"
   },
   {
    "duration": 216,
    "start_time": "2023-03-21T14:00:22.143Z"
   },
   {
    "duration": 29,
    "start_time": "2023-03-21T14:00:22.362Z"
   },
   {
    "duration": 16,
    "start_time": "2023-03-21T14:00:22.397Z"
   },
   {
    "duration": 45,
    "start_time": "2023-03-21T14:00:22.415Z"
   },
   {
    "duration": 4,
    "start_time": "2023-03-21T14:00:22.462Z"
   },
   {
    "duration": 59,
    "start_time": "2023-03-21T14:00:22.468Z"
   },
   {
    "duration": 187,
    "start_time": "2023-03-21T14:00:22.529Z"
   },
   {
    "duration": 435,
    "start_time": "2023-03-21T14:00:22.718Z"
   },
   {
    "duration": 486,
    "start_time": "2023-03-21T14:00:23.157Z"
   },
   {
    "duration": 107,
    "start_time": "2023-03-21T14:00:23.645Z"
   },
   {
    "duration": 224,
    "start_time": "2023-03-21T14:00:23.754Z"
   },
   {
    "duration": 205,
    "start_time": "2023-03-21T14:00:23.979Z"
   },
   {
    "duration": 51,
    "start_time": "2023-03-21T14:00:24.192Z"
   },
   {
    "duration": 3,
    "start_time": "2023-03-21T14:00:24.245Z"
   },
   {
    "duration": 17,
    "start_time": "2023-03-21T14:00:24.249Z"
   },
   {
    "duration": 2282,
    "start_time": "2023-03-21T14:00:24.268Z"
   },
   {
    "duration": 936853,
    "start_time": "2023-03-21T14:05:01.077Z"
   },
   {
    "duration": 15,
    "start_time": "2023-03-21T14:25:20.137Z"
   },
   {
    "duration": 1392,
    "start_time": "2023-03-21T14:25:41.883Z"
   },
   {
    "duration": 909,
    "start_time": "2023-03-21T14:25:43.277Z"
   },
   {
    "duration": 27,
    "start_time": "2023-03-21T14:25:44.188Z"
   },
   {
    "duration": 36,
    "start_time": "2023-03-21T14:25:44.217Z"
   },
   {
    "duration": 4,
    "start_time": "2023-03-21T14:25:44.255Z"
   },
   {
    "duration": 70,
    "start_time": "2023-03-21T14:25:44.261Z"
   },
   {
    "duration": 119,
    "start_time": "2023-03-21T14:25:44.332Z"
   },
   {
    "duration": 3,
    "start_time": "2023-03-21T14:25:44.453Z"
   },
   {
    "duration": 122,
    "start_time": "2023-03-21T14:25:44.458Z"
   },
   {
    "duration": 152,
    "start_time": "2023-03-21T14:25:44.589Z"
   },
   {
    "duration": 812,
    "start_time": "2023-03-21T14:25:44.743Z"
   },
   {
    "duration": 185,
    "start_time": "2023-03-21T14:25:45.557Z"
   },
   {
    "duration": 10,
    "start_time": "2023-03-21T14:25:45.744Z"
   },
   {
    "duration": 11,
    "start_time": "2023-03-21T14:25:45.759Z"
   },
   {
    "duration": 7,
    "start_time": "2023-03-21T14:25:45.790Z"
   },
   {
    "duration": 96,
    "start_time": "2023-03-21T14:25:45.798Z"
   },
   {
    "duration": 165,
    "start_time": "2023-03-21T14:25:45.895Z"
   },
   {
    "duration": 61,
    "start_time": "2023-03-21T14:25:46.062Z"
   },
   {
    "duration": 139,
    "start_time": "2023-03-21T14:25:46.125Z"
   },
   {
    "duration": 285,
    "start_time": "2023-03-21T14:25:46.267Z"
   },
   {
    "duration": 17,
    "start_time": "2023-03-21T14:25:46.554Z"
   },
   {
    "duration": 39,
    "start_time": "2023-03-21T14:25:46.573Z"
   },
   {
    "duration": 54,
    "start_time": "2023-03-21T14:25:46.614Z"
   },
   {
    "duration": 24,
    "start_time": "2023-03-21T14:25:46.670Z"
   },
   {
    "duration": 41,
    "start_time": "2023-03-21T14:25:46.698Z"
   },
   {
    "duration": 282,
    "start_time": "2023-03-21T14:25:46.742Z"
   },
   {
    "duration": 463,
    "start_time": "2023-03-21T14:25:47.039Z"
   },
   {
    "duration": 530,
    "start_time": "2023-03-21T14:25:47.504Z"
   },
   {
    "duration": 107,
    "start_time": "2023-03-21T14:25:48.035Z"
   },
   {
    "duration": 251,
    "start_time": "2023-03-21T14:25:48.144Z"
   },
   {
    "duration": 250,
    "start_time": "2023-03-21T14:25:48.397Z"
   },
   {
    "duration": 70,
    "start_time": "2023-03-21T14:25:48.649Z"
   },
   {
    "duration": 4,
    "start_time": "2023-03-21T14:25:48.725Z"
   },
   {
    "duration": 14,
    "start_time": "2023-03-21T14:25:48.731Z"
   },
   {
    "duration": 156,
    "start_time": "2023-03-21T14:25:48.747Z"
   },
   {
    "duration": 36633,
    "start_time": "2023-03-21T14:28:43.400Z"
   },
   {
    "duration": 22,
    "start_time": "2023-03-21T14:30:24.129Z"
   },
   {
    "duration": 16,
    "start_time": "2023-03-21T14:31:06.737Z"
   },
   {
    "duration": 18,
    "start_time": "2023-03-21T14:32:58.399Z"
   },
   {
    "duration": 309,
    "start_time": "2023-03-21T14:37:46.492Z"
   },
   {
    "duration": 128070,
    "start_time": "2023-03-21T14:38:06.054Z"
   },
   {
    "duration": 36,
    "start_time": "2023-03-21T14:41:44.711Z"
   },
   {
    "duration": 119,
    "start_time": "2023-03-21T14:41:54.222Z"
   },
   {
    "duration": 18,
    "start_time": "2023-03-21T14:41:54.585Z"
   },
   {
    "duration": 4,
    "start_time": "2023-03-21T14:41:58.813Z"
   },
   {
    "duration": 129539,
    "start_time": "2023-03-21T14:42:01.157Z"
   },
   {
    "duration": 132984,
    "start_time": "2023-03-21T14:51:27.726Z"
   },
   {
    "duration": 19,
    "start_time": "2023-03-21T14:55:18.823Z"
   },
   {
    "duration": 24,
    "start_time": "2023-03-21T14:58:56.226Z"
   },
   {
    "duration": 25,
    "start_time": "2023-03-21T15:00:00.389Z"
   },
   {
    "duration": 141813,
    "start_time": "2023-03-21T15:00:26.286Z"
   },
   {
    "duration": 12,
    "start_time": "2023-03-21T15:04:24.611Z"
   },
   {
    "duration": 10,
    "start_time": "2023-03-21T15:04:57.017Z"
   },
   {
    "duration": 12,
    "start_time": "2023-03-21T15:05:12.209Z"
   },
   {
    "duration": 8,
    "start_time": "2023-03-21T15:05:16.255Z"
   },
   {
    "duration": 10,
    "start_time": "2023-03-21T15:08:59.210Z"
   },
   {
    "duration": 505,
    "start_time": "2023-03-21T15:09:28.377Z"
   },
   {
    "duration": 10,
    "start_time": "2023-03-21T15:09:59.169Z"
   },
   {
    "duration": 11004,
    "start_time": "2023-03-21T15:10:03.377Z"
   },
   {
    "duration": 10,
    "start_time": "2023-03-21T15:10:18.640Z"
   },
   {
    "duration": 441,
    "start_time": "2023-03-21T15:10:30.845Z"
   },
   {
    "duration": 11,
    "start_time": "2023-03-21T15:10:38.621Z"
   },
   {
    "duration": 10905,
    "start_time": "2023-03-21T15:10:57.679Z"
   },
   {
    "duration": 0,
    "start_time": "2023-03-21T15:11:08.598Z"
   },
   {
    "duration": 564,
    "start_time": "2023-03-21T15:11:24.911Z"
   },
   {
    "duration": 17,
    "start_time": "2023-03-21T15:13:44.478Z"
   },
   {
    "duration": 5,
    "start_time": "2023-03-21T15:13:59.515Z"
   },
   {
    "duration": 139888,
    "start_time": "2023-03-21T15:14:04.527Z"
   },
   {
    "duration": 21,
    "start_time": "2023-03-21T15:16:40.741Z"
   },
   {
    "duration": 16,
    "start_time": "2023-03-21T15:17:51.034Z"
   },
   {
    "duration": 17,
    "start_time": "2023-03-21T15:19:34.719Z"
   },
   {
    "duration": 7,
    "start_time": "2023-03-21T15:20:13.309Z"
   },
   {
    "duration": 12,
    "start_time": "2023-03-21T15:20:20.521Z"
   },
   {
    "duration": 3,
    "start_time": "2023-03-21T15:20:28.023Z"
   },
   {
    "duration": 21,
    "start_time": "2023-03-21T15:20:32.828Z"
   },
   {
    "duration": 14,
    "start_time": "2023-03-21T15:20:46.040Z"
   },
   {
    "duration": 3,
    "start_time": "2023-03-21T15:20:55.720Z"
   },
   {
    "duration": 94401,
    "start_time": "2023-03-21T15:21:05.271Z"
   },
   {
    "duration": 5,
    "start_time": "2023-03-21T15:23:59.413Z"
   },
   {
    "duration": 3,
    "start_time": "2023-03-21T15:25:43.008Z"
   },
   {
    "duration": 4,
    "start_time": "2023-03-21T15:25:43.671Z"
   },
   {
    "duration": 132138,
    "start_time": "2023-03-21T15:26:15.851Z"
   },
   {
    "duration": 3,
    "start_time": "2023-03-21T15:32:10.581Z"
   },
   {
    "duration": 3,
    "start_time": "2023-03-21T15:32:10.917Z"
   },
   {
    "duration": 4,
    "start_time": "2023-03-21T15:32:34.669Z"
   },
   {
    "duration": 79865,
    "start_time": "2023-03-21T15:32:47.921Z"
   },
   {
    "duration": 581388,
    "start_time": "2023-03-21T15:34:16.206Z"
   },
   {
    "duration": 2141446,
    "start_time": "2023-03-21T15:43:59.484Z"
   },
   {
    "duration": 394589,
    "start_time": "2023-03-21T16:20:02.124Z"
   },
   {
    "duration": 230483,
    "start_time": "2023-03-21T16:26:41.163Z"
   },
   {
    "duration": 11,
    "start_time": "2023-03-21T16:34:07.510Z"
   },
   {
    "duration": 3,
    "start_time": "2023-03-21T16:34:17.117Z"
   },
   {
    "duration": 2970609,
    "start_time": "2023-03-21T16:36:03.335Z"
   },
   {
    "duration": 8080,
    "start_time": "2023-03-21T17:28:45.132Z"
   },
   {
    "duration": 1570,
    "start_time": "2023-03-21T17:29:18.236Z"
   },
   {
    "duration": 1174,
    "start_time": "2023-03-21T17:29:19.808Z"
   },
   {
    "duration": 35,
    "start_time": "2023-03-21T17:29:20.983Z"
   },
   {
    "duration": 44,
    "start_time": "2023-03-21T17:29:21.023Z"
   },
   {
    "duration": 6,
    "start_time": "2023-03-21T17:29:21.070Z"
   },
   {
    "duration": 44,
    "start_time": "2023-03-21T17:29:21.088Z"
   },
   {
    "duration": 133,
    "start_time": "2023-03-21T17:29:21.135Z"
   },
   {
    "duration": 41,
    "start_time": "2023-03-21T17:29:21.270Z"
   },
   {
    "duration": 101,
    "start_time": "2023-03-21T17:29:21.315Z"
   },
   {
    "duration": 125,
    "start_time": "2023-03-21T17:29:21.417Z"
   },
   {
    "duration": 764,
    "start_time": "2023-03-21T17:29:21.545Z"
   },
   {
    "duration": 153,
    "start_time": "2023-03-21T17:29:22.311Z"
   },
   {
    "duration": 8,
    "start_time": "2023-03-21T17:29:22.465Z"
   },
   {
    "duration": 15,
    "start_time": "2023-03-21T17:29:22.490Z"
   },
   {
    "duration": 23,
    "start_time": "2023-03-21T17:29:22.507Z"
   },
   {
    "duration": 72,
    "start_time": "2023-03-21T17:29:22.533Z"
   },
   {
    "duration": 197,
    "start_time": "2023-03-21T17:29:22.607Z"
   },
   {
    "duration": 58,
    "start_time": "2023-03-21T17:29:22.806Z"
   },
   {
    "duration": 153,
    "start_time": "2023-03-21T17:29:22.866Z"
   },
   {
    "duration": 238,
    "start_time": "2023-03-21T17:29:23.021Z"
   },
   {
    "duration": 13,
    "start_time": "2023-03-21T17:29:23.261Z"
   },
   {
    "duration": 29,
    "start_time": "2023-03-21T17:29:23.293Z"
   },
   {
    "duration": 66,
    "start_time": "2023-03-21T17:29:23.324Z"
   },
   {
    "duration": 14,
    "start_time": "2023-03-21T17:29:23.392Z"
   },
   {
    "duration": 59,
    "start_time": "2023-03-21T17:29:23.409Z"
   },
   {
    "duration": 197,
    "start_time": "2023-03-21T17:29:23.470Z"
   },
   {
    "duration": 497,
    "start_time": "2023-03-21T17:29:23.669Z"
   },
   {
    "duration": 530,
    "start_time": "2023-03-21T17:29:24.169Z"
   },
   {
    "duration": 102,
    "start_time": "2023-03-21T17:29:24.701Z"
   },
   {
    "duration": 216,
    "start_time": "2023-03-21T17:29:24.805Z"
   },
   {
    "duration": 21,
    "start_time": "2023-03-21T17:29:25.024Z"
   },
   {
    "duration": 193,
    "start_time": "2023-03-21T17:29:25.047Z"
   },
   {
    "duration": 3,
    "start_time": "2023-03-21T17:29:25.242Z"
   },
   {
    "duration": 9,
    "start_time": "2023-03-21T17:29:25.247Z"
   },
   {
    "duration": 12,
    "start_time": "2023-03-21T17:29:25.257Z"
   },
   {
    "duration": 6144701,
    "start_time": "2023-03-21T17:29:25.270Z"
   },
   {
    "duration": 1198,
    "start_time": "2023-03-21T19:16:08.085Z"
   },
   {
    "duration": 863,
    "start_time": "2023-03-21T19:16:09.287Z"
   },
   {
    "duration": 21,
    "start_time": "2023-03-21T19:16:10.152Z"
   },
   {
    "duration": 45,
    "start_time": "2023-03-21T19:16:10.174Z"
   },
   {
    "duration": 6,
    "start_time": "2023-03-21T19:16:10.222Z"
   },
   {
    "duration": 34,
    "start_time": "2023-03-21T19:16:10.230Z"
   },
   {
    "duration": 102,
    "start_time": "2023-03-21T19:16:10.266Z"
   },
   {
    "duration": 3,
    "start_time": "2023-03-21T19:16:10.370Z"
   },
   {
    "duration": 101,
    "start_time": "2023-03-21T19:16:10.374Z"
   },
   {
    "duration": 135,
    "start_time": "2023-03-21T19:16:10.489Z"
   },
   {
    "duration": 684,
    "start_time": "2023-03-21T19:16:10.626Z"
   },
   {
    "duration": 136,
    "start_time": "2023-03-21T19:16:11.311Z"
   },
   {
    "duration": 8,
    "start_time": "2023-03-21T19:16:11.449Z"
   },
   {
    "duration": 6,
    "start_time": "2023-03-21T19:16:11.460Z"
   },
   {
    "duration": 6,
    "start_time": "2023-03-21T19:16:11.489Z"
   },
   {
    "duration": 57,
    "start_time": "2023-03-21T19:16:11.497Z"
   },
   {
    "duration": 169,
    "start_time": "2023-03-21T19:16:11.556Z"
   },
   {
    "duration": 40,
    "start_time": "2023-03-21T19:16:11.727Z"
   },
   {
    "duration": 101,
    "start_time": "2023-03-21T19:16:11.788Z"
   },
   {
    "duration": 217,
    "start_time": "2023-03-21T19:16:11.891Z"
   },
   {
    "duration": 14,
    "start_time": "2023-03-21T19:16:12.110Z"
   },
   {
    "duration": 16,
    "start_time": "2023-03-21T19:16:12.126Z"
   },
   {
    "duration": 78,
    "start_time": "2023-03-21T19:16:12.144Z"
   },
   {
    "duration": 4,
    "start_time": "2023-03-21T19:16:12.224Z"
   },
   {
    "duration": 37,
    "start_time": "2023-03-21T19:16:12.230Z"
   },
   {
    "duration": 176,
    "start_time": "2023-03-21T19:16:12.269Z"
   },
   {
    "duration": 464,
    "start_time": "2023-03-21T19:16:12.446Z"
   },
   {
    "duration": 461,
    "start_time": "2023-03-21T19:16:12.912Z"
   },
   {
    "duration": 76,
    "start_time": "2023-03-21T19:16:13.375Z"
   },
   {
    "duration": 200,
    "start_time": "2023-03-21T19:16:13.453Z"
   },
   {
    "duration": 21,
    "start_time": "2023-03-21T19:16:13.655Z"
   },
   {
    "duration": 164,
    "start_time": "2023-03-21T19:16:13.689Z"
   },
   {
    "duration": 3,
    "start_time": "2023-03-21T19:16:13.855Z"
   },
   {
    "duration": 7,
    "start_time": "2023-03-21T19:16:13.859Z"
   },
   {
    "duration": 1292,
    "start_time": "2023-03-22T01:48:48.808Z"
   },
   {
    "duration": 1388,
    "start_time": "2023-03-22T01:48:50.102Z"
   },
   {
    "duration": 19,
    "start_time": "2023-03-22T01:48:51.492Z"
   },
   {
    "duration": 61,
    "start_time": "2023-03-22T01:48:51.513Z"
   },
   {
    "duration": 18,
    "start_time": "2023-03-22T01:48:51.578Z"
   },
   {
    "duration": 47,
    "start_time": "2023-03-22T01:48:51.598Z"
   },
   {
    "duration": 95,
    "start_time": "2023-03-22T01:48:51.650Z"
   },
   {
    "duration": 10,
    "start_time": "2023-03-22T01:48:51.754Z"
   },
   {
    "duration": 104,
    "start_time": "2023-03-22T01:48:51.766Z"
   },
   {
    "duration": 159,
    "start_time": "2023-03-22T01:48:51.873Z"
   },
   {
    "duration": 998,
    "start_time": "2023-03-22T01:48:52.034Z"
   },
   {
    "duration": 157,
    "start_time": "2023-03-22T01:48:53.034Z"
   },
   {
    "duration": 12,
    "start_time": "2023-03-22T01:48:53.193Z"
   },
   {
    "duration": 8,
    "start_time": "2023-03-22T01:48:53.209Z"
   },
   {
    "duration": 26,
    "start_time": "2023-03-22T01:48:53.219Z"
   },
   {
    "duration": 111,
    "start_time": "2023-03-22T01:48:53.247Z"
   },
   {
    "duration": 256,
    "start_time": "2023-03-22T01:48:53.360Z"
   },
   {
    "duration": 69,
    "start_time": "2023-03-22T01:48:53.618Z"
   },
   {
    "duration": 118,
    "start_time": "2023-03-22T01:48:53.688Z"
   },
   {
    "duration": 144,
    "start_time": "2023-03-22T01:48:53.808Z"
   },
   {
    "duration": 17,
    "start_time": "2023-03-22T01:48:53.954Z"
   },
   {
    "duration": 38,
    "start_time": "2023-03-22T01:48:53.973Z"
   },
   {
    "duration": 62,
    "start_time": "2023-03-22T01:48:54.012Z"
   },
   {
    "duration": 9,
    "start_time": "2023-03-22T01:48:54.082Z"
   },
   {
    "duration": 38,
    "start_time": "2023-03-22T01:48:54.092Z"
   },
   {
    "duration": 184,
    "start_time": "2023-03-22T01:48:54.132Z"
   },
   {
    "duration": 518,
    "start_time": "2023-03-22T01:48:54.318Z"
   },
   {
    "duration": 587,
    "start_time": "2023-03-22T01:48:54.838Z"
   },
   {
    "duration": 82,
    "start_time": "2023-03-22T01:48:55.427Z"
   },
   {
    "duration": 205,
    "start_time": "2023-03-22T01:48:55.510Z"
   },
   {
    "duration": 32,
    "start_time": "2023-03-22T01:48:55.717Z"
   },
   {
    "duration": 232,
    "start_time": "2023-03-22T01:48:55.751Z"
   },
   {
    "duration": 4,
    "start_time": "2023-03-22T01:48:55.987Z"
   },
   {
    "duration": 10,
    "start_time": "2023-03-22T01:48:55.994Z"
   },
   {
    "duration": 5631144,
    "start_time": "2023-03-22T01:48:56.006Z"
   },
   {
    "duration": 7,
    "start_time": "2023-03-22T03:23:41.068Z"
   },
   {
    "duration": 254361,
    "start_time": "2023-03-22T03:24:41.976Z"
   },
   {
    "duration": 446072,
    "start_time": "2023-03-22T03:29:24.972Z"
   },
   {
    "duration": 136,
    "start_time": "2023-03-22T03:53:52.391Z"
   },
   {
    "duration": 155,
    "start_time": "2023-03-22T03:54:15.670Z"
   },
   {
    "duration": 152,
    "start_time": "2023-03-22T03:54:55.219Z"
   },
   {
    "duration": 134,
    "start_time": "2023-03-22T03:55:09.458Z"
   },
   {
    "duration": 135,
    "start_time": "2023-03-22T03:55:18.297Z"
   },
   {
    "duration": 6,
    "start_time": "2023-03-22T03:55:44.508Z"
   },
   {
    "duration": 138,
    "start_time": "2023-03-22T03:56:00.457Z"
   },
   {
    "duration": 12,
    "start_time": "2023-03-22T03:56:52.298Z"
   },
   {
    "duration": 485,
    "start_time": "2023-03-22T03:57:06.633Z"
   },
   {
    "duration": 453,
    "start_time": "2023-03-22T03:57:30.088Z"
   },
   {
    "duration": 138,
    "start_time": "2023-03-22T03:58:55.434Z"
   },
   {
    "duration": 452,
    "start_time": "2023-03-22T03:59:01.657Z"
   },
   {
    "duration": 42350,
    "start_time": "2023-03-22T04:00:08.111Z"
   },
   {
    "duration": 14,
    "start_time": "2023-03-22T04:01:32.148Z"
   },
   {
    "duration": 0,
    "start_time": "2023-03-22T04:01:50.372Z"
   },
   {
    "duration": 35791,
    "start_time": "2023-03-22T04:01:57.359Z"
   },
   {
    "duration": 452212,
    "start_time": "2023-03-22T04:03:01.581Z"
   },
   {
    "duration": 13,
    "start_time": "2023-03-22T04:18:24.278Z"
   },
   {
    "duration": 765,
    "start_time": "2023-03-22T04:20:00.877Z"
   },
   {
    "duration": 468,
    "start_time": "2023-03-22T04:20:38.588Z"
   }
  ],
  "kernelspec": {
   "display_name": "Python 3 (ipykernel)",
   "language": "python",
   "name": "python3"
  },
  "language_info": {
   "codemirror_mode": {
    "name": "ipython",
    "version": 3
   },
   "file_extension": ".py",
   "mimetype": "text/x-python",
   "name": "python",
   "nbconvert_exporter": "python",
   "pygments_lexer": "ipython3",
   "version": "3.9.12"
  },
  "toc": {
   "base_numbering": 1,
   "nav_menu": {},
   "number_sections": true,
   "sideBar": true,
   "skip_h1_title": true,
   "title_cell": "Table of Contents",
   "title_sidebar": "Contents",
   "toc_cell": false,
   "toc_position": {
    "height": "calc(100% - 180px)",
    "left": "10px",
    "top": "150px",
    "width": "195.208px"
   },
   "toc_section_display": true,
   "toc_window_display": true
  }
 },
 "nbformat": 4,
 "nbformat_minor": 2
}
