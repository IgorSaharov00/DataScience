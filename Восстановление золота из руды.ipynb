{
 "cells": [
  {
   "cell_type": "markdown",
   "metadata": {
    "toc": true
   },
   "source": [
    "<h1>Содержание<span class=\"tocSkip\"></span></h1>\n",
    "<div class=\"toc\"><ul class=\"toc-item\"><li><span><a href=\"#Библиотеки\" data-toc-modified-id=\"Библиотеки-1\"><span class=\"toc-item-num\">1&nbsp;&nbsp;</span>Библиотеки</a></span></li><li><span><a href=\"#Подготовка-данных\" data-toc-modified-id=\"Подготовка-данных-2\"><span class=\"toc-item-num\">2&nbsp;&nbsp;</span>Подготовка данных</a></span><ul class=\"toc-item\"><li><span><a href=\"#Загрузка-файлов\" data-toc-modified-id=\"Загрузка-файлов-2.1\"><span class=\"toc-item-num\">2.1&nbsp;&nbsp;</span>Загрузка файлов</a></span></li><li><span><a href=\"#Изучение-файлов\" data-toc-modified-id=\"Изучение-файлов-2.2\"><span class=\"toc-item-num\">2.2&nbsp;&nbsp;</span>Изучение файлов</a></span><ul class=\"toc-item\"><li><span><a href=\"#Обучающая-выборка\" data-toc-modified-id=\"Обучающая-выборка-2.2.1\"><span class=\"toc-item-num\">2.2.1&nbsp;&nbsp;</span>Обучающая выборка</a></span><ul class=\"toc-item\"><li><span><a href=\"#Проверка-правильности-рассчёта-эффективности-обогащения.\" data-toc-modified-id=\"Проверка-правильности-рассчёта-эффективности-обогащения.-2.2.1.1\"><span class=\"toc-item-num\">2.2.1.1&nbsp;&nbsp;</span>Проверка правильности рассчёта эффективности обогащения.</a></span></li></ul></li><li><span><a href=\"#Тестовая-выбоока\" data-toc-modified-id=\"Тестовая-выбоока-2.2.2\"><span class=\"toc-item-num\">2.2.2&nbsp;&nbsp;</span>Тестовая выбоока</a></span><ul class=\"toc-item\"><li><span><a href=\"#Анализ-признаков,-отсутствующих-в-тестовой-выборке\" data-toc-modified-id=\"Анализ-признаков,-отсутствующих-в-тестовой-выборке-2.2.2.1\"><span class=\"toc-item-num\">2.2.2.1&nbsp;&nbsp;</span>Анализ признаков, отсутствующих в тестовой выборке</a></span></li></ul></li><li><span><a href=\"#Исходные-данные\" data-toc-modified-id=\"Исходные-данные-2.2.3\"><span class=\"toc-item-num\">2.2.3&nbsp;&nbsp;</span>Исходные данные</a></span></li><li><span><a href=\"#Вывод\" data-toc-modified-id=\"Вывод-2.2.4\"><span class=\"toc-item-num\">2.2.4&nbsp;&nbsp;</span>Вывод</a></span></li></ul></li><li><span><a href=\"#Предобработка-данных\" data-toc-modified-id=\"Предобработка-данных-2.3\"><span class=\"toc-item-num\">2.3&nbsp;&nbsp;</span>Предобработка данных</a></span><ul class=\"toc-item\"><li><span><a href=\"#Удаление-признаков-из-обучающей-выборки\" data-toc-modified-id=\"Удаление-признаков-из-обучающей-выборки-2.3.1\"><span class=\"toc-item-num\">2.3.1&nbsp;&nbsp;</span>Удаление признаков из обучающей выборки</a></span></li><li><span><a href=\"#Добавление-целевых-признаков-в-тестовую-выборку\" data-toc-modified-id=\"Добавление-целевых-признаков-в-тестовую-выборку-2.3.2\"><span class=\"toc-item-num\">2.3.2&nbsp;&nbsp;</span>Добавление целевых признаков в тестовую выборку</a></span></li><li><span><a href=\"#Обработка-пропусков\" data-toc-modified-id=\"Обработка-пропусков-2.3.3\"><span class=\"toc-item-num\">2.3.3&nbsp;&nbsp;</span>Обработка пропусков</a></span></li><li><span><a href=\"#Обработка-выбросов\" data-toc-modified-id=\"Обработка-выбросов-2.3.4\"><span class=\"toc-item-num\">2.3.4&nbsp;&nbsp;</span>Обработка выбросов</a></span></li></ul></li><li><span><a href=\"#Вывод\" data-toc-modified-id=\"Вывод-2.4\"><span class=\"toc-item-num\">2.4&nbsp;&nbsp;</span>Вывод</a></span></li></ul></li><li><span><a href=\"#Анализ-данных\" data-toc-modified-id=\"Анализ-данных-3\"><span class=\"toc-item-num\">3&nbsp;&nbsp;</span>Анализ данных</a></span><ul class=\"toc-item\"><li><span><a href=\"#Анализ-изменения-концентраций-металлов-на-этапах-очистки\" data-toc-modified-id=\"Анализ-изменения-концентраций-металлов-на-этапах-очистки-3.1\"><span class=\"toc-item-num\">3.1&nbsp;&nbsp;</span>Анализ изменения концентраций металлов на этапах очистки</a></span><ul class=\"toc-item\"><li><span><a href=\"#Вывод\" data-toc-modified-id=\"Вывод-3.1.1\"><span class=\"toc-item-num\">3.1.1&nbsp;&nbsp;</span>Вывод</a></span></li></ul></li><li><span><a href=\"#Анализ-распределения-размеров-гранул-сырья-и-гранул-перед-первой-очисткой-в-обучающей-и-тестовой-выборках\" data-toc-modified-id=\"Анализ-распределения-размеров-гранул-сырья-и-гранул-перед-первой-очисткой-в-обучающей-и-тестовой-выборках-3.2\"><span class=\"toc-item-num\">3.2&nbsp;&nbsp;</span>Анализ распределения размеров гранул сырья и гранул перед первой очисткой в обучающей и тестовой выборках</a></span><ul class=\"toc-item\"><li><span><a href=\"#Вывод\" data-toc-modified-id=\"Вывод-3.2.1\"><span class=\"toc-item-num\">3.2.1&nbsp;&nbsp;</span>Вывод</a></span></li></ul></li><li><span><a href=\"#Исследование-суммарной-концентрации-веществ\" data-toc-modified-id=\"Исследование-суммарной-концентрации-веществ-3.3\"><span class=\"toc-item-num\">3.3&nbsp;&nbsp;</span>Исследование суммарной концентрации веществ</a></span><ul class=\"toc-item\"><li><span><a href=\"#Вывод:\" data-toc-modified-id=\"Вывод:-3.3.1\"><span class=\"toc-item-num\">3.3.1&nbsp;&nbsp;</span>Вывод:</a></span></li><li><span><a href=\"#Удаление-аномалий\" data-toc-modified-id=\"Удаление-аномалий-3.3.2\"><span class=\"toc-item-num\">3.3.2&nbsp;&nbsp;</span>Удаление аномалий</a></span></li></ul></li><li><span><a href=\"#Вывод\" data-toc-modified-id=\"Вывод-3.4\"><span class=\"toc-item-num\">3.4&nbsp;&nbsp;</span>Вывод</a></span></li></ul></li><li><span><a href=\"#Модель\" data-toc-modified-id=\"Модель-4\"><span class=\"toc-item-num\">4&nbsp;&nbsp;</span>Модель</a></span><ul class=\"toc-item\"><li><span><a href=\"#Функция-для-вычисления-итоговой-sMAPE\" data-toc-modified-id=\"Функция-для-вычисления-итоговой-sMAPE-4.1\"><span class=\"toc-item-num\">4.1&nbsp;&nbsp;</span>Функция для вычисления итоговой sMAPE</a></span></li><li><span><a href=\"#Обучение-моделей\" data-toc-modified-id=\"Обучение-моделей-4.2\"><span class=\"toc-item-num\">4.2&nbsp;&nbsp;</span>Обучение моделей</a></span><ul class=\"toc-item\"><li><span><a href=\"#Исследование-значимости-признаков\" data-toc-modified-id=\"Исследование-значимости-признаков-4.2.1\"><span class=\"toc-item-num\">4.2.1&nbsp;&nbsp;</span>Исследование значимости признаков</a></span></li><li><span><a href=\"#Перебор-гиперпараметров-с-использованием-всех-признаков\" data-toc-modified-id=\"Перебор-гиперпараметров-с-использованием-всех-признаков-4.2.2\"><span class=\"toc-item-num\">4.2.2&nbsp;&nbsp;</span>Перебор гиперпараметров с использованием всех признаков</a></span></li><li><span><a href=\"#Перебор-гиперпараметров-с-использванием-самых-значимых-признаков\" data-toc-modified-id=\"Перебор-гиперпараметров-с-использванием-самых-значимых-признаков-4.2.3\"><span class=\"toc-item-num\">4.2.3&nbsp;&nbsp;</span>Перебор гиперпараметров с использванием самых значимых признаков</a></span></li><li><span><a href=\"#Вывод\" data-toc-modified-id=\"Вывод-4.2.4\"><span class=\"toc-item-num\">4.2.4&nbsp;&nbsp;</span>Вывод</a></span></li></ul></li><li><span><a href=\"#Итоговая-модель\" data-toc-modified-id=\"Итоговая-модель-4.3\"><span class=\"toc-item-num\">4.3&nbsp;&nbsp;</span>Итоговая модель</a></span><ul class=\"toc-item\"><li><span><a href=\"#Проверка-модели-на-адекватность\" data-toc-modified-id=\"Проверка-модели-на-адекватность-4.3.1\"><span class=\"toc-item-num\">4.3.1&nbsp;&nbsp;</span>Проверка модели на адекватность</a></span></li><li><span><a href=\"#Вывод\" data-toc-modified-id=\"Вывод-4.3.2\"><span class=\"toc-item-num\">4.3.2&nbsp;&nbsp;</span>Вывод</a></span></li></ul></li><li><span><a href=\"#Вывод\" data-toc-modified-id=\"Вывод-4.4\"><span class=\"toc-item-num\">4.4&nbsp;&nbsp;</span>Вывод</a></span></li></ul></li><li><span><a href=\"#Общий-вывод\" data-toc-modified-id=\"Общий-вывод-5\"><span class=\"toc-item-num\">5&nbsp;&nbsp;</span>Общий вывод</a></span></li></ul></div>"
   ]
  },
  {
   "cell_type": "markdown",
   "metadata": {},
   "source": [
    "# Восстановление золота из руды"
   ]
  },
  {
   "cell_type": "markdown",
   "metadata": {},
   "source": [
    "Необходимо подготовать прототип модели машинного обучения для «Цифры». Компания разрабатывает решения для эффективной работы промышленных предприятий.\n",
    "\n",
    "Модель должна предсказать коэффициент восстановления золота из золотосодержащей руды.Предотсалены данные данные с параметрами добычи и очистки. \n",
    "\n",
    "Модель поможет оптимизировать производство, чтобы не запускать предприятие с убыточными характеристиками."
   ]
  },
  {
   "cell_type": "markdown",
   "metadata": {},
   "source": [
    "## Библиотеки"
   ]
  },
  {
   "cell_type": "code",
   "execution_count": 1,
   "metadata": {},
   "outputs": [],
   "source": [
    "# импорты из стандартной библиотеки\n",
    "import os\n",
    "import warnings\n",
    "\n",
    "# импорты сторонних библиотек\n",
    "import numpy as np\n",
    "import pandas as pd\n",
    "import seaborn as sns\n",
    "\n",
    "# импорты модулей текущего проекта\n",
    "import matplotlib.patches as mpatches\n",
    "from sklearn.tree import DecisionTreeRegressor\n",
    "from sklearn.ensemble import (\n",
    "    RandomForestRegressor,\n",
    "    IsolationForest\n",
    ")\n",
    "from sklearn.linear_model import (\n",
    "    LinearRegression,\n",
    "    Ridge\n",
    ")\n",
    "from sklearn.metrics import (\n",
    "    mean_absolute_error,\n",
    "    make_scorer\n",
    ")\n",
    "from sklearn.model_selection import (\n",
    "    GridSearchCV, \n",
    "    RandomizedSearchCV,\n",
    "    train_test_split,\n",
    "    cross_val_score\n",
    ")\n",
    "from sklearn.pipeline import make_pipeline\n",
    "from sklearn.preprocessing import StandardScaler\n",
    "from scipy.stats import (\n",
    "    zscore,\n",
    "    mannwhitneyu\n",
    ")\n",
    "from sklearn.dummy import DummyRegressor\n",
    "from matplotlib import pyplot as plt\n",
    "from numpy import abs\n",
    "from copy import copy\n",
    "from tqdm import tqdm\n",
    "\n",
    "# настройки\n",
    "warnings.filterwarnings(\"ignore\")\n",
    "pd.options.display.max_rows = 87\n",
    "\n",
    "# константы\n",
    "RANDOM_STATE = 0\n",
    "PATH_TRAIN = 'C:/Users/igors/OneDrive/Рабочий стол/Портфолио/8. Восстановление золота из руды/gold_industry_train.csv'\n",
    "PATH_TEST = 'C:/Users/igors/OneDrive/Рабочий стол/Портфолио/8. Восстановление золота из руды/gold_industry_test.csv'\n",
    "PATH_FULL = 'C:/Users/igors/OneDrive/Рабочий стол/Портфолио/8. Восстановление золота из руды/gold_industry_full.csv'"
   ]
  },
  {
   "cell_type": "markdown",
   "metadata": {},
   "source": [
    "## Подготовка данных"
   ]
  },
  {
   "cell_type": "markdown",
   "metadata": {},
   "source": [
    "### Загрузка файлов "
   ]
  },
  {
   "cell_type": "code",
   "execution_count": 2,
   "metadata": {},
   "outputs": [],
   "source": [
    "all_paths_are_exist = os.path.exists(PATH_TRAIN) and os.path.exists(PATH_TEST) and os.path.exists(PATH_FULL)\n",
    "if all_paths_are_exist:\n",
    "    try:\n",
    "        df_train = pd.read_csv(PATH_TRAIN, index_col='date')\n",
    "        df_test = pd.read_csv(PATH_TEST, index_col='date')\n",
    "        df_full = pd.read_csv(PATH_FULL, index_col='date')\n",
    "    except:\n",
    "        print('Ошибка в считывании данных.')\n",
    "else:\n",
    "    print(f'Один из путей указан неверно.')"
   ]
  },
  {
   "cell_type": "markdown",
   "metadata": {},
   "source": [
    "### Изучение файлов"
   ]
  },
  {
   "cell_type": "markdown",
   "metadata": {},
   "source": [
    "#### Обучающая выборка\n"
   ]
  },
  {
   "cell_type": "markdown",
   "metadata": {},
   "source": [
    "Изучим общую информацию, найдём пропуски и дубликаты."
   ]
  },
  {
   "cell_type": "code",
   "execution_count": 3,
   "metadata": {},
   "outputs": [
    {
     "data": {
      "text/plain": [
       "date\n",
       "2016-01-15 00:00:00    6.486150\n",
       "2016-01-15 01:00:00    6.478583\n",
       "2016-01-15 02:00:00    6.362222\n",
       "2016-01-15 03:00:00    6.118189\n",
       "2016-01-15 04:00:00    5.663707\n",
       "Name: rougher.input.feed_au, dtype: float64"
      ]
     },
     "execution_count": 3,
     "metadata": {},
     "output_type": "execute_result"
    }
   ],
   "source": [
    "df_train['rougher.input.feed_au'].head()"
   ]
  },
  {
   "cell_type": "code",
   "execution_count": 4,
   "metadata": {},
   "outputs": [
    {
     "name": "stdout",
     "output_type": "stream",
     "text": [
      "<class 'pandas.core.frame.DataFrame'>\n",
      "Index: 14579 entries, 2016-01-15 00:00:00 to 2017-12-09 13:59:59\n",
      "Data columns (total 86 columns):\n",
      " #   Column                                              Non-Null Count  Dtype  \n",
      "---  ------                                              --------------  -----  \n",
      " 0   rougher.input.feed_au                               14579 non-null  float64\n",
      " 1   rougher.input.feed_ag                               14579 non-null  float64\n",
      " 2   rougher.input.feed_pb                               14507 non-null  float64\n",
      " 3   rougher.input.feed_sol                              14502 non-null  float64\n",
      " 4   rougher.input.feed_rate                             14572 non-null  float64\n",
      " 5   rougher.input.feed_size                             14478 non-null  float64\n",
      " 6   rougher.input.floatbank10_sulfate                   14548 non-null  float64\n",
      " 7   rougher.input.floatbank10_xanthate                  14572 non-null  float64\n",
      " 8   rougher.state.floatbank10_a_air                     14579 non-null  float64\n",
      " 9   rougher.state.floatbank10_a_level                   14579 non-null  float64\n",
      " 10  rougher.state.floatbank10_b_air                     14579 non-null  float64\n",
      " 11  rougher.state.floatbank10_b_level                   14579 non-null  float64\n",
      " 12  rougher.state.floatbank10_c_air                     14579 non-null  float64\n",
      " 13  rougher.state.floatbank10_c_level                   14579 non-null  float64\n",
      " 14  rougher.state.floatbank10_d_air                     14579 non-null  float64\n",
      " 15  rougher.state.floatbank10_d_level                   14579 non-null  float64\n",
      " 16  rougher.state.floatbank10_e_air                     14150 non-null  float64\n",
      " 17  rougher.state.floatbank10_e_level                   14579 non-null  float64\n",
      " 18  rougher.state.floatbank10_f_air                     14579 non-null  float64\n",
      " 19  rougher.state.floatbank10_f_level                   14579 non-null  float64\n",
      " 20  rougher.input.floatbank11_sulfate                   14543 non-null  float64\n",
      " 21  rougher.input.floatbank11_xanthate                  14172 non-null  float64\n",
      " 22  rougher.calculation.sulfate_to_au_concentrate       14578 non-null  float64\n",
      " 23  rougher.calculation.floatbank10_sulfate_to_au_feed  14578 non-null  float64\n",
      " 24  rougher.calculation.floatbank11_sulfate_to_au_feed  14578 non-null  float64\n",
      " 25  rougher.calculation.au_pb_ratio                     14579 non-null  float64\n",
      " 26  rougher.output.concentrate_au                       14579 non-null  float64\n",
      " 27  rougher.output.concentrate_ag                       14579 non-null  float64\n",
      " 28  rougher.output.concentrate_pb                       14579 non-null  float64\n",
      " 29  rougher.output.concentrate_sol                      14561 non-null  float64\n",
      " 30  rougher.output.recovery                             14579 non-null  float64\n",
      " 31  rougher.output.tail_au                              14579 non-null  float64\n",
      " 32  rougher.output.tail_ag                              14578 non-null  float64\n",
      " 33  rougher.output.tail_pb                              14579 non-null  float64\n",
      " 34  rougher.output.tail_sol                             14579 non-null  float64\n",
      " 35  primary_cleaner.input.sulfate                       14556 non-null  float64\n",
      " 36  primary_cleaner.input.depressant                    14551 non-null  float64\n",
      " 37  primary_cleaner.input.feed_size                     14579 non-null  float64\n",
      " 38  primary_cleaner.input.xanthate                      14518 non-null  float64\n",
      " 39  primary_cleaner.state.floatbank8_a_air              14576 non-null  float64\n",
      " 40  primary_cleaner.state.floatbank8_a_level            14579 non-null  float64\n",
      " 41  primary_cleaner.state.floatbank8_b_air              14576 non-null  float64\n",
      " 42  primary_cleaner.state.floatbank8_b_level            14579 non-null  float64\n",
      " 43  primary_cleaner.state.floatbank8_c_air              14579 non-null  float64\n",
      " 44  primary_cleaner.state.floatbank8_c_level            14579 non-null  float64\n",
      " 45  primary_cleaner.state.floatbank8_d_air              14578 non-null  float64\n",
      " 46  primary_cleaner.state.floatbank8_d_level            14579 non-null  float64\n",
      " 47  primary_cleaner.output.concentrate_au               14579 non-null  float64\n",
      " 48  primary_cleaner.output.concentrate_ag               14579 non-null  float64\n",
      " 49  primary_cleaner.output.concentrate_pb               14491 non-null  float64\n",
      " 50  primary_cleaner.output.concentrate_sol              14314 non-null  float64\n",
      " 51  primary_cleaner.output.tail_au                      14579 non-null  float64\n",
      " 52  primary_cleaner.output.tail_ag                      14575 non-null  float64\n",
      " 53  primary_cleaner.output.tail_pb                      14573 non-null  float64\n",
      " 54  primary_cleaner.output.tail_sol                     14534 non-null  float64\n",
      " 55  secondary_cleaner.state.floatbank2_a_air            14485 non-null  float64\n",
      " 56  secondary_cleaner.state.floatbank2_a_level          14579 non-null  float64\n",
      " 57  secondary_cleaner.state.floatbank2_b_air            14557 non-null  float64\n",
      " 58  secondary_cleaner.state.floatbank2_b_level          14579 non-null  float64\n",
      " 59  secondary_cleaner.state.floatbank3_a_air            14567 non-null  float64\n",
      " 60  secondary_cleaner.state.floatbank3_a_level          14579 non-null  float64\n",
      " 61  secondary_cleaner.state.floatbank3_b_air            14579 non-null  float64\n",
      " 62  secondary_cleaner.state.floatbank3_b_level          14579 non-null  float64\n",
      " 63  secondary_cleaner.state.floatbank4_a_air            14574 non-null  float64\n",
      " 64  secondary_cleaner.state.floatbank4_a_level          14579 non-null  float64\n",
      " 65  secondary_cleaner.state.floatbank4_b_air            14579 non-null  float64\n",
      " 66  secondary_cleaner.state.floatbank4_b_level          14579 non-null  float64\n",
      " 67  secondary_cleaner.state.floatbank5_a_air            14579 non-null  float64\n",
      " 68  secondary_cleaner.state.floatbank5_a_level          14579 non-null  float64\n",
      " 69  secondary_cleaner.state.floatbank5_b_air            14579 non-null  float64\n",
      " 70  secondary_cleaner.state.floatbank5_b_level          14579 non-null  float64\n",
      " 71  secondary_cleaner.state.floatbank6_a_air            14578 non-null  float64\n",
      " 72  secondary_cleaner.state.floatbank6_a_level          14579 non-null  float64\n",
      " 73  secondary_cleaner.output.tail_au                    14579 non-null  float64\n",
      " 74  secondary_cleaner.output.tail_ag                    14578 non-null  float64\n",
      " 75  secondary_cleaner.output.tail_pb                    14575 non-null  float64\n",
      " 76  secondary_cleaner.output.tail_sol                   13659 non-null  float64\n",
      " 77  final.output.concentrate_au                         14579 non-null  float64\n",
      " 78  final.output.concentrate_ag                         14578 non-null  float64\n",
      " 79  final.output.concentrate_pb                         14578 non-null  float64\n",
      " 80  final.output.concentrate_sol                        14387 non-null  float64\n",
      " 81  final.output.recovery                               14579 non-null  float64\n",
      " 82  final.output.tail_au                                14579 non-null  float64\n",
      " 83  final.output.tail_ag                                14578 non-null  float64\n",
      " 84  final.output.tail_pb                                14504 non-null  float64\n",
      " 85  final.output.tail_sol                               14574 non-null  float64\n",
      "dtypes: float64(86)\n",
      "memory usage: 9.7+ MB\n"
     ]
    }
   ],
   "source": [
    "df_train.info()"
   ]
  },
  {
   "cell_type": "code",
   "execution_count": 5,
   "metadata": {
    "scrolled": false
   },
   "outputs": [
    {
     "data": {
      "text/plain": [
       "rougher.input.feed_pb                                  72\n",
       "rougher.input.feed_sol                                 77\n",
       "rougher.input.feed_rate                                 7\n",
       "rougher.input.feed_size                               101\n",
       "rougher.input.floatbank10_sulfate                      31\n",
       "rougher.input.floatbank10_xanthate                      7\n",
       "rougher.state.floatbank10_e_air                       429\n",
       "rougher.input.floatbank11_sulfate                      36\n",
       "rougher.input.floatbank11_xanthate                    407\n",
       "rougher.calculation.sulfate_to_au_concentrate           1\n",
       "rougher.calculation.floatbank10_sulfate_to_au_feed      1\n",
       "rougher.calculation.floatbank11_sulfate_to_au_feed      1\n",
       "rougher.output.concentrate_sol                         18\n",
       "rougher.output.tail_ag                                  1\n",
       "primary_cleaner.input.sulfate                          23\n",
       "primary_cleaner.input.depressant                       28\n",
       "primary_cleaner.input.xanthate                         61\n",
       "primary_cleaner.state.floatbank8_a_air                  3\n",
       "primary_cleaner.state.floatbank8_b_air                  3\n",
       "primary_cleaner.state.floatbank8_d_air                  1\n",
       "primary_cleaner.output.concentrate_pb                  88\n",
       "primary_cleaner.output.concentrate_sol                265\n",
       "primary_cleaner.output.tail_ag                          4\n",
       "primary_cleaner.output.tail_pb                          6\n",
       "primary_cleaner.output.tail_sol                        45\n",
       "secondary_cleaner.state.floatbank2_a_air               94\n",
       "secondary_cleaner.state.floatbank2_b_air               22\n",
       "secondary_cleaner.state.floatbank3_a_air               12\n",
       "secondary_cleaner.state.floatbank4_a_air                5\n",
       "secondary_cleaner.state.floatbank6_a_air                1\n",
       "secondary_cleaner.output.tail_ag                        1\n",
       "secondary_cleaner.output.tail_pb                        4\n",
       "secondary_cleaner.output.tail_sol                     920\n",
       "final.output.concentrate_ag                             1\n",
       "final.output.concentrate_pb                             1\n",
       "final.output.concentrate_sol                          192\n",
       "final.output.tail_ag                                    1\n",
       "final.output.tail_pb                                   75\n",
       "final.output.tail_sol                                   5\n",
       "dtype: int64"
      ]
     },
     "execution_count": 5,
     "metadata": {},
     "output_type": "execute_result"
    }
   ],
   "source": [
    "df_train.isna().sum()[df_train.isna().sum() > 0]"
   ]
  },
  {
   "cell_type": "code",
   "execution_count": 6,
   "metadata": {
    "scrolled": true
   },
   "outputs": [
    {
     "data": {
      "text/plain": [
       "0"
      ]
     },
     "execution_count": 6,
     "metadata": {},
     "output_type": "execute_result"
    }
   ],
   "source": [
    "df_train.duplicated().sum()"
   ]
  },
  {
   "cell_type": "markdown",
   "metadata": {},
   "source": [
    "##### Проверка правильности рассчёта эффективности обогащения."
   ]
  },
  {
   "cell_type": "markdown",
   "metadata": {},
   "source": [
    "Проверим, что эффективность обогащения рассчитана верно."
   ]
  },
  {
   "cell_type": "code",
   "execution_count": 7,
   "metadata": {},
   "outputs": [],
   "source": [
    "def calculate_recovery(row):    \n",
    "    C =  row['rougher.output.concentrate_au']    \n",
    "    F = row['rougher.input.feed_au']     \n",
    "    T = row['rougher.output.tail_au']\n",
    "    recovery = C * (F - T) / (F * (C - T)) * 100\n",
    "    return recovery"
   ]
  },
  {
   "cell_type": "code",
   "execution_count": 8,
   "metadata": {},
   "outputs": [
    {
     "data": {
      "text/plain": [
       "date\n",
       "2016-01-15 00:00:00    87.107763\n",
       "2016-01-15 01:00:00    86.843261\n",
       "2016-01-15 02:00:00    86.842308\n",
       "2016-01-15 03:00:00    87.226430\n",
       "2016-01-15 04:00:00    86.688794\n",
       "dtype: float64"
      ]
     },
     "execution_count": 8,
     "metadata": {},
     "output_type": "execute_result"
    }
   ],
   "source": [
    "calculated_recovery = df_train.apply(calculate_recovery, axis=1)\n",
    "calculated_recovery.head()"
   ]
  },
  {
   "cell_type": "code",
   "execution_count": 9,
   "metadata": {
    "scrolled": false
   },
   "outputs": [
    {
     "data": {
      "text/plain": [
       "date\n",
       "2016-01-15 00:00:00    87.107763\n",
       "2016-01-15 01:00:00    86.843261\n",
       "2016-01-15 02:00:00    86.842308\n",
       "2016-01-15 03:00:00    87.226430\n",
       "2016-01-15 04:00:00    86.688794\n",
       "Name: rougher.output.recovery, dtype: float64"
      ]
     },
     "execution_count": 9,
     "metadata": {},
     "output_type": "execute_result"
    }
   ],
   "source": [
    "df_train['rougher.output.recovery'].head()"
   ]
  },
  {
   "cell_type": "code",
   "execution_count": 10,
   "metadata": {},
   "outputs": [
    {
     "data": {
      "text/plain": [
       "9.83758577644259e-15"
      ]
     },
     "execution_count": 10,
     "metadata": {},
     "output_type": "execute_result"
    }
   ],
   "source": [
    "mean_absolute_error(df_train['rougher.output.recovery'], calculated_recovery)"
   ]
  },
  {
   "cell_type": "markdown",
   "metadata": {},
   "source": [
    "**Вывод**:\n",
    " - MAE очень мало, следовательно, значения эффективности обогащения в данных верны."
   ]
  },
  {
   "cell_type": "markdown",
   "metadata": {},
   "source": [
    "#### Тестовая выбоока"
   ]
  },
  {
   "cell_type": "markdown",
   "metadata": {},
   "source": [
    "Изучим общую информацию, найдём пропуски и дубликаты."
   ]
  },
  {
   "cell_type": "code",
   "execution_count": 11,
   "metadata": {},
   "outputs": [
    {
     "name": "stdout",
     "output_type": "stream",
     "text": [
      "<class 'pandas.core.frame.DataFrame'>\n",
      "Index: 4860 entries, 2017-12-09 14:59:59 to 2018-08-18 10:59:59\n",
      "Data columns (total 52 columns):\n",
      " #   Column                                      Non-Null Count  Dtype  \n",
      "---  ------                                      --------------  -----  \n",
      " 0   rougher.input.feed_au                       4860 non-null   float64\n",
      " 1   rougher.input.feed_ag                       4860 non-null   float64\n",
      " 2   rougher.input.feed_pb                       4832 non-null   float64\n",
      " 3   rougher.input.feed_sol                      4838 non-null   float64\n",
      " 4   rougher.input.feed_rate                     4856 non-null   float64\n",
      " 5   rougher.input.feed_size                     4816 non-null   float64\n",
      " 6   rougher.input.floatbank10_sulfate           4857 non-null   float64\n",
      " 7   rougher.input.floatbank10_xanthate          4859 non-null   float64\n",
      " 8   rougher.state.floatbank10_a_air             4859 non-null   float64\n",
      " 9   rougher.state.floatbank10_a_level           4859 non-null   float64\n",
      " 10  rougher.state.floatbank10_b_air             4859 non-null   float64\n",
      " 11  rougher.state.floatbank10_b_level           4859 non-null   float64\n",
      " 12  rougher.state.floatbank10_c_air             4859 non-null   float64\n",
      " 13  rougher.state.floatbank10_c_level           4859 non-null   float64\n",
      " 14  rougher.state.floatbank10_d_air             4860 non-null   float64\n",
      " 15  rougher.state.floatbank10_d_level           4860 non-null   float64\n",
      " 16  rougher.state.floatbank10_e_air             4853 non-null   float64\n",
      " 17  rougher.state.floatbank10_e_level           4860 non-null   float64\n",
      " 18  rougher.state.floatbank10_f_air             4860 non-null   float64\n",
      " 19  rougher.state.floatbank10_f_level           4860 non-null   float64\n",
      " 20  rougher.input.floatbank11_sulfate           4852 non-null   float64\n",
      " 21  rougher.input.floatbank11_xanthate          4814 non-null   float64\n",
      " 22  primary_cleaner.input.sulfate               4859 non-null   float64\n",
      " 23  primary_cleaner.input.depressant            4851 non-null   float64\n",
      " 24  primary_cleaner.input.feed_size             4860 non-null   float64\n",
      " 25  primary_cleaner.input.xanthate              4817 non-null   float64\n",
      " 26  primary_cleaner.state.floatbank8_a_air      4859 non-null   float64\n",
      " 27  primary_cleaner.state.floatbank8_a_level    4859 non-null   float64\n",
      " 28  primary_cleaner.state.floatbank8_b_air      4859 non-null   float64\n",
      " 29  primary_cleaner.state.floatbank8_b_level    4859 non-null   float64\n",
      " 30  primary_cleaner.state.floatbank8_c_air      4858 non-null   float64\n",
      " 31  primary_cleaner.state.floatbank8_c_level    4859 non-null   float64\n",
      " 32  primary_cleaner.state.floatbank8_d_air      4858 non-null   float64\n",
      " 33  primary_cleaner.state.floatbank8_d_level    4859 non-null   float64\n",
      " 34  secondary_cleaner.state.floatbank2_a_air    4734 non-null   float64\n",
      " 35  secondary_cleaner.state.floatbank2_a_level  4859 non-null   float64\n",
      " 36  secondary_cleaner.state.floatbank2_b_air    4859 non-null   float64\n",
      " 37  secondary_cleaner.state.floatbank2_b_level  4859 non-null   float64\n",
      " 38  secondary_cleaner.state.floatbank3_a_air    4859 non-null   float64\n",
      " 39  secondary_cleaner.state.floatbank3_a_level  4859 non-null   float64\n",
      " 40  secondary_cleaner.state.floatbank3_b_air    4859 non-null   float64\n",
      " 41  secondary_cleaner.state.floatbank3_b_level  4859 non-null   float64\n",
      " 42  secondary_cleaner.state.floatbank4_a_air    4859 non-null   float64\n",
      " 43  secondary_cleaner.state.floatbank4_a_level  4859 non-null   float64\n",
      " 44  secondary_cleaner.state.floatbank4_b_air    4859 non-null   float64\n",
      " 45  secondary_cleaner.state.floatbank4_b_level  4859 non-null   float64\n",
      " 46  secondary_cleaner.state.floatbank5_a_air    4859 non-null   float64\n",
      " 47  secondary_cleaner.state.floatbank5_a_level  4859 non-null   float64\n",
      " 48  secondary_cleaner.state.floatbank5_b_air    4859 non-null   float64\n",
      " 49  secondary_cleaner.state.floatbank5_b_level  4859 non-null   float64\n",
      " 50  secondary_cleaner.state.floatbank6_a_air    4859 non-null   float64\n",
      " 51  secondary_cleaner.state.floatbank6_a_level  4859 non-null   float64\n",
      "dtypes: float64(52)\n",
      "memory usage: 2.0+ MB\n"
     ]
    }
   ],
   "source": [
    "df_test.info()"
   ]
  },
  {
   "cell_type": "code",
   "execution_count": 12,
   "metadata": {},
   "outputs": [
    {
     "data": {
      "text/plain": [
       "rougher.input.feed_pb                          28\n",
       "rougher.input.feed_sol                         22\n",
       "rougher.input.feed_rate                         4\n",
       "rougher.input.feed_size                        44\n",
       "rougher.input.floatbank10_sulfate               3\n",
       "rougher.input.floatbank10_xanthate              1\n",
       "rougher.state.floatbank10_a_air                 1\n",
       "rougher.state.floatbank10_a_level               1\n",
       "rougher.state.floatbank10_b_air                 1\n",
       "rougher.state.floatbank10_b_level               1\n",
       "rougher.state.floatbank10_c_air                 1\n",
       "rougher.state.floatbank10_c_level               1\n",
       "rougher.state.floatbank10_e_air                 7\n",
       "rougher.input.floatbank11_sulfate               8\n",
       "rougher.input.floatbank11_xanthate             46\n",
       "primary_cleaner.input.sulfate                   1\n",
       "primary_cleaner.input.depressant                9\n",
       "primary_cleaner.input.xanthate                 43\n",
       "primary_cleaner.state.floatbank8_a_air          1\n",
       "primary_cleaner.state.floatbank8_a_level        1\n",
       "primary_cleaner.state.floatbank8_b_air          1\n",
       "primary_cleaner.state.floatbank8_b_level        1\n",
       "primary_cleaner.state.floatbank8_c_air          2\n",
       "primary_cleaner.state.floatbank8_c_level        1\n",
       "primary_cleaner.state.floatbank8_d_air          2\n",
       "primary_cleaner.state.floatbank8_d_level        1\n",
       "secondary_cleaner.state.floatbank2_a_air      126\n",
       "secondary_cleaner.state.floatbank2_a_level      1\n",
       "secondary_cleaner.state.floatbank2_b_air        1\n",
       "secondary_cleaner.state.floatbank2_b_level      1\n",
       "secondary_cleaner.state.floatbank3_a_air        1\n",
       "secondary_cleaner.state.floatbank3_a_level      1\n",
       "secondary_cleaner.state.floatbank3_b_air        1\n",
       "secondary_cleaner.state.floatbank3_b_level      1\n",
       "secondary_cleaner.state.floatbank4_a_air        1\n",
       "secondary_cleaner.state.floatbank4_a_level      1\n",
       "secondary_cleaner.state.floatbank4_b_air        1\n",
       "secondary_cleaner.state.floatbank4_b_level      1\n",
       "secondary_cleaner.state.floatbank5_a_air        1\n",
       "secondary_cleaner.state.floatbank5_a_level      1\n",
       "secondary_cleaner.state.floatbank5_b_air        1\n",
       "secondary_cleaner.state.floatbank5_b_level      1\n",
       "secondary_cleaner.state.floatbank6_a_air        1\n",
       "secondary_cleaner.state.floatbank6_a_level      1\n",
       "dtype: int64"
      ]
     },
     "execution_count": 12,
     "metadata": {},
     "output_type": "execute_result"
    }
   ],
   "source": [
    "df_test.isna().sum()[df_test.isna().sum() > 0]"
   ]
  },
  {
   "cell_type": "code",
   "execution_count": 13,
   "metadata": {},
   "outputs": [
    {
     "data": {
      "text/plain": [
       "0"
      ]
     },
     "execution_count": 13,
     "metadata": {},
     "output_type": "execute_result"
    }
   ],
   "source": [
    "df_test.duplicated().sum()"
   ]
  },
  {
   "cell_type": "markdown",
   "metadata": {},
   "source": [
    "##### Анализ признаков, отсутствующих в тестовой выборке"
   ]
  },
  {
   "cell_type": "code",
   "execution_count": 14,
   "metadata": {
    "scrolled": false
   },
   "outputs": [
    {
     "name": "stdout",
     "output_type": "stream",
     "text": [
      "final.output.concentrate_ag\n",
      "final.output.concentrate_au\n",
      "final.output.concentrate_pb\n",
      "final.output.concentrate_sol\n",
      "final.output.recovery\n",
      "final.output.tail_ag\n",
      "final.output.tail_au\n",
      "final.output.tail_pb\n",
      "final.output.tail_sol\n",
      "primary_cleaner.output.concentrate_ag\n",
      "primary_cleaner.output.concentrate_au\n",
      "primary_cleaner.output.concentrate_pb\n",
      "primary_cleaner.output.concentrate_sol\n",
      "primary_cleaner.output.tail_ag\n",
      "primary_cleaner.output.tail_au\n",
      "primary_cleaner.output.tail_pb\n",
      "primary_cleaner.output.tail_sol\n",
      "rougher.calculation.au_pb_ratio\n",
      "rougher.calculation.floatbank10_sulfate_to_au_feed\n",
      "rougher.calculation.floatbank11_sulfate_to_au_feed\n",
      "rougher.calculation.sulfate_to_au_concentrate\n",
      "rougher.output.concentrate_ag\n",
      "rougher.output.concentrate_au\n",
      "rougher.output.concentrate_pb\n",
      "rougher.output.concentrate_sol\n",
      "rougher.output.recovery\n",
      "rougher.output.tail_ag\n",
      "rougher.output.tail_au\n",
      "rougher.output.tail_pb\n",
      "rougher.output.tail_sol\n",
      "secondary_cleaner.output.tail_ag\n",
      "secondary_cleaner.output.tail_au\n",
      "secondary_cleaner.output.tail_pb\n",
      "secondary_cleaner.output.tail_sol\n"
     ]
    }
   ],
   "source": [
    "missing_columns = list(set(df_train.columns) - set(df_test.columns))\n",
    "missing_columns.sort()\n",
    "for feature in missing_columns:\n",
    "    print(feature)"
   ]
  },
  {
   "cell_type": "markdown",
   "metadata": {},
   "source": [
    "**Вывод**:\n",
    " - в тестовой выборке недоступны параметры типа output и calculate. Они становятся известны только после окончания этапа, поэтому использовать их при обучении модели будет некорректно - нужно убрать из обучающей выборки все эти параметры, кроме `rougher.output.recovery` и  `final.output.recovery`, т.к. они являются целевыми признаками. \n",
    " - для тестовой выборки необходимо взять значения `rougher.output.recovery` и  `final.output.recovery` из общих данных, согласно индексам."
   ]
  },
  {
   "cell_type": "markdown",
   "metadata": {},
   "source": [
    "#### Исходные данные"
   ]
  },
  {
   "cell_type": "markdown",
   "metadata": {},
   "source": [
    "Изучим общую информацию, найдём пропуски и дубликаты."
   ]
  },
  {
   "cell_type": "code",
   "execution_count": 15,
   "metadata": {},
   "outputs": [
    {
     "name": "stdout",
     "output_type": "stream",
     "text": [
      "<class 'pandas.core.frame.DataFrame'>\n",
      "Index: 19439 entries, 2016-01-15 00:00:00 to 2018-08-18 10:59:59\n",
      "Data columns (total 86 columns):\n",
      " #   Column                                              Non-Null Count  Dtype  \n",
      "---  ------                                              --------------  -----  \n",
      " 0   rougher.input.feed_au                               19439 non-null  float64\n",
      " 1   rougher.input.feed_ag                               19439 non-null  float64\n",
      " 2   rougher.input.feed_pb                               19339 non-null  float64\n",
      " 3   rougher.input.feed_sol                              19340 non-null  float64\n",
      " 4   rougher.input.feed_rate                             19428 non-null  float64\n",
      " 5   rougher.input.feed_size                             19294 non-null  float64\n",
      " 6   rougher.input.floatbank10_sulfate                   19405 non-null  float64\n",
      " 7   rougher.input.floatbank10_xanthate                  19431 non-null  float64\n",
      " 8   rougher.state.floatbank10_a_air                     19438 non-null  float64\n",
      " 9   rougher.state.floatbank10_a_level                   19438 non-null  float64\n",
      " 10  rougher.state.floatbank10_b_air                     19438 non-null  float64\n",
      " 11  rougher.state.floatbank10_b_level                   19438 non-null  float64\n",
      " 12  rougher.state.floatbank10_c_air                     19438 non-null  float64\n",
      " 13  rougher.state.floatbank10_c_level                   19438 non-null  float64\n",
      " 14  rougher.state.floatbank10_d_air                     19439 non-null  float64\n",
      " 15  rougher.state.floatbank10_d_level                   19439 non-null  float64\n",
      " 16  rougher.state.floatbank10_e_air                     19003 non-null  float64\n",
      " 17  rougher.state.floatbank10_e_level                   19439 non-null  float64\n",
      " 18  rougher.state.floatbank10_f_air                     19439 non-null  float64\n",
      " 19  rougher.state.floatbank10_f_level                   19439 non-null  float64\n",
      " 20  rougher.input.floatbank11_sulfate                   19395 non-null  float64\n",
      " 21  rougher.input.floatbank11_xanthate                  18986 non-null  float64\n",
      " 22  rougher.calculation.sulfate_to_au_concentrate       19437 non-null  float64\n",
      " 23  rougher.calculation.floatbank10_sulfate_to_au_feed  19437 non-null  float64\n",
      " 24  rougher.calculation.floatbank11_sulfate_to_au_feed  19437 non-null  float64\n",
      " 25  rougher.calculation.au_pb_ratio                     19439 non-null  float64\n",
      " 26  rougher.output.concentrate_au                       19439 non-null  float64\n",
      " 27  rougher.output.concentrate_ag                       19439 non-null  float64\n",
      " 28  rougher.output.concentrate_pb                       19439 non-null  float64\n",
      " 29  rougher.output.concentrate_sol                      19416 non-null  float64\n",
      " 30  rougher.output.recovery                             19439 non-null  float64\n",
      " 31  rougher.output.tail_au                              19439 non-null  float64\n",
      " 32  rougher.output.tail_ag                              19438 non-null  float64\n",
      " 33  rougher.output.tail_pb                              19439 non-null  float64\n",
      " 34  rougher.output.tail_sol                             19439 non-null  float64\n",
      " 35  primary_cleaner.input.sulfate                       19415 non-null  float64\n",
      " 36  primary_cleaner.input.depressant                    19402 non-null  float64\n",
      " 37  primary_cleaner.input.feed_size                     19439 non-null  float64\n",
      " 38  primary_cleaner.input.xanthate                      19335 non-null  float64\n",
      " 39  primary_cleaner.state.floatbank8_a_air              19435 non-null  float64\n",
      " 40  primary_cleaner.state.floatbank8_a_level            19438 non-null  float64\n",
      " 41  primary_cleaner.state.floatbank8_b_air              19435 non-null  float64\n",
      " 42  primary_cleaner.state.floatbank8_b_level            19438 non-null  float64\n",
      " 43  primary_cleaner.state.floatbank8_c_air              19437 non-null  float64\n",
      " 44  primary_cleaner.state.floatbank8_c_level            19438 non-null  float64\n",
      " 45  primary_cleaner.state.floatbank8_d_air              19436 non-null  float64\n",
      " 46  primary_cleaner.state.floatbank8_d_level            19438 non-null  float64\n",
      " 47  primary_cleaner.output.concentrate_au               19439 non-null  float64\n",
      " 48  primary_cleaner.output.concentrate_ag               19439 non-null  float64\n",
      " 49  primary_cleaner.output.concentrate_pb               19323 non-null  float64\n",
      " 50  primary_cleaner.output.concentrate_sol              19069 non-null  float64\n",
      " 51  primary_cleaner.output.tail_au                      19439 non-null  float64\n",
      " 52  primary_cleaner.output.tail_ag                      19435 non-null  float64\n",
      " 53  primary_cleaner.output.tail_pb                      19418 non-null  float64\n",
      " 54  primary_cleaner.output.tail_sol                     19377 non-null  float64\n",
      " 55  secondary_cleaner.state.floatbank2_a_air            19219 non-null  float64\n",
      " 56  secondary_cleaner.state.floatbank2_a_level          19438 non-null  float64\n",
      " 57  secondary_cleaner.state.floatbank2_b_air            19416 non-null  float64\n",
      " 58  secondary_cleaner.state.floatbank2_b_level          19438 non-null  float64\n",
      " 59  secondary_cleaner.state.floatbank3_a_air            19426 non-null  float64\n",
      " 60  secondary_cleaner.state.floatbank3_a_level          19438 non-null  float64\n",
      " 61  secondary_cleaner.state.floatbank3_b_air            19438 non-null  float64\n",
      " 62  secondary_cleaner.state.floatbank3_b_level          19438 non-null  float64\n",
      " 63  secondary_cleaner.state.floatbank4_a_air            19433 non-null  float64\n",
      " 64  secondary_cleaner.state.floatbank4_a_level          19438 non-null  float64\n",
      " 65  secondary_cleaner.state.floatbank4_b_air            19438 non-null  float64\n",
      " 66  secondary_cleaner.state.floatbank4_b_level          19438 non-null  float64\n",
      " 67  secondary_cleaner.state.floatbank5_a_air            19438 non-null  float64\n",
      " 68  secondary_cleaner.state.floatbank5_a_level          19438 non-null  float64\n",
      " 69  secondary_cleaner.state.floatbank5_b_air            19438 non-null  float64\n",
      " 70  secondary_cleaner.state.floatbank5_b_level          19438 non-null  float64\n",
      " 71  secondary_cleaner.state.floatbank6_a_air            19437 non-null  float64\n",
      " 72  secondary_cleaner.state.floatbank6_a_level          19438 non-null  float64\n",
      " 73  secondary_cleaner.output.tail_au                    19439 non-null  float64\n",
      " 74  secondary_cleaner.output.tail_ag                    19437 non-null  float64\n",
      " 75  secondary_cleaner.output.tail_pb                    19427 non-null  float64\n",
      " 76  secondary_cleaner.output.tail_sol                   17691 non-null  float64\n",
      " 77  final.output.concentrate_au                         19439 non-null  float64\n",
      " 78  final.output.concentrate_ag                         19438 non-null  float64\n",
      " 79  final.output.concentrate_pb                         19438 non-null  float64\n",
      " 80  final.output.concentrate_sol                        19228 non-null  float64\n",
      " 81  final.output.recovery                               19439 non-null  float64\n",
      " 82  final.output.tail_au                                19439 non-null  float64\n",
      " 83  final.output.tail_ag                                19438 non-null  float64\n",
      " 84  final.output.tail_pb                                19338 non-null  float64\n",
      " 85  final.output.tail_sol                               19433 non-null  float64\n",
      "dtypes: float64(86)\n",
      "memory usage: 12.9+ MB\n"
     ]
    }
   ],
   "source": [
    "df_full.info()"
   ]
  },
  {
   "cell_type": "code",
   "execution_count": 16,
   "metadata": {},
   "outputs": [
    {
     "data": {
      "text/plain": [
       "rougher.input.feed_pb                                  100\n",
       "rougher.input.feed_sol                                  99\n",
       "rougher.input.feed_rate                                 11\n",
       "rougher.input.feed_size                                145\n",
       "rougher.input.floatbank10_sulfate                       34\n",
       "rougher.input.floatbank10_xanthate                       8\n",
       "rougher.state.floatbank10_a_air                          1\n",
       "rougher.state.floatbank10_a_level                        1\n",
       "rougher.state.floatbank10_b_air                          1\n",
       "rougher.state.floatbank10_b_level                        1\n",
       "rougher.state.floatbank10_c_air                          1\n",
       "rougher.state.floatbank10_c_level                        1\n",
       "rougher.state.floatbank10_e_air                        436\n",
       "rougher.input.floatbank11_sulfate                       44\n",
       "rougher.input.floatbank11_xanthate                     453\n",
       "rougher.calculation.sulfate_to_au_concentrate            2\n",
       "rougher.calculation.floatbank10_sulfate_to_au_feed       2\n",
       "rougher.calculation.floatbank11_sulfate_to_au_feed       2\n",
       "rougher.output.concentrate_sol                          23\n",
       "rougher.output.tail_ag                                   1\n",
       "primary_cleaner.input.sulfate                           24\n",
       "primary_cleaner.input.depressant                        37\n",
       "primary_cleaner.input.xanthate                         104\n",
       "primary_cleaner.state.floatbank8_a_air                   4\n",
       "primary_cleaner.state.floatbank8_a_level                 1\n",
       "primary_cleaner.state.floatbank8_b_air                   4\n",
       "primary_cleaner.state.floatbank8_b_level                 1\n",
       "primary_cleaner.state.floatbank8_c_air                   2\n",
       "primary_cleaner.state.floatbank8_c_level                 1\n",
       "primary_cleaner.state.floatbank8_d_air                   3\n",
       "primary_cleaner.state.floatbank8_d_level                 1\n",
       "primary_cleaner.output.concentrate_pb                  116\n",
       "primary_cleaner.output.concentrate_sol                 370\n",
       "primary_cleaner.output.tail_ag                           4\n",
       "primary_cleaner.output.tail_pb                          21\n",
       "primary_cleaner.output.tail_sol                         62\n",
       "secondary_cleaner.state.floatbank2_a_air               220\n",
       "secondary_cleaner.state.floatbank2_a_level               1\n",
       "secondary_cleaner.state.floatbank2_b_air                23\n",
       "secondary_cleaner.state.floatbank2_b_level               1\n",
       "secondary_cleaner.state.floatbank3_a_air                13\n",
       "secondary_cleaner.state.floatbank3_a_level               1\n",
       "secondary_cleaner.state.floatbank3_b_air                 1\n",
       "secondary_cleaner.state.floatbank3_b_level               1\n",
       "secondary_cleaner.state.floatbank4_a_air                 6\n",
       "secondary_cleaner.state.floatbank4_a_level               1\n",
       "secondary_cleaner.state.floatbank4_b_air                 1\n",
       "secondary_cleaner.state.floatbank4_b_level               1\n",
       "secondary_cleaner.state.floatbank5_a_air                 1\n",
       "secondary_cleaner.state.floatbank5_a_level               1\n",
       "secondary_cleaner.state.floatbank5_b_air                 1\n",
       "secondary_cleaner.state.floatbank5_b_level               1\n",
       "secondary_cleaner.state.floatbank6_a_air                 2\n",
       "secondary_cleaner.state.floatbank6_a_level               1\n",
       "secondary_cleaner.output.tail_ag                         2\n",
       "secondary_cleaner.output.tail_pb                        12\n",
       "secondary_cleaner.output.tail_sol                     1748\n",
       "final.output.concentrate_ag                              1\n",
       "final.output.concentrate_pb                              1\n",
       "final.output.concentrate_sol                           211\n",
       "final.output.tail_ag                                     1\n",
       "final.output.tail_pb                                   101\n",
       "final.output.tail_sol                                    6\n",
       "dtype: int64"
      ]
     },
     "execution_count": 16,
     "metadata": {},
     "output_type": "execute_result"
    }
   ],
   "source": [
    "df_full.isna().sum()[df_full.isna().sum() > 0]"
   ]
  },
  {
   "cell_type": "code",
   "execution_count": 17,
   "metadata": {},
   "outputs": [
    {
     "data": {
      "text/plain": [
       "0"
      ]
     },
     "execution_count": 17,
     "metadata": {},
     "output_type": "execute_result"
    }
   ],
   "source": [
    "df_full.duplicated().sum()"
   ]
  },
  {
   "cell_type": "markdown",
   "metadata": {},
   "source": [
    "#### Вывод"
   ]
  },
  {
   "cell_type": "markdown",
   "metadata": {},
   "source": [
    "Было выяснено, что\n",
    "\n",
    " - значения `rougher.input.recovery` вычислены верно;\n",
    " - необходимо убрать из обучающей выборки признаки типа `output` и `calculate`, кроме целевых;\n",
    " - необходимо добавить в тестовую выборку целевые признаки из исходной выборки согласно датам;\n",
    " - в датафреймах есть пропуски - необходимо их заполнить;\n",
    " - в датафреймах нет дубликатов;\n",
    " - необходимо изучить вопрос наличия выбросов в данных."
   ]
  },
  {
   "cell_type": "markdown",
   "metadata": {},
   "source": [
    "### Предобработка данных"
   ]
  },
  {
   "cell_type": "markdown",
   "metadata": {},
   "source": [
    "#### Удаление признаков из обучающей выборки"
   ]
  },
  {
   "cell_type": "code",
   "execution_count": 18,
   "metadata": {},
   "outputs": [],
   "source": [
    "columns_train = list(df_test.columns)\n",
    "columns_train.extend(['rougher.output.recovery', 'final.output.recovery'])\n",
    "df_train = df_train[columns_train]"
   ]
  },
  {
   "cell_type": "markdown",
   "metadata": {},
   "source": [
    "#### Добавление целевых признаков в тестовую выборку"
   ]
  },
  {
   "cell_type": "code",
   "execution_count": 19,
   "metadata": {},
   "outputs": [],
   "source": [
    "df_test[['rougher.output.recovery', 'final.output.recovery']] = df_full[['rougher.output.recovery', 'final.output.recovery']]"
   ]
  },
  {
   "cell_type": "markdown",
   "metadata": {},
   "source": [
    "#### Обработка пропусков"
   ]
  },
  {
   "cell_type": "markdown",
   "metadata": {},
   "source": [
    "Так как данные индексируются по времени, можно предположить, что пропущенное значение будет близко по значению к предыдущему, поэтому заполним пропуски методом 'ffill'."
   ]
  },
  {
   "cell_type": "code",
   "execution_count": 20,
   "metadata": {},
   "outputs": [
    {
     "data": {
      "text/plain": [
       "Series([], dtype: int64)"
      ]
     },
     "execution_count": 20,
     "metadata": {},
     "output_type": "execute_result"
    }
   ],
   "source": [
    "df_train.fillna(method='ffill', inplace=True)\n",
    "df_train.isna().sum()[df_train.isna().sum() > 0]"
   ]
  },
  {
   "cell_type": "code",
   "execution_count": 21,
   "metadata": {
    "scrolled": true
   },
   "outputs": [
    {
     "data": {
      "text/plain": [
       "Series([], dtype: int64)"
      ]
     },
     "execution_count": 21,
     "metadata": {},
     "output_type": "execute_result"
    }
   ],
   "source": [
    "df_test.fillna(method='ffill', inplace=True)\n",
    "df_test.isna().sum()[df_test.isna().sum() > 0]"
   ]
  },
  {
   "cell_type": "markdown",
   "metadata": {},
   "source": [
    "#### Обработка выбросов"
   ]
  },
  {
   "cell_type": "markdown",
   "metadata": {},
   "source": [
    "Обработку выбросов проведём только на обучающей выборке - выбросы в тестовой помогут определить поведение и качество модели при столкновении с выбросами в реальных данных. Для определения и отсеивания выбросов используем z-оценку."
   ]
  },
  {
   "cell_type": "code",
   "execution_count": 22,
   "metadata": {},
   "outputs": [
    {
     "name": "stdout",
     "output_type": "stream",
     "text": [
      "Количество объектов до отсеивания выбросов: 14579\n",
      "Количество объектов после отсеивания выбросов: 10327\n"
     ]
    }
   ],
   "source": [
    "print(f'Количество объектов до отсеивания выбросов: {len(df_train)}')\n",
    "z = np.abs(zscore(df_train))\n",
    "df_clean = df_train[(z<3).all(axis=1)]\n",
    "print(f'Количество объектов после отсеивания выбросов: {len(df_clean)}')"
   ]
  },
  {
   "cell_type": "markdown",
   "metadata": {},
   "source": [
    "Метод z-оценки почти на треть сокращает количество объектов - это слишком много. \n",
    "Попробуем найти выбросы, используя изолирующий лес."
   ]
  },
  {
   "cell_type": "code",
   "execution_count": 23,
   "metadata": {},
   "outputs": [
    {
     "name": "stdout",
     "output_type": "stream",
     "text": [
      "Количество объектов после отсеивания выбросов: 13650\n"
     ]
    }
   ],
   "source": [
    "IL = IsolationForest().fit(df_train.drop(['rougher.output.recovery', 'final.output.recovery'], axis=1))\n",
    "predict = IL.predict(df_train.drop(['rougher.output.recovery', 'final.output.recovery'], axis=1))\n",
    "predict = pd.Series(predict, index=df_train.index)\n",
    "df_clean = df_train[predict == 1]\n",
    "print(f'Количество объектов после отсеивания выбросов: {len(df_clean)}')"
   ]
  },
  {
   "cell_type": "code",
   "execution_count": 24,
   "metadata": {},
   "outputs": [
    {
     "name": "stdout",
     "output_type": "stream",
     "text": [
      "Доля отсеянных объектов составила 6.37%\n"
     ]
    }
   ],
   "source": [
    "dropout_rate = (len(df_train) - len(df_clean))/len(df_train)\n",
    "print(f'Доля отсеянных объектов составила {dropout_rate:.2%}')"
   ]
  },
  {
   "cell_type": "markdown",
   "metadata": {},
   "source": [
    "Отсеяно не слишком большое количество объектов - оставим этот вариант."
   ]
  },
  {
   "cell_type": "code",
   "execution_count": 25,
   "metadata": {},
   "outputs": [],
   "source": [
    "df_train = df_clean.copy()"
   ]
  },
  {
   "cell_type": "markdown",
   "metadata": {},
   "source": [
    "### Вывод"
   ]
  },
  {
   "cell_type": "markdown",
   "metadata": {},
   "source": [
    "В ходе подготовки\n",
    " - были загружены данные\n",
    " - были изучены обучающая, тестовая и исходная выборки:\n",
    "     - была установлена корректность рассчётов 'rougher.output.recovery' в обучающей выборке;\n",
    "     - было установлено, что в тестовой выборке нет свойств типа `output` и `calculate`;\n",
    "     - были установлено, что в данных нет дубликатов, но есть пропуски;\n",
    " - были предобработаны обучающая и тестовая выборки:\n",
    "     - были удалены лишние признаки из обучающей выборки;\n",
    "     - были добавлены целевые признаки в тестовую выборку;\n",
    "     - были заполнены пропуски;\n",
    "     - были найдены и удалены выбросы.\n",
    "     \n",
    "**Датафрейм готов к работе**"
   ]
  },
  {
   "cell_type": "markdown",
   "metadata": {},
   "source": [
    "## Анализ данных"
   ]
  },
  {
   "cell_type": "markdown",
   "metadata": {},
   "source": [
    "### Анализ изменения концентраций металлов на этапах очистки"
   ]
  },
  {
   "cell_type": "markdown",
   "metadata": {},
   "source": [
    "Концентрация металлов измеряется четырежды: для сырья, для чернового концентрата, для концентрата после первой очистки и для финального концетрата. Для анализа построим гистограммы концентрации для каждого этапа по металлам, а затем для каждого металла по этапам."
   ]
  },
  {
   "cell_type": "code",
   "execution_count": 26,
   "metadata": {
    "scrolled": false
   },
   "outputs": [
    {
     "data": {
      "image/png": "[encoded data removed]",
      "text/plain": [
       "<Figure size 720x2880 with 4 Axes>"
      ]
     },
     "metadata": {
      "needs_background": "light"
     },
     "output_type": "display_data"
    }
   ],
   "source": [
    "titles = ['Концентрации металлов на стадии сырья', \n",
    "          'Концентрации металлов на стадии чернового концентрата', \n",
    "          'Концентрации металлов после первой очистки', \n",
    "          'Концентрации металлов на стадии финального концентрата']\n",
    "metals_concentrates = [['rougher.input.feed_au', 'rougher.input.feed_ag', 'rougher.input.feed_pb'], \n",
    "                       ['rougher.output.concentrate_au', 'rougher.output.concentrate_ag', 'rougher.output.concentrate_pb'],\n",
    "                       ['primary_cleaner.output.concentrate_au', 'primary_cleaner.output.concentrate_ag', 'primary_cleaner.output.concentrate_pb'],\n",
    "                       ['final.output.concentrate_au', 'final.output.concentrate_ag', 'final.output.concentrate_pb']]\n",
    "fig, axes = plt.subplots(4,1)\n",
    "fig.set_size_inches(10, 40)\n",
    "aurum_patch = mpatches.Patch(color='yellow', label='золото')\n",
    "argentum_patch = mpatches.Patch(color='gray', label='серебро')\n",
    "plumbum_patch = mpatches.Patch(color='blue', label='свинец')\n",
    "for i in range(4):\n",
    "    axes[i].legend(handles=[aurum_patch, argentum_patch, plumbum_patch])\n",
    "    axes[i].hist(df_full[metals_concentrates[i][0]], color='yellow', alpha=0.5)\n",
    "    axes[i].hist(df_full[metals_concentrates[i][1]], color='gray', alpha=0.5)\n",
    "    axes[i].hist(df_full[metals_concentrates[i][2]], color='blue', alpha=0.5)\n",
    "    axes[i].set_title(titles[i])\n",
    "    axes[i].set_xlabel('Концентрация')\n",
    "    axes[i].set_ylabel('Частота')\n",
    "plt.show()    \n"
   ]
  },
  {
   "cell_type": "code",
   "execution_count": 27,
   "metadata": {
    "scrolled": false
   },
   "outputs": [
    {
     "data": {
      "image/png": "[encoded data removed]",
      "text/plain": [
       "<Figure size 720x2160 with 3 Axes>"
      ]
     },
     "metadata": {
      "needs_background": "light"
     },
     "output_type": "display_data"
    }
   ],
   "source": [
    "titles = ['Золото', \n",
    "          'Серебро', \n",
    "          'Свинец']\n",
    "metals_concentrates = [['rougher.input.feed_au', 'rougher.input.feed_ag', 'rougher.input.feed_pb'], \n",
    "                       ['rougher.output.concentrate_au', 'rougher.output.concentrate_ag', 'rougher.output.concentrate_pb'],\n",
    "                       ['primary_cleaner.output.concentrate_au', 'primary_cleaner.output.concentrate_ag', 'primary_cleaner.output.concentrate_pb'],\n",
    "                       ['final.output.concentrate_au', 'final.output.concentrate_ag', 'final.output.concentrate_pb']]\n",
    "fig, axes = plt.subplots(3,1)\n",
    "fig.set_size_inches(10, 30)\n",
    "stage1_patch = mpatches.Patch(color='#00008B', label='сырьё')\n",
    "stage2_patch = mpatches.Patch(color='#0000FF', label='черновой концентрат')\n",
    "stage3_patch = mpatches.Patch(color='#00BFFF', label='первая очистка')\n",
    "stage4_patch = mpatches.Patch(color='#48D1CC', label='финальный концентрат')\n",
    "for i in range(3):\n",
    "    axes[i].legend(handles=[stage1_patch, stage2_patch, stage3_patch, stage4_patch])\n",
    "    axes[i].hist(df_full[metals_concentrates[0][i]], color='#00008B', alpha=0.7)\n",
    "    axes[i].hist(df_full[metals_concentrates[1][i]], color='#0000FF', alpha=0.7)\n",
    "    axes[i].hist(df_full[metals_concentrates[2][i]], color='#00BFFF', alpha=0.7)\n",
    "    axes[i].hist(df_full[metals_concentrates[3][i]], color='#48D1CC', alpha=0.7)\n",
    "    axes[i].set_xlabel('Концентрация')\n",
    "    axes[i].set_ylabel('Частота')\n",
    "    axes[i].set_title(titles[i])\n",
    "    \n",
    "plt.show() "
   ]
  },
  {
   "cell_type": "markdown",
   "metadata": {},
   "source": [
    "#### Вывод"
   ]
  },
  {
   "cell_type": "markdown",
   "metadata": {},
   "source": [
    "По графикам можно заметить, что по мере прохождения этапов\n",
    " - концентрация золота растёт;\n",
    " - концентрация серебра падает;\n",
    " - концентарция свинца сначала растёт, а потом останавливается на месте."
   ]
  },
  {
   "cell_type": "markdown",
   "metadata": {},
   "source": [
    "### Анализ распределения размеров гранул сырья и гранул перед первой очисткой в обучающей и тестовой выборках"
   ]
  },
  {
   "cell_type": "markdown",
   "metadata": {},
   "source": [
    "Построим график плотности распределения размеров гранул сырья в обучающей и тестовой выборках"
   ]
  },
  {
   "cell_type": "code",
   "execution_count": 28,
   "metadata": {
    "scrolled": false
   },
   "outputs": [
    {
     "data": {
      "image/png": "[encoded data removed]",
      "text/plain": [
       "<Figure size 1440x720 with 1 Axes>"
      ]
     },
     "metadata": {
      "needs_background": "light"
     },
     "output_type": "display_data"
    }
   ],
   "source": [
    "plt.figure(figsize=(20,10))\n",
    "blue_patch = mpatches.Patch(color='blue', label='обучающая выборка')\n",
    "orange_patch = mpatches.Patch(color='orange', label='тестовая выборка')\n",
    "plt.title('Распределение размеров гранул сырья', fontsize=30)\n",
    "plt.legend(handles=[blue_patch, orange_patch], loc=1, prop={'size': 20})\n",
    "for ser in [df_train['rougher.input.feed_size'], df_test['rougher.input.feed_size']]:\n",
    "    sns.distplot(ser, hist = False, kde = True,\n",
    "                 kde_kws = {'shade': True, 'linewidth': 3})\n",
    "plt.xlabel('Размер гранул', fontsize=20)\n",
    "plt.ylabel('Относительная частоста', fontsize=20)\n",
    "plt.xlim(0, 200)\n",
    "plt.show()"
   ]
  },
  {
   "cell_type": "markdown",
   "metadata": {},
   "source": [
    "Выведем статистическое описание признака `rougher.input.feed_size` в обеих выборках"
   ]
  },
  {
   "cell_type": "code",
   "execution_count": 29,
   "metadata": {
    "scrolled": false
   },
   "outputs": [
    {
     "data": {
      "text/plain": [
       "count    13650.000000\n",
       "mean        57.843867\n",
       "std         18.706312\n",
       "min          0.049194\n",
       "25%         47.320925\n",
       "50%         54.427213\n",
       "75%         63.812399\n",
       "max        484.967466\n",
       "Name: rougher.input.feed_size, dtype: float64"
      ]
     },
     "execution_count": 29,
     "metadata": {},
     "output_type": "execute_result"
    }
   ],
   "source": [
    "df_train['rougher.input.feed_size'].describe()"
   ]
  },
  {
   "cell_type": "code",
   "execution_count": 30,
   "metadata": {
    "scrolled": false
   },
   "outputs": [
    {
     "data": {
      "text/plain": [
       "count    4860.000000\n",
       "mean       59.136150\n",
       "std        19.512497\n",
       "min         0.046369\n",
       "25%        47.610795\n",
       "50%        55.461058\n",
       "75%        66.538910\n",
       "max       363.989699\n",
       "Name: rougher.input.feed_size, dtype: float64"
      ]
     },
     "execution_count": 30,
     "metadata": {},
     "output_type": "execute_result"
    }
   ],
   "source": [
    "df_test['rougher.input.feed_size'].describe()"
   ]
  },
  {
   "cell_type": "markdown",
   "metadata": {},
   "source": [
    "Проведём тест Манна-Уитни: \n",
    " - нулевая гипотеза: распределения одинаковы, \n",
    " - альтернативная гипотеза: распределения различны"
   ]
  },
  {
   "cell_type": "code",
   "execution_count": 31,
   "metadata": {},
   "outputs": [
    {
     "name": "stdout",
     "output_type": "stream",
     "text": [
      "Отвергаем нулевую гипотезу.\n"
     ]
    }
   ],
   "source": [
    "alpha = 0.05\n",
    "stat, p_value = mannwhitneyu(df_train['rougher.input.feed_size'], df_test['rougher.input.feed_size'])\n",
    "if p_value < alpha:    \n",
    "    print(f\"Отвергаем нулевую гипотезу.\")\n",
    "else:\n",
    "    print(f\"Нулевая гипотеза не может быть отвергунта\")\n"
   ]
  },
  {
   "cell_type": "markdown",
   "metadata": {},
   "source": [
    "Построим график плотности распределения размеров гранул на этапе первой очистки."
   ]
  },
  {
   "cell_type": "code",
   "execution_count": 32,
   "metadata": {
    "scrolled": false
   },
   "outputs": [
    {
     "data": {
      "image/png": "[encoded data removed]",
      "text/plain": [
       "<Figure size 1440x720 with 1 Axes>"
      ]
     },
     "metadata": {
      "needs_background": "light"
     },
     "output_type": "display_data"
    }
   ],
   "source": [
    "plt.figure(figsize=(20,10))\n",
    "blue_patch = mpatches.Patch(color='blue', label='обучающая выборка')\n",
    "orange_patch = mpatches.Patch(color='orange', label='тестовая выборка')\n",
    "plt.title('Распределение размеров гранул на этапе первой очистки', fontsize=30)\n",
    "plt.legend(handles=[blue_patch, orange_patch], loc=1, prop={'size': 20})\n",
    "for ser in [df_train['primary_cleaner.input.feed_size'], df_test['primary_cleaner.input.feed_size']]:\n",
    "    sns.distplot(ser, hist = False, kde = True,\n",
    "                 kde_kws = {'shade': True, 'linewidth': 3})\n",
    "plt.xlabel('Размер гранул', fontsize=20)\n",
    "plt.ylabel('Относительная частоста', fontsize=20)\n",
    "plt.xlim(2.5, 12.5)\n",
    "plt.show()"
   ]
  },
  {
   "cell_type": "code",
   "execution_count": 33,
   "metadata": {},
   "outputs": [
    {
     "data": {
      "text/plain": [
       "count    13650.000000\n",
       "mean         7.314257\n",
       "std          0.612712\n",
       "min          1.080000\n",
       "25%          6.950000\n",
       "50%          7.280000\n",
       "75%          7.680000\n",
       "max         15.500000\n",
       "Name: primary_cleaner.input.feed_size, dtype: float64"
      ]
     },
     "execution_count": 33,
     "metadata": {},
     "output_type": "execute_result"
    }
   ],
   "source": [
    "df_train['primary_cleaner.input.feed_size'].describe()"
   ]
  },
  {
   "cell_type": "code",
   "execution_count": 34,
   "metadata": {
    "scrolled": false
   },
   "outputs": [
    {
     "data": {
      "text/plain": [
       "count    4860.000000\n",
       "mean        7.305514\n",
       "std         0.588602\n",
       "min         4.970000\n",
       "25%         6.940000\n",
       "50%         7.290000\n",
       "75%         7.630000\n",
       "max         9.630000\n",
       "Name: primary_cleaner.input.feed_size, dtype: float64"
      ]
     },
     "execution_count": 34,
     "metadata": {},
     "output_type": "execute_result"
    }
   ],
   "source": [
    "df_test['primary_cleaner.input.feed_size'].describe()"
   ]
  },
  {
   "cell_type": "markdown",
   "metadata": {},
   "source": [
    "Проведём тест Манна-Уитни: \n",
    " - нулевая гипотеза: распределения одинаковы, \n",
    " - альтернативная гипотеза: распределения различны"
   ]
  },
  {
   "cell_type": "code",
   "execution_count": 35,
   "metadata": {},
   "outputs": [
    {
     "name": "stdout",
     "output_type": "stream",
     "text": [
      "Нулевая гипотеза не может быть отвергунта\n"
     ]
    }
   ],
   "source": [
    "alpha = 0.05\n",
    "stat, p_value = mannwhitneyu(df_train['primary_cleaner.input.feed_size'], df_test['primary_cleaner.input.feed_size'])\n",
    "if p_value < alpha:    \n",
    "    print(f\"Отвергаем нулевую гипотезу.\")\n",
    "else:\n",
    "    print(f\"Нулевая гипотеза не может быть отвергунта\")"
   ]
  },
  {
   "cell_type": "markdown",
   "metadata": {},
   "source": [
    "#### Вывод"
   ]
  },
  {
   "cell_type": "markdown",
   "metadata": {},
   "source": [
    "В обоих случаях тест Мана-Уитни говорит, что распределения размеров гранул сырья в обучающей и тестовой выборках отличаются. Такой результат может быть следствием разного количества наблюдейний в выборках. Тем не менее по графикам видно, что сами распределения достаточно схожи, поэтому модель должна корректно работать на тестовой выборке."
   ]
  },
  {
   "cell_type": "markdown",
   "metadata": {},
   "source": [
    "### Исследование суммарной концентрации веществ"
   ]
  },
  {
   "cell_type": "code",
   "execution_count": 36,
   "metadata": {
    "scrolled": false
   },
   "outputs": [
    {
     "data": {
      "image/png": "[encoded data removed]",
      "text/plain": [
       "<Figure size 720x720 with 1 Axes>"
      ]
     },
     "metadata": {
      "needs_background": "light"
     },
     "output_type": "display_data"
    }
   ],
   "source": [
    "titles = ['Концентрации металлов на стадии сырья', \n",
    "          'Концентрации металлов на стадии чернового концентрата', \n",
    "          'Концентрации металлов после первой очистки', \n",
    "          'Концентрации металлов на стадии финального концентрата']\n",
    "concentrates = [['rougher.input.feed_au', 'rougher.input.feed_ag', 'rougher.input.feed_pb', 'rougher.input.feed_sol'], \n",
    "                ['rougher.output.concentrate_au', 'rougher.output.concentrate_ag', 'rougher.output.concentrate_pb', 'rougher.output.concentrate_sol'],\n",
    "                ['primary_cleaner.output.concentrate_au', 'primary_cleaner.output.concentrate_ag', 'primary_cleaner.output.concentrate_pb', 'primary_cleaner.output.concentrate_sol'],\n",
    "                ['final.output.concentrate_au', 'final.output.concentrate_ag', 'final.output.concentrate_pb', 'final.output.concentrate_sol']]\n",
    "fig, ax = plt.subplots()\n",
    "fig.set_size_inches(10, 10)\n",
    "stage1_patch = mpatches.Patch(color='#00008B', label='сырьё')\n",
    "stage2_patch = mpatches.Patch(color='#0000FF', label='черновой концентрат')\n",
    "stage3_patch = mpatches.Patch(color='#00BFFF', label='первая очистка')\n",
    "stage4_patch = mpatches.Patch(color='#48D1CC', label='финальный концентрат')\n",
    "ax.legend(handles=[stage1_patch, stage2_patch, stage3_patch, stage4_patch])\n",
    "colors = ['#00008B', '#0000FF', '#00BFFF', '#48D1CC']\n",
    "for i in range(4):\n",
    "    ser = df_full[[concentrates[i][0], concentrates[i][1], concentrates[i][2], concentrates[i][3]]].sum(axis=1)\n",
    "    ax.hist(ser, color=colors[i], alpha=0.7)\n",
    "plt.xlabel('Суммарная концентрация', fontsize=20)\n",
    "plt.ylabel('Частоста', fontsize=20)\n",
    "plt.show()    "
   ]
  },
  {
   "cell_type": "markdown",
   "metadata": {},
   "source": [
    "#### Вывод:"
   ]
  },
  {
   "cell_type": "markdown",
   "metadata": {},
   "source": [
    "По графику видно, что концентрация вещества постепенно сходится к 70%. \n",
    "    \n",
    "Также видно, что есть наблюдения, в которых суммарная концентрация веществ очень близка к нулю. Таки данные кажутся аномальными. Будем считать адекватными данные, в которых суммараная концентрация вещества начинается от 20%. Удалим аномальные данные из обучающей выборки."
   ]
  },
  {
   "cell_type": "markdown",
   "metadata": {},
   "source": [
    "#### Удаление аномалий"
   ]
  },
  {
   "cell_type": "code",
   "execution_count": 37,
   "metadata": {},
   "outputs": [
    {
     "data": {
      "text/plain": [
       "13650"
      ]
     },
     "execution_count": 37,
     "metadata": {},
     "output_type": "execute_result"
    }
   ],
   "source": [
    "len(df_train)"
   ]
  },
  {
   "cell_type": "code",
   "execution_count": 38,
   "metadata": {},
   "outputs": [
    {
     "data": {
      "text/plain": [
       "12904"
      ]
     },
     "execution_count": 38,
     "metadata": {},
     "output_type": "execute_result"
    }
   ],
   "source": [
    "df_clean2 = df_train.loc[\n",
    "                (df_full[[concentrates[0][0], concentrates[0][1], concentrates[0][2], concentrates[0][3]]].sum(axis=1) >= 20) &\n",
    "                (df_full[[concentrates[1][0], concentrates[1][1], concentrates[1][2], concentrates[1][3]]].sum(axis=1) >= 20) &\n",
    "                (df_full[[concentrates[2][0], concentrates[2][1], concentrates[2][2], concentrates[2][3]]].sum(axis=1) >= 20) &\n",
    "                (df_full[[concentrates[3][0], concentrates[3][1], concentrates[3][2], concentrates[3][3]]].sum(axis=1) >= 20)\n",
    "].copy()\n",
    "\n",
    "len(df_clean2)"
   ]
  },
  {
   "cell_type": "code",
   "execution_count": 39,
   "metadata": {},
   "outputs": [],
   "source": [
    "df_train = df_clean2.copy()"
   ]
  },
  {
   "cell_type": "markdown",
   "metadata": {},
   "source": [
    "### Вывод"
   ]
  },
  {
   "cell_type": "markdown",
   "metadata": {},
   "source": [
    "В ходе анализа данных\n",
    " - была исследована динамика концентрации металлов\n",
    " - были исследованы распределения размеров гранул в сырье и перед первой очисткой для обучающей и тестовой выборок; было установлено, что распределения незначительно отличаются из-за разного количества наблюдений;\n",
    " - была исследована динамика суммарной концентрации веществ, благодаря чему удалось удалить аномальные наблюдения из обучающей выборки."
   ]
  },
  {
   "cell_type": "markdown",
   "metadata": {},
   "source": [
    "## Модель"
   ]
  },
  {
   "cell_type": "markdown",
   "metadata": {},
   "source": [
    "### Функция для вычисления итоговой sMAPE"
   ]
  },
  {
   "cell_type": "code",
   "execution_count": 40,
   "metadata": {},
   "outputs": [],
   "source": [
    "def sMAPE(target, predict):\n",
    "    ser = abs(target - predict) / ((abs(target) + abs(predict))/2) \n",
    "    return ser.sum() / len(ser)"
   ]
  },
  {
   "cell_type": "code",
   "execution_count": 41,
   "metadata": {},
   "outputs": [],
   "source": [
    "def final_sMAPE(target_rougher, predict_rougher, target_final, predict_final):\n",
    "    return 0.25 * sMAPE(target_rougher, predict_rougher) + 0.75 * sMAPE(target_final, predict_final)"
   ]
  },
  {
   "cell_type": "code",
   "execution_count": 42,
   "metadata": {},
   "outputs": [],
   "source": [
    "sMAPE_scorer = make_scorer(sMAPE, greater_is_better=False) "
   ]
  },
  {
   "cell_type": "markdown",
   "metadata": {},
   "source": [
    "### Обучение моделей"
   ]
  },
  {
   "cell_type": "markdown",
   "metadata": {},
   "source": [
    "Для обучения выберем следующие модели: решающее дерево, случайный лес, линейную и гребневую регрессию. "
   ]
  },
  {
   "cell_type": "markdown",
   "metadata": {},
   "source": [
    "Разделим выборки на тренировочные и тестовые для модели, предсказывающей `rougher.output.recover`, и модели, предсказывающей `final.output.recover`"
   ]
  },
  {
   "cell_type": "code",
   "execution_count": 43,
   "metadata": {},
   "outputs": [],
   "source": [
    "columns_rougher = []\n",
    "\n",
    "for column in df_train.columns:\n",
    "    if 'rougher' in column:\n",
    "        columns_rougher.append(column)\n",
    "columns_final = list(set(df_train.columns) - set(columns_rougher))\n",
    "\n",
    "features_train_rougher = df_train[columns_rougher].drop('rougher.output.recovery', axis=1)\n",
    "target_train_rougher = df_train['rougher.output.recovery']\n",
    "features_test_rougher = df_test[columns_rougher].drop('rougher.output.recovery', axis=1)\n",
    "target_test_rougher = df_test['rougher.output.recovery']\n",
    "\n",
    "features_train_final = df_train[columns_final].drop('final.output.recovery', axis=1)\n",
    "target_train_final = df_train['final.output.recovery']\n",
    "features_test_final = df_test[columns_final].drop('final.output.recovery', axis=1)\n",
    "target_test_final = df_test['final.output.recovery']"
   ]
  },
  {
   "cell_type": "markdown",
   "metadata": {},
   "source": [
    "#### Исследование значимости признаков"
   ]
  },
  {
   "cell_type": "markdown",
   "metadata": {},
   "source": [
    "Для начала с помощью линейной регрессии исследуем признаки на значимость. Выберем по 8 самых значимых признаков."
   ]
  },
  {
   "cell_type": "code",
   "execution_count": 110,
   "metadata": {},
   "outputs": [
    {
     "data": {
      "image/png": "[encoded data removed]",
      "text/plain": [
       "<Figure size 432x288 with 1 Axes>"
      ]
     },
     "metadata": {
      "needs_background": "light"
     },
     "output_type": "display_data"
    }
   ],
   "source": [
    "model = LinearRegression().fit(features_train_rougher, target_train_rougher)\n",
    "importances = pd.DataFrame(data={\n",
    "    'Attribute': features_train_rougher.columns,\n",
    "    'Importance': abs(model.coef_)\n",
    "})\n",
    "importances = importances.sort_values(by='Importance', ascending=False)\n",
    "\n",
    "plt.bar(x=importances['Attribute'], height=importances['Importance'], color='#087E8B')\n",
    "plt.title('Важность признаков согласно коэффициентам линейной регресси', size=20)\n",
    "plt.xticks(rotation='vertical')\n",
    "plt.show()"
   ]
  },
  {
   "cell_type": "code",
   "execution_count": 111,
   "metadata": {
    "scrolled": false
   },
   "outputs": [
    {
     "data": {
      "text/html": [
       "<div>\n",
       "<style scoped>\n",
       "    .dataframe tbody tr th:only-of-type {\n",
       "        vertical-align: middle;\n",
       "    }\n",
       "\n",
       "    .dataframe tbody tr th {\n",
       "        vertical-align: top;\n",
       "    }\n",
       "\n",
       "    .dataframe thead th {\n",
       "        text-align: right;\n",
       "    }\n",
       "</style>\n",
       "<table border=\"1\" class=\"dataframe\">\n",
       "  <thead>\n",
       "    <tr style=\"text-align: right;\">\n",
       "      <th></th>\n",
       "      <th>Attribute</th>\n",
       "      <th>Importance</th>\n",
       "    </tr>\n",
       "  </thead>\n",
       "  <tbody>\n",
       "    <tr>\n",
       "      <th>7</th>\n",
       "      <td>rougher.input.floatbank10_xanthate</td>\n",
       "      <td>4.055021</td>\n",
       "    </tr>\n",
       "    <tr>\n",
       "      <th>21</th>\n",
       "      <td>rougher.input.floatbank11_xanthate</td>\n",
       "      <td>2.267346</td>\n",
       "    </tr>\n",
       "    <tr>\n",
       "      <th>6</th>\n",
       "      <td>rougher.input.floatbank10_sulfate</td>\n",
       "      <td>1.402167</td>\n",
       "    </tr>\n",
       "    <tr>\n",
       "      <th>20</th>\n",
       "      <td>rougher.input.floatbank11_sulfate</td>\n",
       "      <td>1.211171</td>\n",
       "    </tr>\n",
       "    <tr>\n",
       "      <th>1</th>\n",
       "      <td>rougher.input.feed_ag</td>\n",
       "      <td>0.603134</td>\n",
       "    </tr>\n",
       "    <tr>\n",
       "      <th>0</th>\n",
       "      <td>rougher.input.feed_au</td>\n",
       "      <td>0.551217</td>\n",
       "    </tr>\n",
       "    <tr>\n",
       "      <th>2</th>\n",
       "      <td>rougher.input.feed_pb</td>\n",
       "      <td>0.450702</td>\n",
       "    </tr>\n",
       "    <tr>\n",
       "      <th>3</th>\n",
       "      <td>rougher.input.feed_sol</td>\n",
       "      <td>0.425312</td>\n",
       "    </tr>\n",
       "  </tbody>\n",
       "</table>\n",
       "</div>"
      ],
      "text/plain": [
       "                             Attribute  Importance\n",
       "7   rougher.input.floatbank10_xanthate    4.055021\n",
       "21  rougher.input.floatbank11_xanthate    2.267346\n",
       "6    rougher.input.floatbank10_sulfate    1.402167\n",
       "20   rougher.input.floatbank11_sulfate    1.211171\n",
       "1                rougher.input.feed_ag    0.603134\n",
       "0                rougher.input.feed_au    0.551217\n",
       "2                rougher.input.feed_pb    0.450702\n",
       "3               rougher.input.feed_sol    0.425312"
      ]
     },
     "metadata": {},
     "output_type": "display_data"
    },
    {
     "data": {
      "text/plain": [
       "array(['rougher.input.floatbank10_xanthate',\n",
       "       'rougher.input.floatbank11_xanthate',\n",
       "       'rougher.input.floatbank10_sulfate',\n",
       "       'rougher.input.floatbank11_sulfate', 'rougher.input.feed_ag',\n",
       "       'rougher.input.feed_au', 'rougher.input.feed_pb',\n",
       "       'rougher.input.feed_sol'], dtype=object)"
      ]
     },
     "metadata": {},
     "output_type": "display_data"
    }
   ],
   "source": [
    "display(importances.sort_values(by='Importance', ascending=False)[0:8])\n",
    "main_features_rougher = importances.sort_values(by='Importance', ascending=False)[0:8]['Attribute'].values\n",
    "display(main_features_rougher)\n",
    "features_train_rougher_main = features_train_rougher[main_features_rougher]\n",
    "features_test_rougher_main = features_test_rougher[main_features_rougher]"
   ]
  },
  {
   "cell_type": "code",
   "execution_count": 112,
   "metadata": {},
   "outputs": [
    {
     "data": {
      "image/png": "[encoded data removed]",
      "text/plain": [
       "<Figure size 432x288 with 1 Axes>"
      ]
     },
     "metadata": {
      "needs_background": "light"
     },
     "output_type": "display_data"
    }
   ],
   "source": [
    "model = LinearRegression().fit(features_train_final, target_train_final)\n",
    "importances = pd.DataFrame(data={\n",
    "    'Attribute': features_train_final.columns,\n",
    "    'Importance': abs(model.coef_)\n",
    "})\n",
    "importances = importances.sort_values(by='Importance', ascending=False)\n",
    "\n",
    "plt.bar(x=importances['Attribute'], height=importances['Importance'], color='#087E8B')\n",
    "plt.title('Важность признаков согласно коэффициентам линейной регресси', size=20)\n",
    "plt.xticks(rotation='vertical')\n",
    "plt.show()"
   ]
  },
  {
   "cell_type": "code",
   "execution_count": 113,
   "metadata": {},
   "outputs": [
    {
     "data": {
      "text/html": [
       "<div>\n",
       "<style scoped>\n",
       "    .dataframe tbody tr th:only-of-type {\n",
       "        vertical-align: middle;\n",
       "    }\n",
       "\n",
       "    .dataframe tbody tr th {\n",
       "        vertical-align: top;\n",
       "    }\n",
       "\n",
       "    .dataframe thead th {\n",
       "        text-align: right;\n",
       "    }\n",
       "</style>\n",
       "<table border=\"1\" class=\"dataframe\">\n",
       "  <thead>\n",
       "    <tr style=\"text-align: right;\">\n",
       "      <th></th>\n",
       "      <th>Attribute</th>\n",
       "      <th>Importance</th>\n",
       "    </tr>\n",
       "  </thead>\n",
       "  <tbody>\n",
       "    <tr>\n",
       "      <th>20</th>\n",
       "      <td>primary_cleaner.input.xanthate</td>\n",
       "      <td>1.305982</td>\n",
       "    </tr>\n",
       "    <tr>\n",
       "      <th>26</th>\n",
       "      <td>primary_cleaner.input.feed_size</td>\n",
       "      <td>1.278647</td>\n",
       "    </tr>\n",
       "    <tr>\n",
       "      <th>28</th>\n",
       "      <td>secondary_cleaner.state.floatbank5_b_air</td>\n",
       "      <td>0.443169</td>\n",
       "    </tr>\n",
       "    <tr>\n",
       "      <th>21</th>\n",
       "      <td>secondary_cleaner.state.floatbank2_a_air</td>\n",
       "      <td>0.278199</td>\n",
       "    </tr>\n",
       "    <tr>\n",
       "      <th>6</th>\n",
       "      <td>secondary_cleaner.state.floatbank3_a_air</td>\n",
       "      <td>0.256617</td>\n",
       "    </tr>\n",
       "    <tr>\n",
       "      <th>16</th>\n",
       "      <td>secondary_cleaner.state.floatbank3_b_air</td>\n",
       "      <td>0.228471</td>\n",
       "    </tr>\n",
       "    <tr>\n",
       "      <th>1</th>\n",
       "      <td>secondary_cleaner.state.floatbank4_b_air</td>\n",
       "      <td>0.207492</td>\n",
       "    </tr>\n",
       "    <tr>\n",
       "      <th>5</th>\n",
       "      <td>secondary_cleaner.state.floatbank2_b_air</td>\n",
       "      <td>0.104512</td>\n",
       "    </tr>\n",
       "  </tbody>\n",
       "</table>\n",
       "</div>"
      ],
      "text/plain": [
       "                                   Attribute  Importance\n",
       "20            primary_cleaner.input.xanthate    1.305982\n",
       "26           primary_cleaner.input.feed_size    1.278647\n",
       "28  secondary_cleaner.state.floatbank5_b_air    0.443169\n",
       "21  secondary_cleaner.state.floatbank2_a_air    0.278199\n",
       "6   secondary_cleaner.state.floatbank3_a_air    0.256617\n",
       "16  secondary_cleaner.state.floatbank3_b_air    0.228471\n",
       "1   secondary_cleaner.state.floatbank4_b_air    0.207492\n",
       "5   secondary_cleaner.state.floatbank2_b_air    0.104512"
      ]
     },
     "metadata": {},
     "output_type": "display_data"
    },
    {
     "data": {
      "text/plain": [
       "array(['primary_cleaner.input.xanthate',\n",
       "       'primary_cleaner.input.feed_size',\n",
       "       'secondary_cleaner.state.floatbank5_b_air',\n",
       "       'secondary_cleaner.state.floatbank2_a_air',\n",
       "       'secondary_cleaner.state.floatbank3_a_air',\n",
       "       'secondary_cleaner.state.floatbank3_b_air',\n",
       "       'secondary_cleaner.state.floatbank4_b_air',\n",
       "       'secondary_cleaner.state.floatbank2_b_air'], dtype=object)"
      ]
     },
     "metadata": {},
     "output_type": "display_data"
    }
   ],
   "source": [
    "display(importances.sort_values(by='Importance', ascending=False)[0:8])\n",
    "main_features_final = importances.sort_values(by='Importance', ascending=False)[0:8]['Attribute'].values\n",
    "display(main_features_final)\n",
    "features_train_final_main = features_train_final[main_features_final]\n",
    "features_test_final_main = features_test_final[main_features_final]"
   ]
  },
  {
   "cell_type": "markdown",
   "metadata": {},
   "source": [
    "#### Перебор гиперпараметров с использованием всех признаков"
   ]
  },
  {
   "cell_type": "code",
   "execution_count": 121,
   "metadata": {
    "scrolled": false
   },
   "outputs": [
    {
     "name": "stdout",
     "output_type": "stream",
     "text": [
      "\n",
      "DecisionTreeRegressor(random_state=0) :\n",
      "\trougher:\n",
      "\t\tлучшая оценка: 5.83%\n",
      "\t\tлучшие параметры: {'decisiontreeregressor__max_depth': 2}\n",
      "\tfinal:\n",
      "\t\tлучшая оценка: 8.40%\n",
      "\t\tлучшие параметры: {'decisiontreeregressor__max_depth': 2}\n",
      "\n",
      "Ridge(random_state=0) :\n",
      "\trougher:\n",
      "\t\tлучшая оценка: 6.07%\n",
      "\t\tлучшие параметры: {'ridge__alpha': 0.99}\n",
      "\tfinal:\n",
      "\t\tлучшая оценка: 8.86%\n",
      "\t\tлучшие параметры: {'ridge__alpha': 0.99}\n",
      "\n",
      "LinearRegression() :\n",
      "\trougher:\n",
      "\t\tлучшая оценка: 6.07%\n",
      "\t\tлучшие параметры: {}\n",
      "\tfinal:\n",
      "\t\tлучшая оценка: 8.86%\n",
      "\t\tлучшие параметры: {}\n"
     ]
    }
   ],
   "source": [
    "models = [\n",
    "    DecisionTreeRegressor(random_state=RANDOM_STATE),\n",
    "    Ridge(random_state=RANDOM_STATE),\n",
    "    LinearRegression()\n",
    "]\n",
    "params = [\n",
    "    {\n",
    "        'decisiontreeregressor__max_depth': range(1, 15)\n",
    "    },\n",
    "    {\n",
    "        'ridge__alpha': np.arange(0, 1.0, 0.01),\n",
    "    },\n",
    "    {\n",
    "\n",
    "    }\n",
    "]\n",
    "\n",
    "for i in range(len(models)):\n",
    "    \n",
    "    pipeline = make_pipeline(\n",
    "                    StandardScaler(),\n",
    "                    models[i]\n",
    "                )\n",
    "    \n",
    "    model_opt = GridSearchCV(\n",
    "                    pipeline, \n",
    "                    param_grid=params[i], \n",
    "                    scoring=sMAPE_scorer, \n",
    "                    cv=5,\n",
    "                    n_jobs=-1\n",
    "                    )\n",
    "\n",
    "    model_opt_rougher = model_opt.fit(features_train_rougher, target_train_rougher)\n",
    "    model_opt_rougher_best_score = model_opt_rougher.best_score_ * -1\n",
    "    model_opt_rougher_best_params = model_opt_rougher.best_params_\n",
    "    \n",
    "    model_opt_final = model_opt.fit(features_train_final, target_train_final)\n",
    "    model_opt_final_best_score = model_opt_final.best_score_ * -1\n",
    "    model_opt_final_best_params = model_opt_final.best_params_\n",
    "\n",
    "    print()\n",
    "    print(models[i],':')\n",
    "    print('\\trougher:')\n",
    "    print(f'\\t\\tлучшая оценка: {model_opt_rougher_best_score:.2%}')\n",
    "    print(f'\\t\\tлучшие параметры: {model_opt_rougher_best_params}')\n",
    "    print(f'\\tfinal:')\n",
    "    print(f'\\t\\tлучшая оценка: {model_opt_final_best_score:.2%}')\n",
    "    print(f'\\t\\tлучшие параметры: {model_opt_final_best_params}')"
   ]
  },
  {
   "cell_type": "code",
   "execution_count": 120,
   "metadata": {
    "scrolled": false
   },
   "outputs": [
    {
     "name": "stdout",
     "output_type": "stream",
     "text": [
      "\n",
      "RandomForestRegressor(random_state=0) :\n",
      "\trougher:\n",
      "\t\tлучшая оценка:  5.64%\n",
      "\t\tлучшие параметры: {'randomforestregressor__n_estimators': 110, 'randomforestregressor__max_depth': 6}\n",
      "\tfinal:\n",
      "\t\tлучшая оценка:  8.71%\n",
      "\t\tлучшие параметры: {'randomforestregressor__n_estimators': 110, 'randomforestregressor__max_depth': 1}\n"
     ]
    }
   ],
   "source": [
    "model = RandomForestRegressor(random_state=RANDOM_STATE)\n",
    "params = {\n",
    "    'randomforestregressor__max_depth': range(1, 10),\n",
    "    'randomforestregressor__n_estimators': range(10, 201, 50)    \n",
    "}\n",
    "\n",
    "pipeline = make_pipeline(\n",
    "                StandardScaler(),\n",
    "                model\n",
    "            )\n",
    "\n",
    "model_opt = RandomizedSearchCV(\n",
    "                pipeline, \n",
    "                param_distributions=params, \n",
    "                scoring=sMAPE_scorer, \n",
    "                cv=5,\n",
    "                random_state=RANDOM_STATE,\n",
    "                n_jobs=-1\n",
    "                )\n",
    "\n",
    "model_opt_rougher = model_opt.fit(features_train_rougher, target_train_rougher)\n",
    "model_opt_rougher_best_score = model_opt_rougher.best_score_ * -1\n",
    "model_opt_rougher_best_params = model_opt_rougher.best_params_\n",
    "\n",
    "model_opt_final = model_opt.fit(features_train_final, target_train_final)\n",
    "model_opt_final_best_score = model_opt_final.best_score_ * -1\n",
    "model_opt_final_best_params = model_opt_final.best_params_\n",
    "\n",
    "print()\n",
    "print(model,':')\n",
    "print('\\trougher:')\n",
    "print(f'\\t\\tлучшая оценка: {model_opt_rougher_best_score: .2%}')\n",
    "print(f'\\t\\tлучшие параметры: {model_opt_rougher_best_params}')\n",
    "print(f'\\tfinal:')\n",
    "print(f'\\t\\tлучшая оценка: {model_opt_final_best_score: .2%}')\n",
    "print(f'\\t\\tлучшие параметры: {model_opt_final_best_params}')"
   ]
  },
  {
   "cell_type": "markdown",
   "metadata": {},
   "source": [
    "#### Перебор гиперпараметров с использванием самых значимых признаков"
   ]
  },
  {
   "cell_type": "code",
   "execution_count": 104,
   "metadata": {
    "scrolled": false
   },
   "outputs": [
    {
     "name": "stdout",
     "output_type": "stream",
     "text": [
      "\n",
      "DecisionTreeRegressor(random_state=0) :\n",
      "\trougher:\n",
      "\t\tлучшая оценка: 6.67%\n",
      "\t\tлучшие параметры: {'decisiontreeregressor__max_depth': 2}\n",
      "\tfinal:\n",
      "\t\tлучшая оценка: 8.89%\n",
      "\t\tлучшие параметры: {'decisiontreeregressor__max_depth': 1}\n",
      "\n",
      "Ridge(random_state=0) :\n",
      "\trougher:\n",
      "\t\tлучшая оценка: 6.03%\n",
      "\t\tлучшие параметры: {'ridge__alpha': 0.0}\n",
      "\tfinal:\n",
      "\t\tлучшая оценка: 8.85%\n",
      "\t\tлучшие параметры: {'ridge__alpha': 0.99}\n",
      "\n",
      "LinearRegression() :\n",
      "\trougher:\n",
      "\t\tлучшая оценка: 6.03%\n",
      "\t\tлучшие параметры: {}\n",
      "\tfinal:\n",
      "\t\tлучшая оценка: 8.85%\n",
      "\t\tлучшие параметры: {}\n"
     ]
    }
   ],
   "source": [
    "models = [\n",
    "    DecisionTreeRegressor(random_state=RANDOM_STATE),\n",
    "    Ridge(random_state=RANDOM_STATE),\n",
    "    LinearRegression()\n",
    "]\n",
    "params = [\n",
    "    {\n",
    "        'decisiontreeregressor__max_depth': range(1, 15)\n",
    "    },\n",
    "    {\n",
    "        'ridge__alpha': np.arange(0, 1.0, 0.01),\n",
    "    },\n",
    "    {\n",
    "\n",
    "    }\n",
    "]\n",
    "\n",
    "for i in range(len(models)):\n",
    "    \n",
    "    pipeline = make_pipeline(\n",
    "                    StandardScaler(),\n",
    "                    models[i]\n",
    "                )\n",
    "    \n",
    "    model_opt = GridSearchCV(\n",
    "                    pipeline, \n",
    "                    param_grid=params[i], \n",
    "                    scoring=sMAPE_scorer, \n",
    "                    cv=5,\n",
    "                    n_jobs=-1\n",
    "                    )\n",
    "\n",
    "    model_opt_rougher = model_opt.fit(features_train_rougher_main, target_train_rougher)\n",
    "    model_opt_rougher_best_score = model_opt_rougher.best_score_ * -1\n",
    "    model_opt_rougher_best_params = model_opt_rougher.best_params_\n",
    "    \n",
    "    model_opt_final = model_opt.fit(features_train_final_main, target_train_final)\n",
    "    model_opt_final_best_score = model_opt_final.best_score_ * -1\n",
    "    model_opt_final_best_params = model_opt_final.best_params_\n",
    "\n",
    "    print()\n",
    "    print(models[i],':')\n",
    "    print('\\trougher:')\n",
    "    print(f'\\t\\tлучшая оценка: {model_opt_rougher_best_score:.2%}')\n",
    "    print(f'\\t\\tлучшие параметры: {model_opt_rougher_best_params}')\n",
    "    print(f'\\tfinal:')\n",
    "    print(f'\\t\\tлучшая оценка: {model_opt_final_best_score:.2%}')\n",
    "    print(f'\\t\\tлучшие параметры: {model_opt_final_best_params}')"
   ]
  },
  {
   "cell_type": "code",
   "execution_count": 106,
   "metadata": {},
   "outputs": [
    {
     "name": "stdout",
     "output_type": "stream",
     "text": [
      "\n",
      "RandomForestRegressor(random_state=0) :\n",
      "\trougher:\n",
      "\t\tлучшая оценка:  6.54%\n",
      "\t\tлучшие параметры: {'randomforestregressor__n_estimators': 110, 'randomforestregressor__max_depth': 8}\n",
      "\tfinal:\n",
      "\t\tлучшая оценка:  8.89%\n",
      "\t\tлучшие параметры: {'randomforestregressor__n_estimators': 110, 'randomforestregressor__max_depth': 1}\n"
     ]
    }
   ],
   "source": [
    "model = RandomForestRegressor(random_state=RANDOM_STATE)\n",
    "params = {\n",
    "    'randomforestregressor__max_depth': range(1, 10),\n",
    "    'randomforestregressor__n_estimators': range(10, 201, 50)    \n",
    "}\n",
    "\n",
    "pipeline = make_pipeline(\n",
    "                StandardScaler(),\n",
    "                model\n",
    "            )\n",
    "\n",
    "model_opt = RandomizedSearchCV(\n",
    "                pipeline, \n",
    "                param_distributions=params, \n",
    "                scoring=sMAPE_scorer, \n",
    "                cv=5,\n",
    "                random_state=RANDOM_STATE,\n",
    "                n_jobs=-1\n",
    "                )\n",
    "\n",
    "model_opt_rougher = model_opt.fit(features_train_rougher_main, target_train_rougher)\n",
    "model_opt_rougher_best_score = model_opt_rougher.best_score_ * -1\n",
    "model_opt_rougher_best_params = model_opt_rougher.best_params_\n",
    "\n",
    "model_opt_final = model_opt.fit(features_train_final_main, target_train_final)\n",
    "model_opt_final_best_score = model_opt_final.best_score_ * -1\n",
    "model_opt_final_best_params = model_opt_final.best_params_\n",
    "\n",
    "print()\n",
    "print(model,':')\n",
    "print('\\trougher:')\n",
    "print(f'\\t\\tлучшая оценка: {model_opt_rougher_best_score: .2%}')\n",
    "print(f'\\t\\tлучшие параметры: {model_opt_rougher_best_params}')\n",
    "print(f'\\tfinal:')\n",
    "print(f'\\t\\tлучшая оценка: {model_opt_final_best_score: .2%}')\n",
    "print(f'\\t\\tлучшие параметры: {model_opt_final_best_params}')"
   ]
  },
  {
   "cell_type": "markdown",
   "metadata": {},
   "source": [
    "#### Вывод"
   ]
  },
  {
   "cell_type": "markdown",
   "metadata": {},
   "source": [
    "Результаты обучения:\n",
    "\n",
    "|Этап|Модель|sMAPE со всем признаками|sMAPE со значимыми признаками|\n",
    "|:-|:-|:-|:-|\n",
    "|rougher|Решающее дерево|5.83%|6.67%|\n",
    "|rougher|Линейная регрессия|6.07%|6.03%|\n",
    "|rougher|Гребневая регрессия|6.07%|6.03%|\n",
    "|rougher|Случайный лес|5.64%|6.54%|\n",
    "|final|Решающее дерево|8.4%|8.89%|\n",
    "|final|Линейная регрессия|8.86%|8.85%|\n",
    "|final|Гребневая регрессия|8.86%|8.85%|\n",
    "|final|Случайный лес|8.71%|8.89%|\n"
   ]
  },
  {
   "cell_type": "markdown",
   "metadata": {},
   "source": [
    "В ходе обучения и оценки моделей было выяснено, что \n",
    " - с предсказанием значений `rougher.output.recovery` лучше всего справляется случайный лес с гиперпараметрами `n_estimators`= 110 и `max_depth` = 6 на всех признаках;\n",
    " - с предсказанием значений `final.output.recovery` лучше всего справляется решающее дерево с гиперпарматером `max_depth` = 2 на всех признаках."
   ]
  },
  {
   "cell_type": "markdown",
   "metadata": {},
   "source": [
    "### Итоговая модель"
   ]
  },
  {
   "cell_type": "markdown",
   "metadata": {},
   "source": [
    "Определим новый класс и методы для итоговой модели."
   ]
  },
  {
   "cell_type": "code",
   "execution_count": 46,
   "metadata": {},
   "outputs": [],
   "source": [
    "class FinalModel():\n",
    "    \n",
    "    def __init__(self, model1, model2):\n",
    "        self.model1 = model1\n",
    "        self.model2 = model2\n",
    "        \n",
    "    def fit(self, features_rougher, target_rougher, features_final, target_final):\n",
    "        self.model1.fit(features_rougher, target_rougher)\n",
    "        self.model2.fit(features_final, target_final)\n",
    "        \n",
    "    def predict(self, features_rougher, features_final):\n",
    "        return self.model1.predict(features_rougher), self.model2.predict(features_final)\n",
    "        \n",
    "    def score(self, target_rougher, predict_rougher, target_final, predict_final):\n",
    "        return final_sMAPE(target_rougher, predict_rougher, target_final, predict_final)"
   ]
  },
  {
   "cell_type": "markdown",
   "metadata": {},
   "source": [
    "Оценим качество модели на тестовой выборке."
   ]
  },
  {
   "cell_type": "code",
   "execution_count": 123,
   "metadata": {},
   "outputs": [
    {
     "name": "stdout",
     "output_type": "stream",
     "text": [
      "Значение sMAPE на тестовой выборке: 7.39%\n"
     ]
    }
   ],
   "source": [
    "model_rougher = RandomForestRegressor(n_estimators = 110, max_depth=6)\n",
    "model_final = DecisionTreeRegressor(max_depth=2)\n",
    "final_model = FinalModel(model_rougher, model_final)\n",
    "final_model.fit(features_train_rougher, target_train_rougher, features_train_final, target_train_final)\n",
    "predict_rougher, predict_final = final_model.predict(features_test_rougher, features_test_final)\n",
    "\n",
    "score = final_model.score(target_test_rougher, predict_rougher, predict_final, target_test_final)\n",
    "print(f'Значение sMAPE на тестовой выборке: {score:.2%}')"
   ]
  },
  {
   "cell_type": "markdown",
   "metadata": {},
   "source": [
    "#### Проверка модели на адекватность"
   ]
  },
  {
   "cell_type": "markdown",
   "metadata": {},
   "source": [
    "Для проверки модели сравним её с константным регрессором. В качестве константы возьмём медиану тестовой выборки."
   ]
  },
  {
   "cell_type": "code",
   "execution_count": 115,
   "metadata": {},
   "outputs": [
    {
     "name": "stdout",
     "output_type": "stream",
     "text": [
      "Значение sMAPE на тестовой выборке: 8.43%\n"
     ]
    }
   ],
   "source": [
    "dummy_rugher = DummyRegressor()\n",
    "dummy_final = DummyRegressor()\n",
    "\n",
    "dummmy_final_model = FinalModel(dummy_rugher, dummy_final)\n",
    "dummmy_final_model.fit(features_train_rougher_main, target_train_rougher, features_train_final_main, target_train_final)\n",
    "predict_rougher, predict_final = dummmy_final_model.predict(features_test_rougher_main, features_test_final_main)\n",
    "\n",
    "score = dummmy_final_model.score(target_test_rougher, predict_rougher, predict_final, target_test_final)\n",
    "print(f'Значение sMAPE на тестовой выборке: {score:.2%}')"
   ]
  },
  {
   "cell_type": "markdown",
   "metadata": {},
   "source": [
    "#### Вывод"
   ]
  },
  {
   "cell_type": "markdown",
   "metadata": {},
   "source": [
    "Созданная модель лучше константной модели на 1.04% в абсолютном значении и на ~12.5% в относительном, что подтверждает адекватность рекомендуемой модели."
   ]
  },
  {
   "cell_type": "markdown",
   "metadata": {},
   "source": [
    "### Вывод"
   ]
  },
  {
   "cell_type": "markdown",
   "metadata": {},
   "source": [
    "была проведена работа с моделями:\n",
    " - была написана функция для подсчёта sMAPE, на основе которой был сделан scorer;\n",
    " - для решения задачи были выбрана модель решающего дерева, решающего леса, линейной регрессии и гребневая регрессия;\n",
    " - с помощью пайплайна, стандартизации, перебора гиперпараметро и кросс-валидации были получены оценки качества моделей;\n",
    " - на основании результатов моделей для `rougher.output.recovery` и `final.output.recovery` были выбраны две модели для создания итоговой модели;\n",
    " - был написан класс для итоговой модели;\n",
    " - итоговая модель была проверена на тестовой выборке и показала результат 7.39%.\n",
    " - была проведена проверка на адекватность:\n",
    "   - была обучена константная модель, в качестве констант взяты медиааны на обучающих выборках;\n",
    "   - константная модель показала на тестовой выборке значение итоговой sMAPE 8.43%\n",
    "   - был сделан вывод, что использование модели адекватно."
   ]
  },
  {
   "cell_type": "markdown",
   "metadata": {},
   "source": [
    "## Общий вывод"
   ]
  },
  {
   "cell_type": "markdown",
   "metadata": {},
   "source": [
    "В ходе работы\n",
    " - была проведена подготовка данных:\n",
    "    - были загружены данные\n",
    "    - были изучены обучающая, тестовая и исходная выборки:\n",
    "        - была установлена корректность рассчётов 'rougher.output.recovery' в обучающей выборке;\n",
    "        - было установлено, что в тестовой выборке нет свойств типа `output` и `calculate`;\n",
    "        - были установлено, что в данных нет дубликатов, но есть пропуски;\n",
    "    - были предобработаны обучающая и тестовая выборки:\n",
    "        - были удалены лишние признаки из обучающей выборки;\n",
    "        - были добавлены целевые признаки в тестовую выборку;\n",
    "        - были заполнены пропуски;\n",
    "        - были найдены и удалены выбросы;\n",
    " - был проведём анализ данных:\n",
    "    - были исследованы изменения концентрации металлов в зависимости от этапов восстановления золота;\n",
    "    - были исследованы распределения размеров гранул сырья обучающей и тестовой выборок;\n",
    "    - были исследованы изменения суммарной концентрации веществ в зависимости от восстановления золота;\n",
    " - была проведена работа с моделями:\n",
    "    - была написана функция для подсчёта sMAPE, на основе которой был сделан scorer;\n",
    "    - для решения задачи были выбрана модель решающего дерева, решающего леса, линейной регрессии и гребневая регрессия;\n",
    "    - с помощью пайплайна, стандартизации, перебора гиперпараметро и кросс-валидации были получены оценки качества моделей;\n",
    "    - на основании результатов моделей для `rougher.output.recovery` и `final.output.recovery` были выбраны две модели для создания итоговой модели;\n",
    "    - был написан класс для итоговой модели;\n",
    "    - итоговая модель была проверена на тестовой выборке и показала результат sMAPE 7.39%.\n",
    "     - была проведена проверка на адекватность:\n",
    "       - была обучена константная модель, в качестве констант взяты медиааны на обучающих выборках;\n",
    "       - константная модель показала на тестовой выборке значение итоговой sMAPE 8.43%\n",
    "       - был сделан вывод, что использование модели адекватно.\n",
    "    "
   ]
  }
 ],
 "metadata": {
  "ExecuteTimeLog": [
   {
    "duration": 425,
    "start_time": "2023-01-28T15:07:55.359Z"
   },
   {
    "duration": 94,
    "start_time": "2023-01-28T15:07:56.189Z"
   },
   {
    "duration": 893,
    "start_time": "2023-01-28T15:08:17.728Z"
   },
   {
    "duration": 28,
    "start_time": "2023-01-28T15:08:26.275Z"
   },
   {
    "duration": 8,
    "start_time": "2023-01-28T15:09:27.442Z"
   },
   {
    "duration": 303,
    "start_time": "2023-01-28T15:10:14.657Z"
   },
   {
    "duration": 18,
    "start_time": "2023-01-28T15:10:19.412Z"
   },
   {
    "duration": 9,
    "start_time": "2023-01-28T15:11:00.233Z"
   },
   {
    "duration": 10,
    "start_time": "2023-01-28T15:11:10.310Z"
   },
   {
    "duration": 10,
    "start_time": "2023-01-28T15:11:25.329Z"
   },
   {
    "duration": 8,
    "start_time": "2023-01-28T15:11:29.231Z"
   },
   {
    "duration": 9,
    "start_time": "2023-01-28T15:27:00.577Z"
   },
   {
    "duration": 6,
    "start_time": "2023-01-28T15:28:31.092Z"
   },
   {
    "duration": 10,
    "start_time": "2023-01-28T15:28:34.875Z"
   },
   {
    "duration": 43,
    "start_time": "2023-01-29T01:05:46.633Z"
   },
   {
    "duration": 19,
    "start_time": "2023-01-29T01:05:53.812Z"
   },
   {
    "duration": 382,
    "start_time": "2023-01-29T01:06:02.213Z"
   },
   {
    "duration": 2,
    "start_time": "2023-01-29T01:06:03.181Z"
   },
   {
    "duration": 3008,
    "start_time": "2023-01-29T01:06:04.216Z"
   },
   {
    "duration": 25,
    "start_time": "2023-01-29T01:06:37.545Z"
   },
   {
    "duration": 6,
    "start_time": "2023-01-29T01:06:51.269Z"
   },
   {
    "duration": 15,
    "start_time": "2023-01-29T01:06:55.690Z"
   },
   {
    "duration": 10,
    "start_time": "2023-01-29T01:06:58.808Z"
   },
   {
    "duration": 10,
    "start_time": "2023-01-29T01:07:09.988Z"
   },
   {
    "duration": 7,
    "start_time": "2023-01-29T01:07:22.845Z"
   },
   {
    "duration": 12,
    "start_time": "2023-01-29T01:08:42.075Z"
   },
   {
    "duration": 7,
    "start_time": "2023-01-29T01:08:49.698Z"
   },
   {
    "duration": 8,
    "start_time": "2023-01-29T01:09:45.243Z"
   },
   {
    "duration": 117,
    "start_time": "2023-01-29T01:11:16.808Z"
   },
   {
    "duration": 4,
    "start_time": "2023-01-29T01:26:50.444Z"
   },
   {
    "duration": 7,
    "start_time": "2023-01-29T01:28:18.311Z"
   },
   {
    "duration": 7,
    "start_time": "2023-01-29T01:28:23.317Z"
   },
   {
    "duration": 7,
    "start_time": "2023-01-29T01:28:26.453Z"
   },
   {
    "duration": 5,
    "start_time": "2023-01-29T01:30:23.976Z"
   },
   {
    "duration": 12,
    "start_time": "2023-01-29T01:31:42.607Z"
   },
   {
    "duration": 7,
    "start_time": "2023-01-29T01:31:46.094Z"
   },
   {
    "duration": 11,
    "start_time": "2023-01-29T01:32:16.408Z"
   },
   {
    "duration": 19,
    "start_time": "2023-01-29T01:32:19.461Z"
   },
   {
    "duration": 8,
    "start_time": "2023-01-29T01:32:22.477Z"
   },
   {
    "duration": 6,
    "start_time": "2023-01-29T01:32:47.306Z"
   },
   {
    "duration": 8,
    "start_time": "2023-01-29T01:34:21.554Z"
   },
   {
    "duration": 17,
    "start_time": "2023-01-29T01:34:29.574Z"
   },
   {
    "duration": 57,
    "start_time": "2023-01-29T01:47:10.540Z"
   },
   {
    "duration": 46,
    "start_time": "2023-01-29T01:47:17.567Z"
   },
   {
    "duration": 73,
    "start_time": "2023-01-29T01:47:40.256Z"
   },
   {
    "duration": 3,
    "start_time": "2023-01-29T01:48:04.146Z"
   },
   {
    "duration": 3,
    "start_time": "2023-01-29T01:52:29.978Z"
   },
   {
    "duration": 7,
    "start_time": "2023-01-29T01:52:32.084Z"
   },
   {
    "duration": 722,
    "start_time": "2023-01-29T01:52:37.796Z"
   },
   {
    "duration": 693,
    "start_time": "2023-01-29T01:54:39.112Z"
   },
   {
    "duration": 644,
    "start_time": "2023-01-29T01:54:59.013Z"
   },
   {
    "duration": 5,
    "start_time": "2023-01-29T01:55:12.791Z"
   },
   {
    "duration": 3,
    "start_time": "2023-01-29T01:59:32.131Z"
   },
   {
    "duration": 284,
    "start_time": "2023-01-29T01:59:34.635Z"
   },
   {
    "duration": 297,
    "start_time": "2023-01-29T01:59:55.091Z"
   },
   {
    "duration": 4,
    "start_time": "2023-01-29T02:01:19.232Z"
   },
   {
    "duration": 5,
    "start_time": "2023-01-29T02:05:25.961Z"
   },
   {
    "duration": 4,
    "start_time": "2023-01-29T02:06:03.824Z"
   },
   {
    "duration": 5,
    "start_time": "2023-01-29T02:07:24.335Z"
   },
   {
    "duration": 4,
    "start_time": "2023-01-29T02:10:36.927Z"
   },
   {
    "duration": 432,
    "start_time": "2023-01-29T02:10:39.816Z"
   },
   {
    "duration": 79,
    "start_time": "2023-01-29T02:12:17.010Z"
   },
   {
    "duration": 6,
    "start_time": "2023-01-29T02:12:27.638Z"
   },
   {
    "duration": 4,
    "start_time": "2023-01-29T02:13:41.166Z"
   },
   {
    "duration": 619,
    "start_time": "2023-01-29T02:13:42.621Z"
   },
   {
    "duration": 5,
    "start_time": "2023-01-29T02:14:06.313Z"
   },
   {
    "duration": 622,
    "start_time": "2023-01-29T02:14:07.821Z"
   },
   {
    "duration": 3,
    "start_time": "2023-01-29T02:20:45.529Z"
   },
   {
    "duration": 167,
    "start_time": "2023-01-29T02:20:47.663Z"
   },
   {
    "duration": 7,
    "start_time": "2023-01-29T02:24:29.198Z"
   },
   {
    "duration": 651,
    "start_time": "2023-01-29T02:24:38.104Z"
   },
   {
    "duration": 7,
    "start_time": "2023-01-29T02:24:43.606Z"
   },
   {
    "duration": 42,
    "start_time": "2023-01-29T02:57:23.002Z"
   },
   {
    "duration": 93,
    "start_time": "2023-01-29T02:57:28.579Z"
   },
   {
    "duration": 53,
    "start_time": "2023-01-29T04:06:22.788Z"
   },
   {
    "duration": 43,
    "start_time": "2023-01-29T04:06:49.451Z"
   },
   {
    "duration": 65,
    "start_time": "2023-01-29T04:07:01.600Z"
   },
   {
    "duration": 4,
    "start_time": "2023-01-29T04:07:07.925Z"
   },
   {
    "duration": 13,
    "start_time": "2023-01-29T04:09:30.357Z"
   },
   {
    "duration": 9,
    "start_time": "2023-01-29T04:09:49.242Z"
   },
   {
    "duration": 4,
    "start_time": "2023-01-29T04:10:23.065Z"
   },
   {
    "duration": 7,
    "start_time": "2023-01-29T04:10:56.999Z"
   },
   {
    "duration": 8,
    "start_time": "2023-01-29T04:12:27.997Z"
   },
   {
    "duration": 10,
    "start_time": "2023-01-29T04:23:00.274Z"
   },
   {
    "duration": 11,
    "start_time": "2023-01-29T04:25:26.497Z"
   },
   {
    "duration": 7,
    "start_time": "2023-01-29T04:25:47.264Z"
   },
   {
    "duration": 8,
    "start_time": "2023-01-29T04:26:02.638Z"
   },
   {
    "duration": 11,
    "start_time": "2023-01-29T04:26:25.080Z"
   },
   {
    "duration": 9,
    "start_time": "2023-01-29T04:27:33.444Z"
   },
   {
    "duration": 9,
    "start_time": "2023-01-29T04:27:55.323Z"
   },
   {
    "duration": 12,
    "start_time": "2023-01-29T04:38:04.345Z"
   },
   {
    "duration": 4,
    "start_time": "2023-01-29T04:47:55.139Z"
   },
   {
    "duration": 9,
    "start_time": "2023-01-29T04:49:39.995Z"
   },
   {
    "duration": 8,
    "start_time": "2023-01-29T04:49:46.635Z"
   },
   {
    "duration": 33,
    "start_time": "2023-01-29T04:50:35.040Z"
   },
   {
    "duration": 54,
    "start_time": "2023-01-29T04:51:24.209Z"
   },
   {
    "duration": 30,
    "start_time": "2023-01-29T04:52:52.945Z"
   },
   {
    "duration": 28,
    "start_time": "2023-01-29T04:52:58.969Z"
   },
   {
    "duration": 30,
    "start_time": "2023-01-29T04:53:08.586Z"
   },
   {
    "duration": 26,
    "start_time": "2023-01-29T04:53:21.610Z"
   },
   {
    "duration": 26,
    "start_time": "2023-01-29T04:53:27.061Z"
   },
   {
    "duration": 34,
    "start_time": "2023-01-29T05:07:14.082Z"
   },
   {
    "duration": 40,
    "start_time": "2023-01-29T05:09:17.443Z"
   },
   {
    "duration": 4,
    "start_time": "2023-01-29T05:09:23.836Z"
   },
   {
    "duration": 288,
    "start_time": "2023-01-29T05:12:40.958Z"
   },
   {
    "duration": 678,
    "start_time": "2023-01-29T05:13:04.832Z"
   },
   {
    "duration": 700,
    "start_time": "2023-01-29T05:14:17.530Z"
   },
   {
    "duration": 693,
    "start_time": "2023-01-29T05:14:49.318Z"
   },
   {
    "duration": 733,
    "start_time": "2023-01-29T05:16:22.974Z"
   },
   {
    "duration": 728,
    "start_time": "2023-01-29T05:16:56.382Z"
   },
   {
    "duration": 665,
    "start_time": "2023-01-29T05:17:33.908Z"
   },
   {
    "duration": 730,
    "start_time": "2023-01-29T05:17:45.716Z"
   },
   {
    "duration": 84,
    "start_time": "2023-01-29T05:23:02.590Z"
   },
   {
    "duration": 54,
    "start_time": "2023-01-29T05:23:28.745Z"
   },
   {
    "duration": 8,
    "start_time": "2023-01-29T05:24:06.025Z"
   },
   {
    "duration": 9,
    "start_time": "2023-01-29T05:24:12.874Z"
   },
   {
    "duration": 3,
    "start_time": "2023-01-29T05:24:16.199Z"
   },
   {
    "duration": 739,
    "start_time": "2023-01-29T05:27:04.063Z"
   },
   {
    "duration": 17,
    "start_time": "2023-01-29T05:27:22.275Z"
   },
   {
    "duration": 10,
    "start_time": "2023-01-29T05:27:29.089Z"
   },
   {
    "duration": 49,
    "start_time": "2023-01-29T06:05:21.501Z"
   },
   {
    "duration": 8,
    "start_time": "2023-01-29T06:05:39.292Z"
   },
   {
    "duration": 336,
    "start_time": "2023-01-29T06:06:21.152Z"
   },
   {
    "duration": 143,
    "start_time": "2023-01-29T06:06:27.377Z"
   },
   {
    "duration": 243,
    "start_time": "2023-01-29T06:06:48.157Z"
   },
   {
    "duration": 321,
    "start_time": "2023-01-29T06:07:47.200Z"
   },
   {
    "duration": 216,
    "start_time": "2023-01-29T06:08:05.134Z"
   },
   {
    "duration": 215,
    "start_time": "2023-01-29T06:08:32.293Z"
   },
   {
    "duration": 204,
    "start_time": "2023-01-29T06:08:38.107Z"
   },
   {
    "duration": 345,
    "start_time": "2023-01-29T06:08:54.246Z"
   },
   {
    "duration": 53,
    "start_time": "2023-01-29T06:09:28.659Z"
   },
   {
    "duration": 215,
    "start_time": "2023-01-29T06:09:49.138Z"
   },
   {
    "duration": 54,
    "start_time": "2023-01-29T06:13:01.023Z"
   },
   {
    "duration": 366,
    "start_time": "2023-01-29T06:13:05.542Z"
   },
   {
    "duration": 309,
    "start_time": "2023-01-29T06:13:36.551Z"
   },
   {
    "duration": 286,
    "start_time": "2023-01-29T06:13:44.858Z"
   },
   {
    "duration": 279,
    "start_time": "2023-01-29T06:13:53.200Z"
   },
   {
    "duration": 252,
    "start_time": "2023-01-29T06:14:18.130Z"
   },
   {
    "duration": 74,
    "start_time": "2023-01-29T06:15:14.960Z"
   },
   {
    "duration": 280,
    "start_time": "2023-01-29T06:15:20.144Z"
   },
   {
    "duration": 10,
    "start_time": "2023-01-29T06:15:27.450Z"
   },
   {
    "duration": 438,
    "start_time": "2023-01-29T06:15:34.024Z"
   },
   {
    "duration": 145,
    "start_time": "2023-01-29T06:15:55.676Z"
   },
   {
    "duration": 298,
    "start_time": "2023-01-29T06:17:44.762Z"
   },
   {
    "duration": 51,
    "start_time": "2023-01-29T06:18:31.948Z"
   },
   {
    "duration": 12,
    "start_time": "2023-01-29T06:18:35.926Z"
   },
   {
    "duration": 4,
    "start_time": "2023-01-29T06:19:23.482Z"
   },
   {
    "duration": 14,
    "start_time": "2023-01-29T06:19:32.559Z"
   },
   {
    "duration": 190,
    "start_time": "2023-01-29T06:19:51.586Z"
   },
   {
    "duration": 272,
    "start_time": "2023-01-29T06:19:59.542Z"
   },
   {
    "duration": 384,
    "start_time": "2023-01-29T06:20:16.280Z"
   },
   {
    "duration": 149,
    "start_time": "2023-01-29T06:20:35.926Z"
   },
   {
    "duration": 301,
    "start_time": "2023-01-29T06:22:10.812Z"
   },
   {
    "duration": 439,
    "start_time": "2023-01-29T06:22:15.629Z"
   },
   {
    "duration": 278,
    "start_time": "2023-01-29T06:22:53.744Z"
   },
   {
    "duration": 293,
    "start_time": "2023-01-29T06:23:26.010Z"
   },
   {
    "duration": 171,
    "start_time": "2023-01-29T06:23:39.401Z"
   },
   {
    "duration": 5,
    "start_time": "2023-01-29T06:23:51.167Z"
   },
   {
    "duration": 283,
    "start_time": "2023-01-29T06:23:53.761Z"
   },
   {
    "duration": 283,
    "start_time": "2023-01-29T06:23:59.200Z"
   },
   {
    "duration": 53,
    "start_time": "2023-01-29T06:25:37.847Z"
   },
   {
    "duration": 118,
    "start_time": "2023-01-29T06:26:46.655Z"
   },
   {
    "duration": 381,
    "start_time": "2023-01-29T06:30:10.564Z"
   },
   {
    "duration": 392,
    "start_time": "2023-01-29T06:30:33.511Z"
   },
   {
    "duration": 448,
    "start_time": "2023-01-29T06:31:43.254Z"
   },
   {
    "duration": 402,
    "start_time": "2023-01-29T06:32:35.212Z"
   },
   {
    "duration": 635,
    "start_time": "2023-01-29T06:33:07.327Z"
   },
   {
    "duration": 437,
    "start_time": "2023-01-29T06:33:14.813Z"
   },
   {
    "duration": 481,
    "start_time": "2023-01-29T06:33:44.648Z"
   },
   {
    "duration": 395,
    "start_time": "2023-01-29T06:34:20.330Z"
   },
   {
    "duration": 405,
    "start_time": "2023-01-29T06:34:45.630Z"
   },
   {
    "duration": 466,
    "start_time": "2023-01-29T06:35:00.653Z"
   },
   {
    "duration": 462,
    "start_time": "2023-01-29T06:35:07.745Z"
   },
   {
    "duration": 513,
    "start_time": "2023-01-29T06:35:14.244Z"
   },
   {
    "duration": 156,
    "start_time": "2023-01-29T06:35:41.489Z"
   },
   {
    "duration": 425,
    "start_time": "2023-01-29T06:35:52.000Z"
   },
   {
    "duration": 465,
    "start_time": "2023-01-29T06:36:01.363Z"
   },
   {
    "duration": 416,
    "start_time": "2023-01-29T06:36:08.419Z"
   },
   {
    "duration": 12,
    "start_time": "2023-01-29T06:37:23.605Z"
   },
   {
    "duration": 12,
    "start_time": "2023-01-29T06:37:34.753Z"
   },
   {
    "duration": 158,
    "start_time": "2023-01-29T06:40:12.019Z"
   },
   {
    "duration": 14,
    "start_time": "2023-01-29T06:40:23.478Z"
   },
   {
    "duration": 409,
    "start_time": "2023-01-29T06:41:37.109Z"
   },
   {
    "duration": 427,
    "start_time": "2023-01-29T06:41:54.039Z"
   },
   {
    "duration": 454,
    "start_time": "2023-01-29T06:42:06.310Z"
   },
   {
    "duration": 10,
    "start_time": "2023-01-29T06:43:29.547Z"
   },
   {
    "duration": 9,
    "start_time": "2023-01-29T06:43:41.172Z"
   },
   {
    "duration": 285,
    "start_time": "2023-01-29T06:55:08.176Z"
   },
   {
    "duration": 879,
    "start_time": "2023-01-29T06:55:20.774Z"
   },
   {
    "duration": 896,
    "start_time": "2023-01-29T06:55:51.378Z"
   },
   {
    "duration": 990,
    "start_time": "2023-01-29T06:56:15.922Z"
   },
   {
    "duration": 1145,
    "start_time": "2023-01-29T06:56:27.780Z"
   },
   {
    "duration": 952,
    "start_time": "2023-01-29T06:56:43.778Z"
   },
   {
    "duration": 46,
    "start_time": "2023-01-29T07:10:43.707Z"
   },
   {
    "duration": 46,
    "start_time": "2023-01-29T07:10:53.431Z"
   },
   {
    "duration": 2047,
    "start_time": "2023-01-29T07:11:01.167Z"
   },
   {
    "duration": 2071,
    "start_time": "2023-01-29T07:11:35.988Z"
   },
   {
    "duration": 377,
    "start_time": "2023-01-29T07:12:04.063Z"
   },
   {
    "duration": 408,
    "start_time": "2023-01-29T07:12:08.398Z"
   },
   {
    "duration": 605,
    "start_time": "2023-01-29T07:12:12.335Z"
   },
   {
    "duration": 616,
    "start_time": "2023-01-29T07:12:50.607Z"
   },
   {
    "duration": 2394,
    "start_time": "2023-01-29T07:13:32.671Z"
   },
   {
    "duration": 2881,
    "start_time": "2023-01-29T07:13:58.916Z"
   },
   {
    "duration": 4151,
    "start_time": "2023-01-29T07:14:19.785Z"
   },
   {
    "duration": 3488,
    "start_time": "2023-01-29T07:14:30.530Z"
   },
   {
    "duration": 3646,
    "start_time": "2023-01-29T07:14:49.581Z"
   },
   {
    "duration": 61,
    "start_time": "2023-01-29T07:18:31.782Z"
   },
   {
    "duration": 575,
    "start_time": "2023-01-29T07:19:04.243Z"
   },
   {
    "duration": 434,
    "start_time": "2023-01-29T07:21:24.385Z"
   },
   {
    "duration": 400,
    "start_time": "2023-01-29T07:21:42.904Z"
   },
   {
    "duration": 473,
    "start_time": "2023-01-29T07:22:31.893Z"
   },
   {
    "duration": 880,
    "start_time": "2023-01-29T07:22:43.245Z"
   },
   {
    "duration": 1416,
    "start_time": "2023-01-29T07:30:09.345Z"
   },
   {
    "duration": 728,
    "start_time": "2023-01-29T07:30:10.763Z"
   },
   {
    "duration": 7,
    "start_time": "2023-01-29T07:30:11.493Z"
   },
   {
    "duration": 37,
    "start_time": "2023-01-29T07:30:11.501Z"
   },
   {
    "duration": 12,
    "start_time": "2023-01-29T07:30:11.541Z"
   },
   {
    "duration": 129,
    "start_time": "2023-01-29T07:30:11.555Z"
   },
   {
    "duration": 7,
    "start_time": "2023-01-29T07:30:11.686Z"
   },
   {
    "duration": 201,
    "start_time": "2023-01-29T07:30:11.695Z"
   },
   {
    "duration": 6,
    "start_time": "2023-01-29T07:30:11.898Z"
   },
   {
    "duration": 9,
    "start_time": "2023-01-29T07:30:11.905Z"
   },
   {
    "duration": 21,
    "start_time": "2023-01-29T07:30:11.916Z"
   },
   {
    "duration": 7,
    "start_time": "2023-01-29T07:30:11.939Z"
   },
   {
    "duration": 48,
    "start_time": "2023-01-29T07:30:11.948Z"
   },
   {
    "duration": 6,
    "start_time": "2023-01-29T07:30:11.999Z"
   },
   {
    "duration": 23,
    "start_time": "2023-01-29T07:30:12.007Z"
   },
   {
    "duration": 29,
    "start_time": "2023-01-29T07:30:12.032Z"
   },
   {
    "duration": 107,
    "start_time": "2023-01-29T07:30:12.063Z"
   },
   {
    "duration": 7,
    "start_time": "2023-01-29T07:30:12.172Z"
   },
   {
    "duration": 14,
    "start_time": "2023-01-29T07:30:12.181Z"
   },
   {
    "duration": 22,
    "start_time": "2023-01-29T07:30:12.197Z"
   },
   {
    "duration": 10,
    "start_time": "2023-01-29T07:30:12.220Z"
   },
   {
    "duration": 33,
    "start_time": "2023-01-29T07:30:12.231Z"
   },
   {
    "duration": 805,
    "start_time": "2023-01-29T07:30:12.266Z"
   },
   {
    "duration": 4,
    "start_time": "2023-01-29T07:30:13.072Z"
   },
   {
    "duration": 28,
    "start_time": "2023-01-29T07:30:13.078Z"
   },
   {
    "duration": 536,
    "start_time": "2023-01-29T07:30:13.109Z"
   },
   {
    "duration": 0,
    "start_time": "2023-01-29T07:30:13.648Z"
   },
   {
    "duration": 0,
    "start_time": "2023-01-29T07:30:13.649Z"
   },
   {
    "duration": 0,
    "start_time": "2023-01-29T07:30:13.651Z"
   },
   {
    "duration": 743,
    "start_time": "2023-01-29T07:30:30.090Z"
   },
   {
    "duration": 681,
    "start_time": "2023-01-29T07:31:17.404Z"
   },
   {
    "duration": 724,
    "start_time": "2023-01-29T07:31:23.607Z"
   },
   {
    "duration": 720,
    "start_time": "2023-01-29T07:31:29.707Z"
   },
   {
    "duration": 826,
    "start_time": "2023-01-29T07:31:35.275Z"
   },
   {
    "duration": 715,
    "start_time": "2023-01-29T07:31:42.236Z"
   },
   {
    "duration": 756,
    "start_time": "2023-01-29T07:31:48.418Z"
   },
   {
    "duration": 680,
    "start_time": "2023-01-29T07:31:56.989Z"
   },
   {
    "duration": 823,
    "start_time": "2023-01-29T07:32:04.687Z"
   },
   {
    "duration": 867,
    "start_time": "2023-01-29T07:34:06.058Z"
   },
   {
    "duration": 455,
    "start_time": "2023-01-29T07:40:36.569Z"
   },
   {
    "duration": 751,
    "start_time": "2023-01-29T07:43:28.145Z"
   },
   {
    "duration": 905,
    "start_time": "2023-01-29T07:43:59.112Z"
   },
   {
    "duration": 639,
    "start_time": "2023-01-29T07:44:46.565Z"
   },
   {
    "duration": 653,
    "start_time": "2023-01-29T07:45:04.961Z"
   },
   {
    "duration": 653,
    "start_time": "2023-01-29T07:45:24.801Z"
   },
   {
    "duration": 686,
    "start_time": "2023-01-29T07:46:25.453Z"
   },
   {
    "duration": 1030,
    "start_time": "2023-01-29T07:47:44.461Z"
   },
   {
    "duration": 472,
    "start_time": "2023-01-29T07:51:23.392Z"
   },
   {
    "duration": 9,
    "start_time": "2023-01-29T07:51:27.327Z"
   },
   {
    "duration": 9,
    "start_time": "2023-01-29T07:51:29.850Z"
   },
   {
    "duration": 17,
    "start_time": "2023-01-29T08:42:14.433Z"
   },
   {
    "duration": 183,
    "start_time": "2023-01-29T08:43:00.521Z"
   },
   {
    "duration": 180,
    "start_time": "2023-01-29T08:43:14.349Z"
   },
   {
    "duration": 185,
    "start_time": "2023-01-29T08:44:00.089Z"
   },
   {
    "duration": 269,
    "start_time": "2023-01-29T08:48:00.784Z"
   },
   {
    "duration": 1295,
    "start_time": "2023-01-29T08:49:28.827Z"
   },
   {
    "duration": 1332,
    "start_time": "2023-01-29T08:50:00.874Z"
   },
   {
    "duration": 49,
    "start_time": "2023-01-29T08:50:58.185Z"
   },
   {
    "duration": 1060,
    "start_time": "2023-01-29T08:51:06.231Z"
   },
   {
    "duration": 165,
    "start_time": "2023-01-29T08:51:38.078Z"
   },
   {
    "duration": 172,
    "start_time": "2023-01-29T08:52:07.183Z"
   },
   {
    "duration": 438,
    "start_time": "2023-01-29T08:52:14.361Z"
   },
   {
    "duration": 1178,
    "start_time": "2023-01-29T08:52:20.046Z"
   },
   {
    "duration": 1174,
    "start_time": "2023-01-29T08:52:30.840Z"
   },
   {
    "duration": 193,
    "start_time": "2023-01-29T08:53:04.030Z"
   },
   {
    "duration": 330,
    "start_time": "2023-01-29T08:54:26.332Z"
   },
   {
    "duration": 11,
    "start_time": "2023-01-29T08:58:21.895Z"
   },
   {
    "duration": 5,
    "start_time": "2023-01-29T08:58:44.330Z"
   },
   {
    "duration": 4,
    "start_time": "2023-01-29T09:10:22.340Z"
   },
   {
    "duration": 12,
    "start_time": "2023-01-29T09:33:54.754Z"
   },
   {
    "duration": 23,
    "start_time": "2023-01-29T09:34:03.126Z"
   },
   {
    "duration": 5,
    "start_time": "2023-01-29T09:36:22.233Z"
   },
   {
    "duration": 734,
    "start_time": "2023-01-29T09:36:22.240Z"
   },
   {
    "duration": 7,
    "start_time": "2023-01-29T09:36:22.975Z"
   },
   {
    "duration": 17,
    "start_time": "2023-01-29T09:36:22.991Z"
   },
   {
    "duration": 12,
    "start_time": "2023-01-29T09:36:23.009Z"
   },
   {
    "duration": 141,
    "start_time": "2023-01-29T09:36:23.023Z"
   },
   {
    "duration": 3,
    "start_time": "2023-01-29T09:36:23.167Z"
   },
   {
    "duration": 180,
    "start_time": "2023-01-29T09:36:23.171Z"
   },
   {
    "duration": 5,
    "start_time": "2023-01-29T09:36:23.353Z"
   },
   {
    "duration": 8,
    "start_time": "2023-01-29T09:36:23.361Z"
   },
   {
    "duration": 31,
    "start_time": "2023-01-29T09:36:23.371Z"
   },
   {
    "duration": 8,
    "start_time": "2023-01-29T09:36:23.403Z"
   },
   {
    "duration": 22,
    "start_time": "2023-01-29T09:36:23.412Z"
   },
   {
    "duration": 6,
    "start_time": "2023-01-29T09:36:23.436Z"
   },
   {
    "duration": 33,
    "start_time": "2023-01-29T09:36:23.444Z"
   },
   {
    "duration": 15,
    "start_time": "2023-01-29T09:36:23.491Z"
   },
   {
    "duration": 112,
    "start_time": "2023-01-29T09:36:23.507Z"
   },
   {
    "duration": 5,
    "start_time": "2023-01-29T09:36:23.621Z"
   },
   {
    "duration": 12,
    "start_time": "2023-01-29T09:36:23.628Z"
   },
   {
    "duration": 17,
    "start_time": "2023-01-29T09:36:23.641Z"
   },
   {
    "duration": 9,
    "start_time": "2023-01-29T09:36:23.660Z"
   },
   {
    "duration": 46,
    "start_time": "2023-01-29T09:36:23.671Z"
   },
   {
    "duration": 813,
    "start_time": "2023-01-29T09:36:23.719Z"
   },
   {
    "duration": 3,
    "start_time": "2023-01-29T09:36:24.535Z"
   },
   {
    "duration": 18,
    "start_time": "2023-01-29T09:36:24.540Z"
   },
   {
    "duration": 42,
    "start_time": "2023-01-29T09:36:24.560Z"
   },
   {
    "duration": 15,
    "start_time": "2023-01-29T09:36:40.343Z"
   },
   {
    "duration": 13,
    "start_time": "2023-01-29T09:36:49.507Z"
   },
   {
    "duration": 6,
    "start_time": "2023-01-29T09:37:28.342Z"
   },
   {
    "duration": 30,
    "start_time": "2023-01-29T09:37:45.588Z"
   },
   {
    "duration": 3,
    "start_time": "2023-01-29T09:37:56.226Z"
   },
   {
    "duration": 1437,
    "start_time": "2023-01-29T09:38:52.791Z"
   },
   {
    "duration": 730,
    "start_time": "2023-01-29T09:38:54.230Z"
   },
   {
    "duration": 9,
    "start_time": "2023-01-29T09:38:54.962Z"
   },
   {
    "duration": 35,
    "start_time": "2023-01-29T09:38:54.972Z"
   },
   {
    "duration": 15,
    "start_time": "2023-01-29T09:38:55.009Z"
   },
   {
    "duration": 143,
    "start_time": "2023-01-29T09:38:55.025Z"
   },
   {
    "duration": 3,
    "start_time": "2023-01-29T09:38:55.170Z"
   },
   {
    "duration": 189,
    "start_time": "2023-01-29T09:38:55.174Z"
   },
   {
    "duration": 5,
    "start_time": "2023-01-29T09:38:55.365Z"
   },
   {
    "duration": 21,
    "start_time": "2023-01-29T09:38:55.373Z"
   },
   {
    "duration": 13,
    "start_time": "2023-01-29T09:38:55.395Z"
   },
   {
    "duration": 7,
    "start_time": "2023-01-29T09:38:55.410Z"
   },
   {
    "duration": 23,
    "start_time": "2023-01-29T09:38:55.418Z"
   },
   {
    "duration": 7,
    "start_time": "2023-01-29T09:38:55.444Z"
   },
   {
    "duration": 50,
    "start_time": "2023-01-29T09:38:55.453Z"
   },
   {
    "duration": 14,
    "start_time": "2023-01-29T09:38:55.505Z"
   },
   {
    "duration": 118,
    "start_time": "2023-01-29T09:38:55.521Z"
   },
   {
    "duration": 7,
    "start_time": "2023-01-29T09:38:55.641Z"
   },
   {
    "duration": 14,
    "start_time": "2023-01-29T09:38:55.650Z"
   },
   {
    "duration": 26,
    "start_time": "2023-01-29T09:38:55.666Z"
   },
   {
    "duration": 13,
    "start_time": "2023-01-29T09:38:55.694Z"
   },
   {
    "duration": 35,
    "start_time": "2023-01-29T09:38:55.709Z"
   },
   {
    "duration": 898,
    "start_time": "2023-01-29T09:38:55.746Z"
   },
   {
    "duration": 3,
    "start_time": "2023-01-29T09:38:56.646Z"
   },
   {
    "duration": 42,
    "start_time": "2023-01-29T09:38:56.651Z"
   },
   {
    "duration": 802,
    "start_time": "2023-01-29T09:38:56.695Z"
   },
   {
    "duration": 808,
    "start_time": "2023-01-29T09:38:57.499Z"
   },
   {
    "duration": 588,
    "start_time": "2023-01-29T09:38:58.308Z"
   },
   {
    "duration": 8,
    "start_time": "2023-01-29T09:38:58.898Z"
   },
   {
    "duration": 8,
    "start_time": "2023-01-29T09:38:58.907Z"
   },
   {
    "duration": 274,
    "start_time": "2023-01-29T09:38:58.917Z"
   },
   {
    "duration": 4,
    "start_time": "2023-01-29T09:38:59.193Z"
   },
   {
    "duration": 13,
    "start_time": "2023-01-29T09:38:59.199Z"
   },
   {
    "duration": 48,
    "start_time": "2023-01-29T09:38:59.213Z"
   },
   {
    "duration": 141,
    "start_time": "2023-01-29T09:39:51.289Z"
   },
   {
    "duration": 23,
    "start_time": "2023-01-29T09:40:29.162Z"
   },
   {
    "duration": 18,
    "start_time": "2023-01-29T09:40:59.883Z"
   },
   {
    "duration": 17,
    "start_time": "2023-01-29T09:41:09.990Z"
   },
   {
    "duration": 53,
    "start_time": "2023-01-29T09:56:02.976Z"
   },
   {
    "duration": 10,
    "start_time": "2023-01-29T09:56:43.024Z"
   },
   {
    "duration": 6,
    "start_time": "2023-01-29T09:56:56.408Z"
   },
   {
    "duration": 3,
    "start_time": "2023-01-29T09:57:04.432Z"
   },
   {
    "duration": 49,
    "start_time": "2023-01-29T10:06:25.034Z"
   },
   {
    "duration": 11,
    "start_time": "2023-01-29T10:06:37.581Z"
   },
   {
    "duration": 41,
    "start_time": "2023-01-29T10:09:03.746Z"
   },
   {
    "duration": 5,
    "start_time": "2023-01-29T10:09:17.157Z"
   },
   {
    "duration": 3,
    "start_time": "2023-01-29T10:11:38.455Z"
   },
   {
    "duration": 47,
    "start_time": "2023-01-29T10:21:49.382Z"
   },
   {
    "duration": 5,
    "start_time": "2023-01-29T10:31:35.274Z"
   },
   {
    "duration": 54,
    "start_time": "2023-01-29T10:36:22.769Z"
   },
   {
    "duration": 45,
    "start_time": "2023-01-29T10:36:36.636Z"
   },
   {
    "duration": 34,
    "start_time": "2023-01-29T10:36:42.141Z"
   },
   {
    "duration": 29,
    "start_time": "2023-01-29T10:37:42.072Z"
   },
   {
    "duration": 5,
    "start_time": "2023-01-29T10:38:47.370Z"
   },
   {
    "duration": 31,
    "start_time": "2023-01-29T10:40:20.065Z"
   },
   {
    "duration": 27652,
    "start_time": "2023-01-29T10:45:50.454Z"
   },
   {
    "duration": 27554,
    "start_time": "2023-01-29T10:47:22.828Z"
   },
   {
    "duration": 27461,
    "start_time": "2023-01-29T10:48:43.076Z"
   },
   {
    "duration": 2131078,
    "start_time": "2023-01-29T10:50:58.324Z"
   },
   {
    "duration": 28339,
    "start_time": "2023-01-29T11:27:04.443Z"
   },
   {
    "duration": 82,
    "start_time": "2023-01-29T11:30:13.303Z"
   },
   {
    "duration": 198795,
    "start_time": "2023-01-29T11:30:31.502Z"
   },
   {
    "duration": 4,
    "start_time": "2023-01-29T11:40:10.233Z"
   },
   {
    "duration": 20,
    "start_time": "2023-01-29T11:41:46.277Z"
   },
   {
    "duration": 21148,
    "start_time": "2023-01-29T11:42:56.477Z"
   },
   {
    "duration": 61,
    "start_time": "2023-01-29T11:44:22.489Z"
   },
   {
    "duration": 663597,
    "start_time": "2023-01-29T11:44:30.928Z"
   },
   {
    "duration": 4,
    "start_time": "2023-01-29T11:56:21.076Z"
   },
   {
    "duration": 33185,
    "start_time": "2023-01-29T12:02:13.381Z"
   },
   {
    "duration": 64,
    "start_time": "2023-01-29T12:06:41.292Z"
   },
   {
    "duration": 13,
    "start_time": "2023-01-29T12:06:58.663Z"
   },
   {
    "duration": 14,
    "start_time": "2023-01-29T12:07:14.054Z"
   },
   {
    "duration": 25258,
    "start_time": "2023-01-29T12:07:20.115Z"
   },
   {
    "duration": 4,
    "start_time": "2023-01-29T12:08:51.775Z"
   },
   {
    "duration": 58,
    "start_time": "2023-01-29T12:09:11.185Z"
   },
   {
    "duration": 25417,
    "start_time": "2023-01-29T12:09:18.449Z"
   },
   {
    "duration": 25415,
    "start_time": "2023-01-29T12:12:34.135Z"
   },
   {
    "duration": 621949,
    "start_time": "2023-01-29T12:13:53.346Z"
   },
   {
    "duration": 122,
    "start_time": "2023-01-29T12:24:15.298Z"
   },
   {
    "duration": 0,
    "start_time": "2023-01-29T12:24:15.423Z"
   },
   {
    "duration": 9,
    "start_time": "2023-01-29T12:25:02.476Z"
   },
   {
    "duration": 49,
    "start_time": "2023-01-29T12:25:05.965Z"
   },
   {
    "duration": 9,
    "start_time": "2023-01-29T12:25:26.486Z"
   },
   {
    "duration": 13,
    "start_time": "2023-01-29T12:25:28.363Z"
   },
   {
    "duration": 50,
    "start_time": "2023-01-29T12:25:42.551Z"
   },
   {
    "duration": 11,
    "start_time": "2023-01-29T12:25:47.738Z"
   },
   {
    "duration": 10,
    "start_time": "2023-01-29T12:26:16.220Z"
   },
   {
    "duration": 15,
    "start_time": "2023-01-29T12:26:32.082Z"
   },
   {
    "duration": 10,
    "start_time": "2023-01-29T12:27:09.354Z"
   },
   {
    "duration": 17,
    "start_time": "2023-01-29T12:27:11.175Z"
   },
   {
    "duration": 8,
    "start_time": "2023-01-29T12:27:37.652Z"
   },
   {
    "duration": 46,
    "start_time": "2023-01-29T12:27:44.126Z"
   },
   {
    "duration": 9,
    "start_time": "2023-01-29T12:28:58.587Z"
   },
   {
    "duration": 46,
    "start_time": "2023-01-29T12:28:59.405Z"
   },
   {
    "duration": 9,
    "start_time": "2023-01-29T12:29:15.161Z"
   },
   {
    "duration": 57,
    "start_time": "2023-01-29T12:29:16.781Z"
   },
   {
    "duration": 12,
    "start_time": "2023-01-29T12:30:50.822Z"
   },
   {
    "duration": 157,
    "start_time": "2023-01-29T12:30:51.859Z"
   },
   {
    "duration": 9,
    "start_time": "2023-01-29T12:32:17.491Z"
   },
   {
    "duration": 174,
    "start_time": "2023-01-29T12:32:19.211Z"
   },
   {
    "duration": 9,
    "start_time": "2023-01-29T12:32:45.174Z"
   },
   {
    "duration": 18512,
    "start_time": "2023-01-29T12:32:46.445Z"
   },
   {
    "duration": 54,
    "start_time": "2023-01-29T12:36:13.655Z"
   },
   {
    "duration": 12,
    "start_time": "2023-01-29T12:36:24.168Z"
   },
   {
    "duration": 66025,
    "start_time": "2023-01-29T12:36:27.851Z"
   },
   {
    "duration": 17,
    "start_time": "2023-01-29T12:37:57.446Z"
   },
   {
    "duration": 143235,
    "start_time": "2023-01-29T12:37:59.346Z"
   },
   {
    "duration": 9,
    "start_time": "2023-01-29T12:40:32.337Z"
   },
   {
    "duration": 220078,
    "start_time": "2023-01-29T12:40:33.231Z"
   },
   {
    "duration": 63,
    "start_time": "2023-01-29T12:44:40.934Z"
   },
   {
    "duration": 23163,
    "start_time": "2023-01-29T12:44:46.147Z"
   },
   {
    "duration": 23148,
    "start_time": "2023-01-29T12:45:28.630Z"
   },
   {
    "duration": 23618,
    "start_time": "2023-01-29T12:46:26.219Z"
   },
   {
    "duration": 9,
    "start_time": "2023-01-29T12:48:05.597Z"
   },
   {
    "duration": 11965,
    "start_time": "2023-01-29T12:48:08.161Z"
   },
   {
    "duration": 9,
    "start_time": "2023-01-29T12:48:37.638Z"
   },
   {
    "duration": 9,
    "start_time": "2023-01-29T12:48:46.553Z"
   },
   {
    "duration": 11634,
    "start_time": "2023-01-29T12:48:48.391Z"
   },
   {
    "duration": 13,
    "start_time": "2023-01-29T12:49:02.083Z"
   },
   {
    "duration": 11748,
    "start_time": "2023-01-29T12:49:03.674Z"
   },
   {
    "duration": 9,
    "start_time": "2023-01-29T12:49:41.293Z"
   },
   {
    "duration": 0,
    "start_time": "2023-01-29T12:51:26.504Z"
   },
   {
    "duration": 0,
    "start_time": "2023-01-29T12:51:26.505Z"
   },
   {
    "duration": 9,
    "start_time": "2023-01-29T12:51:32.280Z"
   },
   {
    "duration": 1428,
    "start_time": "2023-01-29T12:53:16.743Z"
   },
   {
    "duration": 807,
    "start_time": "2023-01-29T12:53:18.173Z"
   },
   {
    "duration": 18,
    "start_time": "2023-01-29T12:53:18.982Z"
   },
   {
    "duration": 25,
    "start_time": "2023-01-29T12:53:19.003Z"
   },
   {
    "duration": 17,
    "start_time": "2023-01-29T12:53:19.031Z"
   },
   {
    "duration": 150,
    "start_time": "2023-01-29T12:53:19.050Z"
   },
   {
    "duration": 3,
    "start_time": "2023-01-29T12:53:19.202Z"
   },
   {
    "duration": 203,
    "start_time": "2023-01-29T12:53:19.206Z"
   },
   {
    "duration": 5,
    "start_time": "2023-01-29T12:53:19.411Z"
   },
   {
    "duration": 14,
    "start_time": "2023-01-29T12:53:19.418Z"
   },
   {
    "duration": 31,
    "start_time": "2023-01-29T12:53:19.434Z"
   },
   {
    "duration": 9,
    "start_time": "2023-01-29T12:53:19.467Z"
   },
   {
    "duration": 26,
    "start_time": "2023-01-29T12:53:19.478Z"
   },
   {
    "duration": 8,
    "start_time": "2023-01-29T12:53:19.507Z"
   },
   {
    "duration": 28,
    "start_time": "2023-01-29T12:53:19.516Z"
   },
   {
    "duration": 17,
    "start_time": "2023-01-29T12:53:19.546Z"
   },
   {
    "duration": 118,
    "start_time": "2023-01-29T12:53:19.566Z"
   },
   {
    "duration": 7,
    "start_time": "2023-01-29T12:53:19.686Z"
   },
   {
    "duration": 32,
    "start_time": "2023-01-29T12:53:19.695Z"
   },
   {
    "duration": 26,
    "start_time": "2023-01-29T12:53:19.729Z"
   },
   {
    "duration": 23,
    "start_time": "2023-01-29T12:53:19.758Z"
   },
   {
    "duration": 44,
    "start_time": "2023-01-29T12:53:19.783Z"
   },
   {
    "duration": 730,
    "start_time": "2023-01-29T12:53:19.829Z"
   },
   {
    "duration": 3,
    "start_time": "2023-01-29T12:53:20.560Z"
   },
   {
    "duration": 5,
    "start_time": "2023-01-29T12:53:20.565Z"
   },
   {
    "duration": 794,
    "start_time": "2023-01-29T12:53:20.571Z"
   },
   {
    "duration": 811,
    "start_time": "2023-01-29T12:53:21.367Z"
   },
   {
    "duration": 508,
    "start_time": "2023-01-29T12:53:22.180Z"
   },
   {
    "duration": 7,
    "start_time": "2023-01-29T12:53:22.690Z"
   },
   {
    "duration": 6,
    "start_time": "2023-01-29T12:53:22.699Z"
   },
   {
    "duration": 245,
    "start_time": "2023-01-29T12:53:22.707Z"
   },
   {
    "duration": 3,
    "start_time": "2023-01-29T12:53:22.954Z"
   },
   {
    "duration": 19,
    "start_time": "2023-01-29T12:53:22.958Z"
   },
   {
    "duration": 8,
    "start_time": "2023-01-29T12:53:22.979Z"
   },
   {
    "duration": 18,
    "start_time": "2023-01-29T12:53:22.989Z"
   },
   {
    "duration": 126,
    "start_time": "2023-01-29T12:53:33.175Z"
   },
   {
    "duration": 9,
    "start_time": "2023-01-29T12:54:09.633Z"
   },
   {
    "duration": 110678,
    "start_time": "2023-01-29T12:54:13.100Z"
   },
   {
    "duration": 8,
    "start_time": "2023-01-29T12:56:08.134Z"
   },
   {
    "duration": 220983,
    "start_time": "2023-01-29T12:56:10.430Z"
   },
   {
    "duration": 6,
    "start_time": "2023-01-29T12:59:51.496Z"
   },
   {
    "duration": 227,
    "start_time": "2023-01-29T13:01:30.387Z"
   },
   {
    "duration": 6,
    "start_time": "2023-01-29T13:03:30.935Z"
   },
   {
    "duration": 96,
    "start_time": "2023-01-29T13:04:54.798Z"
   },
   {
    "duration": 305,
    "start_time": "2023-01-29T13:06:20.394Z"
   },
   {
    "duration": 0,
    "start_time": "2023-01-29T13:06:20.701Z"
   },
   {
    "duration": 0,
    "start_time": "2023-01-29T13:06:20.702Z"
   },
   {
    "duration": 8,
    "start_time": "2023-01-29T13:06:36.062Z"
   },
   {
    "duration": 73968,
    "start_time": "2023-01-29T13:06:42.844Z"
   },
   {
    "duration": 78,
    "start_time": "2023-01-29T13:07:56.815Z"
   },
   {
    "duration": 97,
    "start_time": "2023-01-29T13:07:56.895Z"
   },
   {
    "duration": 5,
    "start_time": "2023-01-29T13:07:56.994Z"
   },
   {
    "duration": 73733,
    "start_time": "2023-01-29T13:08:11.767Z"
   },
   {
    "duration": 89,
    "start_time": "2023-01-29T13:09:25.503Z"
   },
   {
    "duration": 6,
    "start_time": "2023-01-29T13:09:38.392Z"
   },
   {
    "duration": 76554,
    "start_time": "2023-01-29T13:09:39.164Z"
   },
   {
    "duration": 2,
    "start_time": "2023-01-29T13:16:57.655Z"
   },
   {
    "duration": 17,
    "start_time": "2023-01-29T13:17:01.249Z"
   },
   {
    "duration": 144347,
    "start_time": "2023-01-29T13:17:09.535Z"
   },
   {
    "duration": 10852,
    "start_time": "2023-01-29T13:21:35.980Z"
   },
   {
    "duration": 24278,
    "start_time": "2023-01-29T13:24:34.972Z"
   },
   {
    "duration": 3,
    "start_time": "2023-01-29T13:24:59.252Z"
   },
   {
    "duration": 25288,
    "start_time": "2023-01-29T13:25:19.756Z"
   },
   {
    "duration": 38,
    "start_time": "2023-01-29T13:27:57.545Z"
   },
   {
    "duration": 9,
    "start_time": "2023-01-29T13:28:57.678Z"
   },
   {
    "duration": 12,
    "start_time": "2023-01-29T13:29:24.880Z"
   },
   {
    "duration": 46,
    "start_time": "2023-01-29T14:08:04.383Z"
   },
   {
    "duration": 1252,
    "start_time": "2023-01-29T14:14:31.959Z"
   },
   {
    "duration": 685,
    "start_time": "2023-01-29T14:14:33.213Z"
   },
   {
    "duration": 7,
    "start_time": "2023-01-29T14:14:33.899Z"
   },
   {
    "duration": 39,
    "start_time": "2023-01-29T14:14:33.908Z"
   },
   {
    "duration": 11,
    "start_time": "2023-01-29T14:14:33.948Z"
   },
   {
    "duration": 121,
    "start_time": "2023-01-29T14:14:33.960Z"
   },
   {
    "duration": 3,
    "start_time": "2023-01-29T14:14:34.082Z"
   },
   {
    "duration": 154,
    "start_time": "2023-01-29T14:14:34.087Z"
   },
   {
    "duration": 5,
    "start_time": "2023-01-29T14:14:34.242Z"
   },
   {
    "duration": 10,
    "start_time": "2023-01-29T14:14:34.249Z"
   },
   {
    "duration": 12,
    "start_time": "2023-01-29T14:14:34.260Z"
   },
   {
    "duration": 19,
    "start_time": "2023-01-29T14:14:34.273Z"
   },
   {
    "duration": 19,
    "start_time": "2023-01-29T14:14:34.293Z"
   },
   {
    "duration": 6,
    "start_time": "2023-01-29T14:14:34.313Z"
   },
   {
    "duration": 16,
    "start_time": "2023-01-29T14:14:34.321Z"
   },
   {
    "duration": 14,
    "start_time": "2023-01-29T14:14:34.338Z"
   },
   {
    "duration": 116,
    "start_time": "2023-01-29T14:14:34.353Z"
   },
   {
    "duration": 7,
    "start_time": "2023-01-29T14:14:34.471Z"
   },
   {
    "duration": 11,
    "start_time": "2023-01-29T14:14:34.491Z"
   },
   {
    "duration": 15,
    "start_time": "2023-01-29T14:14:34.503Z"
   },
   {
    "duration": 9,
    "start_time": "2023-01-29T14:14:34.520Z"
   },
   {
    "duration": 28,
    "start_time": "2023-01-29T14:14:34.531Z"
   },
   {
    "duration": 687,
    "start_time": "2023-01-29T14:14:34.561Z"
   },
   {
    "duration": 4,
    "start_time": "2023-01-29T14:14:35.250Z"
   },
   {
    "duration": 24,
    "start_time": "2023-01-29T14:14:35.255Z"
   },
   {
    "duration": 704,
    "start_time": "2023-01-29T14:14:35.281Z"
   },
   {
    "duration": 753,
    "start_time": "2023-01-29T14:14:35.990Z"
   },
   {
    "duration": 519,
    "start_time": "2023-01-29T14:14:36.745Z"
   },
   {
    "duration": 9,
    "start_time": "2023-01-29T14:14:37.265Z"
   },
   {
    "duration": 11,
    "start_time": "2023-01-29T14:14:37.276Z"
   },
   {
    "duration": 240,
    "start_time": "2023-01-29T14:14:37.288Z"
   },
   {
    "duration": 3,
    "start_time": "2023-01-29T14:14:37.529Z"
   },
   {
    "duration": 7,
    "start_time": "2023-01-29T14:14:37.533Z"
   },
   {
    "duration": 7,
    "start_time": "2023-01-29T14:14:37.541Z"
   },
   {
    "duration": 22,
    "start_time": "2023-01-29T14:14:37.549Z"
   },
   {
    "duration": 4,
    "start_time": "2023-01-29T14:15:21.032Z"
   },
   {
    "duration": 72,
    "start_time": "2023-01-29T14:15:24.480Z"
   },
   {
    "duration": 4,
    "start_time": "2023-01-29T14:15:39.528Z"
   },
   {
    "duration": 12,
    "start_time": "2023-01-29T14:15:40.626Z"
   },
   {
    "duration": 4,
    "start_time": "2023-01-29T14:16:14.531Z"
   },
   {
    "duration": 10,
    "start_time": "2023-01-29T14:16:15.698Z"
   },
   {
    "duration": 4,
    "start_time": "2023-01-29T14:16:43.389Z"
   },
   {
    "duration": 10,
    "start_time": "2023-01-29T14:16:43.844Z"
   },
   {
    "duration": 3,
    "start_time": "2023-01-29T14:17:13.030Z"
   },
   {
    "duration": 15,
    "start_time": "2023-01-29T14:17:13.433Z"
   },
   {
    "duration": 5,
    "start_time": "2023-01-29T14:17:47.581Z"
   },
   {
    "duration": 544,
    "start_time": "2023-01-29T14:17:49.233Z"
   },
   {
    "duration": 662,
    "start_time": "2023-01-29T14:18:03.297Z"
   },
   {
    "duration": 0,
    "start_time": "2023-01-29T14:18:03.961Z"
   },
   {
    "duration": 6,
    "start_time": "2023-01-29T14:18:28.238Z"
   },
   {
    "duration": 669,
    "start_time": "2023-01-29T14:18:28.927Z"
   },
   {
    "duration": 543,
    "start_time": "2023-01-29T14:18:47.257Z"
   },
   {
    "duration": 616,
    "start_time": "2023-01-29T14:20:06.477Z"
   },
   {
    "duration": 44,
    "start_time": "2023-01-29T14:20:26.555Z"
   },
   {
    "duration": 520,
    "start_time": "2023-01-29T14:20:33.173Z"
   },
   {
    "duration": 954,
    "start_time": "2023-01-29T14:23:49.738Z"
   },
   {
    "duration": 530,
    "start_time": "2023-01-29T14:25:21.874Z"
   },
   {
    "duration": 611597,
    "start_time": "2023-01-29T14:26:36.610Z"
   },
   {
    "duration": 538,
    "start_time": "2023-01-29T14:48:27.158Z"
   },
   {
    "duration": 764,
    "start_time": "2023-01-29T14:48:39.431Z"
   },
   {
    "duration": 2113,
    "start_time": "2023-01-29T14:49:46.381Z"
   },
   {
    "duration": 456,
    "start_time": "2023-01-29T14:53:21.028Z"
   },
   {
    "duration": 264,
    "start_time": "2023-01-29T14:53:36.703Z"
   },
   {
    "duration": 6,
    "start_time": "2023-01-29T14:54:26.970Z"
   },
   {
    "duration": 397,
    "start_time": "2023-01-29T14:56:04.030Z"
   },
   {
    "duration": 653,
    "start_time": "2023-01-29T14:57:41.631Z"
   },
   {
    "duration": 1917,
    "start_time": "2023-01-29T14:59:17.879Z"
   },
   {
    "duration": 80,
    "start_time": "2023-01-29T15:03:27.142Z"
   },
   {
    "duration": 4,
    "start_time": "2023-01-29T15:07:47.657Z"
   },
   {
    "duration": 5,
    "start_time": "2023-01-29T15:07:49.953Z"
   },
   {
    "duration": 49,
    "start_time": "2023-01-29T15:11:55.595Z"
   },
   {
    "duration": 13,
    "start_time": "2023-01-29T15:12:04.147Z"
   },
   {
    "duration": 5,
    "start_time": "2023-01-29T15:12:23.359Z"
   },
   {
    "duration": 5,
    "start_time": "2023-01-29T15:12:43.454Z"
   },
   {
    "duration": 16,
    "start_time": "2023-01-29T15:12:49.389Z"
   },
   {
    "duration": 102697,
    "start_time": "2023-01-29T15:13:00.417Z"
   },
   {
    "duration": 34,
    "start_time": "2023-01-29T15:14:56.099Z"
   },
   {
    "duration": 16,
    "start_time": "2023-01-29T15:15:07.617Z"
   },
   {
    "duration": 180982,
    "start_time": "2023-01-29T15:15:11.415Z"
   },
   {
    "duration": 80,
    "start_time": "2023-01-29T15:22:23.172Z"
   },
   {
    "duration": 9,
    "start_time": "2023-01-29T15:22:26.839Z"
   },
   {
    "duration": 4,
    "start_time": "2023-01-29T15:22:31.363Z"
   },
   {
    "duration": 182022,
    "start_time": "2023-01-29T15:23:22.269Z"
   },
   {
    "duration": 717849,
    "start_time": "2023-01-29T15:27:33.709Z"
   },
   {
    "duration": 5,
    "start_time": "2023-01-29T15:42:27.540Z"
   },
   {
    "duration": 716021,
    "start_time": "2023-01-29T15:42:47.922Z"
   },
   {
    "duration": 11,
    "start_time": "2023-01-29T16:04:04.177Z"
   },
   {
    "duration": 2345,
    "start_time": "2023-01-29T16:04:27.554Z"
   },
   {
    "duration": 6,
    "start_time": "2023-01-29T16:06:53.827Z"
   },
   {
    "duration": 9,
    "start_time": "2023-01-29T16:08:25.534Z"
   },
   {
    "duration": 2477,
    "start_time": "2023-01-29T16:17:34.620Z"
   },
   {
    "duration": 42,
    "start_time": "2023-01-29T16:21:57.642Z"
   },
   {
    "duration": 1352,
    "start_time": "2023-01-29T16:37:52.971Z"
   },
   {
    "duration": 671,
    "start_time": "2023-01-29T16:37:54.325Z"
   },
   {
    "duration": 6,
    "start_time": "2023-01-29T16:37:54.998Z"
   },
   {
    "duration": 36,
    "start_time": "2023-01-29T16:37:55.006Z"
   },
   {
    "duration": 17,
    "start_time": "2023-01-29T16:37:55.044Z"
   },
   {
    "duration": 113,
    "start_time": "2023-01-29T16:37:55.063Z"
   },
   {
    "duration": 3,
    "start_time": "2023-01-29T16:37:55.178Z"
   },
   {
    "duration": 176,
    "start_time": "2023-01-29T16:37:55.183Z"
   },
   {
    "duration": 4,
    "start_time": "2023-01-29T16:37:55.361Z"
   },
   {
    "duration": 15,
    "start_time": "2023-01-29T16:37:55.367Z"
   },
   {
    "duration": 26,
    "start_time": "2023-01-29T16:37:55.392Z"
   },
   {
    "duration": 9,
    "start_time": "2023-01-29T16:37:55.420Z"
   },
   {
    "duration": 34,
    "start_time": "2023-01-29T16:37:55.430Z"
   },
   {
    "duration": 6,
    "start_time": "2023-01-29T16:37:55.467Z"
   },
   {
    "duration": 35,
    "start_time": "2023-01-29T16:37:55.474Z"
   },
   {
    "duration": 12,
    "start_time": "2023-01-29T16:37:55.511Z"
   },
   {
    "duration": 89,
    "start_time": "2023-01-29T16:37:55.524Z"
   },
   {
    "duration": 6,
    "start_time": "2023-01-29T16:37:55.615Z"
   },
   {
    "duration": 26,
    "start_time": "2023-01-29T16:37:55.623Z"
   },
   {
    "duration": 22,
    "start_time": "2023-01-29T16:37:55.651Z"
   },
   {
    "duration": 9,
    "start_time": "2023-01-29T16:37:55.675Z"
   },
   {
    "duration": 31,
    "start_time": "2023-01-29T16:37:55.686Z"
   },
   {
    "duration": 776,
    "start_time": "2023-01-29T16:37:55.719Z"
   },
   {
    "duration": 4,
    "start_time": "2023-01-29T16:37:56.497Z"
   },
   {
    "duration": 22,
    "start_time": "2023-01-29T16:37:56.503Z"
   },
   {
    "duration": 690,
    "start_time": "2023-01-29T16:37:56.526Z"
   },
   {
    "duration": 704,
    "start_time": "2023-01-29T16:37:57.218Z"
   },
   {
    "duration": 541,
    "start_time": "2023-01-29T16:37:57.923Z"
   },
   {
    "duration": 10,
    "start_time": "2023-01-29T16:37:58.466Z"
   },
   {
    "duration": 9,
    "start_time": "2023-01-29T16:37:58.477Z"
   },
   {
    "duration": 234,
    "start_time": "2023-01-29T16:37:58.488Z"
   },
   {
    "duration": 3,
    "start_time": "2023-01-29T16:37:58.723Z"
   },
   {
    "duration": 8,
    "start_time": "2023-01-29T16:37:58.727Z"
   },
   {
    "duration": 10,
    "start_time": "2023-01-29T16:37:58.736Z"
   },
   {
    "duration": 19,
    "start_time": "2023-01-29T16:37:58.747Z"
   },
   {
    "duration": 184934,
    "start_time": "2023-01-29T16:37:58.767Z"
   },
   {
    "duration": 732487,
    "start_time": "2023-01-29T16:41:03.793Z"
   },
   {
    "duration": 9,
    "start_time": "2023-01-29T16:53:16.282Z"
   },
   {
    "duration": 2204,
    "start_time": "2023-01-29T16:53:16.293Z"
   },
   {
    "duration": 91,
    "start_time": "2023-01-29T16:53:18.505Z"
   },
   {
    "duration": 18,
    "start_time": "2023-01-29T16:58:58.893Z"
   },
   {
    "duration": 2176,
    "start_time": "2023-01-29T17:06:13.418Z"
   },
   {
    "duration": 21,
    "start_time": "2023-01-29T17:07:32.724Z"
   },
   {
    "duration": 4,
    "start_time": "2023-01-29T17:07:57.979Z"
   },
   {
    "duration": 763,
    "start_time": "2023-01-29T17:09:23.064Z"
   },
   {
    "duration": 16,
    "start_time": "2023-01-29T17:09:29.560Z"
   },
   {
    "duration": 7,
    "start_time": "2023-01-29T17:09:42.693Z"
   },
   {
    "duration": 1326,
    "start_time": "2023-01-29T17:10:20.503Z"
   },
   {
    "duration": 689,
    "start_time": "2023-01-29T17:10:21.831Z"
   },
   {
    "duration": 7,
    "start_time": "2023-01-29T17:10:22.521Z"
   },
   {
    "duration": 18,
    "start_time": "2023-01-29T17:10:22.530Z"
   },
   {
    "duration": 11,
    "start_time": "2023-01-29T17:10:22.549Z"
   },
   {
    "duration": 126,
    "start_time": "2023-01-29T17:10:22.561Z"
   },
   {
    "duration": 2,
    "start_time": "2023-01-29T17:10:22.692Z"
   },
   {
    "duration": 163,
    "start_time": "2023-01-29T17:10:22.696Z"
   },
   {
    "duration": 4,
    "start_time": "2023-01-29T17:10:22.860Z"
   },
   {
    "duration": 8,
    "start_time": "2023-01-29T17:10:22.867Z"
   },
   {
    "duration": 21,
    "start_time": "2023-01-29T17:10:22.876Z"
   },
   {
    "duration": 7,
    "start_time": "2023-01-29T17:10:22.898Z"
   },
   {
    "duration": 18,
    "start_time": "2023-01-29T17:10:22.906Z"
   },
   {
    "duration": 5,
    "start_time": "2023-01-29T17:10:22.925Z"
   },
   {
    "duration": 15,
    "start_time": "2023-01-29T17:10:22.932Z"
   },
   {
    "duration": 44,
    "start_time": "2023-01-29T17:10:22.948Z"
   },
   {
    "duration": 83,
    "start_time": "2023-01-29T17:10:22.993Z"
   },
   {
    "duration": 19,
    "start_time": "2023-01-29T17:10:23.078Z"
   },
   {
    "duration": 11,
    "start_time": "2023-01-29T17:10:23.098Z"
   },
   {
    "duration": 12,
    "start_time": "2023-01-29T17:10:23.110Z"
   },
   {
    "duration": 8,
    "start_time": "2023-01-29T17:10:23.123Z"
   },
   {
    "duration": 29,
    "start_time": "2023-01-29T17:10:23.133Z"
   },
   {
    "duration": 717,
    "start_time": "2023-01-29T17:10:23.164Z"
   },
   {
    "duration": 10,
    "start_time": "2023-01-29T17:10:23.882Z"
   },
   {
    "duration": 5,
    "start_time": "2023-01-29T17:10:23.894Z"
   },
   {
    "duration": 716,
    "start_time": "2023-01-29T17:10:23.900Z"
   },
   {
    "duration": 698,
    "start_time": "2023-01-29T17:10:24.618Z"
   },
   {
    "duration": 549,
    "start_time": "2023-01-29T17:10:25.319Z"
   },
   {
    "duration": 8,
    "start_time": "2023-01-29T17:10:25.870Z"
   },
   {
    "duration": 8,
    "start_time": "2023-01-29T17:10:25.880Z"
   },
   {
    "duration": 16,
    "start_time": "2023-01-29T17:10:25.890Z"
   },
   {
    "duration": 232,
    "start_time": "2023-01-29T17:10:25.908Z"
   },
   {
    "duration": 3,
    "start_time": "2023-01-29T17:10:26.141Z"
   },
   {
    "duration": 8,
    "start_time": "2023-01-29T17:10:26.145Z"
   },
   {
    "duration": 8,
    "start_time": "2023-01-29T17:10:26.154Z"
   },
   {
    "duration": 17,
    "start_time": "2023-01-29T17:10:26.163Z"
   },
   {
    "duration": 187011,
    "start_time": "2023-01-29T17:10:26.181Z"
   },
   {
    "duration": 758279,
    "start_time": "2023-01-29T17:13:33.195Z"
   },
   {
    "duration": 5,
    "start_time": "2023-01-29T17:26:11.475Z"
   },
   {
    "duration": 2525,
    "start_time": "2023-01-29T17:26:11.482Z"
   },
   {
    "duration": 49,
    "start_time": "2023-01-31T01:39:57.473Z"
   },
   {
    "duration": 1529,
    "start_time": "2023-01-31T01:40:57.343Z"
   },
   {
    "duration": 3155,
    "start_time": "2023-01-31T01:40:58.873Z"
   },
   {
    "duration": 7,
    "start_time": "2023-01-31T01:41:02.029Z"
   },
   {
    "duration": 20,
    "start_time": "2023-01-31T01:41:02.038Z"
   },
   {
    "duration": 12,
    "start_time": "2023-01-31T01:41:02.060Z"
   },
   {
    "duration": 121,
    "start_time": "2023-01-31T01:41:02.073Z"
   },
   {
    "duration": 3,
    "start_time": "2023-01-31T01:41:02.196Z"
   },
   {
    "duration": 169,
    "start_time": "2023-01-31T01:41:02.201Z"
   },
   {
    "duration": 5,
    "start_time": "2023-01-31T01:41:02.371Z"
   },
   {
    "duration": 11,
    "start_time": "2023-01-31T01:41:02.378Z"
   },
   {
    "duration": 16,
    "start_time": "2023-01-31T01:41:02.390Z"
   },
   {
    "duration": 7,
    "start_time": "2023-01-31T01:41:02.407Z"
   },
   {
    "duration": 42,
    "start_time": "2023-01-31T01:41:02.415Z"
   },
   {
    "duration": 6,
    "start_time": "2023-01-31T01:41:02.458Z"
   },
   {
    "duration": 16,
    "start_time": "2023-01-31T01:41:02.466Z"
   },
   {
    "duration": 16,
    "start_time": "2023-01-31T01:41:02.484Z"
   },
   {
    "duration": 105,
    "start_time": "2023-01-31T01:41:02.502Z"
   },
   {
    "duration": 7,
    "start_time": "2023-01-31T01:41:02.609Z"
   },
   {
    "duration": 11,
    "start_time": "2023-01-31T01:41:02.617Z"
   },
   {
    "duration": 22,
    "start_time": "2023-01-31T01:41:02.630Z"
   },
   {
    "duration": 8,
    "start_time": "2023-01-31T01:41:02.654Z"
   },
   {
    "duration": 30,
    "start_time": "2023-01-31T01:41:02.663Z"
   },
   {
    "duration": 752,
    "start_time": "2023-01-31T01:41:02.695Z"
   },
   {
    "duration": 4,
    "start_time": "2023-01-31T01:41:03.449Z"
   },
   {
    "duration": 9,
    "start_time": "2023-01-31T01:41:03.455Z"
   },
   {
    "duration": 775,
    "start_time": "2023-01-31T01:41:03.466Z"
   },
   {
    "duration": 758,
    "start_time": "2023-01-31T01:41:32.953Z"
   },
   {
    "duration": 787,
    "start_time": "2023-01-31T01:42:23.625Z"
   },
   {
    "duration": 471,
    "start_time": "2023-01-31T01:45:11.844Z"
   },
   {
    "duration": 522,
    "start_time": "2023-01-31T01:45:29.988Z"
   },
   {
    "duration": 478,
    "start_time": "2023-01-31T01:45:49.226Z"
   },
   {
    "duration": 417,
    "start_time": "2023-01-31T01:48:54.990Z"
   },
   {
    "duration": 542,
    "start_time": "2023-01-31T01:49:54.663Z"
   },
   {
    "duration": 467,
    "start_time": "2023-01-31T01:50:32.341Z"
   },
   {
    "duration": 512,
    "start_time": "2023-01-31T01:51:43.109Z"
   },
   {
    "duration": 434,
    "start_time": "2023-01-31T01:51:50.193Z"
   },
   {
    "duration": 483,
    "start_time": "2023-01-31T01:51:57.809Z"
   },
   {
    "duration": 519,
    "start_time": "2023-01-31T01:52:15.385Z"
   },
   {
    "duration": 9,
    "start_time": "2023-01-31T01:53:54.934Z"
   },
   {
    "duration": 10,
    "start_time": "2023-01-31T01:53:58.359Z"
   },
   {
    "duration": 16,
    "start_time": "2023-01-31T01:55:14.835Z"
   },
   {
    "duration": 332,
    "start_time": "2023-01-31T02:05:47.145Z"
   },
   {
    "duration": 337,
    "start_time": "2023-01-31T02:06:06.584Z"
   },
   {
    "duration": 5,
    "start_time": "2023-01-31T02:13:13.332Z"
   },
   {
    "duration": 76,
    "start_time": "2023-01-31T02:18:20.035Z"
   },
   {
    "duration": 505,
    "start_time": "2023-01-31T02:19:18.192Z"
   },
   {
    "duration": 535,
    "start_time": "2023-01-31T02:19:24.587Z"
   },
   {
    "duration": 235,
    "start_time": "2023-01-31T02:19:36.852Z"
   },
   {
    "duration": 19,
    "start_time": "2023-01-31T02:19:42.620Z"
   },
   {
    "duration": 17,
    "start_time": "2023-01-31T02:23:49.620Z"
   },
   {
    "duration": 7,
    "start_time": "2023-01-31T02:24:18.385Z"
   },
   {
    "duration": 13,
    "start_time": "2023-01-31T02:24:43.864Z"
   },
   {
    "duration": 6,
    "start_time": "2023-01-31T02:26:02.939Z"
   },
   {
    "duration": 7,
    "start_time": "2023-01-31T02:26:10.500Z"
   },
   {
    "duration": 9,
    "start_time": "2023-01-31T02:26:28.317Z"
   },
   {
    "duration": 7,
    "start_time": "2023-01-31T02:26:34.468Z"
   },
   {
    "duration": 15,
    "start_time": "2023-01-31T02:26:43.555Z"
   },
   {
    "duration": 47,
    "start_time": "2023-01-31T02:28:34.681Z"
   },
   {
    "duration": 20,
    "start_time": "2023-01-31T02:28:39.508Z"
   },
   {
    "duration": 8,
    "start_time": "2023-01-31T02:29:18.924Z"
   },
   {
    "duration": 6,
    "start_time": "2023-01-31T02:32:05.332Z"
   },
   {
    "duration": 378,
    "start_time": "2023-01-31T02:34:06.989Z"
   },
   {
    "duration": 424,
    "start_time": "2023-01-31T02:34:16.825Z"
   },
   {
    "duration": 381,
    "start_time": "2023-01-31T02:38:11.558Z"
   },
   {
    "duration": 120,
    "start_time": "2023-01-31T02:41:04.733Z"
   },
   {
    "duration": 649,
    "start_time": "2023-01-31T02:41:11.042Z"
   },
   {
    "duration": 5,
    "start_time": "2023-01-31T02:43:50.103Z"
   },
   {
    "duration": 762,
    "start_time": "2023-01-31T02:44:05.207Z"
   },
   {
    "duration": 21,
    "start_time": "2023-01-31T02:44:54.353Z"
   },
   {
    "duration": 21,
    "start_time": "2023-01-31T02:45:08.808Z"
   },
   {
    "duration": 4,
    "start_time": "2023-01-31T02:45:30.457Z"
   },
   {
    "duration": 47,
    "start_time": "2023-01-31T02:51:29.480Z"
   },
   {
    "duration": 3,
    "start_time": "2023-01-31T02:53:31.096Z"
   },
   {
    "duration": 3,
    "start_time": "2023-01-31T02:53:31.362Z"
   },
   {
    "duration": 3,
    "start_time": "2023-01-31T02:53:31.633Z"
   },
   {
    "duration": 17,
    "start_time": "2023-01-31T02:53:34.127Z"
   },
   {
    "duration": 182370,
    "start_time": "2023-01-31T02:53:37.581Z"
   },
   {
    "duration": 700279,
    "start_time": "2023-01-31T02:56:39.955Z"
   },
   {
    "duration": 4,
    "start_time": "2023-01-31T03:08:20.236Z"
   },
   {
    "duration": 2116,
    "start_time": "2023-01-31T03:08:20.242Z"
   },
   {
    "duration": 90,
    "start_time": "2023-01-31T03:08:22.360Z"
   },
   {
    "duration": 2099,
    "start_time": "2023-01-31T03:15:00.060Z"
   },
   {
    "duration": 30,
    "start_time": "2023-01-31T03:17:22.315Z"
   },
   {
    "duration": 26,
    "start_time": "2023-01-31T03:17:42.236Z"
   },
   {
    "duration": 1301,
    "start_time": "2023-01-31T03:18:36.615Z"
   },
   {
    "duration": 629,
    "start_time": "2023-01-31T03:18:37.919Z"
   },
   {
    "duration": 8,
    "start_time": "2023-01-31T03:18:38.550Z"
   },
   {
    "duration": 22,
    "start_time": "2023-01-31T03:18:38.559Z"
   },
   {
    "duration": 11,
    "start_time": "2023-01-31T03:18:38.583Z"
   },
   {
    "duration": 118,
    "start_time": "2023-01-31T03:18:38.595Z"
   },
   {
    "duration": 3,
    "start_time": "2023-01-31T03:18:38.715Z"
   },
   {
    "duration": 169,
    "start_time": "2023-01-31T03:18:38.719Z"
   },
   {
    "duration": 5,
    "start_time": "2023-01-31T03:18:38.889Z"
   },
   {
    "duration": 10,
    "start_time": "2023-01-31T03:18:38.895Z"
   },
   {
    "duration": 15,
    "start_time": "2023-01-31T03:18:38.907Z"
   },
   {
    "duration": 28,
    "start_time": "2023-01-31T03:18:38.924Z"
   },
   {
    "duration": 21,
    "start_time": "2023-01-31T03:18:38.954Z"
   },
   {
    "duration": 8,
    "start_time": "2023-01-31T03:18:38.978Z"
   },
   {
    "duration": 17,
    "start_time": "2023-01-31T03:18:38.987Z"
   },
   {
    "duration": 43,
    "start_time": "2023-01-31T03:18:39.006Z"
   },
   {
    "duration": 101,
    "start_time": "2023-01-31T03:18:39.050Z"
   },
   {
    "duration": 6,
    "start_time": "2023-01-31T03:18:39.153Z"
   },
   {
    "duration": 12,
    "start_time": "2023-01-31T03:18:39.161Z"
   },
   {
    "duration": 20,
    "start_time": "2023-01-31T03:18:39.175Z"
   },
   {
    "duration": 10,
    "start_time": "2023-01-31T03:18:39.197Z"
   },
   {
    "duration": 50,
    "start_time": "2023-01-31T03:18:39.208Z"
   },
   {
    "duration": 734,
    "start_time": "2023-01-31T03:18:39.261Z"
   },
   {
    "duration": 3,
    "start_time": "2023-01-31T03:18:39.997Z"
   },
   {
    "duration": 10,
    "start_time": "2023-01-31T03:18:40.002Z"
   },
   {
    "duration": 803,
    "start_time": "2023-01-31T03:18:40.014Z"
   },
   {
    "duration": 838,
    "start_time": "2023-01-31T03:18:40.819Z"
   },
   {
    "duration": 551,
    "start_time": "2023-01-31T03:18:41.659Z"
   },
   {
    "duration": 10,
    "start_time": "2023-01-31T03:18:42.211Z"
   },
   {
    "duration": 9,
    "start_time": "2023-01-31T03:18:42.223Z"
   },
   {
    "duration": 28,
    "start_time": "2023-01-31T03:18:42.234Z"
   },
   {
    "duration": 458,
    "start_time": "2023-01-31T03:18:42.264Z"
   },
   {
    "duration": 8,
    "start_time": "2023-01-31T03:18:42.724Z"
   },
   {
    "duration": 16,
    "start_time": "2023-01-31T03:18:42.733Z"
   },
   {
    "duration": 15,
    "start_time": "2023-01-31T03:18:42.750Z"
   },
   {
    "duration": 257,
    "start_time": "2023-01-31T03:18:42.766Z"
   },
   {
    "duration": 4,
    "start_time": "2023-01-31T03:18:43.024Z"
   },
   {
    "duration": 36,
    "start_time": "2023-01-31T03:18:43.030Z"
   },
   {
    "duration": 3,
    "start_time": "2023-01-31T03:18:43.068Z"
   },
   {
    "duration": 5,
    "start_time": "2023-01-31T03:18:43.073Z"
   },
   {
    "duration": 4,
    "start_time": "2023-01-31T03:18:43.081Z"
   },
   {
    "duration": 5,
    "start_time": "2023-01-31T03:18:43.086Z"
   },
   {
    "duration": 18,
    "start_time": "2023-01-31T03:18:43.092Z"
   },
   {
    "duration": 179346,
    "start_time": "2023-01-31T03:18:43.112Z"
   },
   {
    "duration": 710010,
    "start_time": "2023-01-31T03:21:42.461Z"
   },
   {
    "duration": 4,
    "start_time": "2023-01-31T03:33:32.473Z"
   },
   {
    "duration": 2176,
    "start_time": "2023-01-31T03:42:05.760Z"
   },
   {
    "duration": 2353,
    "start_time": "2023-01-31T03:42:14.309Z"
   },
   {
    "duration": 23,
    "start_time": "2023-01-31T03:42:23.555Z"
   },
   {
    "duration": 9,
    "start_time": "2023-01-31T03:43:31.810Z"
   },
   {
    "duration": 256,
    "start_time": "2023-03-18T12:02:47.358Z"
   }
  ],
  "kernelspec": {
   "display_name": "Python 3 (ipykernel)",
   "language": "python",
   "name": "python3"
  },
  "language_info": {
   "codemirror_mode": {
    "name": "ipython",
    "version": 3
   },
   "file_extension": ".py",
   "mimetype": "text/x-python",
   "name": "python",
   "nbconvert_exporter": "python",
   "pygments_lexer": "ipython3",
   "version": "3.9.12"
  },
  "toc": {
   "base_numbering": 1,
   "nav_menu": {},
   "number_sections": true,
   "sideBar": true,
   "skip_h1_title": true,
   "title_cell": "Содержание",
   "title_sidebar": "Contents",
   "toc_cell": true,
   "toc_position": {
    "height": "720.267px",
    "left": "959.367px",
    "top": "180px",
    "width": "259.806px"
   },
   "toc_section_display": true,
   "toc_window_display": true
  }
 },
 "nbformat": 4,
 "nbformat_minor": 2
}
