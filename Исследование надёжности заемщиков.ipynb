{
 "cells": [
  {
   "cell_type": "markdown",
   "id": "8b201b0b",
   "metadata": {
    "id": "c81daeeb"
   },
   "source": [
    "# Исследование надежности заемщиков\n"
   ]
  },
  {
   "cell_type": "markdown",
   "id": "3e246e98",
   "metadata": {
    "id": "827c20bf"
   },
   "source": [
    "Заказчик — кредитный отдел банка. Нужно разобраться, влияет ли семейное положение и количество детей клиента на факт погашения кредита в срок. Входные данные от банка — статистика о платёжеспособности клиентов.\n",
    "Результаты исследования будут учтены при построении модели кредитного скоринга — специальной системы, которая оценивает способность потенциального заёмщика вернуть кредит банку."
   ]
  },
  {
   "cell_type": "markdown",
   "id": "bb2e694e",
   "metadata": {},
   "source": [
    "## Библиотеки"
   ]
  },
  {
   "cell_type": "code",
   "execution_count": 1,
   "id": "8dfb0f05",
   "metadata": {},
   "outputs": [],
   "source": [
    "import os\n",
    "\n",
    "import pandas as pd\n",
    "import seaborn as sns\n",
    "import matplotlib.pyplot as plt\n",
    "\n",
    "PATH = 'C:/Users/igors/OneDrive/Рабочий стол/Портфолио/1. Исследование надёжности заемщиков/data.csv'"
   ]
  },
  {
   "cell_type": "markdown",
   "id": "1b35286e",
   "metadata": {
    "id": "744d7639"
   },
   "source": [
    "## Изучение общей информации о данных"
   ]
  },
  {
   "cell_type": "markdown",
   "id": "9cec8ce5",
   "metadata": {
    "id": "e7a14c31"
   },
   "source": [
    "Считаем данные из csv-файла в датафрейм. Выведем первые 20 строк датафрейма."
   ]
  },
  {
   "cell_type": "code",
   "execution_count": 2,
   "id": "ba0f7983",
   "metadata": {
    "id": "7bcf75c9"
   },
   "outputs": [
    {
     "data": {
      "text/html": [
       "<div>\n",
       "<style scoped>\n",
       "    .dataframe tbody tr th:only-of-type {\n",
       "        vertical-align: middle;\n",
       "    }\n",
       "\n",
       "    .dataframe tbody tr th {\n",
       "        vertical-align: top;\n",
       "    }\n",
       "\n",
       "    .dataframe thead th {\n",
       "        text-align: right;\n",
       "    }\n",
       "</style>\n",
       "<table border=\"1\" class=\"dataframe\">\n",
       "  <thead>\n",
       "    <tr style=\"text-align: right;\">\n",
       "      <th></th>\n",
       "      <th>children</th>\n",
       "      <th>days_employed</th>\n",
       "      <th>dob_years</th>\n",
       "      <th>education</th>\n",
       "      <th>education_id</th>\n",
       "      <th>family_status</th>\n",
       "      <th>family_status_id</th>\n",
       "      <th>gender</th>\n",
       "      <th>income_type</th>\n",
       "      <th>debt</th>\n",
       "      <th>total_income</th>\n",
       "      <th>purpose</th>\n",
       "    </tr>\n",
       "  </thead>\n",
       "  <tbody>\n",
       "    <tr>\n",
       "      <th>0</th>\n",
       "      <td>1</td>\n",
       "      <td>-8437.673028</td>\n",
       "      <td>42</td>\n",
       "      <td>высшее</td>\n",
       "      <td>0</td>\n",
       "      <td>женат / замужем</td>\n",
       "      <td>0</td>\n",
       "      <td>F</td>\n",
       "      <td>сотрудник</td>\n",
       "      <td>0</td>\n",
       "      <td>253875.639453</td>\n",
       "      <td>покупка жилья</td>\n",
       "    </tr>\n",
       "    <tr>\n",
       "      <th>1</th>\n",
       "      <td>1</td>\n",
       "      <td>-4024.803754</td>\n",
       "      <td>36</td>\n",
       "      <td>среднее</td>\n",
       "      <td>1</td>\n",
       "      <td>женат / замужем</td>\n",
       "      <td>0</td>\n",
       "      <td>F</td>\n",
       "      <td>сотрудник</td>\n",
       "      <td>0</td>\n",
       "      <td>112080.014102</td>\n",
       "      <td>приобретение автомобиля</td>\n",
       "    </tr>\n",
       "    <tr>\n",
       "      <th>2</th>\n",
       "      <td>0</td>\n",
       "      <td>-5623.422610</td>\n",
       "      <td>33</td>\n",
       "      <td>Среднее</td>\n",
       "      <td>1</td>\n",
       "      <td>женат / замужем</td>\n",
       "      <td>0</td>\n",
       "      <td>M</td>\n",
       "      <td>сотрудник</td>\n",
       "      <td>0</td>\n",
       "      <td>145885.952297</td>\n",
       "      <td>покупка жилья</td>\n",
       "    </tr>\n",
       "    <tr>\n",
       "      <th>3</th>\n",
       "      <td>3</td>\n",
       "      <td>-4124.747207</td>\n",
       "      <td>32</td>\n",
       "      <td>среднее</td>\n",
       "      <td>1</td>\n",
       "      <td>женат / замужем</td>\n",
       "      <td>0</td>\n",
       "      <td>M</td>\n",
       "      <td>сотрудник</td>\n",
       "      <td>0</td>\n",
       "      <td>267628.550329</td>\n",
       "      <td>дополнительное образование</td>\n",
       "    </tr>\n",
       "    <tr>\n",
       "      <th>4</th>\n",
       "      <td>0</td>\n",
       "      <td>340266.072047</td>\n",
       "      <td>53</td>\n",
       "      <td>среднее</td>\n",
       "      <td>1</td>\n",
       "      <td>гражданский брак</td>\n",
       "      <td>1</td>\n",
       "      <td>F</td>\n",
       "      <td>пенсионер</td>\n",
       "      <td>0</td>\n",
       "      <td>158616.077870</td>\n",
       "      <td>сыграть свадьбу</td>\n",
       "    </tr>\n",
       "    <tr>\n",
       "      <th>5</th>\n",
       "      <td>0</td>\n",
       "      <td>-926.185831</td>\n",
       "      <td>27</td>\n",
       "      <td>высшее</td>\n",
       "      <td>0</td>\n",
       "      <td>гражданский брак</td>\n",
       "      <td>1</td>\n",
       "      <td>M</td>\n",
       "      <td>компаньон</td>\n",
       "      <td>0</td>\n",
       "      <td>255763.565419</td>\n",
       "      <td>покупка жилья</td>\n",
       "    </tr>\n",
       "    <tr>\n",
       "      <th>6</th>\n",
       "      <td>0</td>\n",
       "      <td>-2879.202052</td>\n",
       "      <td>43</td>\n",
       "      <td>высшее</td>\n",
       "      <td>0</td>\n",
       "      <td>женат / замужем</td>\n",
       "      <td>0</td>\n",
       "      <td>F</td>\n",
       "      <td>компаньон</td>\n",
       "      <td>0</td>\n",
       "      <td>240525.971920</td>\n",
       "      <td>операции с жильем</td>\n",
       "    </tr>\n",
       "    <tr>\n",
       "      <th>7</th>\n",
       "      <td>0</td>\n",
       "      <td>-152.779569</td>\n",
       "      <td>50</td>\n",
       "      <td>СРЕДНЕЕ</td>\n",
       "      <td>1</td>\n",
       "      <td>женат / замужем</td>\n",
       "      <td>0</td>\n",
       "      <td>M</td>\n",
       "      <td>сотрудник</td>\n",
       "      <td>0</td>\n",
       "      <td>135823.934197</td>\n",
       "      <td>образование</td>\n",
       "    </tr>\n",
       "    <tr>\n",
       "      <th>8</th>\n",
       "      <td>2</td>\n",
       "      <td>-6929.865299</td>\n",
       "      <td>35</td>\n",
       "      <td>ВЫСШЕЕ</td>\n",
       "      <td>0</td>\n",
       "      <td>гражданский брак</td>\n",
       "      <td>1</td>\n",
       "      <td>F</td>\n",
       "      <td>сотрудник</td>\n",
       "      <td>0</td>\n",
       "      <td>95856.832424</td>\n",
       "      <td>на проведение свадьбы</td>\n",
       "    </tr>\n",
       "    <tr>\n",
       "      <th>9</th>\n",
       "      <td>0</td>\n",
       "      <td>-2188.756445</td>\n",
       "      <td>41</td>\n",
       "      <td>среднее</td>\n",
       "      <td>1</td>\n",
       "      <td>женат / замужем</td>\n",
       "      <td>0</td>\n",
       "      <td>M</td>\n",
       "      <td>сотрудник</td>\n",
       "      <td>0</td>\n",
       "      <td>144425.938277</td>\n",
       "      <td>покупка жилья для семьи</td>\n",
       "    </tr>\n",
       "    <tr>\n",
       "      <th>10</th>\n",
       "      <td>2</td>\n",
       "      <td>-4171.483647</td>\n",
       "      <td>36</td>\n",
       "      <td>высшее</td>\n",
       "      <td>0</td>\n",
       "      <td>женат / замужем</td>\n",
       "      <td>0</td>\n",
       "      <td>M</td>\n",
       "      <td>компаньон</td>\n",
       "      <td>0</td>\n",
       "      <td>113943.491460</td>\n",
       "      <td>покупка недвижимости</td>\n",
       "    </tr>\n",
       "    <tr>\n",
       "      <th>11</th>\n",
       "      <td>0</td>\n",
       "      <td>-792.701887</td>\n",
       "      <td>40</td>\n",
       "      <td>среднее</td>\n",
       "      <td>1</td>\n",
       "      <td>женат / замужем</td>\n",
       "      <td>0</td>\n",
       "      <td>F</td>\n",
       "      <td>сотрудник</td>\n",
       "      <td>0</td>\n",
       "      <td>77069.234271</td>\n",
       "      <td>покупка коммерческой недвижимости</td>\n",
       "    </tr>\n",
       "    <tr>\n",
       "      <th>12</th>\n",
       "      <td>0</td>\n",
       "      <td>NaN</td>\n",
       "      <td>65</td>\n",
       "      <td>среднее</td>\n",
       "      <td>1</td>\n",
       "      <td>гражданский брак</td>\n",
       "      <td>1</td>\n",
       "      <td>M</td>\n",
       "      <td>пенсионер</td>\n",
       "      <td>0</td>\n",
       "      <td>NaN</td>\n",
       "      <td>сыграть свадьбу</td>\n",
       "    </tr>\n",
       "    <tr>\n",
       "      <th>13</th>\n",
       "      <td>0</td>\n",
       "      <td>-1846.641941</td>\n",
       "      <td>54</td>\n",
       "      <td>неоконченное высшее</td>\n",
       "      <td>2</td>\n",
       "      <td>женат / замужем</td>\n",
       "      <td>0</td>\n",
       "      <td>F</td>\n",
       "      <td>сотрудник</td>\n",
       "      <td>0</td>\n",
       "      <td>130458.228857</td>\n",
       "      <td>приобретение автомобиля</td>\n",
       "    </tr>\n",
       "    <tr>\n",
       "      <th>14</th>\n",
       "      <td>0</td>\n",
       "      <td>-1844.956182</td>\n",
       "      <td>56</td>\n",
       "      <td>высшее</td>\n",
       "      <td>0</td>\n",
       "      <td>гражданский брак</td>\n",
       "      <td>1</td>\n",
       "      <td>F</td>\n",
       "      <td>компаньон</td>\n",
       "      <td>1</td>\n",
       "      <td>165127.911772</td>\n",
       "      <td>покупка жилой недвижимости</td>\n",
       "    </tr>\n",
       "    <tr>\n",
       "      <th>15</th>\n",
       "      <td>1</td>\n",
       "      <td>-972.364419</td>\n",
       "      <td>26</td>\n",
       "      <td>среднее</td>\n",
       "      <td>1</td>\n",
       "      <td>женат / замужем</td>\n",
       "      <td>0</td>\n",
       "      <td>F</td>\n",
       "      <td>сотрудник</td>\n",
       "      <td>0</td>\n",
       "      <td>116820.904450</td>\n",
       "      <td>строительство собственной недвижимости</td>\n",
       "    </tr>\n",
       "    <tr>\n",
       "      <th>16</th>\n",
       "      <td>0</td>\n",
       "      <td>-1719.934226</td>\n",
       "      <td>35</td>\n",
       "      <td>среднее</td>\n",
       "      <td>1</td>\n",
       "      <td>женат / замужем</td>\n",
       "      <td>0</td>\n",
       "      <td>F</td>\n",
       "      <td>сотрудник</td>\n",
       "      <td>0</td>\n",
       "      <td>289202.704229</td>\n",
       "      <td>недвижимость</td>\n",
       "    </tr>\n",
       "    <tr>\n",
       "      <th>17</th>\n",
       "      <td>0</td>\n",
       "      <td>-2369.999720</td>\n",
       "      <td>33</td>\n",
       "      <td>высшее</td>\n",
       "      <td>0</td>\n",
       "      <td>гражданский брак</td>\n",
       "      <td>1</td>\n",
       "      <td>M</td>\n",
       "      <td>сотрудник</td>\n",
       "      <td>0</td>\n",
       "      <td>90410.586745</td>\n",
       "      <td>строительство недвижимости</td>\n",
       "    </tr>\n",
       "    <tr>\n",
       "      <th>18</th>\n",
       "      <td>0</td>\n",
       "      <td>400281.136913</td>\n",
       "      <td>53</td>\n",
       "      <td>среднее</td>\n",
       "      <td>1</td>\n",
       "      <td>вдовец / вдова</td>\n",
       "      <td>2</td>\n",
       "      <td>F</td>\n",
       "      <td>пенсионер</td>\n",
       "      <td>0</td>\n",
       "      <td>56823.777243</td>\n",
       "      <td>на покупку подержанного автомобиля</td>\n",
       "    </tr>\n",
       "    <tr>\n",
       "      <th>19</th>\n",
       "      <td>0</td>\n",
       "      <td>-10038.818549</td>\n",
       "      <td>48</td>\n",
       "      <td>СРЕДНЕЕ</td>\n",
       "      <td>1</td>\n",
       "      <td>в разводе</td>\n",
       "      <td>3</td>\n",
       "      <td>F</td>\n",
       "      <td>сотрудник</td>\n",
       "      <td>0</td>\n",
       "      <td>242831.107982</td>\n",
       "      <td>на покупку своего автомобиля</td>\n",
       "    </tr>\n",
       "  </tbody>\n",
       "</table>\n",
       "</div>"
      ],
      "text/plain": [
       "    children  days_employed  dob_years            education  education_id  \\\n",
       "0          1   -8437.673028         42               высшее             0   \n",
       "1          1   -4024.803754         36              среднее             1   \n",
       "2          0   -5623.422610         33              Среднее             1   \n",
       "3          3   -4124.747207         32              среднее             1   \n",
       "4          0  340266.072047         53              среднее             1   \n",
       "5          0    -926.185831         27               высшее             0   \n",
       "6          0   -2879.202052         43               высшее             0   \n",
       "7          0    -152.779569         50              СРЕДНЕЕ             1   \n",
       "8          2   -6929.865299         35               ВЫСШЕЕ             0   \n",
       "9          0   -2188.756445         41              среднее             1   \n",
       "10         2   -4171.483647         36               высшее             0   \n",
       "11         0    -792.701887         40              среднее             1   \n",
       "12         0            NaN         65              среднее             1   \n",
       "13         0   -1846.641941         54  неоконченное высшее             2   \n",
       "14         0   -1844.956182         56               высшее             0   \n",
       "15         1    -972.364419         26              среднее             1   \n",
       "16         0   -1719.934226         35              среднее             1   \n",
       "17         0   -2369.999720         33               высшее             0   \n",
       "18         0  400281.136913         53              среднее             1   \n",
       "19         0  -10038.818549         48              СРЕДНЕЕ             1   \n",
       "\n",
       "       family_status  family_status_id gender income_type  debt  \\\n",
       "0    женат / замужем                 0      F   сотрудник     0   \n",
       "1    женат / замужем                 0      F   сотрудник     0   \n",
       "2    женат / замужем                 0      M   сотрудник     0   \n",
       "3    женат / замужем                 0      M   сотрудник     0   \n",
       "4   гражданский брак                 1      F   пенсионер     0   \n",
       "5   гражданский брак                 1      M   компаньон     0   \n",
       "6    женат / замужем                 0      F   компаньон     0   \n",
       "7    женат / замужем                 0      M   сотрудник     0   \n",
       "8   гражданский брак                 1      F   сотрудник     0   \n",
       "9    женат / замужем                 0      M   сотрудник     0   \n",
       "10   женат / замужем                 0      M   компаньон     0   \n",
       "11   женат / замужем                 0      F   сотрудник     0   \n",
       "12  гражданский брак                 1      M   пенсионер     0   \n",
       "13   женат / замужем                 0      F   сотрудник     0   \n",
       "14  гражданский брак                 1      F   компаньон     1   \n",
       "15   женат / замужем                 0      F   сотрудник     0   \n",
       "16   женат / замужем                 0      F   сотрудник     0   \n",
       "17  гражданский брак                 1      M   сотрудник     0   \n",
       "18    вдовец / вдова                 2      F   пенсионер     0   \n",
       "19         в разводе                 3      F   сотрудник     0   \n",
       "\n",
       "     total_income                                 purpose  \n",
       "0   253875.639453                           покупка жилья  \n",
       "1   112080.014102                 приобретение автомобиля  \n",
       "2   145885.952297                           покупка жилья  \n",
       "3   267628.550329              дополнительное образование  \n",
       "4   158616.077870                         сыграть свадьбу  \n",
       "5   255763.565419                           покупка жилья  \n",
       "6   240525.971920                       операции с жильем  \n",
       "7   135823.934197                             образование  \n",
       "8    95856.832424                   на проведение свадьбы  \n",
       "9   144425.938277                 покупка жилья для семьи  \n",
       "10  113943.491460                    покупка недвижимости  \n",
       "11   77069.234271       покупка коммерческой недвижимости  \n",
       "12            NaN                         сыграть свадьбу  \n",
       "13  130458.228857                 приобретение автомобиля  \n",
       "14  165127.911772              покупка жилой недвижимости  \n",
       "15  116820.904450  строительство собственной недвижимости  \n",
       "16  289202.704229                            недвижимость  \n",
       "17   90410.586745              строительство недвижимости  \n",
       "18   56823.777243      на покупку подержанного автомобиля  \n",
       "19  242831.107982            на покупку своего автомобиля  "
      ]
     },
     "metadata": {},
     "output_type": "display_data"
    }
   ],
   "source": [
    "if os.path.exists(PATH):\n",
    "    try:\n",
    "        data = pd.read_csv(PATH)\n",
    "    except:\n",
    "        print('Ошибка в считывании данных.')\n",
    "else:\n",
    "    print(f'Путь {PATH} не сущесвтует.')\n",
    "\n",
    "\n",
    "display(data.head(20))"
   ]
  },
  {
   "cell_type": "markdown",
   "id": "94a45ec3",
   "metadata": {
    "id": "1c12e233"
   },
   "source": [
    "Выведем основную информацию о датафрейме."
   ]
  },
  {
   "cell_type": "code",
   "execution_count": 3,
   "id": "76767794",
   "metadata": {
    "id": "2b757bca",
    "outputId": "15376089-8dad-46c9-b520-c05248d43158",
    "scrolled": false
   },
   "outputs": [
    {
     "name": "stdout",
     "output_type": "stream",
     "text": [
      "<class 'pandas.core.frame.DataFrame'>\n",
      "RangeIndex: 21525 entries, 0 to 21524\n",
      "Data columns (total 12 columns):\n",
      " #   Column            Non-Null Count  Dtype  \n",
      "---  ------            --------------  -----  \n",
      " 0   children          21525 non-null  int64  \n",
      " 1   days_employed     19351 non-null  float64\n",
      " 2   dob_years         21525 non-null  int64  \n",
      " 3   education         21525 non-null  object \n",
      " 4   education_id      21525 non-null  int64  \n",
      " 5   family_status     21525 non-null  object \n",
      " 6   family_status_id  21525 non-null  int64  \n",
      " 7   gender            21525 non-null  object \n",
      " 8   income_type       21525 non-null  object \n",
      " 9   debt              21525 non-null  int64  \n",
      " 10  total_income      19351 non-null  float64\n",
      " 11  purpose           21525 non-null  object \n",
      "dtypes: float64(2), int64(5), object(5)\n",
      "memory usage: 2.0+ MB\n"
     ]
    }
   ],
   "source": [
    "data.info()"
   ]
  },
  {
   "cell_type": "markdown",
   "id": "bfff59fb",
   "metadata": {},
   "source": [
    "Описание данных: \n",
    "\n",
    "- `children` — количество детей в семье\n",
    "- `days_employed` — общий трудовой стаж в днях\n",
    "- `dob_years` — возраст клиента в годах\n",
    "- `education` — уровень образования клиента\n",
    "- `education_id` — идентификатор уровня образования\n",
    "- `family_status` — семейное положение\n",
    "- `family_status_id` — идентификатор семейного положения\n",
    "- `gender` — пол клиента\n",
    "- `income_type` — тип занятости\n",
    "- `debt` — имел ли задолженность по возврату кредитов\n",
    "- `total_income` — ежемесячный доход\n",
    "- `purpose` — цель получения кредита"
   ]
  },
  {
   "cell_type": "markdown",
   "id": "7e46a4bb",
   "metadata": {
    "id": "333ec665"
   },
   "source": [
    "## Предобработка данных"
   ]
  },
  {
   "cell_type": "markdown",
   "id": "38a77ff4",
   "metadata": {
    "id": "02d92d53"
   },
   "source": [
    "### Удаление пропусков"
   ]
  },
  {
   "cell_type": "markdown",
   "id": "323b61b9",
   "metadata": {
    "id": "cd84967c"
   },
   "source": [
    "Выведем количество пропущенных значений для каждого столбца."
   ]
  },
  {
   "cell_type": "code",
   "execution_count": 4,
   "id": "3097448d",
   "metadata": {
    "id": "7f9b2309",
    "outputId": "81f4d817-781c-465c-ed15-91ce4446810d"
   },
   "outputs": [
    {
     "data": {
      "text/plain": [
       "children               0\n",
       "days_employed       2174\n",
       "dob_years              0\n",
       "education              0\n",
       "education_id           0\n",
       "family_status          0\n",
       "family_status_id       0\n",
       "gender                 0\n",
       "income_type            0\n",
       "debt                   0\n",
       "total_income        2174\n",
       "purpose                0\n",
       "dtype: int64"
      ]
     },
     "execution_count": 4,
     "metadata": {},
     "output_type": "execute_result"
    }
   ],
   "source": [
    "data.isna().sum()"
   ]
  },
  {
   "cell_type": "markdown",
   "id": "cda0aafc",
   "metadata": {
    "id": "db86e27b"
   },
   "source": [
    "В двух столбцах есть пропущенные значения, `total_income` и `days_employed`. Столбцом `days_employed` займёмся после обработки аномалий. `total_income` — хранит данные о доходах. На сумму дохода сильнее всего влияет тип занятости, поэтому заполним пропуски в этом столбце медианным значением по каждому типу из столбца `income_type`. "
   ]
  },
  {
   "cell_type": "code",
   "execution_count": 5,
   "id": "a45b8fe5",
   "metadata": {
    "id": "42006a93"
   },
   "outputs": [],
   "source": [
    "for t in data['income_type'].unique():\n",
    "    data.loc[(data['income_type'] == t) & (data['total_income'].isna()), 'total_income'] = \\\n",
    "    data.loc[(data['income_type'] == t), 'total_income'].median()"
   ]
  },
  {
   "cell_type": "markdown",
   "id": "9fe38219",
   "metadata": {
    "id": "89da5ece"
   },
   "source": [
    "### Обработка аномальных значений"
   ]
  },
  {
   "cell_type": "markdown",
   "id": "b9fe2671",
   "metadata": {
    "id": "57964554"
   },
   "source": [
    "Отрицательное количество дней трудового стажа в столбце `days_employed` является аномальным. Заменим все отрицательные значения положительными с помощью метода."
   ]
  },
  {
   "cell_type": "code",
   "execution_count": 6,
   "id": "b533a8e6",
   "metadata": {
    "id": "f6f055bf"
   },
   "outputs": [],
   "source": [
    "data['days_employed'] = data['days_employed'].abs()"
   ]
  },
  {
   "cell_type": "markdown",
   "id": "390e8821",
   "metadata": {
    "id": "6107dd2f"
   },
   "source": [
    "Для каждого типа занятости выведем медианное значение трудового стажа `days_employed` в днях."
   ]
  },
  {
   "cell_type": "code",
   "execution_count": 7,
   "id": "300c0ba2",
   "metadata": {
    "id": "85a5faf6",
    "outputId": "801ef80e-522b-4668-f34e-565af7432bcf"
   },
   "outputs": [
    {
     "data": {
      "text/plain": [
       "income_type\n",
       "безработный        366413.652744\n",
       "в декрете            3296.759962\n",
       "госслужащий          2689.368353\n",
       "компаньон            1547.382223\n",
       "пенсионер          365213.306266\n",
       "предприниматель       520.848083\n",
       "сотрудник            1574.202821\n",
       "студент               578.751554\n",
       "Name: days_employed, dtype: float64"
      ]
     },
     "execution_count": 7,
     "metadata": {},
     "output_type": "execute_result"
    }
   ],
   "source": [
    "data.groupby('income_type')['days_employed'].agg('median')"
   ]
  },
  {
   "cell_type": "markdown",
   "id": "6b35864a",
   "metadata": {
    "id": "38d1a030"
   },
   "source": [
    "У двух типов (безработные и пенсионеры) получатся аномально большие значения. Оставим их как есть, т.к. этот столбец не понадобится для исследования."
   ]
  },
  {
   "cell_type": "markdown",
   "id": "b21b1d57",
   "metadata": {
    "id": "d8a9f147"
   },
   "source": [
    "Выведем перечень уникальных значений столбца `children`."
   ]
  },
  {
   "cell_type": "code",
   "execution_count": 8,
   "id": "0da86382",
   "metadata": {
    "id": "ef5056eb",
    "outputId": "6975b15c-7f95-4697-d16d-a0c79b657b03"
   },
   "outputs": [
    {
     "data": {
      "text/plain": [
       "array([ 1,  0,  3,  2, -1,  4, 20,  5], dtype=int64)"
      ]
     },
     "execution_count": 8,
     "metadata": {},
     "output_type": "execute_result"
    }
   ],
   "source": [
    "data['children'].unique()"
   ]
  },
  {
   "cell_type": "markdown",
   "id": "ff387f1a",
   "metadata": {
    "id": "40b9ebf2"
   },
   "source": [
    "В столбце `children` есть два аномальных значения. Удалим строки, в которых встречаются такие аномальные значения из датафрейма `data`."
   ]
  },
  {
   "cell_type": "code",
   "execution_count": 9,
   "id": "9a0364ce",
   "metadata": {
    "id": "3ff9801d"
   },
   "outputs": [],
   "source": [
    "data = data[(data['children'] != -1) & (data['children'] != 20)]"
   ]
  },
  {
   "cell_type": "markdown",
   "id": "d89c2dd9",
   "metadata": {
    "id": "bbc4d0ce"
   },
   "source": [
    "Убедимся, что артефакты удалены."
   ]
  },
  {
   "cell_type": "code",
   "execution_count": 10,
   "id": "426ad657",
   "metadata": {
    "id": "ad4fa8b7",
    "outputId": "b2097101-d49d-44d9-901b-32a65c9463d1"
   },
   "outputs": [
    {
     "data": {
      "text/plain": [
       "array([1, 0, 3, 2, 4, 5], dtype=int64)"
      ]
     },
     "execution_count": 10,
     "metadata": {},
     "output_type": "execute_result"
    }
   ],
   "source": [
    "data['children'].unique()"
   ]
  },
  {
   "cell_type": "markdown",
   "id": "f1a84174",
   "metadata": {
    "id": "75440b63"
   },
   "source": [
    "### Удаление пропусков (продолжение)"
   ]
  },
  {
   "cell_type": "markdown",
   "id": "32a1d0ab",
   "metadata": {
    "id": "f4ea573f"
   },
   "source": [
    "Заполним пропуски в столбце `days_employed` медианными значениями по каждому типу занятости `income_type`."
   ]
  },
  {
   "cell_type": "code",
   "execution_count": 11,
   "id": "b08a3ad6",
   "metadata": {
    "id": "af6b1a7e"
   },
   "outputs": [],
   "source": [
    "for t in data['income_type'].unique():\n",
    "    data.loc[(data['income_type'] == t) & (data['days_employed'].isna()), 'days_employed'] = \\\n",
    "    data.loc[(data['income_type'] == t), 'days_employed'].median()"
   ]
  },
  {
   "cell_type": "markdown",
   "id": "97e5721f",
   "metadata": {
    "id": "2753f40d"
   },
   "source": [
    "Убедимся, что все пропуски заполнены. "
   ]
  },
  {
   "cell_type": "code",
   "execution_count": 12,
   "id": "0985077d",
   "metadata": {
    "id": "55f78bc2",
    "outputId": "8da1e4e1-358e-4e87-98c9-f261bce0a7b2"
   },
   "outputs": [
    {
     "data": {
      "text/plain": [
       "children            0\n",
       "days_employed       0\n",
       "dob_years           0\n",
       "education           0\n",
       "education_id        0\n",
       "family_status       0\n",
       "family_status_id    0\n",
       "gender              0\n",
       "income_type         0\n",
       "debt                0\n",
       "total_income        0\n",
       "purpose             0\n",
       "dtype: int64"
      ]
     },
     "execution_count": 12,
     "metadata": {},
     "output_type": "execute_result"
    }
   ],
   "source": [
    "data.isna().sum()"
   ]
  },
  {
   "cell_type": "markdown",
   "id": "ffcbd002",
   "metadata": {
    "id": "ddc81e43"
   },
   "source": [
    "### Изменение типов данных"
   ]
  },
  {
   "cell_type": "markdown",
   "id": "220a670b",
   "metadata": {
    "id": "42d19d24"
   },
   "source": [
    "Заменим вещественный тип данных в столбце `total_income` на целочисленный."
   ]
  },
  {
   "cell_type": "code",
   "execution_count": 13,
   "id": "a62cb9ef",
   "metadata": {
    "id": "920b65ad"
   },
   "outputs": [],
   "source": [
    "data['total_income'] = data['total_income'].astype(int)"
   ]
  },
  {
   "cell_type": "markdown",
   "id": "68db54a4",
   "metadata": {
    "id": "80c420ba"
   },
   "source": [
    "### Обработка дубликатов"
   ]
  },
  {
   "cell_type": "markdown",
   "id": "706ff28a",
   "metadata": {},
   "source": [
    "Обработаем неявные дубликаты в столбце `education`. В этом столбце есть одни и те же значения, но записанные по-разному: с использованием заглавных и строчных букв. Приведем их к нижнему регистру."
   ]
  },
  {
   "cell_type": "code",
   "execution_count": 14,
   "id": "09f39f19",
   "metadata": {},
   "outputs": [],
   "source": [
    "data['education'] = data['education'].str.lower()"
   ]
  },
  {
   "cell_type": "markdown",
   "id": "ab31070c",
   "metadata": {
    "id": "dc587695"
   },
   "source": [
    "Выведем на экран количество строк-дубликатов в данных. Если такие строки присутствуют, удалим их."
   ]
  },
  {
   "cell_type": "code",
   "execution_count": 15,
   "id": "d73943cf",
   "metadata": {
    "id": "3ee445e4",
    "outputId": "9684deba-1934-42d1-99e1-cda61740f822"
   },
   "outputs": [
    {
     "data": {
      "text/plain": [
       "71"
      ]
     },
     "execution_count": 15,
     "metadata": {},
     "output_type": "execute_result"
    }
   ],
   "source": [
    "data.duplicated().sum()"
   ]
  },
  {
   "cell_type": "code",
   "execution_count": 16,
   "id": "c46478b3",
   "metadata": {
    "id": "8575fe05"
   },
   "outputs": [],
   "source": [
    "data = data.drop_duplicates()"
   ]
  },
  {
   "cell_type": "markdown",
   "id": "d6bb67f8",
   "metadata": {
    "id": "9904cf55"
   },
   "source": [
    "### Категоризация данных"
   ]
  },
  {
   "cell_type": "markdown",
   "id": "5dc28a19",
   "metadata": {
    "id": "72fcc8a2"
   },
   "source": [
    "На основании диапазонов, указанных ниже, создадим в датафрейме `data` столбец `total_income_category` с категориями:\n",
    "\n",
    "- 0–30000 — `'E'`;\n",
    "- 30001–50000 — `'D'`;\n",
    "- 50001–200000 — `'C'`;\n",
    "- 200001–1000000 — `'B'`;\n",
    "- 1000001 и выше — `'A'`.\n",
    "\n",
    "Определим для этого новую функцию."
   ]
  },
  {
   "cell_type": "code",
   "execution_count": 17,
   "id": "7bd587f1",
   "metadata": {
    "id": "e1771346"
   },
   "outputs": [],
   "source": [
    "def categorize_income(income):\n",
    "    try:\n",
    "        if 0 <= income <= 30000:\n",
    "            return 'E'\n",
    "        elif 30001 <= income <= 50000:\n",
    "            return 'D'\n",
    "        elif 50001 <= income <= 200000:\n",
    "            return 'C'\n",
    "        elif 200001 <= income <= 1000000:\n",
    "            return 'B'\n",
    "        elif income >= 1000001:\n",
    "            return 'A'\n",
    "    except:\n",
    "        pass"
   ]
  },
  {
   "cell_type": "code",
   "execution_count": 18,
   "id": "861eb97c",
   "metadata": {
    "id": "d5f3586d"
   },
   "outputs": [],
   "source": [
    "data['total_income_category'] = data['total_income'].apply(categorize_income)"
   ]
  },
  {
   "cell_type": "markdown",
   "id": "c92cc718",
   "metadata": {
    "id": "dde49b5c"
   },
   "source": [
    "Выведем на экран перечень уникальных целей взятия кредита из столбца `purpose`."
   ]
  },
  {
   "cell_type": "code",
   "execution_count": 19,
   "id": "5b523a2e",
   "metadata": {
    "id": "f67ce9b3",
    "outputId": "673c12d9-7d7e-4ae0-9812-c622c89dd244"
   },
   "outputs": [
    {
     "data": {
      "text/plain": [
       "array(['покупка жилья', 'приобретение автомобиля',\n",
       "       'дополнительное образование', 'сыграть свадьбу',\n",
       "       'операции с жильем', 'образование', 'на проведение свадьбы',\n",
       "       'покупка жилья для семьи', 'покупка недвижимости',\n",
       "       'покупка коммерческой недвижимости', 'покупка жилой недвижимости',\n",
       "       'строительство собственной недвижимости', 'недвижимость',\n",
       "       'строительство недвижимости', 'на покупку подержанного автомобиля',\n",
       "       'на покупку своего автомобиля',\n",
       "       'операции с коммерческой недвижимостью',\n",
       "       'строительство жилой недвижимости', 'жилье',\n",
       "       'операции со своей недвижимостью', 'автомобили',\n",
       "       'заняться образованием', 'сделка с подержанным автомобилем',\n",
       "       'получение образования', 'автомобиль', 'свадьба',\n",
       "       'получение дополнительного образования', 'покупка своего жилья',\n",
       "       'операции с недвижимостью', 'получение высшего образования',\n",
       "       'свой автомобиль', 'сделка с автомобилем',\n",
       "       'профильное образование', 'высшее образование',\n",
       "       'покупка жилья для сдачи', 'на покупку автомобиля', 'ремонт жилью',\n",
       "       'заняться высшим образованием'], dtype=object)"
      ]
     },
     "execution_count": 19,
     "metadata": {},
     "output_type": "execute_result"
    }
   ],
   "source": [
    "data['purpose'].unique()"
   ]
  },
  {
   "cell_type": "markdown",
   "id": "dcfe0351",
   "metadata": {
    "id": "85d0aef0"
   },
   "source": [
    "Создадим функцию, которая на основании данных из столбца `purpose` сформирует новый столбец `purpose_category`, в который войдут следующие категории:**\n",
    "\n",
    "- `'операции с автомобилем'`,\n",
    "- `'операции с недвижимостью'`,\n",
    "- `'проведение свадьбы'`,\n",
    "- `'получение образования'`.\n",
    "\n",
    "Определим для этого новую функцию."
   ]
  },
  {
   "cell_type": "code",
   "execution_count": 20,
   "id": "d3aaa765",
   "metadata": {
    "id": "e149fab4"
   },
   "outputs": [],
   "source": [
    "def categorize_purpose(row):\n",
    "    try:\n",
    "        if 'автом' in row:\n",
    "            return 'операции с автомобилем'\n",
    "        elif 'жил' in row or 'недвиж' in row:\n",
    "            return 'операции с недвижимостью'\n",
    "        elif 'свад' in row:\n",
    "            return 'проведение свадьбы'\n",
    "        elif 'образов' in row:\n",
    "            return 'получение образования'\n",
    "    except:\n",
    "        return 'нет категории'"
   ]
  },
  {
   "cell_type": "code",
   "execution_count": 21,
   "id": "c0108de6",
   "metadata": {
    "id": "bf36e69b"
   },
   "outputs": [],
   "source": [
    "data['purpose_category'] = data['purpose'].apply(categorize_purpose)"
   ]
  },
  {
   "cell_type": "markdown",
   "id": "8dd1d728",
   "metadata": {
    "id": "09b242bf"
   },
   "source": [
    "## Исследование данныx"
   ]
  },
  {
   "cell_type": "markdown",
   "id": "ed622585",
   "metadata": {},
   "source": [
    "Исследуем данные и попробуем ответить на четыре вопроса:\n",
    " - есть ли зависимость между количеством детей и возвратом кредита в срок?\n",
    " - есть ли зависимость между семейным положением и возвратом кредита в срок?\n",
    " - есть ли зависимость между уровнем дохода и возвратом кредита в срок?\n",
    " - как разные цели кредита влияют на его возврат в срок?"
   ]
  },
  {
   "cell_type": "markdown",
   "id": "16965fb6",
   "metadata": {},
   "source": [
    "Определим функции для подсчетов и визуализации."
   ]
  },
  {
   "cell_type": "code",
   "execution_count": 22,
   "id": "3c3d7e81",
   "metadata": {},
   "outputs": [],
   "source": [
    "#функция для подсчёта клиентов по категориям из выбранного столбца\n",
    "def calculate_amount_of_clients_by_categories(data_frame, column_name):\n",
    "    \n",
    "    data = data_frame[[column_name, 'debt']].sort_values(column_name)\n",
    "    \n",
    "    categories = data[column_name].unique()\n",
    "    amount_of_clients_by_categories = []\n",
    "    \n",
    "    for category in categories:\n",
    "        amount_of_clients_by_categories.append(len(data.loc[data[column_name] == category]))\n",
    "    return pd.DataFrame({'category': categories, 'amount_of_clients':amount_of_clients_by_categories})\n",
    "\n",
    "#функция для отображения информаци о количестве клиентов по категориям в табличном виде и в виде столбчатой диаграммы\n",
    "def view_clients_amount_by_categories(info, title='', xlabel='', ylabel='', figsize=None):\n",
    "    print('Табличное представление:')\n",
    "    display(info)\n",
    "    print('Графическое представление:')\n",
    "    fig = plt.figure(figsize=figsize)\n",
    "    plt.bar(info['category'], info['amount_of_clients'])\n",
    "     \n",
    "    plt.title(title)\n",
    "    plt.xlabel(xlabel)\n",
    "    plt.ylabel(ylabel)\n",
    "    return\n",
    "\n",
    "#функция для подсчёта долей добросовестных клиентов и клиентов с задолженностью по категориям из выбранного столбца\n",
    "def calculate_share_of_debtors_by_category(data_frame, column_name):    \n",
    "    data = data_frame[[column_name, 'debt']].sort_values(column_name)    \n",
    "    categories = data[column_name].unique()\n",
    "    debtor_shares_number = []\n",
    "    not_debtor_shares_number = []\n",
    "\n",
    "    for category in categories:\n",
    "        clients_count = len(data.loc[(data[column_name] == category)])\n",
    "        debtors_count = len(data.loc[(data[column_name] == category) & (data['debt'] == 1)])\n",
    "        debtors_share = debtors_count/clients_count\n",
    "        debtor_shares_number.append(debtors_share)\n",
    "        not_debtor_shares_number.append(1 - debtors_share)\n",
    "    return pd.DataFrame({'category': categories, 'not_debtor': not_debtor_shares_number, 'debtor': debtor_shares_number})\n",
    "\n",
    "#функция для отображения информации о долях добросовестных клиентов и клиентов с задолженностью по категориям в виде хитмэпа\n",
    "def view_heatmap_debtors_shares_by_categories(info, title='', xlabel='', ylabel='', yticklabels='auto', sorting=False):\n",
    "    if sorting:\n",
    "        info = info.sort_values('debtor')\n",
    "        yticklabels = info['category']\n",
    "    ax = sns.heatmap(info[['not_debtor', 'debtor']], annot=True, fmt='.2%', cmap='RdYlGn', cbar=False, yticklabels=yticklabels)\n",
    "    ax.set_title(title)\n",
    "    ax.set_xlabel(xlabel)\n",
    "    ax.set_ylabel(ylabel)\n",
    "    return\n",
    "\n",
    "#функция для отображения информации о долях клиентов с задолженностью по категориям в виде стобчатой диаграммы\n",
    "def view_barplot_debtors_shares_by_categories(info, title='', xlabel='', ylabel='', figsize=None, sorting=False):\n",
    "    if sorting:\n",
    "        info = info.sort_values('debtor')\n",
    "    fig = plt.figure(figsize=figsize)\n",
    "    plt.bar(info['category'], list(map(lambda x: x*100, info['debtor'])), color='DarkRed')\n",
    " \n",
    "    plt.title(title)\n",
    "    plt.xlabel(xlabel)\n",
    "    plt.ylabel(ylabel)\n",
    "    return\n",
    "    \n",
    "    "
   ]
  },
  {
   "cell_type": "markdown",
   "id": "cfa3e047",
   "metadata": {
    "id": "c5d66278"
   },
   "source": [
    "### Поиск зависимости между количеством детей и возвратом кредита в срок"
   ]
  },
  {
   "cell_type": "markdown",
   "id": "1c33fea1",
   "metadata": {},
   "source": [
    "Просмотрим количество клиентов банка для каждого количества детей. Визуализируем данные для наглядности"
   ]
  },
  {
   "cell_type": "code",
   "execution_count": 23,
   "id": "4a6de33b",
   "metadata": {
    "scrolled": false
   },
   "outputs": [
    {
     "name": "stdout",
     "output_type": "stream",
     "text": [
      "Табличное представление:\n"
     ]
    },
    {
     "data": {
      "text/html": [
       "<div>\n",
       "<style scoped>\n",
       "    .dataframe tbody tr th:only-of-type {\n",
       "        vertical-align: middle;\n",
       "    }\n",
       "\n",
       "    .dataframe tbody tr th {\n",
       "        vertical-align: top;\n",
       "    }\n",
       "\n",
       "    .dataframe thead th {\n",
       "        text-align: right;\n",
       "    }\n",
       "</style>\n",
       "<table border=\"1\" class=\"dataframe\">\n",
       "  <thead>\n",
       "    <tr style=\"text-align: right;\">\n",
       "      <th></th>\n",
       "      <th>category</th>\n",
       "      <th>amount_of_clients</th>\n",
       "    </tr>\n",
       "  </thead>\n",
       "  <tbody>\n",
       "    <tr>\n",
       "      <th>0</th>\n",
       "      <td>0</td>\n",
       "      <td>14091</td>\n",
       "    </tr>\n",
       "    <tr>\n",
       "      <th>1</th>\n",
       "      <td>1</td>\n",
       "      <td>4808</td>\n",
       "    </tr>\n",
       "    <tr>\n",
       "      <th>2</th>\n",
       "      <td>2</td>\n",
       "      <td>2052</td>\n",
       "    </tr>\n",
       "    <tr>\n",
       "      <th>3</th>\n",
       "      <td>3</td>\n",
       "      <td>330</td>\n",
       "    </tr>\n",
       "    <tr>\n",
       "      <th>4</th>\n",
       "      <td>4</td>\n",
       "      <td>41</td>\n",
       "    </tr>\n",
       "    <tr>\n",
       "      <th>5</th>\n",
       "      <td>5</td>\n",
       "      <td>9</td>\n",
       "    </tr>\n",
       "  </tbody>\n",
       "</table>\n",
       "</div>"
      ],
      "text/plain": [
       "   category  amount_of_clients\n",
       "0         0              14091\n",
       "1         1               4808\n",
       "2         2               2052\n",
       "3         3                330\n",
       "4         4                 41\n",
       "5         5                  9"
      ]
     },
     "metadata": {},
     "output_type": "display_data"
    },
    {
     "name": "stdout",
     "output_type": "stream",
     "text": [
      "Графическое представление:\n"
     ]
    },
    {
     "data": {
      "image/png": "[encoded data removed]",
      "text/plain": [
       "<Figure size 432x288 with 1 Axes>"
      ]
     },
     "metadata": {
      "needs_background": "light"
     },
     "output_type": "display_data"
    }
   ],
   "source": [
    "info_about_amount_of_clients = calculate_amount_of_clients_by_categories(data, 'children')\n",
    "view_clients_amount_by_categories(info_about_amount_of_clients, title='График количества клиентов для каждого количества детей', xlabel='Количество детей', ylabel='Количество клиентов')"
   ]
  },
  {
   "cell_type": "markdown",
   "id": "9d470426",
   "metadata": {},
   "source": [
    "Рассчиатем доли должников по каждому количеству детей и визуализируем полученные данные."
   ]
  },
  {
   "cell_type": "code",
   "execution_count": 24,
   "id": "37cfcc03",
   "metadata": {
    "id": "2cacfc4a",
    "scrolled": false
   },
   "outputs": [
    {
     "data": {
      "image/png": "[encoded data removed]",
      "text/plain": [
       "<Figure size 432x288 with 1 Axes>"
      ]
     },
     "metadata": {
      "needs_background": "light"
     },
     "output_type": "display_data"
    },
    {
     "data": {
      "image/png": "[encoded data removed]",
      "text/plain": [
       "<Figure size 432x288 with 1 Axes>"
      ]
     },
     "metadata": {
      "needs_background": "light"
     },
     "output_type": "display_data"
    }
   ],
   "source": [
    "info_about_debtors = calculate_share_of_debtors_by_category(data, 'children')\n",
    "view_heatmap_debtors_shares_by_categories(info_about_debtors, title='Тепловая карта долей должников для каждого количества детей', xlabel='Доли клиентов', ylabel='Количество детей')\n",
    "view_barplot_debtors_shares_by_categories(info_about_debtors, title='График процента должников для каждого количества детей',xlabel='Количество детей', ylabel='Процент должников')"
   ]
  },
  {
   "cell_type": "markdown",
   "id": "4a0ea2a4",
   "metadata": {
    "id": "3a6b99ec"
   },
   "source": [
    "**Вывод:**\n",
    "\n",
    "Клиентов с четырьмя и пятью детьми сравнительно мало. Выводы на основании таких выборок могут быть неточны, поэтому принимать решения, основываясь на этих данных ненадёжно. Настоятельно рекомендуется отказаться от рассмотрения категории клиентов с пятью детьми.\n",
    "\n",
    "Если не принимать во внимание категорию клиентов с четырьмя детьми, то прямой зависимости добросовестности клиента от количества детей не наблюдается, так как с увеличением количества детей от нуля до двух количество должников растёт, но при этом падает для клиентов с тремя детьми.\n",
    "\n",
    "Если принять во внимание категорию клиентов с четырьмя детьми, то при выборе трёх соседних категорий (0-2 ребёнка, 1-3 ребёнка и 2-4 ребёнка) средняя доля должников всё же будет расти с увеличением количества детей.\n"
   ]
  },
  {
   "cell_type": "markdown",
   "id": "06431122",
   "metadata": {
    "id": "97be82ca"
   },
   "source": [
    "### Поиск зависимости между семейным положением и возвратом кредита в срок"
   ]
  },
  {
   "cell_type": "markdown",
   "id": "e7099ba8",
   "metadata": {},
   "source": [
    "**Просмотрим количество клиентов банка для каждого семейного положения. Визуализируем данные для наглядности**"
   ]
  },
  {
   "cell_type": "code",
   "execution_count": 25,
   "id": "4e93cf74",
   "metadata": {
    "id": "dc3f7ee8"
   },
   "outputs": [
    {
     "name": "stdout",
     "output_type": "stream",
     "text": [
      "Табличное представление:\n"
     ]
    },
    {
     "data": {
      "text/html": [
       "<div>\n",
       "<style scoped>\n",
       "    .dataframe tbody tr th:only-of-type {\n",
       "        vertical-align: middle;\n",
       "    }\n",
       "\n",
       "    .dataframe tbody tr th {\n",
       "        vertical-align: top;\n",
       "    }\n",
       "\n",
       "    .dataframe thead th {\n",
       "        text-align: right;\n",
       "    }\n",
       "</style>\n",
       "<table border=\"1\" class=\"dataframe\">\n",
       "  <thead>\n",
       "    <tr style=\"text-align: right;\">\n",
       "      <th></th>\n",
       "      <th>category</th>\n",
       "      <th>amount_of_clients</th>\n",
       "    </tr>\n",
       "  </thead>\n",
       "  <tbody>\n",
       "    <tr>\n",
       "      <th>0</th>\n",
       "      <td>Не женат / не замужем</td>\n",
       "      <td>2796</td>\n",
       "    </tr>\n",
       "    <tr>\n",
       "      <th>1</th>\n",
       "      <td>в разводе</td>\n",
       "      <td>1189</td>\n",
       "    </tr>\n",
       "    <tr>\n",
       "      <th>2</th>\n",
       "      <td>вдовец / вдова</td>\n",
       "      <td>951</td>\n",
       "    </tr>\n",
       "    <tr>\n",
       "      <th>3</th>\n",
       "      <td>гражданский брак</td>\n",
       "      <td>4134</td>\n",
       "    </tr>\n",
       "    <tr>\n",
       "      <th>4</th>\n",
       "      <td>женат / замужем</td>\n",
       "      <td>12261</td>\n",
       "    </tr>\n",
       "  </tbody>\n",
       "</table>\n",
       "</div>"
      ],
      "text/plain": [
       "                category  amount_of_clients\n",
       "0  Не женат / не замужем               2796\n",
       "1              в разводе               1189\n",
       "2         вдовец / вдова                951\n",
       "3       гражданский брак               4134\n",
       "4        женат / замужем              12261"
      ]
     },
     "metadata": {},
     "output_type": "display_data"
    },
    {
     "name": "stdout",
     "output_type": "stream",
     "text": [
      "Графическое представление:\n"
     ]
    },
    {
     "data": {
      "image/png": "[encoded data removed]",
      "text/plain": [
       "<Figure size 720x360 with 1 Axes>"
      ]
     },
     "metadata": {
      "needs_background": "light"
     },
     "output_type": "display_data"
    }
   ],
   "source": [
    "info_about_amount_of_clients = calculate_amount_of_clients_by_categories(data, 'family_status')\n",
    "view_clients_amount_by_categories(info_about_amount_of_clients, title='График количества клиентов для каждого семейного положения', xlabel='Семейное положение', ylabel='Количество клиентов', figsize=[10, 5])"
   ]
  },
  {
   "cell_type": "markdown",
   "id": "31b6a795",
   "metadata": {},
   "source": [
    "Рассчиатем доли должников по каждому семейному положению и визуализируем полученные данные"
   ]
  },
  {
   "cell_type": "code",
   "execution_count": 26,
   "id": "a4edda1b",
   "metadata": {},
   "outputs": [
    {
     "data": {
      "image/png": "[encoded data removed]",
      "text/plain": [
       "<Figure size 432x288 with 1 Axes>"
      ]
     },
     "metadata": {
      "needs_background": "light"
     },
     "output_type": "display_data"
    },
    {
     "data": {
      "image/png": "[encoded data removed]",
      "text/plain": [
       "<Figure size 1080x360 with 1 Axes>"
      ]
     },
     "metadata": {
      "needs_background": "light"
     },
     "output_type": "display_data"
    }
   ],
   "source": [
    "info_about_debtors = calculate_share_of_debtors_by_category(data, 'family_status')\n",
    "view_heatmap_debtors_shares_by_categories(info_about_debtors, title='Тепловая карта долей должников для каждого семейного положения', xlabel='Доли клиентов', ylabel='Семейное положение', yticklabels=info_about_debtors['category'], sorting=True)\n",
    "view_barplot_debtors_shares_by_categories(info_about_debtors, title='График процента должников для каждого семейного положения', xlabel='Семейное положение', ylabel='Процент должников', figsize=[15, 5], sorting=True)"
   ]
  },
  {
   "cell_type": "markdown",
   "id": "59b0e01f",
   "metadata": {
    "id": "1cef7837"
   },
   "source": [
    "**Вывод:** \n",
    "\n",
    "В результате исследования было выяснено, что самыми добросовестными клиентами являются вдовцы и вдовы, а самыми недобросовестными - неженатые люди. Так, последние становятся должниками в 1.5 раза чаще, чем первые. \n",
    "\n",
    "Построенные графики процентных долей должников для каждой категории семейного положения позволят ранжировать данные категории по надёжности для одобрения кредитов."
   ]
  },
  {
   "cell_type": "markdown",
   "id": "52d556be",
   "metadata": {
    "id": "1e8b2fca"
   },
   "source": [
    "### Поиск зависимости между уровнем дохода и возвратом кредита в срок"
   ]
  },
  {
   "cell_type": "markdown",
   "id": "66203159",
   "metadata": {},
   "source": [
    "Просмотрим количество клиентов банка для каждой категории уровня дохода. Визуализируем данные для наглядности."
   ]
  },
  {
   "cell_type": "code",
   "execution_count": 27,
   "id": "82c5f113",
   "metadata": {
    "id": "cd7e3720"
   },
   "outputs": [
    {
     "name": "stdout",
     "output_type": "stream",
     "text": [
      "Табличное представление:\n"
     ]
    },
    {
     "data": {
      "text/html": [
       "<div>\n",
       "<style scoped>\n",
       "    .dataframe tbody tr th:only-of-type {\n",
       "        vertical-align: middle;\n",
       "    }\n",
       "\n",
       "    .dataframe tbody tr th {\n",
       "        vertical-align: top;\n",
       "    }\n",
       "\n",
       "    .dataframe thead th {\n",
       "        text-align: right;\n",
       "    }\n",
       "</style>\n",
       "<table border=\"1\" class=\"dataframe\">\n",
       "  <thead>\n",
       "    <tr style=\"text-align: right;\">\n",
       "      <th></th>\n",
       "      <th>category</th>\n",
       "      <th>amount_of_clients</th>\n",
       "    </tr>\n",
       "  </thead>\n",
       "  <tbody>\n",
       "    <tr>\n",
       "      <th>0</th>\n",
       "      <td>A</td>\n",
       "      <td>25</td>\n",
       "    </tr>\n",
       "    <tr>\n",
       "      <th>1</th>\n",
       "      <td>B</td>\n",
       "      <td>5014</td>\n",
       "    </tr>\n",
       "    <tr>\n",
       "      <th>2</th>\n",
       "      <td>C</td>\n",
       "      <td>15921</td>\n",
       "    </tr>\n",
       "    <tr>\n",
       "      <th>3</th>\n",
       "      <td>D</td>\n",
       "      <td>349</td>\n",
       "    </tr>\n",
       "    <tr>\n",
       "      <th>4</th>\n",
       "      <td>E</td>\n",
       "      <td>22</td>\n",
       "    </tr>\n",
       "  </tbody>\n",
       "</table>\n",
       "</div>"
      ],
      "text/plain": [
       "  category  amount_of_clients\n",
       "0        A                 25\n",
       "1        B               5014\n",
       "2        C              15921\n",
       "3        D                349\n",
       "4        E                 22"
      ]
     },
     "metadata": {},
     "output_type": "display_data"
    },
    {
     "name": "stdout",
     "output_type": "stream",
     "text": [
      "Графическое представление:\n"
     ]
    },
    {
     "data": {
      "image/png": "[encoded data removed]",
      "text/plain": [
       "<Figure size 432x288 with 1 Axes>"
      ]
     },
     "metadata": {
      "needs_background": "light"
     },
     "output_type": "display_data"
    }
   ],
   "source": [
    "info_about_amount_of_clients = calculate_amount_of_clients_by_categories(data, 'total_income_category')\n",
    "view_clients_amount_by_categories(info_about_amount_of_clients, title='График количества клиентов для каждого уровня дохода', xlabel='Категория уровня дохода', ylabel='Количество клиентов')"
   ]
  },
  {
   "cell_type": "markdown",
   "id": "81cab302",
   "metadata": {},
   "source": [
    "Рассчиатем доли должников по каждой категории уровня дохода и визуализируем полученные данные."
   ]
  },
  {
   "cell_type": "code",
   "execution_count": 28,
   "id": "d19da72e",
   "metadata": {},
   "outputs": [
    {
     "data": {
      "image/png": "[encoded data removed]",
      "text/plain": [
       "<Figure size 432x288 with 1 Axes>"
      ]
     },
     "metadata": {
      "needs_background": "light"
     },
     "output_type": "display_data"
    },
    {
     "data": {
      "image/png": "[encoded data removed]",
      "text/plain": [
       "<Figure size 432x288 with 1 Axes>"
      ]
     },
     "metadata": {
      "needs_background": "light"
     },
     "output_type": "display_data"
    }
   ],
   "source": [
    "info_about_debtors = calculate_share_of_debtors_by_category(data, 'total_income_category')\n",
    "view_heatmap_debtors_shares_by_categories(info_about_debtors, title='Тепловая карта долей должников для каждого уровня дохода', xlabel='Доли клиентов', ylabel='Категория уровня дохода', yticklabels=info_about_debtors['category'])\n",
    "view_barplot_debtors_shares_by_categories(info_about_debtors, title='График процента должников для каждого уровня дохода', xlabel='Категория уровня дохода', ylabel='Процент должников')"
   ]
  },
  {
   "cell_type": "markdown",
   "id": "849b5306",
   "metadata": {
    "id": "e8593def"
   },
   "source": [
    "**Вывод:** \n",
    "\n",
    "\n",
    "В категориях заработка А и Е достаточно мало представителей, поэтому данные, полученные для данных категорий, могут быть недостоверными.\n",
    "\n",
    "Тем не менее построенные графики позволяют понять, что прямой зависимости между уровнем заработка клиента и его добросовестностью нет."
   ]
  },
  {
   "cell_type": "markdown",
   "id": "dd329d9d",
   "metadata": {
    "id": "99ecbd1f"
   },
   "source": [
    "### Влияние цели кредита на его возврат в срок"
   ]
  },
  {
   "cell_type": "markdown",
   "id": "8b04c924",
   "metadata": {},
   "source": [
    "Просмотрим количество клиентов банка для каждой категории цели кредита. Визуализируем данные для наглядности."
   ]
  },
  {
   "cell_type": "code",
   "execution_count": 29,
   "id": "8bf0d510",
   "metadata": {
    "id": "2b687290"
   },
   "outputs": [
    {
     "name": "stdout",
     "output_type": "stream",
     "text": [
      "Табличное представление:\n"
     ]
    },
    {
     "data": {
      "text/html": [
       "<div>\n",
       "<style scoped>\n",
       "    .dataframe tbody tr th:only-of-type {\n",
       "        vertical-align: middle;\n",
       "    }\n",
       "\n",
       "    .dataframe tbody tr th {\n",
       "        vertical-align: top;\n",
       "    }\n",
       "\n",
       "    .dataframe thead th {\n",
       "        text-align: right;\n",
       "    }\n",
       "</style>\n",
       "<table border=\"1\" class=\"dataframe\">\n",
       "  <thead>\n",
       "    <tr style=\"text-align: right;\">\n",
       "      <th></th>\n",
       "      <th>category</th>\n",
       "      <th>amount_of_clients</th>\n",
       "    </tr>\n",
       "  </thead>\n",
       "  <tbody>\n",
       "    <tr>\n",
       "      <th>0</th>\n",
       "      <td>операции с автомобилем</td>\n",
       "      <td>4279</td>\n",
       "    </tr>\n",
       "    <tr>\n",
       "      <th>1</th>\n",
       "      <td>операции с недвижимостью</td>\n",
       "      <td>10751</td>\n",
       "    </tr>\n",
       "    <tr>\n",
       "      <th>2</th>\n",
       "      <td>получение образования</td>\n",
       "      <td>3988</td>\n",
       "    </tr>\n",
       "    <tr>\n",
       "      <th>3</th>\n",
       "      <td>проведение свадьбы</td>\n",
       "      <td>2313</td>\n",
       "    </tr>\n",
       "  </tbody>\n",
       "</table>\n",
       "</div>"
      ],
      "text/plain": [
       "                   category  amount_of_clients\n",
       "0    операции с автомобилем               4279\n",
       "1  операции с недвижимостью              10751\n",
       "2     получение образования               3988\n",
       "3        проведение свадьбы               2313"
      ]
     },
     "metadata": {},
     "output_type": "display_data"
    },
    {
     "name": "stdout",
     "output_type": "stream",
     "text": [
      "Графическое представление:\n"
     ]
    },
    {
     "data": {
      "image/png": "[encoded data removed]",
      "text/plain": [
       "<Figure size 1080x360 with 1 Axes>"
      ]
     },
     "metadata": {
      "needs_background": "light"
     },
     "output_type": "display_data"
    }
   ],
   "source": [
    "info_about_amount_of_clients = calculate_amount_of_clients_by_categories(data, 'purpose_category')\n",
    "view_clients_amount_by_categories(info_about_amount_of_clients, title='График количества клиентов для каждой цели кредита', xlabel='Категория цели', ylabel='Количество клиентов', figsize=[15, 5])"
   ]
  },
  {
   "cell_type": "markdown",
   "id": "7d47639f",
   "metadata": {},
   "source": [
    "Рассчиатем доли должников по каждой категории цели кредита и визуализируем полученные данные."
   ]
  },
  {
   "cell_type": "code",
   "execution_count": 30,
   "id": "d13a64a9",
   "metadata": {},
   "outputs": [
    {
     "data": {
      "image/png": "[encoded data removed]",
      "text/plain": [
       "<Figure size 432x288 with 1 Axes>"
      ]
     },
     "metadata": {
      "needs_background": "light"
     },
     "output_type": "display_data"
    },
    {
     "data": {
      "image/png": "[encoded data removed]",
      "text/plain": [
       "<Figure size 1080x360 with 1 Axes>"
      ]
     },
     "metadata": {
      "needs_background": "light"
     },
     "output_type": "display_data"
    }
   ],
   "source": [
    "info_about_debtors = calculate_share_of_debtors_by_category(data, 'purpose_category')\n",
    "view_heatmap_debtors_shares_by_categories(info_about_debtors, title='Тепловая карта долей должников для каждой цели кредита', xlabel='Доли клиентов', ylabel='Категория цели', yticklabels=info_about_debtors['category'], sorting=True)\n",
    "view_barplot_debtors_shares_by_categories(info_about_debtors, title='График процента должников для каждой цели кредита', xlabel='Категория цели', ylabel='Процент должников', figsize=[15, 5], sorting=True)"
   ]
  },
  {
   "cell_type": "markdown",
   "id": "b9e5e82c",
   "metadata": {
    "id": "b4bb2ce6"
   },
   "source": [
    "**Вывод:** \n",
    "\n",
    "В результате исследования было выяснено, что самыми добросовестными являются клиенты, берущие кредит для операций с недвижимостью, а самыми недобросовестными - для операций с автомобилями. Так, последние становятся должниками на 1/6 чаще, чем первые. \n",
    "\n",
    "Построенные графики процентных долей должников для каждой категории цели кредита позволят ранжировать данные категории по надёжности для одобрения кредитов."
   ]
  },
  {
   "cell_type": "markdown",
   "id": "0408ed03",
   "metadata": {
    "id": "6db5255a"
   },
   "source": [
    "## Общий вывод."
   ]
  },
  {
   "cell_type": "markdown",
   "id": "5e201655",
   "metadata": {
    "id": "bad65432"
   },
   "source": [
    "- Если принять число клиентов с четырьмя детьми достаточным для репрезентативности данных, то можно считать, что с увеличением количества детей у клиентов вероятность того, что они станут должниками растёт. В противном случае явная звисимость вероятности становления должником от количества детей отсутствует.\n",
    "- Для каждой категории семейного положения были рассчитаны доли должников. На совновании полученных данных был построен ранжированный по увеличению вероятности становления должником список категорий семейного положения:\n",
    "    - вдовцы/вдовы, в разводе, женат/замужем, в гражданском браке, не женат/не замужем.\n",
    "- Зависимости вероятности становления должником от уровня дохода нет.\n",
    "- Для каждой категории цели кредита были рассчитаны доли должников. На совновании полученных данных был построен ранжированный по увеличению вероятности становления должником список категорий целей кредита:\n",
    "    - операции с недвижимостью, проведение свадьбы, получение образования, операции с автомобилем."
   ]
  }
 ],
 "metadata": {
  "ExecuteTimeLog": [
   {
    "duration": 54,
    "start_time": "2022-10-16T09:48:59.455Z"
   },
   {
    "duration": 500,
    "start_time": "2022-10-16T09:49:18.640Z"
   },
   {
    "duration": 24,
    "start_time": "2022-10-16T09:49:19.142Z"
   },
   {
    "duration": 17,
    "start_time": "2022-10-16T09:49:19.168Z"
   },
   {
    "duration": 10,
    "start_time": "2022-10-16T09:49:19.188Z"
   },
   {
    "duration": 57,
    "start_time": "2022-10-16T09:49:19.200Z"
   },
   {
    "duration": 4,
    "start_time": "2022-10-16T09:49:19.259Z"
   },
   {
    "duration": 9,
    "start_time": "2022-10-16T09:49:19.265Z"
   },
   {
    "duration": 5,
    "start_time": "2022-10-16T09:49:19.276Z"
   },
   {
    "duration": 7,
    "start_time": "2022-10-16T09:49:19.282Z"
   },
   {
    "duration": 5,
    "start_time": "2022-10-16T09:49:19.292Z"
   },
   {
    "duration": 64,
    "start_time": "2022-10-16T09:49:19.298Z"
   },
   {
    "duration": 10,
    "start_time": "2022-10-16T09:49:19.364Z"
   },
   {
    "duration": 7,
    "start_time": "2022-10-16T09:49:19.375Z"
   },
   {
    "duration": 13,
    "start_time": "2022-10-16T09:49:19.384Z"
   },
   {
    "duration": 40,
    "start_time": "2022-10-16T09:49:19.399Z"
   },
   {
    "duration": 16,
    "start_time": "2022-10-16T09:49:19.440Z"
   },
   {
    "duration": 3,
    "start_time": "2022-10-16T09:49:19.458Z"
   },
   {
    "duration": 11,
    "start_time": "2022-10-16T09:49:19.463Z"
   },
   {
    "duration": 7,
    "start_time": "2022-10-16T09:49:19.476Z"
   },
   {
    "duration": 4,
    "start_time": "2022-10-16T09:49:19.485Z"
   },
   {
    "duration": 11,
    "start_time": "2022-10-16T09:49:19.490Z"
   },
   {
    "duration": 93,
    "start_time": "2022-10-16T09:49:19.502Z"
   },
   {
    "duration": 0,
    "start_time": "2022-10-16T09:49:19.596Z"
   },
   {
    "duration": 0,
    "start_time": "2022-10-16T09:49:19.597Z"
   },
   {
    "duration": 0,
    "start_time": "2022-10-16T09:49:19.598Z"
   },
   {
    "duration": 9,
    "start_time": "2022-10-16T09:49:27.749Z"
   },
   {
    "duration": 9,
    "start_time": "2022-10-16T09:49:32.160Z"
   },
   {
    "duration": 4,
    "start_time": "2022-10-16T09:50:09.118Z"
   },
   {
    "duration": 6,
    "start_time": "2022-10-16T09:50:41.661Z"
   },
   {
    "duration": 6,
    "start_time": "2022-10-16T09:50:46.079Z"
   },
   {
    "duration": 5,
    "start_time": "2022-10-16T09:50:49.037Z"
   },
   {
    "duration": 8,
    "start_time": "2022-10-16T09:51:06.759Z"
   },
   {
    "duration": 61,
    "start_time": "2022-10-16T10:06:58.735Z"
   },
   {
    "duration": 978,
    "start_time": "2022-10-16T10:07:29.404Z"
   },
   {
    "duration": 25,
    "start_time": "2022-10-16T10:07:51.273Z"
   },
   {
    "duration": 36,
    "start_time": "2022-10-16T10:08:39.037Z"
   },
   {
    "duration": 34,
    "start_time": "2022-10-16T10:09:03.381Z"
   },
   {
    "duration": 4,
    "start_time": "2022-10-16T10:11:33.171Z"
   },
   {
    "duration": 18,
    "start_time": "2022-10-16T10:12:07.746Z"
   },
   {
    "duration": 7,
    "start_time": "2022-10-16T10:15:14.175Z"
   },
   {
    "duration": 958,
    "start_time": "2022-10-16T10:15:18.078Z"
   },
   {
    "duration": 328,
    "start_time": "2022-10-16T10:15:20.203Z"
   },
   {
    "duration": 59,
    "start_time": "2022-10-16T10:18:09.167Z"
   },
   {
    "duration": 20,
    "start_time": "2022-10-16T10:18:16.909Z"
   },
   {
    "duration": 18,
    "start_time": "2022-10-16T10:18:43.105Z"
   },
   {
    "duration": 18,
    "start_time": "2022-10-16T10:19:31.723Z"
   },
   {
    "duration": 237,
    "start_time": "2022-10-16T10:19:35.160Z"
   },
   {
    "duration": 320,
    "start_time": "2022-10-16T10:30:13.521Z"
   },
   {
    "duration": 53,
    "start_time": "2022-10-16T10:49:41.530Z"
   },
   {
    "duration": 293,
    "start_time": "2022-10-16T10:50:04.752Z"
   },
   {
    "duration": 249,
    "start_time": "2022-10-16T10:52:30.657Z"
   },
   {
    "duration": 8,
    "start_time": "2022-10-16T10:52:58.267Z"
   },
   {
    "duration": 9,
    "start_time": "2022-10-16T10:53:02.074Z"
   },
   {
    "duration": 51,
    "start_time": "2022-10-16T10:53:32.410Z"
   },
   {
    "duration": 197,
    "start_time": "2022-10-16T10:53:44.170Z"
   },
   {
    "duration": 219,
    "start_time": "2022-10-16T10:54:03.949Z"
   },
   {
    "duration": 311,
    "start_time": "2022-10-16T10:55:00.859Z"
   },
   {
    "duration": 20,
    "start_time": "2022-10-16T10:55:03.027Z"
   },
   {
    "duration": 233,
    "start_time": "2022-10-16T10:55:05.011Z"
   },
   {
    "duration": 14,
    "start_time": "2022-10-16T10:55:37.107Z"
   },
   {
    "duration": 30,
    "start_time": "2022-10-16T10:56:13.066Z"
   },
   {
    "duration": 21,
    "start_time": "2022-10-16T10:56:16.407Z"
   },
   {
    "duration": 39,
    "start_time": "2022-10-16T10:56:28.917Z"
   },
   {
    "duration": 28,
    "start_time": "2022-10-16T10:57:06.909Z"
   },
   {
    "duration": 36,
    "start_time": "2022-10-16T10:57:32.945Z"
   },
   {
    "duration": 25,
    "start_time": "2022-10-16T10:59:20.058Z"
   },
   {
    "duration": 187,
    "start_time": "2022-10-16T11:00:10.679Z"
   },
   {
    "duration": 171,
    "start_time": "2022-10-16T11:00:17.606Z"
   },
   {
    "duration": 221,
    "start_time": "2022-10-16T11:00:41.843Z"
   },
   {
    "duration": 225,
    "start_time": "2022-10-16T11:00:45.910Z"
   },
   {
    "duration": 22,
    "start_time": "2022-10-16T11:01:20.923Z"
   },
   {
    "duration": 20,
    "start_time": "2022-10-16T11:01:26.656Z"
   },
   {
    "duration": 19,
    "start_time": "2022-10-16T11:14:31.994Z"
   },
   {
    "duration": 18,
    "start_time": "2022-10-16T11:14:42.055Z"
   },
   {
    "duration": 234,
    "start_time": "2022-10-16T11:14:54.642Z"
   },
   {
    "duration": 26,
    "start_time": "2022-10-16T11:15:00.196Z"
   },
   {
    "duration": 171,
    "start_time": "2022-10-16T11:15:02.807Z"
   },
   {
    "duration": 176,
    "start_time": "2022-10-16T11:15:24.488Z"
   },
   {
    "duration": 20,
    "start_time": "2022-10-16T11:15:49.921Z"
   },
   {
    "duration": 13,
    "start_time": "2022-10-16T11:17:05.822Z"
   },
   {
    "duration": 12,
    "start_time": "2022-10-16T11:17:22.231Z"
   },
   {
    "duration": 19,
    "start_time": "2022-10-16T11:17:25.049Z"
   },
   {
    "duration": 11,
    "start_time": "2022-10-16T11:17:32.891Z"
   },
   {
    "duration": 220,
    "start_time": "2022-10-16T11:17:42.941Z"
   },
   {
    "duration": 18,
    "start_time": "2022-10-16T11:35:07.090Z"
   },
   {
    "duration": 245,
    "start_time": "2022-10-16T11:35:18.003Z"
   },
   {
    "duration": 19,
    "start_time": "2022-10-16T11:36:47.101Z"
   },
   {
    "duration": 228,
    "start_time": "2022-10-16T11:36:55.556Z"
   },
   {
    "duration": 19,
    "start_time": "2022-10-16T11:36:57.656Z"
   },
   {
    "duration": 309,
    "start_time": "2022-10-16T11:37:01.881Z"
   },
   {
    "duration": 86,
    "start_time": "2022-10-16T11:38:10.771Z"
   },
   {
    "duration": 30,
    "start_time": "2022-10-16T11:38:27.919Z"
   },
   {
    "duration": 18,
    "start_time": "2022-10-16T11:43:38.866Z"
   },
   {
    "duration": 13,
    "start_time": "2022-10-16T11:43:50.983Z"
   },
   {
    "duration": 12,
    "start_time": "2022-10-16T11:43:58.564Z"
   },
   {
    "duration": 14,
    "start_time": "2022-10-16T11:47:50.437Z"
   },
   {
    "duration": 15,
    "start_time": "2022-10-16T11:48:25.525Z"
   },
   {
    "duration": 21,
    "start_time": "2022-10-16T11:49:04.696Z"
   },
   {
    "duration": 19,
    "start_time": "2022-10-16T11:49:28.899Z"
   },
   {
    "duration": 22,
    "start_time": "2022-10-16T11:49:40.540Z"
   },
   {
    "duration": 160,
    "start_time": "2022-10-16T11:50:02.000Z"
   },
   {
    "duration": 234,
    "start_time": "2022-10-16T11:50:57.216Z"
   },
   {
    "duration": 24,
    "start_time": "2022-10-16T11:54:14.293Z"
   },
   {
    "duration": 27,
    "start_time": "2022-10-16T11:55:25.583Z"
   },
   {
    "duration": 237,
    "start_time": "2022-10-16T11:55:29.329Z"
   },
   {
    "duration": 17,
    "start_time": "2022-10-16T11:55:36.292Z"
   },
   {
    "duration": 43,
    "start_time": "2022-10-16T11:56:10.259Z"
   },
   {
    "duration": 220,
    "start_time": "2022-10-16T11:56:14.550Z"
   },
   {
    "duration": 263,
    "start_time": "2022-10-16T11:57:39.021Z"
   },
   {
    "duration": 213,
    "start_time": "2022-10-16T12:00:13.564Z"
   },
   {
    "duration": 223,
    "start_time": "2022-10-16T12:00:20.557Z"
   },
   {
    "duration": 20,
    "start_time": "2022-10-16T12:01:22.226Z"
   },
   {
    "duration": 17,
    "start_time": "2022-10-16T12:04:56.800Z"
   },
   {
    "duration": 17,
    "start_time": "2022-10-16T12:05:31.390Z"
   },
   {
    "duration": 10,
    "start_time": "2022-10-16T12:06:02.262Z"
   },
   {
    "duration": 209,
    "start_time": "2022-10-16T12:08:03.465Z"
   },
   {
    "duration": 196,
    "start_time": "2022-10-16T12:08:11.283Z"
   },
   {
    "duration": 216,
    "start_time": "2022-10-16T12:08:26.869Z"
   },
   {
    "duration": 180,
    "start_time": "2022-10-16T12:08:35.004Z"
   },
   {
    "duration": 285,
    "start_time": "2022-10-16T12:08:44.400Z"
   },
   {
    "duration": 245,
    "start_time": "2022-10-16T12:09:20.335Z"
   },
   {
    "duration": 3,
    "start_time": "2022-10-16T12:10:23.663Z"
   },
   {
    "duration": 126,
    "start_time": "2022-10-16T12:14:07.875Z"
   },
   {
    "duration": 163,
    "start_time": "2022-10-16T12:18:56.346Z"
   },
   {
    "duration": 9,
    "start_time": "2022-10-16T12:21:12.656Z"
   },
   {
    "duration": 13,
    "start_time": "2022-10-16T12:24:10.483Z"
   },
   {
    "duration": 124,
    "start_time": "2022-10-16T12:24:33.150Z"
   },
   {
    "duration": 123,
    "start_time": "2022-10-16T12:24:39.358Z"
   },
   {
    "duration": 153,
    "start_time": "2022-10-16T12:28:26.213Z"
   },
   {
    "duration": 122,
    "start_time": "2022-10-16T12:29:55.620Z"
   },
   {
    "duration": 141,
    "start_time": "2022-10-16T12:30:21.318Z"
   },
   {
    "duration": 132,
    "start_time": "2022-10-16T12:30:56.402Z"
   },
   {
    "duration": 162,
    "start_time": "2022-10-16T12:31:16.112Z"
   },
   {
    "duration": 187,
    "start_time": "2022-10-16T12:32:05.588Z"
   },
   {
    "duration": 16,
    "start_time": "2022-10-16T12:32:09.313Z"
   },
   {
    "duration": 366,
    "start_time": "2022-10-16T12:32:11.537Z"
   },
   {
    "duration": 11,
    "start_time": "2022-10-16T12:38:24.732Z"
   },
   {
    "duration": 13,
    "start_time": "2022-10-16T12:38:38.800Z"
   },
   {
    "duration": 11,
    "start_time": "2022-10-16T12:38:45.783Z"
   },
   {
    "duration": 78,
    "start_time": "2022-10-16T13:11:56.291Z"
   },
   {
    "duration": 23,
    "start_time": "2022-10-16T13:11:56.372Z"
   },
   {
    "duration": 31,
    "start_time": "2022-10-16T13:11:56.397Z"
   },
   {
    "duration": 15,
    "start_time": "2022-10-16T13:11:56.433Z"
   },
   {
    "duration": 38,
    "start_time": "2022-10-16T13:11:56.450Z"
   },
   {
    "duration": 3,
    "start_time": "2022-10-16T13:11:56.490Z"
   },
   {
    "duration": 10,
    "start_time": "2022-10-16T13:11:56.495Z"
   },
   {
    "duration": 29,
    "start_time": "2022-10-16T13:11:56.506Z"
   },
   {
    "duration": 6,
    "start_time": "2022-10-16T13:11:56.537Z"
   },
   {
    "duration": 6,
    "start_time": "2022-10-16T13:11:56.547Z"
   },
   {
    "duration": 40,
    "start_time": "2022-10-16T13:11:56.555Z"
   },
   {
    "duration": 10,
    "start_time": "2022-10-16T13:11:56.596Z"
   },
   {
    "duration": 27,
    "start_time": "2022-10-16T13:11:56.608Z"
   },
   {
    "duration": 13,
    "start_time": "2022-10-16T13:11:56.637Z"
   },
   {
    "duration": 22,
    "start_time": "2022-10-16T13:11:56.651Z"
   },
   {
    "duration": 18,
    "start_time": "2022-10-16T13:11:56.675Z"
   },
   {
    "duration": 4,
    "start_time": "2022-10-16T13:11:56.695Z"
   },
   {
    "duration": 35,
    "start_time": "2022-10-16T13:11:56.701Z"
   },
   {
    "duration": 7,
    "start_time": "2022-10-16T13:11:56.738Z"
   },
   {
    "duration": 5,
    "start_time": "2022-10-16T13:11:56.748Z"
   },
   {
    "duration": 13,
    "start_time": "2022-10-16T13:11:56.755Z"
   },
   {
    "duration": 5,
    "start_time": "2022-10-16T13:11:56.769Z"
   },
   {
    "duration": 20,
    "start_time": "2022-10-16T13:11:56.776Z"
   },
   {
    "duration": 166,
    "start_time": "2022-10-16T13:11:56.798Z"
   },
   {
    "duration": 17,
    "start_time": "2022-10-16T13:11:56.966Z"
   },
   {
    "duration": 218,
    "start_time": "2022-10-16T13:11:56.985Z"
   },
   {
    "duration": 2,
    "start_time": "2022-10-16T13:11:57.205Z"
   },
   {
    "duration": 15,
    "start_time": "2022-10-16T13:11:57.210Z"
   },
   {
    "duration": 2,
    "start_time": "2022-10-16T13:11:57.234Z"
   },
   {
    "duration": 132,
    "start_time": "2022-10-16T13:14:54.959Z"
   },
   {
    "duration": 17,
    "start_time": "2022-10-16T13:18:48.174Z"
   },
   {
    "duration": 22,
    "start_time": "2022-10-16T13:19:15.042Z"
   },
   {
    "duration": 123,
    "start_time": "2022-10-16T13:20:39.939Z"
   },
   {
    "duration": 12,
    "start_time": "2022-10-16T13:21:02.196Z"
   },
   {
    "duration": 127,
    "start_time": "2022-10-16T13:22:00.419Z"
   },
   {
    "duration": 26,
    "start_time": "2022-10-16T13:23:59.581Z"
   },
   {
    "duration": 26,
    "start_time": "2022-10-16T13:24:44.127Z"
   },
   {
    "duration": 15,
    "start_time": "2022-10-16T13:26:03.485Z"
   },
   {
    "duration": 194,
    "start_time": "2022-10-16T13:26:35.278Z"
   },
   {
    "duration": 155,
    "start_time": "2022-10-16T13:29:20.879Z"
   },
   {
    "duration": 147,
    "start_time": "2022-10-16T13:29:47.104Z"
   },
   {
    "duration": 60,
    "start_time": "2022-10-16T13:30:05.382Z"
   },
   {
    "duration": 15,
    "start_time": "2022-10-16T13:30:05.444Z"
   },
   {
    "duration": 18,
    "start_time": "2022-10-16T13:30:05.460Z"
   },
   {
    "duration": 9,
    "start_time": "2022-10-16T13:30:05.480Z"
   },
   {
    "duration": 48,
    "start_time": "2022-10-16T13:30:05.491Z"
   },
   {
    "duration": 3,
    "start_time": "2022-10-16T13:30:05.541Z"
   },
   {
    "duration": 12,
    "start_time": "2022-10-16T13:30:05.545Z"
   },
   {
    "duration": 8,
    "start_time": "2022-10-16T13:30:05.558Z"
   },
   {
    "duration": 6,
    "start_time": "2022-10-16T13:30:05.568Z"
   },
   {
    "duration": 4,
    "start_time": "2022-10-16T13:30:05.576Z"
   },
   {
    "duration": 56,
    "start_time": "2022-10-16T13:30:05.581Z"
   },
   {
    "duration": 9,
    "start_time": "2022-10-16T13:30:05.639Z"
   },
   {
    "duration": 7,
    "start_time": "2022-10-16T13:30:05.649Z"
   },
   {
    "duration": 16,
    "start_time": "2022-10-16T13:30:05.658Z"
   },
   {
    "duration": 21,
    "start_time": "2022-10-16T13:30:05.676Z"
   },
   {
    "duration": 16,
    "start_time": "2022-10-16T13:30:05.699Z"
   },
   {
    "duration": 17,
    "start_time": "2022-10-16T13:30:05.717Z"
   },
   {
    "duration": 14,
    "start_time": "2022-10-16T13:30:05.735Z"
   },
   {
    "duration": 5,
    "start_time": "2022-10-16T13:30:05.751Z"
   },
   {
    "duration": 9,
    "start_time": "2022-10-16T13:30:05.758Z"
   },
   {
    "duration": 15,
    "start_time": "2022-10-16T13:30:05.768Z"
   },
   {
    "duration": 3,
    "start_time": "2022-10-16T13:30:05.784Z"
   },
   {
    "duration": 16,
    "start_time": "2022-10-16T13:30:05.789Z"
   },
   {
    "duration": 171,
    "start_time": "2022-10-16T13:30:05.807Z"
   },
   {
    "duration": 15,
    "start_time": "2022-10-16T13:30:05.980Z"
   },
   {
    "duration": 200,
    "start_time": "2022-10-16T13:30:05.997Z"
   },
   {
    "duration": 194,
    "start_time": "2022-10-16T13:30:06.198Z"
   },
   {
    "duration": 38,
    "start_time": "2022-10-16T13:30:06.396Z"
   },
   {
    "duration": 147,
    "start_time": "2022-10-16T13:30:06.436Z"
   },
   {
    "duration": 27,
    "start_time": "2022-10-16T13:30:06.585Z"
   },
   {
    "duration": 273,
    "start_time": "2022-10-16T13:30:06.614Z"
   },
   {
    "duration": 2,
    "start_time": "2022-10-16T13:30:06.889Z"
   },
   {
    "duration": 10,
    "start_time": "2022-10-16T13:30:06.893Z"
   },
   {
    "duration": 267,
    "start_time": "2022-10-16T13:30:32.591Z"
   },
   {
    "duration": 63,
    "start_time": "2022-10-16T13:30:46.672Z"
   },
   {
    "duration": 15,
    "start_time": "2022-10-16T13:30:46.737Z"
   },
   {
    "duration": 16,
    "start_time": "2022-10-16T13:30:46.753Z"
   },
   {
    "duration": 9,
    "start_time": "2022-10-16T13:30:46.771Z"
   },
   {
    "duration": 51,
    "start_time": "2022-10-16T13:30:46.782Z"
   },
   {
    "duration": 4,
    "start_time": "2022-10-16T13:30:46.835Z"
   },
   {
    "duration": 11,
    "start_time": "2022-10-16T13:30:46.840Z"
   },
   {
    "duration": 5,
    "start_time": "2022-10-16T13:30:46.853Z"
   },
   {
    "duration": 6,
    "start_time": "2022-10-16T13:30:46.859Z"
   },
   {
    "duration": 5,
    "start_time": "2022-10-16T13:30:46.867Z"
   },
   {
    "duration": 34,
    "start_time": "2022-10-16T13:30:46.873Z"
   },
   {
    "duration": 32,
    "start_time": "2022-10-16T13:30:46.908Z"
   },
   {
    "duration": 3,
    "start_time": "2022-10-16T13:30:46.941Z"
   },
   {
    "duration": 12,
    "start_time": "2022-10-16T13:30:46.947Z"
   },
   {
    "duration": 16,
    "start_time": "2022-10-16T13:30:46.961Z"
   },
   {
    "duration": 15,
    "start_time": "2022-10-16T13:30:46.979Z"
   },
   {
    "duration": 3,
    "start_time": "2022-10-16T13:30:46.996Z"
   },
   {
    "duration": 38,
    "start_time": "2022-10-16T13:30:47.001Z"
   },
   {
    "duration": 5,
    "start_time": "2022-10-16T13:30:47.040Z"
   },
   {
    "duration": 4,
    "start_time": "2022-10-16T13:30:47.047Z"
   },
   {
    "duration": 15,
    "start_time": "2022-10-16T13:30:47.052Z"
   },
   {
    "duration": 2,
    "start_time": "2022-10-16T13:30:47.068Z"
   },
   {
    "duration": 17,
    "start_time": "2022-10-16T13:30:47.071Z"
   },
   {
    "duration": 148,
    "start_time": "2022-10-16T13:30:47.089Z"
   },
   {
    "duration": 16,
    "start_time": "2022-10-16T13:30:47.239Z"
   },
   {
    "duration": 238,
    "start_time": "2022-10-16T13:30:47.257Z"
   },
   {
    "duration": 201,
    "start_time": "2022-10-16T13:30:50.006Z"
   },
   {
    "duration": 107,
    "start_time": "2022-10-16T13:31:59.429Z"
   },
   {
    "duration": 57,
    "start_time": "2022-10-16T13:32:10.839Z"
   },
   {
    "duration": 48,
    "start_time": "2022-10-16T13:33:27.797Z"
   },
   {
    "duration": 41,
    "start_time": "2022-10-16T13:33:32.227Z"
   },
   {
    "duration": 131,
    "start_time": "2022-10-16T13:33:40.850Z"
   },
   {
    "duration": 127,
    "start_time": "2022-10-16T13:36:31.408Z"
   },
   {
    "duration": 114,
    "start_time": "2022-10-16T13:36:51.795Z"
   },
   {
    "duration": 122,
    "start_time": "2022-10-16T13:37:01.775Z"
   },
   {
    "duration": 120,
    "start_time": "2022-10-16T13:37:23.260Z"
   },
   {
    "duration": 115,
    "start_time": "2022-10-16T13:37:35.281Z"
   },
   {
    "duration": 249,
    "start_time": "2022-10-16T13:37:56.949Z"
   },
   {
    "duration": 125,
    "start_time": "2022-10-16T13:39:56.908Z"
   },
   {
    "duration": 46,
    "start_time": "2022-10-16T13:40:20.223Z"
   },
   {
    "duration": 118,
    "start_time": "2022-10-16T13:40:25.544Z"
   },
   {
    "duration": 120,
    "start_time": "2022-10-16T13:40:30.554Z"
   },
   {
    "duration": 130,
    "start_time": "2022-10-16T13:40:48.269Z"
   },
   {
    "duration": 60,
    "start_time": "2022-10-16T13:41:04.631Z"
   },
   {
    "duration": 14,
    "start_time": "2022-10-16T13:41:04.693Z"
   },
   {
    "duration": 33,
    "start_time": "2022-10-16T13:41:04.708Z"
   },
   {
    "duration": 15,
    "start_time": "2022-10-16T13:41:04.743Z"
   },
   {
    "duration": 55,
    "start_time": "2022-10-16T13:41:04.760Z"
   },
   {
    "duration": 3,
    "start_time": "2022-10-16T13:41:04.816Z"
   },
   {
    "duration": 31,
    "start_time": "2022-10-16T13:41:04.821Z"
   },
   {
    "duration": 21,
    "start_time": "2022-10-16T13:41:04.854Z"
   },
   {
    "duration": 17,
    "start_time": "2022-10-16T13:41:04.877Z"
   },
   {
    "duration": 12,
    "start_time": "2022-10-16T13:41:04.896Z"
   },
   {
    "duration": 59,
    "start_time": "2022-10-16T13:41:04.909Z"
   },
   {
    "duration": 10,
    "start_time": "2022-10-16T13:41:04.969Z"
   },
   {
    "duration": 11,
    "start_time": "2022-10-16T13:41:04.981Z"
   },
   {
    "duration": 27,
    "start_time": "2022-10-16T13:41:04.995Z"
   },
   {
    "duration": 25,
    "start_time": "2022-10-16T13:41:05.024Z"
   },
   {
    "duration": 20,
    "start_time": "2022-10-16T13:41:05.051Z"
   },
   {
    "duration": 14,
    "start_time": "2022-10-16T13:41:05.073Z"
   },
   {
    "duration": 24,
    "start_time": "2022-10-16T13:41:05.088Z"
   },
   {
    "duration": 14,
    "start_time": "2022-10-16T13:41:05.114Z"
   },
   {
    "duration": 6,
    "start_time": "2022-10-16T13:41:05.130Z"
   },
   {
    "duration": 15,
    "start_time": "2022-10-16T13:41:05.137Z"
   },
   {
    "duration": 2,
    "start_time": "2022-10-16T13:41:05.154Z"
   },
   {
    "duration": 18,
    "start_time": "2022-10-16T13:41:05.158Z"
   },
   {
    "duration": 138,
    "start_time": "2022-10-16T13:41:05.177Z"
   },
   {
    "duration": 21,
    "start_time": "2022-10-16T13:41:05.316Z"
   },
   {
    "duration": 263,
    "start_time": "2022-10-16T13:41:05.339Z"
   },
   {
    "duration": 253,
    "start_time": "2022-10-16T13:41:05.603Z"
   },
   {
    "duration": 21,
    "start_time": "2022-10-16T13:41:05.857Z"
   },
   {
    "duration": 139,
    "start_time": "2022-10-16T13:41:05.880Z"
   },
   {
    "duration": 38,
    "start_time": "2022-10-16T13:41:06.021Z"
   },
   {
    "duration": 254,
    "start_time": "2022-10-16T13:41:06.060Z"
   },
   {
    "duration": 160,
    "start_time": "2022-10-16T13:41:06.316Z"
   },
   {
    "duration": 3,
    "start_time": "2022-10-16T13:41:06.478Z"
   },
   {
    "duration": 8,
    "start_time": "2022-10-16T13:41:06.482Z"
   },
   {
    "duration": 139,
    "start_time": "2022-10-16T13:41:27.431Z"
   },
   {
    "duration": 45,
    "start_time": "2022-10-17T06:23:15.348Z"
   },
   {
    "duration": 4,
    "start_time": "2022-10-17T06:23:32.409Z"
   },
   {
    "duration": 6,
    "start_time": "2022-10-17T06:24:09.267Z"
   },
   {
    "duration": 663,
    "start_time": "2022-10-17T06:24:20.446Z"
   },
   {
    "duration": 22,
    "start_time": "2022-10-17T06:24:21.111Z"
   },
   {
    "duration": 16,
    "start_time": "2022-10-17T06:24:21.135Z"
   },
   {
    "duration": 10,
    "start_time": "2022-10-17T06:24:21.153Z"
   },
   {
    "duration": 48,
    "start_time": "2022-10-17T06:24:21.164Z"
   },
   {
    "duration": 4,
    "start_time": "2022-10-17T06:24:21.213Z"
   },
   {
    "duration": 11,
    "start_time": "2022-10-17T06:24:21.218Z"
   },
   {
    "duration": 4,
    "start_time": "2022-10-17T06:24:21.231Z"
   },
   {
    "duration": 10,
    "start_time": "2022-10-17T06:24:21.236Z"
   },
   {
    "duration": 5,
    "start_time": "2022-10-17T06:24:21.250Z"
   },
   {
    "duration": 62,
    "start_time": "2022-10-17T06:24:21.256Z"
   },
   {
    "duration": 9,
    "start_time": "2022-10-17T06:24:21.320Z"
   },
   {
    "duration": 14,
    "start_time": "2022-10-17T06:24:21.331Z"
   },
   {
    "duration": 14,
    "start_time": "2022-10-17T06:24:21.347Z"
   },
   {
    "duration": 27,
    "start_time": "2022-10-17T06:24:21.362Z"
   },
   {
    "duration": 20,
    "start_time": "2022-10-17T06:24:21.390Z"
   },
   {
    "duration": 8,
    "start_time": "2022-10-17T06:24:21.412Z"
   },
   {
    "duration": 20,
    "start_time": "2022-10-17T06:24:21.422Z"
   },
   {
    "duration": 27,
    "start_time": "2022-10-17T06:24:21.445Z"
   },
   {
    "duration": 7,
    "start_time": "2022-10-17T06:24:21.473Z"
   },
   {
    "duration": 18,
    "start_time": "2022-10-17T06:24:21.482Z"
   },
   {
    "duration": 922,
    "start_time": "2022-10-17T06:24:21.502Z"
   },
   {
    "duration": 18,
    "start_time": "2022-10-17T06:24:22.426Z"
   },
   {
    "duration": 207,
    "start_time": "2022-10-17T06:24:22.446Z"
   },
   {
    "duration": 19,
    "start_time": "2022-10-17T06:24:22.654Z"
   },
   {
    "duration": 322,
    "start_time": "2022-10-17T06:24:22.675Z"
   },
   {
    "duration": 134,
    "start_time": "2022-10-17T06:24:22.998Z"
   },
   {
    "duration": 22,
    "start_time": "2022-10-17T06:24:23.135Z"
   },
   {
    "duration": 154,
    "start_time": "2022-10-17T06:24:23.159Z"
   },
   {
    "duration": 34,
    "start_time": "2022-10-17T06:24:23.314Z"
   },
   {
    "duration": 227,
    "start_time": "2022-10-17T06:24:23.349Z"
   },
   {
    "duration": 141,
    "start_time": "2022-10-17T06:24:23.595Z"
   },
   {
    "duration": 73,
    "start_time": "2022-10-17T06:24:23.737Z"
   },
   {
    "duration": 0,
    "start_time": "2022-10-17T06:24:23.814Z"
   },
   {
    "duration": 2060,
    "start_time": "2022-10-17T06:24:44.327Z"
   },
   {
    "duration": 1361,
    "start_time": "2022-10-17T06:25:47.642Z"
   },
   {
    "duration": 1357,
    "start_time": "2022-10-17T06:26:16.019Z"
   },
   {
    "duration": 23,
    "start_time": "2022-10-17T06:26:45.471Z"
   },
   {
    "duration": 115,
    "start_time": "2022-10-17T06:27:41.703Z"
   },
   {
    "duration": 31,
    "start_time": "2022-10-17T06:29:45.204Z"
   },
   {
    "duration": 199,
    "start_time": "2022-10-17T06:30:05.953Z"
   },
   {
    "duration": 209,
    "start_time": "2022-10-17T06:31:07.919Z"
   },
   {
    "duration": 237,
    "start_time": "2022-10-17T06:39:17.887Z"
   },
   {
    "duration": 239,
    "start_time": "2022-10-17T06:39:41.085Z"
   },
   {
    "duration": 12,
    "start_time": "2022-10-17T06:40:06.163Z"
   },
   {
    "duration": 92,
    "start_time": "2022-10-17T06:40:56.303Z"
   },
   {
    "duration": 29,
    "start_time": "2022-10-17T06:41:04.843Z"
   },
   {
    "duration": 194,
    "start_time": "2022-10-17T06:41:07.942Z"
   },
   {
    "duration": 14,
    "start_time": "2022-10-17T06:43:29.056Z"
   },
   {
    "duration": 14,
    "start_time": "2022-10-17T06:43:47.823Z"
   },
   {
    "duration": 17,
    "start_time": "2022-10-17T06:44:00.368Z"
   },
   {
    "duration": 187,
    "start_time": "2022-10-17T06:46:05.754Z"
   },
   {
    "duration": 15,
    "start_time": "2022-10-17T06:48:00.711Z"
   },
   {
    "duration": 16,
    "start_time": "2022-10-17T06:48:36.036Z"
   },
   {
    "duration": 106,
    "start_time": "2022-10-17T06:49:56.172Z"
   },
   {
    "duration": 123,
    "start_time": "2022-10-17T06:50:11.466Z"
   },
   {
    "duration": 21,
    "start_time": "2022-10-17T06:50:20.651Z"
   },
   {
    "duration": 16,
    "start_time": "2022-10-17T06:51:57.342Z"
   },
   {
    "duration": 21,
    "start_time": "2022-10-17T06:52:35.802Z"
   },
   {
    "duration": 96,
    "start_time": "2022-10-17T06:52:51.852Z"
   },
   {
    "duration": 99,
    "start_time": "2022-10-17T06:52:55.865Z"
   },
   {
    "duration": 99,
    "start_time": "2022-10-17T06:53:04.646Z"
   },
   {
    "duration": 85,
    "start_time": "2022-10-17T06:53:13.602Z"
   },
   {
    "duration": 87,
    "start_time": "2022-10-17T06:53:17.177Z"
   },
   {
    "duration": 91,
    "start_time": "2022-10-17T06:53:20.368Z"
   },
   {
    "duration": 94,
    "start_time": "2022-10-17T06:53:25.456Z"
   },
   {
    "duration": 21,
    "start_time": "2022-10-17T06:53:32.374Z"
   },
   {
    "duration": 194,
    "start_time": "2022-10-17T06:53:41.048Z"
   },
   {
    "duration": 101,
    "start_time": "2022-10-17T06:55:26.266Z"
   },
   {
    "duration": 94,
    "start_time": "2022-10-17T06:56:25.635Z"
   },
   {
    "duration": 118,
    "start_time": "2022-10-17T06:56:37.785Z"
   },
   {
    "duration": 234,
    "start_time": "2022-10-17T06:57:58.422Z"
   },
   {
    "duration": 247,
    "start_time": "2022-10-17T06:59:12.766Z"
   },
   {
    "duration": 27,
    "start_time": "2022-10-17T06:59:17.216Z"
   },
   {
    "duration": 66,
    "start_time": "2022-10-17T06:59:48.424Z"
   },
   {
    "duration": 14,
    "start_time": "2022-10-17T06:59:48.492Z"
   },
   {
    "duration": 17,
    "start_time": "2022-10-17T06:59:48.507Z"
   },
   {
    "duration": 8,
    "start_time": "2022-10-17T06:59:48.526Z"
   },
   {
    "duration": 35,
    "start_time": "2022-10-17T06:59:48.537Z"
   },
   {
    "duration": 23,
    "start_time": "2022-10-17T06:59:48.573Z"
   },
   {
    "duration": 10,
    "start_time": "2022-10-17T06:59:48.597Z"
   },
   {
    "duration": 5,
    "start_time": "2022-10-17T06:59:48.609Z"
   },
   {
    "duration": 7,
    "start_time": "2022-10-17T06:59:48.615Z"
   },
   {
    "duration": 4,
    "start_time": "2022-10-17T06:59:48.623Z"
   },
   {
    "duration": 33,
    "start_time": "2022-10-17T06:59:48.629Z"
   },
   {
    "duration": 36,
    "start_time": "2022-10-17T06:59:48.663Z"
   },
   {
    "duration": 5,
    "start_time": "2022-10-17T06:59:48.701Z"
   },
   {
    "duration": 10,
    "start_time": "2022-10-17T06:59:48.709Z"
   },
   {
    "duration": 19,
    "start_time": "2022-10-17T06:59:48.720Z"
   },
   {
    "duration": 15,
    "start_time": "2022-10-17T06:59:48.741Z"
   },
   {
    "duration": 3,
    "start_time": "2022-10-17T06:59:48.758Z"
   },
   {
    "duration": 34,
    "start_time": "2022-10-17T06:59:48.762Z"
   },
   {
    "duration": 8,
    "start_time": "2022-10-17T06:59:48.797Z"
   },
   {
    "duration": 3,
    "start_time": "2022-10-17T06:59:48.806Z"
   },
   {
    "duration": 12,
    "start_time": "2022-10-17T06:59:48.811Z"
   },
   {
    "duration": 4,
    "start_time": "2022-10-17T06:59:48.825Z"
   },
   {
    "duration": 16,
    "start_time": "2022-10-17T06:59:48.831Z"
   },
   {
    "duration": 150,
    "start_time": "2022-10-17T06:59:48.849Z"
   },
   {
    "duration": 16,
    "start_time": "2022-10-17T06:59:49.000Z"
   },
   {
    "duration": 227,
    "start_time": "2022-10-17T06:59:49.018Z"
   },
   {
    "duration": 120,
    "start_time": "2022-10-17T06:59:49.246Z"
   },
   {
    "duration": 28,
    "start_time": "2022-10-17T06:59:49.368Z"
   },
   {
    "duration": 127,
    "start_time": "2022-10-17T06:59:49.397Z"
   },
   {
    "duration": 27,
    "start_time": "2022-10-17T06:59:49.525Z"
   },
   {
    "duration": 204,
    "start_time": "2022-10-17T06:59:49.554Z"
   },
   {
    "duration": 141,
    "start_time": "2022-10-17T06:59:49.760Z"
   },
   {
    "duration": 25,
    "start_time": "2022-10-17T06:59:49.902Z"
   },
   {
    "duration": 133,
    "start_time": "2022-10-17T06:59:49.928Z"
   },
   {
    "duration": 34,
    "start_time": "2022-10-17T06:59:50.062Z"
   },
   {
    "duration": 231,
    "start_time": "2022-10-17T06:59:50.097Z"
   },
   {
    "duration": 103,
    "start_time": "2022-10-17T06:59:50.330Z"
   },
   {
    "duration": 2,
    "start_time": "2022-10-17T06:59:50.435Z"
   },
   {
    "duration": 10,
    "start_time": "2022-10-17T11:26:04.608Z"
   },
   {
    "duration": 4,
    "start_time": "2022-10-17T11:26:13.535Z"
   },
   {
    "duration": 14,
    "start_time": "2022-10-17T11:26:16.610Z"
   },
   {
    "duration": 3,
    "start_time": "2022-10-17T11:26:39.638Z"
   },
   {
    "duration": 14,
    "start_time": "2022-10-17T11:26:42.020Z"
   },
   {
    "duration": 14,
    "start_time": "2022-10-17T11:27:05.387Z"
   },
   {
    "duration": 4,
    "start_time": "2022-10-17T11:27:32.590Z"
   },
   {
    "duration": 144,
    "start_time": "2022-10-17T11:27:34.948Z"
   },
   {
    "duration": 15,
    "start_time": "2022-10-17T11:37:12.091Z"
   },
   {
    "duration": 5,
    "start_time": "2022-10-17T11:37:17.860Z"
   },
   {
    "duration": 324,
    "start_time": "2022-10-17T11:37:21.421Z"
   },
   {
    "duration": 5,
    "start_time": "2022-10-17T11:37:39.304Z"
   },
   {
    "duration": 135,
    "start_time": "2022-10-17T11:37:42.720Z"
   },
   {
    "duration": 4,
    "start_time": "2022-10-17T11:45:20.957Z"
   },
   {
    "duration": 21,
    "start_time": "2022-10-17T11:45:25.732Z"
   },
   {
    "duration": 5,
    "start_time": "2022-10-17T11:46:34.430Z"
   },
   {
    "duration": 29,
    "start_time": "2022-10-17T11:46:46.527Z"
   },
   {
    "duration": 5,
    "start_time": "2022-10-17T11:47:43.345Z"
   },
   {
    "duration": 21,
    "start_time": "2022-10-17T11:47:47.365Z"
   },
   {
    "duration": 5,
    "start_time": "2022-10-17T11:48:20.716Z"
   },
   {
    "duration": 145,
    "start_time": "2022-10-17T11:48:35.327Z"
   },
   {
    "duration": 146,
    "start_time": "2022-10-17T11:48:48.906Z"
   },
   {
    "duration": 4,
    "start_time": "2022-10-17T11:48:57.864Z"
   },
   {
    "duration": 143,
    "start_time": "2022-10-17T11:49:03.417Z"
   },
   {
    "duration": 5,
    "start_time": "2022-10-17T11:52:37.479Z"
   },
   {
    "duration": 129,
    "start_time": "2022-10-17T11:52:41.160Z"
   },
   {
    "duration": 5,
    "start_time": "2022-10-17T11:53:07.289Z"
   },
   {
    "duration": 135,
    "start_time": "2022-10-17T11:53:10.581Z"
   },
   {
    "duration": 5,
    "start_time": "2022-10-17T11:59:25.440Z"
   },
   {
    "duration": 25,
    "start_time": "2022-10-17T12:09:51.914Z"
   },
   {
    "duration": 27,
    "start_time": "2022-10-17T12:10:13.413Z"
   },
   {
    "duration": 20,
    "start_time": "2022-10-17T12:10:29.589Z"
   },
   {
    "duration": 23,
    "start_time": "2022-10-17T12:10:33.133Z"
   },
   {
    "duration": 21,
    "start_time": "2022-10-17T12:10:50.946Z"
   },
   {
    "duration": 9,
    "start_time": "2022-10-17T12:25:10.158Z"
   },
   {
    "duration": 15,
    "start_time": "2022-10-17T12:25:15.891Z"
   },
   {
    "duration": 10,
    "start_time": "2022-10-17T12:25:19.805Z"
   },
   {
    "duration": 1432,
    "start_time": "2022-10-17T12:26:00.196Z"
   },
   {
    "duration": 391,
    "start_time": "2022-10-17T12:26:53.084Z"
   },
   {
    "duration": 25,
    "start_time": "2022-10-17T12:28:03.308Z"
   },
   {
    "duration": 9,
    "start_time": "2022-10-17T12:28:07.058Z"
   },
   {
    "duration": 343,
    "start_time": "2022-10-17T12:28:10.332Z"
   },
   {
    "duration": 156,
    "start_time": "2022-10-17T12:28:46.288Z"
   },
   {
    "duration": 153,
    "start_time": "2022-10-17T12:35:06.744Z"
   },
   {
    "duration": 366,
    "start_time": "2022-10-17T12:35:08.813Z"
   },
   {
    "duration": 9,
    "start_time": "2022-10-17T12:37:46.547Z"
   },
   {
    "duration": 345,
    "start_time": "2022-10-17T12:37:54.325Z"
   },
   {
    "duration": 384,
    "start_time": "2022-10-17T12:44:15.983Z"
   },
   {
    "duration": 12,
    "start_time": "2022-10-17T13:19:26.758Z"
   },
   {
    "duration": 327,
    "start_time": "2022-10-17T13:23:44.136Z"
   },
   {
    "duration": 79,
    "start_time": "2022-10-17T13:47:53.226Z"
   },
   {
    "duration": 8,
    "start_time": "2022-10-17T13:48:39.736Z"
   },
   {
    "duration": 146,
    "start_time": "2022-10-17T13:48:41.799Z"
   },
   {
    "duration": 342,
    "start_time": "2022-10-17T13:48:53.533Z"
   },
   {
    "duration": 12,
    "start_time": "2022-10-18T10:30:25.194Z"
   },
   {
    "duration": 51,
    "start_time": "2022-10-18T10:30:28.397Z"
   },
   {
    "duration": 6,
    "start_time": "2022-10-18T10:32:37.682Z"
   },
   {
    "duration": 747,
    "start_time": "2022-10-18T10:32:56.023Z"
   },
   {
    "duration": 21,
    "start_time": "2022-10-18T10:32:56.772Z"
   },
   {
    "duration": 23,
    "start_time": "2022-10-18T10:32:56.794Z"
   },
   {
    "duration": 15,
    "start_time": "2022-10-18T10:32:56.820Z"
   },
   {
    "duration": 30,
    "start_time": "2022-10-18T10:32:56.837Z"
   },
   {
    "duration": 4,
    "start_time": "2022-10-18T10:32:56.868Z"
   },
   {
    "duration": 10,
    "start_time": "2022-10-18T10:32:56.873Z"
   },
   {
    "duration": 4,
    "start_time": "2022-10-18T10:32:56.884Z"
   },
   {
    "duration": 24,
    "start_time": "2022-10-18T10:32:56.889Z"
   },
   {
    "duration": 6,
    "start_time": "2022-10-18T10:32:56.915Z"
   },
   {
    "duration": 39,
    "start_time": "2022-10-18T10:32:56.922Z"
   },
   {
    "duration": 9,
    "start_time": "2022-10-18T10:32:56.962Z"
   },
   {
    "duration": 8,
    "start_time": "2022-10-18T10:32:56.973Z"
   },
   {
    "duration": 20,
    "start_time": "2022-10-18T10:32:56.984Z"
   },
   {
    "duration": 44,
    "start_time": "2022-10-18T10:32:57.006Z"
   },
   {
    "duration": 15,
    "start_time": "2022-10-18T10:32:57.051Z"
   },
   {
    "duration": 3,
    "start_time": "2022-10-18T10:32:57.067Z"
   },
   {
    "duration": 13,
    "start_time": "2022-10-18T10:32:57.071Z"
   },
   {
    "duration": 5,
    "start_time": "2022-10-18T10:32:57.085Z"
   },
   {
    "duration": 3,
    "start_time": "2022-10-18T10:32:57.091Z"
   },
   {
    "duration": 11,
    "start_time": "2022-10-18T10:32:57.096Z"
   },
   {
    "duration": 989,
    "start_time": "2022-10-18T10:32:57.111Z"
   },
   {
    "duration": 12,
    "start_time": "2022-10-18T10:32:58.102Z"
   },
   {
    "duration": 169,
    "start_time": "2022-10-18T10:32:58.115Z"
   },
   {
    "duration": 390,
    "start_time": "2022-10-18T10:32:58.286Z"
   },
   {
    "duration": 154,
    "start_time": "2022-10-18T10:32:58.678Z"
   },
   {
    "duration": 1565,
    "start_time": "2022-10-18T10:32:58.834Z"
   },
   {
    "duration": 0,
    "start_time": "2022-10-18T10:33:00.401Z"
   },
   {
    "duration": 0,
    "start_time": "2022-10-18T10:33:00.401Z"
   },
   {
    "duration": 0,
    "start_time": "2022-10-18T10:33:00.402Z"
   },
   {
    "duration": 0,
    "start_time": "2022-10-18T10:33:00.403Z"
   },
   {
    "duration": 0,
    "start_time": "2022-10-18T10:33:00.404Z"
   },
   {
    "duration": 0,
    "start_time": "2022-10-18T10:33:00.406Z"
   },
   {
    "duration": 0,
    "start_time": "2022-10-18T10:33:00.407Z"
   },
   {
    "duration": 0,
    "start_time": "2022-10-18T10:33:00.408Z"
   },
   {
    "duration": 0,
    "start_time": "2022-10-18T10:33:00.409Z"
   },
   {
    "duration": 1484,
    "start_time": "2022-10-18T10:34:32.480Z"
   },
   {
    "duration": 365,
    "start_time": "2022-10-18T10:35:22.625Z"
   },
   {
    "duration": 384,
    "start_time": "2022-10-18T10:36:01.466Z"
   },
   {
    "duration": 73,
    "start_time": "2022-10-18T10:36:30.244Z"
   },
   {
    "duration": 17,
    "start_time": "2022-10-18T10:36:30.319Z"
   },
   {
    "duration": 19,
    "start_time": "2022-10-18T10:36:30.337Z"
   },
   {
    "duration": 20,
    "start_time": "2022-10-18T10:36:30.358Z"
   },
   {
    "duration": 48,
    "start_time": "2022-10-18T10:36:30.380Z"
   },
   {
    "duration": 6,
    "start_time": "2022-10-18T10:36:30.429Z"
   },
   {
    "duration": 28,
    "start_time": "2022-10-18T10:36:30.437Z"
   },
   {
    "duration": 17,
    "start_time": "2022-10-18T10:36:30.466Z"
   },
   {
    "duration": 27,
    "start_time": "2022-10-18T10:36:30.485Z"
   },
   {
    "duration": 29,
    "start_time": "2022-10-18T10:36:30.516Z"
   },
   {
    "duration": 47,
    "start_time": "2022-10-18T10:36:30.546Z"
   },
   {
    "duration": 8,
    "start_time": "2022-10-18T10:36:30.595Z"
   },
   {
    "duration": 36,
    "start_time": "2022-10-18T10:36:30.611Z"
   },
   {
    "duration": 24,
    "start_time": "2022-10-18T10:36:30.649Z"
   },
   {
    "duration": 48,
    "start_time": "2022-10-18T10:36:30.675Z"
   },
   {
    "duration": 29,
    "start_time": "2022-10-18T10:36:30.727Z"
   },
   {
    "duration": 3,
    "start_time": "2022-10-18T10:36:30.758Z"
   },
   {
    "duration": 20,
    "start_time": "2022-10-18T10:36:30.762Z"
   },
   {
    "duration": 19,
    "start_time": "2022-10-18T10:36:30.784Z"
   },
   {
    "duration": 30,
    "start_time": "2022-10-18T10:36:30.805Z"
   },
   {
    "duration": 13,
    "start_time": "2022-10-18T10:36:30.837Z"
   },
   {
    "duration": 12,
    "start_time": "2022-10-18T10:36:30.852Z"
   },
   {
    "duration": 9,
    "start_time": "2022-10-18T10:36:30.865Z"
   },
   {
    "duration": 157,
    "start_time": "2022-10-18T10:36:30.876Z"
   },
   {
    "duration": 343,
    "start_time": "2022-10-18T10:36:31.034Z"
   },
   {
    "duration": 210,
    "start_time": "2022-10-18T10:36:31.379Z"
   },
   {
    "duration": 377,
    "start_time": "2022-10-18T10:36:31.591Z"
   },
   {
    "duration": 22,
    "start_time": "2022-10-18T10:36:31.971Z"
   },
   {
    "duration": 129,
    "start_time": "2022-10-18T10:36:32.006Z"
   },
   {
    "duration": 12,
    "start_time": "2022-10-18T10:36:32.136Z"
   },
   {
    "duration": 0,
    "start_time": "2022-10-18T10:36:32.149Z"
   },
   {
    "duration": 0,
    "start_time": "2022-10-18T10:36:32.150Z"
   },
   {
    "duration": 0,
    "start_time": "2022-10-18T10:36:32.151Z"
   },
   {
    "duration": 14,
    "start_time": "2022-10-18T10:37:16.487Z"
   },
   {
    "duration": 159,
    "start_time": "2022-10-18T10:38:18.085Z"
   },
   {
    "duration": 138,
    "start_time": "2022-10-18T10:38:25.850Z"
   },
   {
    "duration": 339,
    "start_time": "2022-10-18T10:39:32.603Z"
   },
   {
    "duration": 128,
    "start_time": "2022-10-18T10:42:53.552Z"
   },
   {
    "duration": 170,
    "start_time": "2022-10-18T10:43:05.453Z"
   },
   {
    "duration": 197,
    "start_time": "2022-10-18T10:43:10.300Z"
   },
   {
    "duration": 405,
    "start_time": "2022-10-18T10:43:40.379Z"
   },
   {
    "duration": 8,
    "start_time": "2022-10-18T10:47:41.780Z"
   },
   {
    "duration": 354,
    "start_time": "2022-10-18T10:47:52.523Z"
   },
   {
    "duration": 94,
    "start_time": "2022-10-18T10:49:01.951Z"
   },
   {
    "duration": 11,
    "start_time": "2022-10-18T10:49:08.625Z"
   },
   {
    "duration": 444,
    "start_time": "2022-10-18T10:49:12.073Z"
   },
   {
    "duration": 87,
    "start_time": "2022-10-18T10:53:43.680Z"
   },
   {
    "duration": 279,
    "start_time": "2022-10-18T10:53:47.573Z"
   },
   {
    "duration": 9,
    "start_time": "2022-10-18T10:54:09.324Z"
   },
   {
    "duration": 323,
    "start_time": "2022-10-18T10:54:13.336Z"
   },
   {
    "duration": 360,
    "start_time": "2022-10-18T10:54:23.325Z"
   },
   {
    "duration": 395,
    "start_time": "2022-10-18T10:54:58.859Z"
   },
   {
    "duration": 279,
    "start_time": "2022-10-18T10:55:26.773Z"
   },
   {
    "duration": 33,
    "start_time": "2022-10-18T11:00:36.600Z"
   },
   {
    "duration": 394,
    "start_time": "2022-10-18T11:01:17.852Z"
   },
   {
    "duration": 349,
    "start_time": "2022-10-18T11:01:29.872Z"
   },
   {
    "duration": 303,
    "start_time": "2022-10-18T11:01:56.942Z"
   },
   {
    "duration": 9,
    "start_time": "2022-10-18T11:04:24.997Z"
   },
   {
    "duration": 346,
    "start_time": "2022-10-18T11:04:31.891Z"
   },
   {
    "duration": 415,
    "start_time": "2022-10-18T11:04:37.594Z"
   },
   {
    "duration": 344,
    "start_time": "2022-10-18T11:04:46.488Z"
   },
   {
    "duration": 353,
    "start_time": "2022-10-18T11:05:42.758Z"
   },
   {
    "duration": 353,
    "start_time": "2022-10-18T11:07:16.303Z"
   },
   {
    "duration": 394,
    "start_time": "2022-10-18T11:11:10.473Z"
   },
   {
    "duration": 6,
    "start_time": "2022-10-18T11:45:46.742Z"
   },
   {
    "duration": 67,
    "start_time": "2022-10-18T11:46:00.999Z"
   },
   {
    "duration": 15,
    "start_time": "2022-10-18T11:46:01.068Z"
   },
   {
    "duration": 20,
    "start_time": "2022-10-18T11:46:01.085Z"
   },
   {
    "duration": 5,
    "start_time": "2022-10-18T11:46:01.107Z"
   },
   {
    "duration": 20,
    "start_time": "2022-10-18T11:46:01.114Z"
   },
   {
    "duration": 32,
    "start_time": "2022-10-18T11:46:01.135Z"
   },
   {
    "duration": 3,
    "start_time": "2022-10-18T11:46:01.169Z"
   },
   {
    "duration": 12,
    "start_time": "2022-10-18T11:46:01.174Z"
   },
   {
    "duration": 20,
    "start_time": "2022-10-18T11:46:01.188Z"
   },
   {
    "duration": 11,
    "start_time": "2022-10-18T11:46:01.211Z"
   },
   {
    "duration": 6,
    "start_time": "2022-10-18T11:46:01.224Z"
   },
   {
    "duration": 33,
    "start_time": "2022-10-18T11:46:01.231Z"
   },
   {
    "duration": 10,
    "start_time": "2022-10-18T11:46:01.265Z"
   },
   {
    "duration": 14,
    "start_time": "2022-10-18T11:46:01.276Z"
   },
   {
    "duration": 28,
    "start_time": "2022-10-18T11:46:01.291Z"
   },
   {
    "duration": 22,
    "start_time": "2022-10-18T11:46:01.320Z"
   },
   {
    "duration": 16,
    "start_time": "2022-10-18T11:46:01.344Z"
   },
   {
    "duration": 4,
    "start_time": "2022-10-18T11:46:01.362Z"
   },
   {
    "duration": 38,
    "start_time": "2022-10-18T11:46:01.367Z"
   },
   {
    "duration": 20,
    "start_time": "2022-10-18T11:46:01.407Z"
   },
   {
    "duration": 20,
    "start_time": "2022-10-18T11:46:01.429Z"
   },
   {
    "duration": 14,
    "start_time": "2022-10-18T11:46:01.450Z"
   },
   {
    "duration": 35,
    "start_time": "2022-10-18T11:46:01.465Z"
   },
   {
    "duration": 20,
    "start_time": "2022-10-18T11:46:01.502Z"
   },
   {
    "duration": 136,
    "start_time": "2022-10-18T11:46:01.524Z"
   },
   {
    "duration": 334,
    "start_time": "2022-10-18T11:46:01.662Z"
   },
   {
    "duration": 148,
    "start_time": "2022-10-18T11:46:01.998Z"
   },
   {
    "duration": 420,
    "start_time": "2022-10-18T11:46:02.151Z"
   },
   {
    "duration": 139,
    "start_time": "2022-10-18T11:46:02.573Z"
   },
   {
    "duration": 318,
    "start_time": "2022-10-18T11:46:02.713Z"
   },
   {
    "duration": 142,
    "start_time": "2022-10-18T11:46:03.033Z"
   },
   {
    "duration": 385,
    "start_time": "2022-10-18T11:46:03.176Z"
   },
   {
    "duration": 6,
    "start_time": "2022-10-18T11:46:34.539Z"
   },
   {
    "duration": 9,
    "start_time": "2022-10-18T11:47:12.645Z"
   },
   {
    "duration": 11,
    "start_time": "2022-10-18T11:47:25.011Z"
   },
   {
    "duration": 64,
    "start_time": "2022-10-18T11:50:29.595Z"
   },
   {
    "duration": 15,
    "start_time": "2022-10-18T11:50:29.660Z"
   },
   {
    "duration": 15,
    "start_time": "2022-10-18T11:50:29.676Z"
   },
   {
    "duration": 8,
    "start_time": "2022-10-18T11:50:32.144Z"
   },
   {
    "duration": 9,
    "start_time": "2022-10-18T11:51:29.956Z"
   },
   {
    "duration": 11,
    "start_time": "2022-10-18T11:52:40.741Z"
   },
   {
    "duration": 15,
    "start_time": "2022-10-18T11:52:49.602Z"
   },
   {
    "duration": 63,
    "start_time": "2022-10-18T11:52:58.896Z"
   },
   {
    "duration": 6,
    "start_time": "2022-10-18T11:53:03.997Z"
   },
   {
    "duration": 4,
    "start_time": "2022-10-18T11:53:13.739Z"
   },
   {
    "duration": 1390,
    "start_time": "2022-10-18T11:58:47.192Z"
   },
   {
    "duration": 5,
    "start_time": "2022-10-18T11:58:59.368Z"
   },
   {
    "duration": 72,
    "start_time": "2022-10-18T11:59:24.960Z"
   },
   {
    "duration": 14,
    "start_time": "2022-10-18T11:59:25.035Z"
   },
   {
    "duration": 15,
    "start_time": "2022-10-18T11:59:25.051Z"
   },
   {
    "duration": 5,
    "start_time": "2022-10-18T11:59:25.069Z"
   },
   {
    "duration": 9,
    "start_time": "2022-10-18T11:59:25.075Z"
   },
   {
    "duration": 58,
    "start_time": "2022-10-18T11:59:25.086Z"
   },
   {
    "duration": 3,
    "start_time": "2022-10-18T11:59:25.145Z"
   },
   {
    "duration": 10,
    "start_time": "2022-10-18T11:59:25.149Z"
   },
   {
    "duration": 3,
    "start_time": "2022-10-18T11:59:25.161Z"
   },
   {
    "duration": 7,
    "start_time": "2022-10-18T11:59:25.166Z"
   },
   {
    "duration": 3,
    "start_time": "2022-10-18T11:59:25.174Z"
   },
   {
    "duration": 57,
    "start_time": "2022-10-18T11:59:25.179Z"
   },
   {
    "duration": 8,
    "start_time": "2022-10-18T11:59:25.238Z"
   },
   {
    "duration": 3,
    "start_time": "2022-10-18T11:59:25.247Z"
   },
   {
    "duration": 13,
    "start_time": "2022-10-18T11:59:25.251Z"
   },
   {
    "duration": 16,
    "start_time": "2022-10-18T11:59:25.265Z"
   },
   {
    "duration": 42,
    "start_time": "2022-10-18T11:59:25.283Z"
   },
   {
    "duration": 13,
    "start_time": "2022-10-18T11:59:25.326Z"
   },
   {
    "duration": 10,
    "start_time": "2022-10-18T11:59:25.341Z"
   },
   {
    "duration": 5,
    "start_time": "2022-10-18T11:59:25.352Z"
   },
   {
    "duration": 3,
    "start_time": "2022-10-18T11:59:25.358Z"
   },
   {
    "duration": 9,
    "start_time": "2022-10-18T11:59:25.363Z"
   },
   {
    "duration": 2,
    "start_time": "2022-10-18T11:59:25.373Z"
   },
   {
    "duration": 9,
    "start_time": "2022-10-18T11:59:25.376Z"
   },
   {
    "duration": 160,
    "start_time": "2022-10-18T11:59:25.386Z"
   },
   {
    "duration": 338,
    "start_time": "2022-10-18T11:59:25.547Z"
   },
   {
    "duration": 230,
    "start_time": "2022-10-18T11:59:25.886Z"
   },
   {
    "duration": 374,
    "start_time": "2022-10-18T11:59:26.119Z"
   },
   {
    "duration": 144,
    "start_time": "2022-10-18T11:59:26.494Z"
   },
   {
    "duration": 354,
    "start_time": "2022-10-18T11:59:26.641Z"
   },
   {
    "duration": 164,
    "start_time": "2022-10-18T11:59:26.997Z"
   },
   {
    "duration": 435,
    "start_time": "2022-10-18T11:59:27.163Z"
   },
   {
    "duration": 17,
    "start_time": "2022-10-18T11:59:55.664Z"
   },
   {
    "duration": 64,
    "start_time": "2022-10-18T12:00:15.735Z"
   },
   {
    "duration": 23,
    "start_time": "2022-10-18T12:00:15.800Z"
   },
   {
    "duration": 19,
    "start_time": "2022-10-18T12:00:15.824Z"
   },
   {
    "duration": 6,
    "start_time": "2022-10-18T12:00:18.566Z"
   },
   {
    "duration": 3,
    "start_time": "2022-10-18T12:01:43.592Z"
   },
   {
    "duration": 6,
    "start_time": "2022-10-18T12:01:55.649Z"
   },
   {
    "duration": 66,
    "start_time": "2022-10-18T12:02:23.914Z"
   },
   {
    "duration": 14,
    "start_time": "2022-10-18T12:02:23.982Z"
   },
   {
    "duration": 19,
    "start_time": "2022-10-18T12:02:23.997Z"
   },
   {
    "duration": 20,
    "start_time": "2022-10-18T12:02:24.018Z"
   },
   {
    "duration": 4,
    "start_time": "2022-10-18T12:03:03.451Z"
   },
   {
    "duration": 5,
    "start_time": "2022-10-18T12:03:20.145Z"
   },
   {
    "duration": 12,
    "start_time": "2022-10-18T12:03:34.331Z"
   },
   {
    "duration": 18,
    "start_time": "2022-10-18T12:06:05.924Z"
   },
   {
    "duration": 62,
    "start_time": "2022-10-18T13:25:55.049Z"
   },
   {
    "duration": 13,
    "start_time": "2022-10-18T13:25:55.113Z"
   },
   {
    "duration": 15,
    "start_time": "2022-10-18T13:25:55.127Z"
   },
   {
    "duration": 16,
    "start_time": "2022-10-18T13:25:55.143Z"
   },
   {
    "duration": 7,
    "start_time": "2022-10-18T13:25:55.161Z"
   },
   {
    "duration": 52,
    "start_time": "2022-10-18T13:25:55.170Z"
   },
   {
    "duration": 3,
    "start_time": "2022-10-18T13:25:55.223Z"
   },
   {
    "duration": 10,
    "start_time": "2022-10-18T13:25:55.227Z"
   },
   {
    "duration": 5,
    "start_time": "2022-10-18T13:25:55.239Z"
   },
   {
    "duration": 9,
    "start_time": "2022-10-18T13:25:55.245Z"
   },
   {
    "duration": 5,
    "start_time": "2022-10-18T13:25:55.255Z"
   },
   {
    "duration": 50,
    "start_time": "2022-10-18T13:25:55.261Z"
   },
   {
    "duration": 9,
    "start_time": "2022-10-18T13:25:55.312Z"
   },
   {
    "duration": 4,
    "start_time": "2022-10-18T13:25:55.324Z"
   },
   {
    "duration": 10,
    "start_time": "2022-10-18T13:25:55.329Z"
   },
   {
    "duration": 17,
    "start_time": "2022-10-18T13:25:55.341Z"
   },
   {
    "duration": 17,
    "start_time": "2022-10-18T13:25:55.359Z"
   },
   {
    "duration": 28,
    "start_time": "2022-10-18T13:25:55.377Z"
   },
   {
    "duration": 9,
    "start_time": "2022-10-18T13:25:55.406Z"
   },
   {
    "duration": 8,
    "start_time": "2022-10-18T13:25:55.416Z"
   },
   {
    "duration": 4,
    "start_time": "2022-10-18T13:25:55.425Z"
   },
   {
    "duration": 11,
    "start_time": "2022-10-18T13:25:55.430Z"
   },
   {
    "duration": 7,
    "start_time": "2022-10-18T13:25:55.442Z"
   },
   {
    "duration": 9,
    "start_time": "2022-10-18T13:25:55.450Z"
   },
   {
    "duration": 143,
    "start_time": "2022-10-18T13:25:55.462Z"
   },
   {
    "duration": 345,
    "start_time": "2022-10-18T13:25:55.606Z"
   },
   {
    "duration": 140,
    "start_time": "2022-10-18T13:25:55.953Z"
   },
   {
    "duration": 371,
    "start_time": "2022-10-18T13:25:56.094Z"
   },
   {
    "duration": 138,
    "start_time": "2022-10-18T13:25:56.467Z"
   },
   {
    "duration": 317,
    "start_time": "2022-10-18T13:25:56.607Z"
   },
   {
    "duration": 227,
    "start_time": "2022-10-18T13:25:56.926Z"
   },
   {
    "duration": 391,
    "start_time": "2022-10-18T13:25:57.155Z"
   },
   {
    "duration": 434,
    "start_time": "2022-10-18T13:58:04.061Z"
   },
   {
    "duration": 25,
    "start_time": "2022-10-18T13:58:04.497Z"
   },
   {
    "duration": 29,
    "start_time": "2022-10-18T13:58:04.524Z"
   },
   {
    "duration": 32,
    "start_time": "2022-10-18T13:58:04.555Z"
   },
   {
    "duration": 13,
    "start_time": "2022-10-18T13:58:04.589Z"
   },
   {
    "duration": 58,
    "start_time": "2022-10-18T13:58:04.604Z"
   },
   {
    "duration": 3,
    "start_time": "2022-10-18T13:58:04.664Z"
   },
   {
    "duration": 17,
    "start_time": "2022-10-18T13:58:04.669Z"
   },
   {
    "duration": 22,
    "start_time": "2022-10-18T13:58:04.688Z"
   },
   {
    "duration": 15,
    "start_time": "2022-10-18T13:58:04.713Z"
   },
   {
    "duration": 13,
    "start_time": "2022-10-18T13:58:04.730Z"
   },
   {
    "duration": 39,
    "start_time": "2022-10-18T13:58:04.745Z"
   },
   {
    "duration": 8,
    "start_time": "2022-10-18T13:58:04.785Z"
   },
   {
    "duration": 6,
    "start_time": "2022-10-18T13:58:04.795Z"
   },
   {
    "duration": 19,
    "start_time": "2022-10-18T13:58:04.802Z"
   },
   {
    "duration": 44,
    "start_time": "2022-10-18T13:58:04.822Z"
   },
   {
    "duration": 17,
    "start_time": "2022-10-18T13:58:04.868Z"
   },
   {
    "duration": 3,
    "start_time": "2022-10-18T13:58:04.886Z"
   },
   {
    "duration": 49,
    "start_time": "2022-10-18T13:58:04.890Z"
   },
   {
    "duration": 28,
    "start_time": "2022-10-18T13:58:04.941Z"
   },
   {
    "duration": 24,
    "start_time": "2022-10-18T13:58:04.970Z"
   },
   {
    "duration": 43,
    "start_time": "2022-10-18T13:58:04.996Z"
   },
   {
    "duration": 682,
    "start_time": "2022-10-18T13:58:05.040Z"
   },
   {
    "duration": 9,
    "start_time": "2022-10-18T13:58:05.724Z"
   },
   {
    "duration": 174,
    "start_time": "2022-10-18T13:58:05.734Z"
   },
   {
    "duration": 346,
    "start_time": "2022-10-18T13:58:05.910Z"
   },
   {
    "duration": 166,
    "start_time": "2022-10-18T13:58:06.260Z"
   },
   {
    "duration": 381,
    "start_time": "2022-10-18T13:58:06.430Z"
   },
   {
    "duration": 137,
    "start_time": "2022-10-18T13:58:06.813Z"
   },
   {
    "duration": 329,
    "start_time": "2022-10-18T13:58:06.952Z"
   },
   {
    "duration": 161,
    "start_time": "2022-10-18T13:58:07.283Z"
   },
   {
    "duration": 354,
    "start_time": "2022-10-18T13:58:07.446Z"
   },
   {
    "duration": 13,
    "start_time": "2022-10-18T14:15:35.103Z"
   },
   {
    "duration": 10,
    "start_time": "2022-10-18T14:15:40.976Z"
   },
   {
    "duration": 153,
    "start_time": "2022-10-18T14:15:42.963Z"
   },
   {
    "duration": 325,
    "start_time": "2022-10-18T14:17:29.468Z"
   },
   {
    "duration": 354,
    "start_time": "2022-10-18T14:18:26.501Z"
   },
   {
    "duration": 350,
    "start_time": "2022-10-18T14:18:52.431Z"
   },
   {
    "duration": 357,
    "start_time": "2022-10-18T14:18:55.913Z"
   },
   {
    "duration": 162,
    "start_time": "2022-10-18T14:20:06.119Z"
   },
   {
    "duration": 67,
    "start_time": "2022-10-18T14:22:38.973Z"
   },
   {
    "duration": 355,
    "start_time": "2022-10-18T14:22:56.698Z"
   },
   {
    "duration": 131,
    "start_time": "2022-10-18T14:25:00.817Z"
   },
   {
    "duration": 155,
    "start_time": "2022-10-18T14:25:07.817Z"
   },
   {
    "duration": 63,
    "start_time": "2022-10-18T15:13:01.344Z"
   },
   {
    "duration": 13,
    "start_time": "2022-10-18T15:13:01.409Z"
   },
   {
    "duration": 24,
    "start_time": "2022-10-18T15:13:01.423Z"
   },
   {
    "duration": 16,
    "start_time": "2022-10-18T15:13:01.449Z"
   },
   {
    "duration": 8,
    "start_time": "2022-10-18T15:13:01.466Z"
   },
   {
    "duration": 39,
    "start_time": "2022-10-18T15:13:01.475Z"
   },
   {
    "duration": 3,
    "start_time": "2022-10-18T15:13:01.515Z"
   },
   {
    "duration": 24,
    "start_time": "2022-10-18T15:13:01.519Z"
   },
   {
    "duration": 12,
    "start_time": "2022-10-18T15:13:01.545Z"
   },
   {
    "duration": 22,
    "start_time": "2022-10-18T15:13:01.559Z"
   },
   {
    "duration": 12,
    "start_time": "2022-10-18T15:13:01.583Z"
   },
   {
    "duration": 62,
    "start_time": "2022-10-18T15:13:01.597Z"
   },
   {
    "duration": 8,
    "start_time": "2022-10-18T15:13:01.660Z"
   },
   {
    "duration": 22,
    "start_time": "2022-10-18T15:13:01.669Z"
   },
   {
    "duration": 26,
    "start_time": "2022-10-18T15:13:01.692Z"
   },
   {
    "duration": 21,
    "start_time": "2022-10-18T15:13:01.719Z"
   },
   {
    "duration": 29,
    "start_time": "2022-10-18T15:13:01.741Z"
   },
   {
    "duration": 7,
    "start_time": "2022-10-18T15:13:01.771Z"
   },
   {
    "duration": 38,
    "start_time": "2022-10-18T15:13:01.779Z"
   },
   {
    "duration": 17,
    "start_time": "2022-10-18T15:13:01.818Z"
   },
   {
    "duration": 19,
    "start_time": "2022-10-18T15:13:01.836Z"
   },
   {
    "duration": 32,
    "start_time": "2022-10-18T15:13:01.857Z"
   },
   {
    "duration": 28,
    "start_time": "2022-10-18T15:13:01.891Z"
   },
   {
    "duration": 23,
    "start_time": "2022-10-18T15:13:01.921Z"
   },
   {
    "duration": 162,
    "start_time": "2022-10-18T15:13:01.945Z"
   },
   {
    "duration": 360,
    "start_time": "2022-10-18T15:13:02.108Z"
   },
   {
    "duration": 246,
    "start_time": "2022-10-18T15:13:02.469Z"
   },
   {
    "duration": 401,
    "start_time": "2022-10-18T15:13:02.718Z"
   },
   {
    "duration": 157,
    "start_time": "2022-10-18T15:13:03.121Z"
   },
   {
    "duration": 353,
    "start_time": "2022-10-18T15:13:03.279Z"
   },
   {
    "duration": 148,
    "start_time": "2022-10-18T15:13:03.633Z"
   },
   {
    "duration": 382,
    "start_time": "2022-10-18T15:13:03.783Z"
   }
  ],
  "colab": {
   "name": "dpp_template_part2.ipynb",
   "provenance": []
  },
  "kernelspec": {
   "display_name": "Python 3 (ipykernel)",
   "language": "python",
   "name": "python3"
  },
  "language_info": {
   "codemirror_mode": {
    "name": "ipython",
    "version": 3
   },
   "file_extension": ".py",
   "mimetype": "text/x-python",
   "name": "python",
   "nbconvert_exporter": "python",
   "pygments_lexer": "ipython3",
   "version": "3.9.12"
  },
  "toc": {
   "base_numbering": 1,
   "nav_menu": {},
   "number_sections": true,
   "sideBar": true,
   "skip_h1_title": true,
   "title_cell": "Table of Contents",
   "title_sidebar": "Contents",
   "toc_cell": false,
   "toc_position": {
    "height": "calc(100% - 180px)",
    "left": "10px",
    "top": "150px",
    "width": "307.2px"
   },
   "toc_section_display": true,
   "toc_window_display": true
  }
 },
 "nbformat": 4,
 "nbformat_minor": 5
}
