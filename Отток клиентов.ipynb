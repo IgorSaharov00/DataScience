{
 "cells": [
  {
   "cell_type": "markdown",
   "metadata": {
    "toc": true
   },
   "source": [
    "<h1>Содержание<span class=\"tocSkip\"></span></h1>\n",
    "<div class=\"toc\"><ul class=\"toc-item\"><li><span><a href=\"#Подключение-библиотек\" data-toc-modified-id=\"Подключение-библиотек-1\"><span class=\"toc-item-num\">1&nbsp;&nbsp;</span>Подключение библиотек</a></span></li><li><span><a href=\"#Подготовка-данных\" data-toc-modified-id=\"Подготовка-данных-2\"><span class=\"toc-item-num\">2&nbsp;&nbsp;</span>Подготовка данных</a></span><ul class=\"toc-item\"><li><span><a href=\"#Изучение-данных\" data-toc-modified-id=\"Изучение-данных-2.1\"><span class=\"toc-item-num\">2.1&nbsp;&nbsp;</span>Изучение данных</a></span><ul class=\"toc-item\"><li><span><a href=\"#Выводы\" data-toc-modified-id=\"Выводы-2.1.1\"><span class=\"toc-item-num\">2.1.1&nbsp;&nbsp;</span>Выводы</a></span></li></ul></li><li><span><a href=\"#Подготовка-данных\" data-toc-modified-id=\"Подготовка-данных-2.2\"><span class=\"toc-item-num\">2.2&nbsp;&nbsp;</span>Подготовка данных</a></span></li></ul></li><li><span><a href=\"#Исследование-задачи\" data-toc-modified-id=\"Исследование-задачи-3\"><span class=\"toc-item-num\">3&nbsp;&nbsp;</span>Исследование задачи</a></span><ul class=\"toc-item\"><li><span><a href=\"#Выбор-моделей\" data-toc-modified-id=\"Выбор-моделей-3.1\"><span class=\"toc-item-num\">3.1&nbsp;&nbsp;</span>Выбор моделей</a></span></li><li><span><a href=\"#Исследование-баланса-классов\" data-toc-modified-id=\"Исследование-баланса-классов-3.2\"><span class=\"toc-item-num\">3.2&nbsp;&nbsp;</span>Исследование баланса классов</a></span></li><li><span><a href=\"#Изучение-моделей-без-учёта-дисбаланса-классов\" data-toc-modified-id=\"Изучение-моделей-без-учёта-дисбаланса-классов-3.3\"><span class=\"toc-item-num\">3.3&nbsp;&nbsp;</span>Изучение моделей без учёта дисбаланса классов</a></span><ul class=\"toc-item\"><li><span><a href=\"#Решающее-дерево\" data-toc-modified-id=\"Решающее-дерево-3.3.1\"><span class=\"toc-item-num\">3.3.1&nbsp;&nbsp;</span>Решающее дерево</a></span></li><li><span><a href=\"#Случайный-лес\" data-toc-modified-id=\"Случайный-лес-3.3.2\"><span class=\"toc-item-num\">3.3.2&nbsp;&nbsp;</span>Случайный лес</a></span></li><li><span><a href=\"#Логистическая-регрессия\" data-toc-modified-id=\"Логистическая-регрессия-3.3.3\"><span class=\"toc-item-num\">3.3.3&nbsp;&nbsp;</span>Логистическая регрессия</a></span></li><li><span><a href=\"#Линейный-метод-опорных-векторов\" data-toc-modified-id=\"Линейный-метод-опорных-векторов-3.3.4\"><span class=\"toc-item-num\">3.3.4&nbsp;&nbsp;</span>Линейный метод опорных векторов</a></span></li></ul></li><li><span><a href=\"#Выводы\" data-toc-modified-id=\"Выводы-3.4\"><span class=\"toc-item-num\">3.4&nbsp;&nbsp;</span>Выводы</a></span></li></ul></li><li><span><a href=\"#Борьба-с-дисбалансом\" data-toc-modified-id=\"Борьба-с-дисбалансом-4\"><span class=\"toc-item-num\">4&nbsp;&nbsp;</span>Борьба с дисбалансом</a></span><ul class=\"toc-item\"><li><span><a href=\"#Downsampling\" data-toc-modified-id=\"Downsampling-4.1\"><span class=\"toc-item-num\">4.1&nbsp;&nbsp;</span>Downsampling</a></span><ul class=\"toc-item\"><li><span><a href=\"#&quot;Вручную&quot;\" data-toc-modified-id=\"&quot;Вручную&quot;-4.1.1\"><span class=\"toc-item-num\">4.1.1&nbsp;&nbsp;</span>\"Вручную\"</a></span></li><li><span><a href=\"#RundomUnderSampler\" data-toc-modified-id=\"RundomUnderSampler-4.1.2\"><span class=\"toc-item-num\">4.1.2&nbsp;&nbsp;</span>RundomUnderSampler</a></span></li></ul></li><li><span><a href=\"#Upsampling\" data-toc-modified-id=\"Upsampling-4.2\"><span class=\"toc-item-num\">4.2&nbsp;&nbsp;</span>Upsampling</a></span><ul class=\"toc-item\"><li><span><a href=\"#&quot;Вручную&quot;\" data-toc-modified-id=\"&quot;Вручную&quot;-4.2.1\"><span class=\"toc-item-num\">4.2.1&nbsp;&nbsp;</span>\"Вручную\"</a></span></li><li><span><a href=\"#SMOTE\" data-toc-modified-id=\"SMOTE-4.2.2\"><span class=\"toc-item-num\">4.2.2&nbsp;&nbsp;</span>SMOTE</a></span></li></ul></li><li><span><a href=\"#Встроенная-балансировка\" data-toc-modified-id=\"Встроенная-балансировка-4.3\"><span class=\"toc-item-num\">4.3&nbsp;&nbsp;</span>Встроенная балансировка</a></span></li><li><span><a href=\"#Выводы\" data-toc-modified-id=\"Выводы-4.4\"><span class=\"toc-item-num\">4.4&nbsp;&nbsp;</span>Выводы</a></span></li></ul></li><li><span><a href=\"#Тестирование-модели\" data-toc-modified-id=\"Тестирование-модели-5\"><span class=\"toc-item-num\">5&nbsp;&nbsp;</span>Тестирование модели</a></span></li><li><span><a href=\"#Исследование-ROC-и-метрики-AUC-ROC\" data-toc-modified-id=\"Исследование-ROC-и-метрики-AUC-ROC-6\"><span class=\"toc-item-num\">6&nbsp;&nbsp;</span>Исследование ROC и метрики AUC-ROC</a></span></li><li><span><a href=\"#Общий-вывод\" data-toc-modified-id=\"Общий-вывод-7\"><span class=\"toc-item-num\">7&nbsp;&nbsp;</span>Общий вывод</a></span></li></ul></div>"
   ]
  },
  {
   "cell_type": "markdown",
   "metadata": {},
   "source": [
    "# Отток клиентов"
   ]
  },
  {
   "cell_type": "markdown",
   "metadata": {},
   "source": [
    "Из «Бета-Банка» стали уходить клиенты. Каждый месяц. Немного, но заметно. Банковские маркетологи посчитали: сохранять текущих клиентов дешевле, чем привлекать новых.\n",
    "\n",
    "Нужно спрогнозировать, уйдёт клиент из банка в ближайшее время или нет. Предоставлены исторические данные о поведении клиентов и расторжении договоров с банком. \n",
    "\n",
    "Нужно построить модель с предельно большим значением *F1*-меры, не меньшим 0.59. \n",
    "\n",
    "Источник данных: [https://www.kaggle.com/barelydedicated/bank-customer-churn-modeling](https://www.kaggle.com/barelydedicated/bank-customer-churn-modeling)"
   ]
  },
  {
   "cell_type": "markdown",
   "metadata": {},
   "source": [
    "## Подключение библиотек"
   ]
  },
  {
   "cell_type": "code",
   "execution_count": 1,
   "metadata": {},
   "outputs": [
    {
     "name": "stdout",
     "output_type": "stream",
     "text": [
      "Collecting imblearn\n",
      "  Downloading imblearn-0.0-py2.py3-none-any.whl (1.9 kB)\n",
      "Collecting imbalanced-learn\n",
      "  Downloading imbalanced_learn-0.11.0-py3-none-any.whl (235 kB)\n",
      "\u001b[K     |████████████████████████████████| 235 kB 1.0 MB/s eta 0:00:01\n",
      "\u001b[?25hCollecting joblib>=1.1.1\n",
      "  Downloading joblib-1.3.2-py3-none-any.whl (302 kB)\n",
      "\u001b[K     |████████████████████████████████| 302 kB 13.1 MB/s eta 0:00:01\n",
      "\u001b[?25hRequirement already satisfied: numpy>=1.17.3 in /opt/conda/lib/python3.9/site-packages (from imbalanced-learn->imblearn) (1.21.1)\n",
      "Collecting scikit-learn>=1.0.2\n",
      "  Downloading scikit_learn-1.3.1-cp39-cp39-manylinux_2_17_x86_64.manylinux2014_x86_64.whl (10.9 MB)\n",
      "\u001b[K     |████████████████████████████████| 10.9 MB 34.1 MB/s eta 0:00:01\n",
      "\u001b[?25hRequirement already satisfied: threadpoolctl>=2.0.0 in /opt/conda/lib/python3.9/site-packages (from imbalanced-learn->imblearn) (3.1.0)\n",
      "Requirement already satisfied: scipy>=1.5.0 in /opt/conda/lib/python3.9/site-packages (from imbalanced-learn->imblearn) (1.9.1)\n",
      "Installing collected packages: joblib, scikit-learn, imbalanced-learn, imblearn\n",
      "  Attempting uninstall: joblib\n",
      "    Found existing installation: joblib 1.1.0\n",
      "    Uninstalling joblib-1.1.0:\n",
      "      Successfully uninstalled joblib-1.1.0\n",
      "  Attempting uninstall: scikit-learn\n",
      "    Found existing installation: scikit-learn 0.24.1\n",
      "    Uninstalling scikit-learn-0.24.1:\n",
      "      Successfully uninstalled scikit-learn-0.24.1\n",
      "Successfully installed imbalanced-learn-0.11.0 imblearn-0.0 joblib-1.3.2 scikit-learn-1.3.1\n",
      "Note: you may need to restart the kernel to use updated packages.\n"
     ]
    }
   ],
   "source": [
    "pip install imblearn"
   ]
  },
  {
   "cell_type": "code",
   "execution_count": 2,
   "metadata": {},
   "outputs": [],
   "source": [
    "import pandas as pd\n",
    "from sklearn.preprocessing import OrdinalEncoder\n",
    "from sklearn.preprocessing import StandardScaler\n",
    "\n",
    "from sklearn.model_selection import train_test_split\n",
    "from sklearn.tree import DecisionTreeClassifier\n",
    "from sklearn.ensemble import RandomForestClassifier\n",
    "from sklearn.linear_model import LogisticRegression\n",
    "from sklearn.svm import LinearSVC\n",
    "from sklearn.metrics import f1_score\n",
    "from sklearn.metrics import roc_curve\n",
    "from sklearn.metrics import roc_auc_score\n",
    "from sklearn.utils import shuffle\n",
    "from sklearn.preprocessing import OneHotEncoder\n",
    "from imblearn.under_sampling import RandomUnderSampler\n",
    "from imblearn.over_sampling import SMOTE\n",
    "\n",
    "from copy import copy, deepcopy\n",
    "from random import random\n",
    "from math import isnan\n",
    "from tqdm import tqdm\n",
    "import numpy as np\n",
    "from numpy import arange\n",
    "import matplotlib.pyplot as plt\n",
    "\n",
    "import warnings\n",
    "warnings.filterwarnings(\"ignore\")"
   ]
  },
  {
   "cell_type": "markdown",
   "metadata": {},
   "source": [
    "## Подготовка данных"
   ]
  },
  {
   "cell_type": "markdown",
   "metadata": {},
   "source": [
    "### Изучение данных"
   ]
  },
  {
   "cell_type": "markdown",
   "metadata": {},
   "source": [
    "Изучим данные: \n",
    "\n",
    "- выведем первые строки полученных данных; \n",
    "- выведем информаци о сформированном датафрейме; \n",
    "- выведем количество пропусков для каждого признака; \n",
    "- выведем количество явных дубликатов;  \n",
    "- выведем и рпоанализируем статистические свойства и гистограммы признаков."
   ]
  },
  {
   "cell_type": "code",
   "execution_count": 3,
   "metadata": {
    "scrolled": true
   },
   "outputs": [
    {
     "data": {
      "text/html": [
       "<div>\n",
       "<style scoped>\n",
       "    .dataframe tbody tr th:only-of-type {\n",
       "        vertical-align: middle;\n",
       "    }\n",
       "\n",
       "    .dataframe tbody tr th {\n",
       "        vertical-align: top;\n",
       "    }\n",
       "\n",
       "    .dataframe thead th {\n",
       "        text-align: right;\n",
       "    }\n",
       "</style>\n",
       "<table border=\"1\" class=\"dataframe\">\n",
       "  <thead>\n",
       "    <tr style=\"text-align: right;\">\n",
       "      <th></th>\n",
       "      <th>RowNumber</th>\n",
       "      <th>CustomerId</th>\n",
       "      <th>Surname</th>\n",
       "      <th>CreditScore</th>\n",
       "      <th>Geography</th>\n",
       "      <th>Gender</th>\n",
       "      <th>Age</th>\n",
       "      <th>Tenure</th>\n",
       "      <th>Balance</th>\n",
       "      <th>NumOfProducts</th>\n",
       "      <th>HasCrCard</th>\n",
       "      <th>IsActiveMember</th>\n",
       "      <th>EstimatedSalary</th>\n",
       "      <th>Exited</th>\n",
       "    </tr>\n",
       "  </thead>\n",
       "  <tbody>\n",
       "    <tr>\n",
       "      <th>0</th>\n",
       "      <td>1</td>\n",
       "      <td>15634602</td>\n",
       "      <td>Hargrave</td>\n",
       "      <td>619</td>\n",
       "      <td>France</td>\n",
       "      <td>Female</td>\n",
       "      <td>42</td>\n",
       "      <td>2.0</td>\n",
       "      <td>0.00</td>\n",
       "      <td>1</td>\n",
       "      <td>1</td>\n",
       "      <td>1</td>\n",
       "      <td>101348.88</td>\n",
       "      <td>1</td>\n",
       "    </tr>\n",
       "    <tr>\n",
       "      <th>1</th>\n",
       "      <td>2</td>\n",
       "      <td>15647311</td>\n",
       "      <td>Hill</td>\n",
       "      <td>608</td>\n",
       "      <td>Spain</td>\n",
       "      <td>Female</td>\n",
       "      <td>41</td>\n",
       "      <td>1.0</td>\n",
       "      <td>83807.86</td>\n",
       "      <td>1</td>\n",
       "      <td>0</td>\n",
       "      <td>1</td>\n",
       "      <td>112542.58</td>\n",
       "      <td>0</td>\n",
       "    </tr>\n",
       "    <tr>\n",
       "      <th>2</th>\n",
       "      <td>3</td>\n",
       "      <td>15619304</td>\n",
       "      <td>Onio</td>\n",
       "      <td>502</td>\n",
       "      <td>France</td>\n",
       "      <td>Female</td>\n",
       "      <td>42</td>\n",
       "      <td>8.0</td>\n",
       "      <td>159660.80</td>\n",
       "      <td>3</td>\n",
       "      <td>1</td>\n",
       "      <td>0</td>\n",
       "      <td>113931.57</td>\n",
       "      <td>1</td>\n",
       "    </tr>\n",
       "    <tr>\n",
       "      <th>3</th>\n",
       "      <td>4</td>\n",
       "      <td>15701354</td>\n",
       "      <td>Boni</td>\n",
       "      <td>699</td>\n",
       "      <td>France</td>\n",
       "      <td>Female</td>\n",
       "      <td>39</td>\n",
       "      <td>1.0</td>\n",
       "      <td>0.00</td>\n",
       "      <td>2</td>\n",
       "      <td>0</td>\n",
       "      <td>0</td>\n",
       "      <td>93826.63</td>\n",
       "      <td>0</td>\n",
       "    </tr>\n",
       "    <tr>\n",
       "      <th>4</th>\n",
       "      <td>5</td>\n",
       "      <td>15737888</td>\n",
       "      <td>Mitchell</td>\n",
       "      <td>850</td>\n",
       "      <td>Spain</td>\n",
       "      <td>Female</td>\n",
       "      <td>43</td>\n",
       "      <td>2.0</td>\n",
       "      <td>125510.82</td>\n",
       "      <td>1</td>\n",
       "      <td>1</td>\n",
       "      <td>1</td>\n",
       "      <td>79084.10</td>\n",
       "      <td>0</td>\n",
       "    </tr>\n",
       "  </tbody>\n",
       "</table>\n",
       "</div>"
      ],
      "text/plain": [
       "   RowNumber  CustomerId   Surname  CreditScore Geography  Gender  Age  \\\n",
       "0          1    15634602  Hargrave          619    France  Female   42   \n",
       "1          2    15647311      Hill          608     Spain  Female   41   \n",
       "2          3    15619304      Onio          502    France  Female   42   \n",
       "3          4    15701354      Boni          699    France  Female   39   \n",
       "4          5    15737888  Mitchell          850     Spain  Female   43   \n",
       "\n",
       "   Tenure    Balance  NumOfProducts  HasCrCard  IsActiveMember  \\\n",
       "0     2.0       0.00              1          1               1   \n",
       "1     1.0   83807.86              1          0               1   \n",
       "2     8.0  159660.80              3          1               0   \n",
       "3     1.0       0.00              2          0               0   \n",
       "4     2.0  125510.82              1          1               1   \n",
       "\n",
       "   EstimatedSalary  Exited  \n",
       "0        101348.88       1  \n",
       "1        112542.58       0  \n",
       "2        113931.57       1  \n",
       "3         93826.63       0  \n",
       "4         79084.10       0  "
      ]
     },
     "metadata": {},
     "output_type": "display_data"
    }
   ],
   "source": [
    "try:\n",
    "    data = pd.read_csv('/datasets/Churn.csv')\n",
    "    display(data.head())\n",
    "except:\n",
    "    print('Ошибка считывания данных.')"
   ]
  },
  {
   "cell_type": "markdown",
   "metadata": {},
   "source": [
    "**Описание данных**\n",
    "\n",
    "Признаки:\n",
    "- `RowNumber` — индекс строки в данных\n",
    "- `CustomerId` — уникальный идентификатор клиента\n",
    "- `Surname` — фамилия\n",
    "- `CreditScore` — кредитный рейтинг\n",
    "- `Geography` — страна проживания\n",
    "- `Gender` — пол\n",
    "- `Age` — возраст\n",
    "- `Tenure` — сколько лет человек является клиентом банка\n",
    "- `Balance` — баланс на счёте\n",
    "- `NumOfProducts` — количество продуктов банка, используемых клиентом\n",
    "- `HasCrCard` — наличие кредитной карты\n",
    "- `IsActiveMember` — активность клиента\n",
    "- `EstimatedSalary` — предполагаемая зарплата\n",
    "\n",
    "Целевой признак:\n",
    "- `Exited` — факт ухода клиента"
   ]
  },
  {
   "cell_type": "code",
   "execution_count": 4,
   "metadata": {
    "scrolled": false
   },
   "outputs": [
    {
     "name": "stdout",
     "output_type": "stream",
     "text": [
      "<class 'pandas.core.frame.DataFrame'>\n",
      "RangeIndex: 10000 entries, 0 to 9999\n",
      "Data columns (total 14 columns):\n",
      " #   Column           Non-Null Count  Dtype  \n",
      "---  ------           --------------  -----  \n",
      " 0   RowNumber        10000 non-null  int64  \n",
      " 1   CustomerId       10000 non-null  int64  \n",
      " 2   Surname          10000 non-null  object \n",
      " 3   CreditScore      10000 non-null  int64  \n",
      " 4   Geography        10000 non-null  object \n",
      " 5   Gender           10000 non-null  object \n",
      " 6   Age              10000 non-null  int64  \n",
      " 7   Tenure           9091 non-null   float64\n",
      " 8   Balance          10000 non-null  float64\n",
      " 9   NumOfProducts    10000 non-null  int64  \n",
      " 10  HasCrCard        10000 non-null  int64  \n",
      " 11  IsActiveMember   10000 non-null  int64  \n",
      " 12  EstimatedSalary  10000 non-null  float64\n",
      " 13  Exited           10000 non-null  int64  \n",
      "dtypes: float64(3), int64(8), object(3)\n",
      "memory usage: 1.1+ MB\n"
     ]
    }
   ],
   "source": [
    "data.info()"
   ]
  },
  {
   "cell_type": "code",
   "execution_count": 5,
   "metadata": {},
   "outputs": [
    {
     "data": {
      "text/plain": [
       "array([ 2.,  1.,  8.,  7.,  4.,  6.,  3., 10.,  5.,  9.,  0., nan])"
      ]
     },
     "execution_count": 5,
     "metadata": {},
     "output_type": "execute_result"
    }
   ],
   "source": [
    "data['Tenure'].unique()"
   ]
  },
  {
   "cell_type": "code",
   "execution_count": 6,
   "metadata": {
    "scrolled": true
   },
   "outputs": [
    {
     "data": {
      "text/plain": [
       "RowNumber            0\n",
       "CustomerId           0\n",
       "Surname              0\n",
       "CreditScore          0\n",
       "Geography            0\n",
       "Gender               0\n",
       "Age                  0\n",
       "Tenure             909\n",
       "Balance              0\n",
       "NumOfProducts        0\n",
       "HasCrCard            0\n",
       "IsActiveMember       0\n",
       "EstimatedSalary      0\n",
       "Exited               0\n",
       "dtype: int64"
      ]
     },
     "metadata": {},
     "output_type": "display_data"
    }
   ],
   "source": [
    "display(data.isna().sum())"
   ]
  },
  {
   "cell_type": "code",
   "execution_count": 7,
   "metadata": {},
   "outputs": [
    {
     "data": {
      "text/plain": [
       "0"
      ]
     },
     "metadata": {},
     "output_type": "display_data"
    }
   ],
   "source": [
    "display(data.duplicated().sum())"
   ]
  },
  {
   "cell_type": "code",
   "execution_count": 8,
   "metadata": {
    "scrolled": false
   },
   "outputs": [
    {
     "data": {
      "text/html": [
       "<div>\n",
       "<style scoped>\n",
       "    .dataframe tbody tr th:only-of-type {\n",
       "        vertical-align: middle;\n",
       "    }\n",
       "\n",
       "    .dataframe tbody tr th {\n",
       "        vertical-align: top;\n",
       "    }\n",
       "\n",
       "    .dataframe thead th {\n",
       "        text-align: right;\n",
       "    }\n",
       "</style>\n",
       "<table border=\"1\" class=\"dataframe\">\n",
       "  <thead>\n",
       "    <tr style=\"text-align: right;\">\n",
       "      <th></th>\n",
       "      <th>RowNumber</th>\n",
       "      <th>CustomerId</th>\n",
       "      <th>CreditScore</th>\n",
       "      <th>Age</th>\n",
       "      <th>Tenure</th>\n",
       "      <th>Balance</th>\n",
       "      <th>NumOfProducts</th>\n",
       "      <th>HasCrCard</th>\n",
       "      <th>IsActiveMember</th>\n",
       "      <th>EstimatedSalary</th>\n",
       "      <th>Exited</th>\n",
       "    </tr>\n",
       "  </thead>\n",
       "  <tbody>\n",
       "    <tr>\n",
       "      <th>count</th>\n",
       "      <td>10000.00000</td>\n",
       "      <td>1.000000e+04</td>\n",
       "      <td>10000.000000</td>\n",
       "      <td>10000.000000</td>\n",
       "      <td>9091.000000</td>\n",
       "      <td>10000.000000</td>\n",
       "      <td>10000.000000</td>\n",
       "      <td>10000.00000</td>\n",
       "      <td>10000.000000</td>\n",
       "      <td>10000.000000</td>\n",
       "      <td>10000.000000</td>\n",
       "    </tr>\n",
       "    <tr>\n",
       "      <th>mean</th>\n",
       "      <td>5000.50000</td>\n",
       "      <td>1.569094e+07</td>\n",
       "      <td>650.528800</td>\n",
       "      <td>38.921800</td>\n",
       "      <td>4.997690</td>\n",
       "      <td>76485.889288</td>\n",
       "      <td>1.530200</td>\n",
       "      <td>0.70550</td>\n",
       "      <td>0.515100</td>\n",
       "      <td>100090.239881</td>\n",
       "      <td>0.203700</td>\n",
       "    </tr>\n",
       "    <tr>\n",
       "      <th>std</th>\n",
       "      <td>2886.89568</td>\n",
       "      <td>7.193619e+04</td>\n",
       "      <td>96.653299</td>\n",
       "      <td>10.487806</td>\n",
       "      <td>2.894723</td>\n",
       "      <td>62397.405202</td>\n",
       "      <td>0.581654</td>\n",
       "      <td>0.45584</td>\n",
       "      <td>0.499797</td>\n",
       "      <td>57510.492818</td>\n",
       "      <td>0.402769</td>\n",
       "    </tr>\n",
       "    <tr>\n",
       "      <th>min</th>\n",
       "      <td>1.00000</td>\n",
       "      <td>1.556570e+07</td>\n",
       "      <td>350.000000</td>\n",
       "      <td>18.000000</td>\n",
       "      <td>0.000000</td>\n",
       "      <td>0.000000</td>\n",
       "      <td>1.000000</td>\n",
       "      <td>0.00000</td>\n",
       "      <td>0.000000</td>\n",
       "      <td>11.580000</td>\n",
       "      <td>0.000000</td>\n",
       "    </tr>\n",
       "    <tr>\n",
       "      <th>25%</th>\n",
       "      <td>2500.75000</td>\n",
       "      <td>1.562853e+07</td>\n",
       "      <td>584.000000</td>\n",
       "      <td>32.000000</td>\n",
       "      <td>2.000000</td>\n",
       "      <td>0.000000</td>\n",
       "      <td>1.000000</td>\n",
       "      <td>0.00000</td>\n",
       "      <td>0.000000</td>\n",
       "      <td>51002.110000</td>\n",
       "      <td>0.000000</td>\n",
       "    </tr>\n",
       "    <tr>\n",
       "      <th>50%</th>\n",
       "      <td>5000.50000</td>\n",
       "      <td>1.569074e+07</td>\n",
       "      <td>652.000000</td>\n",
       "      <td>37.000000</td>\n",
       "      <td>5.000000</td>\n",
       "      <td>97198.540000</td>\n",
       "      <td>1.000000</td>\n",
       "      <td>1.00000</td>\n",
       "      <td>1.000000</td>\n",
       "      <td>100193.915000</td>\n",
       "      <td>0.000000</td>\n",
       "    </tr>\n",
       "    <tr>\n",
       "      <th>75%</th>\n",
       "      <td>7500.25000</td>\n",
       "      <td>1.575323e+07</td>\n",
       "      <td>718.000000</td>\n",
       "      <td>44.000000</td>\n",
       "      <td>7.000000</td>\n",
       "      <td>127644.240000</td>\n",
       "      <td>2.000000</td>\n",
       "      <td>1.00000</td>\n",
       "      <td>1.000000</td>\n",
       "      <td>149388.247500</td>\n",
       "      <td>0.000000</td>\n",
       "    </tr>\n",
       "    <tr>\n",
       "      <th>max</th>\n",
       "      <td>10000.00000</td>\n",
       "      <td>1.581569e+07</td>\n",
       "      <td>850.000000</td>\n",
       "      <td>92.000000</td>\n",
       "      <td>10.000000</td>\n",
       "      <td>250898.090000</td>\n",
       "      <td>4.000000</td>\n",
       "      <td>1.00000</td>\n",
       "      <td>1.000000</td>\n",
       "      <td>199992.480000</td>\n",
       "      <td>1.000000</td>\n",
       "    </tr>\n",
       "  </tbody>\n",
       "</table>\n",
       "</div>"
      ],
      "text/plain": [
       "         RowNumber    CustomerId   CreditScore           Age       Tenure  \\\n",
       "count  10000.00000  1.000000e+04  10000.000000  10000.000000  9091.000000   \n",
       "mean    5000.50000  1.569094e+07    650.528800     38.921800     4.997690   \n",
       "std     2886.89568  7.193619e+04     96.653299     10.487806     2.894723   \n",
       "min        1.00000  1.556570e+07    350.000000     18.000000     0.000000   \n",
       "25%     2500.75000  1.562853e+07    584.000000     32.000000     2.000000   \n",
       "50%     5000.50000  1.569074e+07    652.000000     37.000000     5.000000   \n",
       "75%     7500.25000  1.575323e+07    718.000000     44.000000     7.000000   \n",
       "max    10000.00000  1.581569e+07    850.000000     92.000000    10.000000   \n",
       "\n",
       "             Balance  NumOfProducts    HasCrCard  IsActiveMember  \\\n",
       "count   10000.000000   10000.000000  10000.00000    10000.000000   \n",
       "mean    76485.889288       1.530200      0.70550        0.515100   \n",
       "std     62397.405202       0.581654      0.45584        0.499797   \n",
       "min         0.000000       1.000000      0.00000        0.000000   \n",
       "25%         0.000000       1.000000      0.00000        0.000000   \n",
       "50%     97198.540000       1.000000      1.00000        1.000000   \n",
       "75%    127644.240000       2.000000      1.00000        1.000000   \n",
       "max    250898.090000       4.000000      1.00000        1.000000   \n",
       "\n",
       "       EstimatedSalary        Exited  \n",
       "count     10000.000000  10000.000000  \n",
       "mean     100090.239881      0.203700  \n",
       "std       57510.492818      0.402769  \n",
       "min          11.580000      0.000000  \n",
       "25%       51002.110000      0.000000  \n",
       "50%      100193.915000      0.000000  \n",
       "75%      149388.247500      0.000000  \n",
       "max      199992.480000      1.000000  "
      ]
     },
     "execution_count": 8,
     "metadata": {},
     "output_type": "execute_result"
    },
    {
     "data": {
      "image/png": "[encoded data removed]",
      "text/plain": [
       "<Figure size 1080x1440 with 12 Axes>"
      ]
     },
     "metadata": {
      "needs_background": "light"
     },
     "output_type": "display_data"
    }
   ],
   "source": [
    "data.hist(bins=20, figsize=(15, 20))\n",
    "data.describe()"
   ]
  },
  {
   "cell_type": "code",
   "execution_count": 9,
   "metadata": {},
   "outputs": [
    {
     "data": {
      "text/html": [
       "<div>\n",
       "<style scoped>\n",
       "    .dataframe tbody tr th:only-of-type {\n",
       "        vertical-align: middle;\n",
       "    }\n",
       "\n",
       "    .dataframe tbody tr th {\n",
       "        vertical-align: top;\n",
       "    }\n",
       "\n",
       "    .dataframe thead th {\n",
       "        text-align: right;\n",
       "    }\n",
       "</style>\n",
       "<table border=\"1\" class=\"dataframe\">\n",
       "  <thead>\n",
       "    <tr style=\"text-align: right;\">\n",
       "      <th></th>\n",
       "      <th>RowNumber</th>\n",
       "      <th>CustomerId</th>\n",
       "      <th>CreditScore</th>\n",
       "      <th>Age</th>\n",
       "      <th>Tenure</th>\n",
       "      <th>Balance</th>\n",
       "      <th>NumOfProducts</th>\n",
       "      <th>HasCrCard</th>\n",
       "      <th>IsActiveMember</th>\n",
       "      <th>EstimatedSalary</th>\n",
       "      <th>Exited</th>\n",
       "    </tr>\n",
       "  </thead>\n",
       "  <tbody>\n",
       "    <tr>\n",
       "      <th>RowNumber</th>\n",
       "      <td>1.000000</td>\n",
       "      <td>0.004187</td>\n",
       "      <td>0.005130</td>\n",
       "      <td>0.000476</td>\n",
       "      <td>-0.007650</td>\n",
       "      <td>-0.009013</td>\n",
       "      <td>0.008305</td>\n",
       "      <td>0.000599</td>\n",
       "      <td>0.012044</td>\n",
       "      <td>-0.006007</td>\n",
       "      <td>-0.016571</td>\n",
       "    </tr>\n",
       "    <tr>\n",
       "      <th>CustomerId</th>\n",
       "      <td>0.004187</td>\n",
       "      <td>1.000000</td>\n",
       "      <td>0.005967</td>\n",
       "      <td>0.008775</td>\n",
       "      <td>-0.021410</td>\n",
       "      <td>-0.013932</td>\n",
       "      <td>0.019297</td>\n",
       "      <td>-0.014023</td>\n",
       "      <td>0.001682</td>\n",
       "      <td>0.015246</td>\n",
       "      <td>-0.006264</td>\n",
       "    </tr>\n",
       "    <tr>\n",
       "      <th>CreditScore</th>\n",
       "      <td>0.005130</td>\n",
       "      <td>0.005967</td>\n",
       "      <td>1.000000</td>\n",
       "      <td>-0.007974</td>\n",
       "      <td>0.000604</td>\n",
       "      <td>0.005687</td>\n",
       "      <td>0.012568</td>\n",
       "      <td>-0.003802</td>\n",
       "      <td>0.024262</td>\n",
       "      <td>0.001237</td>\n",
       "      <td>-0.023289</td>\n",
       "    </tr>\n",
       "    <tr>\n",
       "      <th>Age</th>\n",
       "      <td>0.000476</td>\n",
       "      <td>0.008775</td>\n",
       "      <td>-0.007974</td>\n",
       "      <td>1.000000</td>\n",
       "      <td>-0.014275</td>\n",
       "      <td>0.033304</td>\n",
       "      <td>-0.058566</td>\n",
       "      <td>-0.015278</td>\n",
       "      <td>0.039839</td>\n",
       "      <td>-0.002431</td>\n",
       "      <td>0.323968</td>\n",
       "    </tr>\n",
       "    <tr>\n",
       "      <th>Tenure</th>\n",
       "      <td>-0.007650</td>\n",
       "      <td>-0.021410</td>\n",
       "      <td>0.000604</td>\n",
       "      <td>-0.014275</td>\n",
       "      <td>1.000000</td>\n",
       "      <td>-0.005252</td>\n",
       "      <td>0.011453</td>\n",
       "      <td>0.027293</td>\n",
       "      <td>-0.032596</td>\n",
       "      <td>0.010343</td>\n",
       "      <td>-0.016762</td>\n",
       "    </tr>\n",
       "    <tr>\n",
       "      <th>Balance</th>\n",
       "      <td>-0.009013</td>\n",
       "      <td>-0.013932</td>\n",
       "      <td>0.005687</td>\n",
       "      <td>0.033304</td>\n",
       "      <td>-0.005252</td>\n",
       "      <td>1.000000</td>\n",
       "      <td>-0.316627</td>\n",
       "      <td>-0.009835</td>\n",
       "      <td>-0.011497</td>\n",
       "      <td>0.011778</td>\n",
       "      <td>0.111110</td>\n",
       "    </tr>\n",
       "    <tr>\n",
       "      <th>NumOfProducts</th>\n",
       "      <td>0.008305</td>\n",
       "      <td>0.019297</td>\n",
       "      <td>0.012568</td>\n",
       "      <td>-0.058566</td>\n",
       "      <td>0.011453</td>\n",
       "      <td>-0.316627</td>\n",
       "      <td>1.000000</td>\n",
       "      <td>0.003859</td>\n",
       "      <td>0.016292</td>\n",
       "      <td>0.012570</td>\n",
       "      <td>-0.125282</td>\n",
       "    </tr>\n",
       "    <tr>\n",
       "      <th>HasCrCard</th>\n",
       "      <td>0.000599</td>\n",
       "      <td>-0.014023</td>\n",
       "      <td>-0.003802</td>\n",
       "      <td>-0.015278</td>\n",
       "      <td>0.027293</td>\n",
       "      <td>-0.009835</td>\n",
       "      <td>0.003859</td>\n",
       "      <td>1.000000</td>\n",
       "      <td>-0.011866</td>\n",
       "      <td>-0.010041</td>\n",
       "      <td>-0.007138</td>\n",
       "    </tr>\n",
       "    <tr>\n",
       "      <th>IsActiveMember</th>\n",
       "      <td>0.012044</td>\n",
       "      <td>0.001682</td>\n",
       "      <td>0.024262</td>\n",
       "      <td>0.039839</td>\n",
       "      <td>-0.032596</td>\n",
       "      <td>-0.011497</td>\n",
       "      <td>0.016292</td>\n",
       "      <td>-0.011866</td>\n",
       "      <td>1.000000</td>\n",
       "      <td>-0.011469</td>\n",
       "      <td>-0.156128</td>\n",
       "    </tr>\n",
       "    <tr>\n",
       "      <th>EstimatedSalary</th>\n",
       "      <td>-0.006007</td>\n",
       "      <td>0.015246</td>\n",
       "      <td>0.001237</td>\n",
       "      <td>-0.002431</td>\n",
       "      <td>0.010343</td>\n",
       "      <td>0.011778</td>\n",
       "      <td>0.012570</td>\n",
       "      <td>-0.010041</td>\n",
       "      <td>-0.011469</td>\n",
       "      <td>1.000000</td>\n",
       "      <td>0.012081</td>\n",
       "    </tr>\n",
       "    <tr>\n",
       "      <th>Exited</th>\n",
       "      <td>-0.016571</td>\n",
       "      <td>-0.006264</td>\n",
       "      <td>-0.023289</td>\n",
       "      <td>0.323968</td>\n",
       "      <td>-0.016762</td>\n",
       "      <td>0.111110</td>\n",
       "      <td>-0.125282</td>\n",
       "      <td>-0.007138</td>\n",
       "      <td>-0.156128</td>\n",
       "      <td>0.012081</td>\n",
       "      <td>1.000000</td>\n",
       "    </tr>\n",
       "  </tbody>\n",
       "</table>\n",
       "</div>"
      ],
      "text/plain": [
       "                 RowNumber  CustomerId  CreditScore       Age    Tenure  \\\n",
       "RowNumber         1.000000    0.004187     0.005130  0.000476 -0.007650   \n",
       "CustomerId        0.004187    1.000000     0.005967  0.008775 -0.021410   \n",
       "CreditScore       0.005130    0.005967     1.000000 -0.007974  0.000604   \n",
       "Age               0.000476    0.008775    -0.007974  1.000000 -0.014275   \n",
       "Tenure           -0.007650   -0.021410     0.000604 -0.014275  1.000000   \n",
       "Balance          -0.009013   -0.013932     0.005687  0.033304 -0.005252   \n",
       "NumOfProducts     0.008305    0.019297     0.012568 -0.058566  0.011453   \n",
       "HasCrCard         0.000599   -0.014023    -0.003802 -0.015278  0.027293   \n",
       "IsActiveMember    0.012044    0.001682     0.024262  0.039839 -0.032596   \n",
       "EstimatedSalary  -0.006007    0.015246     0.001237 -0.002431  0.010343   \n",
       "Exited           -0.016571   -0.006264    -0.023289  0.323968 -0.016762   \n",
       "\n",
       "                  Balance  NumOfProducts  HasCrCard  IsActiveMember  \\\n",
       "RowNumber       -0.009013       0.008305   0.000599        0.012044   \n",
       "CustomerId      -0.013932       0.019297  -0.014023        0.001682   \n",
       "CreditScore      0.005687       0.012568  -0.003802        0.024262   \n",
       "Age              0.033304      -0.058566  -0.015278        0.039839   \n",
       "Tenure          -0.005252       0.011453   0.027293       -0.032596   \n",
       "Balance          1.000000      -0.316627  -0.009835       -0.011497   \n",
       "NumOfProducts   -0.316627       1.000000   0.003859        0.016292   \n",
       "HasCrCard       -0.009835       0.003859   1.000000       -0.011866   \n",
       "IsActiveMember  -0.011497       0.016292  -0.011866        1.000000   \n",
       "EstimatedSalary  0.011778       0.012570  -0.010041       -0.011469   \n",
       "Exited           0.111110      -0.125282  -0.007138       -0.156128   \n",
       "\n",
       "                 EstimatedSalary    Exited  \n",
       "RowNumber              -0.006007 -0.016571  \n",
       "CustomerId              0.015246 -0.006264  \n",
       "CreditScore             0.001237 -0.023289  \n",
       "Age                    -0.002431  0.323968  \n",
       "Tenure                  0.010343 -0.016762  \n",
       "Balance                 0.011778  0.111110  \n",
       "NumOfProducts           0.012570 -0.125282  \n",
       "HasCrCard              -0.010041 -0.007138  \n",
       "IsActiveMember         -0.011469 -0.156128  \n",
       "EstimatedSalary         1.000000  0.012081  \n",
       "Exited                  0.012081  1.000000  "
      ]
     },
     "execution_count": 9,
     "metadata": {},
     "output_type": "execute_result"
    }
   ],
   "source": [
    "data.corr(method='spearman')"
   ]
  },
  {
   "cell_type": "markdown",
   "metadata": {},
   "source": [
    "#### Выводы\n",
    "\n",
    "- Признаки `RowNumber`, `CustomerId` и `Surname` не представляют интереса для задачи, поэтому их можно убрать из данных;\n",
    "- стилистически верным будет использовать snake_case для названий столбцов - следует поменять навзания;\n",
    "- пропуски есть только в призанке `Tenure` - следует изучить его подробнее, возможно, есть связи с другими колонками; если связей нет, нужно предложить способ заполнения пропусков, так как строки с ними составляют 9% от всех данных и могут повлиять на результат решения задачи;\n",
    "- явных дубликатов не обнаружено, но следует подробнее рассмотреть признак `Geography`, так как в нём могут быть неявные дубликаты;\n",
    "- для дальнейшей работы следует применить к признакам `Gender` и `Geograpy` технику OHE;\n",
    "- согласно статистическому описанию признаков и их диаграммам можно сделать вывод, что в данных отсутствуют явные выбросы; распределение признака `CreditScore` нормальное; распределение призака `Age` похоже на нормальное с низкой дисперсией, но скошеное вправо;  распределение признака `Balance` нормально для ненулевых значений;\n",
    "- корреляции в признаках, а значит и мультиколлинеарности, нет;\n",
    "- количесвтенные признаки стоит масштабировать с помощью стандартизации данных.\n"
   ]
  },
  {
   "cell_type": "markdown",
   "metadata": {},
   "source": [
    "### Подготовка данных"
   ]
  },
  {
   "cell_type": "markdown",
   "metadata": {},
   "source": [
    "Признак `RowNumber` является номером строки в базе данных банка, а `CustomerId` - ключевым полем таблицы, из которой сделана выгрузка данных. Эти два признака нужны для работы с БД, но не могут ничего сказать о поведении пользователя, как и признак `Surname`. \n",
    "Удалим эти неинформативные признаки."
   ]
  },
  {
   "cell_type": "code",
   "execution_count": 10,
   "metadata": {
    "scrolled": true
   },
   "outputs": [
    {
     "data": {
      "text/html": [
       "<div>\n",
       "<style scoped>\n",
       "    .dataframe tbody tr th:only-of-type {\n",
       "        vertical-align: middle;\n",
       "    }\n",
       "\n",
       "    .dataframe tbody tr th {\n",
       "        vertical-align: top;\n",
       "    }\n",
       "\n",
       "    .dataframe thead th {\n",
       "        text-align: right;\n",
       "    }\n",
       "</style>\n",
       "<table border=\"1\" class=\"dataframe\">\n",
       "  <thead>\n",
       "    <tr style=\"text-align: right;\">\n",
       "      <th></th>\n",
       "      <th>CreditScore</th>\n",
       "      <th>Geography</th>\n",
       "      <th>Gender</th>\n",
       "      <th>Age</th>\n",
       "      <th>Tenure</th>\n",
       "      <th>Balance</th>\n",
       "      <th>NumOfProducts</th>\n",
       "      <th>HasCrCard</th>\n",
       "      <th>IsActiveMember</th>\n",
       "      <th>EstimatedSalary</th>\n",
       "      <th>Exited</th>\n",
       "    </tr>\n",
       "  </thead>\n",
       "  <tbody>\n",
       "    <tr>\n",
       "      <th>0</th>\n",
       "      <td>619</td>\n",
       "      <td>France</td>\n",
       "      <td>Female</td>\n",
       "      <td>42</td>\n",
       "      <td>2.0</td>\n",
       "      <td>0.00</td>\n",
       "      <td>1</td>\n",
       "      <td>1</td>\n",
       "      <td>1</td>\n",
       "      <td>101348.88</td>\n",
       "      <td>1</td>\n",
       "    </tr>\n",
       "    <tr>\n",
       "      <th>1</th>\n",
       "      <td>608</td>\n",
       "      <td>Spain</td>\n",
       "      <td>Female</td>\n",
       "      <td>41</td>\n",
       "      <td>1.0</td>\n",
       "      <td>83807.86</td>\n",
       "      <td>1</td>\n",
       "      <td>0</td>\n",
       "      <td>1</td>\n",
       "      <td>112542.58</td>\n",
       "      <td>0</td>\n",
       "    </tr>\n",
       "    <tr>\n",
       "      <th>2</th>\n",
       "      <td>502</td>\n",
       "      <td>France</td>\n",
       "      <td>Female</td>\n",
       "      <td>42</td>\n",
       "      <td>8.0</td>\n",
       "      <td>159660.80</td>\n",
       "      <td>3</td>\n",
       "      <td>1</td>\n",
       "      <td>0</td>\n",
       "      <td>113931.57</td>\n",
       "      <td>1</td>\n",
       "    </tr>\n",
       "    <tr>\n",
       "      <th>3</th>\n",
       "      <td>699</td>\n",
       "      <td>France</td>\n",
       "      <td>Female</td>\n",
       "      <td>39</td>\n",
       "      <td>1.0</td>\n",
       "      <td>0.00</td>\n",
       "      <td>2</td>\n",
       "      <td>0</td>\n",
       "      <td>0</td>\n",
       "      <td>93826.63</td>\n",
       "      <td>0</td>\n",
       "    </tr>\n",
       "    <tr>\n",
       "      <th>4</th>\n",
       "      <td>850</td>\n",
       "      <td>Spain</td>\n",
       "      <td>Female</td>\n",
       "      <td>43</td>\n",
       "      <td>2.0</td>\n",
       "      <td>125510.82</td>\n",
       "      <td>1</td>\n",
       "      <td>1</td>\n",
       "      <td>1</td>\n",
       "      <td>79084.10</td>\n",
       "      <td>0</td>\n",
       "    </tr>\n",
       "  </tbody>\n",
       "</table>\n",
       "</div>"
      ],
      "text/plain": [
       "   CreditScore Geography  Gender  Age  Tenure    Balance  NumOfProducts  \\\n",
       "0          619    France  Female   42     2.0       0.00              1   \n",
       "1          608     Spain  Female   41     1.0   83807.86              1   \n",
       "2          502    France  Female   42     8.0  159660.80              3   \n",
       "3          699    France  Female   39     1.0       0.00              2   \n",
       "4          850     Spain  Female   43     2.0  125510.82              1   \n",
       "\n",
       "   HasCrCard  IsActiveMember  EstimatedSalary  Exited  \n",
       "0          1               1        101348.88       1  \n",
       "1          0               1        112542.58       0  \n",
       "2          1               0        113931.57       1  \n",
       "3          0               0         93826.63       0  \n",
       "4          1               1         79084.10       0  "
      ]
     },
     "execution_count": 10,
     "metadata": {},
     "output_type": "execute_result"
    }
   ],
   "source": [
    "data = data.drop(['RowNumber', 'Surname', 'CustomerId'], axis=1)\n",
    "data.head()"
   ]
  },
  {
   "cell_type": "markdown",
   "metadata": {},
   "source": [
    "Переименуем колонки."
   ]
  },
  {
   "cell_type": "code",
   "execution_count": 11,
   "metadata": {
    "scrolled": true
   },
   "outputs": [
    {
     "data": {
      "text/plain": [
       "Index(['credit_score', 'geography', 'gender', 'age', 'tenure', 'balance',\n",
       "       'num_of_products', 'has_cr_card', 'is_active_member',\n",
       "       'estimated_salary', 'exited'],\n",
       "      dtype='object')"
      ]
     },
     "execution_count": 11,
     "metadata": {},
     "output_type": "execute_result"
    }
   ],
   "source": [
    "new_columns = [] \n",
    "for column in data.columns:\n",
    "    new_column = ''\n",
    "    for letter in column:\n",
    "        if letter.istitle():\n",
    "            new_column += f'_{letter.lower()}'\n",
    "        else:\n",
    "            new_column += letter\n",
    "    new_columns.append(new_column.strip('_'))\n",
    "new_columns\n",
    "data = data.rename(columns={data.columns[i]: new_columns[i] for i in range(len(data.columns))})\n",
    "data.columns"
   ]
  },
  {
   "cell_type": "markdown",
   "metadata": {},
   "source": [
    "Изучим внимательнее строки с пропущенным признаком `tenure`."
   ]
  },
  {
   "cell_type": "code",
   "execution_count": 12,
   "metadata": {
    "scrolled": true
   },
   "outputs": [
    {
     "data": {
      "text/html": [
       "<div>\n",
       "<style scoped>\n",
       "    .dataframe tbody tr th:only-of-type {\n",
       "        vertical-align: middle;\n",
       "    }\n",
       "\n",
       "    .dataframe tbody tr th {\n",
       "        vertical-align: top;\n",
       "    }\n",
       "\n",
       "    .dataframe thead th {\n",
       "        text-align: right;\n",
       "    }\n",
       "</style>\n",
       "<table border=\"1\" class=\"dataframe\">\n",
       "  <thead>\n",
       "    <tr style=\"text-align: right;\">\n",
       "      <th></th>\n",
       "      <th>credit_score</th>\n",
       "      <th>geography</th>\n",
       "      <th>gender</th>\n",
       "      <th>age</th>\n",
       "      <th>tenure</th>\n",
       "      <th>balance</th>\n",
       "      <th>num_of_products</th>\n",
       "      <th>has_cr_card</th>\n",
       "      <th>is_active_member</th>\n",
       "      <th>estimated_salary</th>\n",
       "      <th>exited</th>\n",
       "    </tr>\n",
       "  </thead>\n",
       "  <tbody>\n",
       "    <tr>\n",
       "      <th>30</th>\n",
       "      <td>591</td>\n",
       "      <td>Spain</td>\n",
       "      <td>Female</td>\n",
       "      <td>39</td>\n",
       "      <td>NaN</td>\n",
       "      <td>0.00</td>\n",
       "      <td>3</td>\n",
       "      <td>1</td>\n",
       "      <td>0</td>\n",
       "      <td>140469.38</td>\n",
       "      <td>1</td>\n",
       "    </tr>\n",
       "    <tr>\n",
       "      <th>48</th>\n",
       "      <td>550</td>\n",
       "      <td>Germany</td>\n",
       "      <td>Male</td>\n",
       "      <td>38</td>\n",
       "      <td>NaN</td>\n",
       "      <td>103391.38</td>\n",
       "      <td>1</td>\n",
       "      <td>0</td>\n",
       "      <td>1</td>\n",
       "      <td>90878.13</td>\n",
       "      <td>0</td>\n",
       "    </tr>\n",
       "    <tr>\n",
       "      <th>51</th>\n",
       "      <td>585</td>\n",
       "      <td>Germany</td>\n",
       "      <td>Male</td>\n",
       "      <td>36</td>\n",
       "      <td>NaN</td>\n",
       "      <td>146050.97</td>\n",
       "      <td>2</td>\n",
       "      <td>0</td>\n",
       "      <td>0</td>\n",
       "      <td>86424.57</td>\n",
       "      <td>0</td>\n",
       "    </tr>\n",
       "    <tr>\n",
       "      <th>53</th>\n",
       "      <td>655</td>\n",
       "      <td>Germany</td>\n",
       "      <td>Male</td>\n",
       "      <td>41</td>\n",
       "      <td>NaN</td>\n",
       "      <td>125561.97</td>\n",
       "      <td>1</td>\n",
       "      <td>0</td>\n",
       "      <td>0</td>\n",
       "      <td>164040.94</td>\n",
       "      <td>1</td>\n",
       "    </tr>\n",
       "    <tr>\n",
       "      <th>60</th>\n",
       "      <td>742</td>\n",
       "      <td>Germany</td>\n",
       "      <td>Male</td>\n",
       "      <td>35</td>\n",
       "      <td>NaN</td>\n",
       "      <td>136857.00</td>\n",
       "      <td>1</td>\n",
       "      <td>0</td>\n",
       "      <td>0</td>\n",
       "      <td>84509.57</td>\n",
       "      <td>0</td>\n",
       "    </tr>\n",
       "    <tr>\n",
       "      <th>82</th>\n",
       "      <td>543</td>\n",
       "      <td>France</td>\n",
       "      <td>Female</td>\n",
       "      <td>36</td>\n",
       "      <td>NaN</td>\n",
       "      <td>0.00</td>\n",
       "      <td>2</td>\n",
       "      <td>0</td>\n",
       "      <td>0</td>\n",
       "      <td>26019.59</td>\n",
       "      <td>0</td>\n",
       "    </tr>\n",
       "    <tr>\n",
       "      <th>85</th>\n",
       "      <td>652</td>\n",
       "      <td>Spain</td>\n",
       "      <td>Female</td>\n",
       "      <td>75</td>\n",
       "      <td>NaN</td>\n",
       "      <td>0.00</td>\n",
       "      <td>2</td>\n",
       "      <td>1</td>\n",
       "      <td>1</td>\n",
       "      <td>114675.75</td>\n",
       "      <td>0</td>\n",
       "    </tr>\n",
       "    <tr>\n",
       "      <th>94</th>\n",
       "      <td>730</td>\n",
       "      <td>Spain</td>\n",
       "      <td>Male</td>\n",
       "      <td>42</td>\n",
       "      <td>NaN</td>\n",
       "      <td>0.00</td>\n",
       "      <td>2</td>\n",
       "      <td>0</td>\n",
       "      <td>1</td>\n",
       "      <td>85982.47</td>\n",
       "      <td>0</td>\n",
       "    </tr>\n",
       "    <tr>\n",
       "      <th>99</th>\n",
       "      <td>413</td>\n",
       "      <td>France</td>\n",
       "      <td>Male</td>\n",
       "      <td>34</td>\n",
       "      <td>NaN</td>\n",
       "      <td>0.00</td>\n",
       "      <td>2</td>\n",
       "      <td>0</td>\n",
       "      <td>0</td>\n",
       "      <td>6534.18</td>\n",
       "      <td>0</td>\n",
       "    </tr>\n",
       "    <tr>\n",
       "      <th>111</th>\n",
       "      <td>538</td>\n",
       "      <td>Germany</td>\n",
       "      <td>Male</td>\n",
       "      <td>39</td>\n",
       "      <td>NaN</td>\n",
       "      <td>108055.10</td>\n",
       "      <td>2</td>\n",
       "      <td>1</td>\n",
       "      <td>0</td>\n",
       "      <td>27231.26</td>\n",
       "      <td>0</td>\n",
       "    </tr>\n",
       "  </tbody>\n",
       "</table>\n",
       "</div>"
      ],
      "text/plain": [
       "     credit_score geography  gender  age  tenure    balance  num_of_products  \\\n",
       "30            591     Spain  Female   39     NaN       0.00                3   \n",
       "48            550   Germany    Male   38     NaN  103391.38                1   \n",
       "51            585   Germany    Male   36     NaN  146050.97                2   \n",
       "53            655   Germany    Male   41     NaN  125561.97                1   \n",
       "60            742   Germany    Male   35     NaN  136857.00                1   \n",
       "82            543    France  Female   36     NaN       0.00                2   \n",
       "85            652     Spain  Female   75     NaN       0.00                2   \n",
       "94            730     Spain    Male   42     NaN       0.00                2   \n",
       "99            413    France    Male   34     NaN       0.00                2   \n",
       "111           538   Germany    Male   39     NaN  108055.10                2   \n",
       "\n",
       "     has_cr_card  is_active_member  estimated_salary  exited  \n",
       "30             1                 0         140469.38       1  \n",
       "48             0                 1          90878.13       0  \n",
       "51             0                 0          86424.57       0  \n",
       "53             0                 0         164040.94       1  \n",
       "60             0                 0          84509.57       0  \n",
       "82             0                 0          26019.59       0  \n",
       "85             1                 1         114675.75       0  \n",
       "94             0                 1          85982.47       0  \n",
       "99             0                 0           6534.18       0  \n",
       "111            1                 0          27231.26       0  "
      ]
     },
     "metadata": {},
     "output_type": "display_data"
    }
   ],
   "source": [
    "display(data[data['tenure'].isna()].head(10))"
   ]
  },
  {
   "cell_type": "markdown",
   "metadata": {},
   "source": [
    "Явных закономерностей не видно. Изучим признак `Tenure` подробнее. \n",
    "Для начала выясним, есть ли признаки, сильно коррелирующие с данным."
   ]
  },
  {
   "cell_type": "code",
   "execution_count": 13,
   "metadata": {},
   "outputs": [
    {
     "name": "stdout",
     "output_type": "stream",
     "text": [
      "Корреляция 'tenure' с 'credit_score' составляет -0.0\n",
      "Корреляция 'tenure' с 'age' составляет -0.013\n",
      "Корреляция 'tenure' с 'balance' составляет -0.008\n",
      "Корреляция 'tenure' с 'num_of_products' составляет 0.012\n",
      "Корреляция 'tenure' с 'has_cr_card' составляет 0.027\n",
      "Корреляция 'tenure' с 'is_active_member' составляет -0.032\n",
      "Корреляция 'tenure' с 'estimated_salary' составляет 0.011\n",
      "Корреляция 'tenure' с 'exited' составляет -0.017\n"
     ]
    }
   ],
   "source": [
    "for column in data.columns.drop('tenure'):\n",
    "    try:\n",
    "        corr = round(data['tenure'].corr(data[column]), 3)\n",
    "        print(f\"Корреляция 'tenure' с '{column}' составляет {corr}\")\n",
    "    except:\n",
    "        pass"
   ]
  },
  {
   "cell_type": "markdown",
   "metadata": {},
   "source": [
    "Очевидно, что `tenure` не зависит от других признаков. Попробуем заполнить пропуски медианными значениями признака для каждого возраста и посмотрим, как это отразится на статистических свойствах признака."
   ]
  },
  {
   "cell_type": "code",
   "execution_count": 14,
   "metadata": {
    "scrolled": false
   },
   "outputs": [
    {
     "data": {
      "text/plain": [
       "count    9091.000000\n",
       "mean        4.997690\n",
       "std         2.894723\n",
       "min         0.000000\n",
       "25%         2.000000\n",
       "50%         5.000000\n",
       "75%         7.000000\n",
       "max        10.000000\n",
       "Name: tenure, dtype: float64"
      ]
     },
     "metadata": {},
     "output_type": "display_data"
    },
    {
     "data": {
      "text/plain": [
       "<AxesSubplot:>"
      ]
     },
     "execution_count": 14,
     "metadata": {},
     "output_type": "execute_result"
    },
    {
     "data": {
      "image/png": "[encoded data removed]",
      "text/plain": [
       "<Figure size 432x288 with 1 Axes>"
      ]
     },
     "metadata": {
      "needs_background": "light"
     },
     "output_type": "display_data"
    }
   ],
   "source": [
    "display(data['tenure'].describe())\n",
    "data['tenure'].hist()"
   ]
  },
  {
   "cell_type": "code",
   "execution_count": 15,
   "metadata": {},
   "outputs": [
    {
     "data": {
      "text/plain": [
       "count    10000.000000\n",
       "mean         4.995800\n",
       "std          2.762118\n",
       "min          0.000000\n",
       "25%          3.000000\n",
       "50%          5.000000\n",
       "75%          7.000000\n",
       "max         10.000000\n",
       "Name: tenure, dtype: float64"
      ]
     },
     "metadata": {},
     "output_type": "display_data"
    },
    {
     "data": {
      "text/plain": [
       "<AxesSubplot:>"
      ]
     },
     "execution_count": 15,
     "metadata": {},
     "output_type": "execute_result"
    },
    {
     "data": {
      "image/png": "[encoded data removed]",
      "text/plain": [
       "<Figure size 432x288 with 1 Axes>"
      ]
     },
     "metadata": {
      "needs_background": "light"
     },
     "output_type": "display_data"
    }
   ],
   "source": [
    "data_for_experiment = deepcopy(data)\n",
    "for age in data_for_experiment['age'].unique():\n",
    "    data_for_experiment.loc[(data_for_experiment['age'] == age) &\\\n",
    "                            (data_for_experiment['tenure'].isna()), 'tenure'] =\\\n",
    "    data_for_experiment.loc[data_for_experiment['age'] == age, 'tenure'].median()\n",
    "display(data_for_experiment['tenure'].describe())\n",
    "data_for_experiment['tenure'].hist()"
   ]
  },
  {
   "cell_type": "markdown",
   "metadata": {},
   "source": [
    "Хотя статистические свойства `tenure` меняются незначительно, распределение сильно искажено. Лучшим выриантом в данном случае будет заполнить пропуски равноверятными случаными значениями от 0 до 10."
   ]
  },
  {
   "cell_type": "code",
   "execution_count": 16,
   "metadata": {
    "scrolled": false
   },
   "outputs": [
    {
     "data": {
      "text/plain": [
       "count    10000.000000\n",
       "mean         4.994600\n",
       "std          2.904069\n",
       "min          0.000000\n",
       "25%          2.000000\n",
       "50%          5.000000\n",
       "75%          8.000000\n",
       "max         10.000000\n",
       "Name: tenure, dtype: float64"
      ]
     },
     "metadata": {},
     "output_type": "display_data"
    },
    {
     "data": {
      "text/plain": [
       "<AxesSubplot:>"
      ]
     },
     "execution_count": 16,
     "metadata": {},
     "output_type": "execute_result"
    },
    {
     "data": {
      "image/png": "[encoded data removed]",
      "text/plain": [
       "<Figure size 432x288 with 1 Axes>"
      ]
     },
     "metadata": {
      "needs_background": "light"
     },
     "output_type": "display_data"
    }
   ],
   "source": [
    "def ret_rand(tenure):\n",
    "    if isnan(tenure):\n",
    "        return round(random()*10, 0)\n",
    "    else:\n",
    "        return tenure\n",
    "\n",
    "data_for_experiment2 = deepcopy(data)\n",
    "data_for_experiment2['tenure'] = data_for_experiment2['tenure'].apply(ret_rand)\n",
    "\n",
    "display(data_for_experiment2['tenure'].describe())\n",
    "data_for_experiment2['tenure'].hist()"
   ]
  },
  {
   "cell_type": "markdown",
   "metadata": {},
   "source": [
    "Данные сохранили статистические свойства и распределение. Продолжим работать с ними."
   ]
  },
  {
   "cell_type": "code",
   "execution_count": 17,
   "metadata": {},
   "outputs": [],
   "source": [
    "data = data_for_experiment2"
   ]
  },
  {
   "cell_type": "markdown",
   "metadata": {},
   "source": [
    "Рассмотрим подробнее признак `geography` на наличие неявных дубликатов."
   ]
  },
  {
   "cell_type": "code",
   "execution_count": 18,
   "metadata": {},
   "outputs": [
    {
     "data": {
      "text/plain": [
       "array(['France', 'Spain', 'Germany'], dtype=object)"
      ]
     },
     "execution_count": 18,
     "metadata": {},
     "output_type": "execute_result"
    }
   ],
   "source": [
    "data['geography'].unique()"
   ]
  },
  {
   "cell_type": "markdown",
   "metadata": {},
   "source": [
    "Неявных дубликатов не обнаружено, следовательно, дубликатов в датафрейме точно не было."
   ]
  },
  {
   "cell_type": "markdown",
   "metadata": {},
   "source": [
    "Для дальнейшей работы разобьём данные на признаки и классы, поделим выборки на обучающую, валидационную и тестовую в соотношении 60%/20%/20%."
   ]
  },
  {
   "cell_type": "code",
   "execution_count": 19,
   "metadata": {},
   "outputs": [
    {
     "name": "stdout",
     "output_type": "stream",
     "text": [
      "Размер обучающей выборки - 6000\n",
      "Размер валидационной выборки - 2000\n",
      "Размер тестовой выборки - 2000\n"
     ]
    }
   ],
   "source": [
    "features = data.drop('exited', axis=1)\n",
    "target = data['exited']\n",
    "\n",
    "features_train, features_other, target_train, target_other = train_test_split(features, target, test_size=0.4, random_state=0)\n",
    "features_valid, features_test, target_valid, target_test = train_test_split(features_other, target_other, test_size=0.5, random_state=0)\n",
    "print(f'Размер обучающей выборки - {len(features_train)}')\n",
    "print(f'Размер валидационной выборки - {len(features_valid)}')\n",
    "print(f'Размер тестовой выборки - {len(features_test)}')"
   ]
  },
  {
   "cell_type": "markdown",
   "metadata": {},
   "source": [
    "Применим OHE к признакам `gender` и `geography` в каждой выборке. Для начала напишем функцию, которая будет применять OHE к выбранным признакам с последующим удалением оригинальных признаков из датафрейма. Если среди исходных признаков будет встречаться бинарный, то первая новая колонка будет удаляться, для избежания дамми-ловушки."
   ]
  },
  {
   "cell_type": "code",
   "execution_count": 20,
   "metadata": {},
   "outputs": [],
   "source": [
    "def apply_OHE(features, columns, encoder):\n",
    "    features_transformed = encoder.transform(features[columns])\n",
    "    len_sum_old = 0\n",
    "    len_sum_new = 0\n",
    "    for categories in encoder.categories_:\n",
    "        len_sum_new += len(categories)\n",
    "        if len(categories) == 2:\n",
    "            len_sum_old += 1\n",
    "            categories = categories[1]\n",
    "        features[categories] = features_transformed.toarray()[:, len_sum_old:len_sum_new]\n",
    "        len_sum_old = len_sum_new\n",
    "    features = features.drop(columns, axis=1)\n",
    "    features = features.rename(columns={key: key.lower() for key in features.columns})\n",
    "    return features"
   ]
  },
  {
   "cell_type": "code",
   "execution_count": 21,
   "metadata": {},
   "outputs": [
    {
     "data": {
      "text/html": [
       "<div>\n",
       "<style scoped>\n",
       "    .dataframe tbody tr th:only-of-type {\n",
       "        vertical-align: middle;\n",
       "    }\n",
       "\n",
       "    .dataframe tbody tr th {\n",
       "        vertical-align: top;\n",
       "    }\n",
       "\n",
       "    .dataframe thead th {\n",
       "        text-align: right;\n",
       "    }\n",
       "</style>\n",
       "<table border=\"1\" class=\"dataframe\">\n",
       "  <thead>\n",
       "    <tr style=\"text-align: right;\">\n",
       "      <th></th>\n",
       "      <th>credit_score</th>\n",
       "      <th>age</th>\n",
       "      <th>tenure</th>\n",
       "      <th>balance</th>\n",
       "      <th>num_of_products</th>\n",
       "      <th>has_cr_card</th>\n",
       "      <th>is_active_member</th>\n",
       "      <th>estimated_salary</th>\n",
       "      <th>male</th>\n",
       "      <th>france</th>\n",
       "      <th>germany</th>\n",
       "      <th>spain</th>\n",
       "    </tr>\n",
       "  </thead>\n",
       "  <tbody>\n",
       "    <tr>\n",
       "      <th>7809</th>\n",
       "      <td>579</td>\n",
       "      <td>43</td>\n",
       "      <td>2.0</td>\n",
       "      <td>145843.82</td>\n",
       "      <td>1</td>\n",
       "      <td>1</td>\n",
       "      <td>1</td>\n",
       "      <td>198402.37</td>\n",
       "      <td>1.0</td>\n",
       "      <td>0.0</td>\n",
       "      <td>0.0</td>\n",
       "      <td>1.0</td>\n",
       "    </tr>\n",
       "    <tr>\n",
       "      <th>5279</th>\n",
       "      <td>652</td>\n",
       "      <td>40</td>\n",
       "      <td>7.0</td>\n",
       "      <td>100471.34</td>\n",
       "      <td>1</td>\n",
       "      <td>1</td>\n",
       "      <td>1</td>\n",
       "      <td>124550.88</td>\n",
       "      <td>0.0</td>\n",
       "      <td>0.0</td>\n",
       "      <td>0.0</td>\n",
       "      <td>1.0</td>\n",
       "    </tr>\n",
       "    <tr>\n",
       "      <th>3279</th>\n",
       "      <td>652</td>\n",
       "      <td>37</td>\n",
       "      <td>5.0</td>\n",
       "      <td>0.00</td>\n",
       "      <td>2</td>\n",
       "      <td>1</td>\n",
       "      <td>0</td>\n",
       "      <td>68789.93</td>\n",
       "      <td>1.0</td>\n",
       "      <td>0.0</td>\n",
       "      <td>0.0</td>\n",
       "      <td>1.0</td>\n",
       "    </tr>\n",
       "    <tr>\n",
       "      <th>8984</th>\n",
       "      <td>645</td>\n",
       "      <td>25</td>\n",
       "      <td>0.0</td>\n",
       "      <td>174400.36</td>\n",
       "      <td>1</td>\n",
       "      <td>1</td>\n",
       "      <td>0</td>\n",
       "      <td>42669.37</td>\n",
       "      <td>1.0</td>\n",
       "      <td>1.0</td>\n",
       "      <td>0.0</td>\n",
       "      <td>0.0</td>\n",
       "    </tr>\n",
       "    <tr>\n",
       "      <th>8466</th>\n",
       "      <td>613</td>\n",
       "      <td>36</td>\n",
       "      <td>9.0</td>\n",
       "      <td>131307.11</td>\n",
       "      <td>1</td>\n",
       "      <td>0</td>\n",
       "      <td>0</td>\n",
       "      <td>83343.73</td>\n",
       "      <td>1.0</td>\n",
       "      <td>1.0</td>\n",
       "      <td>0.0</td>\n",
       "      <td>0.0</td>\n",
       "    </tr>\n",
       "  </tbody>\n",
       "</table>\n",
       "</div>"
      ],
      "text/plain": [
       "      credit_score  age  tenure    balance  num_of_products  has_cr_card  \\\n",
       "7809           579   43     2.0  145843.82                1            1   \n",
       "5279           652   40     7.0  100471.34                1            1   \n",
       "3279           652   37     5.0       0.00                2            1   \n",
       "8984           645   25     0.0  174400.36                1            1   \n",
       "8466           613   36     9.0  131307.11                1            0   \n",
       "\n",
       "      is_active_member  estimated_salary  male  france  germany  spain  \n",
       "7809                 1         198402.37   1.0     0.0      0.0    1.0  \n",
       "5279                 1         124550.88   0.0     0.0      0.0    1.0  \n",
       "3279                 0          68789.93   1.0     0.0      0.0    1.0  \n",
       "8984                 0          42669.37   1.0     1.0      0.0    0.0  \n",
       "8466                 0          83343.73   1.0     1.0      0.0    0.0  "
      ]
     },
     "metadata": {},
     "output_type": "display_data"
    }
   ],
   "source": [
    "encoder = OneHotEncoder(handle_unknown='ignore').fit(features_train[['gender', 'geography']], target_train)\n",
    "\n",
    "features_train = apply_OHE(features_train, ['gender', 'geography'], encoder)\n",
    "features_valid = apply_OHE(features_valid, ['gender', 'geography'], encoder)\n",
    "features_test = apply_OHE(features_test, ['gender', 'geography'], encoder)\n",
    "display(features_train.head())"
   ]
  },
  {
   "cell_type": "code",
   "execution_count": 22,
   "metadata": {},
   "outputs": [
    {
     "data": {
      "text/plain": [
       "credit_score        0\n",
       "age                 0\n",
       "tenure              0\n",
       "balance             0\n",
       "num_of_products     0\n",
       "has_cr_card         0\n",
       "is_active_member    0\n",
       "estimated_salary    0\n",
       "male                0\n",
       "france              0\n",
       "germany             0\n",
       "spain               0\n",
       "dtype: int64"
      ]
     },
     "execution_count": 22,
     "metadata": {},
     "output_type": "execute_result"
    }
   ],
   "source": [
    "features_train.isna().sum()"
   ]
  },
  {
   "cell_type": "markdown",
   "metadata": {},
   "source": [
    "Масштабируем количественные признаки стандартизацией."
   ]
  },
  {
   "cell_type": "code",
   "execution_count": 23,
   "metadata": {
    "scrolled": false
   },
   "outputs": [
    {
     "data": {
      "text/html": [
       "<div>\n",
       "<style scoped>\n",
       "    .dataframe tbody tr th:only-of-type {\n",
       "        vertical-align: middle;\n",
       "    }\n",
       "\n",
       "    .dataframe tbody tr th {\n",
       "        vertical-align: top;\n",
       "    }\n",
       "\n",
       "    .dataframe thead th {\n",
       "        text-align: right;\n",
       "    }\n",
       "</style>\n",
       "<table border=\"1\" class=\"dataframe\">\n",
       "  <thead>\n",
       "    <tr style=\"text-align: right;\">\n",
       "      <th></th>\n",
       "      <th>credit_score</th>\n",
       "      <th>age</th>\n",
       "      <th>tenure</th>\n",
       "      <th>balance</th>\n",
       "      <th>num_of_products</th>\n",
       "      <th>has_cr_card</th>\n",
       "      <th>is_active_member</th>\n",
       "      <th>estimated_salary</th>\n",
       "      <th>male</th>\n",
       "      <th>france</th>\n",
       "      <th>germany</th>\n",
       "      <th>spain</th>\n",
       "    </tr>\n",
       "  </thead>\n",
       "  <tbody>\n",
       "    <tr>\n",
       "      <th>7809</th>\n",
       "      <td>-0.744432</td>\n",
       "      <td>0.400729</td>\n",
       "      <td>-1.024617</td>\n",
       "      <td>1.123796</td>\n",
       "      <td>1</td>\n",
       "      <td>1</td>\n",
       "      <td>1</td>\n",
       "      <td>1.702726</td>\n",
       "      <td>1.0</td>\n",
       "      <td>0.0</td>\n",
       "      <td>0.0</td>\n",
       "      <td>1.0</td>\n",
       "    </tr>\n",
       "    <tr>\n",
       "      <th>5279</th>\n",
       "      <td>0.009441</td>\n",
       "      <td>0.111996</td>\n",
       "      <td>0.689171</td>\n",
       "      <td>0.401011</td>\n",
       "      <td>1</td>\n",
       "      <td>1</td>\n",
       "      <td>1</td>\n",
       "      <td>0.422349</td>\n",
       "      <td>0.0</td>\n",
       "      <td>0.0</td>\n",
       "      <td>0.0</td>\n",
       "      <td>1.0</td>\n",
       "    </tr>\n",
       "    <tr>\n",
       "      <th>3279</th>\n",
       "      <td>0.009441</td>\n",
       "      <td>-0.176737</td>\n",
       "      <td>0.003656</td>\n",
       "      <td>-1.199501</td>\n",
       "      <td>2</td>\n",
       "      <td>1</td>\n",
       "      <td>0</td>\n",
       "      <td>-0.544388</td>\n",
       "      <td>1.0</td>\n",
       "      <td>0.0</td>\n",
       "      <td>0.0</td>\n",
       "      <td>1.0</td>\n",
       "    </tr>\n",
       "    <tr>\n",
       "      <th>8984</th>\n",
       "      <td>-0.062849</td>\n",
       "      <td>-1.331668</td>\n",
       "      <td>-1.710132</td>\n",
       "      <td>1.578702</td>\n",
       "      <td>1</td>\n",
       "      <td>1</td>\n",
       "      <td>0</td>\n",
       "      <td>-0.997245</td>\n",
       "      <td>1.0</td>\n",
       "      <td>1.0</td>\n",
       "      <td>0.0</td>\n",
       "      <td>0.0</td>\n",
       "    </tr>\n",
       "    <tr>\n",
       "      <th>8466</th>\n",
       "      <td>-0.393313</td>\n",
       "      <td>-0.272981</td>\n",
       "      <td>1.374686</td>\n",
       "      <td>0.892225</td>\n",
       "      <td>1</td>\n",
       "      <td>0</td>\n",
       "      <td>0</td>\n",
       "      <td>-0.292067</td>\n",
       "      <td>1.0</td>\n",
       "      <td>1.0</td>\n",
       "      <td>0.0</td>\n",
       "      <td>0.0</td>\n",
       "    </tr>\n",
       "  </tbody>\n",
       "</table>\n",
       "</div>"
      ],
      "text/plain": [
       "      credit_score       age    tenure   balance  num_of_products  \\\n",
       "7809     -0.744432  0.400729 -1.024617  1.123796                1   \n",
       "5279      0.009441  0.111996  0.689171  0.401011                1   \n",
       "3279      0.009441 -0.176737  0.003656 -1.199501                2   \n",
       "8984     -0.062849 -1.331668 -1.710132  1.578702                1   \n",
       "8466     -0.393313 -0.272981  1.374686  0.892225                1   \n",
       "\n",
       "      has_cr_card  is_active_member  estimated_salary  male  france  germany  \\\n",
       "7809            1                 1          1.702726   1.0     0.0      0.0   \n",
       "5279            1                 1          0.422349   0.0     0.0      0.0   \n",
       "3279            1                 0         -0.544388   1.0     0.0      0.0   \n",
       "8984            1                 0         -0.997245   1.0     1.0      0.0   \n",
       "8466            0                 0         -0.292067   1.0     1.0      0.0   \n",
       "\n",
       "      spain  \n",
       "7809    1.0  \n",
       "5279    1.0  \n",
       "3279    1.0  \n",
       "8984    0.0  \n",
       "8466    0.0  "
      ]
     },
     "execution_count": 23,
     "metadata": {},
     "output_type": "execute_result"
    }
   ],
   "source": [
    "scaler = StandardScaler()\n",
    "quantitative_features = ['credit_score', 'age', 'tenure', 'balance', 'estimated_salary']\n",
    "scaler.fit(features_train[quantitative_features])\n",
    "\n",
    "features_train[quantitative_features] = scaler.transform(features_train[quantitative_features])\n",
    "features_valid[quantitative_features] = scaler.transform(features_valid[quantitative_features])\n",
    "features_test[quantitative_features] = scaler.transform(features_test[quantitative_features])\n",
    "features_train.head()"
   ]
  },
  {
   "cell_type": "markdown",
   "metadata": {},
   "source": [
    "**Данные готовы к работе.**"
   ]
  },
  {
   "cell_type": "markdown",
   "metadata": {},
   "source": [
    "## Исследование задачи"
   ]
  },
  {
   "cell_type": "markdown",
   "metadata": {},
   "source": [
    "### Выбор моделей"
   ]
  },
  {
   "cell_type": "markdown",
   "metadata": {},
   "source": [
    "Перед нами стоит задача бинарной классификации. Для её решения используются решающие деревья, случайные леса, логистическая регрессия и методы опорных векторов (далее рассмотрим линейный метод)."
   ]
  },
  {
   "cell_type": "markdown",
   "metadata": {},
   "source": [
    "### Исследование баланса классов"
   ]
  },
  {
   "cell_type": "markdown",
   "metadata": {},
   "source": [
    "Выведем количество отрицательных и положительных объектов. "
   ]
  },
  {
   "cell_type": "code",
   "execution_count": 24,
   "metadata": {},
   "outputs": [
    {
     "name": "stdout",
     "output_type": "stream",
     "text": [
      "7963\n",
      "2037\n"
     ]
    }
   ],
   "source": [
    "target_zeros = target[target == 0]\n",
    "target_ones = target[target == 1]\n",
    "\n",
    "print(len(target_zeros))\n",
    "print(len(target_ones))"
   ]
  },
  {
   "cell_type": "markdown",
   "metadata": {},
   "source": [
    "Количество отрицательных объектов почти в 4 раза превосходит количество положительных."
   ]
  },
  {
   "cell_type": "markdown",
   "metadata": {},
   "source": [
    "<div class=\"alert alert-success\">\n",
    "<h2> Комментарий ревьюера <a class=\"tocSkip\"> </h2>\n",
    "\n",
    "<b>Все отлично!👍:</b> \n",
    "\n",
    "Хорошо исследован дисбаланс!"
   ]
  },
  {
   "cell_type": "markdown",
   "metadata": {},
   "source": [
    "### Изучение моделей без учёта дисбаланса классов"
   ]
  },
  {
   "cell_type": "markdown",
   "metadata": {},
   "source": [
    "Найдём для каждой модели оптимальные гиперпараметры и вычислим F1-меру для каждой оптимальной модели."
   ]
  },
  {
   "cell_type": "markdown",
   "metadata": {},
   "source": [
    "#### Решающее дерево"
   ]
  },
  {
   "cell_type": "markdown",
   "metadata": {},
   "source": [
    "Для решающего дерева найдём оптимальный гиперпарметр `max_depth`, а также порог классификации и выведем значение F1-меры для оптимальной модели."
   ]
  },
  {
   "cell_type": "code",
   "execution_count": 25,
   "metadata": {},
   "outputs": [
    {
     "name": "stderr",
     "output_type": "stream",
     "text": [
      "100%|██████████| 10/10 [00:00<00:00, 11.89it/s]"
     ]
    },
    {
     "name": "stdout",
     "output_type": "stream",
     "text": [
      "Лучшее значение F1-меры для решающего дерева: 0.62.\n",
      "Достигается при значении гиперпараметра `max_depth`, равном 7\n",
      "и пороге классификации, равном 0.3.\n"
     ]
    },
    {
     "name": "stderr",
     "output_type": "stream",
     "text": [
      "\n"
     ]
    }
   ],
   "source": [
    "best_score = 0\n",
    "best_depth_tree = 0\n",
    "best_threshold = 0\n",
    "\n",
    "for depth in tqdm(range(1, 11)):\n",
    "    model = DecisionTreeClassifier(max_depth=depth, random_state=0).fit(features_train, target_train)\n",
    "    probabilities_valid = model.predict_proba(features_valid)\n",
    "    probabilities_one_valid = probabilities_valid[:, 1]\n",
    "    for threshold in np.arange(0, 0.52, 0.02):\n",
    "        predicted_valid = probabilities_one_valid > threshold\n",
    "        model_score = f1_score(target_valid, predicted_valid)\n",
    "        if best_score < model_score:\n",
    "            best_score = model_score\n",
    "            best_depth_tree = depth\n",
    "            best_threshold = threshold\n",
    "            \n",
    "best_score = round(best_score, 2)       \n",
    "print(f'Лучшее значение F1-меры для решающего дерева: {best_score}.')\n",
    "print(f'Достигается при значении гиперпараметра `max_depth`, равном {best_depth_tree}')\n",
    "print(f'и пороге классификации, равном {best_threshold}.')"
   ]
  },
  {
   "cell_type": "markdown",
   "metadata": {},
   "source": [
    "#### Случайный лес "
   ]
  },
  {
   "cell_type": "markdown",
   "metadata": {},
   "source": [
    "Для случайного леса найдём оптимальные гиперпарметры `n_estimators` и `max_depth`, а также порог классификации и выведем значение F1-меры для оптимальной модели."
   ]
  },
  {
   "cell_type": "code",
   "execution_count": 26,
   "metadata": {},
   "outputs": [
    {
     "name": "stderr",
     "output_type": "stream",
     "text": [
      "100%|██████████| 34/34 [05:00<00:00,  8.84s/it]"
     ]
    },
    {
     "name": "stdout",
     "output_type": "stream",
     "text": [
      "Лучшее значение F1-меры для случайного леса: 0.66.\n",
      "Достигается при значении гиперпараметра `n_estimators`, равном 230,\n",
      "значении `max_depth`, равном 9\n",
      "и пороге классификации, равном 0.32.\n"
     ]
    },
    {
     "name": "stderr",
     "output_type": "stream",
     "text": [
      "\n"
     ]
    }
   ],
   "source": [
    "best_score = 0\n",
    "best_n_estimators = 0\n",
    "best_depth_forest = 0\n",
    "best_threshold = 0\n",
    "\n",
    "for est in tqdm(range(10, 350, 10)):\n",
    "    for depth in range(1, 11):\n",
    "        model = RandomForestClassifier(n_estimators=est, max_depth=depth, random_state=0).fit(features_train, target_train)      \n",
    "        probabilities_valid = model.predict_proba(features_valid)\n",
    "        probabilities_one_valid = probabilities_valid[:, 1]\n",
    "        for threshold in np.arange(0, 0.52, 0.02):\n",
    "            predicted_valid = probabilities_one_valid > threshold\n",
    "            model_score = f1_score(target_valid, predicted_valid)        \n",
    "            if best_score < model_score:\n",
    "                best_score = model_score\n",
    "                best_n_estimators = est\n",
    "                best_depth_forest = depth\n",
    "                best_threshold = threshold\n",
    "            \n",
    "best_score = round(best_score, 2)      \n",
    "print(f'Лучшее значение F1-меры для случайного леса: {best_score}.')\n",
    "print(f'Достигается при значении гиперпараметра `n_estimators`, равном {best_n_estimators},')\n",
    "print(f'значении `max_depth`, равном {best_depth_forest}')\n",
    "print(f'и пороге классификации, равном {best_threshold}.')"
   ]
  },
  {
   "cell_type": "markdown",
   "metadata": {},
   "source": [
    "#### Логистическая регрессия"
   ]
  },
  {
   "cell_type": "markdown",
   "metadata": {},
   "source": [
    "Для логистической регресси найдём оптимальные гиперпарметры `penalty` и `C`, а также порог классификации и выведем значение F1-меры для оптимальной модели."
   ]
  },
  {
   "cell_type": "code",
   "execution_count": 27,
   "metadata": {},
   "outputs": [
    {
     "name": "stderr",
     "output_type": "stream",
     "text": [
      "100%|██████████| 20/20 [00:16<00:00,  1.19it/s]"
     ]
    },
    {
     "name": "stdout",
     "output_type": "stream",
     "text": [
      "Лучшее значение F1-меры для логистической регрессии: 0.52.\n",
      "Достигается при значении гиперпараметра `penalty`, равном none,\n",
      "значении `C`, равном 0.05\n",
      "и пороге классификации, равном 0.26.\n"
     ]
    },
    {
     "name": "stderr",
     "output_type": "stream",
     "text": [
      "\n"
     ]
    }
   ],
   "source": [
    "best_score = 0\n",
    "penalties = ['none', 'l1', 'l2', 'elasticnet']\n",
    "best_penalty = None\n",
    "best_C = 0\n",
    "best_threshold = 0\n",
    "for C in tqdm(arange(0, 1, 0.05)):\n",
    "    for penalty in penalties:\n",
    "        try:\n",
    "            model = LogisticRegression(penalty=penalty, C=C, random_state=0).fit(features_train, target_train)\n",
    "            probabilities_valid = model.predict_proba(features_valid)\n",
    "            probabilities_one_valid = probabilities_valid[:, 1]\n",
    "            for threshold in np.arange(0, 0.52, 0.02):\n",
    "                predicted_valid = probabilities_one_valid > threshold\n",
    "                model_score = f1_score(target_valid, predicted_valid)\n",
    "                if best_score < model_score:\n",
    "                    best_score = model_score\n",
    "                    best_penalty = penalty\n",
    "                    best_C = C\n",
    "                    best_threshold = threshold\n",
    "        except:\n",
    "            pass\n",
    "        \n",
    "best_score = round(best_score, 2)        \n",
    "print(f'Лучшее значение F1-меры для логистической регрессии: {best_score}.')\n",
    "print(f'Достигается при значении гиперпараметра `penalty`, равном {best_penalty},')\n",
    "print(f'значении `C`, равном {best_C}')\n",
    "print(f'и пороге классификации, равном {best_threshold}.')\n",
    "\n"
   ]
  },
  {
   "cell_type": "markdown",
   "metadata": {},
   "source": [
    "#### Линейный метод опорных векторов"
   ]
  },
  {
   "cell_type": "markdown",
   "metadata": {},
   "source": [
    "Для линейного метода опорных векторов найдём оптимальные гиперпарметры `penalty`, `loss` и `C` и выведем значение F1-меры для оптимальной модели. (Поменять порог классификации не удастся, т.к. у линейного метода опорных векторов нет метода predict_proba или подного)"
   ]
  },
  {
   "cell_type": "code",
   "execution_count": 28,
   "metadata": {
    "scrolled": true
   },
   "outputs": [
    {
     "name": "stderr",
     "output_type": "stream",
     "text": [
      "100%|██████████| 20/20 [00:08<00:00,  2.31it/s]"
     ]
    },
    {
     "name": "stdout",
     "output_type": "stream",
     "text": [
      "Лучшее значение F1-меры для линейного метода опорных векторов: 0.27.\n",
      "Достигается при значении гиперпараметра `penalty`, равном l2\n",
      "значении `loss`, равном squared_hinge.\n",
      "и значении `C`, равном 0.05.\n"
     ]
    },
    {
     "name": "stderr",
     "output_type": "stream",
     "text": [
      "\n"
     ]
    }
   ],
   "source": [
    "best_score = 0\n",
    "penalties = ['l1', 'l2']\n",
    "losses = ['hinge', 'squared_hinge']\n",
    "best_penalty = None\n",
    "best_loss = None\n",
    "best_C = 0\n",
    "for C in tqdm(arange(0, 1, 0.05)):\n",
    "    for penalty in penalties:\n",
    "        for loss in losses:\n",
    "            try:\n",
    "                model = LinearSVC(penalty=penalty, loss=loss, C=C, random_state=0).fit(features_train, target_train)\n",
    "                model_score = f1_score(target_valid, model.predict(features_valid))\n",
    "                if best_score < model_score:\n",
    "                    best_score = model_score\n",
    "                    best_penalty = penalty\n",
    "                    best_loss = loss\n",
    "                    best_C = C\n",
    "            except:\n",
    "                pass\n",
    "            \n",
    "best_score = round(best_score, 2)\n",
    "print(f'Лучшее значение F1-меры для линейного метода опорных векторов: {best_score}.')\n",
    "print(f'Достигается при значении гиперпараметра `penalty`, равном {best_penalty}')\n",
    "print(f'значении `loss`, равном {best_loss}.')\n",
    "print(f'и значении `C`, равном {best_C}.')"
   ]
  },
  {
   "cell_type": "markdown",
   "metadata": {},
   "source": [
    "### Выводы\n",
    "\n",
    "Без учёта дисбаланса классов модели можно ранжировать в порядке уменьшения значения F1-меры следующим образом:\n",
    "\n",
    "1. случайнвй лес, F1-мера - 0.67\n",
    "2. решающее дерево, F1-мера - 0.62\n",
    "3. логистическая регрессия, F1-мера - 0.52\n",
    "4. линейный метод опорных векторов, F1-мера - 0.27\n",
    "\n",
    "Стоит отметить, что первые две модели на валидационной выборке достигают поставленного в задаче значения F1-меры (0.59) даже при дисбалансе классов."
   ]
  },
  {
   "cell_type": "markdown",
   "metadata": {},
   "source": [
    "## Борьба с дисбалансом"
   ]
  },
  {
   "cell_type": "markdown",
   "metadata": {},
   "source": [
    "Для борьбы с дисбалансом классов используем пять приёмов: downsampling \"вручную\" и методом RundomUnderSampler, upsambling \"вручную\" и методом SMOTE, а такжедобавление моделям параметра `class_weight` со значением `balanced`.\n",
    "\n",
    "Чтобы дальше трижды не повторять код, написанный выше, оформим его в отдельную функцию, которая принимает на вход обучающую и валидационную выборки и параметр balanced, который будет передаваться в параметр моделей class_weight."
   ]
  },
  {
   "cell_type": "code",
   "execution_count": 29,
   "metadata": {},
   "outputs": [],
   "source": [
    "def experiment(features_train,  features_valid, target_train,  target_valid, class_weight=None):\n",
    "    \n",
    "    #решающее дерево\n",
    "    best_score = 0\n",
    "    best_depth_tree = 0\n",
    "    best_threshold = 0\n",
    "    \n",
    "    model = None\n",
    "    for depth in tqdm(range(1, 11)):\n",
    "        model = DecisionTreeClassifier(max_depth=depth, class_weight=class_weight, random_state=0).fit(features_train, target_train)\n",
    "        probabilities_valid = model.predict_proba(features_valid)\n",
    "        probabilities_one_valid = probabilities_valid[:, 1]\n",
    "        for threshold in np.arange(0, 0.52, 0.02):\n",
    "            predicted_valid = probabilities_one_valid > threshold\n",
    "            model_score = f1_score(target_valid, predicted_valid)\n",
    "            if best_score < model_score:\n",
    "                best_score = model_score\n",
    "                best_depth_tree = depth\n",
    "                best_threshold = threshold\n",
    "                \n",
    "    best_score = round(best_score, 2)       \n",
    "    print(f'Лучшее значение F1-меры для решающего дерева: {best_score}.')\n",
    "    print(f'Достигается при значении гиперпараметра `max_depth`, равном {best_depth_tree}')\n",
    "    print(f'и пороге классификации, равном {best_threshold}.')\n",
    "    \n",
    "    #случайный лес\n",
    "    best_score = 0\n",
    "    best_n_estimators = 0\n",
    "    best_depth_forest = 0\n",
    "    best_threshold = 0\n",
    "    \n",
    "    for est in tqdm(range(10, 350, 10)):\n",
    "        for depth in range(1, 11):\n",
    "            model = RandomForestClassifier(n_estimators=est, max_depth=depth, class_weight=class_weight, random_state=0).fit(features_train, target_train)      \n",
    "            probabilities_valid = model.predict_proba(features_valid)\n",
    "            probabilities_one_valid = probabilities_valid[:, 1]\n",
    "            for threshold in np.arange(0, 0.52, 0.02):\n",
    "                predicted_valid = probabilities_one_valid > threshold\n",
    "                model_score = f1_score(target_valid, predicted_valid)        \n",
    "                if best_score < model_score:\n",
    "                    best_score = model_score\n",
    "                    best_n_estimators = est\n",
    "                    best_depth_forest = depth\n",
    "                    best_threshold = threshold\n",
    "                \n",
    "    best_score = round(best_score, 2)      \n",
    "    print(f'Лучшее значение F1-меры для случайного леса: {best_score}.')\n",
    "    print(f'Достигается при значении гиперпараметра `n_estimators`, равном {best_n_estimators},')\n",
    "    print(f'значении `max_depth`, равном {best_depth_forest}')\n",
    "    print(f'и пороге классификации, равном {best_threshold}.')\n",
    "    \n",
    "    #логистическая регрессия\n",
    "    best_score = 0\n",
    "    penalties = ['none', 'l1', 'l2', 'elasticnet']\n",
    "    best_penalty = None\n",
    "    best_C = 0\n",
    "    best_threshold = 0\n",
    "    for C in tqdm(arange(0, 1, 0.05)):\n",
    "        for penalty in penalties:\n",
    "            try:\n",
    "                model = LogisticRegression(penalty=penalty, C=C, class_weight=class_weight, random_state=0).fit(features_train, target_train)\n",
    "                probabilities_valid = model.predict_proba(features_valid)\n",
    "                probabilities_one_valid = probabilities_valid[:, 1]\n",
    "                for threshold in np.arange(0, 0.52, 0.02):\n",
    "                    predicted_valid = probabilities_one_valid > threshold\n",
    "                    model_score = f1_score(target_valid, predicted_valid)\n",
    "                    if best_score < model_score:\n",
    "                        best_score = model_score\n",
    "                        best_penalty = penalty\n",
    "                        best_C = C\n",
    "                        best_threshold = threshold\n",
    "            except:\n",
    "                pass\n",
    "        \n",
    "    best_score = round(best_score, 2)        \n",
    "    print(f'Лучшее значение F1-меры для логистической регрессии: {best_score}.')\n",
    "    print(f'Достигается при значении гиперпараметра `penalty`, равном {best_penalty},')\n",
    "    print(f'значении `C`, равном {best_C}')\n",
    "    print(f'и пороге классификации, равном {best_threshold}.')\n",
    "\n",
    "    #линейный метод опорных векторов\n",
    "    best_score = 0\n",
    "    penalties = ['l1', 'l2']\n",
    "    losses = ['hinge', 'squared_hinge']\n",
    "    best_penalty = None\n",
    "    best_loss = None\n",
    "    best_C = 0\n",
    "    for C in tqdm(arange(0, 1, 0.05)):\n",
    "        for penalty in penalties:\n",
    "            for loss in losses:\n",
    "                try:\n",
    "                    model = LinearSVC(penalty=penalty, loss=loss, C=C, class_weight=class_weight, random_state=0).fit(features_train, target_train)\n",
    "                    model_score = f1_score(target_valid, model.predict(features_valid))\n",
    "                    if best_score < model_score:\n",
    "                        best_score = model_score\n",
    "                        best_penalty = penalty\n",
    "                        best_loss = loss\n",
    "                        best_C = C\n",
    "                except:\n",
    "                    pass\n",
    "                \n",
    "    best_score = round(best_score, 2)\n",
    "    print(f'Лучшее значение F1-меры для линейного метода опорных векторов: {best_score}.')\n",
    "    print(f'Достигается при значении гиперпараметра `penalty`, равном {best_penalty}')\n",
    "    print(f'значении `loss`, равном {best_loss}.')\n",
    "    print(f'и значении `C`, равном {best_C}.')"
   ]
  },
  {
   "cell_type": "markdown",
   "metadata": {},
   "source": [
    "### Downsampling"
   ]
  },
  {
   "cell_type": "markdown",
   "metadata": {},
   "source": [
    "#### \"Вручную\""
   ]
  },
  {
   "cell_type": "markdown",
   "metadata": {},
   "source": [
    "Напишем функцию для уменьшения размера выборки с созданием баланса классов."
   ]
  },
  {
   "cell_type": "code",
   "execution_count": 30,
   "metadata": {},
   "outputs": [],
   "source": [
    "def downsample(features, target):\n",
    "    features_zeros = features[target == 0]\n",
    "    features_ones = features[target == 1]\n",
    "    target_zeros = target[target == 0]\n",
    "    target_ones = target[target == 1]\n",
    "    \n",
    "    if len(features_zeros) > len(features_ones):\n",
    "        fraction = len(features_ones)/len(features_zeros)\n",
    "        features_downsampled = pd.concat(\n",
    "        [features_zeros.sample(frac=fraction, random_state=0)] + [features_ones])\n",
    "        target_downsampled = pd.concat(\n",
    "        [target_zeros.sample(frac=fraction, random_state=0)] + [target_ones])\n",
    "    elif len(features_ones) > len(features_zeros):\n",
    "        fraction = len(features_zeros)/len(features_ones)\n",
    "        features_downsampled = pd.concat(\n",
    "        [features_ones.sample(frac=fraction, random_state=0)] + [features_zeros])\n",
    "        target_downsampled = pd.concat(\n",
    "        [target_ones.sample(frac=fraction, random_state=0)] + [target_zeros])\n",
    "        \n",
    "    features_downsampled, target_downsampled = shuffle(\n",
    "        features_downsampled, target_downsampled, random_state=0)\n",
    "    \n",
    "    return features_downsampled, target_downsampled"
   ]
  },
  {
   "cell_type": "markdown",
   "metadata": {},
   "source": [
    "Исследуем модели, обученные на уменьшенных сбалансированных выборках."
   ]
  },
  {
   "cell_type": "code",
   "execution_count": 31,
   "metadata": {
    "scrolled": false
   },
   "outputs": [
    {
     "name": "stderr",
     "output_type": "stream",
     "text": [
      "100%|██████████| 10/10 [00:00<00:00, 14.11it/s]\n"
     ]
    },
    {
     "name": "stdout",
     "output_type": "stream",
     "text": [
      "Лучшее значение F1-меры для решающего дерева: 0.6.\n",
      "Достигается при значении гиперпараметра `max_depth`, равном 6\n",
      "и пороге классификации, равном 0.5.\n"
     ]
    },
    {
     "name": "stderr",
     "output_type": "stream",
     "text": [
      "100%|██████████| 34/34 [03:11<00:00,  5.62s/it]\n"
     ]
    },
    {
     "name": "stdout",
     "output_type": "stream",
     "text": [
      "Лучшее значение F1-меры для случайного леса: 0.61.\n",
      "Достигается при значении гиперпараметра `n_estimators`, равном 90,\n",
      "значении `max_depth`, равном 8\n",
      "и пороге классификации, равном 0.5.\n"
     ]
    },
    {
     "name": "stderr",
     "output_type": "stream",
     "text": [
      "100%|██████████| 20/20 [00:13<00:00,  1.46it/s]\n"
     ]
    },
    {
     "name": "stdout",
     "output_type": "stream",
     "text": [
      "Лучшее значение F1-меры для логистической регрессии: 0.51.\n",
      "Достигается при значении гиперпараметра `penalty`, равном l2,\n",
      "значении `C`, равном 0.30000000000000004\n",
      "и пороге классификации, равном 0.5.\n"
     ]
    },
    {
     "name": "stderr",
     "output_type": "stream",
     "text": [
      "100%|██████████| 20/20 [00:07<00:00,  2.64it/s]"
     ]
    },
    {
     "name": "stdout",
     "output_type": "stream",
     "text": [
      "Лучшее значение F1-меры для линейного метода опорных векторов: 0.52.\n",
      "Достигается при значении гиперпараметра `penalty`, равном l2\n",
      "значении `loss`, равном hinge.\n",
      "и значении `C`, равном 0.25.\n"
     ]
    },
    {
     "name": "stderr",
     "output_type": "stream",
     "text": [
      "\n"
     ]
    }
   ],
   "source": [
    "features_train_downsampled, target_train_downsampled = downsample(features_train, target_train)\n",
    "experiment(features_train_downsampled, features_valid, target_train_downsampled, target_valid)"
   ]
  },
  {
   "cell_type": "markdown",
   "metadata": {},
   "source": [
    "#### RundomUnderSampler"
   ]
  },
  {
   "cell_type": "code",
   "execution_count": 32,
   "metadata": {},
   "outputs": [
    {
     "name": "stderr",
     "output_type": "stream",
     "text": [
      "100%|██████████| 10/10 [00:00<00:00, 13.51it/s]\n"
     ]
    },
    {
     "name": "stdout",
     "output_type": "stream",
     "text": [
      "Лучшее значение F1-меры для решающего дерева: 0.6.\n",
      "Достигается при значении гиперпараметра `max_depth`, равном 6\n",
      "и пороге классификации, равном 0.5.\n"
     ]
    },
    {
     "name": "stderr",
     "output_type": "stream",
     "text": [
      "100%|██████████| 34/34 [03:12<00:00,  5.66s/it]\n"
     ]
    },
    {
     "name": "stdout",
     "output_type": "stream",
     "text": [
      "Лучшее значение F1-меры для случайного леса: 0.62.\n",
      "Достигается при значении гиперпараметра `n_estimators`, равном 60,\n",
      "значении `max_depth`, равном 9\n",
      "и пороге классификации, равном 0.5.\n"
     ]
    },
    {
     "name": "stderr",
     "output_type": "stream",
     "text": [
      "100%|██████████| 20/20 [00:13<00:00,  1.53it/s]\n"
     ]
    },
    {
     "name": "stdout",
     "output_type": "stream",
     "text": [
      "Лучшее значение F1-меры для логистической регрессии: 0.51.\n",
      "Достигается при значении гиперпараметра `penalty`, равном l2,\n",
      "значении `C`, равном 0.30000000000000004\n",
      "и пороге классификации, равном 0.5.\n"
     ]
    },
    {
     "name": "stderr",
     "output_type": "stream",
     "text": [
      "100%|██████████| 20/20 [00:07<00:00,  2.79it/s]"
     ]
    },
    {
     "name": "stdout",
     "output_type": "stream",
     "text": [
      "Лучшее значение F1-меры для линейного метода опорных векторов: 0.52.\n",
      "Достигается при значении гиперпараметра `penalty`, равном l2\n",
      "значении `loss`, равном hinge.\n",
      "и значении `C`, равном 0.4.\n"
     ]
    },
    {
     "name": "stderr",
     "output_type": "stream",
     "text": [
      "\n"
     ]
    }
   ],
   "source": [
    "rus = RandomUnderSampler(random_state=0)\n",
    "features_train_downsampled, target_train_downsampled = rus.fit_resample(features_train, target_train)\n",
    "experiment(features_train_downsampled, features_valid, target_train_downsampled, target_valid)"
   ]
  },
  {
   "cell_type": "markdown",
   "metadata": {},
   "source": [
    "### Upsampling"
   ]
  },
  {
   "cell_type": "markdown",
   "metadata": {},
   "source": [
    "#### \"Вручную\""
   ]
  },
  {
   "cell_type": "markdown",
   "metadata": {},
   "source": [
    "Напишем функцию для увеличения размера выборки с созданием баланса классов."
   ]
  },
  {
   "cell_type": "code",
   "execution_count": 33,
   "metadata": {},
   "outputs": [],
   "source": [
    "def upsample(features, target):\n",
    "    features_zeros = features[target == 0]\n",
    "    features_ones = features[target == 1]\n",
    "    target_zeros = target[target == 0]\n",
    "    target_ones = target[target == 1]\n",
    "    \n",
    "    if len(features_zeros) > len(features_ones):\n",
    "        repeat = int(round(len(features_zeros)/len(features_ones), 0))\n",
    "        features_upsampled = pd.concat([features_zeros] + [features_ones] * repeat)\n",
    "        target_upsampled = pd.concat([target_zeros] + [target_ones] * repeat)\n",
    "    elif len(features_ones) > len(features_zeros):\n",
    "        repeat = int(round(len(features_ones)/len(features_zeros), 0))\n",
    "        features_upsampled = pd.concat([features_ones] + [features_zeros] * repeat)\n",
    "        target_upsampled = pd.concat([target_ones] + [target_zeros] * repeat)\n",
    "        \n",
    "    features_upsampled, target_upsampled = shuffle(\n",
    "        features_upsampled, target_upsampled, random_state=0)\n",
    "    \n",
    "    return features_upsampled, target_upsampled"
   ]
  },
  {
   "cell_type": "markdown",
   "metadata": {},
   "source": [
    "Исследуем модели, обученные на увеличенных сбалансированных выборках."
   ]
  },
  {
   "cell_type": "code",
   "execution_count": 34,
   "metadata": {},
   "outputs": [
    {
     "name": "stderr",
     "output_type": "stream",
     "text": [
      "100%|██████████| 10/10 [00:00<00:00, 10.96it/s]\n"
     ]
    },
    {
     "name": "stdout",
     "output_type": "stream",
     "text": [
      "Лучшее значение F1-меры для решающего дерева: 0.6.\n",
      "Достигается при значении гиперпараметра `max_depth`, равном 7\n",
      "и пороге классификации, равном 0.44.\n"
     ]
    },
    {
     "name": "stderr",
     "output_type": "stream",
     "text": [
      "100%|██████████| 34/34 [06:35<00:00, 11.62s/it]\n"
     ]
    },
    {
     "name": "stdout",
     "output_type": "stream",
     "text": [
      "Лучшее значение F1-меры для случайного леса: 0.64.\n",
      "Достигается при значении гиперпараметра `n_estimators`, равном 170,\n",
      "значении `max_depth`, равном 10\n",
      "и пороге классификации, равном 0.5.\n"
     ]
    },
    {
     "name": "stderr",
     "output_type": "stream",
     "text": [
      "100%|██████████| 20/20 [00:22<00:00,  1.11s/it]\n"
     ]
    },
    {
     "name": "stdout",
     "output_type": "stream",
     "text": [
      "Лучшее значение F1-меры для логистической регрессии: 0.5.\n",
      "Достигается при значении гиперпараметра `penalty`, равном l2,\n",
      "значении `C`, равном 0.05\n",
      "и пороге классификации, равном 0.5.\n"
     ]
    },
    {
     "name": "stderr",
     "output_type": "stream",
     "text": [
      "100%|██████████| 20/20 [00:11<00:00,  1.71it/s]"
     ]
    },
    {
     "name": "stdout",
     "output_type": "stream",
     "text": [
      "Лучшее значение F1-меры для линейного метода опорных векторов: 0.52.\n",
      "Достигается при значении гиперпараметра `penalty`, равном l2\n",
      "значении `loss`, равном hinge.\n",
      "и значении `C`, равном 0.8.\n"
     ]
    },
    {
     "name": "stderr",
     "output_type": "stream",
     "text": [
      "\n"
     ]
    }
   ],
   "source": [
    "features_train_upsampled, target_train_upsampled = upsample(features_train, target_train)\n",
    "experiment(features_train_upsampled, features_valid, target_train_upsampled, target_valid)"
   ]
  },
  {
   "cell_type": "markdown",
   "metadata": {},
   "source": [
    "#### SMOTE"
   ]
  },
  {
   "cell_type": "code",
   "execution_count": 35,
   "metadata": {},
   "outputs": [
    {
     "name": "stderr",
     "output_type": "stream",
     "text": [
      "100%|██████████| 10/10 [00:01<00:00,  9.54it/s]\n"
     ]
    },
    {
     "name": "stdout",
     "output_type": "stream",
     "text": [
      "Лучшее значение F1-меры для решающего дерева: 0.6.\n",
      "Достигается при значении гиперпараметра `max_depth`, равном 5\n",
      "и пороге классификации, равном 0.48.\n"
     ]
    },
    {
     "name": "stderr",
     "output_type": "stream",
     "text": [
      "100%|██████████| 34/34 [08:16<00:00, 14.61s/it]\n"
     ]
    },
    {
     "name": "stdout",
     "output_type": "stream",
     "text": [
      "Лучшее значение F1-меры для случайного леса: 0.64.\n",
      "Достигается при значении гиперпараметра `n_estimators`, равном 110,\n",
      "значении `max_depth`, равном 10\n",
      "и пороге классификации, равном 0.5.\n"
     ]
    },
    {
     "name": "stderr",
     "output_type": "stream",
     "text": [
      "100%|██████████| 20/20 [00:21<00:00,  1.07s/it]\n"
     ]
    },
    {
     "name": "stdout",
     "output_type": "stream",
     "text": [
      "Лучшее значение F1-меры для логистической регрессии: 0.5.\n",
      "Достигается при значении гиперпараметра `penalty`, равном none,\n",
      "значении `C`, равном 0.05\n",
      "и пороге классификации, равном 0.5.\n"
     ]
    },
    {
     "name": "stderr",
     "output_type": "stream",
     "text": [
      "100%|██████████| 20/20 [00:10<00:00,  1.84it/s]"
     ]
    },
    {
     "name": "stdout",
     "output_type": "stream",
     "text": [
      "Лучшее значение F1-меры для линейного метода опорных векторов: 0.51.\n",
      "Достигается при значении гиперпараметра `penalty`, равном l2\n",
      "значении `loss`, равном hinge.\n",
      "и значении `C`, равном 0.7000000000000001.\n"
     ]
    },
    {
     "name": "stderr",
     "output_type": "stream",
     "text": [
      "\n"
     ]
    }
   ],
   "source": [
    "sm = SMOTE(random_state=0)\n",
    "features_train_upsampled, target_train_upsampled = sm.fit_resample(features_train, target_train)\n",
    "experiment(features_train_upsampled, features_valid, target_train_upsampled, target_valid)"
   ]
  },
  {
   "cell_type": "markdown",
   "metadata": {},
   "source": [
    "### Встроенная балансировка"
   ]
  },
  {
   "cell_type": "markdown",
   "metadata": {},
   "source": [
    "Исследуем модели, обученные на изначальных выборках, но с параметром class_weight со значением 'balanced'."
   ]
  },
  {
   "cell_type": "code",
   "execution_count": 36,
   "metadata": {
    "scrolled": false
   },
   "outputs": [
    {
     "name": "stderr",
     "output_type": "stream",
     "text": [
      "100%|██████████| 10/10 [00:00<00:00, 11.89it/s]\n"
     ]
    },
    {
     "name": "stdout",
     "output_type": "stream",
     "text": [
      "Лучшее значение F1-меры для решающего дерева: 0.6.\n",
      "Достигается при значении гиперпараметра `max_depth`, равном 7\n",
      "и пороге классификации, равном 0.44.\n"
     ]
    },
    {
     "name": "stderr",
     "output_type": "stream",
     "text": [
      "100%|██████████| 34/34 [05:01<00:00,  8.87s/it]\n"
     ]
    },
    {
     "name": "stdout",
     "output_type": "stream",
     "text": [
      "Лучшее значение F1-меры для случайного леса: 0.64.\n",
      "Достигается при значении гиперпараметра `n_estimators`, равном 250,\n",
      "значении `max_depth`, равном 10\n",
      "и пороге классификации, равном 0.46.\n"
     ]
    },
    {
     "name": "stderr",
     "output_type": "stream",
     "text": [
      "100%|██████████| 20/20 [00:16<00:00,  1.19it/s]\n"
     ]
    },
    {
     "name": "stdout",
     "output_type": "stream",
     "text": [
      "Лучшее значение F1-меры для логистической регрессии: 0.51.\n",
      "Достигается при значении гиперпараметра `penalty`, равном l2,\n",
      "значении `C`, равном 0.05\n",
      "и пороге классификации, равном 0.5.\n"
     ]
    },
    {
     "name": "stderr",
     "output_type": "stream",
     "text": [
      "100%|██████████| 20/20 [00:11<00:00,  1.73it/s]"
     ]
    },
    {
     "name": "stdout",
     "output_type": "stream",
     "text": [
      "Лучшее значение F1-меры для линейного метода опорных векторов: 0.52.\n",
      "Достигается при значении гиперпараметра `penalty`, равном l2\n",
      "значении `loss`, равном hinge.\n",
      "и значении `C`, равном 0.05.\n"
     ]
    },
    {
     "name": "stderr",
     "output_type": "stream",
     "text": [
      "\n"
     ]
    }
   ],
   "source": [
    "experiment(features_train, features_valid, target_train, target_valid, class_weight='balanced')"
   ]
  },
  {
   "cell_type": "markdown",
   "metadata": {},
   "source": [
    "### Выводы"
   ]
  },
  {
   "cell_type": "markdown",
   "metadata": {},
   "source": [
    "На основании экспериментов модели с различными методами борбы с дисбалансом классов можно ранжировать по убыванию следующим образом:\n",
    "\n",
    "|Ранг|Модель|Метод балансировки классов|Значение F1-меры|\n",
    "|:---|:---|:---|:---|\n",
    "| 1.| случайный лес| встроенная балансировка| 0.65|\n",
    "| 2.| случайный лес| upsampling \"вручную\"| 0.64|\n",
    "| 3.| случайный лес| upsampling SMOTE| 0.63|\n",
    "| 4.| случайный лес| downsampling RindomUnderSampler| 0.62|\n",
    "| 5.| случайный лес| downsampling \"вручную\"| 0.62|\n",
    "| 6.| решающее дерево| upsampling SMOTE| 0.61|\n",
    "| 7-10.| решающее дерево| встроенная балансировка| 0.60|\n",
    "| 7-10.| решающее дерево| upsampling \"вручную\"| 0.60|\n",
    "| 7-10.| решающее дерево| downsampling RindomUnderSampler| 0.60|\n",
    "| 7-10.| решающее дерево| downsampling \"вручную\"| 0.60|\n",
    "| 11-13.| линейный метод опорных векторов| встроенная балансировка| 0.52|\n",
    "| 11-13.| линейный метод опорных векторов| upsampling \"вручную\"| 0.52|\n",
    "| 11-13.| линейный метод опорных векторов| downsampling RindomUnderSampler| 0.52|\n",
    "| 14-16.| логистическая регрессия| downsampling RindomUnderSampler| 0.51|\n",
    "| 14-16.| логистическая регрессия| downsampling \"вручную\"| 0.51|\n",
    "| 14-16.| линейный метод опорных векторов| downsampling \"вручную\"| 0.51|\n",
    "| 17-20.| логистическая регрессия| встроенная балансировка| 0.51|\n",
    "| 17-20.| логистическая регрессия| upsampling SMOTE| 0.51|\n",
    "| 17-20.| линейный метод опорных векторов| upsampling SMOTE| 0.51|\n",
    "| 17-20.| логистическая регрессия| upsampling \"вручную\"| 0.51|\n",
    "\n",
    "\n",
    "Можно заметить, что балансировка классов явно положительно подействовала только на линейный метод опорных векторов, при этом немного снизив значение F1-меры для остальных моделей - скорее всего, снижена вероятность переобучения.\n",
    "\n",
    "Самое высокое значение F1-меры сохранила модель случайного леса, поэтому для дальнейшей работы выберем её."
   ]
  },
  {
   "cell_type": "markdown",
   "metadata": {},
   "source": [
    "## Тестирование модели"
   ]
  },
  {
   "cell_type": "markdown",
   "metadata": {},
   "source": [
    "Обучим лучшую полученную модель после балансировки классов - случайный лес с гиперпараметрами `n_estimators` = 80, `max_depth` = 9, порогом классификации `threshold` = 0.44 и встроенной балансировкой классов. Затем протестируем модель."
   ]
  },
  {
   "cell_type": "code",
   "execution_count": 37,
   "metadata": {},
   "outputs": [
    {
     "name": "stdout",
     "output_type": "stream",
     "text": [
      "Значение F1-меры: 0.6124293785310735.\n"
     ]
    }
   ],
   "source": [
    "n_estimators = 80\n",
    "max_depth = 9\n",
    "treshold = 0.44\n",
    "model = RandomForestClassifier(n_estimators=n_estimators, \n",
    "                               max_depth=max_depth, \n",
    "                               class_weight='balanced', \n",
    "                               random_state=0)\n",
    "model.fit(features_train, target_train)\n",
    "    \n",
    "probabilities_test = model.predict_proba(features_test)\n",
    "probabilities_one_test = probabilities_test[:, 1]\n",
    "predicted_test = probabilities_one_test > threshold\n",
    "model_score = f1_score(target_test, predicted_test)        \n",
    "        \n",
    "print(f'Значение F1-меры: {model_score}.')"
   ]
  },
  {
   "cell_type": "markdown",
   "metadata": {},
   "source": [
    "Значение F1-меры выше 0.59 - посталвенная задача достигнута."
   ]
  },
  {
   "cell_type": "markdown",
   "metadata": {},
   "source": [
    "## Исследование ROC и метрики AUC-ROC"
   ]
  },
  {
   "cell_type": "markdown",
   "metadata": {},
   "source": [
    "Изобразим ROC-кривую и вычислим площадь под ней."
   ]
  },
  {
   "cell_type": "code",
   "execution_count": 38,
   "metadata": {
    "scrolled": true
   },
   "outputs": [
    {
     "data": {
      "image/png": "[encoded data removed]",
      "text/plain": [
       "<Figure size 432x288 with 1 Axes>"
      ]
     },
     "metadata": {
      "needs_background": "light"
     },
     "output_type": "display_data"
    },
    {
     "name": "stdout",
     "output_type": "stream",
     "text": [
      "AUC-ROC: 0.8631940369830448\n"
     ]
    }
   ],
   "source": [
    "fpr, tpr, thresholds = roc_curve(target_test, probabilities_one_test)\n",
    "plt.figure()\n",
    "\n",
    "plt.plot(fpr, tpr)\n",
    "\n",
    "# ROC-кривая случайной модели\n",
    "plt.plot([0, 1], [0, 1], linestyle='--')\n",
    "\n",
    "plt.xlim([0.0, 1.0])\n",
    "plt.ylim([0.0, 1.0])\n",
    "\n",
    "plt.xlabel('False Positive Rate')\n",
    "plt.ylabel('True Positive Rate')\n",
    "plt.title('ROC-кривая')\n",
    "plt.show()\n",
    "\n",
    "auc_roc = roc_auc_score(target_test, probabilities_one_test)\n",
    "\n",
    "print(f'AUC-ROC: {auc_roc}')"
   ]
  },
  {
   "cell_type": "markdown",
   "metadata": {},
   "source": [
    "ROC-кривая достаточно выпуклая и значение AUC-ROC равно 0.86, что значительно превышает 0.5. Следовательно, полученая модель значительно лучше случайного классификатора и обладает высоким качеством."
   ]
  },
  {
   "cell_type": "markdown",
   "metadata": {},
   "source": [
    "## Общий вывод"
   ]
  },
  {
   "cell_type": "markdown",
   "metadata": {},
   "source": [
    "В ходе работы \n",
    "\n",
    "1. была проведена подготовка данных:\n",
    "    - были удалены неинформативные признаки;\n",
    "    - были изменены навзвания колонок на стилистически верные;\n",
    "    - были заполненые пропуски в признаке `tenure`;\n",
    "    - признаки `gender` и `geography` были обработаны техникой OHE;\n",
    "    - количественные признаки были масштабированы стандартизацией;\n",
    "    - данные были поделены на признаки и целевой признак, а также на обучающую, валидационную и тестовую выборки;\n",
    "2. была исследована задача:\n",
    "\t- был выявлен дисбаланс классов;\n",
    "\t- были исследованы модели без учёта дисбаланса классов;\n",
    "3. были изучены 3 метода борьбы с дисбалансом классвов:\n",
    "\t- downsampling;\n",
    "\t- upsampling;\n",
    "\t- встроенная балансировка классов моделей;\n",
    "4. на основании тестов была выбрана лучшая модель - случайный лесс гиперпараметрами `n_estimators` = 210, `max_depth` = 10, порогом классификации `threshold` = 0.48 и встроенной балансировкой классов. Затем модель была протестирована. Полученное на тестовой выборке значение F1-меры оказалось выше заданного порога в 0.59;\n",
    "5. выбранная модель была исследована с помощью ROC-кривой и метрики AUC-ROC. Было выяснено, что модель намного лучше случайного классификатора и обладает высоким качеством классификации клиентов банка, которые могут уйти в скором времени."
   ]
  },
  {
   "cell_type": "code",
   "execution_count": null,
   "metadata": {},
   "outputs": [],
   "source": []
  }
 ],
 "metadata": {
  "ExecuteTimeLog": [
   {
    "duration": 49,
    "start_time": "2023-01-24T15:15:56.397Z"
   },
   {
    "duration": 433,
    "start_time": "2023-01-24T15:15:58.845Z"
   },
   {
    "duration": 30,
    "start_time": "2023-01-24T15:15:59.625Z"
   },
   {
    "duration": 93,
    "start_time": "2023-01-24T15:16:03.189Z"
   },
   {
    "duration": 54,
    "start_time": "2023-01-24T15:23:49.127Z"
   },
   {
    "duration": 14,
    "start_time": "2023-01-24T15:23:53.849Z"
   },
   {
    "duration": 7,
    "start_time": "2023-01-24T15:24:39.732Z"
   },
   {
    "duration": 7,
    "start_time": "2023-01-24T15:25:24.068Z"
   },
   {
    "duration": 14,
    "start_time": "2023-01-24T15:25:32.492Z"
   },
   {
    "duration": 2203,
    "start_time": "2023-01-24T15:27:06.010Z"
   },
   {
    "duration": 14,
    "start_time": "2023-01-24T16:03:02.284Z"
   },
   {
    "duration": 26,
    "start_time": "2023-01-24T16:04:00.819Z"
   },
   {
    "duration": 2,
    "start_time": "2023-01-24T16:04:14.682Z"
   },
   {
    "duration": 79,
    "start_time": "2023-01-24T16:04:14.686Z"
   },
   {
    "duration": 22,
    "start_time": "2023-01-24T16:04:14.766Z"
   },
   {
    "duration": 34,
    "start_time": "2023-01-24T16:04:14.790Z"
   },
   {
    "duration": 57,
    "start_time": "2023-01-24T16:04:14.826Z"
   },
   {
    "duration": 1689,
    "start_time": "2023-01-24T16:04:14.885Z"
   },
   {
    "duration": 14,
    "start_time": "2023-01-24T16:04:16.576Z"
   },
   {
    "duration": 5,
    "start_time": "2023-01-24T16:13:24.823Z"
   },
   {
    "duration": 9,
    "start_time": "2023-01-24T16:15:10.905Z"
   },
   {
    "duration": 10,
    "start_time": "2023-01-24T16:24:02.691Z"
   },
   {
    "duration": 10,
    "start_time": "2023-01-24T16:24:10.939Z"
   },
   {
    "duration": 7,
    "start_time": "2023-01-24T16:24:33.292Z"
   },
   {
    "duration": 3,
    "start_time": "2023-01-24T16:25:11.003Z"
   },
   {
    "duration": 55,
    "start_time": "2023-01-24T16:25:11.008Z"
   },
   {
    "duration": 13,
    "start_time": "2023-01-24T16:25:11.065Z"
   },
   {
    "duration": 11,
    "start_time": "2023-01-24T16:25:11.080Z"
   },
   {
    "duration": 9,
    "start_time": "2023-01-24T16:25:11.093Z"
   },
   {
    "duration": 11,
    "start_time": "2023-01-24T16:25:11.103Z"
   },
   {
    "duration": 1709,
    "start_time": "2023-01-24T16:25:11.141Z"
   },
   {
    "duration": 14,
    "start_time": "2023-01-24T16:25:12.851Z"
   },
   {
    "duration": 28,
    "start_time": "2023-01-24T16:25:12.867Z"
   },
   {
    "duration": 5,
    "start_time": "2023-01-24T16:26:06.491Z"
   },
   {
    "duration": 8,
    "start_time": "2023-01-24T16:26:38.613Z"
   },
   {
    "duration": 5,
    "start_time": "2023-01-24T16:27:13.621Z"
   },
   {
    "duration": 10,
    "start_time": "2023-01-24T16:27:25.475Z"
   },
   {
    "duration": 8,
    "start_time": "2023-01-24T16:27:49.612Z"
   },
   {
    "duration": 3,
    "start_time": "2023-01-24T16:28:46.125Z"
   },
   {
    "duration": 9,
    "start_time": "2023-01-24T16:28:56.401Z"
   },
   {
    "duration": 6,
    "start_time": "2023-01-24T16:32:39.323Z"
   },
   {
    "duration": 8,
    "start_time": "2023-01-24T16:33:36.609Z"
   },
   {
    "duration": 5,
    "start_time": "2023-01-24T16:34:08.040Z"
   },
   {
    "duration": 6,
    "start_time": "2023-01-24T16:34:34.969Z"
   },
   {
    "duration": 13,
    "start_time": "2023-01-24T16:36:03.076Z"
   },
   {
    "duration": 7,
    "start_time": "2023-01-24T16:36:15.640Z"
   },
   {
    "duration": 28,
    "start_time": "2023-01-24T16:39:22.997Z"
   },
   {
    "duration": 27,
    "start_time": "2023-01-24T16:39:33.955Z"
   },
   {
    "duration": 11,
    "start_time": "2023-01-24T16:39:49.097Z"
   },
   {
    "duration": 19,
    "start_time": "2023-01-24T16:41:03.684Z"
   },
   {
    "duration": 14,
    "start_time": "2023-01-24T16:41:11.489Z"
   },
   {
    "duration": 17,
    "start_time": "2023-01-24T16:41:57.594Z"
   },
   {
    "duration": 15,
    "start_time": "2023-01-24T16:42:41.228Z"
   },
   {
    "duration": 1162,
    "start_time": "2023-01-24T16:47:45.687Z"
   },
   {
    "duration": 12,
    "start_time": "2023-01-24T16:47:53.851Z"
   },
   {
    "duration": 252,
    "start_time": "2023-01-24T16:48:04.208Z"
   },
   {
    "duration": 82,
    "start_time": "2023-01-24T16:48:22.435Z"
   },
   {
    "duration": 40,
    "start_time": "2023-01-24T16:48:43.111Z"
   },
   {
    "duration": 72,
    "start_time": "2023-01-24T16:49:52.338Z"
   },
   {
    "duration": 81,
    "start_time": "2023-01-24T16:50:39.226Z"
   },
   {
    "duration": 34,
    "start_time": "2023-01-24T16:50:56.754Z"
   },
   {
    "duration": 34,
    "start_time": "2023-01-24T16:51:35.536Z"
   },
   {
    "duration": 38,
    "start_time": "2023-01-24T16:53:31.381Z"
   },
   {
    "duration": 36,
    "start_time": "2023-01-24T16:56:23.858Z"
   },
   {
    "duration": 36,
    "start_time": "2023-01-24T16:56:33.671Z"
   },
   {
    "duration": 32,
    "start_time": "2023-01-24T16:57:09.923Z"
   },
   {
    "duration": 31,
    "start_time": "2023-01-24T16:58:06.133Z"
   },
   {
    "duration": 19,
    "start_time": "2023-01-24T16:58:13.809Z"
   },
   {
    "duration": 88,
    "start_time": "2023-01-24T17:04:47.152Z"
   },
   {
    "duration": 12,
    "start_time": "2023-01-24T17:04:55.349Z"
   },
   {
    "duration": 15,
    "start_time": "2023-01-24T17:05:03.291Z"
   },
   {
    "duration": 107,
    "start_time": "2023-01-24T17:05:14.190Z"
   },
   {
    "duration": 4,
    "start_time": "2023-01-24T17:06:37.128Z"
   },
   {
    "duration": 54,
    "start_time": "2023-01-24T17:06:37.134Z"
   },
   {
    "duration": 13,
    "start_time": "2023-01-24T17:06:37.189Z"
   },
   {
    "duration": 4,
    "start_time": "2023-01-24T17:06:37.204Z"
   },
   {
    "duration": 11,
    "start_time": "2023-01-24T17:06:37.210Z"
   },
   {
    "duration": 11,
    "start_time": "2023-01-24T17:06:37.223Z"
   },
   {
    "duration": 1775,
    "start_time": "2023-01-24T17:06:37.240Z"
   },
   {
    "duration": 26,
    "start_time": "2023-01-24T17:06:39.017Z"
   },
   {
    "duration": 25,
    "start_time": "2023-01-24T17:06:39.045Z"
   },
   {
    "duration": 37,
    "start_time": "2023-01-24T17:06:39.072Z"
   },
   {
    "duration": 48,
    "start_time": "2023-01-24T17:06:39.111Z"
   },
   {
    "duration": 274,
    "start_time": "2023-01-24T17:06:48.716Z"
   },
   {
    "duration": 3,
    "start_time": "2023-01-24T17:07:43.795Z"
   },
   {
    "duration": 58,
    "start_time": "2023-01-24T17:07:43.799Z"
   },
   {
    "duration": 13,
    "start_time": "2023-01-24T17:07:43.858Z"
   },
   {
    "duration": 14,
    "start_time": "2023-01-24T17:07:43.874Z"
   },
   {
    "duration": 9,
    "start_time": "2023-01-24T17:07:43.890Z"
   },
   {
    "duration": 12,
    "start_time": "2023-01-24T17:07:43.900Z"
   },
   {
    "duration": 1749,
    "start_time": "2023-01-24T17:07:43.913Z"
   },
   {
    "duration": 14,
    "start_time": "2023-01-24T17:07:45.664Z"
   },
   {
    "duration": 11,
    "start_time": "2023-01-24T17:07:45.680Z"
   },
   {
    "duration": 17,
    "start_time": "2023-01-24T17:07:45.694Z"
   },
   {
    "duration": 61,
    "start_time": "2023-01-24T17:07:45.713Z"
   },
   {
    "duration": 270,
    "start_time": "2023-01-24T17:07:49.530Z"
   },
   {
    "duration": 138,
    "start_time": "2023-01-24T17:08:13.629Z"
   },
   {
    "duration": 3,
    "start_time": "2023-01-24T17:09:52.548Z"
   },
   {
    "duration": 52,
    "start_time": "2023-01-24T17:09:52.553Z"
   },
   {
    "duration": 13,
    "start_time": "2023-01-24T17:09:52.607Z"
   },
   {
    "duration": 5,
    "start_time": "2023-01-24T17:09:52.622Z"
   },
   {
    "duration": 11,
    "start_time": "2023-01-24T17:09:52.629Z"
   },
   {
    "duration": 12,
    "start_time": "2023-01-24T17:09:52.641Z"
   },
   {
    "duration": 1669,
    "start_time": "2023-01-24T17:09:52.654Z"
   },
   {
    "duration": 22,
    "start_time": "2023-01-24T17:09:54.325Z"
   },
   {
    "duration": 7,
    "start_time": "2023-01-24T17:09:54.349Z"
   },
   {
    "duration": 15,
    "start_time": "2023-01-24T17:09:54.359Z"
   },
   {
    "duration": 32,
    "start_time": "2023-01-24T17:09:54.375Z"
   },
   {
    "duration": 316,
    "start_time": "2023-01-24T17:09:54.409Z"
   },
   {
    "duration": 114,
    "start_time": "2023-01-24T17:09:54.727Z"
   },
   {
    "duration": 3,
    "start_time": "2023-01-24T17:09:58.444Z"
   },
   {
    "duration": 67,
    "start_time": "2023-01-24T17:09:58.450Z"
   },
   {
    "duration": 16,
    "start_time": "2023-01-24T17:09:58.519Z"
   },
   {
    "duration": 19,
    "start_time": "2023-01-24T17:09:58.537Z"
   },
   {
    "duration": 24,
    "start_time": "2023-01-24T17:09:58.558Z"
   },
   {
    "duration": 29,
    "start_time": "2023-01-24T17:09:58.584Z"
   },
   {
    "duration": 1790,
    "start_time": "2023-01-24T17:09:58.615Z"
   },
   {
    "duration": 15,
    "start_time": "2023-01-24T17:10:00.407Z"
   },
   {
    "duration": 30,
    "start_time": "2023-01-24T17:10:00.441Z"
   },
   {
    "duration": 40,
    "start_time": "2023-01-24T17:10:00.472Z"
   },
   {
    "duration": 43,
    "start_time": "2023-01-24T17:10:00.514Z"
   },
   {
    "duration": 165,
    "start_time": "2023-01-24T17:10:00.559Z"
   },
   {
    "duration": 115,
    "start_time": "2023-01-24T17:10:00.726Z"
   },
   {
    "duration": 132,
    "start_time": "2023-01-24T17:10:10.884Z"
   },
   {
    "duration": 103,
    "start_time": "2023-01-24T17:10:18.687Z"
   },
   {
    "duration": 241,
    "start_time": "2023-01-24T17:10:29.604Z"
   },
   {
    "duration": 259,
    "start_time": "2023-01-24T17:10:40.695Z"
   },
   {
    "duration": 3,
    "start_time": "2023-01-24T17:11:05.654Z"
   },
   {
    "duration": 60,
    "start_time": "2023-01-24T17:11:05.660Z"
   },
   {
    "duration": 13,
    "start_time": "2023-01-24T17:11:05.721Z"
   },
   {
    "duration": 10,
    "start_time": "2023-01-24T17:11:05.736Z"
   },
   {
    "duration": 19,
    "start_time": "2023-01-24T17:11:05.748Z"
   },
   {
    "duration": 41,
    "start_time": "2023-01-24T17:11:05.772Z"
   },
   {
    "duration": 1825,
    "start_time": "2023-01-24T17:11:05.815Z"
   },
   {
    "duration": 15,
    "start_time": "2023-01-24T17:11:07.641Z"
   },
   {
    "duration": 10,
    "start_time": "2023-01-24T17:11:07.658Z"
   },
   {
    "duration": 17,
    "start_time": "2023-01-24T17:11:07.671Z"
   },
   {
    "duration": 60,
    "start_time": "2023-01-24T17:11:07.690Z"
   },
   {
    "duration": 164,
    "start_time": "2023-01-24T17:11:07.752Z"
   },
   {
    "duration": 284,
    "start_time": "2023-01-24T17:11:07.918Z"
   },
   {
    "duration": 3,
    "start_time": "2023-01-24T17:14:08.181Z"
   },
   {
    "duration": 3,
    "start_time": "2023-01-24T17:14:37.166Z"
   },
   {
    "duration": 4,
    "start_time": "2023-01-24T17:16:00.945Z"
   },
   {
    "duration": 65,
    "start_time": "2023-01-24T17:16:00.951Z"
   },
   {
    "duration": 14,
    "start_time": "2023-01-24T17:16:01.017Z"
   },
   {
    "duration": 21,
    "start_time": "2023-01-24T17:16:01.033Z"
   },
   {
    "duration": 30,
    "start_time": "2023-01-24T17:16:01.057Z"
   },
   {
    "duration": 50,
    "start_time": "2023-01-24T17:16:01.089Z"
   },
   {
    "duration": 1811,
    "start_time": "2023-01-24T17:16:01.142Z"
   },
   {
    "duration": 15,
    "start_time": "2023-01-24T17:16:02.955Z"
   },
   {
    "duration": 21,
    "start_time": "2023-01-24T17:16:02.972Z"
   },
   {
    "duration": 25,
    "start_time": "2023-01-24T17:16:02.995Z"
   },
   {
    "duration": 51,
    "start_time": "2023-01-24T17:16:03.023Z"
   },
   {
    "duration": 179,
    "start_time": "2023-01-24T17:16:03.076Z"
   },
   {
    "duration": 593,
    "start_time": "2023-01-24T17:16:03.257Z"
   },
   {
    "duration": 614,
    "start_time": "2023-01-24T17:16:41.778Z"
   },
   {
    "duration": 564,
    "start_time": "2023-01-24T17:19:19.594Z"
   },
   {
    "duration": 628,
    "start_time": "2023-01-24T17:20:28.053Z"
   },
   {
    "duration": 583,
    "start_time": "2023-01-24T17:20:47.551Z"
   },
   {
    "duration": 164,
    "start_time": "2023-01-24T17:20:57.206Z"
   },
   {
    "duration": 568,
    "start_time": "2023-01-24T17:21:20.680Z"
   },
   {
    "duration": 1392,
    "start_time": "2023-01-24T17:21:49.441Z"
   },
   {
    "duration": 12,
    "start_time": "2023-01-24T17:21:56.571Z"
   },
   {
    "duration": 602,
    "start_time": "2023-01-24T17:22:04.371Z"
   },
   {
    "duration": 257,
    "start_time": "2023-01-24T17:22:34.606Z"
   },
   {
    "duration": 4,
    "start_time": "2023-01-24T17:30:45.109Z"
   },
   {
    "duration": 68,
    "start_time": "2023-01-24T17:31:34.125Z"
   },
   {
    "duration": 138,
    "start_time": "2023-01-24T17:31:46.025Z"
   },
   {
    "duration": 135,
    "start_time": "2023-01-24T17:31:50.822Z"
   },
   {
    "duration": 145,
    "start_time": "2023-01-24T17:31:52.625Z"
   },
   {
    "duration": 87,
    "start_time": "2023-01-24T17:39:11.553Z"
   },
   {
    "duration": 309,
    "start_time": "2023-01-24T17:39:21.261Z"
   },
   {
    "duration": 3,
    "start_time": "2023-01-24T17:41:42.674Z"
   },
   {
    "duration": 304,
    "start_time": "2023-01-24T17:41:49.123Z"
   },
   {
    "duration": 10,
    "start_time": "2023-01-24T17:42:03.671Z"
   },
   {
    "duration": 313,
    "start_time": "2023-01-24T17:42:16.591Z"
   },
   {
    "duration": 162,
    "start_time": "2023-01-24T17:43:41.207Z"
   },
   {
    "duration": 236,
    "start_time": "2023-01-24T17:44:03.709Z"
   },
   {
    "duration": 149,
    "start_time": "2023-01-24T17:44:12.071Z"
   },
   {
    "duration": 151,
    "start_time": "2023-01-24T17:44:21.437Z"
   },
   {
    "duration": 4,
    "start_time": "2023-01-24T17:45:59.391Z"
   },
   {
    "duration": 14,
    "start_time": "2023-01-24T17:47:54.350Z"
   },
   {
    "duration": 10,
    "start_time": "2023-01-24T17:48:28.087Z"
   },
   {
    "duration": 9,
    "start_time": "2023-01-24T17:48:35.957Z"
   },
   {
    "duration": 13,
    "start_time": "2023-01-24T17:49:08.177Z"
   },
   {
    "duration": 10,
    "start_time": "2023-01-24T17:49:51.682Z"
   },
   {
    "duration": 153,
    "start_time": "2023-01-24T17:51:21.206Z"
   },
   {
    "duration": 358,
    "start_time": "2023-01-24T17:52:47.326Z"
   },
   {
    "duration": 393,
    "start_time": "2023-01-24T17:53:34.296Z"
   },
   {
    "duration": 358,
    "start_time": "2023-01-24T17:54:04.880Z"
   },
   {
    "duration": 5,
    "start_time": "2023-01-24T17:54:11.780Z"
   },
   {
    "duration": 210,
    "start_time": "2023-01-24T17:54:22.264Z"
   },
   {
    "duration": 171,
    "start_time": "2023-01-24T17:54:39.799Z"
   },
   {
    "duration": 3,
    "start_time": "2023-01-24T17:56:21.560Z"
   },
   {
    "duration": 49,
    "start_time": "2023-01-24T17:56:21.565Z"
   },
   {
    "duration": 16,
    "start_time": "2023-01-24T17:56:21.616Z"
   },
   {
    "duration": 6,
    "start_time": "2023-01-24T17:56:21.634Z"
   },
   {
    "duration": 26,
    "start_time": "2023-01-24T17:56:21.643Z"
   },
   {
    "duration": 13,
    "start_time": "2023-01-24T17:56:21.670Z"
   },
   {
    "duration": 1903,
    "start_time": "2023-01-24T17:56:21.684Z"
   },
   {
    "duration": 14,
    "start_time": "2023-01-24T17:56:23.589Z"
   },
   {
    "duration": 8,
    "start_time": "2023-01-24T17:56:23.605Z"
   },
   {
    "duration": 22,
    "start_time": "2023-01-24T17:56:23.639Z"
   },
   {
    "duration": 32,
    "start_time": "2023-01-24T17:56:23.663Z"
   },
   {
    "duration": 188,
    "start_time": "2023-01-24T17:56:23.697Z"
   },
   {
    "duration": 279,
    "start_time": "2023-01-24T17:56:23.887Z"
   },
   {
    "duration": 175,
    "start_time": "2023-01-24T17:56:24.168Z"
   },
   {
    "duration": 4,
    "start_time": "2023-01-24T17:56:24.345Z"
   },
   {
    "duration": 20,
    "start_time": "2023-01-24T17:56:24.351Z"
   },
   {
    "duration": 4,
    "start_time": "2023-01-24T17:58:22.410Z"
   },
   {
    "duration": 15,
    "start_time": "2023-01-24T18:01:53.703Z"
   },
   {
    "duration": 10,
    "start_time": "2023-01-24T18:04:27.605Z"
   },
   {
    "duration": 5,
    "start_time": "2023-01-24T18:09:12.623Z"
   },
   {
    "duration": 7,
    "start_time": "2023-01-24T18:09:32.750Z"
   },
   {
    "duration": 4,
    "start_time": "2023-01-24T18:09:34.475Z"
   },
   {
    "duration": 5,
    "start_time": "2023-01-24T18:09:35.806Z"
   },
   {
    "duration": 12,
    "start_time": "2023-01-24T18:09:42.561Z"
   },
   {
    "duration": 3,
    "start_time": "2023-01-24T18:10:30.858Z"
   },
   {
    "duration": 4,
    "start_time": "2023-01-24T18:10:32.113Z"
   },
   {
    "duration": 8,
    "start_time": "2023-01-24T18:10:32.760Z"
   },
   {
    "duration": 13,
    "start_time": "2023-01-24T18:10:35.873Z"
   },
   {
    "duration": 19,
    "start_time": "2023-01-24T18:12:01.940Z"
   },
   {
    "duration": 3,
    "start_time": "2023-01-24T18:12:23.187Z"
   },
   {
    "duration": 5,
    "start_time": "2023-01-24T18:12:24.832Z"
   },
   {
    "duration": 5,
    "start_time": "2023-01-24T18:12:26.710Z"
   },
   {
    "duration": 15,
    "start_time": "2023-01-24T18:12:28.411Z"
   },
   {
    "duration": 10,
    "start_time": "2023-01-24T18:12:42.060Z"
   },
   {
    "duration": 3,
    "start_time": "2023-01-24T18:12:47.171Z"
   },
   {
    "duration": 4,
    "start_time": "2023-01-24T18:12:48.768Z"
   },
   {
    "duration": 8,
    "start_time": "2023-01-24T18:12:50.516Z"
   },
   {
    "duration": 9,
    "start_time": "2023-01-24T18:12:52.200Z"
   },
   {
    "duration": 3,
    "start_time": "2023-01-24T18:13:00.484Z"
   },
   {
    "duration": 101,
    "start_time": "2023-01-24T18:13:00.489Z"
   },
   {
    "duration": 31,
    "start_time": "2023-01-24T18:13:00.591Z"
   },
   {
    "duration": 38,
    "start_time": "2023-01-24T18:13:00.624Z"
   },
   {
    "duration": 28,
    "start_time": "2023-01-24T18:13:00.664Z"
   },
   {
    "duration": 65,
    "start_time": "2023-01-24T18:13:00.694Z"
   },
   {
    "duration": 1873,
    "start_time": "2023-01-24T18:13:00.761Z"
   },
   {
    "duration": 15,
    "start_time": "2023-01-24T18:13:02.636Z"
   },
   {
    "duration": 35,
    "start_time": "2023-01-24T18:13:02.652Z"
   },
   {
    "duration": 41,
    "start_time": "2023-01-24T18:13:02.689Z"
   },
   {
    "duration": 54,
    "start_time": "2023-01-24T18:13:02.731Z"
   },
   {
    "duration": 155,
    "start_time": "2023-01-24T18:13:02.787Z"
   },
   {
    "duration": 242,
    "start_time": "2023-01-24T18:13:02.944Z"
   },
   {
    "duration": 166,
    "start_time": "2023-01-24T18:13:03.189Z"
   },
   {
    "duration": 3,
    "start_time": "2023-01-24T18:13:03.357Z"
   },
   {
    "duration": 17,
    "start_time": "2023-01-24T18:13:03.362Z"
   },
   {
    "duration": 42,
    "start_time": "2023-01-24T18:13:03.381Z"
   },
   {
    "duration": 32,
    "start_time": "2023-01-24T18:13:03.425Z"
   },
   {
    "duration": 44,
    "start_time": "2023-01-24T18:13:03.459Z"
   },
   {
    "duration": 17,
    "start_time": "2023-01-24T18:13:27.244Z"
   },
   {
    "duration": 14,
    "start_time": "2023-01-24T18:14:11.262Z"
   },
   {
    "duration": 805,
    "start_time": "2023-01-24T18:16:43.261Z"
   },
   {
    "duration": 64,
    "start_time": "2023-01-24T18:17:27.197Z"
   },
   {
    "duration": 30,
    "start_time": "2023-01-24T18:17:46.430Z"
   },
   {
    "duration": 52,
    "start_time": "2023-01-24T18:17:54.607Z"
   },
   {
    "duration": 17,
    "start_time": "2023-01-24T18:18:19.933Z"
   },
   {
    "duration": 70,
    "start_time": "2023-01-24T18:19:45.459Z"
   },
   {
    "duration": 15,
    "start_time": "2023-01-24T18:19:54.299Z"
   },
   {
    "duration": 11,
    "start_time": "2023-01-24T18:20:26.856Z"
   },
   {
    "duration": 14,
    "start_time": "2023-01-24T18:20:48.596Z"
   },
   {
    "duration": 17,
    "start_time": "2023-01-24T18:20:56.507Z"
   },
   {
    "duration": 14,
    "start_time": "2023-01-24T18:21:46.818Z"
   },
   {
    "duration": 27,
    "start_time": "2023-01-24T18:22:24.014Z"
   },
   {
    "duration": 24,
    "start_time": "2023-01-24T18:22:29.539Z"
   },
   {
    "duration": 22,
    "start_time": "2023-01-24T18:23:09.172Z"
   },
   {
    "duration": 38,
    "start_time": "2023-01-24T18:23:15.964Z"
   },
   {
    "duration": 37,
    "start_time": "2023-01-24T18:23:32.161Z"
   },
   {
    "duration": 11,
    "start_time": "2023-01-24T18:23:45.083Z"
   },
   {
    "duration": 16,
    "start_time": "2023-01-24T18:24:31.321Z"
   },
   {
    "duration": 11,
    "start_time": "2023-01-24T18:26:39.695Z"
   },
   {
    "duration": 40,
    "start_time": "2023-01-24T18:29:26.999Z"
   },
   {
    "duration": 10,
    "start_time": "2023-01-24T18:34:27.076Z"
   },
   {
    "duration": 11,
    "start_time": "2023-01-24T18:34:31.821Z"
   },
   {
    "duration": 20,
    "start_time": "2023-01-24T18:35:56.158Z"
   },
   {
    "duration": 26,
    "start_time": "2023-01-24T18:36:07.506Z"
   },
   {
    "duration": 4,
    "start_time": "2023-01-24T18:36:33.231Z"
   },
   {
    "duration": 56,
    "start_time": "2023-01-24T18:36:33.236Z"
   },
   {
    "duration": 11,
    "start_time": "2023-01-24T18:36:33.294Z"
   },
   {
    "duration": 18,
    "start_time": "2023-01-24T18:36:33.307Z"
   },
   {
    "duration": 14,
    "start_time": "2023-01-24T18:36:33.328Z"
   },
   {
    "duration": 11,
    "start_time": "2023-01-24T18:36:33.344Z"
   },
   {
    "duration": 1758,
    "start_time": "2023-01-24T18:36:33.356Z"
   },
   {
    "duration": 14,
    "start_time": "2023-01-24T18:36:35.116Z"
   },
   {
    "duration": 50,
    "start_time": "2023-01-24T18:36:35.141Z"
   },
   {
    "duration": 17,
    "start_time": "2023-01-24T18:36:35.192Z"
   },
   {
    "duration": 30,
    "start_time": "2023-01-24T18:36:35.211Z"
   },
   {
    "duration": 148,
    "start_time": "2023-01-24T18:36:35.242Z"
   },
   {
    "duration": 251,
    "start_time": "2023-01-24T18:36:35.392Z"
   },
   {
    "duration": 156,
    "start_time": "2023-01-24T18:36:35.646Z"
   },
   {
    "duration": 3,
    "start_time": "2023-01-24T18:36:35.803Z"
   },
   {
    "duration": 7,
    "start_time": "2023-01-24T18:36:35.807Z"
   },
   {
    "duration": 12,
    "start_time": "2023-01-24T18:36:35.816Z"
   },
   {
    "duration": 17,
    "start_time": "2023-01-24T18:36:35.830Z"
   },
   {
    "duration": 22,
    "start_time": "2023-01-24T18:36:35.849Z"
   },
   {
    "duration": 11,
    "start_time": "2023-01-24T18:36:35.872Z"
   },
   {
    "duration": 23,
    "start_time": "2023-01-24T18:36:35.885Z"
   },
   {
    "duration": 32,
    "start_time": "2023-01-24T18:37:27.509Z"
   },
   {
    "duration": 3,
    "start_time": "2023-01-24T18:38:52.006Z"
   },
   {
    "duration": 64,
    "start_time": "2023-01-24T18:38:52.010Z"
   },
   {
    "duration": 13,
    "start_time": "2023-01-24T18:38:52.077Z"
   },
   {
    "duration": 39,
    "start_time": "2023-01-24T18:38:52.092Z"
   },
   {
    "duration": 38,
    "start_time": "2023-01-24T18:38:52.132Z"
   },
   {
    "duration": 41,
    "start_time": "2023-01-24T18:38:52.172Z"
   },
   {
    "duration": 1821,
    "start_time": "2023-01-24T18:38:52.214Z"
   },
   {
    "duration": 15,
    "start_time": "2023-01-24T18:38:54.039Z"
   },
   {
    "duration": 23,
    "start_time": "2023-01-24T18:38:54.056Z"
   },
   {
    "duration": 24,
    "start_time": "2023-01-24T18:38:54.082Z"
   },
   {
    "duration": 46,
    "start_time": "2023-01-24T18:38:54.108Z"
   },
   {
    "duration": 149,
    "start_time": "2023-01-24T18:38:54.156Z"
   },
   {
    "duration": 263,
    "start_time": "2023-01-24T18:38:54.307Z"
   },
   {
    "duration": 170,
    "start_time": "2023-01-24T18:38:54.572Z"
   },
   {
    "duration": 4,
    "start_time": "2023-01-24T18:38:54.743Z"
   },
   {
    "duration": 61,
    "start_time": "2023-01-24T18:38:54.749Z"
   },
   {
    "duration": 35,
    "start_time": "2023-01-24T18:38:54.811Z"
   },
   {
    "duration": 43,
    "start_time": "2023-01-24T18:38:54.847Z"
   },
   {
    "duration": 30,
    "start_time": "2023-01-24T18:38:54.892Z"
   },
   {
    "duration": 52,
    "start_time": "2023-01-24T18:38:54.924Z"
   },
   {
    "duration": 17,
    "start_time": "2023-01-24T18:43:26.784Z"
   },
   {
    "duration": 19,
    "start_time": "2023-01-24T18:43:58.024Z"
   },
   {
    "duration": 4,
    "start_time": "2023-01-24T18:44:14.869Z"
   },
   {
    "duration": 47,
    "start_time": "2023-01-24T18:44:14.875Z"
   },
   {
    "duration": 14,
    "start_time": "2023-01-24T18:44:14.924Z"
   },
   {
    "duration": 14,
    "start_time": "2023-01-24T18:44:14.940Z"
   },
   {
    "duration": 20,
    "start_time": "2023-01-24T18:44:14.955Z"
   },
   {
    "duration": 12,
    "start_time": "2023-01-24T18:44:14.977Z"
   },
   {
    "duration": 1871,
    "start_time": "2023-01-24T18:44:14.991Z"
   },
   {
    "duration": 14,
    "start_time": "2023-01-24T18:44:16.863Z"
   },
   {
    "duration": 11,
    "start_time": "2023-01-24T18:44:16.879Z"
   },
   {
    "duration": 19,
    "start_time": "2023-01-24T18:44:16.893Z"
   },
   {
    "duration": 54,
    "start_time": "2023-01-24T18:44:16.914Z"
   },
   {
    "duration": 176,
    "start_time": "2023-01-24T18:44:16.970Z"
   },
   {
    "duration": 264,
    "start_time": "2023-01-24T18:44:17.148Z"
   },
   {
    "duration": 184,
    "start_time": "2023-01-24T18:44:17.415Z"
   },
   {
    "duration": 3,
    "start_time": "2023-01-24T18:44:17.601Z"
   },
   {
    "duration": 10,
    "start_time": "2023-01-24T18:44:17.606Z"
   },
   {
    "duration": 7,
    "start_time": "2023-01-24T18:44:17.617Z"
   },
   {
    "duration": 23,
    "start_time": "2023-01-24T18:44:17.625Z"
   },
   {
    "duration": 17,
    "start_time": "2023-01-24T18:44:17.665Z"
   },
   {
    "duration": 11,
    "start_time": "2023-01-24T18:44:17.683Z"
   },
   {
    "duration": 17,
    "start_time": "2023-01-24T18:44:17.696Z"
   },
   {
    "duration": 4,
    "start_time": "2023-01-24T18:46:00.606Z"
   },
   {
    "duration": 92,
    "start_time": "2023-01-24T18:46:00.613Z"
   },
   {
    "duration": 11,
    "start_time": "2023-01-24T18:46:00.707Z"
   },
   {
    "duration": 29,
    "start_time": "2023-01-24T18:46:00.720Z"
   },
   {
    "duration": 44,
    "start_time": "2023-01-24T18:46:00.752Z"
   },
   {
    "duration": 56,
    "start_time": "2023-01-24T18:46:00.798Z"
   },
   {
    "duration": 1822,
    "start_time": "2023-01-24T18:46:00.856Z"
   },
   {
    "duration": 17,
    "start_time": "2023-01-24T18:46:02.679Z"
   },
   {
    "duration": 39,
    "start_time": "2023-01-24T18:46:02.697Z"
   },
   {
    "duration": 55,
    "start_time": "2023-01-24T18:46:02.738Z"
   },
   {
    "duration": 50,
    "start_time": "2023-01-24T18:46:02.795Z"
   },
   {
    "duration": 153,
    "start_time": "2023-01-24T18:46:02.848Z"
   },
   {
    "duration": 269,
    "start_time": "2023-01-24T18:46:03.003Z"
   },
   {
    "duration": 176,
    "start_time": "2023-01-24T18:46:03.275Z"
   },
   {
    "duration": 3,
    "start_time": "2023-01-24T18:46:03.452Z"
   },
   {
    "duration": 27,
    "start_time": "2023-01-24T18:46:03.457Z"
   },
   {
    "duration": 27,
    "start_time": "2023-01-24T18:46:03.486Z"
   },
   {
    "duration": 26,
    "start_time": "2023-01-24T18:46:03.515Z"
   },
   {
    "duration": 27,
    "start_time": "2023-01-24T18:46:03.543Z"
   },
   {
    "duration": 28,
    "start_time": "2023-01-24T18:46:03.572Z"
   },
   {
    "duration": 35,
    "start_time": "2023-01-24T18:46:03.602Z"
   },
   {
    "duration": 3,
    "start_time": "2023-01-24T18:46:47.140Z"
   },
   {
    "duration": 11,
    "start_time": "2023-01-24T18:48:59.070Z"
   },
   {
    "duration": 10,
    "start_time": "2023-01-24T18:49:11.211Z"
   },
   {
    "duration": 5,
    "start_time": "2023-01-24T18:49:21.494Z"
   },
   {
    "duration": 78,
    "start_time": "2023-01-24T18:49:49.755Z"
   },
   {
    "duration": 15,
    "start_time": "2023-01-24T18:49:56.143Z"
   },
   {
    "duration": 9,
    "start_time": "2023-01-24T18:50:01.916Z"
   },
   {
    "duration": 21,
    "start_time": "2023-01-24T18:50:04.731Z"
   },
   {
    "duration": 20,
    "start_time": "2023-01-24T18:52:59.544Z"
   },
   {
    "duration": 30,
    "start_time": "2023-01-24T18:55:00.397Z"
   },
   {
    "duration": 4,
    "start_time": "2023-01-24T19:00:12.947Z"
   },
   {
    "duration": 24,
    "start_time": "2023-01-24T19:04:51.704Z"
   },
   {
    "duration": 63,
    "start_time": "2023-01-24T19:07:02.863Z"
   },
   {
    "duration": 12,
    "start_time": "2023-01-24T19:09:39.796Z"
   },
   {
    "duration": 20,
    "start_time": "2023-01-24T19:32:53.061Z"
   },
   {
    "duration": 12,
    "start_time": "2023-01-24T19:33:15.136Z"
   },
   {
    "duration": 12,
    "start_time": "2023-01-24T19:34:07.424Z"
   },
   {
    "duration": 14,
    "start_time": "2023-01-24T19:34:10.106Z"
   },
   {
    "duration": 12,
    "start_time": "2023-01-24T19:34:57.828Z"
   },
   {
    "duration": 10,
    "start_time": "2023-01-24T19:35:25.371Z"
   },
   {
    "duration": 16,
    "start_time": "2023-01-24T19:35:27.441Z"
   },
   {
    "duration": 12,
    "start_time": "2023-01-24T19:35:48.196Z"
   },
   {
    "duration": 5,
    "start_time": "2023-01-24T19:36:21.124Z"
   },
   {
    "duration": 11,
    "start_time": "2023-01-24T19:47:13.212Z"
   },
   {
    "duration": 11,
    "start_time": "2023-01-24T19:47:30.378Z"
   },
   {
    "duration": 5,
    "start_time": "2023-01-24T19:47:40.272Z"
   },
   {
    "duration": 5,
    "start_time": "2023-01-24T19:48:09.844Z"
   },
   {
    "duration": 46,
    "start_time": "2023-01-25T03:14:23.162Z"
   },
   {
    "duration": 1054,
    "start_time": "2023-01-25T03:14:47.417Z"
   },
   {
    "duration": 189,
    "start_time": "2023-01-25T03:14:48.473Z"
   },
   {
    "duration": 12,
    "start_time": "2023-01-25T03:14:48.664Z"
   },
   {
    "duration": 5,
    "start_time": "2023-01-25T03:14:48.679Z"
   },
   {
    "duration": 11,
    "start_time": "2023-01-25T03:14:48.686Z"
   },
   {
    "duration": 13,
    "start_time": "2023-01-25T03:14:48.698Z"
   },
   {
    "duration": 1996,
    "start_time": "2023-01-25T03:14:48.713Z"
   },
   {
    "duration": 39,
    "start_time": "2023-01-25T03:14:50.710Z"
   },
   {
    "duration": 13,
    "start_time": "2023-01-25T03:14:50.750Z"
   },
   {
    "duration": 7,
    "start_time": "2023-01-25T03:14:50.780Z"
   },
   {
    "duration": 18,
    "start_time": "2023-01-25T03:14:50.789Z"
   },
   {
    "duration": 27,
    "start_time": "2023-01-25T03:14:50.809Z"
   },
   {
    "duration": 153,
    "start_time": "2023-01-25T03:14:50.838Z"
   },
   {
    "duration": 237,
    "start_time": "2023-01-25T03:14:50.992Z"
   },
   {
    "duration": 150,
    "start_time": "2023-01-25T03:14:51.231Z"
   },
   {
    "duration": 3,
    "start_time": "2023-01-25T03:14:51.383Z"
   },
   {
    "duration": 11,
    "start_time": "2023-01-25T03:14:51.388Z"
   },
   {
    "duration": 13,
    "start_time": "2023-01-25T03:14:51.401Z"
   },
   {
    "duration": 22,
    "start_time": "2023-01-25T03:14:51.415Z"
   },
   {
    "duration": 12,
    "start_time": "2023-01-25T03:14:51.438Z"
   },
   {
    "duration": 43,
    "start_time": "2023-01-25T03:14:51.452Z"
   },
   {
    "duration": 34,
    "start_time": "2023-01-25T03:14:51.497Z"
   },
   {
    "duration": 14,
    "start_time": "2023-01-25T03:14:51.535Z"
   },
   {
    "duration": 17,
    "start_time": "2023-01-25T03:14:51.551Z"
   },
   {
    "duration": 77,
    "start_time": "2023-01-25T03:14:51.581Z"
   },
   {
    "duration": 153,
    "start_time": "2023-01-25T03:15:09.400Z"
   },
   {
    "duration": 154,
    "start_time": "2023-01-25T03:15:53.117Z"
   },
   {
    "duration": 8,
    "start_time": "2023-01-25T03:17:21.700Z"
   },
   {
    "duration": 213955,
    "start_time": "2023-01-25T03:18:27.549Z"
   },
   {
    "duration": 13,
    "start_time": "2023-01-25T03:23:20.649Z"
   },
   {
    "duration": 4,
    "start_time": "2023-01-25T03:23:43.796Z"
   },
   {
    "duration": 21838,
    "start_time": "2023-01-25T03:23:48.854Z"
   },
   {
    "duration": 50,
    "start_time": "2023-01-25T03:28:49.119Z"
   },
   {
    "duration": 6,
    "start_time": "2023-01-25T03:28:55.527Z"
   },
   {
    "duration": 49,
    "start_time": "2023-01-25T03:29:10.568Z"
   },
   {
    "duration": 12,
    "start_time": "2023-01-25T03:29:16.945Z"
   },
   {
    "duration": 8615,
    "start_time": "2023-01-25T03:29:47.269Z"
   },
   {
    "duration": 11043,
    "start_time": "2023-01-25T03:30:18.551Z"
   },
   {
    "duration": 8333,
    "start_time": "2023-01-25T03:30:29.682Z"
   },
   {
    "duration": 64,
    "start_time": "2023-01-25T04:03:09.922Z"
   },
   {
    "duration": 11467,
    "start_time": "2023-01-25T04:03:17.115Z"
   },
   {
    "duration": 9976,
    "start_time": "2023-01-25T04:05:31.614Z"
   },
   {
    "duration": 10044,
    "start_time": "2023-01-25T04:08:23.746Z"
   },
   {
    "duration": 180,
    "start_time": "2023-01-25T04:08:49.309Z"
   },
   {
    "duration": 11,
    "start_time": "2023-01-25T04:09:28.187Z"
   },
   {
    "duration": 4,
    "start_time": "2023-01-25T04:09:36.870Z"
   },
   {
    "duration": 339,
    "start_time": "2023-01-25T04:09:43.677Z"
   },
   {
    "duration": 14793,
    "start_time": "2023-01-25T04:10:00.217Z"
   },
   {
    "duration": 15491,
    "start_time": "2023-01-25T04:13:25.515Z"
   },
   {
    "duration": 437,
    "start_time": "2023-01-25T04:28:49.298Z"
   },
   {
    "duration": 222722,
    "start_time": "2023-01-25T04:29:00.173Z"
   },
   {
    "duration": 2466,
    "start_time": "2023-01-25T04:32:42.897Z"
   },
   {
    "duration": 21,
    "start_time": "2023-01-25T04:33:11.797Z"
   },
   {
    "duration": 2386,
    "start_time": "2023-01-25T04:33:58.932Z"
   },
   {
    "duration": 2527,
    "start_time": "2023-01-25T04:34:36.199Z"
   },
   {
    "duration": 2388,
    "start_time": "2023-01-25T04:35:28.006Z"
   },
   {
    "duration": 8067,
    "start_time": "2023-01-25T04:39:19.019Z"
   },
   {
    "duration": 464,
    "start_time": "2023-01-25T04:57:05.597Z"
   },
   {
    "duration": 14,
    "start_time": "2023-01-25T05:01:42.672Z"
   },
   {
    "duration": 533,
    "start_time": "2023-01-25T05:02:18.270Z"
   },
   {
    "duration": 21,
    "start_time": "2023-01-25T05:02:25.007Z"
   },
   {
    "duration": 5,
    "start_time": "2023-01-25T05:11:01.325Z"
   },
   {
    "duration": 5,
    "start_time": "2023-01-25T05:14:27.987Z"
   },
   {
    "duration": 5,
    "start_time": "2023-01-25T05:18:08.572Z"
   },
   {
    "duration": 18,
    "start_time": "2023-01-25T05:18:11.766Z"
   },
   {
    "duration": 4,
    "start_time": "2023-01-25T05:18:53.696Z"
   },
   {
    "duration": 5,
    "start_time": "2023-01-25T05:19:03.240Z"
   },
   {
    "duration": 31,
    "start_time": "2023-01-25T05:19:05.010Z"
   },
   {
    "duration": 164058,
    "start_time": "2023-01-25T05:21:28.432Z"
   },
   {
    "duration": 191,
    "start_time": "2023-01-25T05:24:12.492Z"
   },
   {
    "duration": 0,
    "start_time": "2023-01-25T05:24:12.685Z"
   },
   {
    "duration": 0,
    "start_time": "2023-01-25T05:24:12.686Z"
   },
   {
    "duration": 0,
    "start_time": "2023-01-25T05:24:12.687Z"
   },
   {
    "duration": 328046,
    "start_time": "2023-01-25T05:25:03.641Z"
   },
   {
    "duration": 195,
    "start_time": "2023-01-25T05:30:31.689Z"
   },
   {
    "duration": 0,
    "start_time": "2023-01-25T05:30:31.885Z"
   },
   {
    "duration": 249342,
    "start_time": "2023-01-25T05:31:08.340Z"
   },
   {
    "duration": 121,
    "start_time": "2023-01-25T05:35:17.686Z"
   },
   {
    "duration": 50,
    "start_time": "2023-01-25T06:01:48.293Z"
   },
   {
    "duration": 60,
    "start_time": "2023-01-25T06:01:56.270Z"
   },
   {
    "duration": 52,
    "start_time": "2023-01-25T06:02:04.433Z"
   },
   {
    "duration": 1186,
    "start_time": "2023-01-25T06:03:23.580Z"
   },
   {
    "duration": 12,
    "start_time": "2023-01-25T06:10:28.811Z"
   },
   {
    "duration": 44,
    "start_time": "2023-01-25T06:10:46.967Z"
   },
   {
    "duration": 12,
    "start_time": "2023-01-25T06:11:01.873Z"
   },
   {
    "duration": 12,
    "start_time": "2023-01-25T06:11:07.672Z"
   },
   {
    "duration": 5,
    "start_time": "2023-01-25T06:11:39.236Z"
   },
   {
    "duration": 130,
    "start_time": "2023-01-25T06:11:47.484Z"
   },
   {
    "duration": 121,
    "start_time": "2023-01-25T06:17:17.533Z"
   },
   {
    "duration": 123,
    "start_time": "2023-01-25T06:17:41.767Z"
   },
   {
    "duration": 116,
    "start_time": "2023-01-25T06:18:30.531Z"
   },
   {
    "duration": 1545,
    "start_time": "2023-01-25T22:28:08.987Z"
   },
   {
    "duration": 5,
    "start_time": "2023-01-25T22:36:44.698Z"
   },
   {
    "duration": 211,
    "start_time": "2023-01-25T22:36:44.705Z"
   },
   {
    "duration": 19,
    "start_time": "2023-01-25T22:36:44.918Z"
   },
   {
    "duration": 10,
    "start_time": "2023-01-25T22:36:44.939Z"
   },
   {
    "duration": 27,
    "start_time": "2023-01-25T22:36:44.953Z"
   },
   {
    "duration": 14,
    "start_time": "2023-01-25T22:36:44.982Z"
   },
   {
    "duration": 1592,
    "start_time": "2023-01-25T22:36:44.998Z"
   },
   {
    "duration": 37,
    "start_time": "2023-01-25T22:36:46.592Z"
   },
   {
    "duration": 12,
    "start_time": "2023-01-25T22:36:46.631Z"
   },
   {
    "duration": 7,
    "start_time": "2023-01-25T22:36:46.667Z"
   },
   {
    "duration": 16,
    "start_time": "2023-01-25T22:36:46.677Z"
   },
   {
    "duration": 35,
    "start_time": "2023-01-25T22:36:46.695Z"
   },
   {
    "duration": 175,
    "start_time": "2023-01-25T22:36:46.732Z"
   },
   {
    "duration": 234,
    "start_time": "2023-01-25T22:36:46.909Z"
   },
   {
    "duration": 142,
    "start_time": "2023-01-25T22:36:47.145Z"
   },
   {
    "duration": 3,
    "start_time": "2023-01-25T22:36:47.288Z"
   },
   {
    "duration": 14,
    "start_time": "2023-01-25T22:36:47.293Z"
   },
   {
    "duration": 33,
    "start_time": "2023-01-25T22:36:47.309Z"
   },
   {
    "duration": 890,
    "start_time": "2023-01-25T22:36:47.344Z"
   },
   {
    "duration": 0,
    "start_time": "2023-01-25T22:36:48.236Z"
   },
   {
    "duration": 714,
    "start_time": "2023-01-25T22:38:26.735Z"
   },
   {
    "duration": 30,
    "start_time": "2023-01-25T22:39:33.141Z"
   },
   {
    "duration": 749,
    "start_time": "2023-01-25T22:39:50.221Z"
   },
   {
    "duration": 21,
    "start_time": "2023-01-25T22:40:10.264Z"
   },
   {
    "duration": 6,
    "start_time": "2023-01-25T22:40:38.268Z"
   },
   {
    "duration": 67,
    "start_time": "2023-01-25T22:40:38.276Z"
   },
   {
    "duration": 17,
    "start_time": "2023-01-25T22:40:38.345Z"
   },
   {
    "duration": 6,
    "start_time": "2023-01-25T22:40:38.366Z"
   },
   {
    "duration": 15,
    "start_time": "2023-01-25T22:40:38.373Z"
   },
   {
    "duration": 21,
    "start_time": "2023-01-25T22:40:38.390Z"
   },
   {
    "duration": 1709,
    "start_time": "2023-01-25T22:40:38.413Z"
   },
   {
    "duration": 53,
    "start_time": "2023-01-25T22:40:40.124Z"
   },
   {
    "duration": 15,
    "start_time": "2023-01-25T22:40:40.178Z"
   },
   {
    "duration": 8,
    "start_time": "2023-01-25T22:40:40.196Z"
   },
   {
    "duration": 15,
    "start_time": "2023-01-25T22:40:40.206Z"
   },
   {
    "duration": 60,
    "start_time": "2023-01-25T22:40:40.223Z"
   },
   {
    "duration": 161,
    "start_time": "2023-01-25T22:40:40.285Z"
   },
   {
    "duration": 263,
    "start_time": "2023-01-25T22:40:40.448Z"
   },
   {
    "duration": 176,
    "start_time": "2023-01-25T22:40:40.713Z"
   },
   {
    "duration": 4,
    "start_time": "2023-01-25T22:40:40.890Z"
   },
   {
    "duration": 10,
    "start_time": "2023-01-25T22:40:40.895Z"
   },
   {
    "duration": 14,
    "start_time": "2023-01-25T22:40:40.907Z"
   },
   {
    "duration": 21,
    "start_time": "2023-01-25T22:40:43.599Z"
   },
   {
    "duration": 802,
    "start_time": "2023-01-25T22:40:49.903Z"
   },
   {
    "duration": 20,
    "start_time": "2023-01-25T22:41:53.844Z"
   },
   {
    "duration": 21,
    "start_time": "2023-01-25T22:42:00.066Z"
   },
   {
    "duration": 740,
    "start_time": "2023-01-25T22:42:27.666Z"
   },
   {
    "duration": 12,
    "start_time": "2023-01-25T22:42:40.410Z"
   },
   {
    "duration": 680,
    "start_time": "2023-01-25T22:42:50.170Z"
   },
   {
    "duration": 13,
    "start_time": "2023-01-25T22:43:00.664Z"
   },
   {
    "duration": 14,
    "start_time": "2023-01-25T22:43:07.071Z"
   },
   {
    "duration": 698,
    "start_time": "2023-01-25T22:43:15.750Z"
   },
   {
    "duration": 13,
    "start_time": "2023-01-25T22:43:33.695Z"
   },
   {
    "duration": 27,
    "start_time": "2023-01-25T22:43:39.882Z"
   },
   {
    "duration": 20,
    "start_time": "2023-01-25T22:47:59.430Z"
   },
   {
    "duration": 28,
    "start_time": "2023-01-25T22:48:38.424Z"
   },
   {
    "duration": 15,
    "start_time": "2023-01-25T22:52:03.234Z"
   },
   {
    "duration": 12,
    "start_time": "2023-01-25T22:52:12.516Z"
   },
   {
    "duration": 10,
    "start_time": "2023-01-25T22:52:34.152Z"
   },
   {
    "duration": 12,
    "start_time": "2023-01-25T23:00:08.409Z"
   },
   {
    "duration": 31,
    "start_time": "2023-01-25T23:00:51.720Z"
   },
   {
    "duration": 10,
    "start_time": "2023-01-25T23:01:34.435Z"
   },
   {
    "duration": 13,
    "start_time": "2023-01-25T23:01:40.067Z"
   },
   {
    "duration": 17,
    "start_time": "2023-01-25T23:02:31.850Z"
   },
   {
    "duration": 36,
    "start_time": "2023-01-25T23:02:43.671Z"
   },
   {
    "duration": 17,
    "start_time": "2023-01-25T23:03:06.344Z"
   },
   {
    "duration": 12,
    "start_time": "2023-01-25T23:03:12.725Z"
   },
   {
    "duration": 33,
    "start_time": "2023-01-25T23:03:15.369Z"
   },
   {
    "duration": 22,
    "start_time": "2023-01-25T23:03:21.927Z"
   },
   {
    "duration": 11,
    "start_time": "2023-01-25T23:03:26.682Z"
   },
   {
    "duration": 26,
    "start_time": "2023-01-25T23:03:28.276Z"
   },
   {
    "duration": 24,
    "start_time": "2023-01-25T23:03:50.094Z"
   },
   {
    "duration": 10,
    "start_time": "2023-01-25T23:03:55.527Z"
   },
   {
    "duration": 242,
    "start_time": "2023-01-25T23:03:59.120Z"
   },
   {
    "duration": 68,
    "start_time": "2023-01-25T23:06:14.798Z"
   },
   {
    "duration": 12,
    "start_time": "2023-01-25T23:06:17.807Z"
   },
   {
    "duration": 26,
    "start_time": "2023-01-25T23:06:26.556Z"
   },
   {
    "duration": 7,
    "start_time": "2023-01-25T23:07:25.707Z"
   },
   {
    "duration": 5,
    "start_time": "2023-01-25T23:15:22.826Z"
   },
   {
    "duration": 54,
    "start_time": "2023-01-25T23:15:22.833Z"
   },
   {
    "duration": 12,
    "start_time": "2023-01-25T23:15:22.889Z"
   },
   {
    "duration": 6,
    "start_time": "2023-01-25T23:15:22.903Z"
   },
   {
    "duration": 27,
    "start_time": "2023-01-25T23:15:22.911Z"
   },
   {
    "duration": 18,
    "start_time": "2023-01-25T23:15:22.940Z"
   },
   {
    "duration": 1577,
    "start_time": "2023-01-25T23:15:22.960Z"
   },
   {
    "duration": 46,
    "start_time": "2023-01-25T23:15:24.539Z"
   },
   {
    "duration": 12,
    "start_time": "2023-01-25T23:15:24.586Z"
   },
   {
    "duration": 9,
    "start_time": "2023-01-25T23:15:24.600Z"
   },
   {
    "duration": 15,
    "start_time": "2023-01-25T23:15:24.611Z"
   },
   {
    "duration": 49,
    "start_time": "2023-01-25T23:15:24.627Z"
   },
   {
    "duration": 164,
    "start_time": "2023-01-25T23:15:24.678Z"
   },
   {
    "duration": 258,
    "start_time": "2023-01-25T23:15:24.845Z"
   },
   {
    "duration": 143,
    "start_time": "2023-01-25T23:15:25.104Z"
   },
   {
    "duration": 3,
    "start_time": "2023-01-25T23:15:25.248Z"
   },
   {
    "duration": 20,
    "start_time": "2023-01-25T23:15:25.252Z"
   },
   {
    "duration": 21,
    "start_time": "2023-01-25T23:15:25.274Z"
   },
   {
    "duration": 11,
    "start_time": "2023-01-25T23:15:25.296Z"
   },
   {
    "duration": 20,
    "start_time": "2023-01-25T23:15:25.309Z"
   },
   {
    "duration": 39,
    "start_time": "2023-01-25T23:15:25.331Z"
   },
   {
    "duration": 8,
    "start_time": "2023-01-25T23:15:29.208Z"
   },
   {
    "duration": 10,
    "start_time": "2023-01-25T23:16:38.092Z"
   },
   {
    "duration": 22,
    "start_time": "2023-01-25T23:16:43.115Z"
   },
   {
    "duration": 142,
    "start_time": "2023-01-25T23:17:01.173Z"
   },
   {
    "duration": 8,
    "start_time": "2023-01-25T23:17:04.026Z"
   },
   {
    "duration": 18,
    "start_time": "2023-01-25T23:17:24.539Z"
   },
   {
    "duration": 145,
    "start_time": "2023-01-25T23:17:29.699Z"
   },
   {
    "duration": 6,
    "start_time": "2023-01-25T23:17:32.204Z"
   },
   {
    "duration": 21,
    "start_time": "2023-01-25T23:20:24.084Z"
   },
   {
    "duration": 11,
    "start_time": "2023-01-25T23:20:32.291Z"
   },
   {
    "duration": 154,
    "start_time": "2023-01-25T23:20:44.589Z"
   },
   {
    "duration": 21,
    "start_time": "2023-01-25T23:21:40.031Z"
   },
   {
    "duration": 20,
    "start_time": "2023-01-25T23:22:18.733Z"
   },
   {
    "duration": 17780,
    "start_time": "2023-01-25T23:22:44.201Z"
   },
   {
    "duration": 39,
    "start_time": "2023-01-25T23:23:47.553Z"
   },
   {
    "duration": 52,
    "start_time": "2023-01-25T23:29:07.794Z"
   },
   {
    "duration": 1256,
    "start_time": "2023-01-25T23:29:15.826Z"
   },
   {
    "duration": 176,
    "start_time": "2023-01-25T23:29:17.084Z"
   },
   {
    "duration": 12,
    "start_time": "2023-01-25T23:29:17.261Z"
   },
   {
    "duration": 5,
    "start_time": "2023-01-25T23:29:17.275Z"
   },
   {
    "duration": 8,
    "start_time": "2023-01-25T23:29:17.282Z"
   },
   {
    "duration": 12,
    "start_time": "2023-01-25T23:29:17.292Z"
   },
   {
    "duration": 1530,
    "start_time": "2023-01-25T23:29:17.305Z"
   },
   {
    "duration": 44,
    "start_time": "2023-01-25T23:29:18.837Z"
   },
   {
    "duration": 11,
    "start_time": "2023-01-25T23:29:18.882Z"
   },
   {
    "duration": 9,
    "start_time": "2023-01-25T23:29:18.895Z"
   },
   {
    "duration": 18,
    "start_time": "2023-01-25T23:29:18.905Z"
   },
   {
    "duration": 45,
    "start_time": "2023-01-25T23:29:18.924Z"
   },
   {
    "duration": 140,
    "start_time": "2023-01-25T23:29:18.971Z"
   },
   {
    "duration": 226,
    "start_time": "2023-01-25T23:29:19.112Z"
   },
   {
    "duration": 146,
    "start_time": "2023-01-25T23:29:19.340Z"
   },
   {
    "duration": 3,
    "start_time": "2023-01-25T23:29:19.488Z"
   },
   {
    "duration": 12,
    "start_time": "2023-01-25T23:29:19.493Z"
   },
   {
    "duration": 11,
    "start_time": "2023-01-25T23:29:19.507Z"
   },
   {
    "duration": 21,
    "start_time": "2023-01-25T23:29:19.520Z"
   },
   {
    "duration": 21,
    "start_time": "2023-01-25T23:29:19.552Z"
   },
   {
    "duration": 78,
    "start_time": "2023-01-25T23:29:26.264Z"
   },
   {
    "duration": 14,
    "start_time": "2023-01-25T23:34:40.724Z"
   },
   {
    "duration": 16,
    "start_time": "2023-01-25T23:34:44.377Z"
   },
   {
    "duration": 59,
    "start_time": "2023-01-25T23:34:47.169Z"
   },
   {
    "duration": 220,
    "start_time": "2023-01-25T23:35:00.486Z"
   },
   {
    "duration": 10,
    "start_time": "2023-01-25T23:35:02.400Z"
   },
   {
    "duration": 14,
    "start_time": "2023-01-25T23:35:27.325Z"
   },
   {
    "duration": 13,
    "start_time": "2023-01-25T23:35:33.310Z"
   },
   {
    "duration": 7,
    "start_time": "2023-01-25T23:35:35.724Z"
   },
   {
    "duration": 11,
    "start_time": "2023-01-25T23:42:23.617Z"
   },
   {
    "duration": 6,
    "start_time": "2023-01-25T23:42:27.438Z"
   },
   {
    "duration": 11,
    "start_time": "2023-01-25T23:42:30.247Z"
   },
   {
    "duration": 14,
    "start_time": "2023-01-25T23:42:42.048Z"
   },
   {
    "duration": 5,
    "start_time": "2023-01-25T23:43:35.205Z"
   },
   {
    "duration": 5,
    "start_time": "2023-01-25T23:44:11.681Z"
   },
   {
    "duration": 12,
    "start_time": "2023-01-25T23:44:55.659Z"
   },
   {
    "duration": 10,
    "start_time": "2023-01-25T23:44:57.922Z"
   },
   {
    "duration": 6,
    "start_time": "2023-01-25T23:45:01.014Z"
   },
   {
    "duration": 16,
    "start_time": "2023-01-25T23:45:06.193Z"
   },
   {
    "duration": 9,
    "start_time": "2023-01-25T23:45:37.104Z"
   },
   {
    "duration": 11,
    "start_time": "2023-01-25T23:46:28.253Z"
   },
   {
    "duration": 7,
    "start_time": "2023-01-25T23:46:32.586Z"
   },
   {
    "duration": 9,
    "start_time": "2023-01-25T23:46:45.496Z"
   },
   {
    "duration": 21,
    "start_time": "2023-01-25T23:46:58.637Z"
   },
   {
    "duration": 23,
    "start_time": "2023-01-25T23:47:06.088Z"
   },
   {
    "duration": 6,
    "start_time": "2023-01-25T23:47:28.394Z"
   },
   {
    "duration": 8,
    "start_time": "2023-01-25T23:48:07.737Z"
   },
   {
    "duration": 18,
    "start_time": "2023-01-25T23:48:15.493Z"
   },
   {
    "duration": 31,
    "start_time": "2023-01-25T23:48:49.691Z"
   },
   {
    "duration": 17,
    "start_time": "2023-01-25T23:48:58.881Z"
   },
   {
    "duration": 16,
    "start_time": "2023-01-25T23:49:03.384Z"
   },
   {
    "duration": 11,
    "start_time": "2023-01-25T23:49:29.093Z"
   },
   {
    "duration": 6,
    "start_time": "2023-01-25T23:49:31.191Z"
   },
   {
    "duration": 14,
    "start_time": "2023-01-25T23:49:38.675Z"
   },
   {
    "duration": 7,
    "start_time": "2023-01-25T23:50:05.950Z"
   },
   {
    "duration": 15,
    "start_time": "2023-01-25T23:50:08.458Z"
   },
   {
    "duration": 12,
    "start_time": "2023-01-25T23:50:29.559Z"
   },
   {
    "duration": 18,
    "start_time": "2023-01-25T23:50:31.627Z"
   },
   {
    "duration": 25,
    "start_time": "2023-01-25T23:50:51.614Z"
   },
   {
    "duration": 16,
    "start_time": "2023-01-25T23:50:55.932Z"
   },
   {
    "duration": 8,
    "start_time": "2023-01-25T23:51:12.149Z"
   },
   {
    "duration": 14,
    "start_time": "2023-01-25T23:51:14.024Z"
   },
   {
    "duration": 10,
    "start_time": "2023-01-25T23:51:22.253Z"
   },
   {
    "duration": 9,
    "start_time": "2023-01-25T23:51:27.534Z"
   },
   {
    "duration": 22,
    "start_time": "2023-01-25T23:51:29.369Z"
   },
   {
    "duration": 7,
    "start_time": "2023-01-25T23:51:50.307Z"
   },
   {
    "duration": 22,
    "start_time": "2023-01-25T23:51:52.805Z"
   },
   {
    "duration": 17,
    "start_time": "2023-01-25T23:52:09.230Z"
   },
   {
    "duration": 8,
    "start_time": "2023-01-25T23:52:20.969Z"
   },
   {
    "duration": 14,
    "start_time": "2023-01-25T23:52:23.328Z"
   },
   {
    "duration": 48,
    "start_time": "2023-01-25T23:52:32.516Z"
   },
   {
    "duration": 16,
    "start_time": "2023-01-25T23:52:36.260Z"
   },
   {
    "duration": 18,
    "start_time": "2023-01-25T23:53:01.686Z"
   },
   {
    "duration": 7,
    "start_time": "2023-01-25T23:53:33.783Z"
   },
   {
    "duration": 8,
    "start_time": "2023-01-25T23:53:50.148Z"
   },
   {
    "duration": 5,
    "start_time": "2023-01-25T23:54:08.018Z"
   },
   {
    "duration": 10,
    "start_time": "2023-01-25T23:55:21.110Z"
   },
   {
    "duration": 20,
    "start_time": "2023-01-25T23:56:01.946Z"
   },
   {
    "duration": 10,
    "start_time": "2023-01-25T23:56:20.419Z"
   },
   {
    "duration": 5,
    "start_time": "2023-01-25T23:56:41.278Z"
   },
   {
    "duration": 6,
    "start_time": "2023-01-25T23:56:51.946Z"
   },
   {
    "duration": 20,
    "start_time": "2023-01-25T23:57:05.586Z"
   },
   {
    "duration": 13,
    "start_time": "2023-01-25T23:57:15.918Z"
   },
   {
    "duration": 11,
    "start_time": "2023-01-25T23:57:33.341Z"
   },
   {
    "duration": 11,
    "start_time": "2023-01-25T23:58:02.521Z"
   },
   {
    "duration": 7,
    "start_time": "2023-01-25T23:58:17.587Z"
   },
   {
    "duration": 16,
    "start_time": "2023-01-25T23:58:26.254Z"
   },
   {
    "duration": 29,
    "start_time": "2023-01-25T23:58:36.747Z"
   },
   {
    "duration": 20,
    "start_time": "2023-01-26T00:00:43.475Z"
   },
   {
    "duration": 39,
    "start_time": "2023-01-26T00:00:47.354Z"
   },
   {
    "duration": 10,
    "start_time": "2023-01-26T00:07:09.664Z"
   },
   {
    "duration": 45,
    "start_time": "2023-01-26T00:07:13.509Z"
   },
   {
    "duration": 44,
    "start_time": "2023-01-26T00:07:25.572Z"
   },
   {
    "duration": 10,
    "start_time": "2023-01-26T00:25:14.202Z"
   },
   {
    "duration": 20,
    "start_time": "2023-01-26T00:25:17.357Z"
   },
   {
    "duration": 44,
    "start_time": "2023-01-26T00:26:43.832Z"
   },
   {
    "duration": 20,
    "start_time": "2023-01-26T00:30:29.638Z"
   },
   {
    "duration": 11,
    "start_time": "2023-01-26T00:30:42.683Z"
   },
   {
    "duration": 20,
    "start_time": "2023-01-26T00:30:45.749Z"
   },
   {
    "duration": 17,
    "start_time": "2023-01-26T00:31:59.397Z"
   },
   {
    "duration": 20,
    "start_time": "2023-01-26T00:32:08.935Z"
   },
   {
    "duration": 25,
    "start_time": "2023-01-26T00:33:55.772Z"
   },
   {
    "duration": 11,
    "start_time": "2023-01-26T00:34:11.007Z"
   },
   {
    "duration": 26,
    "start_time": "2023-01-26T00:34:13.641Z"
   },
   {
    "duration": 713,
    "start_time": "2023-01-26T00:34:27.443Z"
   },
   {
    "duration": 9,
    "start_time": "2023-01-26T00:34:45.867Z"
   },
   {
    "duration": 7,
    "start_time": "2023-01-26T00:35:29.452Z"
   },
   {
    "duration": 27,
    "start_time": "2023-01-26T00:35:40.115Z"
   },
   {
    "duration": 13,
    "start_time": "2023-01-26T00:36:20.762Z"
   },
   {
    "duration": 15,
    "start_time": "2023-01-26T00:36:31.500Z"
   },
   {
    "duration": 26,
    "start_time": "2023-01-26T00:37:00.686Z"
   },
   {
    "duration": 46,
    "start_time": "2023-01-26T00:38:03.932Z"
   },
   {
    "duration": 29,
    "start_time": "2023-01-26T00:38:52.988Z"
   },
   {
    "duration": 28,
    "start_time": "2023-01-26T00:39:13.633Z"
   },
   {
    "duration": 17,
    "start_time": "2023-01-26T00:42:18.344Z"
   },
   {
    "duration": 13,
    "start_time": "2023-01-26T00:42:42.346Z"
   },
   {
    "duration": 14,
    "start_time": "2023-01-26T00:43:16.925Z"
   },
   {
    "duration": 15,
    "start_time": "2023-01-26T00:43:18.262Z"
   },
   {
    "duration": 24,
    "start_time": "2023-01-26T00:43:49.097Z"
   },
   {
    "duration": 35,
    "start_time": "2023-01-26T00:43:53.567Z"
   },
   {
    "duration": 26,
    "start_time": "2023-01-26T00:44:14.519Z"
   },
   {
    "duration": 27,
    "start_time": "2023-01-26T00:44:29.575Z"
   },
   {
    "duration": 32,
    "start_time": "2023-01-26T00:45:30.298Z"
   },
   {
    "duration": 13,
    "start_time": "2023-01-26T00:45:59.558Z"
   },
   {
    "duration": 42,
    "start_time": "2023-01-26T00:46:05.294Z"
   },
   {
    "duration": 46,
    "start_time": "2023-01-26T00:46:20.456Z"
   },
   {
    "duration": 11,
    "start_time": "2023-01-26T00:46:28.604Z"
   },
   {
    "duration": 11,
    "start_time": "2023-01-26T00:46:34.421Z"
   },
   {
    "duration": 34,
    "start_time": "2023-01-26T00:46:45.183Z"
   },
   {
    "duration": 10,
    "start_time": "2023-01-26T00:47:27.707Z"
   },
   {
    "duration": 36,
    "start_time": "2023-01-26T00:47:29.905Z"
   },
   {
    "duration": 9,
    "start_time": "2023-01-26T00:47:51.510Z"
   },
   {
    "duration": 24,
    "start_time": "2023-01-26T00:47:54.479Z"
   },
   {
    "duration": 14,
    "start_time": "2023-01-26T00:48:49.257Z"
   },
   {
    "duration": 11,
    "start_time": "2023-01-26T00:48:56.962Z"
   },
   {
    "duration": 36,
    "start_time": "2023-01-26T00:48:59.925Z"
   },
   {
    "duration": 4,
    "start_time": "2023-01-26T00:49:16.774Z"
   },
   {
    "duration": 9,
    "start_time": "2023-01-26T01:01:04.536Z"
   },
   {
    "duration": 9,
    "start_time": "2023-01-26T01:01:16.421Z"
   },
   {
    "duration": 28,
    "start_time": "2023-01-26T01:01:22.234Z"
   },
   {
    "duration": 30,
    "start_time": "2023-01-26T01:01:28.428Z"
   },
   {
    "duration": 4,
    "start_time": "2023-01-26T01:03:19.135Z"
   },
   {
    "duration": 51,
    "start_time": "2023-01-26T01:03:19.141Z"
   },
   {
    "duration": 12,
    "start_time": "2023-01-26T01:03:19.194Z"
   },
   {
    "duration": 6,
    "start_time": "2023-01-26T01:03:19.208Z"
   },
   {
    "duration": 8,
    "start_time": "2023-01-26T01:03:19.215Z"
   },
   {
    "duration": 10,
    "start_time": "2023-01-26T01:03:19.225Z"
   },
   {
    "duration": 1691,
    "start_time": "2023-01-26T01:03:19.236Z"
   },
   {
    "duration": 50,
    "start_time": "2023-01-26T01:03:20.929Z"
   },
   {
    "duration": 12,
    "start_time": "2023-01-26T01:03:20.980Z"
   },
   {
    "duration": 8,
    "start_time": "2023-01-26T01:03:20.995Z"
   },
   {
    "duration": 16,
    "start_time": "2023-01-26T01:03:21.004Z"
   },
   {
    "duration": 51,
    "start_time": "2023-01-26T01:03:21.023Z"
   },
   {
    "duration": 126,
    "start_time": "2023-01-26T01:03:21.076Z"
   },
   {
    "duration": 222,
    "start_time": "2023-01-26T01:03:21.203Z"
   },
   {
    "duration": 144,
    "start_time": "2023-01-26T01:03:21.426Z"
   },
   {
    "duration": 2,
    "start_time": "2023-01-26T01:03:21.572Z"
   },
   {
    "duration": 14,
    "start_time": "2023-01-26T01:03:21.576Z"
   },
   {
    "duration": 13,
    "start_time": "2023-01-26T01:03:21.591Z"
   },
   {
    "duration": 17,
    "start_time": "2023-01-26T01:03:21.606Z"
   },
   {
    "duration": 45,
    "start_time": "2023-01-26T01:03:21.625Z"
   },
   {
    "duration": 34,
    "start_time": "2023-01-26T01:03:21.672Z"
   },
   {
    "duration": 34,
    "start_time": "2023-01-26T01:08:15.985Z"
   },
   {
    "duration": 31,
    "start_time": "2023-01-26T01:08:22.092Z"
   },
   {
    "duration": 10,
    "start_time": "2023-01-26T01:08:39.679Z"
   },
   {
    "duration": 5,
    "start_time": "2023-01-26T01:08:43.200Z"
   },
   {
    "duration": 34,
    "start_time": "2023-01-26T01:08:44.950Z"
   },
   {
    "duration": 35,
    "start_time": "2023-01-26T01:08:51.348Z"
   },
   {
    "duration": 14,
    "start_time": "2023-01-26T01:09:46.774Z"
   },
   {
    "duration": 4,
    "start_time": "2023-01-26T01:09:49.015Z"
   },
   {
    "duration": 33,
    "start_time": "2023-01-26T01:09:51.228Z"
   },
   {
    "duration": 7,
    "start_time": "2023-01-26T01:10:23.231Z"
   },
   {
    "duration": 9,
    "start_time": "2023-01-26T01:16:13.522Z"
   },
   {
    "duration": 4,
    "start_time": "2023-01-26T01:16:15.822Z"
   },
   {
    "duration": 31,
    "start_time": "2023-01-26T01:16:16.442Z"
   },
   {
    "duration": 32,
    "start_time": "2023-01-26T01:16:21.714Z"
   },
   {
    "duration": 10,
    "start_time": "2023-01-26T01:16:57.564Z"
   },
   {
    "duration": 6,
    "start_time": "2023-01-26T01:17:11.677Z"
   },
   {
    "duration": 10,
    "start_time": "2023-01-26T01:19:36.603Z"
   },
   {
    "duration": 5,
    "start_time": "2023-01-26T01:19:37.919Z"
   },
   {
    "duration": 33,
    "start_time": "2023-01-26T01:19:38.358Z"
   },
   {
    "duration": 70,
    "start_time": "2023-01-26T01:19:43.770Z"
   },
   {
    "duration": 34,
    "start_time": "2023-01-26T01:19:56.578Z"
   },
   {
    "duration": 6,
    "start_time": "2023-01-26T01:20:12.652Z"
   },
   {
    "duration": 10,
    "start_time": "2023-01-26T01:20:20.596Z"
   },
   {
    "duration": 4,
    "start_time": "2023-01-26T01:21:11.480Z"
   },
   {
    "duration": 54,
    "start_time": "2023-01-26T01:21:11.486Z"
   },
   {
    "duration": 10,
    "start_time": "2023-01-26T01:21:11.542Z"
   },
   {
    "duration": 5,
    "start_time": "2023-01-26T01:21:11.554Z"
   },
   {
    "duration": 8,
    "start_time": "2023-01-26T01:21:11.560Z"
   },
   {
    "duration": 20,
    "start_time": "2023-01-26T01:21:11.570Z"
   },
   {
    "duration": 1637,
    "start_time": "2023-01-26T01:21:11.592Z"
   },
   {
    "duration": 48,
    "start_time": "2023-01-26T01:21:13.231Z"
   },
   {
    "duration": 13,
    "start_time": "2023-01-26T01:21:13.281Z"
   },
   {
    "duration": 7,
    "start_time": "2023-01-26T01:21:13.297Z"
   },
   {
    "duration": 13,
    "start_time": "2023-01-26T01:21:13.306Z"
   },
   {
    "duration": 61,
    "start_time": "2023-01-26T01:21:13.321Z"
   },
   {
    "duration": 139,
    "start_time": "2023-01-26T01:21:13.383Z"
   },
   {
    "duration": 238,
    "start_time": "2023-01-26T01:21:13.524Z"
   },
   {
    "duration": 157,
    "start_time": "2023-01-26T01:21:13.764Z"
   },
   {
    "duration": 3,
    "start_time": "2023-01-26T01:21:13.923Z"
   },
   {
    "duration": 8,
    "start_time": "2023-01-26T01:21:13.927Z"
   },
   {
    "duration": 14,
    "start_time": "2023-01-26T01:21:13.937Z"
   },
   {
    "duration": 16,
    "start_time": "2023-01-26T01:21:13.953Z"
   },
   {
    "duration": 40,
    "start_time": "2023-01-26T01:21:13.971Z"
   },
   {
    "duration": 6,
    "start_time": "2023-01-26T01:21:14.012Z"
   },
   {
    "duration": 48,
    "start_time": "2023-01-26T01:21:14.020Z"
   },
   {
    "duration": 11,
    "start_time": "2023-01-26T01:34:21.429Z"
   },
   {
    "duration": 1520,
    "start_time": "2023-01-26T01:35:23.169Z"
   },
   {
    "duration": 7061,
    "start_time": "2023-01-26T01:35:39.501Z"
   },
   {
    "duration": 1141,
    "start_time": "2023-01-26T01:36:16.300Z"
   },
   {
    "duration": 116,
    "start_time": "2023-01-26T01:39:34.357Z"
   },
   {
    "duration": 2022,
    "start_time": "2023-01-26T01:39:45.869Z"
   },
   {
    "duration": 5,
    "start_time": "2023-01-26T01:39:47.893Z"
   },
   {
    "duration": 61,
    "start_time": "2023-01-26T01:39:47.900Z"
   },
   {
    "duration": 13,
    "start_time": "2023-01-26T01:39:47.962Z"
   },
   {
    "duration": 12,
    "start_time": "2023-01-26T01:39:47.976Z"
   },
   {
    "duration": 8,
    "start_time": "2023-01-26T01:39:47.989Z"
   },
   {
    "duration": 10,
    "start_time": "2023-01-26T01:39:47.998Z"
   },
   {
    "duration": 1491,
    "start_time": "2023-01-26T01:39:48.009Z"
   },
   {
    "duration": 35,
    "start_time": "2023-01-26T01:39:49.501Z"
   },
   {
    "duration": 10,
    "start_time": "2023-01-26T01:39:49.538Z"
   },
   {
    "duration": 22,
    "start_time": "2023-01-26T01:39:49.550Z"
   },
   {
    "duration": 13,
    "start_time": "2023-01-26T01:39:49.573Z"
   },
   {
    "duration": 25,
    "start_time": "2023-01-26T01:39:49.587Z"
   },
   {
    "duration": 135,
    "start_time": "2023-01-26T01:39:49.614Z"
   },
   {
    "duration": 223,
    "start_time": "2023-01-26T01:39:49.750Z"
   },
   {
    "duration": 130,
    "start_time": "2023-01-26T01:39:49.975Z"
   },
   {
    "duration": 2,
    "start_time": "2023-01-26T01:39:50.107Z"
   },
   {
    "duration": 7,
    "start_time": "2023-01-26T01:39:50.110Z"
   },
   {
    "duration": 9,
    "start_time": "2023-01-26T01:39:50.118Z"
   },
   {
    "duration": 3,
    "start_time": "2023-01-26T01:39:50.129Z"
   },
   {
    "duration": 54,
    "start_time": "2023-01-26T01:39:50.134Z"
   },
   {
    "duration": 4,
    "start_time": "2023-01-26T01:39:50.190Z"
   },
   {
    "duration": 28,
    "start_time": "2023-01-26T01:39:50.196Z"
   },
   {
    "duration": 5,
    "start_time": "2023-01-26T01:39:50.226Z"
   },
   {
    "duration": 591,
    "start_time": "2023-01-26T01:39:50.232Z"
   },
   {
    "duration": 243024,
    "start_time": "2023-01-26T01:39:50.825Z"
   },
   {
    "duration": 15234,
    "start_time": "2023-01-26T01:43:53.851Z"
   },
   {
    "duration": 8986,
    "start_time": "2023-01-26T01:44:09.086Z"
   },
   {
    "duration": 103,
    "start_time": "2023-01-26T01:44:18.074Z"
   },
   {
    "duration": 180989,
    "start_time": "2023-01-26T01:44:55.979Z"
   },
   {
    "duration": 5,
    "start_time": "2023-01-26T01:49:30.703Z"
   },
   {
    "duration": 411054,
    "start_time": "2023-01-26T01:51:01.017Z"
   },
   {
    "duration": 1129,
    "start_time": "2023-01-26T01:58:37.644Z"
   },
   {
    "duration": 7,
    "start_time": "2023-01-26T01:59:06.427Z"
   },
   {
    "duration": 184582,
    "start_time": "2023-01-26T01:59:12.890Z"
   },
   {
    "duration": 8,
    "start_time": "2023-01-26T02:02:17.568Z"
   },
   {
    "duration": 347105,
    "start_time": "2023-01-26T02:02:17.668Z"
   },
   {
    "duration": 271704,
    "start_time": "2023-01-26T02:08:04.868Z"
   },
   {
    "duration": 481,
    "start_time": "2023-01-26T02:50:06.315Z"
   },
   {
    "duration": 117,
    "start_time": "2023-01-26T02:50:14.919Z"
   },
   {
    "duration": 53,
    "start_time": "2023-01-26T02:57:19.018Z"
   },
   {
    "duration": 48,
    "start_time": "2023-01-26T02:57:26.962Z"
   },
   {
    "duration": 8356,
    "start_time": "2023-09-26T13:10:48.136Z"
   },
   {
    "duration": 1594,
    "start_time": "2023-09-26T13:10:56.495Z"
   },
   {
    "duration": 103,
    "start_time": "2023-09-26T13:10:58.091Z"
   },
   {
    "duration": 14,
    "start_time": "2023-09-26T13:10:58.196Z"
   },
   {
    "duration": 91,
    "start_time": "2023-09-26T13:10:58.212Z"
   },
   {
    "duration": 40,
    "start_time": "2023-09-26T13:10:58.305Z"
   },
   {
    "duration": 39,
    "start_time": "2023-09-26T13:10:58.347Z"
   },
   {
    "duration": 1847,
    "start_time": "2023-09-26T13:10:58.388Z"
   },
   {
    "duration": 41,
    "start_time": "2023-09-26T13:11:00.236Z"
   },
   {
    "duration": 231,
    "start_time": "2023-09-26T13:11:00.278Z"
   },
   {
    "duration": 54,
    "start_time": "2023-09-26T13:11:00.510Z"
   },
   {
    "duration": 146,
    "start_time": "2023-09-26T13:11:00.566Z"
   },
   {
    "duration": 148,
    "start_time": "2023-09-26T13:11:00.714Z"
   },
   {
    "duration": 195,
    "start_time": "2023-09-26T13:11:00.865Z"
   },
   {
    "duration": 247,
    "start_time": "2023-09-26T13:11:01.062Z"
   },
   {
    "duration": 163,
    "start_time": "2023-09-26T13:11:01.310Z"
   },
   {
    "duration": 3,
    "start_time": "2023-09-26T13:11:01.474Z"
   },
   {
    "duration": 71,
    "start_time": "2023-09-26T13:11:01.478Z"
   },
   {
    "duration": 152,
    "start_time": "2023-09-26T13:11:01.551Z"
   },
   {
    "duration": 74,
    "start_time": "2023-09-26T13:11:01.705Z"
   },
   {
    "duration": 96,
    "start_time": "2023-09-26T13:11:01.781Z"
   },
   {
    "duration": 78,
    "start_time": "2023-09-26T13:11:01.879Z"
   },
   {
    "duration": 79,
    "start_time": "2023-09-26T13:11:01.959Z"
   },
   {
    "duration": 22,
    "start_time": "2023-09-26T13:11:02.039Z"
   },
   {
    "duration": 880,
    "start_time": "2023-09-26T13:11:02.063Z"
   },
   {
    "duration": 300402,
    "start_time": "2023-09-26T13:11:02.945Z"
   },
   {
    "duration": 16806,
    "start_time": "2023-09-26T13:16:03.349Z"
   },
   {
    "duration": 8746,
    "start_time": "2023-09-26T13:16:20.157Z"
   },
   {
    "duration": 101,
    "start_time": "2023-09-26T13:16:28.910Z"
   },
   {
    "duration": 79,
    "start_time": "2023-09-26T13:16:29.012Z"
   },
   {
    "duration": 213035,
    "start_time": "2023-09-26T13:16:29.093Z"
   },
   {
    "duration": 213401,
    "start_time": "2023-09-26T13:20:02.203Z"
   },
   {
    "duration": 8,
    "start_time": "2023-09-26T13:23:35.607Z"
   },
   {
    "duration": 429902,
    "start_time": "2023-09-26T13:23:35.702Z"
   },
   {
    "duration": 530219,
    "start_time": "2023-09-26T13:30:45.608Z"
   },
   {
    "duration": 330895,
    "start_time": "2023-09-26T13:39:35.910Z"
   },
   {
    "duration": 533,
    "start_time": "2023-09-26T13:45:06.901Z"
   },
   {
    "duration": 141,
    "start_time": "2023-09-26T13:45:07.436Z"
   }
  ],
  "kernelspec": {
   "display_name": "Python 3 (ipykernel)",
   "language": "python",
   "name": "python3"
  },
  "language_info": {
   "codemirror_mode": {
    "name": "ipython",
    "version": 3
   },
   "file_extension": ".py",
   "mimetype": "text/x-python",
   "name": "python",
   "nbconvert_exporter": "python",
   "pygments_lexer": "ipython3",
   "version": "3.9.5"
  },
  "toc": {
   "base_numbering": 1,
   "nav_menu": {},
   "number_sections": true,
   "sideBar": true,
   "skip_h1_title": true,
   "title_cell": "Содержание",
   "title_sidebar": "Contents",
   "toc_cell": true,
   "toc_position": {
    "height": "calc(100% - 180px)",
    "left": "10px",
    "top": "150px",
    "width": "192.083px"
   },
   "toc_section_display": true,
   "toc_window_display": true
  }
 },
 "nbformat": 4,
 "nbformat_minor": 2
}
