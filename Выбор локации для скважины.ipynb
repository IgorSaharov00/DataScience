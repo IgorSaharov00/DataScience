{
 "cells": [
  {
   "cell_type": "markdown",
   "metadata": {},
   "source": [
    "# Выбор локации для скважины"
   ]
  },
  {
   "cell_type": "markdown",
   "metadata": {},
   "source": [
    "Компании «ГлавРосГосНефть» нужно решить, где бурить новую скважину.\n",
    "\n",
    "Предоставлены пробы нефти в трёх регионах: в каждом 10 000 месторождений, где измерили качество нефти и объём её запасов. Необходимо постройте модель машинного обучения, которая поможет определить регион, где добыча принесёт наибольшую прибыль.\n",
    "\n",
    "Шаги для выбора локации:\n",
    "\n",
    "- в избранном регионе ищут месторождения, для каждого определяют значения признаков;\n",
    "- строят модель и оценивают объём запасов;\n",
    "- выбирают месторождения с самым высокими оценками значений. Количество месторождений зависит от бюджета компании и стоимости разработки одной скважины;\n",
    "- прибыль равна суммарной прибыли отобранных месторождений."
   ]
  },
  {
   "cell_type": "markdown",
   "metadata": {},
   "source": [
    "## Библиотеки"
   ]
  },
  {
   "cell_type": "code",
   "execution_count": 1,
   "metadata": {},
   "outputs": [],
   "source": [
    "import os\n",
    "\n",
    "import numpy as np\n",
    "import pandas as pd\n",
    "\n",
    "from sklearn.linear_model import LinearRegression\n",
    "from sklearn.model_selection import train_test_split\n",
    "from sklearn.metrics import mean_squared_error\n",
    "import matplotlib.pyplot as plt\n",
    "import matplotlib.patches as mpatches\n",
    "\n",
    "PATH_GEO_DATA_0 = 'C:/Users/igors/OneDrive/Рабочий стол/Портфолио/7. Выбор локации для скважины/geo_data_0.csv'\n",
    "PATH_GEO_DATA_1 = 'C:/Users/igors/OneDrive/Рабочий стол/Портфолио/7. Выбор локации для скважины/geo_data_1.csv'\n",
    "PATH_GEO_DATA_2 = 'C:/Users/igors/OneDrive/Рабочий стол/Портфолио/7. Выбор локации для скважины/geo_data_0.csv'\n",
    "BUDGET = 10e9\n",
    "THOUSAND_BARREL_PRICE = 450e3\n",
    "AMOUNT_OF_EXPLORED_WELLS = 500\n",
    "AMOUNT_OF_THE_BEST_WELLS = 200"
   ]
  },
  {
   "cell_type": "markdown",
   "metadata": {},
   "source": [
    "## Загрузка и подготовка данных"
   ]
  },
  {
   "cell_type": "markdown",
   "metadata": {},
   "source": [
    "Подготовим данные:\n",
    "\n",
    "1. загрузим данные;\n",
    "2. просмотрим общую информацию о них;\n",
    "3. проверим наличие пропусков;\n",
    "4. проверима наличие дубликатов;\n",
    "5. проверим статистические свойства признаков."
   ]
  },
  {
   "cell_type": "code",
   "execution_count": 2,
   "metadata": {
    "scrolled": false
   },
   "outputs": [],
   "source": [
    "if os.path.exists(PATH_GEO_DATA_0):\n",
    "    try:\n",
    "        data_0 = pd.read_csv(PATH_GEO_DATA_0)\n",
    "    except:\n",
    "        print('Ошибка в считывании данных.')\n",
    "else:\n",
    "    print(f'Путь {PATH_GEO_DATA_1} не сущесвтует.')\n",
    "\n",
    "if os.path.exists(PATH_GEO_DATA_1):\n",
    "    try:\n",
    "        data_1 = pd.read_csv(PATH_GEO_DATA_1)\n",
    "    except:\n",
    "        print('Ошибка в считывании данных.')\n",
    "else:\n",
    "    print(f'Путь {PATH_GEO_DATA_1} не сущесвтует.')\n",
    "\n",
    "if os.path.exists(PATH_GEO_DATA_2):\n",
    "    try:\n",
    "        data_2 = pd.read_csv(PATH_GEO_DATA_2)\n",
    "    except:\n",
    "        print('Ошибка в считывании данных.')\n",
    "else:\n",
    "    print(f'Путь {PATH_GEO_DATA_2} не сущесвтует.')"
   ]
  },
  {
   "cell_type": "code",
   "execution_count": 3,
   "metadata": {},
   "outputs": [
    {
     "data": {
      "text/html": [
       "<div>\n",
       "<style scoped>\n",
       "    .dataframe tbody tr th:only-of-type {\n",
       "        vertical-align: middle;\n",
       "    }\n",
       "\n",
       "    .dataframe tbody tr th {\n",
       "        vertical-align: top;\n",
       "    }\n",
       "\n",
       "    .dataframe thead th {\n",
       "        text-align: right;\n",
       "    }\n",
       "</style>\n",
       "<table border=\"1\" class=\"dataframe\">\n",
       "  <thead>\n",
       "    <tr style=\"text-align: right;\">\n",
       "      <th></th>\n",
       "      <th>id</th>\n",
       "      <th>f0</th>\n",
       "      <th>f1</th>\n",
       "      <th>f2</th>\n",
       "      <th>product</th>\n",
       "    </tr>\n",
       "  </thead>\n",
       "  <tbody>\n",
       "    <tr>\n",
       "      <th>0</th>\n",
       "      <td>txEyH</td>\n",
       "      <td>0.705745</td>\n",
       "      <td>-0.497823</td>\n",
       "      <td>1.221170</td>\n",
       "      <td>105.280062</td>\n",
       "    </tr>\n",
       "    <tr>\n",
       "      <th>1</th>\n",
       "      <td>2acmU</td>\n",
       "      <td>1.334711</td>\n",
       "      <td>-0.340164</td>\n",
       "      <td>4.365080</td>\n",
       "      <td>73.037750</td>\n",
       "    </tr>\n",
       "    <tr>\n",
       "      <th>2</th>\n",
       "      <td>409Wp</td>\n",
       "      <td>1.022732</td>\n",
       "      <td>0.151990</td>\n",
       "      <td>1.419926</td>\n",
       "      <td>85.265647</td>\n",
       "    </tr>\n",
       "    <tr>\n",
       "      <th>3</th>\n",
       "      <td>iJLyR</td>\n",
       "      <td>-0.032172</td>\n",
       "      <td>0.139033</td>\n",
       "      <td>2.978566</td>\n",
       "      <td>168.620776</td>\n",
       "    </tr>\n",
       "    <tr>\n",
       "      <th>4</th>\n",
       "      <td>Xdl7t</td>\n",
       "      <td>1.988431</td>\n",
       "      <td>0.155413</td>\n",
       "      <td>4.751769</td>\n",
       "      <td>154.036647</td>\n",
       "    </tr>\n",
       "  </tbody>\n",
       "</table>\n",
       "</div>"
      ],
      "text/plain": [
       "      id        f0        f1        f2     product\n",
       "0  txEyH  0.705745 -0.497823  1.221170  105.280062\n",
       "1  2acmU  1.334711 -0.340164  4.365080   73.037750\n",
       "2  409Wp  1.022732  0.151990  1.419926   85.265647\n",
       "3  iJLyR -0.032172  0.139033  2.978566  168.620776\n",
       "4  Xdl7t  1.988431  0.155413  4.751769  154.036647"
      ]
     },
     "metadata": {},
     "output_type": "display_data"
    }
   ],
   "source": [
    "display(data_0.head())"
   ]
  },
  {
   "cell_type": "code",
   "execution_count": 4,
   "metadata": {},
   "outputs": [
    {
     "data": {
      "text/html": [
       "<div>\n",
       "<style scoped>\n",
       "    .dataframe tbody tr th:only-of-type {\n",
       "        vertical-align: middle;\n",
       "    }\n",
       "\n",
       "    .dataframe tbody tr th {\n",
       "        vertical-align: top;\n",
       "    }\n",
       "\n",
       "    .dataframe thead th {\n",
       "        text-align: right;\n",
       "    }\n",
       "</style>\n",
       "<table border=\"1\" class=\"dataframe\">\n",
       "  <thead>\n",
       "    <tr style=\"text-align: right;\">\n",
       "      <th></th>\n",
       "      <th>id</th>\n",
       "      <th>f0</th>\n",
       "      <th>f1</th>\n",
       "      <th>f2</th>\n",
       "      <th>product</th>\n",
       "    </tr>\n",
       "  </thead>\n",
       "  <tbody>\n",
       "    <tr>\n",
       "      <th>0</th>\n",
       "      <td>kBEdx</td>\n",
       "      <td>-15.001348</td>\n",
       "      <td>-8.276000</td>\n",
       "      <td>-0.005876</td>\n",
       "      <td>3.179103</td>\n",
       "    </tr>\n",
       "    <tr>\n",
       "      <th>1</th>\n",
       "      <td>62mP7</td>\n",
       "      <td>14.272088</td>\n",
       "      <td>-3.475083</td>\n",
       "      <td>0.999183</td>\n",
       "      <td>26.953261</td>\n",
       "    </tr>\n",
       "    <tr>\n",
       "      <th>2</th>\n",
       "      <td>vyE1P</td>\n",
       "      <td>6.263187</td>\n",
       "      <td>-5.948386</td>\n",
       "      <td>5.001160</td>\n",
       "      <td>134.766305</td>\n",
       "    </tr>\n",
       "    <tr>\n",
       "      <th>3</th>\n",
       "      <td>KcrkZ</td>\n",
       "      <td>-13.081196</td>\n",
       "      <td>-11.506057</td>\n",
       "      <td>4.999415</td>\n",
       "      <td>137.945408</td>\n",
       "    </tr>\n",
       "    <tr>\n",
       "      <th>4</th>\n",
       "      <td>AHL4O</td>\n",
       "      <td>12.702195</td>\n",
       "      <td>-8.147433</td>\n",
       "      <td>5.004363</td>\n",
       "      <td>134.766305</td>\n",
       "    </tr>\n",
       "  </tbody>\n",
       "</table>\n",
       "</div>"
      ],
      "text/plain": [
       "      id         f0         f1        f2     product\n",
       "0  kBEdx -15.001348  -8.276000 -0.005876    3.179103\n",
       "1  62mP7  14.272088  -3.475083  0.999183   26.953261\n",
       "2  vyE1P   6.263187  -5.948386  5.001160  134.766305\n",
       "3  KcrkZ -13.081196 -11.506057  4.999415  137.945408\n",
       "4  AHL4O  12.702195  -8.147433  5.004363  134.766305"
      ]
     },
     "metadata": {},
     "output_type": "display_data"
    }
   ],
   "source": [
    "display(data_1.head())"
   ]
  },
  {
   "cell_type": "code",
   "execution_count": 5,
   "metadata": {
    "scrolled": true
   },
   "outputs": [
    {
     "data": {
      "text/html": [
       "<div>\n",
       "<style scoped>\n",
       "    .dataframe tbody tr th:only-of-type {\n",
       "        vertical-align: middle;\n",
       "    }\n",
       "\n",
       "    .dataframe tbody tr th {\n",
       "        vertical-align: top;\n",
       "    }\n",
       "\n",
       "    .dataframe thead th {\n",
       "        text-align: right;\n",
       "    }\n",
       "</style>\n",
       "<table border=\"1\" class=\"dataframe\">\n",
       "  <thead>\n",
       "    <tr style=\"text-align: right;\">\n",
       "      <th></th>\n",
       "      <th>id</th>\n",
       "      <th>f0</th>\n",
       "      <th>f1</th>\n",
       "      <th>f2</th>\n",
       "      <th>product</th>\n",
       "    </tr>\n",
       "  </thead>\n",
       "  <tbody>\n",
       "    <tr>\n",
       "      <th>0</th>\n",
       "      <td>txEyH</td>\n",
       "      <td>0.705745</td>\n",
       "      <td>-0.497823</td>\n",
       "      <td>1.221170</td>\n",
       "      <td>105.280062</td>\n",
       "    </tr>\n",
       "    <tr>\n",
       "      <th>1</th>\n",
       "      <td>2acmU</td>\n",
       "      <td>1.334711</td>\n",
       "      <td>-0.340164</td>\n",
       "      <td>4.365080</td>\n",
       "      <td>73.037750</td>\n",
       "    </tr>\n",
       "    <tr>\n",
       "      <th>2</th>\n",
       "      <td>409Wp</td>\n",
       "      <td>1.022732</td>\n",
       "      <td>0.151990</td>\n",
       "      <td>1.419926</td>\n",
       "      <td>85.265647</td>\n",
       "    </tr>\n",
       "    <tr>\n",
       "      <th>3</th>\n",
       "      <td>iJLyR</td>\n",
       "      <td>-0.032172</td>\n",
       "      <td>0.139033</td>\n",
       "      <td>2.978566</td>\n",
       "      <td>168.620776</td>\n",
       "    </tr>\n",
       "    <tr>\n",
       "      <th>4</th>\n",
       "      <td>Xdl7t</td>\n",
       "      <td>1.988431</td>\n",
       "      <td>0.155413</td>\n",
       "      <td>4.751769</td>\n",
       "      <td>154.036647</td>\n",
       "    </tr>\n",
       "  </tbody>\n",
       "</table>\n",
       "</div>"
      ],
      "text/plain": [
       "      id        f0        f1        f2     product\n",
       "0  txEyH  0.705745 -0.497823  1.221170  105.280062\n",
       "1  2acmU  1.334711 -0.340164  4.365080   73.037750\n",
       "2  409Wp  1.022732  0.151990  1.419926   85.265647\n",
       "3  iJLyR -0.032172  0.139033  2.978566  168.620776\n",
       "4  Xdl7t  1.988431  0.155413  4.751769  154.036647"
      ]
     },
     "metadata": {},
     "output_type": "display_data"
    }
   ],
   "source": [
    "display(data_2.head())"
   ]
  },
  {
   "cell_type": "markdown",
   "metadata": {},
   "source": [
    "**Описание данных**\n",
    "\n",
    "Признаки:\n",
    "- `id` - уникальный идентификатор скважины в БД\n",
    "- `f0`, `f1`, `f2` — признаки скважин\n",
    "\n",
    "Целевой признак:\n",
    "- `product` — объем запасов в скважине"
   ]
  },
  {
   "cell_type": "code",
   "execution_count": 6,
   "metadata": {},
   "outputs": [
    {
     "name": "stdout",
     "output_type": "stream",
     "text": [
      "<class 'pandas.core.frame.DataFrame'>\n",
      "RangeIndex: 100000 entries, 0 to 99999\n",
      "Data columns (total 5 columns):\n",
      " #   Column   Non-Null Count   Dtype  \n",
      "---  ------   --------------   -----  \n",
      " 0   id       100000 non-null  object \n",
      " 1   f0       100000 non-null  float64\n",
      " 2   f1       100000 non-null  float64\n",
      " 3   f2       100000 non-null  float64\n",
      " 4   product  100000 non-null  float64\n",
      "dtypes: float64(4), object(1)\n",
      "memory usage: 3.8+ MB\n"
     ]
    }
   ],
   "source": [
    "data_0.info()"
   ]
  },
  {
   "cell_type": "code",
   "execution_count": 7,
   "metadata": {},
   "outputs": [
    {
     "name": "stdout",
     "output_type": "stream",
     "text": [
      "<class 'pandas.core.frame.DataFrame'>\n",
      "RangeIndex: 100000 entries, 0 to 99999\n",
      "Data columns (total 5 columns):\n",
      " #   Column   Non-Null Count   Dtype  \n",
      "---  ------   --------------   -----  \n",
      " 0   id       100000 non-null  object \n",
      " 1   f0       100000 non-null  float64\n",
      " 2   f1       100000 non-null  float64\n",
      " 3   f2       100000 non-null  float64\n",
      " 4   product  100000 non-null  float64\n",
      "dtypes: float64(4), object(1)\n",
      "memory usage: 3.8+ MB\n"
     ]
    }
   ],
   "source": [
    "data_1.info()"
   ]
  },
  {
   "cell_type": "code",
   "execution_count": 8,
   "metadata": {
    "scrolled": true
   },
   "outputs": [
    {
     "name": "stdout",
     "output_type": "stream",
     "text": [
      "<class 'pandas.core.frame.DataFrame'>\n",
      "RangeIndex: 100000 entries, 0 to 99999\n",
      "Data columns (total 5 columns):\n",
      " #   Column   Non-Null Count   Dtype  \n",
      "---  ------   --------------   -----  \n",
      " 0   id       100000 non-null  object \n",
      " 1   f0       100000 non-null  float64\n",
      " 2   f1       100000 non-null  float64\n",
      " 3   f2       100000 non-null  float64\n",
      " 4   product  100000 non-null  float64\n",
      "dtypes: float64(4), object(1)\n",
      "memory usage: 3.8+ MB\n"
     ]
    }
   ],
   "source": [
    "data_2.info()"
   ]
  },
  {
   "cell_type": "code",
   "execution_count": 9,
   "metadata": {},
   "outputs": [
    {
     "data": {
      "text/plain": [
       "0"
      ]
     },
     "execution_count": 9,
     "metadata": {},
     "output_type": "execute_result"
    }
   ],
   "source": [
    "data_0.duplicated().sum()"
   ]
  },
  {
   "cell_type": "code",
   "execution_count": 10,
   "metadata": {},
   "outputs": [
    {
     "data": {
      "text/plain": [
       "0"
      ]
     },
     "execution_count": 10,
     "metadata": {},
     "output_type": "execute_result"
    }
   ],
   "source": [
    "data_1.duplicated().sum()"
   ]
  },
  {
   "cell_type": "code",
   "execution_count": 11,
   "metadata": {},
   "outputs": [
    {
     "data": {
      "text/plain": [
       "0"
      ]
     },
     "execution_count": 11,
     "metadata": {},
     "output_type": "execute_result"
    }
   ],
   "source": [
    "data_2.duplicated().sum()"
   ]
  },
  {
   "cell_type": "code",
   "execution_count": 12,
   "metadata": {},
   "outputs": [
    {
     "data": {
      "text/html": [
       "<div>\n",
       "<style scoped>\n",
       "    .dataframe tbody tr th:only-of-type {\n",
       "        vertical-align: middle;\n",
       "    }\n",
       "\n",
       "    .dataframe tbody tr th {\n",
       "        vertical-align: top;\n",
       "    }\n",
       "\n",
       "    .dataframe thead th {\n",
       "        text-align: right;\n",
       "    }\n",
       "</style>\n",
       "<table border=\"1\" class=\"dataframe\">\n",
       "  <thead>\n",
       "    <tr style=\"text-align: right;\">\n",
       "      <th></th>\n",
       "      <th>f0</th>\n",
       "      <th>f1</th>\n",
       "      <th>f2</th>\n",
       "      <th>product</th>\n",
       "    </tr>\n",
       "  </thead>\n",
       "  <tbody>\n",
       "    <tr>\n",
       "      <th>count</th>\n",
       "      <td>100000.000000</td>\n",
       "      <td>100000.000000</td>\n",
       "      <td>100000.000000</td>\n",
       "      <td>100000.000000</td>\n",
       "    </tr>\n",
       "    <tr>\n",
       "      <th>mean</th>\n",
       "      <td>0.500419</td>\n",
       "      <td>0.250143</td>\n",
       "      <td>2.502647</td>\n",
       "      <td>92.500000</td>\n",
       "    </tr>\n",
       "    <tr>\n",
       "      <th>std</th>\n",
       "      <td>0.871832</td>\n",
       "      <td>0.504433</td>\n",
       "      <td>3.248248</td>\n",
       "      <td>44.288691</td>\n",
       "    </tr>\n",
       "    <tr>\n",
       "      <th>min</th>\n",
       "      <td>-1.408605</td>\n",
       "      <td>-0.848218</td>\n",
       "      <td>-12.088328</td>\n",
       "      <td>0.000000</td>\n",
       "    </tr>\n",
       "    <tr>\n",
       "      <th>25%</th>\n",
       "      <td>-0.072580</td>\n",
       "      <td>-0.200881</td>\n",
       "      <td>0.287748</td>\n",
       "      <td>56.497507</td>\n",
       "    </tr>\n",
       "    <tr>\n",
       "      <th>50%</th>\n",
       "      <td>0.502360</td>\n",
       "      <td>0.250252</td>\n",
       "      <td>2.515969</td>\n",
       "      <td>91.849972</td>\n",
       "    </tr>\n",
       "    <tr>\n",
       "      <th>75%</th>\n",
       "      <td>1.073581</td>\n",
       "      <td>0.700646</td>\n",
       "      <td>4.715088</td>\n",
       "      <td>128.564089</td>\n",
       "    </tr>\n",
       "    <tr>\n",
       "      <th>max</th>\n",
       "      <td>2.362331</td>\n",
       "      <td>1.343769</td>\n",
       "      <td>16.003790</td>\n",
       "      <td>185.364347</td>\n",
       "    </tr>\n",
       "  </tbody>\n",
       "</table>\n",
       "</div>"
      ],
      "text/plain": [
       "                  f0             f1             f2        product\n",
       "count  100000.000000  100000.000000  100000.000000  100000.000000\n",
       "mean        0.500419       0.250143       2.502647      92.500000\n",
       "std         0.871832       0.504433       3.248248      44.288691\n",
       "min        -1.408605      -0.848218     -12.088328       0.000000\n",
       "25%        -0.072580      -0.200881       0.287748      56.497507\n",
       "50%         0.502360       0.250252       2.515969      91.849972\n",
       "75%         1.073581       0.700646       4.715088     128.564089\n",
       "max         2.362331       1.343769      16.003790     185.364347"
      ]
     },
     "execution_count": 12,
     "metadata": {},
     "output_type": "execute_result"
    },
    {
     "data": {
      "image/png": "[encoded data removed]",
      "text/plain": [
       "<Figure size 720x720 with 4 Axes>"
      ]
     },
     "metadata": {
      "needs_background": "light"
     },
     "output_type": "display_data"
    }
   ],
   "source": [
    "data_0.hist(bins=20, figsize=(10, 10))\n",
    "data_0.describe()"
   ]
  },
  {
   "cell_type": "code",
   "execution_count": 13,
   "metadata": {},
   "outputs": [
    {
     "data": {
      "text/html": [
       "<div>\n",
       "<style scoped>\n",
       "    .dataframe tbody tr th:only-of-type {\n",
       "        vertical-align: middle;\n",
       "    }\n",
       "\n",
       "    .dataframe tbody tr th {\n",
       "        vertical-align: top;\n",
       "    }\n",
       "\n",
       "    .dataframe thead th {\n",
       "        text-align: right;\n",
       "    }\n",
       "</style>\n",
       "<table border=\"1\" class=\"dataframe\">\n",
       "  <thead>\n",
       "    <tr style=\"text-align: right;\">\n",
       "      <th></th>\n",
       "      <th>f0</th>\n",
       "      <th>f1</th>\n",
       "      <th>f2</th>\n",
       "      <th>product</th>\n",
       "    </tr>\n",
       "  </thead>\n",
       "  <tbody>\n",
       "    <tr>\n",
       "      <th>f0</th>\n",
       "      <td>1.000000</td>\n",
       "      <td>-0.471395</td>\n",
       "      <td>-0.002685</td>\n",
       "      <td>0.128417</td>\n",
       "    </tr>\n",
       "    <tr>\n",
       "      <th>f1</th>\n",
       "      <td>-0.471395</td>\n",
       "      <td>1.000000</td>\n",
       "      <td>0.001413</td>\n",
       "      <td>-0.181143</td>\n",
       "    </tr>\n",
       "    <tr>\n",
       "      <th>f2</th>\n",
       "      <td>-0.002685</td>\n",
       "      <td>0.001413</td>\n",
       "      <td>1.000000</td>\n",
       "      <td>0.486394</td>\n",
       "    </tr>\n",
       "    <tr>\n",
       "      <th>product</th>\n",
       "      <td>0.128417</td>\n",
       "      <td>-0.181143</td>\n",
       "      <td>0.486394</td>\n",
       "      <td>1.000000</td>\n",
       "    </tr>\n",
       "  </tbody>\n",
       "</table>\n",
       "</div>"
      ],
      "text/plain": [
       "               f0        f1        f2   product\n",
       "f0       1.000000 -0.471395 -0.002685  0.128417\n",
       "f1      -0.471395  1.000000  0.001413 -0.181143\n",
       "f2      -0.002685  0.001413  1.000000  0.486394\n",
       "product  0.128417 -0.181143  0.486394  1.000000"
      ]
     },
     "execution_count": 13,
     "metadata": {},
     "output_type": "execute_result"
    }
   ],
   "source": [
    "data_0.corr(method='spearman')"
   ]
  },
  {
   "cell_type": "code",
   "execution_count": 14,
   "metadata": {},
   "outputs": [
    {
     "data": {
      "text/html": [
       "<div>\n",
       "<style scoped>\n",
       "    .dataframe tbody tr th:only-of-type {\n",
       "        vertical-align: middle;\n",
       "    }\n",
       "\n",
       "    .dataframe tbody tr th {\n",
       "        vertical-align: top;\n",
       "    }\n",
       "\n",
       "    .dataframe thead th {\n",
       "        text-align: right;\n",
       "    }\n",
       "</style>\n",
       "<table border=\"1\" class=\"dataframe\">\n",
       "  <thead>\n",
       "    <tr style=\"text-align: right;\">\n",
       "      <th></th>\n",
       "      <th>f0</th>\n",
       "      <th>f1</th>\n",
       "      <th>f2</th>\n",
       "      <th>product</th>\n",
       "    </tr>\n",
       "  </thead>\n",
       "  <tbody>\n",
       "    <tr>\n",
       "      <th>count</th>\n",
       "      <td>100000.000000</td>\n",
       "      <td>100000.000000</td>\n",
       "      <td>100000.000000</td>\n",
       "      <td>100000.000000</td>\n",
       "    </tr>\n",
       "    <tr>\n",
       "      <th>mean</th>\n",
       "      <td>1.141296</td>\n",
       "      <td>-4.796579</td>\n",
       "      <td>2.494541</td>\n",
       "      <td>68.825000</td>\n",
       "    </tr>\n",
       "    <tr>\n",
       "      <th>std</th>\n",
       "      <td>8.965932</td>\n",
       "      <td>5.119872</td>\n",
       "      <td>1.703572</td>\n",
       "      <td>45.944423</td>\n",
       "    </tr>\n",
       "    <tr>\n",
       "      <th>min</th>\n",
       "      <td>-31.609576</td>\n",
       "      <td>-26.358598</td>\n",
       "      <td>-0.018144</td>\n",
       "      <td>0.000000</td>\n",
       "    </tr>\n",
       "    <tr>\n",
       "      <th>25%</th>\n",
       "      <td>-6.298551</td>\n",
       "      <td>-8.267985</td>\n",
       "      <td>1.000021</td>\n",
       "      <td>26.953261</td>\n",
       "    </tr>\n",
       "    <tr>\n",
       "      <th>50%</th>\n",
       "      <td>1.153055</td>\n",
       "      <td>-4.813172</td>\n",
       "      <td>2.011479</td>\n",
       "      <td>57.085625</td>\n",
       "    </tr>\n",
       "    <tr>\n",
       "      <th>75%</th>\n",
       "      <td>8.621015</td>\n",
       "      <td>-1.332816</td>\n",
       "      <td>3.999904</td>\n",
       "      <td>107.813044</td>\n",
       "    </tr>\n",
       "    <tr>\n",
       "      <th>max</th>\n",
       "      <td>29.421755</td>\n",
       "      <td>18.734063</td>\n",
       "      <td>5.019721</td>\n",
       "      <td>137.945408</td>\n",
       "    </tr>\n",
       "  </tbody>\n",
       "</table>\n",
       "</div>"
      ],
      "text/plain": [
       "                  f0             f1             f2        product\n",
       "count  100000.000000  100000.000000  100000.000000  100000.000000\n",
       "mean        1.141296      -4.796579       2.494541      68.825000\n",
       "std         8.965932       5.119872       1.703572      45.944423\n",
       "min       -31.609576     -26.358598      -0.018144       0.000000\n",
       "25%        -6.298551      -8.267985       1.000021      26.953261\n",
       "50%         1.153055      -4.813172       2.011479      57.085625\n",
       "75%         8.621015      -1.332816       3.999904     107.813044\n",
       "max        29.421755      18.734063       5.019721     137.945408"
      ]
     },
     "execution_count": 14,
     "metadata": {},
     "output_type": "execute_result"
    },
    {
     "data": {
      "image/png": "[encoded data removed]",
      "text/plain": [
       "<Figure size 720x720 with 4 Axes>"
      ]
     },
     "metadata": {
      "needs_background": "light"
     },
     "output_type": "display_data"
    }
   ],
   "source": [
    "data_1.hist(bins=20, figsize=(10, 10))\n",
    "data_1.describe()"
   ]
  },
  {
   "cell_type": "code",
   "execution_count": 15,
   "metadata": {},
   "outputs": [
    {
     "data": {
      "text/html": [
       "<div>\n",
       "<style scoped>\n",
       "    .dataframe tbody tr th:only-of-type {\n",
       "        vertical-align: middle;\n",
       "    }\n",
       "\n",
       "    .dataframe tbody tr th {\n",
       "        vertical-align: top;\n",
       "    }\n",
       "\n",
       "    .dataframe thead th {\n",
       "        text-align: right;\n",
       "    }\n",
       "</style>\n",
       "<table border=\"1\" class=\"dataframe\">\n",
       "  <thead>\n",
       "    <tr style=\"text-align: right;\">\n",
       "      <th></th>\n",
       "      <th>f0</th>\n",
       "      <th>f1</th>\n",
       "      <th>f2</th>\n",
       "      <th>product</th>\n",
       "    </tr>\n",
       "  </thead>\n",
       "  <tbody>\n",
       "    <tr>\n",
       "      <th>f0</th>\n",
       "      <td>1.000000</td>\n",
       "      <td>0.182248</td>\n",
       "      <td>-0.002000</td>\n",
       "      <td>-0.122869</td>\n",
       "    </tr>\n",
       "    <tr>\n",
       "      <th>f1</th>\n",
       "      <td>0.182248</td>\n",
       "      <td>1.000000</td>\n",
       "      <td>-0.003678</td>\n",
       "      <td>-0.033908</td>\n",
       "    </tr>\n",
       "    <tr>\n",
       "      <th>f2</th>\n",
       "      <td>-0.002000</td>\n",
       "      <td>-0.003678</td>\n",
       "      <td>1.000000</td>\n",
       "      <td>0.975605</td>\n",
       "    </tr>\n",
       "    <tr>\n",
       "      <th>product</th>\n",
       "      <td>-0.122869</td>\n",
       "      <td>-0.033908</td>\n",
       "      <td>0.975605</td>\n",
       "      <td>1.000000</td>\n",
       "    </tr>\n",
       "  </tbody>\n",
       "</table>\n",
       "</div>"
      ],
      "text/plain": [
       "               f0        f1        f2   product\n",
       "f0       1.000000  0.182248 -0.002000 -0.122869\n",
       "f1       0.182248  1.000000 -0.003678 -0.033908\n",
       "f2      -0.002000 -0.003678  1.000000  0.975605\n",
       "product -0.122869 -0.033908  0.975605  1.000000"
      ]
     },
     "execution_count": 15,
     "metadata": {},
     "output_type": "execute_result"
    }
   ],
   "source": [
    "data_1.corr(method='spearman')"
   ]
  },
  {
   "cell_type": "code",
   "execution_count": 16,
   "metadata": {},
   "outputs": [
    {
     "data": {
      "text/html": [
       "<div>\n",
       "<style scoped>\n",
       "    .dataframe tbody tr th:only-of-type {\n",
       "        vertical-align: middle;\n",
       "    }\n",
       "\n",
       "    .dataframe tbody tr th {\n",
       "        vertical-align: top;\n",
       "    }\n",
       "\n",
       "    .dataframe thead th {\n",
       "        text-align: right;\n",
       "    }\n",
       "</style>\n",
       "<table border=\"1\" class=\"dataframe\">\n",
       "  <thead>\n",
       "    <tr style=\"text-align: right;\">\n",
       "      <th></th>\n",
       "      <th>f0</th>\n",
       "      <th>f1</th>\n",
       "      <th>f2</th>\n",
       "      <th>product</th>\n",
       "    </tr>\n",
       "  </thead>\n",
       "  <tbody>\n",
       "    <tr>\n",
       "      <th>count</th>\n",
       "      <td>100000.000000</td>\n",
       "      <td>100000.000000</td>\n",
       "      <td>100000.000000</td>\n",
       "      <td>100000.000000</td>\n",
       "    </tr>\n",
       "    <tr>\n",
       "      <th>mean</th>\n",
       "      <td>0.500419</td>\n",
       "      <td>0.250143</td>\n",
       "      <td>2.502647</td>\n",
       "      <td>92.500000</td>\n",
       "    </tr>\n",
       "    <tr>\n",
       "      <th>std</th>\n",
       "      <td>0.871832</td>\n",
       "      <td>0.504433</td>\n",
       "      <td>3.248248</td>\n",
       "      <td>44.288691</td>\n",
       "    </tr>\n",
       "    <tr>\n",
       "      <th>min</th>\n",
       "      <td>-1.408605</td>\n",
       "      <td>-0.848218</td>\n",
       "      <td>-12.088328</td>\n",
       "      <td>0.000000</td>\n",
       "    </tr>\n",
       "    <tr>\n",
       "      <th>25%</th>\n",
       "      <td>-0.072580</td>\n",
       "      <td>-0.200881</td>\n",
       "      <td>0.287748</td>\n",
       "      <td>56.497507</td>\n",
       "    </tr>\n",
       "    <tr>\n",
       "      <th>50%</th>\n",
       "      <td>0.502360</td>\n",
       "      <td>0.250252</td>\n",
       "      <td>2.515969</td>\n",
       "      <td>91.849972</td>\n",
       "    </tr>\n",
       "    <tr>\n",
       "      <th>75%</th>\n",
       "      <td>1.073581</td>\n",
       "      <td>0.700646</td>\n",
       "      <td>4.715088</td>\n",
       "      <td>128.564089</td>\n",
       "    </tr>\n",
       "    <tr>\n",
       "      <th>max</th>\n",
       "      <td>2.362331</td>\n",
       "      <td>1.343769</td>\n",
       "      <td>16.003790</td>\n",
       "      <td>185.364347</td>\n",
       "    </tr>\n",
       "  </tbody>\n",
       "</table>\n",
       "</div>"
      ],
      "text/plain": [
       "                  f0             f1             f2        product\n",
       "count  100000.000000  100000.000000  100000.000000  100000.000000\n",
       "mean        0.500419       0.250143       2.502647      92.500000\n",
       "std         0.871832       0.504433       3.248248      44.288691\n",
       "min        -1.408605      -0.848218     -12.088328       0.000000\n",
       "25%        -0.072580      -0.200881       0.287748      56.497507\n",
       "50%         0.502360       0.250252       2.515969      91.849972\n",
       "75%         1.073581       0.700646       4.715088     128.564089\n",
       "max         2.362331       1.343769      16.003790     185.364347"
      ]
     },
     "execution_count": 16,
     "metadata": {},
     "output_type": "execute_result"
    },
    {
     "data": {
      "image/png": "[encoded data removed]",
      "text/plain": [
       "<Figure size 720x720 with 4 Axes>"
      ]
     },
     "metadata": {
      "needs_background": "light"
     },
     "output_type": "display_data"
    }
   ],
   "source": [
    "data_2.hist(bins=20, figsize=(10, 10))\n",
    "data_2.describe()"
   ]
  },
  {
   "cell_type": "code",
   "execution_count": 17,
   "metadata": {
    "scrolled": true
   },
   "outputs": [
    {
     "data": {
      "text/html": [
       "<div>\n",
       "<style scoped>\n",
       "    .dataframe tbody tr th:only-of-type {\n",
       "        vertical-align: middle;\n",
       "    }\n",
       "\n",
       "    .dataframe tbody tr th {\n",
       "        vertical-align: top;\n",
       "    }\n",
       "\n",
       "    .dataframe thead th {\n",
       "        text-align: right;\n",
       "    }\n",
       "</style>\n",
       "<table border=\"1\" class=\"dataframe\">\n",
       "  <thead>\n",
       "    <tr style=\"text-align: right;\">\n",
       "      <th></th>\n",
       "      <th>f0</th>\n",
       "      <th>f1</th>\n",
       "      <th>f2</th>\n",
       "      <th>product</th>\n",
       "    </tr>\n",
       "  </thead>\n",
       "  <tbody>\n",
       "    <tr>\n",
       "      <th>f0</th>\n",
       "      <td>1.000000</td>\n",
       "      <td>-0.471395</td>\n",
       "      <td>-0.002685</td>\n",
       "      <td>0.128417</td>\n",
       "    </tr>\n",
       "    <tr>\n",
       "      <th>f1</th>\n",
       "      <td>-0.471395</td>\n",
       "      <td>1.000000</td>\n",
       "      <td>0.001413</td>\n",
       "      <td>-0.181143</td>\n",
       "    </tr>\n",
       "    <tr>\n",
       "      <th>f2</th>\n",
       "      <td>-0.002685</td>\n",
       "      <td>0.001413</td>\n",
       "      <td>1.000000</td>\n",
       "      <td>0.486394</td>\n",
       "    </tr>\n",
       "    <tr>\n",
       "      <th>product</th>\n",
       "      <td>0.128417</td>\n",
       "      <td>-0.181143</td>\n",
       "      <td>0.486394</td>\n",
       "      <td>1.000000</td>\n",
       "    </tr>\n",
       "  </tbody>\n",
       "</table>\n",
       "</div>"
      ],
      "text/plain": [
       "               f0        f1        f2   product\n",
       "f0       1.000000 -0.471395 -0.002685  0.128417\n",
       "f1      -0.471395  1.000000  0.001413 -0.181143\n",
       "f2      -0.002685  0.001413  1.000000  0.486394\n",
       "product  0.128417 -0.181143  0.486394  1.000000"
      ]
     },
     "execution_count": 17,
     "metadata": {},
     "output_type": "execute_result"
    }
   ],
   "source": [
    "data_2.corr(method='spearman')"
   ]
  },
  {
   "cell_type": "markdown",
   "metadata": {},
   "source": [
    "### Выводы"
   ]
  },
  {
   "cell_type": "markdown",
   "metadata": {},
   "source": [
    "- Столбец `id` нужен для работы с БД, но не является признаком скважины, поэтому он неинформативен - его следует убрать из данных;\n",
    "- пропусков в данных нет;\n",
    "- дубликтов в данных нет;\n",
    "- все информативные признаки и целевой признак - количественные;\n",
    "- согласно статистическому описанию признаков и их диаграммам можно сделать вывод, что в данных отсутствуют явные выбросы; \n",
    "- корреляции в признаках, а значит и мультиколлинеарности, нет;"
   ]
  },
  {
   "cell_type": "code",
   "execution_count": 18,
   "metadata": {
    "scrolled": false
   },
   "outputs": [],
   "source": [
    "data_0 = data_0.drop(['id'], axis=1)\n",
    "data_1 = data_1.drop(['id'], axis=1)\n",
    "data_2 = data_2.drop(['id'], axis=1)"
   ]
  },
  {
   "cell_type": "code",
   "execution_count": 19,
   "metadata": {
    "scrolled": true
   },
   "outputs": [
    {
     "data": {
      "text/html": [
       "<div>\n",
       "<style scoped>\n",
       "    .dataframe tbody tr th:only-of-type {\n",
       "        vertical-align: middle;\n",
       "    }\n",
       "\n",
       "    .dataframe tbody tr th {\n",
       "        vertical-align: top;\n",
       "    }\n",
       "\n",
       "    .dataframe thead th {\n",
       "        text-align: right;\n",
       "    }\n",
       "</style>\n",
       "<table border=\"1\" class=\"dataframe\">\n",
       "  <thead>\n",
       "    <tr style=\"text-align: right;\">\n",
       "      <th></th>\n",
       "      <th>f0</th>\n",
       "      <th>f1</th>\n",
       "      <th>f2</th>\n",
       "      <th>product</th>\n",
       "    </tr>\n",
       "  </thead>\n",
       "  <tbody>\n",
       "    <tr>\n",
       "      <th>0</th>\n",
       "      <td>0.705745</td>\n",
       "      <td>-0.497823</td>\n",
       "      <td>1.221170</td>\n",
       "      <td>105.280062</td>\n",
       "    </tr>\n",
       "    <tr>\n",
       "      <th>1</th>\n",
       "      <td>1.334711</td>\n",
       "      <td>-0.340164</td>\n",
       "      <td>4.365080</td>\n",
       "      <td>73.037750</td>\n",
       "    </tr>\n",
       "    <tr>\n",
       "      <th>2</th>\n",
       "      <td>1.022732</td>\n",
       "      <td>0.151990</td>\n",
       "      <td>1.419926</td>\n",
       "      <td>85.265647</td>\n",
       "    </tr>\n",
       "    <tr>\n",
       "      <th>3</th>\n",
       "      <td>-0.032172</td>\n",
       "      <td>0.139033</td>\n",
       "      <td>2.978566</td>\n",
       "      <td>168.620776</td>\n",
       "    </tr>\n",
       "    <tr>\n",
       "      <th>4</th>\n",
       "      <td>1.988431</td>\n",
       "      <td>0.155413</td>\n",
       "      <td>4.751769</td>\n",
       "      <td>154.036647</td>\n",
       "    </tr>\n",
       "  </tbody>\n",
       "</table>\n",
       "</div>"
      ],
      "text/plain": [
       "         f0        f1        f2     product\n",
       "0  0.705745 -0.497823  1.221170  105.280062\n",
       "1  1.334711 -0.340164  4.365080   73.037750\n",
       "2  1.022732  0.151990  1.419926   85.265647\n",
       "3 -0.032172  0.139033  2.978566  168.620776\n",
       "4  1.988431  0.155413  4.751769  154.036647"
      ]
     },
     "execution_count": 19,
     "metadata": {},
     "output_type": "execute_result"
    }
   ],
   "source": [
    "data_0.head()"
   ]
  },
  {
   "cell_type": "markdown",
   "metadata": {},
   "source": [
    "**Данные готовы к работе**"
   ]
  },
  {
   "cell_type": "markdown",
   "metadata": {},
   "source": [
    "## Обучение и проверка модели"
   ]
  },
  {
   "cell_type": "markdown",
   "metadata": {},
   "source": [
    "Разобьём данные на обучающие и валидационные выборки в соотношении 75%/25%."
   ]
  },
  {
   "cell_type": "code",
   "execution_count": 20,
   "metadata": {
    "scrolled": true
   },
   "outputs": [
    {
     "name": "stdout",
     "output_type": "stream",
     "text": [
      "Размер обучающих выборок - 75000\n",
      "Размер валидационных выборок - 25000\n"
     ]
    }
   ],
   "source": [
    "data = [data_0, data_1, data_2]\n",
    "features = []\n",
    "target = []\n",
    "features_train = []\n",
    "features_valid = []\n",
    "target_train = []\n",
    "target_valid = []\n",
    "\n",
    "for i in range(len(data)):\n",
    "    features.append(data[i].drop('product', axis=1))\n",
    "    target.append(data[i]['product'])    \n",
    "    features_train_, features_valid_, target_train_, target_valid_ = train_test_split(features[i], target[i], test_size=0.25, random_state=0)\n",
    "    features_train.append(features_train_)\n",
    "    features_valid.append(features_valid_)\n",
    "    target_train.append(target_train_)\n",
    "    target_valid.append(target_valid_)\n",
    "    \n",
    "    \n",
    "print(f'Размер обучающих выборок - {len(features_train[0])}')\n",
    "print(f'Размер валидационных выборок - {len(features_valid[0])}')\n"
   ]
  },
  {
   "cell_type": "markdown",
   "metadata": {},
   "source": [
    "Обучим модели."
   ]
  },
  {
   "cell_type": "code",
   "execution_count": 21,
   "metadata": {},
   "outputs": [],
   "source": [
    "models = []\n",
    "predictions = []\n",
    "for i in range(len(data)):\n",
    "    models.append(LinearRegression().fit(features_train[i], target_train[i]))\n",
    "    predictions.append(pd.Series(models[i].predict(features_valid[i])))  "
   ]
  },
  {
   "cell_type": "markdown",
   "metadata": {},
   "source": [
    "Представим визуально реальные данные и предсказания модели для валидационной выборки"
   ]
  },
  {
   "cell_type": "code",
   "execution_count": 22,
   "metadata": {
    "scrolled": false
   },
   "outputs": [
    {
     "data": {
      "image/png": "[encoded data removed]",
      "text/plain": [
       "<Figure size 1080x360 with 3 Axes>"
      ]
     },
     "metadata": {
      "needs_background": "light"
     },
     "output_type": "display_data"
    }
   ],
   "source": [
    "fig, axes = plt.subplots(1,3)\n",
    "fig.set_size_inches(15, 5)\n",
    "blue_patch = mpatches.Patch(color='blue', label='Реальные запасы')\n",
    "orange_patch = mpatches.Patch(color='orange', label='Предсказание модели')\n",
    "fig.legend(handles=[blue_patch, orange_patch], loc=1)\n",
    "\n",
    "for i in range(len(data)):\n",
    "    axes[i].hist(target_valid[i], color='blue', alpha=0.5)\n",
    "    axes[i].hist(predictions[i], color='orange', alpha=0.5)\n",
    "    axes[i].set_title(f'Регион {i}')\n",
    "    axes[i].set_xlabel('Объем запасов в скважине (тыс. барр.)')\n",
    "    axes[i].set_ylabel('Количество скважин')\n",
    "    \n",
    "plt.show()"
   ]
  },
  {
   "cell_type": "markdown",
   "metadata": {},
   "source": [
    "Проверим модели на валидационных выборках: выведем R2 и RMSE"
   ]
  },
  {
   "cell_type": "code",
   "execution_count": 23,
   "metadata": {},
   "outputs": [
    {
     "name": "stdout",
     "output_type": "stream",
     "text": [
      "Регион 0:\n",
      "R2 модели - 0.2809263356941697\n",
      "RMSE модели - 37.48100896950594\n",
      "cредний запас сырья - 92.466784925883\n",
      "cредний запас предсказанного сырья - 92.27144852242247\n",
      "\n",
      "Регион 1:\n",
      "R2 модели - 0.9996271830439484\n",
      "RMSE модели - 0.887257305221933\n",
      "cредний запас сырья - 69.1543605565097\n",
      "cредний запас предсказанного сырья - 69.15162398290732\n",
      "\n",
      "Регион 2:\n",
      "R2 модели - 0.2809263356941697\n",
      "RMSE модели - 37.48100896950594\n",
      "cредний запас сырья - 92.466784925883\n",
      "cредний запас предсказанного сырья - 92.27144852242247\n",
      "\n"
     ]
    }
   ],
   "source": [
    "for i in range(len(models)): \n",
    "    R2 = models[i].score(features_valid[i], target_valid[i])  \n",
    "    RMSE = mean_squared_error(target_valid[i], predictions[i], squared=False)\n",
    "    print(f'Регион {i}:')\n",
    "    print(f'R2 модели - {R2}')\n",
    "    print(f'RMSE модели - {RMSE}')\n",
    "    print(f'cредний запас сырья - {target_valid[i].mean()}')\n",
    "    print(f'cредний запас предсказанного сырья - {predictions[i].mean()}')\n",
    "    print()\n",
    "    "
   ]
  },
  {
   "cell_type": "markdown",
   "metadata": {},
   "source": [
    "### Выводы"
   ]
  },
  {
   "cell_type": "markdown",
   "metadata": {},
   "source": [
    " - модели дли каждого региона обучены; \n",
    " - метрика R2 для каждой из них больше единицы, следовательно, модели работают лучше случайного регрессора. Значиние R2 для первого региона близко к 1, значит, модель высокого качества; \n",
    " - среднеквадратичные ошибки моделей для регионов 0 и 2 достаточно велики и достигают 35-45% от среднего значения по региону. Среднеквадратичное отклонение в регионе 1 мало. "
   ]
  },
  {
   "cell_type": "markdown",
   "metadata": {},
   "source": [
    "## Подготовка к расчёту прибыли"
   ]
  },
  {
   "cell_type": "markdown",
   "metadata": {},
   "source": [
    "Рассчиатем достаточный для безубыточной разработки новой скважины средний объем сырья в тысячах баррелей."
   ]
  },
  {
   "cell_type": "code",
   "execution_count": 24,
   "metadata": {},
   "outputs": [
    {
     "data": {
      "text/plain": [
       "111.11111111111111"
      ]
     },
     "execution_count": 24,
     "metadata": {},
     "output_type": "execute_result"
    }
   ],
   "source": [
    "suffisient_volume = BUDGET/(AMOUNT_OF_THE_BEST_WELLS * THOUSAND_BARREL_PRICE)\n",
    "suffisient_volume"
   ]
  },
  {
   "cell_type": "markdown",
   "metadata": {},
   "source": [
    "Полученное значение превосходит средние значения запасов сырья скважин во всех рассматриваемых регионах."
   ]
  },
  {
   "cell_type": "markdown",
   "metadata": {},
   "source": [
    "### Выводы"
   ]
  },
  {
   "cell_type": "markdown",
   "metadata": {},
   "source": [
    "Было найдено среднее значение сырья которым должна обладать скважина для безубыточной разработки. Несмотря на то, что оно превосходит средние значения сырья в скважинах каждого региона, судя по гистограммам объемов запаса сырья, в каждом регионе найдётся более 200 скважин, с б**о**льшим запасом сырья, как в действительности, так и для предсказаний, с которыми будет проводиться дальнейшая работа."
   ]
  },
  {
   "cell_type": "markdown",
   "metadata": {},
   "source": [
    "## Расчёт прибыли и рисков "
   ]
  },
  {
   "cell_type": "markdown",
   "metadata": {},
   "source": [
    "### Рассчёт прибыли"
   ]
  },
  {
   "cell_type": "markdown",
   "metadata": {},
   "source": [
    "Напишем функцию для подсчёта прибыли по предсказаниям в регионе."
   ]
  },
  {
   "cell_type": "code",
   "execution_count": 25,
   "metadata": {},
   "outputs": [],
   "source": [
    "def calculate_income(target, prediction):\n",
    "    target_reindexed = target.reset_index(drop=True)\n",
    "    prediction_sorted = prediction.sort_values(ascending=False)\n",
    "    target_sorted = target_reindexed.loc[prediction_sorted.index][:AMOUNT_OF_THE_BEST_WELLS]    \n",
    "    income = target_sorted.sum() * THOUSAND_BARREL_PRICE - BUDGET\n",
    "    return income"
   ]
  },
  {
   "cell_type": "code",
   "execution_count": 26,
   "metadata": {
    "scrolled": true
   },
   "outputs": [
    {
     "name": "stdout",
     "output_type": "stream",
     "text": [
      "Максимальная прогнозируемя прибыль в регионе 0 составит 3363408079.6079483\n",
      "Максимальная прогнозируемя прибыль в регионе 1 составит 2415086696.681511\n",
      "Максимальная прогнозируемя прибыль в регионе 2 составит 3363408079.6079483\n"
     ]
    }
   ],
   "source": [
    "for i in range(len(data)):\n",
    "    print(f'Максимальная прогнозируемя прибыль в регионе {i} составит {calculate_income(target_valid[i], predictions[i])}')"
   ]
  },
  {
   "cell_type": "markdown",
   "metadata": {},
   "source": [
    "### Рассчёт рисков"
   ]
  },
  {
   "cell_type": "markdown",
   "metadata": {},
   "source": [
    "Напишем функцию, которая с помощью bootstrep рассчитает среднюю прибыль, 95%-й доверительный интервал и риск убытков. В ходе bootstrep будем формировать подвыборки целевого признака из 500 объектов, т.к. при разведке региона исследуют 500 точек."
   ]
  },
  {
   "cell_type": "code",
   "execution_count": 27,
   "metadata": {},
   "outputs": [],
   "source": [
    "def calculate_mean_95CI_risk(target, prediction):\n",
    "\n",
    "    state = np.random.RandomState(0)\n",
    "    target_reindexed = target.reset_index(drop=True)    \n",
    "    values = []\n",
    "    for i in range(1000):\n",
    "        prediction_subsample = prediction.sample(AMOUNT_OF_EXPLORED_WELLS, replace=True, random_state=state)\n",
    "        target_subsample = target_reindexed[prediction_subsample.index] \n",
    "        values.append(calculate_income(target_reindexed, prediction_subsample))        \n",
    "    \n",
    "    values = pd.Series(values)\n",
    "    mean = values.mean()\n",
    "    lower = values.quantile(0.025)\n",
    "    upper = values.quantile(0.975)\n",
    "    CI = [lower, upper]\n",
    "    \n",
    "    step = 0.0001\n",
    "    risk = 0    \n",
    "    for i in np.arange(0, 1, step):\n",
    "        if values.quantile(i) >= 0:\n",
    "            risk = (i - step)\n",
    "            break\n",
    "    \n",
    "    return mean, CI, risk"
   ]
  },
  {
   "cell_type": "markdown",
   "metadata": {},
   "source": [
    "Рассчитаем среднюю прибыль, 95%-й доверительный интервал и риск убытков для каждого региона."
   ]
  },
  {
   "cell_type": "code",
   "execution_count": 28,
   "metadata": {
    "scrolled": false
   },
   "outputs": [
    {
     "name": "stdout",
     "output_type": "stream",
     "text": [
      "Инофрмация о регионе 0:\n",
      "\t- средняя прибыль составит 442871777;\n",
      "\t- 95%-й доверительный интервал - [-49234992; 921134684];\n",
      "\t- риск убытков составляет 3.85%.\n",
      "\n",
      "Инофрмация о регионе 1:\n",
      "\t- средняя прибыль составит 472926700;\n",
      "\t- 95%-й доверительный интервал - [71697098; 832287543];\n",
      "\t- риск убытков составляет 0.89%.\n",
      "\n",
      "Инофрмация о регионе 2:\n",
      "\t- средняя прибыль составит 442871777;\n",
      "\t- 95%-й доверительный интервал - [-49234992; 921134684];\n",
      "\t- риск убытков составляет 3.85%.\n",
      "\n"
     ]
    }
   ],
   "source": [
    "for i in range(len(data)):\n",
    "    mean, CI, risk = calculate_mean_95CI_risk(target_valid[i], predictions[i])\n",
    "    print(f\"Инофрмация о регионе {i}:\")\n",
    "    print(f\"\\t- средняя прибыль составит {mean:.0f};\")\n",
    "    print(f\"\\t- 95%-й доверительный интервал - [{CI[0]:.0f}; {CI[1]:.0f}];\")\n",
    "    print(f\"\\t- риск убытков составляет {risk:.2%}.\")\n",
    "    print()"
   ]
  },
  {
   "cell_type": "markdown",
   "metadata": {},
   "source": [
    "Оформим результаты в сравнительную таблицу."
   ]
  },
  {
   "cell_type": "markdown",
   "metadata": {},
   "source": [
    "|Регион|средняя прибыль|95%-й доверительный интервал|риск убытков|\n",
    "|:-|:-|:-|:-|\n",
    "|0|442871777|[-49234992; 921134684]|3.85%|\n",
    "|1|472926700|[71697098; 832287543]|0.89%|\n",
    "|2|442871777|[-49234992; 921134684]|3.85%|"
   ]
  },
  {
   "cell_type": "markdown",
   "metadata": {},
   "source": [
    "Только в регионе 1 риск убытков меньше 2.5%, следовательно, для разработки стоит выбрать именно его. Также стоит отметить, что он в среднем является самым прибыльным. Следовательно, **самым перспективным регионом для разработки является регион 0**."
   ]
  },
  {
   "cell_type": "markdown",
   "metadata": {},
   "source": [
    "## Общий вывод"
   ]
  },
  {
   "cell_type": "markdown",
   "metadata": {},
   "source": [
    "В ходе работы \n",
    "\n",
    "1. была проведена подготовка данных:\n",
    "    - данные были загружены;\n",
    "    - дубликатов и пропусков не было обнаружено;\n",
    "    - данные были описаны статистически и исследованы на корреляцию;\n",
    "    - были удалены неинформативные признаки;\n",
    "    - данные были разделены на признаки и целевой признак, а также на обучающие и валидационные выборки;\n",
    "3. для каждого региона:\n",
    "\t- на соответствующей обучающей выборке была обучена своя модель;\n",
    "    - с помощью моделей были сделаны предсказания на валидационной выборки;\n",
    "    - были построены гистограммы запаса сырья для реальных и предсказанных данных;\n",
    "    - на основе предсказаний и реальных данных были были рассчтаны средний запас сырья в скважинах, метрики модели R2 и RMSE;\n",
    "4. была произведена подготовка к рассчётам прибыли и рисков:\n",
    "    - были созданы константы для всех ключевых значений;\n",
    "    - для каждого региона было посчитано минимальное среднее количество запаса сырья в скважине для безубыточной разработки;\n",
    "5. для каждого региона были посчитаны прибыль и риски:\n",
    "    - была написана функция для подсчёта прибыли двухсот скважин с самым большим запасов сырья;\n",
    "    - была рассчитана максимальная прибыль на основе предсказанных данных;\n",
    "    - была написана функция, которая с помощью техники bootstrap рассчитывает среднюю прибыль, 95%-й доверительный интервал и риск убытков;\n",
    "    - были рассчитаны средняя прибыль, 95%-й доверительный интервал и риск убытков, на основании данных была построена сравнительная таблица;\n",
    "6. был определён самый перспективный для разработки регион. Им стал регион 1."
   ]
  },
  {
   "cell_type": "code",
   "execution_count": null,
   "metadata": {},
   "outputs": [],
   "source": []
  }
 ],
 "metadata": {
  "ExecuteTimeLog": [
   {
    "duration": 455,
    "start_time": "2023-01-27T03:36:01.817Z"
   },
   {
    "duration": 1010,
    "start_time": "2023-01-27T03:37:37.582Z"
   },
   {
    "duration": 17,
    "start_time": "2023-01-27T03:39:00.431Z"
   },
   {
    "duration": 17,
    "start_time": "2023-01-27T03:39:18.918Z"
   },
   {
    "duration": 19,
    "start_time": "2023-01-27T03:39:21.552Z"
   },
   {
    "duration": 439,
    "start_time": "2023-01-27T03:39:38.618Z"
   },
   {
    "duration": 10,
    "start_time": "2023-01-27T03:41:08.907Z"
   },
   {
    "duration": 406,
    "start_time": "2023-01-27T03:41:11.045Z"
   },
   {
    "duration": 11,
    "start_time": "2023-01-27T03:41:13.422Z"
   },
   {
    "duration": 11,
    "start_time": "2023-01-27T03:41:15.494Z"
   },
   {
    "duration": 75,
    "start_time": "2023-01-27T03:47:45.113Z"
   },
   {
    "duration": 58,
    "start_time": "2023-01-27T03:47:49.719Z"
   },
   {
    "duration": 56,
    "start_time": "2023-01-27T03:47:51.826Z"
   },
   {
    "duration": 1288,
    "start_time": "2023-01-27T03:51:01.238Z"
   },
   {
    "duration": 816,
    "start_time": "2023-01-27T03:51:16.573Z"
   },
   {
    "duration": 774,
    "start_time": "2023-01-27T03:51:19.110Z"
   },
   {
    "duration": 680,
    "start_time": "2023-01-27T03:51:22.797Z"
   },
   {
    "duration": 479,
    "start_time": "2023-01-27T03:52:57.120Z"
   },
   {
    "duration": 691,
    "start_time": "2023-01-27T03:53:13.473Z"
   },
   {
    "duration": 563,
    "start_time": "2023-01-27T03:53:21.777Z"
   },
   {
    "duration": 748,
    "start_time": "2023-01-27T03:53:29.378Z"
   },
   {
    "duration": 736,
    "start_time": "2023-01-27T03:53:55.900Z"
   },
   {
    "duration": 3,
    "start_time": "2023-01-27T03:54:03.028Z"
   },
   {
    "duration": 613,
    "start_time": "2023-01-27T03:54:06.355Z"
   },
   {
    "duration": 77,
    "start_time": "2023-01-27T03:54:50.548Z"
   },
   {
    "duration": 64,
    "start_time": "2023-01-27T03:55:17.996Z"
   },
   {
    "duration": 70,
    "start_time": "2023-01-27T03:55:24.851Z"
   },
   {
    "duration": 20,
    "start_time": "2023-01-27T04:42:17.643Z"
   },
   {
    "duration": 20,
    "start_time": "2023-01-27T04:42:36.522Z"
   },
   {
    "duration": 3,
    "start_time": "2023-01-27T04:43:00.755Z"
   },
   {
    "duration": 493,
    "start_time": "2023-01-27T04:43:00.761Z"
   },
   {
    "duration": 15,
    "start_time": "2023-01-27T04:43:01.256Z"
   },
   {
    "duration": 42,
    "start_time": "2023-01-27T04:43:01.273Z"
   },
   {
    "duration": 56,
    "start_time": "2023-01-27T04:43:01.318Z"
   },
   {
    "duration": 50,
    "start_time": "2023-01-27T04:43:01.376Z"
   },
   {
    "duration": 41,
    "start_time": "2023-01-27T04:43:01.429Z"
   },
   {
    "duration": 43,
    "start_time": "2023-01-27T04:43:01.472Z"
   },
   {
    "duration": 76,
    "start_time": "2023-01-27T04:43:01.517Z"
   },
   {
    "duration": 64,
    "start_time": "2023-01-27T04:43:01.595Z"
   },
   {
    "duration": 92,
    "start_time": "2023-01-27T04:43:01.661Z"
   },
   {
    "duration": 676,
    "start_time": "2023-01-27T04:43:01.756Z"
   },
   {
    "duration": 87,
    "start_time": "2023-01-27T04:43:02.433Z"
   },
   {
    "duration": 652,
    "start_time": "2023-01-27T04:43:02.522Z"
   },
   {
    "duration": 74,
    "start_time": "2023-01-27T04:43:03.176Z"
   },
   {
    "duration": 839,
    "start_time": "2023-01-27T04:43:03.252Z"
   },
   {
    "duration": 73,
    "start_time": "2023-01-27T04:43:04.093Z"
   },
   {
    "duration": 35,
    "start_time": "2023-01-27T04:43:07.513Z"
   },
   {
    "duration": 13,
    "start_time": "2023-01-27T04:43:19.249Z"
   },
   {
    "duration": 833,
    "start_time": "2023-01-27T04:44:59.838Z"
   },
   {
    "duration": 3,
    "start_time": "2023-01-27T04:47:43.091Z"
   },
   {
    "duration": 455,
    "start_time": "2023-01-27T04:47:43.096Z"
   },
   {
    "duration": 13,
    "start_time": "2023-01-27T04:47:43.553Z"
   },
   {
    "duration": 74,
    "start_time": "2023-01-27T04:47:43.568Z"
   },
   {
    "duration": 42,
    "start_time": "2023-01-27T04:47:43.645Z"
   },
   {
    "duration": 53,
    "start_time": "2023-01-27T04:47:43.689Z"
   },
   {
    "duration": 22,
    "start_time": "2023-01-27T04:47:43.744Z"
   },
   {
    "duration": 43,
    "start_time": "2023-01-27T04:47:43.769Z"
   },
   {
    "duration": 76,
    "start_time": "2023-01-27T04:47:43.814Z"
   },
   {
    "duration": 55,
    "start_time": "2023-01-27T04:47:43.892Z"
   },
   {
    "duration": 68,
    "start_time": "2023-01-27T04:47:43.953Z"
   },
   {
    "duration": 676,
    "start_time": "2023-01-27T04:47:44.024Z"
   },
   {
    "duration": 86,
    "start_time": "2023-01-27T04:47:44.702Z"
   },
   {
    "duration": 637,
    "start_time": "2023-01-27T04:47:44.792Z"
   },
   {
    "duration": 85,
    "start_time": "2023-01-27T04:47:45.431Z"
   },
   {
    "duration": 738,
    "start_time": "2023-01-27T04:47:45.518Z"
   },
   {
    "duration": 99,
    "start_time": "2023-01-27T04:47:46.258Z"
   },
   {
    "duration": 14,
    "start_time": "2023-01-27T04:47:46.359Z"
   },
   {
    "duration": 10,
    "start_time": "2023-01-27T04:47:46.383Z"
   },
   {
    "duration": 81,
    "start_time": "2023-01-27T04:56:09.451Z"
   },
   {
    "duration": 4,
    "start_time": "2023-01-27T04:56:53.982Z"
   },
   {
    "duration": 50,
    "start_time": "2023-01-27T04:56:59.660Z"
   },
   {
    "duration": 28,
    "start_time": "2023-01-27T04:59:06.495Z"
   },
   {
    "duration": 26,
    "start_time": "2023-01-27T05:00:48.109Z"
   },
   {
    "duration": 75,
    "start_time": "2023-01-27T05:08:12.953Z"
   },
   {
    "duration": 14,
    "start_time": "2023-01-27T05:08:21.011Z"
   },
   {
    "duration": 32,
    "start_time": "2023-01-27T05:08:27.781Z"
   },
   {
    "duration": 34,
    "start_time": "2023-01-27T05:08:38.532Z"
   },
   {
    "duration": 60,
    "start_time": "2023-01-27T05:08:50.738Z"
   },
   {
    "duration": 47,
    "start_time": "2023-01-27T05:09:18.726Z"
   },
   {
    "duration": 30,
    "start_time": "2023-01-27T05:09:39.457Z"
   },
   {
    "duration": 76,
    "start_time": "2023-01-27T05:11:04.219Z"
   },
   {
    "duration": 37,
    "start_time": "2023-01-27T05:11:08.121Z"
   },
   {
    "duration": 10,
    "start_time": "2023-01-27T05:13:52.905Z"
   },
   {
    "duration": 4,
    "start_time": "2023-01-27T05:14:02.275Z"
   },
   {
    "duration": 12,
    "start_time": "2023-01-27T05:18:58.014Z"
   },
   {
    "duration": 15,
    "start_time": "2023-01-27T05:19:08.514Z"
   },
   {
    "duration": 108,
    "start_time": "2023-01-27T05:19:50.480Z"
   },
   {
    "duration": 55,
    "start_time": "2023-01-27T05:21:53.030Z"
   },
   {
    "duration": 49,
    "start_time": "2023-01-27T05:21:59.877Z"
   },
   {
    "duration": 30,
    "start_time": "2023-01-27T05:22:08.654Z"
   },
   {
    "duration": 253,
    "start_time": "2023-01-27T05:22:56.434Z"
   },
   {
    "duration": 300,
    "start_time": "2023-01-27T05:23:38.806Z"
   },
   {
    "duration": 157,
    "start_time": "2023-01-27T05:32:25.900Z"
   },
   {
    "duration": 12,
    "start_time": "2023-01-27T05:32:38.603Z"
   },
   {
    "duration": 10,
    "start_time": "2023-01-27T05:32:47.078Z"
   },
   {
    "duration": 292,
    "start_time": "2023-01-27T05:33:33.074Z"
   },
   {
    "duration": 222,
    "start_time": "2023-01-27T05:34:01.550Z"
   },
   {
    "duration": 178,
    "start_time": "2023-01-27T05:34:05.549Z"
   },
   {
    "duration": 322,
    "start_time": "2023-01-27T05:36:18.069Z"
   },
   {
    "duration": 11,
    "start_time": "2023-01-27T05:39:55.966Z"
   },
   {
    "duration": 3,
    "start_time": "2023-01-27T05:40:00.738Z"
   },
   {
    "duration": 173,
    "start_time": "2023-01-27T05:40:07.140Z"
   },
   {
    "duration": 174,
    "start_time": "2023-01-27T05:40:13.310Z"
   },
   {
    "duration": 244,
    "start_time": "2023-01-27T05:43:23.819Z"
   },
   {
    "duration": 543,
    "start_time": "2023-01-27T05:44:14.664Z"
   },
   {
    "duration": 920,
    "start_time": "2023-01-27T05:44:30.575Z"
   },
   {
    "duration": 612,
    "start_time": "2023-01-27T05:45:16.329Z"
   },
   {
    "duration": 637,
    "start_time": "2023-01-27T05:45:50.956Z"
   },
   {
    "duration": 596,
    "start_time": "2023-01-27T05:45:59.638Z"
   },
   {
    "duration": 552,
    "start_time": "2023-01-27T05:46:05.933Z"
   },
   {
    "duration": 704,
    "start_time": "2023-01-27T05:46:24.798Z"
   },
   {
    "duration": 537,
    "start_time": "2023-01-27T05:46:31.197Z"
   },
   {
    "duration": 447,
    "start_time": "2023-01-27T06:01:51.349Z"
   },
   {
    "duration": 496,
    "start_time": "2023-01-27T06:02:02.563Z"
   },
   {
    "duration": 562,
    "start_time": "2023-01-27T06:02:09.945Z"
   },
   {
    "duration": 518,
    "start_time": "2023-01-27T06:14:05.400Z"
   },
   {
    "duration": 433,
    "start_time": "2023-01-27T06:14:10.821Z"
   },
   {
    "duration": 260,
    "start_time": "2023-01-27T06:35:32.617Z"
   },
   {
    "duration": 331,
    "start_time": "2023-01-27T06:35:48.606Z"
   },
   {
    "duration": 356,
    "start_time": "2023-01-27T06:36:17.673Z"
   },
   {
    "duration": 326,
    "start_time": "2023-01-27T06:36:34.307Z"
   },
   {
    "duration": 415,
    "start_time": "2023-01-27T06:37:01.202Z"
   },
   {
    "duration": 528,
    "start_time": "2023-01-27T06:37:35.246Z"
   },
   {
    "duration": 460,
    "start_time": "2023-01-27T06:37:41.053Z"
   },
   {
    "duration": 808,
    "start_time": "2023-01-27T06:37:46.642Z"
   },
   {
    "duration": 460,
    "start_time": "2023-01-27T06:37:52.227Z"
   },
   {
    "duration": 253,
    "start_time": "2023-01-27T06:43:21.011Z"
   },
   {
    "duration": 240,
    "start_time": "2023-01-27T06:43:28.533Z"
   },
   {
    "duration": 459,
    "start_time": "2023-01-27T06:43:37.850Z"
   },
   {
    "duration": 582,
    "start_time": "2023-01-27T06:43:45.002Z"
   },
   {
    "duration": 527,
    "start_time": "2023-01-27T06:43:53.676Z"
   },
   {
    "duration": 606,
    "start_time": "2023-01-27T06:44:47.849Z"
   },
   {
    "duration": 522,
    "start_time": "2023-01-27T06:46:53.130Z"
   },
   {
    "duration": 506,
    "start_time": "2023-01-27T06:48:00.349Z"
   },
   {
    "duration": 470,
    "start_time": "2023-01-27T06:50:04.424Z"
   },
   {
    "duration": 540,
    "start_time": "2023-01-27T06:51:00.474Z"
   },
   {
    "duration": 4,
    "start_time": "2023-01-27T06:51:40.271Z"
   },
   {
    "duration": 289,
    "start_time": "2023-01-27T06:53:17.325Z"
   },
   {
    "duration": 317,
    "start_time": "2023-01-27T06:53:31.951Z"
   },
   {
    "duration": 299,
    "start_time": "2023-01-27T06:53:35.637Z"
   },
   {
    "duration": 521,
    "start_time": "2023-01-27T06:55:05.239Z"
   },
   {
    "duration": 346,
    "start_time": "2023-01-27T06:55:52.199Z"
   },
   {
    "duration": 311,
    "start_time": "2023-01-27T06:56:22.709Z"
   },
   {
    "duration": 336,
    "start_time": "2023-01-27T06:56:33.236Z"
   },
   {
    "duration": 298,
    "start_time": "2023-01-27T06:57:28.633Z"
   },
   {
    "duration": 314,
    "start_time": "2023-01-27T06:57:41.738Z"
   },
   {
    "duration": 478,
    "start_time": "2023-01-27T06:57:48.946Z"
   },
   {
    "duration": 467,
    "start_time": "2023-01-27T07:00:31.677Z"
   },
   {
    "duration": 468,
    "start_time": "2023-01-27T07:00:36.731Z"
   },
   {
    "duration": 490,
    "start_time": "2023-01-27T07:00:45.939Z"
   },
   {
    "duration": 295,
    "start_time": "2023-01-27T07:01:01.706Z"
   },
   {
    "duration": 496,
    "start_time": "2023-01-27T07:01:08.775Z"
   },
   {
    "duration": 460,
    "start_time": "2023-01-27T07:01:22.141Z"
   },
   {
    "duration": 3,
    "start_time": "2023-01-27T11:32:43.879Z"
   },
   {
    "duration": 5,
    "start_time": "2023-01-27T11:32:59.840Z"
   },
   {
    "duration": 4,
    "start_time": "2023-01-27T11:45:31.147Z"
   },
   {
    "duration": 11,
    "start_time": "2023-01-27T11:54:31.075Z"
   },
   {
    "duration": 137,
    "start_time": "2023-01-27T11:54:47.950Z"
   },
   {
    "duration": 176,
    "start_time": "2023-01-27T11:55:10.528Z"
   },
   {
    "duration": 10,
    "start_time": "2023-01-27T11:55:17.159Z"
   },
   {
    "duration": 9,
    "start_time": "2023-01-27T11:55:31.963Z"
   },
   {
    "duration": 51,
    "start_time": "2023-01-27T11:58:38.933Z"
   },
   {
    "duration": 113,
    "start_time": "2023-01-27T11:59:30.181Z"
   },
   {
    "duration": 94,
    "start_time": "2023-01-27T11:59:39.504Z"
   },
   {
    "duration": 6,
    "start_time": "2023-01-27T11:59:46.694Z"
   },
   {
    "duration": 98,
    "start_time": "2023-01-27T12:00:42.203Z"
   },
   {
    "duration": 8,
    "start_time": "2023-01-27T12:00:47.078Z"
   },
   {
    "duration": 14,
    "start_time": "2023-01-27T12:00:57.063Z"
   },
   {
    "duration": 13,
    "start_time": "2023-01-27T12:01:13.260Z"
   },
   {
    "duration": 3,
    "start_time": "2023-01-27T12:04:18.808Z"
   },
   {
    "duration": 45,
    "start_time": "2023-01-27T12:04:35.368Z"
   },
   {
    "duration": 58,
    "start_time": "2023-01-27T12:04:47.239Z"
   },
   {
    "duration": 10,
    "start_time": "2023-01-27T12:05:16.512Z"
   },
   {
    "duration": 19,
    "start_time": "2023-01-27T12:07:53.625Z"
   },
   {
    "duration": 5,
    "start_time": "2023-01-27T12:11:02.858Z"
   },
   {
    "duration": 5,
    "start_time": "2023-01-27T12:50:46.137Z"
   },
   {
    "duration": 412,
    "start_time": "2023-01-27T12:52:05.922Z"
   },
   {
    "duration": 423,
    "start_time": "2023-01-27T12:52:33.489Z"
   },
   {
    "duration": 402,
    "start_time": "2023-01-27T12:52:37.544Z"
   },
   {
    "duration": 417,
    "start_time": "2023-01-27T12:53:35.680Z"
   },
   {
    "duration": 400,
    "start_time": "2023-01-27T12:53:44.507Z"
   },
   {
    "duration": 419,
    "start_time": "2023-01-27T12:53:54.336Z"
   },
   {
    "duration": 405,
    "start_time": "2023-01-27T12:55:15.862Z"
   },
   {
    "duration": 400,
    "start_time": "2023-01-27T12:55:21.560Z"
   },
   {
    "duration": 429,
    "start_time": "2023-01-27T12:55:24.297Z"
   },
   {
    "duration": 422,
    "start_time": "2023-01-27T12:59:51.540Z"
   },
   {
    "duration": 414,
    "start_time": "2023-01-27T12:59:55.749Z"
   },
   {
    "duration": 427,
    "start_time": "2023-01-27T13:00:01.167Z"
   },
   {
    "duration": 388,
    "start_time": "2023-01-27T13:00:10.851Z"
   },
   {
    "duration": 75,
    "start_time": "2023-01-27T13:01:18.561Z"
   },
   {
    "duration": 13,
    "start_time": "2023-01-27T13:01:24.624Z"
   },
   {
    "duration": 2980,
    "start_time": "2023-01-27T13:01:33.071Z"
   },
   {
    "duration": 3192,
    "start_time": "2023-01-27T13:01:54.146Z"
   },
   {
    "duration": 3173,
    "start_time": "2023-01-27T13:02:00.982Z"
   },
   {
    "duration": 416,
    "start_time": "2023-01-27T13:05:44.459Z"
   },
   {
    "duration": 3,
    "start_time": "2023-01-27T13:07:44.771Z"
   },
   {
    "duration": 14,
    "start_time": "2023-01-27T13:07:46.331Z"
   },
   {
    "duration": 410,
    "start_time": "2023-01-27T13:09:11.646Z"
   },
   {
    "duration": 421,
    "start_time": "2023-01-27T13:09:23.383Z"
   },
   {
    "duration": 462,
    "start_time": "2023-01-27T13:09:28.578Z"
   },
   {
    "duration": 400,
    "start_time": "2023-01-27T13:09:33.919Z"
   },
   {
    "duration": 3254,
    "start_time": "2023-01-27T13:10:32.972Z"
   },
   {
    "duration": 3599,
    "start_time": "2023-01-27T13:10:48.597Z"
   },
   {
    "duration": 3433,
    "start_time": "2023-01-27T13:11:02.912Z"
   },
   {
    "duration": 3318,
    "start_time": "2023-01-27T13:11:11.073Z"
   },
   {
    "duration": 84,
    "start_time": "2023-01-27T13:12:45.392Z"
   },
   {
    "duration": 3298,
    "start_time": "2023-01-27T13:12:50.905Z"
   },
   {
    "duration": 3244,
    "start_time": "2023-01-27T13:13:03.298Z"
   },
   {
    "duration": 3282,
    "start_time": "2023-01-27T13:13:17.436Z"
   },
   {
    "duration": 409,
    "start_time": "2023-01-27T13:13:29.096Z"
   },
   {
    "duration": 466,
    "start_time": "2023-01-27T13:14:08.924Z"
   },
   {
    "duration": 3,
    "start_time": "2023-01-27T13:15:33.689Z"
   },
   {
    "duration": 3,
    "start_time": "2023-01-27T13:16:06.599Z"
   },
   {
    "duration": 4,
    "start_time": "2023-01-27T13:16:08.905Z"
   },
   {
    "duration": 3,
    "start_time": "2023-01-27T13:16:11.259Z"
   },
   {
    "duration": 15,
    "start_time": "2023-01-27T13:16:12.698Z"
   },
   {
    "duration": 453,
    "start_time": "2023-01-27T13:16:27.294Z"
   },
   {
    "duration": 448,
    "start_time": "2023-01-27T13:16:38.546Z"
   },
   {
    "duration": 443,
    "start_time": "2023-01-27T13:16:49.164Z"
   },
   {
    "duration": 459,
    "start_time": "2023-01-27T13:17:53.326Z"
   },
   {
    "duration": 484,
    "start_time": "2023-01-27T13:18:01.160Z"
   },
   {
    "duration": 500,
    "start_time": "2023-01-27T13:18:06.773Z"
   },
   {
    "duration": 467,
    "start_time": "2023-01-27T13:19:11.286Z"
   },
   {
    "duration": 533,
    "start_time": "2023-01-27T13:19:19.295Z"
   },
   {
    "duration": 440,
    "start_time": "2023-01-27T13:19:24.636Z"
   },
   {
    "duration": 461,
    "start_time": "2023-01-27T13:19:28.983Z"
   },
   {
    "duration": 607,
    "start_time": "2023-01-27T13:22:29.517Z"
   },
   {
    "duration": 470,
    "start_time": "2023-01-27T13:22:46.655Z"
   },
   {
    "duration": 493,
    "start_time": "2023-01-27T13:25:01.422Z"
   },
   {
    "duration": 483,
    "start_time": "2023-01-27T13:25:11.219Z"
   },
   {
    "duration": 496,
    "start_time": "2023-01-27T13:25:18.934Z"
   },
   {
    "duration": 467,
    "start_time": "2023-01-27T13:25:28.707Z"
   },
   {
    "duration": 474,
    "start_time": "2023-01-27T13:25:40.825Z"
   },
   {
    "duration": 75,
    "start_time": "2023-01-27T13:28:19.000Z"
   },
   {
    "duration": 517,
    "start_time": "2023-01-27T13:28:29.148Z"
   },
   {
    "duration": 488,
    "start_time": "2023-01-27T13:28:52.745Z"
   },
   {
    "duration": 485,
    "start_time": "2023-01-27T13:28:58.341Z"
   },
   {
    "duration": 488,
    "start_time": "2023-01-27T13:29:02.219Z"
   },
   {
    "duration": 486,
    "start_time": "2023-01-27T13:29:07.190Z"
   },
   {
    "duration": 505,
    "start_time": "2023-01-27T13:29:12.400Z"
   },
   {
    "duration": 477,
    "start_time": "2023-01-27T13:29:17.708Z"
   },
   {
    "duration": 491,
    "start_time": "2023-01-27T13:29:22.242Z"
   },
   {
    "duration": 476,
    "start_time": "2023-01-27T13:29:26.749Z"
   },
   {
    "duration": 484,
    "start_time": "2023-01-27T13:29:30.757Z"
   },
   {
    "duration": 472,
    "start_time": "2023-01-27T13:29:34.969Z"
   },
   {
    "duration": 1343,
    "start_time": "2023-01-27T13:32:26.301Z"
   },
   {
    "duration": 483,
    "start_time": "2023-01-27T13:32:46.143Z"
   },
   {
    "duration": 455,
    "start_time": "2023-01-27T13:33:44.045Z"
   },
   {
    "duration": 473,
    "start_time": "2023-01-27T13:33:56.571Z"
   },
   {
    "duration": 501,
    "start_time": "2023-01-27T13:34:01.957Z"
   },
   {
    "duration": 477,
    "start_time": "2023-01-27T13:34:08.199Z"
   },
   {
    "duration": 983,
    "start_time": "2023-01-27T13:36:30.519Z"
   },
   {
    "duration": 954,
    "start_time": "2023-01-27T13:36:51.275Z"
   },
   {
    "duration": 1015,
    "start_time": "2023-01-27T13:37:04.459Z"
   },
   {
    "duration": 954,
    "start_time": "2023-01-27T13:37:07.901Z"
   },
   {
    "duration": 75,
    "start_time": "2023-01-27T13:37:35.003Z"
   },
   {
    "duration": 965,
    "start_time": "2023-01-27T13:37:40.685Z"
   },
   {
    "duration": 970,
    "start_time": "2023-01-27T13:37:51.148Z"
   },
   {
    "duration": 983,
    "start_time": "2023-01-27T13:38:02.394Z"
   },
   {
    "duration": 939,
    "start_time": "2023-01-27T13:40:24.565Z"
   },
   {
    "duration": 938,
    "start_time": "2023-01-27T13:40:32.364Z"
   },
   {
    "duration": 975,
    "start_time": "2023-01-27T13:40:44.847Z"
   },
   {
    "duration": 1069,
    "start_time": "2023-01-27T13:41:01.841Z"
   },
   {
    "duration": 949,
    "start_time": "2023-01-27T13:41:38.023Z"
   },
   {
    "duration": 991,
    "start_time": "2023-01-27T13:41:53.060Z"
   },
   {
    "duration": 953,
    "start_time": "2023-01-27T13:41:56.808Z"
   },
   {
    "duration": 1003,
    "start_time": "2023-01-27T13:42:00.099Z"
   },
   {
    "duration": 934,
    "start_time": "2023-01-27T13:42:07.870Z"
   },
   {
    "duration": 966,
    "start_time": "2023-01-27T13:42:19.863Z"
   },
   {
    "duration": 952,
    "start_time": "2023-01-27T13:42:33.528Z"
   },
   {
    "duration": 966,
    "start_time": "2023-01-27T13:43:56.971Z"
   },
   {
    "duration": 965,
    "start_time": "2023-01-27T13:44:57.766Z"
   },
   {
    "duration": 1016,
    "start_time": "2023-01-27T13:45:21.046Z"
   },
   {
    "duration": 1076,
    "start_time": "2023-01-27T13:45:39.303Z"
   },
   {
    "duration": 945,
    "start_time": "2023-01-27T13:46:53.997Z"
   },
   {
    "duration": 932,
    "start_time": "2023-01-27T13:47:08.226Z"
   },
   {
    "duration": 996,
    "start_time": "2023-01-27T13:47:49.944Z"
   },
   {
    "duration": 1012,
    "start_time": "2023-01-27T13:48:26.303Z"
   },
   {
    "duration": 1091,
    "start_time": "2023-01-27T13:48:31.797Z"
   },
   {
    "duration": 1016,
    "start_time": "2023-01-27T13:48:51.558Z"
   },
   {
    "duration": 987,
    "start_time": "2023-01-27T13:49:33.544Z"
   },
   {
    "duration": 997,
    "start_time": "2023-01-27T13:49:38.748Z"
   },
   {
    "duration": 1003,
    "start_time": "2023-01-27T13:49:50.450Z"
   },
   {
    "duration": 1029,
    "start_time": "2023-01-27T13:50:07.861Z"
   },
   {
    "duration": 130,
    "start_time": "2023-01-27T13:55:03.015Z"
   },
   {
    "duration": 92,
    "start_time": "2023-01-27T13:55:11.297Z"
   },
   {
    "duration": 6,
    "start_time": "2023-01-27T13:55:43.500Z"
   },
   {
    "duration": 2941,
    "start_time": "2023-01-27T14:01:20.285Z"
   },
   {
    "duration": 2952,
    "start_time": "2023-01-27T14:03:10.845Z"
   },
   {
    "duration": 3158,
    "start_time": "2023-01-27T14:03:49.455Z"
   },
   {
    "duration": 2914,
    "start_time": "2023-01-27T14:04:26.262Z"
   },
   {
    "duration": 2840,
    "start_time": "2023-01-27T14:04:45.192Z"
   },
   {
    "duration": 2790,
    "start_time": "2023-01-27T14:04:55.023Z"
   },
   {
    "duration": 4,
    "start_time": "2023-01-27T14:38:04.206Z"
   },
   {
    "duration": 483,
    "start_time": "2023-01-27T14:38:04.212Z"
   },
   {
    "duration": 20,
    "start_time": "2023-01-27T14:38:04.702Z"
   },
   {
    "duration": 38,
    "start_time": "2023-01-27T14:38:04.725Z"
   },
   {
    "duration": 47,
    "start_time": "2023-01-27T14:38:04.766Z"
   },
   {
    "duration": 44,
    "start_time": "2023-01-27T14:38:04.815Z"
   },
   {
    "duration": 34,
    "start_time": "2023-01-27T14:38:04.861Z"
   },
   {
    "duration": 25,
    "start_time": "2023-01-27T14:38:04.898Z"
   },
   {
    "duration": 96,
    "start_time": "2023-01-27T14:38:04.926Z"
   },
   {
    "duration": 64,
    "start_time": "2023-01-27T14:38:05.025Z"
   },
   {
    "duration": 57,
    "start_time": "2023-01-27T14:38:05.095Z"
   },
   {
    "duration": 1194,
    "start_time": "2023-01-27T14:38:05.154Z"
   },
   {
    "duration": 83,
    "start_time": "2023-01-27T14:38:06.349Z"
   },
   {
    "duration": 689,
    "start_time": "2023-01-27T14:38:06.435Z"
   },
   {
    "duration": 76,
    "start_time": "2023-01-27T14:38:07.126Z"
   },
   {
    "duration": 731,
    "start_time": "2023-01-27T14:38:07.204Z"
   },
   {
    "duration": 165,
    "start_time": "2023-01-27T14:38:07.937Z"
   },
   {
    "duration": 14,
    "start_time": "2023-01-27T14:38:08.104Z"
   },
   {
    "duration": 69,
    "start_time": "2023-01-27T14:38:08.120Z"
   },
   {
    "duration": 93,
    "start_time": "2023-01-27T14:38:08.191Z"
   },
   {
    "duration": 29,
    "start_time": "2023-01-27T14:38:08.286Z"
   },
   {
    "duration": 995,
    "start_time": "2023-01-27T14:38:08.317Z"
   },
   {
    "duration": 179,
    "start_time": "2023-01-27T14:38:09.314Z"
   },
   {
    "duration": 100,
    "start_time": "2023-01-27T14:38:09.496Z"
   },
   {
    "duration": 89,
    "start_time": "2023-01-27T14:38:09.599Z"
   },
   {
    "duration": 66,
    "start_time": "2023-01-27T14:38:09.691Z"
   },
   {
    "duration": 65,
    "start_time": "2023-01-27T14:38:09.759Z"
   },
   {
    "duration": 25,
    "start_time": "2023-01-27T14:38:09.827Z"
   },
   {
    "duration": 3517,
    "start_time": "2023-01-27T14:38:09.887Z"
   },
   {
    "duration": 2079,
    "start_time": "2023-01-28T06:24:12.158Z"
   },
   {
    "duration": 956,
    "start_time": "2023-01-28T06:24:14.239Z"
   },
   {
    "duration": 14,
    "start_time": "2023-01-28T06:24:15.196Z"
   },
   {
    "duration": 13,
    "start_time": "2023-01-28T06:24:15.213Z"
   },
   {
    "duration": 31,
    "start_time": "2023-01-28T06:24:15.228Z"
   },
   {
    "duration": 37,
    "start_time": "2023-01-28T06:24:15.261Z"
   },
   {
    "duration": 37,
    "start_time": "2023-01-28T06:24:15.300Z"
   },
   {
    "duration": 19,
    "start_time": "2023-01-28T06:24:15.339Z"
   },
   {
    "duration": 74,
    "start_time": "2023-01-28T06:24:15.360Z"
   },
   {
    "duration": 66,
    "start_time": "2023-01-28T06:24:15.437Z"
   },
   {
    "duration": 70,
    "start_time": "2023-01-28T06:24:15.506Z"
   },
   {
    "duration": 580,
    "start_time": "2023-01-28T06:24:15.578Z"
   },
   {
    "duration": 71,
    "start_time": "2023-01-28T06:24:16.160Z"
   },
   {
    "duration": 679,
    "start_time": "2023-01-28T06:24:16.232Z"
   },
   {
    "duration": 59,
    "start_time": "2023-01-28T06:24:16.913Z"
   },
   {
    "duration": 603,
    "start_time": "2023-01-28T06:24:16.974Z"
   },
   {
    "duration": 72,
    "start_time": "2023-01-28T06:24:17.579Z"
   },
   {
    "duration": 17,
    "start_time": "2023-01-28T06:24:17.653Z"
   },
   {
    "duration": 14,
    "start_time": "2023-01-28T06:24:17.672Z"
   },
   {
    "duration": 45,
    "start_time": "2023-01-28T06:24:17.687Z"
   },
   {
    "duration": 70,
    "start_time": "2023-01-28T06:24:17.733Z"
   },
   {
    "duration": 536,
    "start_time": "2023-01-28T06:24:17.805Z"
   },
   {
    "duration": 0,
    "start_time": "2023-01-28T06:24:18.342Z"
   },
   {
    "duration": 0,
    "start_time": "2023-01-28T06:24:18.344Z"
   },
   {
    "duration": 0,
    "start_time": "2023-01-28T06:24:18.345Z"
   },
   {
    "duration": 0,
    "start_time": "2023-01-28T06:24:18.346Z"
   },
   {
    "duration": 0,
    "start_time": "2023-01-28T06:24:18.348Z"
   },
   {
    "duration": 0,
    "start_time": "2023-01-28T06:24:18.349Z"
   },
   {
    "duration": 0,
    "start_time": "2023-01-28T06:24:18.350Z"
   },
   {
    "duration": 2105,
    "start_time": "2023-01-28T06:36:26.703Z"
   },
   {
    "duration": 365,
    "start_time": "2023-01-28T06:36:28.810Z"
   },
   {
    "duration": 15,
    "start_time": "2023-01-28T06:36:29.177Z"
   },
   {
    "duration": 15,
    "start_time": "2023-01-28T06:36:29.194Z"
   },
   {
    "duration": 23,
    "start_time": "2023-01-28T06:36:29.211Z"
   },
   {
    "duration": 22,
    "start_time": "2023-01-28T06:36:29.236Z"
   },
   {
    "duration": 16,
    "start_time": "2023-01-28T06:36:29.260Z"
   },
   {
    "duration": 40,
    "start_time": "2023-01-28T06:36:29.278Z"
   },
   {
    "duration": 97,
    "start_time": "2023-01-28T06:36:29.320Z"
   },
   {
    "duration": 55,
    "start_time": "2023-01-28T06:36:29.421Z"
   },
   {
    "duration": 62,
    "start_time": "2023-01-28T06:36:29.478Z"
   },
   {
    "duration": 542,
    "start_time": "2023-01-28T06:36:29.542Z"
   },
   {
    "duration": 67,
    "start_time": "2023-01-28T06:36:30.086Z"
   },
   {
    "duration": 674,
    "start_time": "2023-01-28T06:36:30.155Z"
   },
   {
    "duration": 69,
    "start_time": "2023-01-28T06:36:30.831Z"
   },
   {
    "duration": 583,
    "start_time": "2023-01-28T06:36:30.902Z"
   },
   {
    "duration": 70,
    "start_time": "2023-01-28T06:36:31.487Z"
   },
   {
    "duration": 19,
    "start_time": "2023-01-28T06:36:31.559Z"
   },
   {
    "duration": 51,
    "start_time": "2023-01-28T06:36:31.579Z"
   },
   {
    "duration": 69,
    "start_time": "2023-01-28T06:36:31.632Z"
   },
   {
    "duration": 36,
    "start_time": "2023-01-28T06:36:31.704Z"
   },
   {
    "duration": 156,
    "start_time": "2023-01-28T06:36:31.743Z"
   },
   {
    "duration": 515,
    "start_time": "2023-01-28T06:36:31.903Z"
   },
   {
    "duration": 3,
    "start_time": "2023-01-28T06:36:32.420Z"
   },
   {
    "duration": 29,
    "start_time": "2023-01-28T06:36:32.424Z"
   },
   {
    "duration": 30,
    "start_time": "2023-01-28T06:36:32.455Z"
   },
   {
    "duration": 32,
    "start_time": "2023-01-28T06:36:32.487Z"
   },
   {
    "duration": 12,
    "start_time": "2023-01-28T06:36:32.522Z"
   },
   {
    "duration": 2692,
    "start_time": "2023-01-28T06:36:32.536Z"
   },
   {
    "duration": 8,
    "start_time": "2023-01-28T06:47:53.732Z"
   },
   {
    "duration": 2142,
    "start_time": "2023-01-28T06:50:30.854Z"
   },
   {
    "duration": 446,
    "start_time": "2023-01-28T06:50:32.998Z"
   },
   {
    "duration": 15,
    "start_time": "2023-01-28T06:50:33.445Z"
   },
   {
    "duration": 11,
    "start_time": "2023-01-28T06:50:33.462Z"
   },
   {
    "duration": 12,
    "start_time": "2023-01-28T06:50:33.474Z"
   },
   {
    "duration": 18,
    "start_time": "2023-01-28T06:50:33.499Z"
   },
   {
    "duration": 36,
    "start_time": "2023-01-28T06:50:33.519Z"
   },
   {
    "duration": 14,
    "start_time": "2023-01-28T06:50:33.557Z"
   },
   {
    "duration": 81,
    "start_time": "2023-01-28T06:50:33.573Z"
   },
   {
    "duration": 48,
    "start_time": "2023-01-28T06:50:33.656Z"
   },
   {
    "duration": 63,
    "start_time": "2023-01-28T06:50:33.706Z"
   },
   {
    "duration": 850,
    "start_time": "2023-01-28T06:50:33.771Z"
   },
   {
    "duration": 74,
    "start_time": "2023-01-28T06:50:34.622Z"
   },
   {
    "duration": 786,
    "start_time": "2023-01-28T06:50:34.697Z"
   },
   {
    "duration": 98,
    "start_time": "2023-01-28T06:50:35.485Z"
   },
   {
    "duration": 687,
    "start_time": "2023-01-28T06:50:35.585Z"
   },
   {
    "duration": 86,
    "start_time": "2023-01-28T06:50:36.274Z"
   },
   {
    "duration": 19,
    "start_time": "2023-01-28T06:50:36.362Z"
   },
   {
    "duration": 78,
    "start_time": "2023-01-28T06:50:36.383Z"
   },
   {
    "duration": 59,
    "start_time": "2023-01-28T06:50:36.463Z"
   },
   {
    "duration": 40,
    "start_time": "2023-01-28T06:50:36.524Z"
   },
   {
    "duration": 517,
    "start_time": "2023-01-28T06:50:36.567Z"
   },
   {
    "duration": 0,
    "start_time": "2023-01-28T06:50:37.087Z"
   },
   {
    "duration": 0,
    "start_time": "2023-01-28T06:50:37.088Z"
   },
   {
    "duration": 0,
    "start_time": "2023-01-28T06:50:37.089Z"
   },
   {
    "duration": 0,
    "start_time": "2023-01-28T06:50:37.100Z"
   },
   {
    "duration": 0,
    "start_time": "2023-01-28T06:50:37.101Z"
   },
   {
    "duration": 0,
    "start_time": "2023-01-28T06:50:37.103Z"
   },
   {
    "duration": 0,
    "start_time": "2023-01-28T06:50:37.105Z"
   },
   {
    "duration": 0,
    "start_time": "2023-01-28T06:50:37.107Z"
   },
   {
    "duration": 77,
    "start_time": "2023-01-28T10:19:55.816Z"
   },
   {
    "duration": 3330,
    "start_time": "2023-01-28T10:20:06.540Z"
   },
   {
    "duration": 79,
    "start_time": "2023-01-28T10:20:25.393Z"
   },
   {
    "duration": 71,
    "start_time": "2023-01-28T10:20:29.340Z"
   },
   {
    "duration": 72,
    "start_time": "2023-01-28T10:21:49.036Z"
   },
   {
    "duration": 53,
    "start_time": "2023-01-28T10:25:40.946Z"
   },
   {
    "duration": 3,
    "start_time": "2023-01-28T10:36:37.836Z"
   },
   {
    "duration": 9,
    "start_time": "2023-01-28T10:36:41.083Z"
   },
   {
    "duration": 6,
    "start_time": "2023-01-28T10:41:02.663Z"
   },
   {
    "duration": 69,
    "start_time": "2023-01-28T11:06:17.326Z"
   },
   {
    "duration": 4,
    "start_time": "2023-01-28T11:06:24.198Z"
   },
   {
    "duration": 7,
    "start_time": "2023-01-28T11:08:53.961Z"
   },
   {
    "duration": 1481,
    "start_time": "2023-01-28T11:24:10.748Z"
   },
   {
    "duration": 884,
    "start_time": "2023-01-28T11:24:12.232Z"
   },
   {
    "duration": 13,
    "start_time": "2023-01-28T11:24:13.118Z"
   },
   {
    "duration": 11,
    "start_time": "2023-01-28T11:24:13.133Z"
   },
   {
    "duration": 11,
    "start_time": "2023-01-28T11:24:13.147Z"
   },
   {
    "duration": 17,
    "start_time": "2023-01-28T11:24:13.160Z"
   },
   {
    "duration": 26,
    "start_time": "2023-01-28T11:24:13.179Z"
   },
   {
    "duration": 18,
    "start_time": "2023-01-28T11:24:13.208Z"
   },
   {
    "duration": 52,
    "start_time": "2023-01-28T11:24:13.229Z"
   },
   {
    "duration": 46,
    "start_time": "2023-01-28T11:24:13.303Z"
   },
   {
    "duration": 66,
    "start_time": "2023-01-28T11:24:13.351Z"
   },
   {
    "duration": 637,
    "start_time": "2023-01-28T11:24:13.419Z"
   },
   {
    "duration": 91,
    "start_time": "2023-01-28T11:24:14.059Z"
   },
   {
    "duration": 743,
    "start_time": "2023-01-28T11:24:14.154Z"
   },
   {
    "duration": 65,
    "start_time": "2023-01-28T11:24:14.904Z"
   },
   {
    "duration": 633,
    "start_time": "2023-01-28T11:24:14.971Z"
   },
   {
    "duration": 67,
    "start_time": "2023-01-28T11:24:15.605Z"
   },
   {
    "duration": 32,
    "start_time": "2023-01-28T11:24:15.674Z"
   },
   {
    "duration": 17,
    "start_time": "2023-01-28T11:24:15.708Z"
   },
   {
    "duration": 40,
    "start_time": "2023-01-28T11:24:15.727Z"
   },
   {
    "duration": 94,
    "start_time": "2023-01-28T11:24:15.768Z"
   },
   {
    "duration": 0,
    "start_time": "2023-01-28T11:24:15.864Z"
   },
   {
    "duration": 0,
    "start_time": "2023-01-28T11:24:15.865Z"
   },
   {
    "duration": 0,
    "start_time": "2023-01-28T11:24:15.866Z"
   },
   {
    "duration": 0,
    "start_time": "2023-01-28T11:24:15.867Z"
   },
   {
    "duration": 0,
    "start_time": "2023-01-28T11:24:15.868Z"
   },
   {
    "duration": 0,
    "start_time": "2023-01-28T11:24:15.869Z"
   },
   {
    "duration": 0,
    "start_time": "2023-01-28T11:24:15.870Z"
   },
   {
    "duration": 0,
    "start_time": "2023-01-28T11:24:15.871Z"
   },
   {
    "duration": 4,
    "start_time": "2023-01-28T11:24:58.422Z"
   },
   {
    "duration": 378,
    "start_time": "2023-01-28T11:24:58.428Z"
   },
   {
    "duration": 9,
    "start_time": "2023-01-28T11:24:58.808Z"
   },
   {
    "duration": 16,
    "start_time": "2023-01-28T11:24:58.819Z"
   },
   {
    "duration": 34,
    "start_time": "2023-01-28T11:24:58.837Z"
   },
   {
    "duration": 23,
    "start_time": "2023-01-28T11:24:58.873Z"
   },
   {
    "duration": 14,
    "start_time": "2023-01-28T11:24:58.898Z"
   },
   {
    "duration": 22,
    "start_time": "2023-01-28T11:24:58.914Z"
   },
   {
    "duration": 50,
    "start_time": "2023-01-28T11:24:58.938Z"
   },
   {
    "duration": 43,
    "start_time": "2023-01-28T11:24:59.003Z"
   },
   {
    "duration": 63,
    "start_time": "2023-01-28T11:24:59.048Z"
   },
   {
    "duration": 592,
    "start_time": "2023-01-28T11:24:59.113Z"
   },
   {
    "duration": 71,
    "start_time": "2023-01-28T11:24:59.706Z"
   },
   {
    "duration": 607,
    "start_time": "2023-01-28T11:24:59.780Z"
   },
   {
    "duration": 68,
    "start_time": "2023-01-28T11:25:00.388Z"
   },
   {
    "duration": 749,
    "start_time": "2023-01-28T11:25:00.458Z"
   },
   {
    "duration": 73,
    "start_time": "2023-01-28T11:25:01.209Z"
   },
   {
    "duration": 31,
    "start_time": "2023-01-28T11:25:01.283Z"
   },
   {
    "duration": 79,
    "start_time": "2023-01-28T11:25:01.316Z"
   },
   {
    "duration": 99,
    "start_time": "2023-01-28T11:25:01.398Z"
   },
   {
    "duration": 4,
    "start_time": "2023-01-28T11:25:05.681Z"
   },
   {
    "duration": 386,
    "start_time": "2023-01-28T11:25:05.687Z"
   },
   {
    "duration": 10,
    "start_time": "2023-01-28T11:25:06.075Z"
   },
   {
    "duration": 24,
    "start_time": "2023-01-28T11:25:06.088Z"
   },
   {
    "duration": 49,
    "start_time": "2023-01-28T11:25:06.114Z"
   },
   {
    "duration": 32,
    "start_time": "2023-01-28T11:25:06.164Z"
   },
   {
    "duration": 35,
    "start_time": "2023-01-28T11:25:06.197Z"
   },
   {
    "duration": 20,
    "start_time": "2023-01-28T11:25:06.233Z"
   },
   {
    "duration": 61,
    "start_time": "2023-01-28T11:25:06.254Z"
   },
   {
    "duration": 61,
    "start_time": "2023-01-28T11:25:06.323Z"
   },
   {
    "duration": 57,
    "start_time": "2023-01-28T11:25:06.386Z"
   },
   {
    "duration": 575,
    "start_time": "2023-01-28T11:25:06.445Z"
   },
   {
    "duration": 64,
    "start_time": "2023-01-28T11:25:07.022Z"
   },
   {
    "duration": 1038,
    "start_time": "2023-01-28T11:25:07.088Z"
   },
   {
    "duration": 109,
    "start_time": "2023-01-28T11:25:08.127Z"
   },
   {
    "duration": 1140,
    "start_time": "2023-01-28T11:25:08.238Z"
   },
   {
    "duration": 73,
    "start_time": "2023-01-28T11:25:09.379Z"
   },
   {
    "duration": 14,
    "start_time": "2023-01-28T11:25:09.454Z"
   },
   {
    "duration": 37,
    "start_time": "2023-01-28T11:25:09.469Z"
   },
   {
    "duration": 145,
    "start_time": "2023-01-28T11:25:09.508Z"
   },
   {
    "duration": 258,
    "start_time": "2023-01-28T11:25:09.655Z"
   },
   {
    "duration": 691,
    "start_time": "2023-01-28T11:25:09.917Z"
   },
   {
    "duration": 195,
    "start_time": "2023-01-28T11:25:10.610Z"
   },
   {
    "duration": 107,
    "start_time": "2023-01-28T11:25:10.807Z"
   },
   {
    "duration": 24,
    "start_time": "2023-01-28T11:25:10.916Z"
   },
   {
    "duration": 13,
    "start_time": "2023-01-28T11:25:10.941Z"
   },
   {
    "duration": 95,
    "start_time": "2023-01-28T11:25:10.956Z"
   },
   {
    "duration": 0,
    "start_time": "2023-01-28T11:25:11.053Z"
   },
   {
    "duration": 0,
    "start_time": "2023-01-28T11:25:11.055Z"
   },
   {
    "duration": 0,
    "start_time": "2023-01-28T11:25:11.056Z"
   },
   {
    "duration": 16,
    "start_time": "2023-01-28T11:25:45.121Z"
   },
   {
    "duration": 0,
    "start_time": "2023-01-28T11:25:45.139Z"
   },
   {
    "duration": 0,
    "start_time": "2023-01-28T11:25:45.140Z"
   },
   {
    "duration": 0,
    "start_time": "2023-01-28T11:25:45.142Z"
   },
   {
    "duration": 3,
    "start_time": "2023-01-28T11:26:17.337Z"
   },
   {
    "duration": 32,
    "start_time": "2023-01-28T11:26:17.343Z"
   },
   {
    "duration": 0,
    "start_time": "2023-01-28T11:26:17.378Z"
   },
   {
    "duration": 0,
    "start_time": "2023-01-28T11:26:17.379Z"
   },
   {
    "duration": 0,
    "start_time": "2023-01-28T11:26:17.382Z"
   },
   {
    "duration": 4,
    "start_time": "2023-01-28T11:28:07.032Z"
   },
   {
    "duration": 29,
    "start_time": "2023-01-28T11:28:08.748Z"
   },
   {
    "duration": 3,
    "start_time": "2023-01-28T11:28:34.758Z"
   },
   {
    "duration": 22,
    "start_time": "2023-01-28T11:28:36.883Z"
   },
   {
    "duration": 4,
    "start_time": "2023-01-28T11:29:46.237Z"
   },
   {
    "duration": 28,
    "start_time": "2023-01-28T11:29:48.064Z"
   },
   {
    "duration": 3,
    "start_time": "2023-01-28T11:30:04.360Z"
   },
   {
    "duration": 20,
    "start_time": "2023-01-28T11:30:07.445Z"
   },
   {
    "duration": 3,
    "start_time": "2023-01-28T11:30:33.756Z"
   },
   {
    "duration": 31,
    "start_time": "2023-01-28T11:30:36.115Z"
   },
   {
    "duration": 4,
    "start_time": "2023-01-28T11:31:22.858Z"
   },
   {
    "duration": 33,
    "start_time": "2023-01-28T11:31:26.291Z"
   },
   {
    "duration": 4,
    "start_time": "2023-01-28T11:34:00.849Z"
   },
   {
    "duration": 19,
    "start_time": "2023-01-28T11:34:02.737Z"
   },
   {
    "duration": 80,
    "start_time": "2023-01-28T11:34:09.151Z"
   },
   {
    "duration": 5,
    "start_time": "2023-01-28T11:34:25.047Z"
   },
   {
    "duration": 7,
    "start_time": "2023-01-28T11:34:32.235Z"
   },
   {
    "duration": 3635,
    "start_time": "2023-01-28T11:34:37.663Z"
   },
   {
    "duration": 3672,
    "start_time": "2023-01-28T11:35:05.693Z"
   },
   {
    "duration": 3748,
    "start_time": "2023-01-28T11:35:28.892Z"
   },
   {
    "duration": 5,
    "start_time": "2023-01-28T11:35:48.772Z"
   },
   {
    "duration": 4,
    "start_time": "2023-01-28T11:35:50.466Z"
   },
   {
    "duration": 5238,
    "start_time": "2023-01-28T11:35:52.579Z"
   },
   {
    "duration": 5,
    "start_time": "2023-01-28T11:36:56.578Z"
   },
   {
    "duration": 5,
    "start_time": "2023-01-28T11:37:01.958Z"
   },
   {
    "duration": 5155,
    "start_time": "2023-01-28T11:37:04.284Z"
   },
   {
    "duration": 4940,
    "start_time": "2023-01-28T11:38:08.436Z"
   },
   {
    "duration": 1728,
    "start_time": "2023-01-28T11:38:25.493Z"
   },
   {
    "duration": 5224,
    "start_time": "2023-01-28T11:38:29.641Z"
   },
   {
    "duration": 5062,
    "start_time": "2023-01-28T11:38:37.854Z"
   },
   {
    "duration": 1291,
    "start_time": "2023-01-28T11:44:25.335Z"
   },
   {
    "duration": 339,
    "start_time": "2023-01-28T11:44:26.628Z"
   },
   {
    "duration": 14,
    "start_time": "2023-01-28T11:44:26.969Z"
   },
   {
    "duration": 20,
    "start_time": "2023-01-28T11:44:26.984Z"
   },
   {
    "duration": 14,
    "start_time": "2023-01-28T11:44:27.008Z"
   },
   {
    "duration": 27,
    "start_time": "2023-01-28T11:44:27.024Z"
   },
   {
    "duration": 14,
    "start_time": "2023-01-28T11:44:27.052Z"
   },
   {
    "duration": 15,
    "start_time": "2023-01-28T11:44:27.068Z"
   },
   {
    "duration": 68,
    "start_time": "2023-01-28T11:44:27.085Z"
   },
   {
    "duration": 65,
    "start_time": "2023-01-28T11:44:27.154Z"
   },
   {
    "duration": 61,
    "start_time": "2023-01-28T11:44:27.221Z"
   },
   {
    "duration": 592,
    "start_time": "2023-01-28T11:44:27.284Z"
   },
   {
    "duration": 74,
    "start_time": "2023-01-28T11:44:27.878Z"
   },
   {
    "duration": 697,
    "start_time": "2023-01-28T11:44:27.954Z"
   },
   {
    "duration": 71,
    "start_time": "2023-01-28T11:44:28.654Z"
   },
   {
    "duration": 627,
    "start_time": "2023-01-28T11:44:28.727Z"
   },
   {
    "duration": 90,
    "start_time": "2023-01-28T11:44:29.356Z"
   },
   {
    "duration": 21,
    "start_time": "2023-01-28T11:44:29.449Z"
   },
   {
    "duration": 19,
    "start_time": "2023-01-28T11:44:29.472Z"
   },
   {
    "duration": 67,
    "start_time": "2023-01-28T11:44:29.493Z"
   },
   {
    "duration": 143,
    "start_time": "2023-01-28T11:44:29.561Z"
   },
   {
    "duration": 575,
    "start_time": "2023-01-28T11:44:29.706Z"
   },
   {
    "duration": 120,
    "start_time": "2023-01-28T11:44:30.283Z"
   },
   {
    "duration": 105,
    "start_time": "2023-01-28T11:44:30.410Z"
   },
   {
    "duration": 38,
    "start_time": "2023-01-28T11:44:30.516Z"
   },
   {
    "duration": 44,
    "start_time": "2023-01-28T11:44:30.556Z"
   },
   {
    "duration": 26,
    "start_time": "2023-01-28T11:44:30.602Z"
   },
   {
    "duration": 6,
    "start_time": "2023-01-28T11:44:30.629Z"
   },
   {
    "duration": 21,
    "start_time": "2023-01-28T11:44:30.637Z"
   },
   {
    "duration": 5212,
    "start_time": "2023-01-28T11:44:30.660Z"
   },
   {
    "duration": 2103,
    "start_time": "2023-01-28T12:40:39.336Z"
   },
   {
    "duration": 442,
    "start_time": "2023-01-28T12:40:41.445Z"
   },
   {
    "duration": 15,
    "start_time": "2023-01-28T12:40:41.890Z"
   },
   {
    "duration": 59,
    "start_time": "2023-01-28T12:40:41.908Z"
   },
   {
    "duration": 19,
    "start_time": "2023-01-28T12:40:41.969Z"
   },
   {
    "duration": 77,
    "start_time": "2023-01-28T12:40:41.990Z"
   },
   {
    "duration": 21,
    "start_time": "2023-01-28T12:40:42.069Z"
   },
   {
    "duration": 23,
    "start_time": "2023-01-28T12:40:42.092Z"
   },
   {
    "duration": 112,
    "start_time": "2023-01-28T12:40:42.119Z"
   },
   {
    "duration": 50,
    "start_time": "2023-01-28T12:40:42.234Z"
   },
   {
    "duration": 83,
    "start_time": "2023-01-28T12:40:42.286Z"
   },
   {
    "duration": 699,
    "start_time": "2023-01-28T12:40:42.371Z"
   },
   {
    "duration": 92,
    "start_time": "2023-01-28T12:40:43.072Z"
   },
   {
    "duration": 832,
    "start_time": "2023-01-28T12:40:43.166Z"
   },
   {
    "duration": 78,
    "start_time": "2023-01-28T12:40:44.004Z"
   },
   {
    "duration": 855,
    "start_time": "2023-01-28T12:40:44.084Z"
   },
   {
    "duration": 98,
    "start_time": "2023-01-28T12:40:44.941Z"
   },
   {
    "duration": 18,
    "start_time": "2023-01-28T12:40:45.047Z"
   },
   {
    "duration": 56,
    "start_time": "2023-01-28T12:40:45.067Z"
   },
   {
    "duration": 100,
    "start_time": "2023-01-28T12:40:45.129Z"
   },
   {
    "duration": 301,
    "start_time": "2023-01-28T12:40:45.233Z"
   },
   {
    "duration": 604,
    "start_time": "2023-01-28T12:40:45.555Z"
   },
   {
    "duration": 163,
    "start_time": "2023-01-28T12:40:46.161Z"
   },
   {
    "duration": 8,
    "start_time": "2023-01-28T12:40:46.333Z"
   },
   {
    "duration": 112,
    "start_time": "2023-01-28T12:40:46.348Z"
   },
   {
    "duration": 14,
    "start_time": "2023-01-28T12:40:46.462Z"
   },
   {
    "duration": 76,
    "start_time": "2023-01-28T12:40:46.478Z"
   },
   {
    "duration": 20,
    "start_time": "2023-01-28T12:40:46.558Z"
   },
   {
    "duration": 74,
    "start_time": "2023-01-28T12:40:46.580Z"
   },
   {
    "duration": 190,
    "start_time": "2023-01-28T12:40:46.656Z"
   },
   {
    "duration": 8,
    "start_time": "2023-01-28T12:42:37.537Z"
   },
   {
    "duration": 7,
    "start_time": "2023-01-28T12:42:58.793Z"
   },
   {
    "duration": 2227,
    "start_time": "2023-01-28T12:47:11.648Z"
   },
   {
    "duration": 441,
    "start_time": "2023-01-28T12:47:13.877Z"
   },
   {
    "duration": 16,
    "start_time": "2023-01-28T12:47:14.320Z"
   },
   {
    "duration": 39,
    "start_time": "2023-01-28T12:47:14.338Z"
   },
   {
    "duration": 58,
    "start_time": "2023-01-28T12:47:14.378Z"
   },
   {
    "duration": 32,
    "start_time": "2023-01-28T12:47:14.440Z"
   },
   {
    "duration": 44,
    "start_time": "2023-01-28T12:47:14.474Z"
   },
   {
    "duration": 23,
    "start_time": "2023-01-28T12:47:14.526Z"
   },
   {
    "duration": 89,
    "start_time": "2023-01-28T12:47:14.551Z"
   },
   {
    "duration": 66,
    "start_time": "2023-01-28T12:47:14.645Z"
   },
   {
    "duration": 76,
    "start_time": "2023-01-28T12:47:14.713Z"
   },
   {
    "duration": 690,
    "start_time": "2023-01-28T12:47:14.802Z"
   },
   {
    "duration": 81,
    "start_time": "2023-01-28T12:47:15.494Z"
   },
   {
    "duration": 687,
    "start_time": "2023-01-28T12:47:15.577Z"
   },
   {
    "duration": 84,
    "start_time": "2023-01-28T12:47:16.266Z"
   },
   {
    "duration": 801,
    "start_time": "2023-01-28T12:47:16.352Z"
   },
   {
    "duration": 92,
    "start_time": "2023-01-28T12:47:17.155Z"
   },
   {
    "duration": 20,
    "start_time": "2023-01-28T12:47:17.250Z"
   },
   {
    "duration": 36,
    "start_time": "2023-01-28T12:47:17.272Z"
   },
   {
    "duration": 109,
    "start_time": "2023-01-28T12:47:17.310Z"
   },
   {
    "duration": 90,
    "start_time": "2023-01-28T12:47:17.423Z"
   },
   {
    "duration": 785,
    "start_time": "2023-01-28T12:47:17.515Z"
   },
   {
    "duration": 108,
    "start_time": "2023-01-28T12:47:18.308Z"
   },
   {
    "duration": 107,
    "start_time": "2023-01-28T12:47:18.420Z"
   },
   {
    "duration": 8,
    "start_time": "2023-01-28T12:47:18.530Z"
   },
   {
    "duration": 9,
    "start_time": "2023-01-28T12:47:18.540Z"
   },
   {
    "duration": 32,
    "start_time": "2023-01-28T12:47:18.551Z"
   },
   {
    "duration": 8,
    "start_time": "2023-01-28T12:47:18.587Z"
   },
   {
    "duration": 34,
    "start_time": "2023-01-28T12:47:18.597Z"
   },
   {
    "duration": 134,
    "start_time": "2023-01-28T12:47:18.633Z"
   },
   {
    "duration": 2056,
    "start_time": "2023-01-28T12:48:56.006Z"
   },
   {
    "duration": 386,
    "start_time": "2023-01-28T12:48:58.064Z"
   },
   {
    "duration": 15,
    "start_time": "2023-01-28T12:48:58.451Z"
   },
   {
    "duration": 15,
    "start_time": "2023-01-28T12:48:58.468Z"
   },
   {
    "duration": 34,
    "start_time": "2023-01-28T12:48:58.484Z"
   },
   {
    "duration": 53,
    "start_time": "2023-01-28T12:48:58.523Z"
   },
   {
    "duration": 14,
    "start_time": "2023-01-28T12:48:58.578Z"
   },
   {
    "duration": 37,
    "start_time": "2023-01-28T12:48:58.595Z"
   },
   {
    "duration": 47,
    "start_time": "2023-01-28T12:48:58.633Z"
   },
   {
    "duration": 50,
    "start_time": "2023-01-28T12:48:58.683Z"
   },
   {
    "duration": 51,
    "start_time": "2023-01-28T12:48:58.734Z"
   },
   {
    "duration": 793,
    "start_time": "2023-01-28T12:48:58.787Z"
   },
   {
    "duration": 85,
    "start_time": "2023-01-28T12:48:59.582Z"
   },
   {
    "duration": 764,
    "start_time": "2023-01-28T12:48:59.669Z"
   },
   {
    "duration": 83,
    "start_time": "2023-01-28T12:49:00.435Z"
   },
   {
    "duration": 895,
    "start_time": "2023-01-28T12:49:00.520Z"
   },
   {
    "duration": 77,
    "start_time": "2023-01-28T12:49:01.421Z"
   },
   {
    "duration": 24,
    "start_time": "2023-01-28T12:49:01.500Z"
   },
   {
    "duration": 38,
    "start_time": "2023-01-28T12:49:01.526Z"
   },
   {
    "duration": 67,
    "start_time": "2023-01-28T12:49:01.567Z"
   },
   {
    "duration": 80,
    "start_time": "2023-01-28T12:49:01.637Z"
   },
   {
    "duration": 694,
    "start_time": "2023-01-28T12:49:01.725Z"
   },
   {
    "duration": 210,
    "start_time": "2023-01-28T12:49:02.421Z"
   },
   {
    "duration": 98,
    "start_time": "2023-01-28T12:49:02.637Z"
   },
   {
    "duration": 43,
    "start_time": "2023-01-28T12:49:02.738Z"
   },
   {
    "duration": 65,
    "start_time": "2023-01-28T12:49:02.783Z"
   },
   {
    "duration": 71,
    "start_time": "2023-01-28T12:49:02.850Z"
   },
   {
    "duration": 19,
    "start_time": "2023-01-28T12:49:02.926Z"
   },
   {
    "duration": 33,
    "start_time": "2023-01-28T12:49:02.947Z"
   },
   {
    "duration": 224,
    "start_time": "2023-01-28T12:49:02.982Z"
   },
   {
    "duration": 5,
    "start_time": "2023-01-28T12:49:41.164Z"
   },
   {
    "duration": 2169,
    "start_time": "2023-01-28T12:51:00.321Z"
   },
   {
    "duration": 398,
    "start_time": "2023-01-28T12:51:02.493Z"
   },
   {
    "duration": 30,
    "start_time": "2023-01-28T12:51:02.893Z"
   },
   {
    "duration": 24,
    "start_time": "2023-01-28T12:51:02.925Z"
   },
   {
    "duration": 79,
    "start_time": "2023-01-28T12:51:02.951Z"
   },
   {
    "duration": 41,
    "start_time": "2023-01-28T12:51:03.032Z"
   },
   {
    "duration": 22,
    "start_time": "2023-01-28T12:51:03.075Z"
   },
   {
    "duration": 56,
    "start_time": "2023-01-28T12:51:03.099Z"
   },
   {
    "duration": 88,
    "start_time": "2023-01-28T12:51:03.157Z"
   },
   {
    "duration": 75,
    "start_time": "2023-01-28T12:51:03.249Z"
   },
   {
    "duration": 56,
    "start_time": "2023-01-28T12:51:03.327Z"
   },
   {
    "duration": 637,
    "start_time": "2023-01-28T12:51:03.385Z"
   },
   {
    "duration": 108,
    "start_time": "2023-01-28T12:51:04.024Z"
   },
   {
    "duration": 697,
    "start_time": "2023-01-28T12:51:04.135Z"
   },
   {
    "duration": 78,
    "start_time": "2023-01-28T12:51:04.834Z"
   },
   {
    "duration": 705,
    "start_time": "2023-01-28T12:51:04.917Z"
   },
   {
    "duration": 68,
    "start_time": "2023-01-28T12:51:05.624Z"
   },
   {
    "duration": 17,
    "start_time": "2023-01-28T12:51:05.715Z"
   },
   {
    "duration": 14,
    "start_time": "2023-01-28T12:51:05.734Z"
   },
   {
    "duration": 45,
    "start_time": "2023-01-28T12:51:05.749Z"
   },
   {
    "duration": 208,
    "start_time": "2023-01-28T12:51:05.796Z"
   },
   {
    "duration": 619,
    "start_time": "2023-01-28T12:51:06.010Z"
   },
   {
    "duration": 88,
    "start_time": "2023-01-28T12:51:06.631Z"
   },
   {
    "duration": 81,
    "start_time": "2023-01-28T12:51:06.724Z"
   },
   {
    "duration": 110,
    "start_time": "2023-01-28T12:51:06.816Z"
   },
   {
    "duration": 6,
    "start_time": "2023-01-28T12:51:06.928Z"
   },
   {
    "duration": 27,
    "start_time": "2023-01-28T12:51:06.936Z"
   },
   {
    "duration": 5,
    "start_time": "2023-01-28T12:51:06.967Z"
   },
   {
    "duration": 27,
    "start_time": "2023-01-28T12:51:06.974Z"
   },
   {
    "duration": 142,
    "start_time": "2023-01-28T12:51:07.008Z"
   },
   {
    "duration": 2057,
    "start_time": "2023-01-28T12:53:49.992Z"
   },
   {
    "duration": 402,
    "start_time": "2023-01-28T12:53:52.051Z"
   },
   {
    "duration": 15,
    "start_time": "2023-01-28T12:53:52.454Z"
   },
   {
    "duration": 10,
    "start_time": "2023-01-28T12:53:52.472Z"
   },
   {
    "duration": 27,
    "start_time": "2023-01-28T12:53:52.484Z"
   },
   {
    "duration": 45,
    "start_time": "2023-01-28T12:53:52.512Z"
   },
   {
    "duration": 15,
    "start_time": "2023-01-28T12:53:52.559Z"
   },
   {
    "duration": 17,
    "start_time": "2023-01-28T12:53:52.575Z"
   },
   {
    "duration": 66,
    "start_time": "2023-01-28T12:53:52.594Z"
   },
   {
    "duration": 71,
    "start_time": "2023-01-28T12:53:52.663Z"
   },
   {
    "duration": 54,
    "start_time": "2023-01-28T12:53:52.736Z"
   },
   {
    "duration": 682,
    "start_time": "2023-01-28T12:53:52.791Z"
   },
   {
    "duration": 87,
    "start_time": "2023-01-28T12:53:53.475Z"
   },
   {
    "duration": 774,
    "start_time": "2023-01-28T12:53:53.563Z"
   },
   {
    "duration": 94,
    "start_time": "2023-01-28T12:53:54.347Z"
   },
   {
    "duration": 844,
    "start_time": "2023-01-28T12:53:54.442Z"
   },
   {
    "duration": 78,
    "start_time": "2023-01-28T12:53:55.288Z"
   },
   {
    "duration": 21,
    "start_time": "2023-01-28T12:53:55.368Z"
   },
   {
    "duration": 14,
    "start_time": "2023-01-28T12:53:55.407Z"
   },
   {
    "duration": 57,
    "start_time": "2023-01-28T12:53:55.423Z"
   },
   {
    "duration": 51,
    "start_time": "2023-01-28T12:53:55.482Z"
   },
   {
    "duration": 591,
    "start_time": "2023-01-28T12:53:55.607Z"
   },
   {
    "duration": 232,
    "start_time": "2023-01-28T12:53:56.200Z"
   },
   {
    "duration": 63,
    "start_time": "2023-01-28T12:53:56.443Z"
   },
   {
    "duration": 39,
    "start_time": "2023-01-28T12:53:56.509Z"
   },
   {
    "duration": 9,
    "start_time": "2023-01-28T12:53:56.549Z"
   },
   {
    "duration": 141,
    "start_time": "2023-01-28T12:53:56.560Z"
   },
   {
    "duration": 0,
    "start_time": "2023-01-28T12:53:56.702Z"
   },
   {
    "duration": 0,
    "start_time": "2023-01-28T12:53:56.703Z"
   },
   {
    "duration": 0,
    "start_time": "2023-01-28T12:53:56.704Z"
   },
   {
    "duration": 7,
    "start_time": "2023-01-28T12:54:45.336Z"
   },
   {
    "duration": 5840,
    "start_time": "2023-01-28T12:54:53.289Z"
   },
   {
    "duration": 1912,
    "start_time": "2023-01-28T12:55:51.356Z"
   },
   {
    "duration": 417,
    "start_time": "2023-01-28T12:55:53.269Z"
   },
   {
    "duration": 16,
    "start_time": "2023-01-28T12:55:53.688Z"
   },
   {
    "duration": 38,
    "start_time": "2023-01-28T12:55:53.706Z"
   },
   {
    "duration": 14,
    "start_time": "2023-01-28T12:55:53.746Z"
   },
   {
    "duration": 27,
    "start_time": "2023-01-28T12:55:53.762Z"
   },
   {
    "duration": 22,
    "start_time": "2023-01-28T12:55:53.791Z"
   },
   {
    "duration": 30,
    "start_time": "2023-01-28T12:55:53.814Z"
   },
   {
    "duration": 52,
    "start_time": "2023-01-28T12:55:53.846Z"
   },
   {
    "duration": 56,
    "start_time": "2023-01-28T12:55:53.900Z"
   },
   {
    "duration": 69,
    "start_time": "2023-01-28T12:55:53.958Z"
   },
   {
    "duration": 692,
    "start_time": "2023-01-28T12:55:54.030Z"
   },
   {
    "duration": 72,
    "start_time": "2023-01-28T12:55:54.723Z"
   },
   {
    "duration": 661,
    "start_time": "2023-01-28T12:55:54.804Z"
   },
   {
    "duration": 75,
    "start_time": "2023-01-28T12:55:55.467Z"
   },
   {
    "duration": 736,
    "start_time": "2023-01-28T12:55:55.543Z"
   },
   {
    "duration": 85,
    "start_time": "2023-01-28T12:55:56.281Z"
   },
   {
    "duration": 16,
    "start_time": "2023-01-28T12:55:56.367Z"
   },
   {
    "duration": 74,
    "start_time": "2023-01-28T12:55:56.385Z"
   },
   {
    "duration": 76,
    "start_time": "2023-01-28T12:55:56.461Z"
   },
   {
    "duration": 88,
    "start_time": "2023-01-28T12:55:56.539Z"
   },
   {
    "duration": 653,
    "start_time": "2023-01-28T12:55:56.628Z"
   },
   {
    "duration": 58,
    "start_time": "2023-01-28T12:55:57.282Z"
   },
   {
    "duration": 198,
    "start_time": "2023-01-28T12:55:57.344Z"
   },
   {
    "duration": 29,
    "start_time": "2023-01-28T12:55:57.544Z"
   },
   {
    "duration": 27,
    "start_time": "2023-01-28T12:55:57.575Z"
   },
   {
    "duration": 63,
    "start_time": "2023-01-28T12:55:57.606Z"
   },
   {
    "duration": 13,
    "start_time": "2023-01-28T12:55:57.672Z"
   },
   {
    "duration": 55,
    "start_time": "2023-01-28T12:55:57.686Z"
   },
   {
    "duration": 5596,
    "start_time": "2023-01-28T12:55:57.743Z"
   }
  ],
  "celltoolbar": "Отсутствует",
  "kernelspec": {
   "display_name": "Python 3 (ipykernel)",
   "language": "python",
   "name": "python3"
  },
  "language_info": {
   "codemirror_mode": {
    "name": "ipython",
    "version": 3
   },
   "file_extension": ".py",
   "mimetype": "text/x-python",
   "name": "python",
   "nbconvert_exporter": "python",
   "pygments_lexer": "ipython3",
   "version": "3.9.12"
  },
  "toc": {
   "base_numbering": 1,
   "nav_menu": {
    "height": "223.983px",
    "width": "221.983px"
   },
   "number_sections": true,
   "sideBar": true,
   "skip_h1_title": true,
   "title_cell": "Table of Contents",
   "title_sidebar": "Contents",
   "toc_cell": false,
   "toc_position": {
    "height": "calc(100% - 180px)",
    "left": "10px",
    "top": "150px",
    "width": "214px"
   },
   "toc_section_display": true,
   "toc_window_display": true
  }
 },
 "nbformat": 4,
 "nbformat_minor": 2
}
